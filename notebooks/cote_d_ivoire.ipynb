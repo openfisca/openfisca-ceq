{
 "cells": [
  {
   "cell_type": "code",
   "execution_count": 1,
   "metadata": {
    "papermill": {
     "duration": 4.535143,
     "end_time": "2020-03-04T15:17:18.013332",
     "exception": false,
     "start_time": "2020-03-04T15:17:13.478189",
     "status": "completed"
    },
    "tags": []
   },
   "outputs": [],
   "source": [
    "import pandas as pd\n",
    "from openfisca_ceq.tools.survey_scenario import build_ceq_survey_scenario\n",
    "from openfisca_ceq.tools.indirect_taxation.tax_benefit_system_indirect_taxation_completion import indirect_tax_by_country\n",
    "from openfisca_ceq.tools.data import year_by_country\n",
    "from openfisca_ceq.tools.data_ceq_correspondence import (\n",
    "    ceq_input_by_harmonized_variable,\n",
    "    ceq_intermediate_by_harmonized_variable,\n",
    "    non_ceq_input_by_harmonized_variable,\n",
    "    )"
   ]
  },
  {
   "cell_type": "markdown",
   "metadata": {
    "papermill": {
     "duration": 0.009642,
     "end_time": "2020-03-04T15:17:18.037442",
     "exception": false,
     "start_time": "2020-03-04T15:17:18.027800",
     "status": "completed"
    },
    "tags": []
   },
   "source": [
    "# Build country scenario"
   ]
  },
  {
   "cell_type": "markdown",
   "metadata": {
    "papermill": {
     "duration": 0.009757,
     "end_time": "2020-03-04T15:17:18.057602",
     "exception": false,
     "start_time": "2020-03-04T15:17:18.047845",
     "status": "completed"
    },
    "tags": []
   },
   "source": [
    "## Country selection"
   ]
  },
  {
   "cell_type": "code",
   "execution_count": 2,
   "metadata": {
    "papermill": {
     "duration": 0.016354,
     "end_time": "2020-03-04T15:17:18.084403",
     "exception": false,
     "start_time": "2020-03-04T15:17:18.068049",
     "status": "completed"
    },
    "tags": [
     "parameters"
    ]
   },
   "outputs": [],
   "source": [
    "country = \"cote_d_ivoire\""
   ]
  },
  {
   "cell_type": "code",
   "execution_count": 3,
   "metadata": {
    "papermill": {
     "duration": 0.01579,
     "end_time": "2020-03-04T15:17:18.110789",
     "exception": false,
     "start_time": "2020-03-04T15:17:18.094999",
     "status": "completed"
    },
    "tags": [
     "injected-parameters"
    ]
   },
   "outputs": [],
   "source": [
    "# Parameters\n",
    "country = \"cote_d_ivoire\"\n"
   ]
  },
  {
   "cell_type": "code",
   "execution_count": 4,
   "metadata": {
    "papermill": {
     "duration": 6.438359,
     "end_time": "2020-03-04T15:17:24.559814",
     "exception": false,
     "start_time": "2020-03-04T15:17:18.121455",
     "status": "completed"
    },
    "tags": []
   },
   "outputs": [
    {
     "name": "stderr",
     "output_type": "stream",
     "text": [
      "/home/benjello/.virtualenvs/openfisca-ceq/local/lib/python3.7/site-packages/pandas/io/stata.py:1409: UnicodeWarning: \n",
      "One or more strings in the dta file could not be decoded using utf-8, and\n",
      "so the fallback encoding of latin-1 is being used.  This can happen when a file\n",
      "has been incorrectly encoded by Stata or some other software. You should verify\n",
      "the string values returned are correct.\n",
      "  warnings.warn(msg, UnicodeWarning)\n"
     ]
    }
   ],
   "source": [
    "year = year_by_country[country]\n",
    "survey_scenario = build_ceq_survey_scenario(legislation_country = country, year = year)"
   ]
  },
  {
   "cell_type": "markdown",
   "metadata": {
    "papermill": {
     "duration": 0.010286,
     "end_time": "2020-03-04T15:17:24.586504",
     "exception": false,
     "start_time": "2020-03-04T15:17:24.576218",
     "status": "completed"
    },
    "tags": []
   },
   "source": [
    "# Aggegates check"
   ]
  },
  {
   "cell_type": "markdown",
   "metadata": {
    "papermill": {
     "duration": 0.010462,
     "end_time": "2020-03-04T15:17:24.607354",
     "exception": false,
     "start_time": "2020-03-04T15:17:24.596892",
     "status": "completed"
    },
    "tags": []
   },
   "source": [
    "## Income variables"
   ]
  },
  {
   "cell_type": "markdown",
   "metadata": {
    "papermill": {
     "duration": 0.011244,
     "end_time": "2020-03-04T15:17:24.629250",
     "exception": false,
     "start_time": "2020-03-04T15:17:24.618006",
     "status": "completed"
    },
    "tags": []
   },
   "source": [
    "### Disagregated income variables"
   ]
  },
  {
   "cell_type": "code",
   "execution_count": 5,
   "metadata": {
    "papermill": {
     "duration": 0.025414,
     "end_time": "2020-03-04T15:17:24.666201",
     "exception": false,
     "start_time": "2020-03-04T15:17:24.640787",
     "status": "completed"
    },
    "tags": []
   },
   "outputs": [
    {
     "data": {
      "text/plain": [
       "{'rev_i_autoconsommation': 'autoconsumption',\n",
       " 'rev_i_autres': 'other_income',\n",
       " 'rev_i_autres_transferts': 'gifts_sales_durables',\n",
       " 'rev_i_loyers_imputes': 'imputed_rent',\n",
       " 'rev_i_transferts_publics': 'direct_transfers',\n",
       " 'rev_i_agricoles': 'revenu_agricole',\n",
       " 'rev_i_autres_revenus_capital': 'autres_revenus_du_capital',\n",
       " 'rev_i_independants_Ntaxe': 'revenu_informel_non_salarie',\n",
       " 'rev_i_independants_taxe': 'revenu_non_salarie',\n",
       " 'rev_i_independants': 'revenu_non_salarie_total',\n",
       " 'rev_i_locatifs': 'revenu_locatif',\n",
       " 'rev_i_pensions': 'pension_retraite',\n",
       " 'rev_i_salaires_formels': 'salaire',\n",
       " 'rev_i_salaires_informels': 'revenu_informel_salarie',\n",
       " 'salaire_brut': 'salaire_brut'}"
      ]
     },
     "execution_count": 5,
     "metadata": {},
     "output_type": "execute_result"
    }
   ],
   "source": [
    "ceq_by_harmonized_variable = dict()\n",
    "ceq_by_harmonized_variable.update(ceq_input_by_harmonized_variable)\n",
    "ceq_by_harmonized_variable.update(ceq_intermediate_by_harmonized_variable)\n",
    "ceq_by_harmonized_variable.update(non_ceq_input_by_harmonized_variable)\n",
    "ceq_by_harmonized_variable['salaire_brut'] = 'salaire_brut'\n",
    "ceq_by_harmonized_variable"
   ]
  },
  {
   "cell_type": "code",
   "execution_count": 6,
   "metadata": {
    "papermill": {
     "duration": 0.189519,
     "end_time": "2020-03-04T15:17:24.875691",
     "exception": false,
     "start_time": "2020-03-04T15:17:24.686172",
     "status": "completed"
    },
    "tags": []
   },
   "outputs": [],
   "source": [
    "data = [\n",
    "    (harmonized_variable, openfisca_variable, survey_scenario.compute_aggregate(openfisca_variable, period = year) / 1e9) \n",
    "    for harmonized_variable, openfisca_variable in ceq_by_harmonized_variable.items()\n",
    "    ]"
   ]
  },
  {
   "cell_type": "code",
   "execution_count": 7,
   "metadata": {
    "papermill": {
     "duration": 0.135282,
     "end_time": "2020-03-04T15:17:25.038149",
     "exception": false,
     "start_time": "2020-03-04T15:17:24.902867",
     "status": "completed"
    },
    "tags": []
   },
   "outputs": [
    {
     "data": {
      "text/html": [
       "<div>\n",
       "<style scoped>\n",
       "    .dataframe tbody tr th:only-of-type {\n",
       "        vertical-align: middle;\n",
       "    }\n",
       "\n",
       "    .dataframe tbody tr th {\n",
       "        vertical-align: top;\n",
       "    }\n",
       "\n",
       "    .dataframe thead th {\n",
       "        text-align: right;\n",
       "    }\n",
       "</style>\n",
       "<table border=\"1\" class=\"dataframe\">\n",
       "  <thead>\n",
       "    <tr style=\"text-align: right;\">\n",
       "      <th></th>\n",
       "      <th>harmonized</th>\n",
       "      <th>openfisca</th>\n",
       "      <th>aggregate</th>\n",
       "    </tr>\n",
       "  </thead>\n",
       "  <tbody>\n",
       "    <tr>\n",
       "      <th>0</th>\n",
       "      <td>rev_i_autoconsommation</td>\n",
       "      <td>autoconsumption</td>\n",
       "      <td>1288.430155</td>\n",
       "    </tr>\n",
       "    <tr>\n",
       "      <th>1</th>\n",
       "      <td>rev_i_autres</td>\n",
       "      <td>other_income</td>\n",
       "      <td>579.719635</td>\n",
       "    </tr>\n",
       "    <tr>\n",
       "      <th>2</th>\n",
       "      <td>rev_i_autres_transferts</td>\n",
       "      <td>gifts_sales_durables</td>\n",
       "      <td>432.967997</td>\n",
       "    </tr>\n",
       "    <tr>\n",
       "      <th>3</th>\n",
       "      <td>rev_i_loyers_imputes</td>\n",
       "      <td>imputed_rent</td>\n",
       "      <td>430.184956</td>\n",
       "    </tr>\n",
       "    <tr>\n",
       "      <th>4</th>\n",
       "      <td>rev_i_transferts_publics</td>\n",
       "      <td>direct_transfers</td>\n",
       "      <td>8.438274</td>\n",
       "    </tr>\n",
       "    <tr>\n",
       "      <th>5</th>\n",
       "      <td>rev_i_agricoles</td>\n",
       "      <td>revenu_agricole</td>\n",
       "      <td>1426.492481</td>\n",
       "    </tr>\n",
       "    <tr>\n",
       "      <th>6</th>\n",
       "      <td>rev_i_autres_revenus_capital</td>\n",
       "      <td>autres_revenus_du_capital</td>\n",
       "      <td>74.726052</td>\n",
       "    </tr>\n",
       "    <tr>\n",
       "      <th>7</th>\n",
       "      <td>rev_i_independants_Ntaxe</td>\n",
       "      <td>revenu_informel_non_salarie</td>\n",
       "      <td>1345.538351</td>\n",
       "    </tr>\n",
       "    <tr>\n",
       "      <th>8</th>\n",
       "      <td>rev_i_independants_taxe</td>\n",
       "      <td>revenu_non_salarie</td>\n",
       "      <td>244.463898</td>\n",
       "    </tr>\n",
       "    <tr>\n",
       "      <th>9</th>\n",
       "      <td>rev_i_independants</td>\n",
       "      <td>revenu_non_salarie_total</td>\n",
       "      <td>1590.002249</td>\n",
       "    </tr>\n",
       "    <tr>\n",
       "      <th>10</th>\n",
       "      <td>rev_i_locatifs</td>\n",
       "      <td>revenu_locatif</td>\n",
       "      <td>215.292836</td>\n",
       "    </tr>\n",
       "    <tr>\n",
       "      <th>11</th>\n",
       "      <td>rev_i_pensions</td>\n",
       "      <td>pension_retraite</td>\n",
       "      <td>354.079328</td>\n",
       "    </tr>\n",
       "    <tr>\n",
       "      <th>12</th>\n",
       "      <td>rev_i_salaires_formels</td>\n",
       "      <td>salaire</td>\n",
       "      <td>1363.727458</td>\n",
       "    </tr>\n",
       "    <tr>\n",
       "      <th>13</th>\n",
       "      <td>rev_i_salaires_informels</td>\n",
       "      <td>revenu_informel_salarie</td>\n",
       "      <td>2271.056755</td>\n",
       "    </tr>\n",
       "    <tr>\n",
       "      <th>14</th>\n",
       "      <td>salaire_brut</td>\n",
       "      <td>salaire_brut</td>\n",
       "      <td>1501.428493</td>\n",
       "    </tr>\n",
       "  </tbody>\n",
       "</table>\n",
       "</div>"
      ],
      "text/plain": [
       "                      harmonized                    openfisca    aggregate\n",
       "0         rev_i_autoconsommation              autoconsumption  1288.430155\n",
       "1                   rev_i_autres                 other_income   579.719635\n",
       "2        rev_i_autres_transferts         gifts_sales_durables   432.967997\n",
       "3           rev_i_loyers_imputes                 imputed_rent   430.184956\n",
       "4       rev_i_transferts_publics             direct_transfers     8.438274\n",
       "5                rev_i_agricoles              revenu_agricole  1426.492481\n",
       "6   rev_i_autres_revenus_capital    autres_revenus_du_capital    74.726052\n",
       "7       rev_i_independants_Ntaxe  revenu_informel_non_salarie  1345.538351\n",
       "8        rev_i_independants_taxe           revenu_non_salarie   244.463898\n",
       "9             rev_i_independants     revenu_non_salarie_total  1590.002249\n",
       "10                rev_i_locatifs               revenu_locatif   215.292836\n",
       "11                rev_i_pensions             pension_retraite   354.079328\n",
       "12        rev_i_salaires_formels                      salaire  1363.727458\n",
       "13      rev_i_salaires_informels      revenu_informel_salarie  2271.056755\n",
       "14                  salaire_brut                 salaire_brut  1501.428493"
      ]
     },
     "execution_count": 7,
     "metadata": {},
     "output_type": "execute_result"
    }
   ],
   "source": [
    "revenus = pd.DataFrame(data, columns = [\"harmonized\", \"openfisca\", \"aggregate\"])\n",
    "revenus"
   ]
  },
  {
   "cell_type": "markdown",
   "metadata": {
    "papermill": {
     "duration": 0.014532,
     "end_time": "2020-03-04T15:17:25.081390",
     "exception": false,
     "start_time": "2020-03-04T15:17:25.066858",
     "status": "completed"
    },
    "tags": []
   },
   "source": [
    "### Agregated income variables"
   ]
  },
  {
   "cell_type": "markdown",
   "metadata": {
    "papermill": {
     "duration": 0.011972,
     "end_time": "2020-03-04T15:17:25.104763",
     "exception": false,
     "start_time": "2020-03-04T15:17:25.092791",
     "status": "completed"
    },
    "tags": []
   },
   "source": [
    "#### CEQ agregated income variables"
   ]
  },
  {
   "cell_type": "code",
   "execution_count": 8,
   "metadata": {
    "papermill": {
     "duration": 0.026277,
     "end_time": "2020-03-04T15:17:25.142728",
     "exception": false,
     "start_time": "2020-03-04T15:17:25.116451",
     "status": "completed"
    },
    "tags": []
   },
   "outputs": [],
   "source": [
    "ceq_variables = [\"market_income\", \"market_income_plus_pensions\", \"pensions\", \"contributions_pensions\", \"net_market_income\", \"direct_taxes\", \"other_contributions\", \"contributions_health\", ]"
   ]
  },
  {
   "cell_type": "code",
   "execution_count": 9,
   "metadata": {
    "papermill": {
     "duration": 0.065969,
     "end_time": "2020-03-04T15:17:25.225106",
     "exception": false,
     "start_time": "2020-03-04T15:17:25.159137",
     "status": "completed"
    },
    "tags": []
   },
   "outputs": [
    {
     "data": {
      "text/html": [
       "<div>\n",
       "<style scoped>\n",
       "    .dataframe tbody tr th:only-of-type {\n",
       "        vertical-align: middle;\n",
       "    }\n",
       "\n",
       "    .dataframe tbody tr th {\n",
       "        vertical-align: top;\n",
       "    }\n",
       "\n",
       "    .dataframe thead th {\n",
       "        text-align: right;\n",
       "    }\n",
       "</style>\n",
       "<table border=\"1\" class=\"dataframe\">\n",
       "  <thead>\n",
       "    <tr style=\"text-align: right;\">\n",
       "      <th></th>\n",
       "      <th>aggregate</th>\n",
       "    </tr>\n",
       "  </thead>\n",
       "  <tbody>\n",
       "    <tr>\n",
       "      <th>market_income</th>\n",
       "      <td>9971.900835</td>\n",
       "    </tr>\n",
       "    <tr>\n",
       "      <th>market_income_plus_pensions</th>\n",
       "      <td>10124.485788</td>\n",
       "    </tr>\n",
       "    <tr>\n",
       "      <th>pensions</th>\n",
       "      <td>354.079328</td>\n",
       "    </tr>\n",
       "    <tr>\n",
       "      <th>contributions_pensions</th>\n",
       "      <td>201.494369</td>\n",
       "    </tr>\n",
       "    <tr>\n",
       "      <th>net_market_income</th>\n",
       "      <td>10074.706826</td>\n",
       "    </tr>\n",
       "    <tr>\n",
       "      <th>direct_taxes</th>\n",
       "      <td>47.028573</td>\n",
       "    </tr>\n",
       "    <tr>\n",
       "      <th>other_contributions</th>\n",
       "      <td>50.777320</td>\n",
       "    </tr>\n",
       "    <tr>\n",
       "      <th>contributions_health</th>\n",
       "      <td>2.750388</td>\n",
       "    </tr>\n",
       "  </tbody>\n",
       "</table>\n",
       "</div>"
      ],
      "text/plain": [
       "                                aggregate\n",
       "market_income                 9971.900835\n",
       "market_income_plus_pensions  10124.485788\n",
       "pensions                       354.079328\n",
       "contributions_pensions         201.494369\n",
       "net_market_income            10074.706826\n",
       "direct_taxes                    47.028573\n",
       "other_contributions             50.777320\n",
       "contributions_health             2.750388"
      ]
     },
     "execution_count": 9,
     "metadata": {},
     "output_type": "execute_result"
    }
   ],
   "source": [
    "ceq_aggregates = pd.DataFrame(\n",
    "    index = ceq_variables,\n",
    "    columns = ['aggregate'],\n",
    "    data = [\n",
    "        survey_scenario.compute_aggregate(ceq_variable, period = year) / 1e9 \n",
    "        for ceq_variable in ceq_variables\n",
    "        ]\n",
    "    )\n",
    "ceq_aggregates"
   ]
  },
  {
   "cell_type": "markdown",
   "metadata": {
    "papermill": {
     "duration": 0.033299,
     "end_time": "2020-03-04T15:17:25.288680",
     "exception": false,
     "start_time": "2020-03-04T15:17:25.255381",
     "status": "completed"
    },
    "tags": []
   },
   "source": [
    "#### Direct check"
   ]
  },
  {
   "cell_type": "code",
   "execution_count": 10,
   "metadata": {
    "papermill": {
     "duration": 0.024238,
     "end_time": "2020-03-04T15:17:25.346793",
     "exception": false,
     "start_time": "2020-03-04T15:17:25.322555",
     "status": "completed"
    },
    "tags": []
   },
   "outputs": [
    {
     "data": {
      "text/plain": [
       "11827.408657556118"
      ]
     },
     "execution_count": 10,
     "metadata": {},
     "output_type": "execute_result"
    }
   ],
   "source": [
    "revenu_components_summed_in_total = list(ceq_by_harmonized_variable.values()) \n",
    "revenu_components_summed_in_total.remove(\"revenu_non_salarie_total\")\n",
    "revenu_components_summed_in_total.remove(\"direct_transfers\")\n",
    "revenu_components_summed_in_total.remove(\"salaire\")\n",
    "revenu_components_summed_in_total += [\"salaire_super_brut\"]\n",
    "total_revenu = sum(survey_scenario.compute_aggregate(revenu_component, period = survey_scenario.year) for revenu_component in revenu_components_summed_in_total) / 1e9\n",
    "total_revenu"
   ]
  },
  {
   "cell_type": "code",
   "execution_count": 11,
   "metadata": {
    "papermill": {
     "duration": 0.01761,
     "end_time": "2020-03-04T15:17:25.375823",
     "exception": false,
     "start_time": "2020-03-04T15:17:25.358213",
     "status": "completed"
    },
    "tags": []
   },
   "outputs": [],
   "source": [
    "# from numpy.testing import assert_almost_equal\n",
    "# assert_almost_equal(ceq_aggregates.loc['market_income_plus_pensions'].values, total_revenu, decimal = 5) "
   ]
  },
  {
   "cell_type": "markdown",
   "metadata": {
    "papermill": {
     "duration": 0.011169,
     "end_time": "2020-03-04T15:17:25.400160",
     "exception": false,
     "start_time": "2020-03-04T15:17:25.388991",
     "status": "completed"
    },
    "tags": []
   },
   "source": [
    "## Education variables"
   ]
  },
  {
   "cell_type": "markdown",
   "metadata": {
    "papermill": {
     "duration": 0.01154,
     "end_time": "2020-03-04T15:17:25.422437",
     "exception": false,
     "start_time": "2020-03-04T15:17:25.410897",
     "status": "completed"
    },
    "tags": []
   },
   "source": [
    "### Counts (in millions)"
   ]
  },
  {
   "cell_type": "code",
   "execution_count": 12,
   "metadata": {
    "papermill": {
     "duration": 0.090601,
     "end_time": "2020-03-04T15:17:25.524381",
     "exception": false,
     "start_time": "2020-03-04T15:17:25.433780",
     "status": "completed"
    },
    "tags": []
   },
   "outputs": [
    {
     "name": "stdout",
     "output_type": "stream",
     "text": [
      "eleve_enseignement_niveau   -1.0   0.0   1.0   2.0   3.0\n",
      "eleve_enseignement_public                               \n",
      "0.0                          NaN  0.06  0.54  0.55  0.07\n",
      "1.0                        18.12  0.08  2.66  0.89  0.10\n"
     ]
    }
   ],
   "source": [
    "print((survey_scenario.compute_pivot_table(columns = ['eleve_enseignement_niveau'], index = ['eleve_enseignement_public'], aggfunc = 'count', period = survey_scenario.year) / 1e6).round(2))"
   ]
  },
  {
   "cell_type": "code",
   "execution_count": 13,
   "metadata": {
    "papermill": {
     "duration": 0.028311,
     "end_time": "2020-03-04T15:17:25.564944",
     "exception": false,
     "start_time": "2020-03-04T15:17:25.536633",
     "status": "completed"
    },
    "tags": []
   },
   "outputs": [
    {
     "name": "stdout",
     "output_type": "stream",
     "text": [
      "In kind education tranfers\n",
      "pre_school_person: 21 billions FCFA\n",
      "pre_school: 21 billions FCFA\n",
      "primary_education_person: 341 billions FCFA\n",
      "primary_education: 341 billions FCFA\n",
      "secondary_education_person: 309 billions FCFA\n",
      "secondary_education: 309 billions FCFA\n",
      "tertiary_education_person: 193 billions FCFA\n",
      "tertiary_education: 193 billions FCFA\n",
      "education_net_transfers: 865 billions FCFA\n"
     ]
    }
   ],
   "source": [
    "variables = [\n",
    "    'pre_school_person',\n",
    "    'pre_school',\n",
    "    'primary_education_person',\n",
    "    'primary_education',\n",
    "    'secondary_education_person',\n",
    "    'secondary_education',\n",
    "    'tertiary_education_person',\n",
    "    'tertiary_education',\n",
    "    'education_net_transfers',\n",
    "    ]\n",
    "print(\"In kind education tranfers\")\n",
    "for variable in variables:\n",
    "    print(\n",
    "        \"{variable}: {aggregate} billions FCFA\".format(\n",
    "            variable = variable,\n",
    "            aggregate = int(round(survey_scenario.compute_aggregate(variable, period = survey_scenario.year) / 1e9))\n",
    "            )\n",
    "        )"
   ]
  },
  {
   "cell_type": "markdown",
   "metadata": {
    "papermill": {
     "duration": 0.011758,
     "end_time": "2020-03-04T15:17:25.591334",
     "exception": false,
     "start_time": "2020-03-04T15:17:25.579576",
     "status": "completed"
    },
    "tags": []
   },
   "source": [
    "## Tax variables"
   ]
  },
  {
   "cell_type": "markdown",
   "metadata": {
    "papermill": {
     "duration": 0.011256,
     "end_time": "2020-03-04T15:17:25.614225",
     "exception": false,
     "start_time": "2020-03-04T15:17:25.602969",
     "status": "completed"
    },
    "tags": []
   },
   "source": [
    "### Indirect tax variables"
   ]
  },
  {
   "cell_type": "code",
   "execution_count": 14,
   "metadata": {
    "papermill": {
     "duration": 0.020256,
     "end_time": "2020-03-04T15:17:25.645866",
     "exception": false,
     "start_time": "2020-03-04T15:17:25.625610",
     "status": "completed"
    },
    "tags": []
   },
   "outputs": [
    {
     "data": {
      "text/plain": [
       "['depenses_ht_tva_exonere',\n",
       " 'depenses_ht_tva_taux_normal',\n",
       " 'depenses_ht_tva_taux_reduit',\n",
       " 'tva_taux_normal',\n",
       " 'tva_taux_reduit',\n",
       " 'tva']"
      ]
     },
     "execution_count": 14,
     "metadata": {},
     "output_type": "execute_result"
    }
   ],
   "source": [
    "indirect_tax_variables = [\n",
    "    variable \n",
    "    for tax in indirect_tax_by_country[country]\n",
    "    for variable in survey_scenario.tax_benefit_system.variables.keys() \n",
    "    if tax in variable \n",
    "    ]\n",
    "indirect_tax_variables"
   ]
  },
  {
   "cell_type": "code",
   "execution_count": 15,
   "metadata": {
    "papermill": {
     "duration": 0.04934,
     "end_time": "2020-03-04T15:17:25.708788",
     "exception": false,
     "start_time": "2020-03-04T15:17:25.659448",
     "status": "completed"
    },
    "tags": []
   },
   "outputs": [
    {
     "data": {
      "text/html": [
       "<div>\n",
       "<style scoped>\n",
       "    .dataframe tbody tr th:only-of-type {\n",
       "        vertical-align: middle;\n",
       "    }\n",
       "\n",
       "    .dataframe tbody tr th {\n",
       "        vertical-align: top;\n",
       "    }\n",
       "\n",
       "    .dataframe thead th {\n",
       "        text-align: right;\n",
       "    }\n",
       "</style>\n",
       "<table border=\"1\" class=\"dataframe\">\n",
       "  <thead>\n",
       "    <tr style=\"text-align: right;\">\n",
       "      <th></th>\n",
       "      <th>aggregate</th>\n",
       "    </tr>\n",
       "  </thead>\n",
       "  <tbody>\n",
       "    <tr>\n",
       "      <th>depenses_ht_tva_exonere</th>\n",
       "      <td>5857.616332</td>\n",
       "    </tr>\n",
       "    <tr>\n",
       "      <th>depenses_ht_tva_taux_normal</th>\n",
       "      <td>3977.434894</td>\n",
       "    </tr>\n",
       "    <tr>\n",
       "      <th>depenses_ht_tva_taux_reduit</th>\n",
       "      <td>403.919160</td>\n",
       "    </tr>\n",
       "    <tr>\n",
       "      <th>tva_taux_normal</th>\n",
       "      <td>715.938310</td>\n",
       "    </tr>\n",
       "    <tr>\n",
       "      <th>tva_taux_reduit</th>\n",
       "      <td>36.352726</td>\n",
       "    </tr>\n",
       "    <tr>\n",
       "      <th>tva</th>\n",
       "      <td>752.291035</td>\n",
       "    </tr>\n",
       "  </tbody>\n",
       "</table>\n",
       "</div>"
      ],
      "text/plain": [
       "                               aggregate\n",
       "depenses_ht_tva_exonere      5857.616332\n",
       "depenses_ht_tva_taux_normal  3977.434894\n",
       "depenses_ht_tva_taux_reduit   403.919160\n",
       "tva_taux_normal               715.938310\n",
       "tva_taux_reduit                36.352726\n",
       "tva                           752.291035"
      ]
     },
     "execution_count": 15,
     "metadata": {},
     "output_type": "execute_result"
    }
   ],
   "source": [
    " pd.DataFrame(\n",
    "    index = indirect_tax_variables,\n",
    "    columns = ['aggregate'],\n",
    "    data = [\n",
    "        survey_scenario.compute_aggregate(variable, period = year) / 1e9 \n",
    "        for variable in indirect_tax_variables\n",
    "        ]\n",
    "    )"
   ]
  },
  {
   "cell_type": "code",
   "execution_count": 16,
   "metadata": {
    "papermill": {
     "duration": 0.025492,
     "end_time": "2020-03-04T15:17:25.748162",
     "exception": false,
     "start_time": "2020-03-04T15:17:25.722670",
     "status": "completed"
    },
    "tags": []
   },
   "outputs": [
    {
     "data": {
      "text/plain": [
       "10991.261126886855"
      ]
     },
     "execution_count": 16,
     "metadata": {},
     "output_type": "execute_result"
    }
   ],
   "source": [
    "survey_scenario.compute_aggregate('consumption', period = year) / 1e9"
   ]
  },
  {
   "cell_type": "code",
   "execution_count": 17,
   "metadata": {
    "papermill": {
     "duration": 0.020695,
     "end_time": "2020-03-04T15:17:25.784755",
     "exception": false,
     "start_time": "2020-03-04T15:17:25.764060",
     "status": "completed"
    },
    "tags": []
   },
   "outputs": [
    {
     "data": {
      "text/plain": [
       "dict_keys(['household_weight', 'person_weight', 'age', 'formel_informel', 'marie', 'nombre_de_parts', 'nombre_enfants_a_charge', 'occupation_principale_taxee', 'proprietaire_residence_principale', 'residence_principale_taxee', 'sexe', 'veuf_ve', 'aide_monetaire_autre_menage', 'aide_non_monetaire_autre_menage', 'autoconsommation', 'autre_revenus_individuels', 'bourses_transfers', 'interets_dividendes', 'pension_retraite', 'revenu_locatif', 'revenus_activites_secondaires', 'revenus_complementaires_elevage', 'revenus_complementaires_miel', 'salaire', 'salaire_brut', 'personal_income_tax', 'droits_de_douane', 'droits_de_douane_intermediaire', 'droits_de_douane_plein', 'droits_de_douane_reduit', 'impots_indirects', 'impot_general_revenu', 'impots_directs', 'salaire_net_a_payer', 'accidents_du_travail', 'cotisations_employeur', 'cotisations_salariales', 'famille', 'retraite_employeur', 'retraite_salarie', 'salaire_imposable', 'salaire_super_brut', 'sante_employeur', 'contributions_health', 'contributions_pensions', 'employee_contributions_health', 'employee_contributions_pensions', 'employee_other_contributions', 'employer_contributions_health', 'employer_contributions_pensions', 'employer_other_contributions', 'other_contributions', 'self_employed_contributions_health', 'self_employed_contributions_pensions', 'self_employed_other_contributions', 'agricultural_inputs_subsidies', 'electricity_subsidies', 'food_subsidies', 'fuel_subsidies', 'indirect_subsidies', 'corporate_income_tax', 'customs_duties', 'direct_taxes', 'excise_taxes', 'indirect_taxes', 'other_taxes', 'payroll_tax', 'property_tax', 'sales_tax', 'value_added_tax', 'alimony', 'all_income_excluding_transfers', 'autoconsumption', 'consumable_income', 'disposable_income', 'final_income', 'gifts_sales_durables', 'gross_income', 'imputed_rent', 'market_income', 'market_income_plus_pensions', 'net_market_income', 'nontaxable_income', 'other_income', 'pensions', 'taxable_income', 'cash_transfers', 'direct_transfers', 'near_cash_transfers', 'noncontributory_pensions', 'social_assistance', 'social_insurance', 'education_net_transfers', 'health_contributory', 'health_copay_fees', 'health_in_patient', 'health_net_transfers', 'health_noncontributory', 'health_out_patient', 'housing_transfers', 'in_kind_transfers', 'post_secondary_education', 'pre_school', 'primary_education', 'school_fees', 'secondary_education', 'tertiary_education', 'revenu_informel_non_salarie', 'revenu_non_salarie', 'autres_revenus_du_capital', 'revenu_agricole', 'revenu_informel_salarie', 'revenu_non_salarie_total', 'eleve_enseignement_niveau', 'eleve_enseignement_public', 'pre_school_person', 'primary_education_person', 'secondary_education_person', 'tertiary_education_person', 'poste_1_1', 'poste_1_1_1_1_1', 'poste_1_1_1_3_2', 'poste_1_1_1_4_1_item_1', 'poste_1_1_1_4_1_item_2', 'poste_1_1_1_4_1_item_3', 'poste_1_1_1_4_1_item_4', 'poste_1_1_1_4_1_item_5', 'poste_1_1_1_4_1_item_6', 'poste_1_1_1_4_1_item_7', 'poste_1_1_1_4_1_item_8', 'poste_1_1_1_4_1_item_9', 'poste_1_1_1_4_1_item_10', 'poste_1_1_1_4_1_item_11', 'poste_1_1_1_4_1_item_12', 'poste_1_1_1_4_1_item_13', 'poste_1_1_1_4_1_item_14', 'poste_1_1_1_4_1_item_15', 'poste_1_1_1_4_1_item_16', 'poste_1_1_1_4_2', 'poste_1_1_1_4_3_item_1', 'poste_1_1_1_4_3_item_2', 'poste_1_1_1_4_3_item_3', 'poste_1_1_2_item_1', 'poste_1_1_2_item_2', 'poste_1_1_2_item_3', 'poste_1_1_2_item_4', 'poste_1_1_2_item_5', 'poste_1_1_2_item_6', 'poste_1_1_2_item_7', 'poste_1_1_2_item_8', 'poste_1_1_3_item_1', 'poste_1_1_3_item_2', 'poste_1_1_3_item_3', 'poste_1_1_3_item_4', 'poste_1_1_3_item_5', 'poste_1_1_3_item_6', 'poste_1_1_3_item_7', 'poste_1_1_3_item_8', 'poste_1_1_3_item_9', 'poste_1_1_3_item_10', 'poste_1_1_3_item_11', 'poste_1_1_4_item_1', 'poste_1_1_4_item_2', 'poste_1_1_4_item_3', 'poste_1_1_4_item_4', 'poste_1_1_4_item_5', 'poste_1_1_4_item_6', 'poste_1_1_4_item_7', 'poste_1_1_5_item_1', 'poste_1_1_5_item_2', 'poste_1_1_5_item_3', 'poste_1_1_5_item_4', 'poste_1_1_5_item_5', 'poste_1_1_6_item_1', 'poste_1_1_6_item_2', 'poste_1_1_6_item_3', 'poste_1_1_6_item_4', 'poste_1_1_6_item_5', 'poste_1_1_6_item_6', 'poste_1_1_6_item_7', 'poste_1_1_6_item_8', 'poste_1_1_6_item_9', 'poste_1_1_6_item_10', 'poste_1_1_6_item_11', 'poste_1_1_6_item_12', 'poste_1_1_6_item_13', 'poste_1_1_6_item_14', 'poste_1_1_6_item_15', 'poste_1_1_6_item_16', 'poste_1_1_6_item_17', 'poste_1_1_6_item_18', 'poste_1_1_6_item_19', 'poste_1_1_6_item_20', 'poste_1_1_6_item_21', 'poste_1_1_6_item_22', 'poste_1_1_6_item_23', 'poste_1_1_7_item_1', 'poste_1_1_7_item_2', 'poste_1_1_7_item_3', 'poste_1_1_7_item_4', 'poste_1_1_7_item_5', 'poste_1_1_7_item_6', 'poste_1_1_7_item_7', 'poste_1_1_7_item_8', 'poste_1_1_7_item_9', 'poste_1_1_7_item_10', 'poste_1_1_7_item_11', 'poste_1_1_7_item_12', 'poste_1_1_7_item_13', 'poste_1_1_7_item_14', 'poste_1_1_7_item_15', 'poste_1_1_7_item_16', 'poste_1_1_7_item_17', 'poste_1_1_7_item_18', 'poste_1_1_7_item_19', 'poste_1_1_7_item_20', 'poste_1_1_7_item_21', 'poste_1_1_7_item_22', 'poste_1_1_7_item_23', 'poste_1_1_7_item_24', 'poste_1_1_7_item_25', 'poste_1_1_7_item_26', 'poste_1_1_7_item_27', 'poste_1_1_8_item_1', 'poste_1_1_8_item_2', 'poste_1_1_8_item_3', 'poste_1_1_8_item_4', 'poste_1_1_8_item_5', 'poste_1_1_9_item_1', 'poste_1_1_9_item_2', 'poste_1_1_9_item_3', 'poste_1_1_9_item_4', 'poste_1_1_9_item_5', 'poste_1_1_9_item_6', 'poste_1_2_item_1', 'poste_1_2_item_2', 'poste_1_2_item_3', 'poste_1_2_item_4', 'poste_1_2_item_5', 'poste_1_2_item_6', 'poste_1_2_item_7', 'poste_2_1_item_1', 'poste_2_1_item_2', 'poste_2_1_item_3', 'poste_2_2_item_1', 'poste_2_2_item_2', 'poste_3_1_2_item_1', 'poste_3_1_2_item_2', 'poste_3_1_2_item_3', 'poste_3_1_2_item_4', 'poste_3_1_2_item_5', 'poste_3_1_2_item_6', 'poste_3_1_2_item_7', 'poste_3_2_1', 'poste_4_1_1', 'poste_4_3_1_1_2', 'poste_4_4_1_1_1_item_1', 'poste_4_4_1_1_1_item_2', 'poste_4_4_1_2_1', 'poste_4_5_1_1_1_item_1', 'poste_4_5_1_1_1_item_2', 'poste_4_5_2_1_1', 'poste_4_5_3_1_1_item_1', 'poste_4_5_3_1_1_item_2', 'poste_4_5_3_1_1_item_3', 'poste_4_5_4_1_1_item_1', 'poste_4_5_4_1_1_item_2', 'poste_4_5_4_1_1_item_3', 'poste_5_1_item_1', 'poste_5_1_item_2', 'poste_5_1_item_3', 'poste_5_1_item_4', 'poste_5_1_item_5', 'poste_5_1_item_6', 'poste_5_1_item_7', 'poste_5_1_item_8', 'poste_5_1_item_9', 'poste_5_2', 'poste_5_3_1_item_1', 'poste_5_3_1_item_2', 'poste_5_3_1_item_3', 'poste_5_3_1_item_4', 'poste_5_3_1_item_5', 'poste_5_3_1_item_6', 'poste_5_3_2_item_1', 'poste_5_3_2_item_2', 'poste_5_4_1', 'poste_5_5_1_item_1', 'poste_5_5_1_item_2', 'poste_5_5_1_item_3', 'poste_5_5_1_item_4', 'poste_5_5_1_item_5', 'poste_5_5_1_item_6', 'poste_5_5_1_item_7', 'poste_5_5_1_item_8', 'poste_5_5_1_item_9', 'poste_5_5_1_item_10', 'poste_5_5_1_item_11', 'poste_5_5_1_1_1', 'poste_5_6_2_1_1', 'poste_6_1_1_item_1', 'poste_6_1_1_item_2', 'poste_6_1_1_item_3', 'poste_6_2_1_item_1', 'poste_6_2_1_item_2', 'poste_6_2_1_item_3', 'poste_6_2_1_item_4', 'poste_7_1_1_item_1', 'poste_7_1_1_item_2', 'poste_7_1_2_item_1', 'poste_7_1_2_item_2', 'poste_7_1_2_item_3', 'poste_7_2_2', 'poste_7_2_3', 'poste_7_3_2_item_1', 'poste_7_3_2_item_2', 'poste_7_3_2_item_3', 'poste_8_1_1_1_1', 'poste_8_1_2_1_1_item_1', 'poste_8_1_2_1_1_item_2', 'poste_8_1_2_1_1_item_3', 'poste_8_1_2_2_1_item_1', 'poste_8_1_2_2_1_item_2', 'poste_8_1_2_2_1_item_3', 'poste_8_1_2_2_1_item_4', 'poste_9_1_1_1_1', 'poste_9_1_1_1_2_item_1', 'poste_9_1_1_1_2_item_2', 'poste_9_1_1_1_3_item_1', 'poste_9_1_1_1_3_item_2', 'poste_9_1_2_1_item_1', 'poste_9_1_2_1_item_2', 'poste_9_1_3_1_1_item_1', 'poste_9_1_3_1_1_item_2', 'poste_9_2_1_1_2_item_1', 'poste_9_2_1_1_2_item_2', 'poste_9_2_1_1_2_item_3', 'poste_9_4', 'poste_9_4_1_1', 'poste_9_5_1_1', 'poste_9_5_2_1_1', 'poste_9_6_1_item_1', 'poste_9_6_1_item_2', 'poste_10_1', 'poste_10_1_1_1_item_1', 'poste_10_1_1_1_item_2', 'poste_10_1_1_1_item_3', 'poste_10_1_1_1_item_4', 'poste_10_1_1_1_item_5', 'poste_11_1_1_1_1', 'poste_11_1_1_1_2', 'poste_11_1_2_1_1', 'poste_12_1_1_1', 'poste_12_1_3_item_1', 'poste_12_1_3_item_2', 'poste_12_3_1_1', 'poste_12_5', 'poste_12_5_3_1_1', 'poste_12_7_1', 'poste_12_7_1_2_3_item_1', 'poste_12_7_1_2_3_item_2', 'poste_12_7_1_2_3_item_3', 'poste_12_7_1_2_3_item_4', 'poste_12_7_1_2_3_item_5', 'consumption', 'depenses_ht_poste_1_1', 'depenses_ht_poste_1_1_1_1_1', 'depenses_ht_poste_1_1_1_4_1_item_1', 'depenses_ht_poste_1_1_1_4_1_item_10', 'depenses_ht_poste_1_1_1_4_1_item_11', 'depenses_ht_poste_1_1_1_4_1_item_12', 'depenses_ht_poste_1_1_1_4_1_item_13', 'depenses_ht_poste_1_1_1_4_1_item_14', 'depenses_ht_poste_1_1_1_4_1_item_15', 'depenses_ht_poste_1_1_1_4_1_item_16', 'depenses_ht_poste_1_1_1_4_1_item_2', 'depenses_ht_poste_1_1_1_4_1_item_3', 'depenses_ht_poste_1_1_1_4_1_item_5', 'depenses_ht_poste_1_1_1_4_1_item_6', 'depenses_ht_poste_1_1_1_4_1_item_7', 'depenses_ht_poste_1_1_1_4_1_item_8', 'depenses_ht_poste_1_1_1_4_1_item_9', 'depenses_ht_poste_1_1_1_4_3_item_1', 'depenses_ht_poste_1_1_2_item_1', 'depenses_ht_poste_1_1_2_item_2', 'depenses_ht_poste_1_1_2_item_3', 'depenses_ht_poste_1_1_2_item_4', 'depenses_ht_poste_1_1_2_item_5', 'depenses_ht_poste_1_1_2_item_6', 'depenses_ht_poste_1_1_3_item_10', 'depenses_ht_poste_1_1_3_item_11', 'depenses_ht_poste_1_1_3_item_3', 'depenses_ht_poste_1_1_3_item_4', 'depenses_ht_poste_1_1_3_item_5', 'depenses_ht_poste_1_1_3_item_6', 'depenses_ht_poste_1_1_3_item_8', 'depenses_ht_poste_1_1_3_item_9', 'depenses_ht_poste_1_1_4_item_4', 'depenses_ht_poste_1_1_6_item_1', 'depenses_ht_poste_1_1_6_item_10', 'depenses_ht_poste_1_1_6_item_11', 'depenses_ht_poste_1_1_6_item_12', 'depenses_ht_poste_1_1_6_item_13', 'depenses_ht_poste_1_1_6_item_15', 'depenses_ht_poste_1_1_6_item_16', 'depenses_ht_poste_1_1_6_item_17', 'depenses_ht_poste_1_1_6_item_18', 'depenses_ht_poste_1_1_6_item_19', 'depenses_ht_poste_1_1_6_item_20', 'depenses_ht_poste_1_1_6_item_21', 'depenses_ht_poste_1_1_6_item_22', 'depenses_ht_poste_1_1_6_item_23', 'depenses_ht_poste_1_1_6_item_3', 'depenses_ht_poste_1_1_6_item_4', 'depenses_ht_poste_1_1_6_item_5', 'depenses_ht_poste_1_1_6_item_7', 'depenses_ht_poste_1_1_6_item_8', 'depenses_ht_poste_1_1_6_item_9', 'depenses_ht_poste_1_1_7_item_1', 'depenses_ht_poste_1_1_7_item_10', 'depenses_ht_poste_1_1_7_item_11', 'depenses_ht_poste_1_1_7_item_12', 'depenses_ht_poste_1_1_7_item_13', 'depenses_ht_poste_1_1_7_item_14', 'depenses_ht_poste_1_1_7_item_15', 'depenses_ht_poste_1_1_7_item_16', 'depenses_ht_poste_1_1_7_item_17', 'depenses_ht_poste_1_1_7_item_18', 'depenses_ht_poste_1_1_7_item_19', 'depenses_ht_poste_1_1_7_item_2', 'depenses_ht_poste_1_1_7_item_20', 'depenses_ht_poste_1_1_7_item_21', 'depenses_ht_poste_1_1_7_item_22', 'depenses_ht_poste_1_1_7_item_23', 'depenses_ht_poste_1_1_7_item_24', 'depenses_ht_poste_1_1_7_item_25', 'depenses_ht_poste_1_1_7_item_26', 'depenses_ht_poste_1_1_7_item_27', 'depenses_ht_poste_1_1_7_item_3', 'depenses_ht_poste_1_1_7_item_4', 'depenses_ht_poste_1_1_7_item_5', 'depenses_ht_poste_1_1_7_item_6', 'depenses_ht_poste_1_1_7_item_7', 'depenses_ht_poste_1_1_7_item_8', 'depenses_ht_poste_1_1_7_item_9', 'depenses_ht_poste_1_1_9_item_1', 'depenses_ht_poste_1_1_9_item_4', 'depenses_ht_poste_1_1_9_item_5', 'depenses_ht_poste_1_2_item_2', 'depenses_ht_poste_10_1', 'depenses_ht_poste_10_1_1_1_item_1', 'depenses_ht_poste_10_1_1_1_item_2', 'depenses_ht_poste_10_1_1_1_item_5', 'depenses_ht_poste_11_1_2_1_1', 'depenses_ht_poste_12_5', 'depenses_ht_poste_12_5_3_1_1', 'depenses_ht_poste_12_7_1_2_3_item_2', 'depenses_ht_poste_12_7_1_2_3_item_3', 'depenses_ht_poste_12_7_1_2_3_item_4', 'depenses_ht_poste_12_7_1_2_3_item_5', 'depenses_ht_poste_4_1_1', 'depenses_ht_poste_4_4_1_1_1_item_1', 'depenses_ht_poste_4_4_1_2_1', 'depenses_ht_poste_4_5_2_1_1', 'depenses_ht_poste_4_5_4_1_1_item_1', 'depenses_ht_poste_4_5_4_1_1_item_3', 'depenses_ht_poste_5_6_2_1_1', 'depenses_ht_poste_6_1_1_item_2', 'depenses_ht_poste_6_1_1_item_3', 'depenses_ht_poste_6_2_1_item_1', 'depenses_ht_poste_6_2_1_item_2', 'depenses_ht_poste_6_2_1_item_3', 'depenses_ht_poste_6_2_1_item_4', 'depenses_ht_poste_7_3_2_item_1', 'depenses_ht_poste_7_3_2_item_2', 'depenses_ht_poste_7_3_2_item_3', 'depenses_ht_poste_8_1_1_1_1', 'depenses_ht_poste_9_4', 'depenses_ht_poste_9_5_1_1', 'depenses_ht_poste_9_5_2_1_1', 'depenses_ht_poste_9_6_1_item_1', 'depenses_ht_poste_9_6_1_item_2', 'depenses_ht_poste_1_1_1_3_2', 'depenses_ht_poste_1_1_1_4_1_item_4', 'depenses_ht_poste_1_1_1_4_3_item_2', 'depenses_ht_poste_1_1_1_4_3_item_3', 'depenses_ht_poste_1_1_2_item_7', 'depenses_ht_poste_1_1_2_item_8', 'depenses_ht_poste_1_1_3_item_1', 'depenses_ht_poste_1_1_3_item_2', 'depenses_ht_poste_1_1_3_item_7', 'depenses_ht_poste_1_1_4_item_2', 'depenses_ht_poste_1_1_4_item_3', 'depenses_ht_poste_1_1_4_item_5', 'depenses_ht_poste_1_1_4_item_6', 'depenses_ht_poste_1_1_5_item_1', 'depenses_ht_poste_1_1_5_item_2', 'depenses_ht_poste_1_1_5_item_3', 'depenses_ht_poste_1_1_5_item_4', 'depenses_ht_poste_1_1_5_item_5', 'depenses_ht_poste_1_1_6_item_14', 'depenses_ht_poste_1_1_6_item_2', 'depenses_ht_poste_1_1_6_item_6', 'depenses_ht_poste_1_1_8_item_1', 'depenses_ht_poste_1_1_8_item_2', 'depenses_ht_poste_1_1_8_item_3', 'depenses_ht_poste_1_1_8_item_4', 'depenses_ht_poste_1_1_8_item_5', 'depenses_ht_poste_1_1_9_item_2', 'depenses_ht_poste_1_1_9_item_3', 'depenses_ht_poste_1_1_9_item_6', 'depenses_ht_poste_1_2_item_1', 'depenses_ht_poste_1_2_item_3', 'depenses_ht_poste_1_2_item_4', 'depenses_ht_poste_1_2_item_5', 'depenses_ht_poste_1_2_item_6', 'depenses_ht_poste_1_2_item_7', 'depenses_ht_poste_10_1_1_1_item_3', 'depenses_ht_poste_10_1_1_1_item_4', 'depenses_ht_poste_11_1_1_1_1', 'depenses_ht_poste_11_1_1_1_2', 'depenses_ht_poste_12_1_1_1', 'depenses_ht_poste_12_1_3_item_1', 'depenses_ht_poste_12_1_3_item_2', 'depenses_ht_poste_12_3_1_1', 'depenses_ht_poste_12_7_1', 'depenses_ht_poste_12_7_1_2_3_item_1', 'depenses_ht_poste_2_1_item_1', 'depenses_ht_poste_2_1_item_2', 'depenses_ht_poste_2_1_item_3', 'depenses_ht_poste_2_2_item_1', 'depenses_ht_poste_2_2_item_2', 'depenses_ht_poste_3_1_2_item_1', 'depenses_ht_poste_3_1_2_item_2', 'depenses_ht_poste_3_1_2_item_3', 'depenses_ht_poste_3_1_2_item_4', 'depenses_ht_poste_3_1_2_item_5', 'depenses_ht_poste_3_1_2_item_6', 'depenses_ht_poste_3_1_2_item_7', 'depenses_ht_poste_3_2_1', 'depenses_ht_poste_4_3_1_1_2', 'depenses_ht_poste_4_4_1_1_1_item_2', 'depenses_ht_poste_4_5_1_1_1_item_1', 'depenses_ht_poste_4_5_1_1_1_item_2', 'depenses_ht_poste_4_5_3_1_1_item_3', 'depenses_ht_poste_4_5_4_1_1_item_2', 'depenses_ht_poste_5_1_item_1', 'depenses_ht_poste_5_1_item_2', 'depenses_ht_poste_5_1_item_3', 'depenses_ht_poste_5_1_item_4', 'depenses_ht_poste_5_1_item_5', 'depenses_ht_poste_5_1_item_6', 'depenses_ht_poste_5_1_item_7', 'depenses_ht_poste_5_1_item_8', 'depenses_ht_poste_5_1_item_9', 'depenses_ht_poste_5_2', 'depenses_ht_poste_5_3_1_item_1', 'depenses_ht_poste_5_3_1_item_2', 'depenses_ht_poste_5_3_1_item_3', 'depenses_ht_poste_5_3_1_item_4', 'depenses_ht_poste_5_3_1_item_5', 'depenses_ht_poste_5_3_1_item_6', 'depenses_ht_poste_5_3_2_item_1', 'depenses_ht_poste_5_3_2_item_2', 'depenses_ht_poste_5_4_1', 'depenses_ht_poste_5_5_1_1_1', 'depenses_ht_poste_5_5_1_item_1', 'depenses_ht_poste_5_5_1_item_10', 'depenses_ht_poste_5_5_1_item_11', 'depenses_ht_poste_5_5_1_item_2', 'depenses_ht_poste_5_5_1_item_3', 'depenses_ht_poste_5_5_1_item_4', 'depenses_ht_poste_5_5_1_item_5', 'depenses_ht_poste_5_5_1_item_6', 'depenses_ht_poste_5_5_1_item_7', 'depenses_ht_poste_5_5_1_item_8', 'depenses_ht_poste_5_5_1_item_9', 'depenses_ht_poste_6_1_1_item_1', 'depenses_ht_poste_7_1_1_item_1', 'depenses_ht_poste_7_1_1_item_2', 'depenses_ht_poste_7_1_2_item_1', 'depenses_ht_poste_7_1_2_item_2', 'depenses_ht_poste_7_1_2_item_3', 'depenses_ht_poste_7_2_3', 'depenses_ht_poste_8_1_2_1_1_item_1', 'depenses_ht_poste_8_1_2_1_1_item_2', 'depenses_ht_poste_8_1_2_1_1_item_3', 'depenses_ht_poste_8_1_2_2_1_item_1', 'depenses_ht_poste_8_1_2_2_1_item_2', 'depenses_ht_poste_8_1_2_2_1_item_3', 'depenses_ht_poste_8_1_2_2_1_item_4', 'depenses_ht_poste_9_1_1_1_1', 'depenses_ht_poste_9_1_1_1_2_item_1', 'depenses_ht_poste_9_1_1_1_2_item_2', 'depenses_ht_poste_9_1_1_1_3_item_1', 'depenses_ht_poste_9_1_1_1_3_item_2', 'depenses_ht_poste_9_1_2_1_item_1', 'depenses_ht_poste_9_1_2_1_item_2', 'depenses_ht_poste_9_1_3_1_1_item_1', 'depenses_ht_poste_9_1_3_1_1_item_2', 'depenses_ht_poste_9_2_1_1_2_item_1', 'depenses_ht_poste_9_2_1_1_2_item_2', 'depenses_ht_poste_9_2_1_1_2_item_3', 'depenses_ht_poste_9_4_1_1', 'depenses_ht_poste_1_1_1_4_2', 'depenses_ht_poste_1_1_4_item_1', 'depenses_ht_poste_1_1_4_item_7', 'depenses_ht_poste_4_5_3_1_1_item_1', 'depenses_ht_poste_4_5_3_1_1_item_2', 'depenses_ht_poste_7_2_2', 'depenses_ht_tva_exonere', 'depenses_ht_tva_taux_normal', 'depenses_ht_tva_taux_reduit', 'tva_taux_normal', 'tva_taux_reduit', 'tva'])"
      ]
     },
     "execution_count": 17,
     "metadata": {},
     "output_type": "execute_result"
    }
   ],
   "source": [
    "survey_scenario.tax_benefit_system.variables.keys()"
   ]
  }
 ],
 "metadata": {
  "kernelspec": {
   "display_name": "Python 3",
   "language": "python",
   "name": "python3"
  },
  "language_info": {
   "codemirror_mode": {
    "name": "ipython",
    "version": 3
   },
   "file_extension": ".py",
   "mimetype": "text/x-python",
   "name": "python",
   "nbconvert_exporter": "python",
   "pygments_lexer": "ipython3",
   "version": "3.7.3"
  },
  "papermill": {
   "duration": 13.123028,
   "end_time": "2020-03-04T15:17:25.908738",
   "environment_variables": {},
   "exception": null,
   "input_path": "notebooks/test.ipynb",
   "output_path": "notebooks/cote_d_ivoire.ipynb",
   "parameters": {
    "country": "cote_d_ivoire"
   },
   "start_time": "2020-03-04T15:17:12.785710",
   "version": "2.0.0"
  }
 },
 "nbformat": 4,
 "nbformat_minor": 4
}