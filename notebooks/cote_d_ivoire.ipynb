{
 "cells": [
  {
   "cell_type": "code",
   "execution_count": 1,
   "metadata": {
    "papermill": {
     "duration": 0.032726,
     "end_time": "2020-05-14T11:08:19.686289",
     "exception": false,
     "start_time": "2020-05-14T11:08:19.653563",
     "status": "completed"
    },
    "tags": []
   },
   "outputs": [],
   "source": [
    "# !pip install -U git+https://github.com/openfisca/openfisca-ceq.git@master#egg=OpenFisca-CEQ\n",
    "# !pip install -U git+https://github.com/openfisca/openfisca-senegal.git@ceq#egg=OpenFisca-Senegal\n",
    "# !pip install -U git+https://github.com/openfisca/openfisca-mali.git@master#egg=OpenFisca-Mali\n",
    "# !pip install -U git+https://github.com/openfisca/openfisca-cote-d-ivoire.git@master#egg=OpenFisca-COTE-D-IVOIRE"
   ]
  },
  {
   "cell_type": "code",
   "execution_count": 2,
   "metadata": {
    "papermill": {
     "duration": 0.81151,
     "end_time": "2020-05-14T11:08:20.516739",
     "exception": false,
     "start_time": "2020-05-14T11:08:19.705229",
     "status": "completed"
    },
    "tags": []
   },
   "outputs": [],
   "source": [
    "from matplotlib import pyplot as plt\n",
    "%matplotlib inline\n",
    "import pandas as pd\n",
    "from openfisca_ceq.tools.survey_scenario import build_ceq_survey_scenario\n",
    "from openfisca_ceq.tools.indirect_taxation.tax_benefit_system_indirect_taxation_completion import indirect_tax_by_country\n",
    "from openfisca_ceq.tools.data import year_by_country\n",
    "from openfisca_ceq.tools.data_ceq_correspondence import (\n",
    "    ceq_input_by_harmonized_variable,\n",
    "    ceq_intermediate_by_harmonized_variable,\n",
    "    non_ceq_input_by_harmonized_variable,\n",
    "    )"
   ]
  },
  {
   "cell_type": "markdown",
   "metadata": {
    "papermill": {
     "duration": 0.01812,
     "end_time": "2020-05-14T11:08:20.555195",
     "exception": false,
     "start_time": "2020-05-14T11:08:20.537075",
     "status": "completed"
    },
    "tags": []
   },
   "source": [
    "# Build country scenario"
   ]
  },
  {
   "cell_type": "markdown",
   "metadata": {
    "papermill": {
     "duration": 0.017717,
     "end_time": "2020-05-14T11:08:20.590848",
     "exception": false,
     "start_time": "2020-05-14T11:08:20.573131",
     "status": "completed"
    },
    "tags": []
   },
   "source": [
    "## Country selection"
   ]
  },
  {
   "cell_type": "code",
   "execution_count": 3,
   "metadata": {
    "papermill": {
     "duration": 0.023045,
     "end_time": "2020-05-14T11:08:20.630678",
     "exception": false,
     "start_time": "2020-05-14T11:08:20.607633",
     "status": "completed"
    },
    "tags": [
     "parameters"
    ]
   },
   "outputs": [],
   "source": [
    "country = \"senegal\""
   ]
  },
  {
   "cell_type": "code",
   "execution_count": 4,
   "metadata": {
    "papermill": {
     "duration": 0.023649,
     "end_time": "2020-05-14T11:08:20.673154",
     "exception": false,
     "start_time": "2020-05-14T11:08:20.649505",
     "status": "completed"
    },
    "tags": [
     "injected-parameters"
    ]
   },
   "outputs": [],
   "source": [
    "# Parameters\n",
    "country = \"cote_d_ivoire\"\n"
   ]
  },
  {
   "cell_type": "code",
   "execution_count": 5,
   "metadata": {
    "papermill": {
     "duration": 4.335424,
     "end_time": "2020-05-14T11:08:25.026637",
     "exception": false,
     "start_time": "2020-05-14T11:08:20.691213",
     "status": "completed"
    },
    "tags": []
   },
   "outputs": [
    {
     "name": "stderr",
     "output_type": "stream",
     "text": [
      "/home/benjello/.virtualenvs/openfisca-ceq/local/lib/python3.7/site-packages/pandas/io/stata.py:1409: UnicodeWarning: \n",
      "One or more strings in the dta file could not be decoded using utf-8, and\n",
      "so the fallback encoding of latin-1 is being used.  This can happen when a file\n",
      "has been incorrectly encoded by Stata or some other software. You should verify\n",
      "the string values returned are correct.\n",
      "  warnings.warn(msg, UnicodeWarning)\n"
     ]
    }
   ],
   "source": [
    "year = year_by_country[country]\n",
    "survey_scenario = build_ceq_survey_scenario(legislation_country = country, year = year)"
   ]
  },
  {
   "cell_type": "markdown",
   "metadata": {
    "papermill": {
     "duration": 0.017359,
     "end_time": "2020-05-14T11:08:25.066552",
     "exception": false,
     "start_time": "2020-05-14T11:08:25.049193",
     "status": "completed"
    },
    "tags": []
   },
   "source": [
    "# Aggegates check"
   ]
  },
  {
   "cell_type": "markdown",
   "metadata": {
    "papermill": {
     "duration": 0.017635,
     "end_time": "2020-05-14T11:08:25.102119",
     "exception": false,
     "start_time": "2020-05-14T11:08:25.084484",
     "status": "completed"
    },
    "tags": []
   },
   "source": [
    "## Income variables"
   ]
  },
  {
   "cell_type": "markdown",
   "metadata": {
    "papermill": {
     "duration": 0.016774,
     "end_time": "2020-05-14T11:08:25.136229",
     "exception": false,
     "start_time": "2020-05-14T11:08:25.119455",
     "status": "completed"
    },
    "tags": []
   },
   "source": [
    "### Disagregated income variables"
   ]
  },
  {
   "cell_type": "code",
   "execution_count": 6,
   "metadata": {
    "papermill": {
     "duration": 0.029136,
     "end_time": "2020-05-14T11:08:25.183205",
     "exception": false,
     "start_time": "2020-05-14T11:08:25.154069",
     "status": "completed"
    },
    "tags": []
   },
   "outputs": [
    {
     "data": {
      "text/plain": [
       "{'rev_i_autoconsommation': 'autoconsumption',\n",
       " 'rev_i_autres': 'other_income',\n",
       " 'rev_i_autres_transferts': 'gifts_sales_durables',\n",
       " 'rev_i_loyers_imputes': 'imputed_rent',\n",
       " 'rev_i_transferts_publics': 'direct_transfers',\n",
       " 'rev_i_agricoles': 'revenu_agricole',\n",
       " 'rev_i_autres_revenus_capital': 'autres_revenus_du_capital',\n",
       " 'rev_i_independants_Ntaxe': 'revenu_informel_non_salarie',\n",
       " 'rev_i_independants_taxe': 'revenu_non_salarie',\n",
       " 'rev_i_independants': 'revenu_non_salarie_total',\n",
       " 'rev_i_locatifs': 'revenu_locatif',\n",
       " 'rev_i_pensions': 'pension_retraite',\n",
       " 'rev_i_salaires_formels': 'salaire',\n",
       " 'rev_i_salaires_informels': 'revenu_informel_salarie',\n",
       " 'autres_revenus_du_capital_brut': 'autres_revenus_du_capital_brut',\n",
       " 'pension_retraite_brut': 'pension_retraite_brut',\n",
       " 'revenu_foncier_brut': 'revenu_foncier_brut',\n",
       " 'revenu_non_salarie_brut': 'revenu_non_salarie_brut',\n",
       " 'salaire_brut': 'salaire_brut',\n",
       " 'salaire_super_brut': 'salaire_super_brut'}"
      ]
     },
     "execution_count": 6,
     "metadata": {},
     "output_type": "execute_result"
    }
   ],
   "source": [
    "ceq_by_harmonized_variable = dict()\n",
    "ceq_by_harmonized_variable.update(ceq_input_by_harmonized_variable)\n",
    "ceq_by_harmonized_variable.update(ceq_intermediate_by_harmonized_variable)\n",
    "ceq_by_harmonized_variable.update(non_ceq_input_by_harmonized_variable)\n",
    "ceq_by_harmonized_variable['autres_revenus_du_capital_brut'] = 'autres_revenus_du_capital_brut'\n",
    "ceq_by_harmonized_variable['pension_retraite_brut'] = 'pension_retraite_brut'\n",
    "ceq_by_harmonized_variable['revenu_foncier_brut'] = 'revenu_foncier_brut'\n",
    "ceq_by_harmonized_variable['revenu_non_salarie_brut'] = 'revenu_non_salarie_brut' \n",
    "ceq_by_harmonized_variable['salaire_brut'] = 'salaire_brut'\n",
    "ceq_by_harmonized_variable['salaire_super_brut'] = 'salaire_super_brut'\n",
    "ceq_by_harmonized_variable"
   ]
  },
  {
   "cell_type": "code",
   "execution_count": 7,
   "metadata": {
    "papermill": {
     "duration": 0.058065,
     "end_time": "2020-05-14T11:08:25.261869",
     "exception": false,
     "start_time": "2020-05-14T11:08:25.203804",
     "status": "completed"
    },
    "tags": []
   },
   "outputs": [],
   "source": [
    "data = [\n",
    "    (harmonized_variable, openfisca_variable, survey_scenario.compute_aggregate(openfisca_variable, period = year) / 1e9) \n",
    "    for harmonized_variable, openfisca_variable in ceq_by_harmonized_variable.items()\n",
    "    ]"
   ]
  },
  {
   "cell_type": "code",
   "execution_count": 8,
   "metadata": {
    "papermill": {
     "duration": 0.07466,
     "end_time": "2020-05-14T11:08:25.382927",
     "exception": false,
     "start_time": "2020-05-14T11:08:25.308267",
     "status": "completed"
    },
    "tags": []
   },
   "outputs": [
    {
     "data": {
      "text/html": [
       "<div>\n",
       "<style scoped>\n",
       "    .dataframe tbody tr th:only-of-type {\n",
       "        vertical-align: middle;\n",
       "    }\n",
       "\n",
       "    .dataframe tbody tr th {\n",
       "        vertical-align: top;\n",
       "    }\n",
       "\n",
       "    .dataframe thead th {\n",
       "        text-align: right;\n",
       "    }\n",
       "</style>\n",
       "<table border=\"1\" class=\"dataframe\">\n",
       "  <thead>\n",
       "    <tr style=\"text-align: right;\">\n",
       "      <th></th>\n",
       "      <th>harmonized</th>\n",
       "      <th>openfisca</th>\n",
       "      <th>aggregate</th>\n",
       "    </tr>\n",
       "  </thead>\n",
       "  <tbody>\n",
       "    <tr>\n",
       "      <th>0</th>\n",
       "      <td>rev_i_autoconsommation</td>\n",
       "      <td>autoconsumption</td>\n",
       "      <td>1288</td>\n",
       "    </tr>\n",
       "    <tr>\n",
       "      <th>1</th>\n",
       "      <td>rev_i_autres</td>\n",
       "      <td>other_income</td>\n",
       "      <td>580</td>\n",
       "    </tr>\n",
       "    <tr>\n",
       "      <th>2</th>\n",
       "      <td>rev_i_autres_transferts</td>\n",
       "      <td>gifts_sales_durables</td>\n",
       "      <td>433</td>\n",
       "    </tr>\n",
       "    <tr>\n",
       "      <th>3</th>\n",
       "      <td>rev_i_loyers_imputes</td>\n",
       "      <td>imputed_rent</td>\n",
       "      <td>277</td>\n",
       "    </tr>\n",
       "    <tr>\n",
       "      <th>4</th>\n",
       "      <td>rev_i_transferts_publics</td>\n",
       "      <td>direct_transfers</td>\n",
       "      <td>8</td>\n",
       "    </tr>\n",
       "    <tr>\n",
       "      <th>5</th>\n",
       "      <td>rev_i_agricoles</td>\n",
       "      <td>revenu_agricole</td>\n",
       "      <td>1426</td>\n",
       "    </tr>\n",
       "    <tr>\n",
       "      <th>6</th>\n",
       "      <td>rev_i_autres_revenus_capital</td>\n",
       "      <td>autres_revenus_du_capital</td>\n",
       "      <td>75</td>\n",
       "    </tr>\n",
       "    <tr>\n",
       "      <th>7</th>\n",
       "      <td>rev_i_independants_Ntaxe</td>\n",
       "      <td>revenu_informel_non_salarie</td>\n",
       "      <td>1346</td>\n",
       "    </tr>\n",
       "    <tr>\n",
       "      <th>8</th>\n",
       "      <td>rev_i_independants_taxe</td>\n",
       "      <td>revenu_non_salarie</td>\n",
       "      <td>244</td>\n",
       "    </tr>\n",
       "    <tr>\n",
       "      <th>9</th>\n",
       "      <td>rev_i_independants</td>\n",
       "      <td>revenu_non_salarie_total</td>\n",
       "      <td>1590</td>\n",
       "    </tr>\n",
       "    <tr>\n",
       "      <th>10</th>\n",
       "      <td>rev_i_locatifs</td>\n",
       "      <td>revenu_locatif</td>\n",
       "      <td>215</td>\n",
       "    </tr>\n",
       "    <tr>\n",
       "      <th>11</th>\n",
       "      <td>rev_i_pensions</td>\n",
       "      <td>pension_retraite</td>\n",
       "      <td>354</td>\n",
       "    </tr>\n",
       "    <tr>\n",
       "      <th>12</th>\n",
       "      <td>rev_i_salaires_formels</td>\n",
       "      <td>salaire</td>\n",
       "      <td>1364</td>\n",
       "    </tr>\n",
       "    <tr>\n",
       "      <th>13</th>\n",
       "      <td>rev_i_salaires_informels</td>\n",
       "      <td>revenu_informel_salarie</td>\n",
       "      <td>2271</td>\n",
       "    </tr>\n",
       "    <tr>\n",
       "      <th>14</th>\n",
       "      <td>autres_revenus_du_capital_brut</td>\n",
       "      <td>autres_revenus_du_capital_brut</td>\n",
       "      <td>91</td>\n",
       "    </tr>\n",
       "    <tr>\n",
       "      <th>15</th>\n",
       "      <td>pension_retraite_brut</td>\n",
       "      <td>pension_retraite_brut</td>\n",
       "      <td>354</td>\n",
       "    </tr>\n",
       "    <tr>\n",
       "      <th>16</th>\n",
       "      <td>revenu_foncier_brut</td>\n",
       "      <td>revenu_foncier_brut</td>\n",
       "      <td>222</td>\n",
       "    </tr>\n",
       "    <tr>\n",
       "      <th>17</th>\n",
       "      <td>revenu_non_salarie_brut</td>\n",
       "      <td>revenu_non_salarie_brut</td>\n",
       "      <td>244</td>\n",
       "    </tr>\n",
       "    <tr>\n",
       "      <th>18</th>\n",
       "      <td>salaire_brut</td>\n",
       "      <td>salaire_brut</td>\n",
       "      <td>1501</td>\n",
       "    </tr>\n",
       "    <tr>\n",
       "      <th>19</th>\n",
       "      <td>salaire_super_brut</td>\n",
       "      <td>salaire_super_brut</td>\n",
       "      <td>1663</td>\n",
       "    </tr>\n",
       "  </tbody>\n",
       "</table>\n",
       "</div>"
      ],
      "text/plain": [
       "                        harmonized                       openfisca  aggregate\n",
       "0           rev_i_autoconsommation                 autoconsumption       1288\n",
       "1                     rev_i_autres                    other_income        580\n",
       "2          rev_i_autres_transferts            gifts_sales_durables        433\n",
       "3             rev_i_loyers_imputes                    imputed_rent        277\n",
       "4         rev_i_transferts_publics                direct_transfers          8\n",
       "5                  rev_i_agricoles                 revenu_agricole       1426\n",
       "6     rev_i_autres_revenus_capital       autres_revenus_du_capital         75\n",
       "7         rev_i_independants_Ntaxe     revenu_informel_non_salarie       1346\n",
       "8          rev_i_independants_taxe              revenu_non_salarie        244\n",
       "9               rev_i_independants        revenu_non_salarie_total       1590\n",
       "10                  rev_i_locatifs                  revenu_locatif        215\n",
       "11                  rev_i_pensions                pension_retraite        354\n",
       "12          rev_i_salaires_formels                         salaire       1364\n",
       "13        rev_i_salaires_informels         revenu_informel_salarie       2271\n",
       "14  autres_revenus_du_capital_brut  autres_revenus_du_capital_brut         91\n",
       "15           pension_retraite_brut           pension_retraite_brut        354\n",
       "16             revenu_foncier_brut             revenu_foncier_brut        222\n",
       "17         revenu_non_salarie_brut         revenu_non_salarie_brut        244\n",
       "18                    salaire_brut                    salaire_brut       1501\n",
       "19              salaire_super_brut              salaire_super_brut       1663"
      ]
     },
     "execution_count": 8,
     "metadata": {},
     "output_type": "execute_result"
    }
   ],
   "source": [
    "revenus = pd.DataFrame(data, columns = [\"harmonized\", \"openfisca\", \"aggregate\"])\n",
    "revenus.round(0).astype({\"aggregate\": int})"
   ]
  },
  {
   "cell_type": "markdown",
   "metadata": {
    "papermill": {
     "duration": 0.017507,
     "end_time": "2020-05-14T11:08:25.418119",
     "exception": false,
     "start_time": "2020-05-14T11:08:25.400612",
     "status": "completed"
    },
    "tags": []
   },
   "source": [
    "### Agregated income variables"
   ]
  },
  {
   "cell_type": "markdown",
   "metadata": {
    "papermill": {
     "duration": 0.018228,
     "end_time": "2020-05-14T11:08:25.454250",
     "exception": false,
     "start_time": "2020-05-14T11:08:25.436022",
     "status": "completed"
    },
    "tags": []
   },
   "source": [
    "#### CEQ agregated income variables"
   ]
  },
  {
   "cell_type": "code",
   "execution_count": 9,
   "metadata": {
    "papermill": {
     "duration": 0.025172,
     "end_time": "2020-05-14T11:08:25.497592",
     "exception": false,
     "start_time": "2020-05-14T11:08:25.472420",
     "status": "completed"
    },
    "tags": []
   },
   "outputs": [],
   "source": [
    "ceq_variables = [\"market_income\", \"market_income_plus_pensions\", \"pensions\", \"contributions_pensions\", \"net_market_income\", \"direct_taxes\", \"other_contributions\", \"contributions_health\", ]"
   ]
  },
  {
   "cell_type": "code",
   "execution_count": 10,
   "metadata": {
    "papermill": {
     "duration": 0.065714,
     "end_time": "2020-05-14T11:08:25.581957",
     "exception": false,
     "start_time": "2020-05-14T11:08:25.516243",
     "status": "completed"
    },
    "tags": []
   },
   "outputs": [
    {
     "data": {
      "text/html": [
       "<div>\n",
       "<style scoped>\n",
       "    .dataframe tbody tr th:only-of-type {\n",
       "        vertical-align: middle;\n",
       "    }\n",
       "\n",
       "    .dataframe tbody tr th {\n",
       "        vertical-align: top;\n",
       "    }\n",
       "\n",
       "    .dataframe thead th {\n",
       "        text-align: right;\n",
       "    }\n",
       "</style>\n",
       "<table border=\"1\" class=\"dataframe\">\n",
       "  <thead>\n",
       "    <tr style=\"text-align: right;\">\n",
       "      <th></th>\n",
       "      <th>aggregate</th>\n",
       "    </tr>\n",
       "  </thead>\n",
       "  <tbody>\n",
       "    <tr>\n",
       "      <th>market_income</th>\n",
       "      <td>9842</td>\n",
       "    </tr>\n",
       "    <tr>\n",
       "      <th>market_income_plus_pensions</th>\n",
       "      <td>9994</td>\n",
       "    </tr>\n",
       "    <tr>\n",
       "      <th>pensions</th>\n",
       "      <td>354</td>\n",
       "    </tr>\n",
       "    <tr>\n",
       "      <th>contributions_pensions</th>\n",
       "      <td>201</td>\n",
       "    </tr>\n",
       "    <tr>\n",
       "      <th>net_market_income</th>\n",
       "      <td>9947</td>\n",
       "    </tr>\n",
       "    <tr>\n",
       "      <th>direct_taxes</th>\n",
       "      <td>47</td>\n",
       "    </tr>\n",
       "    <tr>\n",
       "      <th>other_contributions</th>\n",
       "      <td>51</td>\n",
       "    </tr>\n",
       "    <tr>\n",
       "      <th>contributions_health</th>\n",
       "      <td>0</td>\n",
       "    </tr>\n",
       "  </tbody>\n",
       "</table>\n",
       "</div>"
      ],
      "text/plain": [
       "                             aggregate\n",
       "market_income                     9842\n",
       "market_income_plus_pensions       9994\n",
       "pensions                           354\n",
       "contributions_pensions             201\n",
       "net_market_income                 9947\n",
       "direct_taxes                        47\n",
       "other_contributions                 51\n",
       "contributions_health                 0"
      ]
     },
     "execution_count": 10,
     "metadata": {},
     "output_type": "execute_result"
    }
   ],
   "source": [
    "ceq_aggregates = pd.DataFrame(\n",
    "    index = ceq_variables,\n",
    "    columns = ['aggregate'],\n",
    "    data = [\n",
    "        survey_scenario.compute_aggregate(ceq_variable, period = year) / 1e9 \n",
    "        for ceq_variable in ceq_variables\n",
    "        ]\n",
    "    )\n",
    "ceq_aggregates.round(0).astype({\"aggregate\": int})"
   ]
  },
  {
   "cell_type": "markdown",
   "metadata": {
    "papermill": {
     "duration": 0.049256,
     "end_time": "2020-05-14T11:08:25.679090",
     "exception": false,
     "start_time": "2020-05-14T11:08:25.629834",
     "status": "completed"
    },
    "tags": []
   },
   "source": [
    "#### Direct check"
   ]
  },
  {
   "cell_type": "code",
   "execution_count": 11,
   "metadata": {
    "papermill": {
     "duration": 0.03043,
     "end_time": "2020-05-14T11:08:25.729045",
     "exception": false,
     "start_time": "2020-05-14T11:08:25.698615",
     "status": "completed"
    },
    "tags": []
   },
   "outputs": [],
   "source": [
    "income_components_summed_in_total = list(ceq_by_harmonized_variable.values()) \n",
    "income_components_summed_in_total.remove(\"revenu_non_salarie_total\")\n",
    "income_components_summed_in_total.remove(\"direct_transfers\")\n",
    "income_components_summed_in_total.remove(\"salaire\")\n",
    "income_components_summed_in_total.remove(\"salaire_brut\")\n",
    "income_components_summed_in_total.remove(\"pension_retraite\")\n",
    "income_components_summed_in_total.remove('autres_revenus_du_capital')\n",
    "income_components_summed_in_total.remove('revenu_locatif')\n",
    "income_components_summed_in_total.remove('revenu_non_salarie') \n",
    "\n",
    "total_income = sum(\n",
    "    survey_scenario.compute_aggregate(income_component, period = survey_scenario.year) \n",
    "    for income_component in income_components_summed_in_total\n",
    "    ) \n",
    "total_income = (\n",
    "    total_income \n",
    "    - survey_scenario.compute_aggregate(\"contributions_pensions\", period = survey_scenario.year)\n",
    "    ) / 1e9\n"
   ]
  },
  {
   "cell_type": "code",
   "execution_count": 12,
   "metadata": {
    "papermill": {
     "duration": 0.02581,
     "end_time": "2020-05-14T11:08:25.777046",
     "exception": false,
     "start_time": "2020-05-14T11:08:25.751236",
     "status": "completed"
    },
    "tags": []
   },
   "outputs": [],
   "source": [
    "from numpy.testing import assert_almost_equal\n",
    "assert_almost_equal(ceq_aggregates.loc['market_income_plus_pensions'].values, total_income, decimal = 5) \n",
    "# print('market_income_plus_pensions = {} vs {} = total_income'.format(\n",
    "#         ceq_aggregates.loc['market_income_plus_pensions'].values,\n",
    "#         total_income\n",
    "#         )\n",
    "#     )\n"
   ]
  },
  {
   "cell_type": "markdown",
   "metadata": {
    "papermill": {
     "duration": 0.020329,
     "end_time": "2020-05-14T11:08:25.817950",
     "exception": false,
     "start_time": "2020-05-14T11:08:25.797621",
     "status": "completed"
    },
    "tags": []
   },
   "source": [
    "#### Wages by public/private sector"
   ]
  },
  {
   "cell_type": "code",
   "execution_count": 13,
   "metadata": {
    "papermill": {
     "duration": 0.027363,
     "end_time": "2020-05-14T11:08:25.864611",
     "exception": false,
     "start_time": "2020-05-14T11:08:25.837248",
     "status": "completed"
    },
    "tags": []
   },
   "outputs": [
    {
     "data": {
      "text/plain": [
       "'Count : 245997.0'"
      ]
     },
     "execution_count": 13,
     "metadata": {},
     "output_type": "execute_result"
    }
   ],
   "source": [
    "\"Count : {}\".format(round(\n",
    "    survey_scenario.compute_aggregate(\"secteur_public\", period = year)\n",
    "    ))"
   ]
  },
  {
   "cell_type": "code",
   "execution_count": 14,
   "metadata": {
    "papermill": {
     "duration": 0.075097,
     "end_time": "2020-05-14T11:08:25.960987",
     "exception": false,
     "start_time": "2020-05-14T11:08:25.885890",
     "status": "completed"
    },
    "tags": []
   },
   "outputs": [
    {
     "data": {
      "text/html": [
       "<div>\n",
       "<style scoped>\n",
       "    .dataframe tbody tr th:only-of-type {\n",
       "        vertical-align: middle;\n",
       "    }\n",
       "\n",
       "    .dataframe tbody tr th {\n",
       "        vertical-align: top;\n",
       "    }\n",
       "\n",
       "    .dataframe thead th {\n",
       "        text-align: right;\n",
       "    }\n",
       "</style>\n",
       "<table border=\"1\" class=\"dataframe\">\n",
       "  <thead>\n",
       "    <tr style=\"text-align: right;\">\n",
       "      <th>secteur_public</th>\n",
       "      <th>False</th>\n",
       "      <th>True</th>\n",
       "    </tr>\n",
       "  </thead>\n",
       "  <tbody>\n",
       "    <tr>\n",
       "      <th>salaire</th>\n",
       "      <td>654</td>\n",
       "      <td>709</td>\n",
       "    </tr>\n",
       "    <tr>\n",
       "      <th>salaire_brut</th>\n",
       "      <td>725</td>\n",
       "      <td>776</td>\n",
       "    </tr>\n",
       "    <tr>\n",
       "      <th>salaire_super_brut</th>\n",
       "      <td>802</td>\n",
       "      <td>861</td>\n",
       "    </tr>\n",
       "  </tbody>\n",
       "</table>\n",
       "</div>"
      ],
      "text/plain": [
       "secteur_public      False  True \n",
       "salaire               654    709\n",
       "salaire_brut          725    776\n",
       "salaire_super_brut    802    861"
      ]
     },
     "execution_count": 14,
     "metadata": {},
     "output_type": "execute_result"
    }
   ],
   "source": [
    "(\n",
    "    survey_scenario.compute_pivot_table(\n",
    "        columns = [\"secteur_public\"], \n",
    "        values = [\"salaire\", \"salaire_brut\", \"salaire_super_brut\"],\n",
    "        aggfunc = \"sum\",\n",
    "        period = year,\n",
    "        concat_axis = 0,\n",
    "        ) / 1e9\n",
    "    ).round(0).astype(int)"
   ]
  },
  {
   "cell_type": "markdown",
   "metadata": {
    "papermill": {
     "duration": 0.018341,
     "end_time": "2020-05-14T11:08:25.997942",
     "exception": false,
     "start_time": "2020-05-14T11:08:25.979601",
     "status": "completed"
    },
    "tags": []
   },
   "source": [
    "## Education variables"
   ]
  },
  {
   "cell_type": "markdown",
   "metadata": {
    "papermill": {
     "duration": 0.019947,
     "end_time": "2020-05-14T11:08:26.036795",
     "exception": false,
     "start_time": "2020-05-14T11:08:26.016848",
     "status": "completed"
    },
    "tags": []
   },
   "source": [
    "### Counts (in millions)"
   ]
  },
  {
   "cell_type": "code",
   "execution_count": 15,
   "metadata": {
    "papermill": {
     "duration": 0.045028,
     "end_time": "2020-05-14T11:08:26.101781",
     "exception": false,
     "start_time": "2020-05-14T11:08:26.056753",
     "status": "completed"
    },
    "tags": []
   },
   "outputs": [
    {
     "name": "stdout",
     "output_type": "stream",
     "text": [
      "eleve_enseignement_niveau   -1.0   0.0   1.0   2.0   3.0\n",
      "eleve_enseignement_public                               \n",
      "0.0                          NaN  0.06  0.54  0.55  0.07\n",
      "1.0                        18.12  0.08  2.66  0.89  0.10\n"
     ]
    }
   ],
   "source": [
    "print((survey_scenario.compute_pivot_table(columns = ['eleve_enseignement_niveau'], index = ['eleve_enseignement_public'], aggfunc = 'count', period = survey_scenario.year) / 1e6).round(2))"
   ]
  },
  {
   "cell_type": "code",
   "execution_count": 16,
   "metadata": {
    "papermill": {
     "duration": 0.035842,
     "end_time": "2020-05-14T11:08:26.159778",
     "exception": false,
     "start_time": "2020-05-14T11:08:26.123936",
     "status": "completed"
    },
    "tags": []
   },
   "outputs": [
    {
     "name": "stdout",
     "output_type": "stream",
     "text": [
      "In kind education tranfers\n",
      "pre_school_person: 21 billions FCFA\n",
      "pre_school: 21 billions FCFA\n",
      "primary_education_person: 341 billions FCFA\n",
      "primary_education: 341 billions FCFA\n",
      "secondary_education_person: 309 billions FCFA\n",
      "secondary_education: 309 billions FCFA\n",
      "tertiary_education_person: 195 billions FCFA\n",
      "tertiary_education: 195 billions FCFA\n",
      "education_net_transfers: 866 billions FCFA\n"
     ]
    }
   ],
   "source": [
    "variables = [\n",
    "    'pre_school_person',\n",
    "    'pre_school',\n",
    "    'primary_education_person',\n",
    "    'primary_education',\n",
    "    'secondary_education_person',\n",
    "    'secondary_education',\n",
    "    'tertiary_education_person',\n",
    "    'tertiary_education',\n",
    "    'education_net_transfers',\n",
    "    ]\n",
    "print(\"In kind education tranfers\")\n",
    "for variable in variables:\n",
    "    print(\n",
    "        \"{variable}: {aggregate} billions FCFA\".format(\n",
    "            variable = variable,\n",
    "            aggregate = int(round(survey_scenario.compute_aggregate(variable, period = survey_scenario.year) / 1e9))\n",
    "            )\n",
    "        )"
   ]
  },
  {
   "cell_type": "markdown",
   "metadata": {
    "papermill": {
     "duration": 0.018857,
     "end_time": "2020-05-14T11:08:26.200604",
     "exception": false,
     "start_time": "2020-05-14T11:08:26.181747",
     "status": "completed"
    },
    "tags": []
   },
   "source": [
    "## Tax variables"
   ]
  },
  {
   "cell_type": "markdown",
   "metadata": {
    "papermill": {
     "duration": 0.019335,
     "end_time": "2020-05-14T11:08:26.238798",
     "exception": false,
     "start_time": "2020-05-14T11:08:26.219463",
     "status": "completed"
    },
    "tags": []
   },
   "source": [
    "### Indirect tax variables"
   ]
  },
  {
   "cell_type": "code",
   "execution_count": 17,
   "metadata": {
    "papermill": {
     "duration": 0.027845,
     "end_time": "2020-05-14T11:08:26.286580",
     "exception": false,
     "start_time": "2020-05-14T11:08:26.258735",
     "status": "completed"
    },
    "tags": []
   },
   "outputs": [
    {
     "data": {
      "text/plain": [
       "['depenses_ht_tva_exonere',\n",
       " 'depenses_ht_tva_taux_normal',\n",
       " 'depenses_ht_tva_taux_reduit',\n",
       " 'tva_taux_normal',\n",
       " 'tva_taux_reduit',\n",
       " 'tva',\n",
       " 'depenses_ht_hd_sd_droits_douane_consommation_finale',\n",
       " 'depenses_ht_hd_sd_droits_douane_consommation_intermediaire',\n",
       " 'depenses_ht_hd_sd_droits_douane_equipements',\n",
       " 'depenses_ht_hd_sd_droits_douane_exonere',\n",
       " 'droits_douane_consommation_finale',\n",
       " 'droits_douane_consommation_intermediaire',\n",
       " 'droits_douane_equipements',\n",
       " 'droits_douane']"
      ]
     },
     "execution_count": 17,
     "metadata": {},
     "output_type": "execute_result"
    }
   ],
   "source": [
    "indirect_tax_variables = [\n",
    "    variable \n",
    "    for tax in indirect_tax_by_country[country]\n",
    "    for variable in survey_scenario.tax_benefit_system.variables.keys() \n",
    "    if tax in variable \n",
    "    ]\n",
    "indirect_tax_variables"
   ]
  },
  {
   "cell_type": "code",
   "execution_count": 18,
   "metadata": {
    "papermill": {
     "duration": 0.108352,
     "end_time": "2020-05-14T11:08:26.416438",
     "exception": false,
     "start_time": "2020-05-14T11:08:26.308086",
     "status": "completed"
    },
    "tags": []
   },
   "outputs": [
    {
     "data": {
      "text/html": [
       "<div>\n",
       "<style scoped>\n",
       "    .dataframe tbody tr th:only-of-type {\n",
       "        vertical-align: middle;\n",
       "    }\n",
       "\n",
       "    .dataframe tbody tr th {\n",
       "        vertical-align: top;\n",
       "    }\n",
       "\n",
       "    .dataframe thead th {\n",
       "        text-align: right;\n",
       "    }\n",
       "</style>\n",
       "<table border=\"1\" class=\"dataframe\">\n",
       "  <thead>\n",
       "    <tr style=\"text-align: right;\">\n",
       "      <th></th>\n",
       "      <th>aggregate</th>\n",
       "    </tr>\n",
       "  </thead>\n",
       "  <tbody>\n",
       "    <tr>\n",
       "      <th>depenses_ht_tva_exonere</th>\n",
       "      <td>5540</td>\n",
       "    </tr>\n",
       "    <tr>\n",
       "      <th>depenses_ht_tva_taux_normal</th>\n",
       "      <td>3612</td>\n",
       "    </tr>\n",
       "    <tr>\n",
       "      <th>depenses_ht_tva_taux_reduit</th>\n",
       "      <td>357</td>\n",
       "    </tr>\n",
       "    <tr>\n",
       "      <th>tva_taux_normal</th>\n",
       "      <td>650</td>\n",
       "    </tr>\n",
       "    <tr>\n",
       "      <th>tva_taux_reduit</th>\n",
       "      <td>32</td>\n",
       "    </tr>\n",
       "    <tr>\n",
       "      <th>tva</th>\n",
       "      <td>682</td>\n",
       "    </tr>\n",
       "    <tr>\n",
       "      <th>depenses_ht_hd_sd_droits_douane_consommation_finale</th>\n",
       "      <td>106</td>\n",
       "    </tr>\n",
       "    <tr>\n",
       "      <th>depenses_ht_hd_sd_droits_douane_consommation_intermediaire</th>\n",
       "      <td>9</td>\n",
       "    </tr>\n",
       "    <tr>\n",
       "      <th>depenses_ht_hd_sd_droits_douane_equipements</th>\n",
       "      <td>35</td>\n",
       "    </tr>\n",
       "    <tr>\n",
       "      <th>depenses_ht_hd_sd_droits_douane_exonere</th>\n",
       "      <td>969</td>\n",
       "    </tr>\n",
       "    <tr>\n",
       "      <th>droits_douane_consommation_finale</th>\n",
       "      <td>21</td>\n",
       "    </tr>\n",
       "    <tr>\n",
       "      <th>droits_douane_consommation_intermediaire</th>\n",
       "      <td>1</td>\n",
       "    </tr>\n",
       "    <tr>\n",
       "      <th>droits_douane_equipements</th>\n",
       "      <td>2</td>\n",
       "    </tr>\n",
       "    <tr>\n",
       "      <th>droits_douane</th>\n",
       "      <td>24</td>\n",
       "    </tr>\n",
       "  </tbody>\n",
       "</table>\n",
       "</div>"
      ],
      "text/plain": [
       "                                                    aggregate\n",
       "depenses_ht_tva_exonere                                  5540\n",
       "depenses_ht_tva_taux_normal                              3612\n",
       "depenses_ht_tva_taux_reduit                               357\n",
       "tva_taux_normal                                           650\n",
       "tva_taux_reduit                                            32\n",
       "tva                                                       682\n",
       "depenses_ht_hd_sd_droits_douane_consommation_fi...        106\n",
       "depenses_ht_hd_sd_droits_douane_consommation_in...          9\n",
       "depenses_ht_hd_sd_droits_douane_equipements                35\n",
       "depenses_ht_hd_sd_droits_douane_exonere                   969\n",
       "droits_douane_consommation_finale                          21\n",
       "droits_douane_consommation_intermediaire                    1\n",
       "droits_douane_equipements                                   2\n",
       "droits_douane                                              24"
      ]
     },
     "execution_count": 18,
     "metadata": {},
     "output_type": "execute_result"
    }
   ],
   "source": [
    "taxes_and_tariffs = pd.DataFrame(\n",
    "    index = indirect_tax_variables,\n",
    "    columns = ['aggregate'],\n",
    "    data = [\n",
    "        survey_scenario.compute_aggregate(variable, period = year) / 1e9 \n",
    "        for variable in indirect_tax_variables\n",
    "        ]\n",
    "    )\n",
    "taxes_and_tariffs.round().astype({\"aggregate\": int})"
   ]
  },
  {
   "cell_type": "markdown",
   "metadata": {
    "papermill": {
     "duration": 0.01945,
     "end_time": "2020-05-14T11:08:26.457720",
     "exception": false,
     "start_time": "2020-05-14T11:08:26.438270",
     "status": "completed"
    },
    "tags": []
   },
   "source": [
    "### Verify consumption"
   ]
  },
  {
   "cell_type": "code",
   "execution_count": 19,
   "metadata": {
    "papermill": {
     "duration": 0.033417,
     "end_time": "2020-05-14T11:08:26.511265",
     "exception": false,
     "start_time": "2020-05-14T11:08:26.477848",
     "status": "completed"
    },
    "tags": []
   },
   "outputs": [
    {
     "data": {
      "text/plain": [
       "10191.415079112514"
      ]
     },
     "execution_count": 19,
     "metadata": {},
     "output_type": "execute_result"
    }
   ],
   "source": [
    "consumption = survey_scenario.compute_aggregate('consumption', period = year) / 1e9\n",
    "consumption"
   ]
  },
  {
   "cell_type": "code",
   "execution_count": 20,
   "metadata": {
    "papermill": {
     "duration": 0.03003,
     "end_time": "2020-05-14T11:08:26.561630",
     "exception": false,
     "start_time": "2020-05-14T11:08:26.531600",
     "status": "completed"
    },
    "tags": []
   },
   "outputs": [
    {
     "data": {
      "text/plain": [
       "10191.415349864326"
      ]
     },
     "execution_count": 20,
     "metadata": {},
     "output_type": "execute_result"
    }
   ],
   "source": [
    "# assert consumption == \n",
    "sum(taxes_and_tariffs['aggregate'][\n",
    "    taxes_and_tariffs.index.str.contains('tva_')\n",
    "    ])"
   ]
  },
  {
   "cell_type": "code",
   "execution_count": 21,
   "metadata": {
    "papermill": {
     "duration": 0.053074,
     "end_time": "2020-05-14T11:08:26.637699",
     "exception": false,
     "start_time": "2020-05-14T11:08:26.584625",
     "status": "completed"
    },
    "tags": []
   },
   "outputs": [
    {
     "data": {
      "text/plain": [
       "10191.415282982805"
      ]
     },
     "execution_count": 21,
     "metadata": {},
     "output_type": "execute_result"
    }
   ],
   "source": [
    "# assert consumption == \n",
    "(\n",
    "    sum(\n",
    "        survey_scenario.compute_aggregate(variable, period = year)\n",
    "        for variable in survey_scenario.tax_benefit_system.variables\n",
    "        if \"depenses_ht_hd_poste\" in variable \n",
    "        ) \n",
    "    + survey_scenario.compute_aggregate(\"droits_douane\", period = year)\n",
    "    + survey_scenario.compute_aggregate(\"tva\", period = year)\n",
    "    ) / 1e9"
   ]
  },
  {
   "cell_type": "markdown",
   "metadata": {
    "papermill": {
     "duration": 0.019978,
     "end_time": "2020-05-14T11:08:26.680281",
     "exception": false,
     "start_time": "2020-05-14T11:08:26.660303",
     "status": "completed"
    },
    "tags": []
   },
   "source": [
    "# Inflate incomes   "
   ]
  },
  {
   "cell_type": "markdown",
   "metadata": {
    "papermill": {
     "duration": 0.021062,
     "end_time": "2020-05-14T11:08:26.723355",
     "exception": false,
     "start_time": "2020-05-14T11:08:26.702293",
     "status": "completed"
    },
    "tags": []
   },
   "source": [
    "## Income variables"
   ]
  },
  {
   "cell_type": "code",
   "execution_count": 22,
   "metadata": {
    "papermill": {
     "duration": 0.026764,
     "end_time": "2020-05-14T11:08:26.772129",
     "exception": false,
     "start_time": "2020-05-14T11:08:26.745365",
     "status": "completed"
    },
    "tags": []
   },
   "outputs": [],
   "source": [
    "income_variables = [\n",
    "    'autoconsumption',\n",
    "    'other_income',\n",
    "    'gifts_sales_durables',\n",
    "    'imputed_rent',\n",
    "    'revenu_agricole',\n",
    "    'autres_revenus_du_capital',\n",
    "    'revenu_informel_non_salarie',\n",
    "    'revenu_non_salarie',\n",
    "    'revenu_locatif',\n",
    "    'pension_retraite',\n",
    "    'salaire_super_brut',\n",
    "    ]"
   ]
  },
  {
   "cell_type": "code",
   "execution_count": 23,
   "metadata": {
    "papermill": {
     "duration": 0.031232,
     "end_time": "2020-05-14T11:08:26.826030",
     "exception": false,
     "start_time": "2020-05-14T11:08:26.794798",
     "status": "completed"
    },
    "tags": []
   },
   "outputs": [
    {
     "data": {
      "text/plain": [
       "7901.865799193011"
      ]
     },
     "execution_count": 23,
     "metadata": {},
     "output_type": "execute_result"
    }
   ],
   "source": [
    "sum(\n",
    "    survey_scenario.compute_aggregate(income_variable, period = year)\n",
    "    for income_variable in income_variables\n",
    "    ) / 1e9"
   ]
  },
  {
   "cell_type": "code",
   "execution_count": 24,
   "metadata": {
    "papermill": {
     "duration": 0.026973,
     "end_time": "2020-05-14T11:08:26.876972",
     "exception": false,
     "start_time": "2020-05-14T11:08:26.849999",
     "status": "completed"
    },
    "tags": []
   },
   "outputs": [],
   "source": [
    "# inflated_survey_scenario = build_ceq_survey_scenario(\n",
    "#     legislation_country = country, \n",
    "#     year = year,\n",
    "#     inflate = True,\n",
    "#     income_variables = income_variables\n",
    "#     )"
   ]
  },
  {
   "cell_type": "code",
   "execution_count": 25,
   "metadata": {
    "papermill": {
     "duration": 0.026886,
     "end_time": "2020-05-14T11:08:26.927227",
     "exception": false,
     "start_time": "2020-05-14T11:08:26.900341",
     "status": "completed"
    },
    "tags": []
   },
   "outputs": [],
   "source": [
    "# sum(\n",
    "#     inflated_survey_scenario.compute_aggregate(income_variable, period = year)\n",
    "#     for income_variable in income_variables\n",
    "#     ) / 1e9"
   ]
  },
  {
   "cell_type": "markdown",
   "metadata": {
    "papermill": {
     "duration": 0.020563,
     "end_time": "2020-05-14T11:08:26.969787",
     "exception": false,
     "start_time": "2020-05-14T11:08:26.949224",
     "status": "completed"
    },
    "tags": []
   },
   "source": [
    "# Indicators"
   ]
  },
  {
   "cell_type": "code",
   "execution_count": 26,
   "metadata": {
    "papermill": {
     "duration": 0.165898,
     "end_time": "2020-05-14T11:08:27.156324",
     "exception": false,
     "start_time": "2020-05-14T11:08:26.990426",
     "status": "completed"
    },
    "tags": []
   },
   "outputs": [
    {
     "data": {
      "text/html": [
       "<div>\n",
       "<style scoped>\n",
       "    .dataframe tbody tr th:only-of-type {\n",
       "        vertical-align: middle;\n",
       "    }\n",
       "\n",
       "    .dataframe tbody tr th {\n",
       "        vertical-align: top;\n",
       "    }\n",
       "\n",
       "    .dataframe thead th {\n",
       "        text-align: right;\n",
       "    }\n",
       "</style>\n",
       "<table border=\"1\" class=\"dataframe\">\n",
       "  <thead>\n",
       "    <tr style=\"text-align: right;\">\n",
       "      <th></th>\n",
       "      <th>market_income</th>\n",
       "      <th>market_income_plus_pensions</th>\n",
       "      <th>gross_income</th>\n",
       "      <th>disposable_income</th>\n",
       "      <th>consumable_income</th>\n",
       "      <th>final_income</th>\n",
       "    </tr>\n",
       "  </thead>\n",
       "  <tbody>\n",
       "    <tr>\n",
       "      <th>Gini</th>\n",
       "      <td>0.59</td>\n",
       "      <td>0.59</td>\n",
       "      <td>0.59</td>\n",
       "      <td>0.59</td>\n",
       "      <td>0.61</td>\n",
       "      <td>0.57</td>\n",
       "    </tr>\n",
       "    <tr>\n",
       "      <th>Bottom 40 %</th>\n",
       "      <td>0.08</td>\n",
       "      <td>0.08</td>\n",
       "      <td>0.08</td>\n",
       "      <td>0.08</td>\n",
       "      <td>0.07</td>\n",
       "      <td>0.09</td>\n",
       "    </tr>\n",
       "    <tr>\n",
       "      <th>Top 10 %</th>\n",
       "      <td>0.46</td>\n",
       "      <td>0.46</td>\n",
       "      <td>0.46</td>\n",
       "      <td>0.46</td>\n",
       "      <td>0.47</td>\n",
       "      <td>0.44</td>\n",
       "    </tr>\n",
       "  </tbody>\n",
       "</table>\n",
       "</div>"
      ],
      "text/plain": [
       "             market_income  market_income_plus_pensions  gross_income  \\\n",
       "Gini                  0.59                         0.59          0.59   \n",
       "Bottom 40 %           0.08                         0.08          0.08   \n",
       "Top 10 %              0.46                         0.46          0.46   \n",
       "\n",
       "             disposable_income  consumable_income  final_income  \n",
       "Gini                      0.59               0.61          0.57  \n",
       "Bottom 40 %               0.08               0.07          0.09  \n",
       "Top 10 %                  0.46               0.47          0.44  "
      ]
     },
     "execution_count": 26,
     "metadata": {},
     "output_type": "execute_result"
    }
   ],
   "source": [
    "from openfisca_survey_manager.statshelpers import gini, bottom_share, top_share, lorenz\n",
    "variables = [\n",
    "    \"market_income\", \n",
    "    \"market_income_plus_pensions\",\n",
    "    \"gross_income\",\n",
    "    \"disposable_income\",\n",
    "    \"consumable_income\", \n",
    "    \"final_income\",\n",
    "    ]\n",
    "variable = \"market_income\"\n",
    "nb_persons = survey_scenario.calculate_variable(\"number_of_people_per_household\", period = year)\n",
    "weights = survey_scenario.calculate_variable(\"household_weight\", period = year) * nb_persons\n",
    "BOTTOM_SHARE = .4\n",
    "TOP_SHARE = .1\n",
    "pd.DataFrame.from_dict(\n",
    "    dict([\n",
    "        (\n",
    "            variable, \n",
    "            {\n",
    "                \"Gini\": gini(survey_scenario.calculate_variable(variable, period = year) / nb_persons, weights),\n",
    "                \"Bottom 40 %\": bottom_share(survey_scenario.calculate_variable(variable, period = year) / nb_persons, BOTTOM_SHARE, weights = weights),\n",
    "                \"Top 10 %\": top_share(survey_scenario.calculate_variable(variable, period = year) / nb_persons, TOP_SHARE, weights = weights),\n",
    "                }\n",
    "            ) \n",
    "        for variable in variables\n",
    "        ])\n",
    "    ).round(2)"
   ]
  },
  {
   "cell_type": "code",
   "execution_count": 27,
   "metadata": {
    "papermill": {
     "duration": 0.028694,
     "end_time": "2020-05-14T11:08:27.210047",
     "exception": false,
     "start_time": "2020-05-14T11:08:27.181353",
     "status": "completed"
    },
    "tags": []
   },
   "outputs": [
    {
     "data": {
      "text/plain": [
       "706.2203836254715"
      ]
     },
     "execution_count": 27,
     "metadata": {},
     "output_type": "execute_result"
    }
   ],
   "source": [
    "survey_scenario.compute_aggregate(\"impots_indirects\", period = year) / 1e9"
   ]
  },
  {
   "cell_type": "code",
   "execution_count": 28,
   "metadata": {
    "papermill": {
     "duration": 0.030451,
     "end_time": "2020-05-14T11:08:27.262275",
     "exception": false,
     "start_time": "2020-05-14T11:08:27.231824",
     "status": "completed"
    },
    "tags": []
   },
   "outputs": [
    {
     "data": {
      "text/plain": [
       "47.028572916102284"
      ]
     },
     "execution_count": 28,
     "metadata": {},
     "output_type": "execute_result"
    }
   ],
   "source": [
    "survey_scenario.compute_aggregate(\"direct_taxes\", period = year) / 1e9"
   ]
  },
  {
   "cell_type": "code",
   "execution_count": 29,
   "metadata": {
    "papermill": {
     "duration": 0.029897,
     "end_time": "2020-05-14T11:08:27.316769",
     "exception": false,
     "start_time": "2020-05-14T11:08:27.286872",
     "status": "completed"
    },
    "tags": []
   },
   "outputs": [
    {
     "data": {
      "text/plain": [
       "47.028572916102284"
      ]
     },
     "execution_count": 29,
     "metadata": {},
     "output_type": "execute_result"
    }
   ],
   "source": [
    "survey_scenario.compute_aggregate(\"personal_income_tax\", period = year) / 1e9"
   ]
  },
  {
   "cell_type": "code",
   "execution_count": 30,
   "metadata": {
    "papermill": {
     "duration": 0.027411,
     "end_time": "2020-05-14T11:08:27.367670",
     "exception": false,
     "start_time": "2020-05-14T11:08:27.340259",
     "status": "completed"
    },
    "tags": []
   },
   "outputs": [],
   "source": [
    "from openfisca_ceq import list_variables_from_directory"
   ]
  },
  {
   "cell_type": "code",
   "execution_count": 31,
   "metadata": {
    "papermill": {
     "duration": 0.037953,
     "end_time": "2020-05-14T11:08:27.429107",
     "exception": false,
     "start_time": "2020-05-14T11:08:27.391154",
     "status": "completed"
    },
    "tags": []
   },
   "outputs": [
    {
     "data": {
      "text/plain": [
       "['agricultural_inputs_subsidies',\n",
       " 'alimony',\n",
       " 'contributions_health',\n",
       " 'corporate_income_tax',\n",
       " 'electricity_subsidies',\n",
       " 'employee_contributions_health',\n",
       " 'employee_other_contributions',\n",
       " 'employer_contributions_health',\n",
       " 'excise_taxes',\n",
       " 'food_subsidies',\n",
       " 'fuel_subsidies',\n",
       " 'indirect_subsidies',\n",
       " 'other_taxes',\n",
       " 'payroll_tax',\n",
       " 'property_tax',\n",
       " 'sales_tax',\n",
       " 'self_employed_contributions_health',\n",
       " 'self_employed_contributions_pensions',\n",
       " 'self_employed_other_contributions']"
      ]
     },
     "execution_count": 31,
     "metadata": {},
     "output_type": "execute_result"
    }
   ],
   "source": [
    "ceq_variables = sorted(list_variables_from_directory(survey_scenario.tax_benefit_system))\n",
    "[\n",
    "    ceq_variable\n",
    "    for ceq_variable in ceq_variables\n",
    "    if survey_scenario.compute_aggregate(ceq_variable, period = year) == 0\n",
    "    ]"
   ]
  },
  {
   "cell_type": "code",
   "execution_count": 32,
   "metadata": {
    "papermill": {
     "duration": 0.179892,
     "end_time": "2020-05-14T11:08:27.634652",
     "exception": false,
     "start_time": "2020-05-14T11:08:27.454760",
     "status": "completed"
    },
    "tags": []
   },
   "outputs": [
    {
     "data": {
      "text/plain": [
       "[<matplotlib.lines.Line2D at 0x7fbccc6b4518>]"
      ]
     },
     "execution_count": 32,
     "metadata": {},
     "output_type": "execute_result"
    },
    {
     "data": {
      "image/png": "[encoded data removed]",
      "text/plain": [
       "<Figure size 432x288 with 1 Axes>"
      ]
     },
     "metadata": {
      "needs_background": "light"
     },
     "output_type": "display_data"
    }
   ],
   "source": [
    "variable = \"market_income\"\n",
    "y, x = lorenz(survey_scenario.calculate_variable(variable, period = year), weights = weights)\n",
    "plt.plot(x, y)"
   ]
  },
  {
   "cell_type": "code",
   "execution_count": 33,
   "metadata": {
    "papermill": {
     "duration": 0.03071,
     "end_time": "2020-05-14T11:08:27.691015",
     "exception": false,
     "start_time": "2020-05-14T11:08:27.660305",
     "status": "completed"
    },
    "tags": []
   },
   "outputs": [
    {
     "data": {
      "text/plain": [
       "8.438274100199402"
      ]
     },
     "execution_count": 33,
     "metadata": {},
     "output_type": "execute_result"
    }
   ],
   "source": [
    "survey_scenario.compute_aggregate('direct_transfers', period = year) / 1e9"
   ]
  },
  {
   "cell_type": "code",
   "execution_count": 34,
   "metadata": {
    "papermill": {
     "duration": 0.030953,
     "end_time": "2020-05-14T11:08:27.748213",
     "exception": false,
     "start_time": "2020-05-14T11:08:27.717260",
     "status": "completed"
    },
    "tags": []
   },
   "outputs": [
    {
     "data": {
      "text/plain": [
       "['agricultural_inputs_subsidies',\n",
       " 'alimony',\n",
       " 'all_income_excluding_transfers',\n",
       " 'autoconsumption',\n",
       " 'consumable_income',\n",
       " 'contributions_health',\n",
       " 'contributions_pensions',\n",
       " 'corporate_income_tax',\n",
       " 'customs_duties',\n",
       " 'direct_taxes',\n",
       " 'disposable_income',\n",
       " 'electricity_subsidies',\n",
       " 'employee_contributions_health',\n",
       " 'employee_contributions_pensions',\n",
       " 'employee_other_contributions',\n",
       " 'employer_contributions_health',\n",
       " 'employer_contributions_pensions',\n",
       " 'employer_other_contributions',\n",
       " 'excise_taxes',\n",
       " 'final_income',\n",
       " 'food_subsidies',\n",
       " 'fuel_subsidies',\n",
       " 'gifts_sales_durables',\n",
       " 'gross_income',\n",
       " 'imputed_rent',\n",
       " 'indirect_subsidies',\n",
       " 'indirect_taxes',\n",
       " 'market_income',\n",
       " 'market_income_plus_pensions',\n",
       " 'net_market_income',\n",
       " 'nontaxable_income',\n",
       " 'other_contributions',\n",
       " 'other_income',\n",
       " 'other_taxes',\n",
       " 'payroll_tax',\n",
       " 'pensions',\n",
       " 'personal_income_tax',\n",
       " 'property_tax',\n",
       " 'sales_tax',\n",
       " 'self_employed_contributions_health',\n",
       " 'self_employed_contributions_pensions',\n",
       " 'self_employed_other_contributions',\n",
       " 'taxable_income',\n",
       " 'value_added_tax']"
      ]
     },
     "execution_count": 34,
     "metadata": {},
     "output_type": "execute_result"
    }
   ],
   "source": [
    "ceq_variables"
   ]
  },
  {
   "cell_type": "code",
   "execution_count": null,
   "metadata": {
    "papermill": {
     "duration": 0.024606,
     "end_time": "2020-05-14T11:08:27.797516",
     "exception": false,
     "start_time": "2020-05-14T11:08:27.772910",
     "status": "completed"
    },
    "tags": []
   },
   "outputs": [],
   "source": []
  }
 ],
 "metadata": {
  "kernelspec": {
   "display_name": "Python 3",
   "language": "python",
   "name": "python3"
  },
  "language_info": {
   "codemirror_mode": {
    "name": "ipython",
    "version": 3
   },
   "file_extension": ".py",
   "mimetype": "text/x-python",
   "name": "python",
   "nbconvert_exporter": "python",
   "pygments_lexer": "ipython3",
   "version": "3.7.3"
  },
  "papermill": {
   "duration": 8.839777,
   "end_time": "2020-05-14T11:08:27.824809",
   "environment_variables": {},
   "exception": null,
   "input_path": "notebooks/test.ipynb",
   "output_path": "notebooks/cote_d_ivoire.ipynb",
   "parameters": {
    "country": "cote_d_ivoire"
   },
   "start_time": "2020-05-14T11:08:18.985032",
   "version": "2.0.0"
  }
 },
 "nbformat": 4,
 "nbformat_minor": 4
}