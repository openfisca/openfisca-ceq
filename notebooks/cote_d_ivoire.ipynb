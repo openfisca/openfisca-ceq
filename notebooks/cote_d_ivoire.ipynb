{
 "cells": [
  {
   "cell_type": "code",
   "execution_count": 1,
   "metadata": {
    "execution": {
     "iopub.execute_input": "2020-07-10T17:29:17.146194Z",
     "iopub.status.busy": "2020-07-10T17:29:17.145688Z",
     "iopub.status.idle": "2020-07-10T17:29:17.149188Z",
     "shell.execute_reply": "2020-07-10T17:29:17.148404Z"
    },
    "papermill": {
     "duration": 0.044354,
     "end_time": "2020-07-10T17:29:17.149344",
     "exception": false,
     "start_time": "2020-07-10T17:29:17.104990",
     "status": "completed"
    },
    "tags": []
   },
   "outputs": [],
   "source": [
    "# !pip install -U git+https://github.com/openfisca/openfisca-ceq.git@master#egg=OpenFisca-CEQ\n",
    "# !pip install -U git+https://github.com/openfisca/openfisca-senegal.git@ceq#egg=OpenFisca-Senegal\n",
    "# !pip install -U git+https://github.com/openfisca/openfisca-mali.git@master#egg=OpenFisca-Mali\n",
    "# !pip install -U git+https://github.com/openfisca/openfisca-cote-d-ivoire.git@master#egg=OpenFisca-COTE-D-IVOIRE"
   ]
  },
  {
   "cell_type": "code",
   "execution_count": 2,
   "metadata": {
    "execution": {
     "iopub.execute_input": "2020-07-10T17:29:17.221778Z",
     "iopub.status.busy": "2020-07-10T17:29:17.220569Z",
     "iopub.status.idle": "2020-07-10T17:29:17.918475Z",
     "shell.execute_reply": "2020-07-10T17:29:17.917393Z"
    },
    "papermill": {
     "duration": 0.737322,
     "end_time": "2020-07-10T17:29:17.918680",
     "exception": false,
     "start_time": "2020-07-10T17:29:17.181358",
     "status": "completed"
    },
    "tags": []
   },
   "outputs": [],
   "source": [
    "from matplotlib import pyplot as plt\n",
    "%matplotlib inline\n",
    "import pandas as pd\n",
    "from openfisca_ceq.tools.survey_scenario import build_ceq_survey_scenario\n",
    "from openfisca_ceq.tools.indirect_taxation.tax_benefit_system_indirect_taxation_completion import indirect_tax_by_country\n",
    "from openfisca_ceq.tools.data import year_by_country\n",
    "from openfisca_ceq.tools.data_ceq_correspondence import (\n",
    "    ceq_input_by_harmonized_variable,\n",
    "    ceq_intermediate_by_harmonized_variable,\n",
    "    non_ceq_input_by_harmonized_variable,\n",
    "    )"
   ]
  },
  {
   "cell_type": "markdown",
   "metadata": {
    "papermill": {
     "duration": 0.025488,
     "end_time": "2020-07-10T17:29:17.975429",
     "exception": false,
     "start_time": "2020-07-10T17:29:17.949941",
     "status": "completed"
    },
    "tags": []
   },
   "source": [
    "# Build country scenario"
   ]
  },
  {
   "cell_type": "markdown",
   "metadata": {
    "papermill": {
     "duration": 0.043616,
     "end_time": "2020-07-10T17:29:18.045261",
     "exception": false,
     "start_time": "2020-07-10T17:29:18.001645",
     "status": "completed"
    },
    "tags": []
   },
   "source": [
    "## Country selection"
   ]
  },
  {
   "cell_type": "code",
   "execution_count": 3,
   "metadata": {
    "execution": {
     "iopub.execute_input": "2020-07-10T17:29:18.120965Z",
     "iopub.status.busy": "2020-07-10T17:29:18.120442Z",
     "iopub.status.idle": "2020-07-10T17:29:18.123582Z",
     "shell.execute_reply": "2020-07-10T17:29:18.124052Z"
    },
    "papermill": {
     "duration": 0.039926,
     "end_time": "2020-07-10T17:29:18.124190",
     "exception": false,
     "start_time": "2020-07-10T17:29:18.084264",
     "status": "completed"
    },
    "tags": [
     "parameters"
    ]
   },
   "outputs": [],
   "source": [
    "country = \"mali\""
   ]
  },
  {
   "cell_type": "code",
   "execution_count": 4,
   "metadata": {
    "execution": {
     "iopub.execute_input": "2020-07-10T17:29:18.190843Z",
     "iopub.status.busy": "2020-07-10T17:29:18.190417Z",
     "iopub.status.idle": "2020-07-10T17:29:18.192386Z",
     "shell.execute_reply": "2020-07-10T17:29:18.192706Z"
    },
    "papermill": {
     "duration": 0.033977,
     "end_time": "2020-07-10T17:29:18.192811",
     "exception": false,
     "start_time": "2020-07-10T17:29:18.158834",
     "status": "completed"
    },
    "tags": [
     "injected-parameters"
    ]
   },
   "outputs": [],
   "source": [
    "# Parameters\n",
    "country = \"cote_d_ivoire\"\n"
   ]
  },
  {
   "cell_type": "code",
   "execution_count": 5,
   "metadata": {
    "execution": {
     "iopub.execute_input": "2020-07-10T17:29:18.263484Z",
     "iopub.status.busy": "2020-07-10T17:29:18.262934Z",
     "iopub.status.idle": "2020-07-10T17:29:22.793935Z",
     "shell.execute_reply": "2020-07-10T17:29:22.794323Z"
    },
    "papermill": {
     "duration": 4.56904,
     "end_time": "2020-07-10T17:29:22.794445",
     "exception": false,
     "start_time": "2020-07-10T17:29:18.225405",
     "status": "completed"
    },
    "tags": []
   },
   "outputs": [
    {
     "name": "stderr",
     "output_type": "stream",
     "text": [
      "/home/benjello/.virtualenvs/ceq/lib/python3.7/site-packages/pandas/io/stata.py:1409: UnicodeWarning: \n",
      "One or more strings in the dta file could not be decoded using utf-8, and\n",
      "so the fallback encoding of latin-1 is being used.  This can happen when a file\n",
      "has been incorrectly encoded by Stata or some other software. You should verify\n",
      "the string values returned are correct.\n",
      "  warnings.warn(msg, UnicodeWarning)\n"
     ]
    }
   ],
   "source": [
    "year = year_by_country[country]\n",
    "survey_scenario = build_ceq_survey_scenario(legislation_country = country, year = year)"
   ]
  },
  {
   "cell_type": "markdown",
   "metadata": {
    "papermill": {
     "duration": 0.026223,
     "end_time": "2020-07-10T17:29:22.847252",
     "exception": false,
     "start_time": "2020-07-10T17:29:22.821029",
     "status": "completed"
    },
    "tags": []
   },
   "source": [
    "# Aggegates check"
   ]
  },
  {
   "cell_type": "markdown",
   "metadata": {
    "papermill": {
     "duration": 0.026956,
     "end_time": "2020-07-10T17:29:22.900888",
     "exception": false,
     "start_time": "2020-07-10T17:29:22.873932",
     "status": "completed"
    },
    "tags": []
   },
   "source": [
    "## Income variables"
   ]
  },
  {
   "cell_type": "markdown",
   "metadata": {
    "papermill": {
     "duration": 0.027241,
     "end_time": "2020-07-10T17:29:22.956175",
     "exception": false,
     "start_time": "2020-07-10T17:29:22.928934",
     "status": "completed"
    },
    "tags": []
   },
   "source": [
    "### Disagregated income variables"
   ]
  },
  {
   "cell_type": "code",
   "execution_count": 6,
   "metadata": {
    "execution": {
     "iopub.execute_input": "2020-07-10T17:29:23.026413Z",
     "iopub.status.busy": "2020-07-10T17:29:23.021350Z",
     "iopub.status.idle": "2020-07-10T17:29:23.031404Z",
     "shell.execute_reply": "2020-07-10T17:29:23.030368Z"
    },
    "papermill": {
     "duration": 0.047885,
     "end_time": "2020-07-10T17:29:23.031727",
     "exception": false,
     "start_time": "2020-07-10T17:29:22.983842",
     "status": "completed"
    },
    "tags": []
   },
   "outputs": [
    {
     "data": {
      "text/plain": [
       "{'rev_i_autoconsommation': 'autoconsumption',\n",
       " 'rev_i_autres': 'other_income',\n",
       " 'rev_i_autres_transferts': 'gifts_sales_durables',\n",
       " 'rev_i_loyers_imputes': 'imputed_rent',\n",
       " 'rev_i_transferts_publics': 'direct_transfers',\n",
       " 'rev_i_agricoles': 'revenu_agricole',\n",
       " 'rev_i_autres_revenus_capital': 'autres_revenus_du_capital',\n",
       " 'rev_i_independants_Ntaxe': 'revenu_informel_non_salarie',\n",
       " 'rev_i_independants_taxe': 'revenu_non_salarie',\n",
       " 'rev_i_locatifs': 'revenu_locatif',\n",
       " 'rev_i_pensions': 'pension_retraite',\n",
       " 'rev_i_salaires_formels': 'salaire',\n",
       " 'rev_i_salaires_informels': 'revenu_informel_salarie',\n",
       " 'autres_revenus_du_capital_brut': 'autres_revenus_du_capital_brut',\n",
       " 'pension_retraite_brut': 'pension_retraite_brut',\n",
       " 'revenu_foncier_brut': 'revenu_foncier_brut',\n",
       " 'revenu_non_salarie_brut': 'revenu_non_salarie_brut',\n",
       " 'salaire_brut': 'salaire_brut',\n",
       " 'salaire_super_brut': 'salaire_super_brut'}"
      ]
     },
     "execution_count": 6,
     "metadata": {},
     "output_type": "execute_result"
    }
   ],
   "source": [
    "ceq_by_harmonized_variable = dict()\n",
    "ceq_by_harmonized_variable.update(ceq_input_by_harmonized_variable)\n",
    "ceq_by_harmonized_variable.update(ceq_intermediate_by_harmonized_variable)\n",
    "ceq_by_harmonized_variable.update(non_ceq_input_by_harmonized_variable)\n",
    "ceq_by_harmonized_variable['autres_revenus_du_capital_brut'] = 'autres_revenus_du_capital_brut'\n",
    "ceq_by_harmonized_variable['pension_retraite_brut'] = 'pension_retraite_brut'\n",
    "ceq_by_harmonized_variable['revenu_foncier_brut'] = 'revenu_foncier_brut'\n",
    "ceq_by_harmonized_variable['revenu_non_salarie_brut'] = 'revenu_non_salarie_brut' \n",
    "ceq_by_harmonized_variable['salaire_brut'] = 'salaire_brut'\n",
    "ceq_by_harmonized_variable['salaire_super_brut'] = 'salaire_super_brut'\n",
    "ceq_by_harmonized_variable"
   ]
  },
  {
   "cell_type": "code",
   "execution_count": 7,
   "metadata": {
    "execution": {
     "iopub.execute_input": "2020-07-10T17:29:23.103944Z",
     "iopub.status.busy": "2020-07-10T17:29:23.103403Z",
     "iopub.status.idle": "2020-07-10T17:29:23.132288Z",
     "shell.execute_reply": "2020-07-10T17:29:23.132829Z"
    },
    "papermill": {
     "duration": 0.069932,
     "end_time": "2020-07-10T17:29:23.132985",
     "exception": false,
     "start_time": "2020-07-10T17:29:23.063053",
     "status": "completed"
    },
    "tags": []
   },
   "outputs": [],
   "source": [
    "data = [\n",
    "    (harmonized_variable, openfisca_variable, survey_scenario.compute_aggregate(openfisca_variable, period = year) / 1e9) \n",
    "    for harmonized_variable, openfisca_variable in ceq_by_harmonized_variable.items()\n",
    "    ]"
   ]
  },
  {
   "cell_type": "code",
   "execution_count": 8,
   "metadata": {
    "execution": {
     "iopub.execute_input": "2020-07-10T17:29:23.225467Z",
     "iopub.status.busy": "2020-07-10T17:29:23.224817Z",
     "iopub.status.idle": "2020-07-10T17:29:23.241084Z",
     "shell.execute_reply": "2020-07-10T17:29:23.241865Z"
    },
    "papermill": {
     "duration": 0.065519,
     "end_time": "2020-07-10T17:29:23.242011",
     "exception": false,
     "start_time": "2020-07-10T17:29:23.176492",
     "status": "completed"
    },
    "tags": []
   },
   "outputs": [
    {
     "data": {
      "text/html": [
       "<div>\n",
       "<style scoped>\n",
       "    .dataframe tbody tr th:only-of-type {\n",
       "        vertical-align: middle;\n",
       "    }\n",
       "\n",
       "    .dataframe tbody tr th {\n",
       "        vertical-align: top;\n",
       "    }\n",
       "\n",
       "    .dataframe thead th {\n",
       "        text-align: right;\n",
       "    }\n",
       "</style>\n",
       "<table border=\"1\" class=\"dataframe\">\n",
       "  <thead>\n",
       "    <tr style=\"text-align: right;\">\n",
       "      <th></th>\n",
       "      <th>harmonized</th>\n",
       "      <th>openfisca</th>\n",
       "      <th>aggregate</th>\n",
       "    </tr>\n",
       "  </thead>\n",
       "  <tbody>\n",
       "    <tr>\n",
       "      <th>0</th>\n",
       "      <td>rev_i_autoconsommation</td>\n",
       "      <td>autoconsumption</td>\n",
       "      <td>1289</td>\n",
       "    </tr>\n",
       "    <tr>\n",
       "      <th>1</th>\n",
       "      <td>rev_i_autres</td>\n",
       "      <td>other_income</td>\n",
       "      <td>581</td>\n",
       "    </tr>\n",
       "    <tr>\n",
       "      <th>2</th>\n",
       "      <td>rev_i_autres_transferts</td>\n",
       "      <td>gifts_sales_durables</td>\n",
       "      <td>782</td>\n",
       "    </tr>\n",
       "    <tr>\n",
       "      <th>3</th>\n",
       "      <td>rev_i_loyers_imputes</td>\n",
       "      <td>imputed_rent</td>\n",
       "      <td>277</td>\n",
       "    </tr>\n",
       "    <tr>\n",
       "      <th>4</th>\n",
       "      <td>rev_i_transferts_publics</td>\n",
       "      <td>direct_transfers</td>\n",
       "      <td>8</td>\n",
       "    </tr>\n",
       "    <tr>\n",
       "      <th>5</th>\n",
       "      <td>rev_i_agricoles</td>\n",
       "      <td>revenu_agricole</td>\n",
       "      <td>1428</td>\n",
       "    </tr>\n",
       "    <tr>\n",
       "      <th>6</th>\n",
       "      <td>rev_i_autres_revenus_capital</td>\n",
       "      <td>autres_revenus_du_capital</td>\n",
       "      <td>75</td>\n",
       "    </tr>\n",
       "    <tr>\n",
       "      <th>7</th>\n",
       "      <td>rev_i_independants_Ntaxe</td>\n",
       "      <td>revenu_informel_non_salarie</td>\n",
       "      <td>1346</td>\n",
       "    </tr>\n",
       "    <tr>\n",
       "      <th>8</th>\n",
       "      <td>rev_i_independants_taxe</td>\n",
       "      <td>revenu_non_salarie</td>\n",
       "      <td>245</td>\n",
       "    </tr>\n",
       "    <tr>\n",
       "      <th>9</th>\n",
       "      <td>rev_i_locatifs</td>\n",
       "      <td>revenu_locatif</td>\n",
       "      <td>215</td>\n",
       "    </tr>\n",
       "    <tr>\n",
       "      <th>10</th>\n",
       "      <td>rev_i_pensions</td>\n",
       "      <td>pension_retraite</td>\n",
       "      <td>354</td>\n",
       "    </tr>\n",
       "    <tr>\n",
       "      <th>11</th>\n",
       "      <td>rev_i_salaires_formels</td>\n",
       "      <td>salaire</td>\n",
       "      <td>1364</td>\n",
       "    </tr>\n",
       "    <tr>\n",
       "      <th>12</th>\n",
       "      <td>rev_i_salaires_informels</td>\n",
       "      <td>revenu_informel_salarie</td>\n",
       "      <td>2278</td>\n",
       "    </tr>\n",
       "    <tr>\n",
       "      <th>13</th>\n",
       "      <td>autres_revenus_du_capital_brut</td>\n",
       "      <td>autres_revenus_du_capital_brut</td>\n",
       "      <td>91</td>\n",
       "    </tr>\n",
       "    <tr>\n",
       "      <th>14</th>\n",
       "      <td>pension_retraite_brut</td>\n",
       "      <td>pension_retraite_brut</td>\n",
       "      <td>354</td>\n",
       "    </tr>\n",
       "    <tr>\n",
       "      <th>15</th>\n",
       "      <td>revenu_foncier_brut</td>\n",
       "      <td>revenu_foncier_brut</td>\n",
       "      <td>222</td>\n",
       "    </tr>\n",
       "    <tr>\n",
       "      <th>16</th>\n",
       "      <td>revenu_non_salarie_brut</td>\n",
       "      <td>revenu_non_salarie_brut</td>\n",
       "      <td>245</td>\n",
       "    </tr>\n",
       "    <tr>\n",
       "      <th>17</th>\n",
       "      <td>salaire_brut</td>\n",
       "      <td>salaire_brut</td>\n",
       "      <td>1616</td>\n",
       "    </tr>\n",
       "    <tr>\n",
       "      <th>18</th>\n",
       "      <td>salaire_super_brut</td>\n",
       "      <td>salaire_super_brut</td>\n",
       "      <td>1787</td>\n",
       "    </tr>\n",
       "  </tbody>\n",
       "</table>\n",
       "</div>"
      ],
      "text/plain": [
       "                        harmonized                       openfisca  aggregate\n",
       "0           rev_i_autoconsommation                 autoconsumption       1289\n",
       "1                     rev_i_autres                    other_income        581\n",
       "2          rev_i_autres_transferts            gifts_sales_durables        782\n",
       "3             rev_i_loyers_imputes                    imputed_rent        277\n",
       "4         rev_i_transferts_publics                direct_transfers          8\n",
       "5                  rev_i_agricoles                 revenu_agricole       1428\n",
       "6     rev_i_autres_revenus_capital       autres_revenus_du_capital         75\n",
       "7         rev_i_independants_Ntaxe     revenu_informel_non_salarie       1346\n",
       "8          rev_i_independants_taxe              revenu_non_salarie        245\n",
       "9                   rev_i_locatifs                  revenu_locatif        215\n",
       "10                  rev_i_pensions                pension_retraite        354\n",
       "11          rev_i_salaires_formels                         salaire       1364\n",
       "12        rev_i_salaires_informels         revenu_informel_salarie       2278\n",
       "13  autres_revenus_du_capital_brut  autres_revenus_du_capital_brut         91\n",
       "14           pension_retraite_brut           pension_retraite_brut        354\n",
       "15             revenu_foncier_brut             revenu_foncier_brut        222\n",
       "16         revenu_non_salarie_brut         revenu_non_salarie_brut        245\n",
       "17                    salaire_brut                    salaire_brut       1616\n",
       "18              salaire_super_brut              salaire_super_brut       1787"
      ]
     },
     "execution_count": 8,
     "metadata": {},
     "output_type": "execute_result"
    }
   ],
   "source": [
    "revenus = pd.DataFrame(data, columns = [\"harmonized\", \"openfisca\", \"aggregate\"])\n",
    "revenus.round(0).astype({\"aggregate\": int})"
   ]
  },
  {
   "cell_type": "markdown",
   "metadata": {
    "papermill": {
     "duration": 0.030676,
     "end_time": "2020-07-10T17:29:23.302922",
     "exception": false,
     "start_time": "2020-07-10T17:29:23.272246",
     "status": "completed"
    },
    "tags": []
   },
   "source": [
    "### Agregated income variables"
   ]
  },
  {
   "cell_type": "markdown",
   "metadata": {
    "papermill": {
     "duration": 0.030403,
     "end_time": "2020-07-10T17:29:23.364478",
     "exception": false,
     "start_time": "2020-07-10T17:29:23.334075",
     "status": "completed"
    },
    "tags": []
   },
   "source": [
    "#### CEQ agregated income variables"
   ]
  },
  {
   "cell_type": "code",
   "execution_count": 9,
   "metadata": {
    "execution": {
     "iopub.execute_input": "2020-07-10T17:29:23.435553Z",
     "iopub.status.busy": "2020-07-10T17:29:23.434350Z",
     "iopub.status.idle": "2020-07-10T17:29:23.436666Z",
     "shell.execute_reply": "2020-07-10T17:29:23.437651Z"
    },
    "papermill": {
     "duration": 0.044464,
     "end_time": "2020-07-10T17:29:23.437899",
     "exception": false,
     "start_time": "2020-07-10T17:29:23.393435",
     "status": "completed"
    },
    "tags": []
   },
   "outputs": [],
   "source": [
    "ceq_variables = [\"market_income\", \"market_income_plus_pensions\", \"pensions\", \"contributions_pensions\", \"net_market_income\", \"direct_taxes\", \"other_contributions\", \"contributions_health\", ]"
   ]
  },
  {
   "cell_type": "code",
   "execution_count": 10,
   "metadata": {
    "execution": {
     "iopub.execute_input": "2020-07-10T17:29:23.510171Z",
     "iopub.status.busy": "2020-07-10T17:29:23.509152Z",
     "iopub.status.idle": "2020-07-10T17:29:23.540161Z",
     "shell.execute_reply": "2020-07-10T17:29:23.539603Z"
    },
    "papermill": {
     "duration": 0.069365,
     "end_time": "2020-07-10T17:29:23.540303",
     "exception": false,
     "start_time": "2020-07-10T17:29:23.470938",
     "status": "completed"
    },
    "tags": []
   },
   "outputs": [
    {
     "data": {
      "text/html": [
       "<div>\n",
       "<style scoped>\n",
       "    .dataframe tbody tr th:only-of-type {\n",
       "        vertical-align: middle;\n",
       "    }\n",
       "\n",
       "    .dataframe tbody tr th {\n",
       "        vertical-align: top;\n",
       "    }\n",
       "\n",
       "    .dataframe thead th {\n",
       "        text-align: right;\n",
       "    }\n",
       "</style>\n",
       "<table border=\"1\" class=\"dataframe\">\n",
       "  <thead>\n",
       "    <tr style=\"text-align: right;\">\n",
       "      <th></th>\n",
       "      <th>aggregate</th>\n",
       "    </tr>\n",
       "  </thead>\n",
       "  <tbody>\n",
       "    <tr>\n",
       "      <th>market_income</th>\n",
       "      <td>10325</td>\n",
       "    </tr>\n",
       "    <tr>\n",
       "      <th>market_income_plus_pensions</th>\n",
       "      <td>10465</td>\n",
       "    </tr>\n",
       "    <tr>\n",
       "      <th>pensions</th>\n",
       "      <td>354</td>\n",
       "    </tr>\n",
       "    <tr>\n",
       "      <th>contributions_pensions</th>\n",
       "      <td>214</td>\n",
       "    </tr>\n",
       "    <tr>\n",
       "      <th>net_market_income</th>\n",
       "      <td>10233</td>\n",
       "    </tr>\n",
       "    <tr>\n",
       "      <th>direct_taxes</th>\n",
       "      <td>179</td>\n",
       "    </tr>\n",
       "    <tr>\n",
       "      <th>other_contributions</th>\n",
       "      <td>53</td>\n",
       "    </tr>\n",
       "    <tr>\n",
       "      <th>contributions_health</th>\n",
       "      <td>0</td>\n",
       "    </tr>\n",
       "  </tbody>\n",
       "</table>\n",
       "</div>"
      ],
      "text/plain": [
       "                             aggregate\n",
       "market_income                    10325\n",
       "market_income_plus_pensions      10465\n",
       "pensions                           354\n",
       "contributions_pensions             214\n",
       "net_market_income                10233\n",
       "direct_taxes                       179\n",
       "other_contributions                 53\n",
       "contributions_health                 0"
      ]
     },
     "execution_count": 10,
     "metadata": {},
     "output_type": "execute_result"
    }
   ],
   "source": [
    "ceq_aggregates = pd.DataFrame(\n",
    "    index = ceq_variables,\n",
    "    columns = ['aggregate'],\n",
    "    data = [\n",
    "        survey_scenario.compute_aggregate(ceq_variable, period = year) / 1e9 \n",
    "        for ceq_variable in ceq_variables\n",
    "        ]\n",
    "    )\n",
    "ceq_aggregates.round(0).astype({\"aggregate\": int})"
   ]
  },
  {
   "cell_type": "markdown",
   "metadata": {
    "papermill": {
     "duration": 0.045874,
     "end_time": "2020-07-10T17:29:23.633384",
     "exception": false,
     "start_time": "2020-07-10T17:29:23.587510",
     "status": "completed"
    },
    "tags": []
   },
   "source": [
    "#### Direct check"
   ]
  },
  {
   "cell_type": "code",
   "execution_count": 11,
   "metadata": {
    "execution": {
     "iopub.execute_input": "2020-07-10T17:29:23.710096Z",
     "iopub.status.busy": "2020-07-10T17:29:23.708859Z",
     "iopub.status.idle": "2020-07-10T17:29:23.713892Z",
     "shell.execute_reply": "2020-07-10T17:29:23.712994Z"
    },
    "papermill": {
     "duration": 0.045671,
     "end_time": "2020-07-10T17:29:23.714075",
     "exception": false,
     "start_time": "2020-07-10T17:29:23.668404",
     "status": "completed"
    },
    "tags": []
   },
   "outputs": [],
   "source": [
    "income_components_summed_in_total = list(ceq_by_harmonized_variable.values()) \n",
    "# income_components_summed_in_total.remove(\"revenu_non_salarie_total\")\n",
    "income_components_summed_in_total.remove(\"direct_transfers\")\n",
    "income_components_summed_in_total.remove(\"salaire\")\n",
    "income_components_summed_in_total.remove(\"salaire_brut\")\n",
    "income_components_summed_in_total.remove(\"pension_retraite\")\n",
    "income_components_summed_in_total.remove('autres_revenus_du_capital')\n",
    "income_components_summed_in_total.remove('revenu_locatif')\n",
    "income_components_summed_in_total.remove('revenu_non_salarie') \n",
    "\n",
    "total_income = sum(\n",
    "    survey_scenario.compute_aggregate(income_component, period = survey_scenario.year) \n",
    "    for income_component in income_components_summed_in_total\n",
    "    ) \n",
    "total_income = (\n",
    "    total_income \n",
    "    - survey_scenario.compute_aggregate(\"contributions_pensions\", period = survey_scenario.year)\n",
    "    ) / 1e9\n"
   ]
  },
  {
   "cell_type": "code",
   "execution_count": 12,
   "metadata": {
    "execution": {
     "iopub.execute_input": "2020-07-10T17:29:23.785236Z",
     "iopub.status.busy": "2020-07-10T17:29:23.780639Z",
     "iopub.status.idle": "2020-07-10T17:29:23.788453Z",
     "shell.execute_reply": "2020-07-10T17:29:23.789150Z"
    },
    "papermill": {
     "duration": 0.039921,
     "end_time": "2020-07-10T17:29:23.789341",
     "exception": false,
     "start_time": "2020-07-10T17:29:23.749420",
     "status": "completed"
    },
    "tags": []
   },
   "outputs": [],
   "source": [
    "from numpy.testing import assert_almost_equal\n",
    "assert_almost_equal(ceq_aggregates.loc['market_income_plus_pensions'].values, total_income, decimal = 5) \n",
    "# print('market_income_plus_pensions = {} vs {} = total_income'.format(\n",
    "#         ceq_aggregates.loc['market_income_plus_pensions'].values,\n",
    "#         total_income\n",
    "#         )\n",
    "#     )\n"
   ]
  },
  {
   "cell_type": "markdown",
   "metadata": {
    "papermill": {
     "duration": 0.028514,
     "end_time": "2020-07-10T17:29:23.854459",
     "exception": false,
     "start_time": "2020-07-10T17:29:23.825945",
     "status": "completed"
    },
    "tags": []
   },
   "source": [
    "#### Wages by public/private sector"
   ]
  },
  {
   "cell_type": "code",
   "execution_count": 13,
   "metadata": {
    "execution": {
     "iopub.execute_input": "2020-07-10T17:29:23.919236Z",
     "iopub.status.busy": "2020-07-10T17:29:23.918650Z",
     "iopub.status.idle": "2020-07-10T17:29:23.923393Z",
     "shell.execute_reply": "2020-07-10T17:29:23.924204Z"
    },
    "papermill": {
     "duration": 0.03981,
     "end_time": "2020-07-10T17:29:23.924431",
     "exception": false,
     "start_time": "2020-07-10T17:29:23.884621",
     "status": "completed"
    },
    "tags": []
   },
   "outputs": [
    {
     "data": {
      "text/plain": [
       "'Count : 245997.0'"
      ]
     },
     "execution_count": 13,
     "metadata": {},
     "output_type": "execute_result"
    }
   ],
   "source": [
    "\"Count : {}\".format(round(\n",
    "    survey_scenario.compute_aggregate(\"secteur_public\", period = year)\n",
    "    ))"
   ]
  },
  {
   "cell_type": "code",
   "execution_count": 14,
   "metadata": {
    "execution": {
     "iopub.execute_input": "2020-07-10T17:29:24.001788Z",
     "iopub.status.busy": "2020-07-10T17:29:24.000764Z",
     "iopub.status.idle": "2020-07-10T17:29:24.086058Z",
     "shell.execute_reply": "2020-07-10T17:29:24.087031Z"
    },
    "papermill": {
     "duration": 0.128027,
     "end_time": "2020-07-10T17:29:24.087294",
     "exception": false,
     "start_time": "2020-07-10T17:29:23.959267",
     "status": "completed"
    },
    "tags": []
   },
   "outputs": [
    {
     "data": {
      "text/html": [
       "<div>\n",
       "<style scoped>\n",
       "    .dataframe tbody tr th:only-of-type {\n",
       "        vertical-align: middle;\n",
       "    }\n",
       "\n",
       "    .dataframe tbody tr th {\n",
       "        vertical-align: top;\n",
       "    }\n",
       "\n",
       "    .dataframe thead th {\n",
       "        text-align: right;\n",
       "    }\n",
       "</style>\n",
       "<table border=\"1\" class=\"dataframe\">\n",
       "  <thead>\n",
       "    <tr style=\"text-align: right;\">\n",
       "      <th>secteur_public</th>\n",
       "      <th>False</th>\n",
       "      <th>True</th>\n",
       "    </tr>\n",
       "  </thead>\n",
       "  <tbody>\n",
       "    <tr>\n",
       "      <th>salaire</th>\n",
       "      <td>654</td>\n",
       "      <td>709</td>\n",
       "    </tr>\n",
       "    <tr>\n",
       "      <th>salaire_brut</th>\n",
       "      <td>781</td>\n",
       "      <td>835</td>\n",
       "    </tr>\n",
       "    <tr>\n",
       "      <th>salaire_super_brut</th>\n",
       "      <td>862</td>\n",
       "      <td>925</td>\n",
       "    </tr>\n",
       "  </tbody>\n",
       "</table>\n",
       "</div>"
      ],
      "text/plain": [
       "secteur_public      False  True \n",
       "salaire               654    709\n",
       "salaire_brut          781    835\n",
       "salaire_super_brut    862    925"
      ]
     },
     "execution_count": 14,
     "metadata": {},
     "output_type": "execute_result"
    }
   ],
   "source": [
    "(\n",
    "    survey_scenario.compute_pivot_table(\n",
    "        columns = [\"secteur_public\"], \n",
    "        values = [\"salaire\", \"salaire_brut\", \"salaire_super_brut\"],\n",
    "        aggfunc = \"sum\",\n",
    "        period = year,\n",
    "        concat_axis = 0,\n",
    "        ) / 1e9\n",
    "    ).round(0).astype(int)"
   ]
  },
  {
   "cell_type": "markdown",
   "metadata": {
    "papermill": {
     "duration": 0.032734,
     "end_time": "2020-07-10T17:29:24.160082",
     "exception": false,
     "start_time": "2020-07-10T17:29:24.127348",
     "status": "completed"
    },
    "tags": []
   },
   "source": [
    "## Education variables"
   ]
  },
  {
   "cell_type": "markdown",
   "metadata": {
    "papermill": {
     "duration": 0.035865,
     "end_time": "2020-07-10T17:29:24.228876",
     "exception": false,
     "start_time": "2020-07-10T17:29:24.193011",
     "status": "completed"
    },
    "tags": []
   },
   "source": [
    "### Counts (in millions)"
   ]
  },
  {
   "cell_type": "code",
   "execution_count": 15,
   "metadata": {
    "execution": {
     "iopub.execute_input": "2020-07-10T17:29:24.304621Z",
     "iopub.status.busy": "2020-07-10T17:29:24.303967Z",
     "iopub.status.idle": "2020-07-10T17:29:24.324810Z",
     "shell.execute_reply": "2020-07-10T17:29:24.323843Z"
    },
    "papermill": {
     "duration": 0.061054,
     "end_time": "2020-07-10T17:29:24.324984",
     "exception": false,
     "start_time": "2020-07-10T17:29:24.263930",
     "status": "completed"
    },
    "tags": []
   },
   "outputs": [
    {
     "name": "stdout",
     "output_type": "stream",
     "text": [
      "eleve_enseignement_niveau   -1.0   0.0   1.0   2.0   3.0\n",
      "eleve_enseignement_public                               \n",
      "0.0                        18.12  0.06  0.54  0.55  0.07\n",
      "1.0                          NaN  0.08  2.66  0.89  0.10\n"
     ]
    }
   ],
   "source": [
    "print((survey_scenario.compute_pivot_table(columns = ['eleve_enseignement_niveau'], index = ['eleve_enseignement_public'], aggfunc = 'count', period = survey_scenario.year) / 1e6).round(2))"
   ]
  },
  {
   "cell_type": "code",
   "execution_count": 16,
   "metadata": {
    "execution": {
     "iopub.execute_input": "2020-07-10T17:29:24.398573Z",
     "iopub.status.busy": "2020-07-10T17:29:24.398039Z",
     "iopub.status.idle": "2020-07-10T17:29:24.409670Z",
     "shell.execute_reply": "2020-07-10T17:29:24.410594Z"
    },
    "papermill": {
     "duration": 0.048625,
     "end_time": "2020-07-10T17:29:24.410824",
     "exception": false,
     "start_time": "2020-07-10T17:29:24.362199",
     "status": "completed"
    },
    "tags": []
   },
   "outputs": [
    {
     "name": "stdout",
     "output_type": "stream",
     "text": [
      "In kind education tranfers\n",
      "pre_school_person: 21 billions FCFA\n",
      "pre_school: 21 billions FCFA\n",
      "primary_education_person: 341 billions FCFA\n",
      "primary_education: 341 billions FCFA\n",
      "secondary_education_person: 309 billions FCFA\n",
      "secondary_education: 309 billions FCFA\n",
      "tertiary_education_person: 195 billions FCFA\n",
      "tertiary_education: 195 billions FCFA\n",
      "education_net_transfers: 866 billions FCFA\n"
     ]
    }
   ],
   "source": [
    "variables = [\n",
    "    'pre_school_person',\n",
    "    'pre_school',\n",
    "    'primary_education_person',\n",
    "    'primary_education',\n",
    "    'secondary_education_person',\n",
    "    'secondary_education',\n",
    "    'tertiary_education_person',\n",
    "    'tertiary_education',\n",
    "    'education_net_transfers',\n",
    "    ]\n",
    "print(\"In kind education tranfers\")\n",
    "for variable in variables:\n",
    "    print(\n",
    "        \"{variable}: {aggregate} billions FCFA\".format(\n",
    "            variable = variable,\n",
    "            aggregate = int(round(survey_scenario.compute_aggregate(variable, period = survey_scenario.year) / 1e9))\n",
    "            )\n",
    "        )"
   ]
  },
  {
   "cell_type": "markdown",
   "metadata": {
    "papermill": {
     "duration": 0.028992,
     "end_time": "2020-07-10T17:29:24.474838",
     "exception": false,
     "start_time": "2020-07-10T17:29:24.445846",
     "status": "completed"
    },
    "tags": []
   },
   "source": [
    "## Inflating income and consumption"
   ]
  },
  {
   "cell_type": "code",
   "execution_count": 17,
   "metadata": {
    "execution": {
     "iopub.execute_input": "2020-07-10T17:29:24.540997Z",
     "iopub.status.busy": "2020-07-10T17:29:24.540475Z",
     "iopub.status.idle": "2020-07-10T17:29:29.380036Z",
     "shell.execute_reply": "2020-07-10T17:29:29.380630Z"
    },
    "papermill": {
     "duration": 4.875936,
     "end_time": "2020-07-10T17:29:29.380787",
     "exception": false,
     "start_time": "2020-07-10T17:29:24.504851",
     "status": "completed"
    },
    "tags": []
   },
   "outputs": [
    {
     "name": "stderr",
     "output_type": "stream",
     "text": [
      "/home/benjello/.virtualenvs/ceq/lib/python3.7/site-packages/pandas/io/stata.py:1409: UnicodeWarning: \n",
      "One or more strings in the dta file could not be decoded using utf-8, and\n",
      "so the fallback encoding of latin-1 is being used.  This can happen when a file\n",
      "has been incorrectly encoded by Stata or some other software. You should verify\n",
      "the string values returned are correct.\n",
      "  warnings.warn(msg, UnicodeWarning)\n"
     ]
    },
    {
     "name": "stderr",
     "output_type": "stream",
     "text": [
      "/home/benjello/.virtualenvs/ceq/lib/python3.7/site-packages/scipy/optimize/minpack.py:175: RuntimeWarning: The iteration is not making good progress, as measured by the \n",
      "  improvement from the last ten iterations.\n",
      "  warnings.warn(msg, RuntimeWarning)\n"
     ]
    }
   ],
   "source": [
    "inflated_survey_scenario = build_ceq_survey_scenario(\n",
    "    legislation_country = country, \n",
    "    year = year,\n",
    "    inflate = True,\n",
    "    )"
   ]
  },
  {
   "cell_type": "code",
   "execution_count": 18,
   "metadata": {
    "execution": {
     "iopub.execute_input": "2020-07-10T17:29:29.452835Z",
     "iopub.status.busy": "2020-07-10T17:29:29.452398Z",
     "iopub.status.idle": "2020-07-10T17:29:29.456882Z",
     "shell.execute_reply": "2020-07-10T17:29:29.457580Z"
    },
    "papermill": {
     "duration": 0.043474,
     "end_time": "2020-07-10T17:29:29.457775",
     "exception": false,
     "start_time": "2020-07-10T17:29:29.414301",
     "status": "completed"
    },
    "tags": []
   },
   "outputs": [
    {
     "name": "stderr",
     "output_type": "stream",
     "text": [
      "ERROR:root:No traceback has been produced, nothing to debug.\n"
     ]
    }
   ],
   "source": [
    "%debug"
   ]
  },
  {
   "cell_type": "code",
   "execution_count": 19,
   "metadata": {
    "execution": {
     "iopub.execute_input": "2020-07-10T17:29:29.554293Z",
     "iopub.status.busy": "2020-07-10T17:29:29.553690Z",
     "iopub.status.idle": "2020-07-10T17:29:29.612112Z",
     "shell.execute_reply": "2020-07-10T17:29:29.612988Z"
    },
    "papermill": {
     "duration": 0.120432,
     "end_time": "2020-07-10T17:29:29.613226",
     "exception": false,
     "start_time": "2020-07-10T17:29:29.492794",
     "status": "completed"
    },
    "tags": []
   },
   "outputs": [
    {
     "data": {
      "text/plain": [
       "'15635.476 == 15635.475591339304'"
      ]
     },
     "metadata": {},
     "output_type": "display_data"
    }
   ],
   "source": [
    "from openfisca_ceq.tools.data.income_targets import read_target\n",
    "gross_value_added = read_target(country, \"gross_value_added\") / 1e9\n",
    "gross_value_added_computed = sum(inflated_survey_scenario.compute_aggregate(income_variable, period = year) / 1e9\n",
    "    for income_variable in inflated_survey_scenario.income_variables\n",
    "    )\n",
    "display(\"{} == {}\".format(gross_value_added, gross_value_added_computed))"
   ]
  },
  {
   "cell_type": "markdown",
   "metadata": {
    "papermill": {
     "duration": 0.029936,
     "end_time": "2020-07-10T17:29:29.680157",
     "exception": false,
     "start_time": "2020-07-10T17:29:29.650221",
     "status": "completed"
    },
    "tags": []
   },
   "source": [
    "## Tax variables"
   ]
  },
  {
   "cell_type": "markdown",
   "metadata": {
    "papermill": {
     "duration": 0.029667,
     "end_time": "2020-07-10T17:29:29.740537",
     "exception": false,
     "start_time": "2020-07-10T17:29:29.710870",
     "status": "completed"
    },
    "tags": []
   },
   "source": [
    "### Direct taxes variables"
   ]
  },
  {
   "cell_type": "code",
   "execution_count": 20,
   "metadata": {
    "execution": {
     "iopub.execute_input": "2020-07-10T17:29:29.815498Z",
     "iopub.status.busy": "2020-07-10T17:29:29.813891Z",
     "iopub.status.idle": "2020-07-10T17:29:29.835000Z",
     "shell.execute_reply": "2020-07-10T17:29:29.835505Z"
    },
    "papermill": {
     "duration": 0.064986,
     "end_time": "2020-07-10T17:29:29.835651",
     "exception": false,
     "start_time": "2020-07-10T17:29:29.770665",
     "status": "completed"
    },
    "tags": []
   },
   "outputs": [
    {
     "data": {
      "text/html": [
       "<div>\n",
       "<style scoped>\n",
       "    .dataframe tbody tr th:only-of-type {\n",
       "        vertical-align: middle;\n",
       "    }\n",
       "\n",
       "    .dataframe tbody tr th {\n",
       "        vertical-align: top;\n",
       "    }\n",
       "\n",
       "    .dataframe thead th {\n",
       "        text-align: right;\n",
       "    }\n",
       "</style>\n",
       "<table border=\"1\" class=\"dataframe\">\n",
       "  <thead>\n",
       "    <tr style=\"text-align: right;\">\n",
       "      <th></th>\n",
       "      <th>aggregate</th>\n",
       "      <th>inflated_aggregate</th>\n",
       "    </tr>\n",
       "  </thead>\n",
       "  <tbody>\n",
       "    <tr>\n",
       "      <th>impot_general_revenu</th>\n",
       "      <td>156</td>\n",
       "      <td>293.0</td>\n",
       "    </tr>\n",
       "    <tr>\n",
       "      <th>impot_revenu_creances</th>\n",
       "      <td>16</td>\n",
       "      <td>24.0</td>\n",
       "    </tr>\n",
       "    <tr>\n",
       "      <th>impot_revenu_foncier</th>\n",
       "      <td>7</td>\n",
       "      <td>10.0</td>\n",
       "    </tr>\n",
       "  </tbody>\n",
       "</table>\n",
       "</div>"
      ],
      "text/plain": [
       "                       aggregate  inflated_aggregate\n",
       "impot_general_revenu         156               293.0\n",
       "impot_revenu_creances         16                24.0\n",
       "impot_revenu_foncier           7                10.0"
      ]
     },
     "execution_count": 20,
     "metadata": {},
     "output_type": "execute_result"
    }
   ],
   "source": [
    "from openfisca_ceq.tools.data.tax_targets import detailed_taxes_by_country, build_country_result\n",
    "direct_taxes_variables = detailed_taxes_by_country[country]\n",
    "\n",
    "direct_taxes = pd.concat(\n",
    "    [\n",
    "        pd.DataFrame(\n",
    "            index = direct_taxes_variables,\n",
    "            columns = ['aggregate'],\n",
    "            data = [\n",
    "                survey_scenario.compute_aggregate(variable, period = year) / 1e9 \n",
    "                for variable in direct_taxes_variables\n",
    "                ],\n",
    "            ),\n",
    "        pd.DataFrame(\n",
    "            index = direct_taxes_variables,\n",
    "            columns = ['inflated_aggregate'],\n",
    "            data = [\n",
    "                    inflated_survey_scenario.compute_aggregate(variable, period = year) / 1e9 \n",
    "                for variable in direct_taxes_variables\n",
    "                ],\n",
    "            )\n",
    "        ],\n",
    "    axis = 1\n",
    ")\n",
    "\n",
    "direct_taxes.round().astype({\"aggregate\": int})"
   ]
  },
  {
   "cell_type": "code",
   "execution_count": 21,
   "metadata": {
    "execution": {
     "iopub.execute_input": "2020-07-10T17:29:29.943388Z",
     "iopub.status.busy": "2020-07-10T17:29:29.942924Z",
     "iopub.status.idle": "2020-07-10T17:29:30.129955Z",
     "shell.execute_reply": "2020-07-10T17:29:30.130361Z"
    },
    "papermill": {
     "duration": 0.244926,
     "end_time": "2020-07-10T17:29:30.130476",
     "exception": false,
     "start_time": "2020-07-10T17:29:29.885550",
     "status": "completed"
    },
    "tags": []
   },
   "outputs": [
    {
     "data": {
      "text/html": [
       "<div>\n",
       "<style scoped>\n",
       "    .dataframe tbody tr th:only-of-type {\n",
       "        vertical-align: middle;\n",
       "    }\n",
       "\n",
       "    .dataframe tbody tr th {\n",
       "        vertical-align: top;\n",
       "    }\n",
       "\n",
       "    .dataframe thead tr th {\n",
       "        text-align: left;\n",
       "    }\n",
       "</style>\n",
       "<table border=\"1\" class=\"dataframe\">\n",
       "  <thead>\n",
       "    <tr>\n",
       "      <th></th>\n",
       "      <th colspan=\"3\" halign=\"left\">Cote d'Ivoire</th>\n",
       "    </tr>\n",
       "    <tr>\n",
       "      <th></th>\n",
       "      <th>actual</th>\n",
       "      <th>direct</th>\n",
       "      <th>inflated</th>\n",
       "    </tr>\n",
       "  </thead>\n",
       "  <tbody>\n",
       "    <tr>\n",
       "      <th>Total tax revenue</th>\n",
       "      <td>3117.9</td>\n",
       "      <td>NaN</td>\n",
       "      <td>NaN</td>\n",
       "    </tr>\n",
       "    <tr>\n",
       "      <th>Direct taxes</th>\n",
       "      <td>1186.8</td>\n",
       "      <td>178.9</td>\n",
       "      <td>326.9</td>\n",
       "    </tr>\n",
       "    <tr>\n",
       "      <th>Personal Income Taxes</th>\n",
       "      <td>395.6</td>\n",
       "      <td>178.9</td>\n",
       "      <td>326.9</td>\n",
       "    </tr>\n",
       "    <tr>\n",
       "      <th>Social Security Contributions</th>\n",
       "      <td>383.5</td>\n",
       "      <td>267.3</td>\n",
       "      <td>311.4</td>\n",
       "    </tr>\n",
       "    <tr>\n",
       "      <th>Corporate Income Tax</th>\n",
       "      <td>318.9</td>\n",
       "      <td>0.0</td>\n",
       "      <td>0.0</td>\n",
       "    </tr>\n",
       "    <tr>\n",
       "      <th>Other Direct Taxes</th>\n",
       "      <td>88.8</td>\n",
       "      <td>NaN</td>\n",
       "      <td>NaN</td>\n",
       "    </tr>\n",
       "    <tr>\n",
       "      <th>Indirect taxes</th>\n",
       "      <td>1931.1</td>\n",
       "      <td>750.0</td>\n",
       "      <td>753.2</td>\n",
       "    </tr>\n",
       "    <tr>\n",
       "      <th>VAT</th>\n",
       "      <td>732.5</td>\n",
       "      <td>559.4</td>\n",
       "      <td>561.8</td>\n",
       "    </tr>\n",
       "    <tr>\n",
       "      <th>Import Taxes</th>\n",
       "      <td>490.1</td>\n",
       "      <td>190.6</td>\n",
       "      <td>191.4</td>\n",
       "    </tr>\n",
       "    <tr>\n",
       "      <th>Excise taxes</th>\n",
       "      <td>33.1</td>\n",
       "      <td>0.0</td>\n",
       "      <td>0.0</td>\n",
       "    </tr>\n",
       "    <tr>\n",
       "      <th>on Oil Derivates</th>\n",
       "      <td>0.1</td>\n",
       "      <td>NaN</td>\n",
       "      <td>NaN</td>\n",
       "    </tr>\n",
       "    <tr>\n",
       "      <th>on alcohol, tabac and other non-oil derivatives</th>\n",
       "      <td>33.0</td>\n",
       "      <td>NaN</td>\n",
       "      <td>NaN</td>\n",
       "    </tr>\n",
       "    <tr>\n",
       "      <th>Other Indirect Taxes</th>\n",
       "      <td>675.4</td>\n",
       "      <td>NaN</td>\n",
       "      <td>NaN</td>\n",
       "    </tr>\n",
       "    <tr>\n",
       "      <th>Share simulated taxes (% of total tax revenue)</th>\n",
       "      <td>NaN</td>\n",
       "      <td>NaN</td>\n",
       "      <td>NaN</td>\n",
       "    </tr>\n",
       "    <tr>\n",
       "      <th>impot_general_revenu</th>\n",
       "      <td>NaN</td>\n",
       "      <td>155.8</td>\n",
       "      <td>293.2</td>\n",
       "    </tr>\n",
       "    <tr>\n",
       "      <th>impot_revenu_creances</th>\n",
       "      <td>NaN</td>\n",
       "      <td>16.4</td>\n",
       "      <td>24.0</td>\n",
       "    </tr>\n",
       "    <tr>\n",
       "      <th>impot_revenu_foncier</th>\n",
       "      <td>NaN</td>\n",
       "      <td>6.7</td>\n",
       "      <td>9.7</td>\n",
       "    </tr>\n",
       "    <tr>\n",
       "      <th>total_ht_imports</th>\n",
       "      <td>NaN</td>\n",
       "      <td>1329.4</td>\n",
       "      <td>1335.1</td>\n",
       "    </tr>\n",
       "  </tbody>\n",
       "</table>\n",
       "</div>"
      ],
      "text/plain": [
       "                                                Cote d'Ivoire                 \n",
       "                                                       actual  direct inflated\n",
       "Total tax revenue                                      3117.9     NaN      NaN\n",
       "Direct taxes                                           1186.8   178.9    326.9\n",
       "Personal Income Taxes                                   395.6   178.9    326.9\n",
       "Social Security Contributions                           383.5   267.3    311.4\n",
       "Corporate Income Tax                                    318.9     0.0      0.0\n",
       "Other Direct Taxes                                       88.8     NaN      NaN\n",
       "Indirect taxes                                         1931.1   750.0    753.2\n",
       "VAT                                                     732.5   559.4    561.8\n",
       "Import Taxes                                            490.1   190.6    191.4\n",
       "Excise taxes                                             33.1     0.0      0.0\n",
       "on Oil Derivates                                          0.1     NaN      NaN\n",
       "on alcohol, tabac and other non-oil derivatives          33.0     NaN      NaN\n",
       "Other Indirect Taxes                                    675.4     NaN      NaN\n",
       "Share simulated taxes (% of total tax revenue)            NaN     NaN      NaN\n",
       "impot_general_revenu                                      NaN   155.8    293.2\n",
       "impot_revenu_creances                                     NaN    16.4     24.0\n",
       "impot_revenu_foncier                                      NaN     6.7      9.7\n",
       "total_ht_imports                                          NaN  1329.4   1335.1"
      ]
     },
     "execution_count": 21,
     "metadata": {},
     "output_type": "execute_result"
    }
   ],
   "source": [
    "build_country_result(survey_scenario, inflated_survey_scenario, add_country_details = True)"
   ]
  },
  {
   "cell_type": "markdown",
   "metadata": {
    "papermill": {
     "duration": 0.030739,
     "end_time": "2020-07-10T17:29:30.196174",
     "exception": false,
     "start_time": "2020-07-10T17:29:30.165435",
     "status": "completed"
    },
    "tags": []
   },
   "source": [
    "### Indirect tax variables"
   ]
  },
  {
   "cell_type": "code",
   "execution_count": 22,
   "metadata": {
    "execution": {
     "iopub.execute_input": "2020-07-10T17:29:30.270189Z",
     "iopub.status.busy": "2020-07-10T17:29:30.268943Z",
     "iopub.status.idle": "2020-07-10T17:29:30.272850Z",
     "shell.execute_reply": "2020-07-10T17:29:30.273647Z"
    },
    "papermill": {
     "duration": 0.046038,
     "end_time": "2020-07-10T17:29:30.273862",
     "exception": false,
     "start_time": "2020-07-10T17:29:30.227824",
     "status": "completed"
    },
    "tags": []
   },
   "outputs": [
    {
     "data": {
      "text/plain": [
       "['depenses_ht_tva_exonere',\n",
       " 'depenses_ht_tva_taux_normal',\n",
       " 'depenses_ht_tva_taux_reduit',\n",
       " 'tva_taux_normal',\n",
       " 'tva_taux_reduit',\n",
       " 'tva',\n",
       " 'depenses_ht_hd_sd_droits_douane_biens_specifiques',\n",
       " 'depenses_ht_hd_sd_droits_douane_consommation_finale',\n",
       " 'depenses_ht_hd_sd_droits_douane_consommation_intermediaire',\n",
       " 'depenses_ht_hd_sd_droits_douane_equipements',\n",
       " 'depenses_ht_hd_sd_droits_douane_exonere',\n",
       " 'droits_douane_biens_specifiques',\n",
       " 'droits_douane_consommation_finale',\n",
       " 'droits_douane_consommation_intermediaire',\n",
       " 'droits_douane_equipements',\n",
       " 'droits_douane']"
      ]
     },
     "execution_count": 22,
     "metadata": {},
     "output_type": "execute_result"
    }
   ],
   "source": [
    "indirect_tax_variables = [\n",
    "    variable \n",
    "    for tax in indirect_tax_by_country[country]\n",
    "    for variable in survey_scenario.tax_benefit_system.variables.keys() \n",
    "    if tax in variable \n",
    "    ]\n",
    "indirect_tax_variables"
   ]
  },
  {
   "cell_type": "code",
   "execution_count": 23,
   "metadata": {
    "execution": {
     "iopub.execute_input": "2020-07-10T17:29:30.351622Z",
     "iopub.status.busy": "2020-07-10T17:29:30.350697Z",
     "iopub.status.idle": "2020-07-10T17:29:30.423937Z",
     "shell.execute_reply": "2020-07-10T17:29:30.424805Z"
    },
    "papermill": {
     "duration": 0.114306,
     "end_time": "2020-07-10T17:29:30.425053",
     "exception": false,
     "start_time": "2020-07-10T17:29:30.310747",
     "status": "completed"
    },
    "tags": []
   },
   "outputs": [
    {
     "data": {
      "text/html": [
       "<div>\n",
       "<style scoped>\n",
       "    .dataframe tbody tr th:only-of-type {\n",
       "        vertical-align: middle;\n",
       "    }\n",
       "\n",
       "    .dataframe tbody tr th {\n",
       "        vertical-align: top;\n",
       "    }\n",
       "\n",
       "    .dataframe thead th {\n",
       "        text-align: right;\n",
       "    }\n",
       "</style>\n",
       "<table border=\"1\" class=\"dataframe\">\n",
       "  <thead>\n",
       "    <tr style=\"text-align: right;\">\n",
       "      <th></th>\n",
       "      <th>aggregate</th>\n",
       "    </tr>\n",
       "  </thead>\n",
       "  <tbody>\n",
       "    <tr>\n",
       "      <th>depenses_ht_tva_exonere</th>\n",
       "      <td>7105</td>\n",
       "    </tr>\n",
       "    <tr>\n",
       "      <th>depenses_ht_tva_taux_normal</th>\n",
       "      <td>2923</td>\n",
       "    </tr>\n",
       "    <tr>\n",
       "      <th>depenses_ht_tva_taux_reduit</th>\n",
       "      <td>370</td>\n",
       "    </tr>\n",
       "    <tr>\n",
       "      <th>tva_taux_normal</th>\n",
       "      <td>526</td>\n",
       "    </tr>\n",
       "    <tr>\n",
       "      <th>tva_taux_reduit</th>\n",
       "      <td>33</td>\n",
       "    </tr>\n",
       "    <tr>\n",
       "      <th>tva</th>\n",
       "      <td>559</td>\n",
       "    </tr>\n",
       "    <tr>\n",
       "      <th>depenses_ht_hd_sd_droits_douane_biens_specifiques</th>\n",
       "      <td>162</td>\n",
       "    </tr>\n",
       "    <tr>\n",
       "      <th>depenses_ht_hd_sd_droits_douane_consommation_finale</th>\n",
       "      <td>617</td>\n",
       "    </tr>\n",
       "    <tr>\n",
       "      <th>depenses_ht_hd_sd_droits_douane_consommation_intermediaire</th>\n",
       "      <td>97</td>\n",
       "    </tr>\n",
       "    <tr>\n",
       "      <th>depenses_ht_hd_sd_droits_douane_equipements</th>\n",
       "      <td>12</td>\n",
       "    </tr>\n",
       "    <tr>\n",
       "      <th>depenses_ht_hd_sd_droits_douane_exonere</th>\n",
       "      <td>250</td>\n",
       "    </tr>\n",
       "    <tr>\n",
       "      <th>droits_douane_biens_specifiques</th>\n",
       "      <td>57</td>\n",
       "    </tr>\n",
       "    <tr>\n",
       "      <th>droits_douane_consommation_finale</th>\n",
       "      <td>123</td>\n",
       "    </tr>\n",
       "    <tr>\n",
       "      <th>droits_douane_consommation_intermediaire</th>\n",
       "      <td>10</td>\n",
       "    </tr>\n",
       "    <tr>\n",
       "      <th>droits_douane_equipements</th>\n",
       "      <td>1</td>\n",
       "    </tr>\n",
       "    <tr>\n",
       "      <th>droits_douane</th>\n",
       "      <td>191</td>\n",
       "    </tr>\n",
       "  </tbody>\n",
       "</table>\n",
       "</div>"
      ],
      "text/plain": [
       "                                                    aggregate\n",
       "depenses_ht_tva_exonere                                  7105\n",
       "depenses_ht_tva_taux_normal                              2923\n",
       "depenses_ht_tva_taux_reduit                               370\n",
       "tva_taux_normal                                           526\n",
       "tva_taux_reduit                                            33\n",
       "tva                                                       559\n",
       "depenses_ht_hd_sd_droits_douane_biens_specifiques         162\n",
       "depenses_ht_hd_sd_droits_douane_consommation_fi...        617\n",
       "depenses_ht_hd_sd_droits_douane_consommation_in...         97\n",
       "depenses_ht_hd_sd_droits_douane_equipements                12\n",
       "depenses_ht_hd_sd_droits_douane_exonere                   250\n",
       "droits_douane_biens_specifiques                            57\n",
       "droits_douane_consommation_finale                         123\n",
       "droits_douane_consommation_intermediaire                   10\n",
       "droits_douane_equipements                                   1\n",
       "droits_douane                                             191"
      ]
     },
     "execution_count": 23,
     "metadata": {},
     "output_type": "execute_result"
    }
   ],
   "source": [
    "taxes_and_tariffs = pd.DataFrame(\n",
    "    index = indirect_tax_variables,\n",
    "    columns = ['aggregate'],\n",
    "    data = [\n",
    "        survey_scenario.compute_aggregate(variable, period = year) / 1e9 \n",
    "        for variable in indirect_tax_variables\n",
    "        ]\n",
    "    )\n",
    "taxes_and_tariffs.round().astype({\"aggregate\": int})"
   ]
  },
  {
   "cell_type": "markdown",
   "metadata": {
    "papermill": {
     "duration": 0.031611,
     "end_time": "2020-07-10T17:29:30.495574",
     "exception": false,
     "start_time": "2020-07-10T17:29:30.463963",
     "status": "completed"
    },
    "tags": []
   },
   "source": [
    "### Verify consumption"
   ]
  },
  {
   "cell_type": "code",
   "execution_count": 24,
   "metadata": {
    "execution": {
     "iopub.execute_input": "2020-07-10T17:29:30.567248Z",
     "iopub.status.busy": "2020-07-10T17:29:30.566692Z",
     "iopub.status.idle": "2020-07-10T17:29:30.584296Z",
     "shell.execute_reply": "2020-07-10T17:29:30.583348Z"
    },
    "papermill": {
     "duration": 0.056655,
     "end_time": "2020-07-10T17:29:30.584492",
     "exception": false,
     "start_time": "2020-07-10T17:29:30.527837",
     "status": "completed"
    },
    "tags": []
   },
   "outputs": [
    {
     "data": {
      "text/plain": [
       "10957.287838906464"
      ]
     },
     "execution_count": 24,
     "metadata": {},
     "output_type": "execute_result"
    }
   ],
   "source": [
    "consumption = survey_scenario.compute_aggregate('consumption', period = year) / 1e9\n",
    "consumption"
   ]
  },
  {
   "cell_type": "code",
   "execution_count": 25,
   "metadata": {
    "execution": {
     "iopub.execute_input": "2020-07-10T17:29:30.666874Z",
     "iopub.status.busy": "2020-07-10T17:29:30.665608Z",
     "iopub.status.idle": "2020-07-10T17:29:30.670052Z",
     "shell.execute_reply": "2020-07-10T17:29:30.670890Z"
    },
    "papermill": {
     "duration": 0.046103,
     "end_time": "2020-07-10T17:29:30.671097",
     "exception": false,
     "start_time": "2020-07-10T17:29:30.624994",
     "status": "completed"
    },
    "tags": []
   },
   "outputs": [
    {
     "data": {
      "text/plain": [
       "10957.288028355359"
      ]
     },
     "execution_count": 25,
     "metadata": {},
     "output_type": "execute_result"
    }
   ],
   "source": [
    "# assert consumption == \n",
    "sum(taxes_and_tariffs['aggregate'][\n",
    "    taxes_and_tariffs.index.str.contains('tva_')\n",
    "    ])"
   ]
  },
  {
   "cell_type": "code",
   "execution_count": 26,
   "metadata": {
    "execution": {
     "iopub.execute_input": "2020-07-10T17:29:30.745289Z",
     "iopub.status.busy": "2020-07-10T17:29:30.744760Z",
     "iopub.status.idle": "2020-07-10T17:29:30.791926Z",
     "shell.execute_reply": "2020-07-10T17:29:30.792748Z"
    },
    "papermill": {
     "duration": 0.089083,
     "end_time": "2020-07-10T17:29:30.793001",
     "exception": false,
     "start_time": "2020-07-10T17:29:30.703918",
     "status": "completed"
    },
    "tags": []
   },
   "outputs": [
    {
     "data": {
      "text/plain": [
       "10957.28797724714"
      ]
     },
     "execution_count": 26,
     "metadata": {},
     "output_type": "execute_result"
    }
   ],
   "source": [
    "# assert consumption == \n",
    "(\n",
    "    sum(\n",
    "        survey_scenario.compute_aggregate(variable, period = year)\n",
    "        for variable in survey_scenario.tax_benefit_system.variables\n",
    "        if \"depenses_ht_hd_poste\" in variable \n",
    "        ) \n",
    "    + survey_scenario.compute_aggregate(\"droits_douane\", period = year)\n",
    "    + survey_scenario.compute_aggregate(\"tva\", period = year)\n",
    "    ) / 1e9"
   ]
  },
  {
   "cell_type": "markdown",
   "metadata": {
    "papermill": {
     "duration": 0.033884,
     "end_time": "2020-07-10T17:29:30.866401",
     "exception": false,
     "start_time": "2020-07-10T17:29:30.832517",
     "status": "completed"
    },
    "tags": []
   },
   "source": [
    "# Inflate incomes   "
   ]
  },
  {
   "cell_type": "markdown",
   "metadata": {
    "papermill": {
     "duration": 0.032674,
     "end_time": "2020-07-10T17:29:30.935186",
     "exception": false,
     "start_time": "2020-07-10T17:29:30.902512",
     "status": "completed"
    },
    "tags": []
   },
   "source": [
    "## Income variables"
   ]
  },
  {
   "cell_type": "code",
   "execution_count": 27,
   "metadata": {
    "execution": {
     "iopub.execute_input": "2020-07-10T17:29:31.010138Z",
     "iopub.status.busy": "2020-07-10T17:29:31.008979Z",
     "iopub.status.idle": "2020-07-10T17:29:31.011895Z",
     "shell.execute_reply": "2020-07-10T17:29:31.012695Z"
    },
    "papermill": {
     "duration": 0.044265,
     "end_time": "2020-07-10T17:29:31.012924",
     "exception": false,
     "start_time": "2020-07-10T17:29:30.968659",
     "status": "completed"
    },
    "tags": []
   },
   "outputs": [],
   "source": [
    "income_variables = [\n",
    "    'autoconsumption',\n",
    "    'other_income',\n",
    "    'gifts_sales_durables',\n",
    "    'imputed_rent',\n",
    "    'revenu_agricole',\n",
    "    'autres_revenus_du_capital',\n",
    "    'revenu_informel_non_salarie',\n",
    "    'revenu_non_salarie',\n",
    "    'revenu_locatif',\n",
    "    'pension_retraite',\n",
    "    'salaire_super_brut',\n",
    "    ]"
   ]
  },
  {
   "cell_type": "code",
   "execution_count": 28,
   "metadata": {
    "execution": {
     "iopub.execute_input": "2020-07-10T17:29:31.091434Z",
     "iopub.status.busy": "2020-07-10T17:29:31.090798Z",
     "iopub.status.idle": "2020-07-10T17:29:31.100813Z",
     "shell.execute_reply": "2020-07-10T17:29:31.099442Z"
    },
    "papermill": {
     "duration": 0.052849,
     "end_time": "2020-07-10T17:29:31.101038",
     "exception": false,
     "start_time": "2020-07-10T17:29:31.048189",
     "status": "completed"
    },
    "tags": []
   },
   "outputs": [
    {
     "data": {
      "text/plain": [
       "8378.641002137416"
      ]
     },
     "execution_count": 28,
     "metadata": {},
     "output_type": "execute_result"
    }
   ],
   "source": [
    "sum(\n",
    "    survey_scenario.compute_aggregate(income_variable, period = year)\n",
    "    for income_variable in income_variables\n",
    "    ) / 1e9"
   ]
  },
  {
   "cell_type": "code",
   "execution_count": null,
   "metadata": {
    "papermill": {
     "duration": 0.033321,
     "end_time": "2020-07-10T17:29:31.173805",
     "exception": false,
     "start_time": "2020-07-10T17:29:31.140484",
     "status": "completed"
    },
    "tags": []
   },
   "outputs": [],
   "source": []
  },
  {
   "cell_type": "code",
   "execution_count": 29,
   "metadata": {
    "execution": {
     "iopub.execute_input": "2020-07-10T17:29:31.248927Z",
     "iopub.status.busy": "2020-07-10T17:29:31.248418Z",
     "iopub.status.idle": "2020-07-10T17:29:31.256525Z",
     "shell.execute_reply": "2020-07-10T17:29:31.257466Z"
    },
    "papermill": {
     "duration": 0.049517,
     "end_time": "2020-07-10T17:29:31.257724",
     "exception": false,
     "start_time": "2020-07-10T17:29:31.208207",
     "status": "completed"
    },
    "tags": []
   },
   "outputs": [
    {
     "data": {
      "text/plain": [
       "11854.351449186952"
      ]
     },
     "execution_count": 29,
     "metadata": {},
     "output_type": "execute_result"
    }
   ],
   "source": [
    "sum(\n",
    "    inflated_survey_scenario.compute_aggregate(income_variable, period = year)\n",
    "    for income_variable in income_variables\n",
    "    ) / 1e9"
   ]
  },
  {
   "cell_type": "markdown",
   "metadata": {
    "papermill": {
     "duration": 0.033285,
     "end_time": "2020-07-10T17:29:31.332308",
     "exception": false,
     "start_time": "2020-07-10T17:29:31.299023",
     "status": "completed"
    },
    "tags": []
   },
   "source": [
    "# Indicators"
   ]
  },
  {
   "cell_type": "code",
   "execution_count": 30,
   "metadata": {
    "execution": {
     "iopub.execute_input": "2020-07-10T17:29:31.408001Z",
     "iopub.status.busy": "2020-07-10T17:29:31.407462Z",
     "iopub.status.idle": "2020-07-10T17:29:31.569463Z",
     "shell.execute_reply": "2020-07-10T17:29:31.569824Z"
    },
    "papermill": {
     "duration": 0.203211,
     "end_time": "2020-07-10T17:29:31.569938",
     "exception": false,
     "start_time": "2020-07-10T17:29:31.366727",
     "status": "completed"
    },
    "tags": []
   },
   "outputs": [
    {
     "data": {
      "text/html": [
       "<div>\n",
       "<style scoped>\n",
       "    .dataframe tbody tr th:only-of-type {\n",
       "        vertical-align: middle;\n",
       "    }\n",
       "\n",
       "    .dataframe tbody tr th {\n",
       "        vertical-align: top;\n",
       "    }\n",
       "\n",
       "    .dataframe thead th {\n",
       "        text-align: right;\n",
       "    }\n",
       "</style>\n",
       "<table border=\"1\" class=\"dataframe\">\n",
       "  <thead>\n",
       "    <tr style=\"text-align: right;\">\n",
       "      <th></th>\n",
       "      <th>market_income</th>\n",
       "      <th>market_income_plus_pensions</th>\n",
       "      <th>gross_income</th>\n",
       "      <th>disposable_income</th>\n",
       "      <th>consumable_income</th>\n",
       "      <th>final_income</th>\n",
       "    </tr>\n",
       "  </thead>\n",
       "  <tbody>\n",
       "    <tr>\n",
       "      <th>Gini</th>\n",
       "      <td>0.58</td>\n",
       "      <td>0.57</td>\n",
       "      <td>0.57</td>\n",
       "      <td>0.57</td>\n",
       "      <td>0.59</td>\n",
       "      <td>0.56</td>\n",
       "    </tr>\n",
       "    <tr>\n",
       "      <th>Bottom 40 %</th>\n",
       "      <td>0.09</td>\n",
       "      <td>0.09</td>\n",
       "      <td>0.09</td>\n",
       "      <td>0.09</td>\n",
       "      <td>0.08</td>\n",
       "      <td>0.10</td>\n",
       "    </tr>\n",
       "    <tr>\n",
       "      <th>Top 10 %</th>\n",
       "      <td>0.46</td>\n",
       "      <td>0.46</td>\n",
       "      <td>0.46</td>\n",
       "      <td>0.45</td>\n",
       "      <td>0.46</td>\n",
       "      <td>0.44</td>\n",
       "    </tr>\n",
       "  </tbody>\n",
       "</table>\n",
       "</div>"
      ],
      "text/plain": [
       "             market_income  market_income_plus_pensions  gross_income  \\\n",
       "Gini                  0.58                         0.57          0.57   \n",
       "Bottom 40 %           0.09                         0.09          0.09   \n",
       "Top 10 %              0.46                         0.46          0.46   \n",
       "\n",
       "             disposable_income  consumable_income  final_income  \n",
       "Gini                      0.57               0.59          0.56  \n",
       "Bottom 40 %               0.09               0.08          0.10  \n",
       "Top 10 %                  0.45               0.46          0.44  "
      ]
     },
     "metadata": {},
     "output_type": "display_data"
    }
   ],
   "source": [
    "from openfisca_survey_manager.statshelpers import lorenz\n",
    "from openfisca_ceq.tools.results.inequality import inequality_table\n",
    "display(inequality_table(survey_scenario))"
   ]
  },
  {
   "cell_type": "code",
   "execution_count": 31,
   "metadata": {
    "execution": {
     "iopub.execute_input": "2020-07-10T17:29:31.650985Z",
     "iopub.status.busy": "2020-07-10T17:29:31.650423Z",
     "iopub.status.idle": "2020-07-10T17:29:31.653840Z",
     "shell.execute_reply": "2020-07-10T17:29:31.654170Z"
    },
    "papermill": {
     "duration": 0.042195,
     "end_time": "2020-07-10T17:29:31.654302",
     "exception": false,
     "start_time": "2020-07-10T17:29:31.612107",
     "status": "completed"
    },
    "tags": []
   },
   "outputs": [
    {
     "data": {
      "text/plain": [
       "749.9915239734215"
      ]
     },
     "execution_count": 31,
     "metadata": {},
     "output_type": "execute_result"
    }
   ],
   "source": [
    "survey_scenario.compute_aggregate(\"impots_indirects\", period = year) / 1e9"
   ]
  },
  {
   "cell_type": "code",
   "execution_count": 32,
   "metadata": {
    "execution": {
     "iopub.execute_input": "2020-07-10T17:29:31.732420Z",
     "iopub.status.busy": "2020-07-10T17:29:31.731847Z",
     "iopub.status.idle": "2020-07-10T17:29:31.735280Z",
     "shell.execute_reply": "2020-07-10T17:29:31.735655Z"
    },
    "papermill": {
     "duration": 0.042033,
     "end_time": "2020-07-10T17:29:31.735774",
     "exception": false,
     "start_time": "2020-07-10T17:29:31.693741",
     "status": "completed"
    },
    "tags": []
   },
   "outputs": [
    {
     "data": {
      "text/plain": [
       "178.87436082048882"
      ]
     },
     "execution_count": 32,
     "metadata": {},
     "output_type": "execute_result"
    }
   ],
   "source": [
    "survey_scenario.compute_aggregate(\"direct_taxes\", period = year) / 1e9"
   ]
  },
  {
   "cell_type": "code",
   "execution_count": 33,
   "metadata": {
    "execution": {
     "iopub.execute_input": "2020-07-10T17:29:31.809331Z",
     "iopub.status.busy": "2020-07-10T17:29:31.808775Z",
     "iopub.status.idle": "2020-07-10T17:29:31.812204Z",
     "shell.execute_reply": "2020-07-10T17:29:31.812562Z"
    },
    "papermill": {
     "duration": 0.041712,
     "end_time": "2020-07-10T17:29:31.812677",
     "exception": false,
     "start_time": "2020-07-10T17:29:31.770965",
     "status": "completed"
    },
    "tags": []
   },
   "outputs": [
    {
     "data": {
      "text/plain": [
       "178.87436082048882"
      ]
     },
     "execution_count": 33,
     "metadata": {},
     "output_type": "execute_result"
    }
   ],
   "source": [
    "survey_scenario.compute_aggregate(\"personal_income_tax\", period = year) / 1e9"
   ]
  },
  {
   "cell_type": "code",
   "execution_count": 34,
   "metadata": {
    "execution": {
     "iopub.execute_input": "2020-07-10T17:29:31.893746Z",
     "iopub.status.busy": "2020-07-10T17:29:31.893173Z",
     "iopub.status.idle": "2020-07-10T17:29:31.895163Z",
     "shell.execute_reply": "2020-07-10T17:29:31.895495Z"
    },
    "papermill": {
     "duration": 0.040672,
     "end_time": "2020-07-10T17:29:31.895603",
     "exception": false,
     "start_time": "2020-07-10T17:29:31.854931",
     "status": "completed"
    },
    "tags": []
   },
   "outputs": [],
   "source": [
    "from openfisca_ceq import list_variables_from_directory"
   ]
  },
  {
   "cell_type": "code",
   "execution_count": 35,
   "metadata": {
    "execution": {
     "iopub.execute_input": "2020-07-10T17:29:31.976860Z",
     "iopub.status.busy": "2020-07-10T17:29:31.976199Z",
     "iopub.status.idle": "2020-07-10T17:29:32.304126Z",
     "shell.execute_reply": "2020-07-10T17:29:32.303748Z"
    },
    "papermill": {
     "duration": 0.366743,
     "end_time": "2020-07-10T17:29:32.304207",
     "exception": false,
     "start_time": "2020-07-10T17:29:31.937464",
     "status": "completed"
    },
    "tags": []
   },
   "outputs": [
    {
     "data": {
      "text/plain": [
       "['agricultural_inputs_subsidies',\n",
       " 'alimony',\n",
       " 'contributions_health',\n",
       " 'corporate_income_tax',\n",
       " 'electricity_subsidies',\n",
       " 'employee_contributions_health',\n",
       " 'employee_other_contributions',\n",
       " 'employer_contributions_health',\n",
       " 'excise_taxes',\n",
       " 'food_subsidies',\n",
       " 'fuel_subsidies',\n",
       " 'indirect_subsidies',\n",
       " 'other_taxes',\n",
       " 'payroll_tax',\n",
       " 'property_tax',\n",
       " 'sales_tax',\n",
       " 'self_employed_contributions_health',\n",
       " 'self_employed_contributions_pensions',\n",
       " 'self_employed_other_contributions']"
      ]
     },
     "execution_count": 35,
     "metadata": {},
     "output_type": "execute_result"
    }
   ],
   "source": [
    "ceq_variables = sorted(list_variables_from_directory(survey_scenario.tax_benefit_system))\n",
    "[\n",
    "    ceq_variable\n",
    "    for ceq_variable in ceq_variables\n",
    "    if survey_scenario.compute_aggregate(ceq_variable, period = year) == 0\n",
    "    ]"
   ]
  },
  {
   "cell_type": "code",
   "execution_count": 36,
   "metadata": {
    "execution": {
     "iopub.execute_input": "2020-07-10T17:29:32.381197Z",
     "iopub.status.busy": "2020-07-10T17:29:32.380562Z",
     "iopub.status.idle": "2020-07-10T17:29:32.496133Z",
     "shell.execute_reply": "2020-07-10T17:29:32.495709Z"
    },
    "papermill": {
     "duration": 0.15774,
     "end_time": "2020-07-10T17:29:32.496214",
     "exception": false,
     "start_time": "2020-07-10T17:29:32.338474",
     "status": "completed"
    },
    "tags": []
   },
   "outputs": [
    {
     "data": {
      "text/plain": [
       "[<matplotlib.lines.Line2D at 0x7f04b6758190>]"
      ]
     },
     "execution_count": 36,
     "metadata": {},
     "output_type": "execute_result"
    },
    {
     "data": {
      "image/png": "[encoded data removed]",
      "text/plain": [
       "<Figure size 432x288 with 1 Axes>"
      ]
     },
     "metadata": {
      "needs_background": "light"
     },
     "output_type": "display_data"
    }
   ],
   "source": [
    "variable = \"market_income\"\n",
    "nb_persons = survey_scenario.calculate_variable(\"number_of_people_per_household\", period = year)\n",
    "weights = survey_scenario.calculate_variable(\"household_weight\", period = year) * nb_persons\n",
    "\n",
    "y, x = lorenz(survey_scenario.calculate_variable(variable, period = year) / nb_persons, weights = weights)\n",
    "plt.plot(x, y)"
   ]
  },
  {
   "cell_type": "code",
   "execution_count": 37,
   "metadata": {
    "execution": {
     "iopub.execute_input": "2020-07-10T17:29:32.573167Z",
     "iopub.status.busy": "2020-07-10T17:29:32.572658Z",
     "iopub.status.idle": "2020-07-10T17:29:32.577368Z",
     "shell.execute_reply": "2020-07-10T17:29:32.578069Z"
    },
    "papermill": {
     "duration": 0.046666,
     "end_time": "2020-07-10T17:29:32.578284",
     "exception": false,
     "start_time": "2020-07-10T17:29:32.531618",
     "status": "completed"
    },
    "tags": []
   },
   "outputs": [
    {
     "data": {
      "text/plain": [
       "8.438274100199402"
      ]
     },
     "execution_count": 37,
     "metadata": {},
     "output_type": "execute_result"
    }
   ],
   "source": [
    "survey_scenario.compute_aggregate('direct_transfers', period = year) / 1e9"
   ]
  },
  {
   "cell_type": "code",
   "execution_count": 38,
   "metadata": {
    "execution": {
     "iopub.execute_input": "2020-07-10T17:29:32.662654Z",
     "iopub.status.busy": "2020-07-10T17:29:32.661584Z",
     "iopub.status.idle": "2020-07-10T17:29:32.665392Z",
     "shell.execute_reply": "2020-07-10T17:29:32.666367Z"
    },
    "papermill": {
     "duration": 0.046487,
     "end_time": "2020-07-10T17:29:32.666614",
     "exception": false,
     "start_time": "2020-07-10T17:29:32.620127",
     "status": "completed"
    },
    "tags": []
   },
   "outputs": [
    {
     "data": {
      "text/plain": [
       "['agricultural_inputs_subsidies',\n",
       " 'alimony',\n",
       " 'all_income_excluding_transfers',\n",
       " 'autoconsumption',\n",
       " 'consumable_income',\n",
       " 'contributions_health',\n",
       " 'contributions_pensions',\n",
       " 'corporate_income_tax',\n",
       " 'customs_duties',\n",
       " 'decile_consumable_income_per_capita',\n",
       " 'decile_disposable_income_per_capita',\n",
       " 'decile_final_income_per_capita',\n",
       " 'decile_gross_income_per_capita',\n",
       " 'decile_market_income_per_capita',\n",
       " 'decile_market_income_plus_pensions_per_capita',\n",
       " 'decile_survey_income_per_capita',\n",
       " 'direct_taxes',\n",
       " 'disposable_income',\n",
       " 'electricity_subsidies',\n",
       " 'employee_contributions_health',\n",
       " 'employee_contributions_pensions',\n",
       " 'employee_other_contributions',\n",
       " 'employer_contributions_health',\n",
       " 'employer_contributions_pensions',\n",
       " 'employer_other_contributions',\n",
       " 'excise_taxes',\n",
       " 'final_income',\n",
       " 'food_subsidies',\n",
       " 'fuel_subsidies',\n",
       " 'gifts_sales_durables',\n",
       " 'gross_income',\n",
       " 'imputed_rent',\n",
       " 'indirect_subsidies',\n",
       " 'indirect_taxes',\n",
       " 'market_income',\n",
       " 'market_income_plus_pensions',\n",
       " 'net_market_income',\n",
       " 'nontaxable_income',\n",
       " 'other_contributions',\n",
       " 'other_income',\n",
       " 'other_taxes',\n",
       " 'payroll_tax',\n",
       " 'pensions',\n",
       " 'personal_income_tax',\n",
       " 'property_tax',\n",
       " 'sales_tax',\n",
       " 'self_employed_contributions_health',\n",
       " 'self_employed_contributions_pensions',\n",
       " 'self_employed_other_contributions',\n",
       " 'taxable_income',\n",
       " 'value_added_tax']"
      ]
     },
     "execution_count": 38,
     "metadata": {},
     "output_type": "execute_result"
    }
   ],
   "source": [
    "ceq_variables"
   ]
  },
  {
   "cell_type": "code",
   "execution_count": 39,
   "metadata": {
    "execution": {
     "iopub.execute_input": "2020-07-10T17:29:32.749956Z",
     "iopub.status.busy": "2020-07-10T17:29:32.749076Z",
     "iopub.status.idle": "2020-07-10T17:29:32.755880Z",
     "shell.execute_reply": "2020-07-10T17:29:32.755027Z"
    },
    "papermill": {
     "duration": 0.051013,
     "end_time": "2020-07-10T17:29:32.756051",
     "exception": false,
     "start_time": "2020-07-10T17:29:32.705038",
     "status": "completed"
    },
    "tags": []
   },
   "outputs": [
    {
     "data": {
      "text/plain": [
       "190588786862.95657"
      ]
     },
     "execution_count": 39,
     "metadata": {},
     "output_type": "execute_result"
    }
   ],
   "source": [
    "survey_scenario.compute_aggregate('customs_duties', period = year) "
   ]
  },
  {
   "cell_type": "code",
   "execution_count": 40,
   "metadata": {
    "execution": {
     "iopub.execute_input": "2020-07-10T17:29:32.844876Z",
     "iopub.status.busy": "2020-07-10T17:29:32.844455Z",
     "iopub.status.idle": "2020-07-10T17:29:37.697625Z",
     "shell.execute_reply": "2020-07-10T17:29:37.698558Z"
    },
    "papermill": {
     "duration": 4.898986,
     "end_time": "2020-07-10T17:29:37.698803",
     "exception": false,
     "start_time": "2020-07-10T17:29:32.799817",
     "status": "completed"
    },
    "tags": []
   },
   "outputs": [
    {
     "name": "stderr",
     "output_type": "stream",
     "text": [
      "/home/benjello/.virtualenvs/ceq/lib/python3.7/site-packages/pandas/io/stata.py:1409: UnicodeWarning: \n",
      "One or more strings in the dta file could not be decoded using utf-8, and\n",
      "so the fallback encoding of latin-1 is being used.  This can happen when a file\n",
      "has been incorrectly encoded by Stata or some other software. You should verify\n",
      "the string values returned are correct.\n",
      "  warnings.warn(msg, UnicodeWarning)\n"
     ]
    },
    {
     "name": "stderr",
     "output_type": "stream",
     "text": [
      "/home/benjello/.virtualenvs/ceq/lib/python3.7/site-packages/scipy/optimize/minpack.py:175: RuntimeWarning: The iteration is not making good progress, as measured by the \n",
      "  improvement from the last ten iterations.\n",
      "  warnings.warn(msg, RuntimeWarning)\n"
     ]
    }
   ],
   "source": [
    "inflated_survey_scenario = build_ceq_survey_scenario(legislation_country = country, year = year, inflate = True)"
   ]
  },
  {
   "cell_type": "code",
   "execution_count": 41,
   "metadata": {
    "execution": {
     "iopub.execute_input": "2020-07-10T17:29:37.847273Z",
     "iopub.status.busy": "2020-07-10T17:29:37.846038Z",
     "iopub.status.idle": "2020-07-10T17:29:37.850573Z",
     "shell.execute_reply": "2020-07-10T17:29:37.851564Z"
    },
    "papermill": {
     "duration": 0.074874,
     "end_time": "2020-07-10T17:29:37.851810",
     "exception": false,
     "start_time": "2020-07-10T17:29:37.776936",
     "status": "completed"
    },
    "tags": []
   },
   "outputs": [
    {
     "data": {
      "text/plain": [
       "['poste_10_1',\n",
       " 'poste_10_1_1_1_item_1',\n",
       " 'poste_10_1_1_1_item_2',\n",
       " 'poste_10_1_1_1_item_3',\n",
       " 'poste_10_1_1_1_item_4',\n",
       " 'poste_10_1_1_1_item_5',\n",
       " 'poste_11_1_1_1_1',\n",
       " 'poste_11_1_1_1_2',\n",
       " 'poste_11_1_2_1_1',\n",
       " 'poste_12_1_1_1',\n",
       " 'poste_12_1_3_item_1',\n",
       " 'poste_12_1_3_item_2',\n",
       " 'poste_12_3_1_1',\n",
       " 'poste_12_5',\n",
       " 'poste_12_5_3_1_1',\n",
       " 'poste_12_7_1',\n",
       " 'poste_12_7_1_2_3_item_1',\n",
       " 'poste_12_7_1_2_3_item_2',\n",
       " 'poste_12_7_1_2_3_item_3',\n",
       " 'poste_12_7_1_2_3_item_4',\n",
       " 'poste_12_7_1_2_3_item_5',\n",
       " 'poste_1_1',\n",
       " 'poste_1_1_1_1_1',\n",
       " 'poste_1_1_1_3_2',\n",
       " 'poste_1_1_1_4_1_item_1',\n",
       " 'poste_1_1_1_4_1_item_10',\n",
       " 'poste_1_1_1_4_1_item_11',\n",
       " 'poste_1_1_1_4_1_item_12',\n",
       " 'poste_1_1_1_4_1_item_13',\n",
       " 'poste_1_1_1_4_1_item_14',\n",
       " 'poste_1_1_1_4_1_item_15',\n",
       " 'poste_1_1_1_4_1_item_16',\n",
       " 'poste_1_1_1_4_1_item_2',\n",
       " 'poste_1_1_1_4_1_item_3',\n",
       " 'poste_1_1_1_4_1_item_4',\n",
       " 'poste_1_1_1_4_1_item_5',\n",
       " 'poste_1_1_1_4_1_item_6',\n",
       " 'poste_1_1_1_4_1_item_7',\n",
       " 'poste_1_1_1_4_1_item_8',\n",
       " 'poste_1_1_1_4_1_item_9',\n",
       " 'poste_1_1_1_4_2',\n",
       " 'poste_1_1_1_4_3_item_1',\n",
       " 'poste_1_1_1_4_3_item_2',\n",
       " 'poste_1_1_1_4_3_item_3',\n",
       " 'poste_1_1_2_item_1',\n",
       " 'poste_1_1_2_item_2',\n",
       " 'poste_1_1_2_item_3',\n",
       " 'poste_1_1_2_item_4',\n",
       " 'poste_1_1_2_item_5',\n",
       " 'poste_1_1_2_item_6',\n",
       " 'poste_1_1_2_item_7',\n",
       " 'poste_1_1_2_item_8',\n",
       " 'poste_1_1_3_item_1',\n",
       " 'poste_1_1_3_item_10',\n",
       " 'poste_1_1_3_item_11',\n",
       " 'poste_1_1_3_item_2',\n",
       " 'poste_1_1_3_item_3',\n",
       " 'poste_1_1_3_item_4',\n",
       " 'poste_1_1_3_item_5',\n",
       " 'poste_1_1_3_item_6',\n",
       " 'poste_1_1_3_item_7',\n",
       " 'poste_1_1_3_item_8',\n",
       " 'poste_1_1_3_item_9',\n",
       " 'poste_1_1_4_item_1',\n",
       " 'poste_1_1_4_item_2',\n",
       " 'poste_1_1_4_item_3',\n",
       " 'poste_1_1_4_item_4',\n",
       " 'poste_1_1_4_item_5',\n",
       " 'poste_1_1_4_item_6',\n",
       " 'poste_1_1_4_item_7',\n",
       " 'poste_1_1_5_item_1',\n",
       " 'poste_1_1_5_item_2',\n",
       " 'poste_1_1_5_item_3',\n",
       " 'poste_1_1_5_item_4',\n",
       " 'poste_1_1_5_item_5',\n",
       " 'poste_1_1_6_item_1',\n",
       " 'poste_1_1_6_item_10',\n",
       " 'poste_1_1_6_item_11',\n",
       " 'poste_1_1_6_item_12',\n",
       " 'poste_1_1_6_item_13',\n",
       " 'poste_1_1_6_item_14',\n",
       " 'poste_1_1_6_item_15',\n",
       " 'poste_1_1_6_item_16',\n",
       " 'poste_1_1_6_item_17',\n",
       " 'poste_1_1_6_item_18',\n",
       " 'poste_1_1_6_item_19',\n",
       " 'poste_1_1_6_item_2',\n",
       " 'poste_1_1_6_item_20',\n",
       " 'poste_1_1_6_item_21',\n",
       " 'poste_1_1_6_item_22',\n",
       " 'poste_1_1_6_item_23',\n",
       " 'poste_1_1_6_item_3',\n",
       " 'poste_1_1_6_item_4',\n",
       " 'poste_1_1_6_item_5',\n",
       " 'poste_1_1_6_item_6',\n",
       " 'poste_1_1_6_item_7',\n",
       " 'poste_1_1_6_item_8',\n",
       " 'poste_1_1_6_item_9',\n",
       " 'poste_1_1_7_item_1',\n",
       " 'poste_1_1_7_item_10',\n",
       " 'poste_1_1_7_item_11',\n",
       " 'poste_1_1_7_item_12',\n",
       " 'poste_1_1_7_item_13',\n",
       " 'poste_1_1_7_item_14',\n",
       " 'poste_1_1_7_item_15',\n",
       " 'poste_1_1_7_item_16',\n",
       " 'poste_1_1_7_item_17',\n",
       " 'poste_1_1_7_item_18',\n",
       " 'poste_1_1_7_item_19',\n",
       " 'poste_1_1_7_item_2',\n",
       " 'poste_1_1_7_item_20',\n",
       " 'poste_1_1_7_item_21',\n",
       " 'poste_1_1_7_item_22',\n",
       " 'poste_1_1_7_item_23',\n",
       " 'poste_1_1_7_item_24',\n",
       " 'poste_1_1_7_item_25',\n",
       " 'poste_1_1_7_item_26',\n",
       " 'poste_1_1_7_item_27',\n",
       " 'poste_1_1_7_item_3',\n",
       " 'poste_1_1_7_item_4',\n",
       " 'poste_1_1_7_item_5',\n",
       " 'poste_1_1_7_item_6',\n",
       " 'poste_1_1_7_item_7',\n",
       " 'poste_1_1_7_item_8',\n",
       " 'poste_1_1_7_item_9',\n",
       " 'poste_1_1_8_item_1',\n",
       " 'poste_1_1_8_item_2',\n",
       " 'poste_1_1_8_item_3',\n",
       " 'poste_1_1_8_item_4',\n",
       " 'poste_1_1_8_item_5',\n",
       " 'poste_1_1_9_item_1',\n",
       " 'poste_1_1_9_item_2',\n",
       " 'poste_1_1_9_item_3',\n",
       " 'poste_1_1_9_item_4',\n",
       " 'poste_1_1_9_item_5',\n",
       " 'poste_1_1_9_item_6',\n",
       " 'poste_1_2_item_1',\n",
       " 'poste_1_2_item_2',\n",
       " 'poste_1_2_item_3',\n",
       " 'poste_1_2_item_4',\n",
       " 'poste_1_2_item_5',\n",
       " 'poste_1_2_item_6',\n",
       " 'poste_1_2_item_7',\n",
       " 'poste_2_1_item_1',\n",
       " 'poste_2_1_item_2',\n",
       " 'poste_2_1_item_3',\n",
       " 'poste_2_2_item_1',\n",
       " 'poste_2_2_item_2',\n",
       " 'poste_3_1_2_item_1',\n",
       " 'poste_3_1_2_item_2',\n",
       " 'poste_3_1_2_item_3',\n",
       " 'poste_3_1_2_item_4',\n",
       " 'poste_3_1_2_item_5',\n",
       " 'poste_3_1_2_item_6',\n",
       " 'poste_3_1_2_item_7',\n",
       " 'poste_3_2_1',\n",
       " 'poste_4_1_1',\n",
       " 'poste_4_4_1_1_1_item_1',\n",
       " 'poste_4_4_1_1_1_item_2',\n",
       " 'poste_4_4_1_2_1',\n",
       " 'poste_4_5_1_1_1_item_1',\n",
       " 'poste_4_5_1_1_1_item_2',\n",
       " 'poste_4_5_2_1_1',\n",
       " 'poste_4_5_3_1_1_item_1',\n",
       " 'poste_4_5_3_1_1_item_2',\n",
       " 'poste_4_5_3_1_1_item_3',\n",
       " 'poste_4_5_4_1_1_item_1',\n",
       " 'poste_4_5_4_1_1_item_2',\n",
       " 'poste_4_5_4_1_1_item_3',\n",
       " 'poste_5_4_1',\n",
       " 'poste_5_5_1_item_1',\n",
       " 'poste_5_5_1_item_2',\n",
       " 'poste_5_5_1_item_3',\n",
       " 'poste_5_5_1_item_4',\n",
       " 'poste_5_6_2_1_1',\n",
       " 'poste_6_1_1_item_1',\n",
       " 'poste_6_1_1_item_2',\n",
       " 'poste_6_1_1_item_3',\n",
       " 'poste_6_2_1_item_1',\n",
       " 'poste_6_2_1_item_2',\n",
       " 'poste_6_2_1_item_3',\n",
       " 'poste_6_2_1_item_4',\n",
       " 'poste_7_2_2',\n",
       " 'poste_7_2_3',\n",
       " 'poste_7_3_2_item_1',\n",
       " 'poste_7_3_2_item_2',\n",
       " 'poste_7_3_2_item_3',\n",
       " 'poste_8_1_1_1_1',\n",
       " 'poste_8_1_2_1_1',\n",
       " 'poste_8_1_2_2_1_item_1',\n",
       " 'poste_8_1_2_2_1_item_2',\n",
       " 'poste_8_1_2_2_1_item_3',\n",
       " 'poste_8_1_2_2_1_item_4',\n",
       " 'poste_99_item_1',\n",
       " 'poste_99_item_10',\n",
       " 'poste_99_item_100',\n",
       " 'poste_99_item_101',\n",
       " 'poste_99_item_102',\n",
       " 'poste_99_item_103',\n",
       " 'poste_99_item_104',\n",
       " 'poste_99_item_105',\n",
       " 'poste_99_item_106',\n",
       " 'poste_99_item_107',\n",
       " 'poste_99_item_108',\n",
       " 'poste_99_item_109',\n",
       " 'poste_99_item_11',\n",
       " 'poste_99_item_110',\n",
       " 'poste_99_item_111',\n",
       " 'poste_99_item_112',\n",
       " 'poste_99_item_113',\n",
       " 'poste_99_item_114',\n",
       " 'poste_99_item_115',\n",
       " 'poste_99_item_116',\n",
       " 'poste_99_item_117',\n",
       " 'poste_99_item_118',\n",
       " 'poste_99_item_119',\n",
       " 'poste_99_item_12',\n",
       " 'poste_99_item_120',\n",
       " 'poste_99_item_121',\n",
       " 'poste_99_item_122',\n",
       " 'poste_99_item_123',\n",
       " 'poste_99_item_124',\n",
       " 'poste_99_item_125',\n",
       " 'poste_99_item_126',\n",
       " 'poste_99_item_127',\n",
       " 'poste_99_item_128',\n",
       " 'poste_99_item_129',\n",
       " 'poste_99_item_13',\n",
       " 'poste_99_item_130',\n",
       " 'poste_99_item_131',\n",
       " 'poste_99_item_132',\n",
       " 'poste_99_item_133',\n",
       " 'poste_99_item_134',\n",
       " 'poste_99_item_135',\n",
       " 'poste_99_item_136',\n",
       " 'poste_99_item_137',\n",
       " 'poste_99_item_138',\n",
       " 'poste_99_item_139',\n",
       " 'poste_99_item_14',\n",
       " 'poste_99_item_140',\n",
       " 'poste_99_item_141',\n",
       " 'poste_99_item_142',\n",
       " 'poste_99_item_143',\n",
       " 'poste_99_item_144',\n",
       " 'poste_99_item_145',\n",
       " 'poste_99_item_146',\n",
       " 'poste_99_item_147',\n",
       " 'poste_99_item_148',\n",
       " 'poste_99_item_149',\n",
       " 'poste_99_item_15',\n",
       " 'poste_99_item_150',\n",
       " 'poste_99_item_151',\n",
       " 'poste_99_item_152',\n",
       " 'poste_99_item_153',\n",
       " 'poste_99_item_154',\n",
       " 'poste_99_item_155',\n",
       " 'poste_99_item_156',\n",
       " 'poste_99_item_157',\n",
       " 'poste_99_item_158',\n",
       " 'poste_99_item_159',\n",
       " 'poste_99_item_16',\n",
       " 'poste_99_item_160',\n",
       " 'poste_99_item_161',\n",
       " 'poste_99_item_162',\n",
       " 'poste_99_item_163',\n",
       " 'poste_99_item_164',\n",
       " 'poste_99_item_165',\n",
       " 'poste_99_item_166',\n",
       " 'poste_99_item_167',\n",
       " 'poste_99_item_168',\n",
       " 'poste_99_item_169',\n",
       " 'poste_99_item_17',\n",
       " 'poste_99_item_170',\n",
       " 'poste_99_item_171',\n",
       " 'poste_99_item_172',\n",
       " 'poste_99_item_173',\n",
       " 'poste_99_item_174',\n",
       " 'poste_99_item_175',\n",
       " 'poste_99_item_176',\n",
       " 'poste_99_item_177',\n",
       " 'poste_99_item_178',\n",
       " 'poste_99_item_179',\n",
       " 'poste_99_item_18',\n",
       " 'poste_99_item_180',\n",
       " 'poste_99_item_181',\n",
       " 'poste_99_item_182',\n",
       " 'poste_99_item_183',\n",
       " 'poste_99_item_184',\n",
       " 'poste_99_item_185',\n",
       " 'poste_99_item_186',\n",
       " 'poste_99_item_187',\n",
       " 'poste_99_item_188',\n",
       " 'poste_99_item_189',\n",
       " 'poste_99_item_19',\n",
       " 'poste_99_item_190',\n",
       " 'poste_99_item_191',\n",
       " 'poste_99_item_192',\n",
       " 'poste_99_item_193',\n",
       " 'poste_99_item_194',\n",
       " 'poste_99_item_195',\n",
       " 'poste_99_item_196',\n",
       " 'poste_99_item_197',\n",
       " 'poste_99_item_198',\n",
       " 'poste_99_item_199',\n",
       " 'poste_99_item_2',\n",
       " 'poste_99_item_20',\n",
       " 'poste_99_item_200',\n",
       " 'poste_99_item_201',\n",
       " 'poste_99_item_202',\n",
       " 'poste_99_item_203',\n",
       " 'poste_99_item_204',\n",
       " 'poste_99_item_205',\n",
       " 'poste_99_item_206',\n",
       " 'poste_99_item_207',\n",
       " 'poste_99_item_208',\n",
       " 'poste_99_item_209',\n",
       " 'poste_99_item_21',\n",
       " 'poste_99_item_210',\n",
       " 'poste_99_item_211',\n",
       " 'poste_99_item_212',\n",
       " 'poste_99_item_213',\n",
       " 'poste_99_item_214',\n",
       " 'poste_99_item_215',\n",
       " 'poste_99_item_216',\n",
       " 'poste_99_item_217',\n",
       " 'poste_99_item_218',\n",
       " 'poste_99_item_219',\n",
       " 'poste_99_item_22',\n",
       " 'poste_99_item_220',\n",
       " 'poste_99_item_221',\n",
       " 'poste_99_item_222',\n",
       " 'poste_99_item_223',\n",
       " 'poste_99_item_224',\n",
       " 'poste_99_item_225',\n",
       " 'poste_99_item_226',\n",
       " 'poste_99_item_227',\n",
       " 'poste_99_item_228',\n",
       " 'poste_99_item_229',\n",
       " 'poste_99_item_23',\n",
       " 'poste_99_item_230',\n",
       " 'poste_99_item_231',\n",
       " 'poste_99_item_232',\n",
       " 'poste_99_item_233',\n",
       " 'poste_99_item_234',\n",
       " 'poste_99_item_235',\n",
       " 'poste_99_item_236',\n",
       " 'poste_99_item_237',\n",
       " 'poste_99_item_238',\n",
       " 'poste_99_item_239',\n",
       " 'poste_99_item_24',\n",
       " 'poste_99_item_240',\n",
       " 'poste_99_item_241',\n",
       " 'poste_99_item_242',\n",
       " 'poste_99_item_243',\n",
       " 'poste_99_item_244',\n",
       " 'poste_99_item_245',\n",
       " 'poste_99_item_246',\n",
       " 'poste_99_item_247',\n",
       " 'poste_99_item_248',\n",
       " 'poste_99_item_249',\n",
       " 'poste_99_item_25',\n",
       " 'poste_99_item_250',\n",
       " 'poste_99_item_251',\n",
       " 'poste_99_item_252',\n",
       " 'poste_99_item_253',\n",
       " 'poste_99_item_254',\n",
       " 'poste_99_item_26',\n",
       " 'poste_99_item_27',\n",
       " 'poste_99_item_28',\n",
       " 'poste_99_item_29',\n",
       " 'poste_99_item_3',\n",
       " 'poste_99_item_30',\n",
       " 'poste_99_item_31',\n",
       " 'poste_99_item_32',\n",
       " 'poste_99_item_33',\n",
       " 'poste_99_item_34',\n",
       " 'poste_99_item_35',\n",
       " 'poste_99_item_36',\n",
       " 'poste_99_item_37',\n",
       " 'poste_99_item_38',\n",
       " 'poste_99_item_39',\n",
       " 'poste_99_item_4',\n",
       " 'poste_99_item_40',\n",
       " 'poste_99_item_41',\n",
       " 'poste_99_item_42',\n",
       " 'poste_99_item_43',\n",
       " 'poste_99_item_44',\n",
       " 'poste_99_item_45',\n",
       " 'poste_99_item_46',\n",
       " 'poste_99_item_47',\n",
       " 'poste_99_item_48',\n",
       " 'poste_99_item_49',\n",
       " 'poste_99_item_5',\n",
       " 'poste_99_item_50',\n",
       " 'poste_99_item_51',\n",
       " 'poste_99_item_52',\n",
       " 'poste_99_item_53',\n",
       " 'poste_99_item_54',\n",
       " 'poste_99_item_55',\n",
       " 'poste_99_item_56',\n",
       " 'poste_99_item_57',\n",
       " 'poste_99_item_58',\n",
       " 'poste_99_item_59',\n",
       " 'poste_99_item_6',\n",
       " 'poste_99_item_60',\n",
       " 'poste_99_item_61',\n",
       " 'poste_99_item_62',\n",
       " 'poste_99_item_63',\n",
       " 'poste_99_item_64',\n",
       " 'poste_99_item_65',\n",
       " 'poste_99_item_66',\n",
       " 'poste_99_item_67',\n",
       " 'poste_99_item_68',\n",
       " 'poste_99_item_69',\n",
       " 'poste_99_item_7',\n",
       " 'poste_99_item_70',\n",
       " 'poste_99_item_71',\n",
       " 'poste_99_item_72',\n",
       " 'poste_99_item_73',\n",
       " 'poste_99_item_74',\n",
       " 'poste_99_item_75',\n",
       " 'poste_99_item_76',\n",
       " 'poste_99_item_77',\n",
       " 'poste_99_item_78',\n",
       " 'poste_99_item_79',\n",
       " 'poste_99_item_8',\n",
       " 'poste_99_item_80',\n",
       " 'poste_99_item_81',\n",
       " 'poste_99_item_82',\n",
       " 'poste_99_item_83',\n",
       " 'poste_99_item_84',\n",
       " 'poste_99_item_85',\n",
       " 'poste_99_item_86',\n",
       " 'poste_99_item_87',\n",
       " 'poste_99_item_88',\n",
       " 'poste_99_item_89',\n",
       " 'poste_99_item_9',\n",
       " 'poste_99_item_90',\n",
       " 'poste_99_item_91',\n",
       " 'poste_99_item_92',\n",
       " 'poste_99_item_93',\n",
       " 'poste_99_item_94',\n",
       " 'poste_99_item_95',\n",
       " 'poste_99_item_96',\n",
       " 'poste_99_item_97',\n",
       " 'poste_99_item_98',\n",
       " 'poste_99_item_99',\n",
       " 'poste_9_1_1_1_2',\n",
       " 'poste_9_4',\n",
       " 'poste_9_4_1_1',\n",
       " 'poste_9_5_1_1',\n",
       " 'poste_9_5_2_1_1',\n",
       " 'poste_9_6_1_item_1',\n",
       " 'poste_9_6_1_item_2']"
      ]
     },
     "execution_count": 41,
     "metadata": {},
     "output_type": "execute_result"
    }
   ],
   "source": [
    "sorted([\n",
    "    variable \n",
    "    for variable in survey_scenario.tax_benefit_system.variables \n",
    "    if variable.startswith('poste_')\n",
    "    ])"
   ]
  },
  {
   "cell_type": "code",
   "execution_count": 42,
   "metadata": {
    "execution": {
     "iopub.execute_input": "2020-07-10T17:29:37.938700Z",
     "iopub.status.busy": "2020-07-10T17:29:37.938128Z",
     "iopub.status.idle": "2020-07-10T17:29:37.942989Z",
     "shell.execute_reply": "2020-07-10T17:29:37.943488Z"
    },
    "papermill": {
     "duration": 0.050857,
     "end_time": "2020-07-10T17:29:37.943754",
     "exception": false,
     "start_time": "2020-07-10T17:29:37.892897",
     "status": "completed"
    },
    "tags": []
   },
   "outputs": [
    {
     "data": {
      "text/plain": [
       "749991523973.4215"
      ]
     },
     "execution_count": 42,
     "metadata": {},
     "output_type": "execute_result"
    }
   ],
   "source": [
    "survey_scenario.compute_aggregate('indirect_taxes', period = year)"
   ]
  },
  {
   "cell_type": "markdown",
   "metadata": {
    "papermill": {
     "duration": 0.039271,
     "end_time": "2020-07-10T17:29:38.033034",
     "exception": false,
     "start_time": "2020-07-10T17:29:37.993763",
     "status": "completed"
    },
    "tags": []
   },
   "source": [
    "Direct taxes"
   ]
  },
  {
   "cell_type": "code",
   "execution_count": null,
   "metadata": {
    "papermill": {
     "duration": 0.040038,
     "end_time": "2020-07-10T17:29:38.113097",
     "exception": false,
     "start_time": "2020-07-10T17:29:38.073059",
     "status": "completed"
    },
    "tags": []
   },
   "outputs": [],
   "source": []
  },
  {
   "cell_type": "code",
   "execution_count": null,
   "metadata": {
    "papermill": {
     "duration": 0.039834,
     "end_time": "2020-07-10T17:29:38.193350",
     "exception": false,
     "start_time": "2020-07-10T17:29:38.153516",
     "status": "completed"
    },
    "tags": []
   },
   "outputs": [],
   "source": []
  }
 ],
 "metadata": {
  "kernelspec": {
   "display_name": "Python 3",
   "language": "python",
   "name": "python3"
  },
  "language_info": {
   "codemirror_mode": {
    "name": "ipython",
    "version": 3
   },
   "file_extension": ".py",
   "mimetype": "text/x-python",
   "name": "python",
   "nbconvert_exporter": "python",
   "pygments_lexer": "ipython3",
   "version": "3.7.8"
  },
  "papermill": {
   "duration": 23.297159,
   "end_time": "2020-07-10T17:29:39.568558",
   "environment_variables": {},
   "exception": null,
   "input_path": "notebooks/test.ipynb",
   "output_path": "notebooks/cote_d_ivoire.ipynb",
   "parameters": {
    "country": "cote_d_ivoire"
   },
   "start_time": "2020-07-10T17:29:16.271399",
   "version": "2.1.2"
  }
 },
 "nbformat": 4,
 "nbformat_minor": 4
}