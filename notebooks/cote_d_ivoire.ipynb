{
 "cells": [
  {
   "cell_type": "code",
   "execution_count": 1,
   "metadata": {
    "execution": {
     "iopub.execute_input": "2020-09-13T20:51:47.118425Z",
     "iopub.status.busy": "2020-09-13T20:51:47.117691Z",
     "iopub.status.idle": "2020-09-13T20:51:47.120750Z",
     "shell.execute_reply": "2020-09-13T20:51:47.120219Z"
    },
    "papermill": {
     "duration": 0.042808,
     "end_time": "2020-09-13T20:51:47.120866",
     "exception": false,
     "start_time": "2020-09-13T20:51:47.078058",
     "status": "completed"
    },
    "tags": []
   },
   "outputs": [],
   "source": [
    "# !pip install -U git+https://github.com/openfisca/openfisca-ceq.git@master#egg=OpenFisca-CEQ\n",
    "# !pip install -U git+https://github.com/openfisca/openfisca-senegal.git@ceq#egg=OpenFisca-Senegal\n",
    "# !pip install -U git+https://github.com/openfisca/openfisca-mali.git@master#egg=OpenFisca-Mali\n",
    "# !pip install -U git+https://github.com/openfisca/openfisca-cote-d-ivoire.git@master#egg=OpenFisca-COTE-D-IVOIRE"
   ]
  },
  {
   "cell_type": "code",
   "execution_count": 2,
   "metadata": {
    "execution": {
     "iopub.execute_input": "2020-09-13T20:51:47.187806Z",
     "iopub.status.busy": "2020-09-13T20:51:47.186677Z",
     "iopub.status.idle": "2020-09-13T20:51:48.039957Z",
     "shell.execute_reply": "2020-09-13T20:51:48.040842Z"
    },
    "papermill": {
     "duration": 0.891124,
     "end_time": "2020-09-13T20:51:48.041072",
     "exception": false,
     "start_time": "2020-09-13T20:51:47.149948",
     "status": "completed"
    },
    "tags": []
   },
   "outputs": [],
   "source": [
    "from matplotlib import pyplot as plt\n",
    "%matplotlib inline\n",
    "import pandas as pd\n",
    "from openfisca_ceq.tools.survey_scenario import build_ceq_survey_scenario\n",
    "from openfisca_ceq.tools.indirect_taxation.tax_benefit_system_indirect_taxation_completion import indirect_tax_by_country\n",
    "from openfisca_ceq.tools.data import year_by_country\n",
    "from openfisca_ceq.tools.data_ceq_correspondence import (\n",
    "    ceq_input_by_harmonized_variable,\n",
    "    ceq_intermediate_by_harmonized_variable,\n",
    "    non_ceq_input_by_harmonized_variable,\n",
    "    )"
   ]
  },
  {
   "cell_type": "markdown",
   "metadata": {
    "papermill": {
     "duration": 0.027427,
     "end_time": "2020-09-13T20:51:48.105465",
     "exception": false,
     "start_time": "2020-09-13T20:51:48.078038",
     "status": "completed"
    },
    "tags": []
   },
   "source": [
    "# Build country scenario"
   ]
  },
  {
   "cell_type": "markdown",
   "metadata": {
    "papermill": {
     "duration": 0.027461,
     "end_time": "2020-09-13T20:51:48.160811",
     "exception": false,
     "start_time": "2020-09-13T20:51:48.133350",
     "status": "completed"
    },
    "tags": []
   },
   "source": [
    "## Country selection"
   ]
  },
  {
   "cell_type": "code",
   "execution_count": 3,
   "metadata": {
    "execution": {
     "iopub.execute_input": "2020-09-13T20:51:48.222540Z",
     "iopub.status.busy": "2020-09-13T20:51:48.221277Z",
     "iopub.status.idle": "2020-09-13T20:51:48.223703Z",
     "shell.execute_reply": "2020-09-13T20:51:48.224855Z"
    },
    "papermill": {
     "duration": 0.037283,
     "end_time": "2020-09-13T20:51:48.225147",
     "exception": false,
     "start_time": "2020-09-13T20:51:48.187864",
     "status": "completed"
    },
    "tags": [
     "parameters"
    ]
   },
   "outputs": [],
   "source": [
    "country = \"mali\""
   ]
  },
  {
   "cell_type": "code",
   "execution_count": 4,
   "metadata": {
    "execution": {
     "iopub.execute_input": "2020-09-13T20:51:48.302244Z",
     "iopub.status.busy": "2020-09-13T20:51:48.301175Z",
     "iopub.status.idle": "2020-09-13T20:51:48.303535Z",
     "shell.execute_reply": "2020-09-13T20:51:48.303054Z"
    },
    "papermill": {
     "duration": 0.035978,
     "end_time": "2020-09-13T20:51:48.303639",
     "exception": false,
     "start_time": "2020-09-13T20:51:48.267661",
     "status": "completed"
    },
    "tags": [
     "injected-parameters"
    ]
   },
   "outputs": [],
   "source": [
    "# Parameters\n",
    "country = \"cote_d_ivoire\"\n"
   ]
  },
  {
   "cell_type": "code",
   "execution_count": 5,
   "metadata": {
    "execution": {
     "iopub.execute_input": "2020-09-13T20:51:48.383693Z",
     "iopub.status.busy": "2020-09-13T20:51:48.382414Z",
     "iopub.status.idle": "2020-09-13T20:51:54.206426Z",
     "shell.execute_reply": "2020-09-13T20:51:54.207371Z"
    },
    "papermill": {
     "duration": 5.865153,
     "end_time": "2020-09-13T20:51:54.207728",
     "exception": false,
     "start_time": "2020-09-13T20:51:48.342575",
     "status": "completed"
    },
    "tags": []
   },
   "outputs": [
    {
     "name": "stderr",
     "output_type": "stream",
     "text": [
      "/home/benjello/.virtualenvs/ceq/lib/python3.7/site-packages/pandas/io/stata.py:1409: UnicodeWarning: \n",
      "One or more strings in the dta file could not be decoded using utf-8, and\n",
      "so the fallback encoding of latin-1 is being used.  This can happen when a file\n",
      "has been incorrectly encoded by Stata or some other software. You should verify\n",
      "the string values returned are correct.\n",
      "  warnings.warn(msg, UnicodeWarning)\n"
     ]
    }
   ],
   "source": [
    "year = year_by_country[country]\n",
    "survey_scenario = build_ceq_survey_scenario(legislation_country = country, year = year)"
   ]
  },
  {
   "cell_type": "markdown",
   "metadata": {
    "papermill": {
     "duration": 0.048015,
     "end_time": "2020-09-13T20:51:54.303326",
     "exception": false,
     "start_time": "2020-09-13T20:51:54.255311",
     "status": "completed"
    },
    "tags": []
   },
   "source": [
    "# Aggegates check"
   ]
  },
  {
   "cell_type": "markdown",
   "metadata": {
    "papermill": {
     "duration": 0.047651,
     "end_time": "2020-09-13T20:51:54.405755",
     "exception": false,
     "start_time": "2020-09-13T20:51:54.358104",
     "status": "completed"
    },
    "tags": []
   },
   "source": [
    "## Income variables"
   ]
  },
  {
   "cell_type": "markdown",
   "metadata": {
    "papermill": {
     "duration": 0.038411,
     "end_time": "2020-09-13T20:51:54.488667",
     "exception": false,
     "start_time": "2020-09-13T20:51:54.450256",
     "status": "completed"
    },
    "tags": []
   },
   "source": [
    "### Disagregated income variables"
   ]
  },
  {
   "cell_type": "code",
   "execution_count": 6,
   "metadata": {
    "execution": {
     "iopub.execute_input": "2020-09-13T20:51:54.583768Z",
     "iopub.status.busy": "2020-09-13T20:51:54.582085Z",
     "iopub.status.idle": "2020-09-13T20:51:54.587698Z",
     "shell.execute_reply": "2020-09-13T20:51:54.588741Z"
    },
    "papermill": {
     "duration": 0.065685,
     "end_time": "2020-09-13T20:51:54.588947",
     "exception": false,
     "start_time": "2020-09-13T20:51:54.523262",
     "status": "completed"
    },
    "tags": []
   },
   "outputs": [
    {
     "data": {
      "text/plain": [
       "{'rev_i_autoconsommation': 'autoconsumption',\n",
       " 'rev_i_autres': 'other_income',\n",
       " 'rev_i_autres_transferts': 'gifts_sales_durables',\n",
       " 'rev_i_loyers_imputes': 'imputed_rent',\n",
       " 'rev_i_transferts_publics': 'direct_transfers',\n",
       " 'rev_i_agricoles': 'revenu_agricole',\n",
       " 'rev_i_autres_revenus_capital': 'autres_revenus_du_capital',\n",
       " 'rev_i_independants_Ntaxe': 'revenu_informel_non_salarie',\n",
       " 'rev_i_independants_taxe': 'revenu_non_salarie',\n",
       " 'rev_i_locatifs': 'revenu_locatif',\n",
       " 'rev_i_pensions': 'pension_retraite',\n",
       " 'rev_i_salaires_formels': 'salaire',\n",
       " 'rev_i_salaires_informels': 'revenu_informel_salarie',\n",
       " 'autres_revenus_du_capital_brut': 'autres_revenus_du_capital_brut',\n",
       " 'pension_retraite_brut': 'pension_retraite_brut',\n",
       " 'revenu_foncier_brut': 'revenu_foncier_brut',\n",
       " 'revenu_non_salarie_brut': 'revenu_non_salarie_brut',\n",
       " 'salaire_brut': 'salaire_brut',\n",
       " 'salaire_super_brut': 'salaire_super_brut'}"
      ]
     },
     "execution_count": 6,
     "metadata": {},
     "output_type": "execute_result"
    }
   ],
   "source": [
    "ceq_by_harmonized_variable = dict()\n",
    "ceq_by_harmonized_variable.update(ceq_input_by_harmonized_variable)\n",
    "ceq_by_harmonized_variable.update(ceq_intermediate_by_harmonized_variable)\n",
    "ceq_by_harmonized_variable.update(non_ceq_input_by_harmonized_variable)\n",
    "ceq_by_harmonized_variable['autres_revenus_du_capital_brut'] = 'autres_revenus_du_capital_brut'\n",
    "ceq_by_harmonized_variable['pension_retraite_brut'] = 'pension_retraite_brut'\n",
    "ceq_by_harmonized_variable['revenu_foncier_brut'] = 'revenu_foncier_brut'\n",
    "ceq_by_harmonized_variable['revenu_non_salarie_brut'] = 'revenu_non_salarie_brut' \n",
    "ceq_by_harmonized_variable['salaire_brut'] = 'salaire_brut'\n",
    "ceq_by_harmonized_variable['salaire_super_brut'] = 'salaire_super_brut'\n",
    "ceq_by_harmonized_variable"
   ]
  },
  {
   "cell_type": "code",
   "execution_count": 7,
   "metadata": {
    "execution": {
     "iopub.execute_input": "2020-09-13T20:51:54.708804Z",
     "iopub.status.busy": "2020-09-13T20:51:54.707623Z",
     "iopub.status.idle": "2020-09-13T20:51:54.742983Z",
     "shell.execute_reply": "2020-09-13T20:51:54.742078Z"
    },
    "papermill": {
     "duration": 0.111159,
     "end_time": "2020-09-13T20:51:54.743224",
     "exception": false,
     "start_time": "2020-09-13T20:51:54.632065",
     "status": "completed"
    },
    "tags": []
   },
   "outputs": [],
   "source": [
    "data = [\n",
    "    (harmonized_variable, openfisca_variable, survey_scenario.compute_aggregate(openfisca_variable, period = year) / 1e9) \n",
    "    for harmonized_variable, openfisca_variable in ceq_by_harmonized_variable.items()\n",
    "    ]"
   ]
  },
  {
   "cell_type": "code",
   "execution_count": 8,
   "metadata": {
    "execution": {
     "iopub.execute_input": "2020-09-13T20:51:54.877174Z",
     "iopub.status.busy": "2020-09-13T20:51:54.875624Z",
     "iopub.status.idle": "2020-09-13T20:51:54.910607Z",
     "shell.execute_reply": "2020-09-13T20:51:54.909301Z"
    },
    "papermill": {
     "duration": 0.112961,
     "end_time": "2020-09-13T20:51:54.910880",
     "exception": false,
     "start_time": "2020-09-13T20:51:54.797919",
     "status": "completed"
    },
    "tags": []
   },
   "outputs": [
    {
     "data": {
      "text/html": [
       "<div>\n",
       "<style scoped>\n",
       "    .dataframe tbody tr th:only-of-type {\n",
       "        vertical-align: middle;\n",
       "    }\n",
       "\n",
       "    .dataframe tbody tr th {\n",
       "        vertical-align: top;\n",
       "    }\n",
       "\n",
       "    .dataframe thead th {\n",
       "        text-align: right;\n",
       "    }\n",
       "</style>\n",
       "<table border=\"1\" class=\"dataframe\">\n",
       "  <thead>\n",
       "    <tr style=\"text-align: right;\">\n",
       "      <th></th>\n",
       "      <th>harmonized</th>\n",
       "      <th>openfisca</th>\n",
       "      <th>aggregate</th>\n",
       "    </tr>\n",
       "  </thead>\n",
       "  <tbody>\n",
       "    <tr>\n",
       "      <th>0</th>\n",
       "      <td>rev_i_autoconsommation</td>\n",
       "      <td>autoconsumption</td>\n",
       "      <td>1289</td>\n",
       "    </tr>\n",
       "    <tr>\n",
       "      <th>1</th>\n",
       "      <td>rev_i_autres</td>\n",
       "      <td>other_income</td>\n",
       "      <td>581</td>\n",
       "    </tr>\n",
       "    <tr>\n",
       "      <th>2</th>\n",
       "      <td>rev_i_autres_transferts</td>\n",
       "      <td>gifts_sales_durables</td>\n",
       "      <td>782</td>\n",
       "    </tr>\n",
       "    <tr>\n",
       "      <th>3</th>\n",
       "      <td>rev_i_loyers_imputes</td>\n",
       "      <td>imputed_rent</td>\n",
       "      <td>277</td>\n",
       "    </tr>\n",
       "    <tr>\n",
       "      <th>4</th>\n",
       "      <td>rev_i_transferts_publics</td>\n",
       "      <td>direct_transfers</td>\n",
       "      <td>8</td>\n",
       "    </tr>\n",
       "    <tr>\n",
       "      <th>5</th>\n",
       "      <td>rev_i_agricoles</td>\n",
       "      <td>revenu_agricole</td>\n",
       "      <td>1428</td>\n",
       "    </tr>\n",
       "    <tr>\n",
       "      <th>6</th>\n",
       "      <td>rev_i_autres_revenus_capital</td>\n",
       "      <td>autres_revenus_du_capital</td>\n",
       "      <td>75</td>\n",
       "    </tr>\n",
       "    <tr>\n",
       "      <th>7</th>\n",
       "      <td>rev_i_independants_Ntaxe</td>\n",
       "      <td>revenu_informel_non_salarie</td>\n",
       "      <td>1346</td>\n",
       "    </tr>\n",
       "    <tr>\n",
       "      <th>8</th>\n",
       "      <td>rev_i_independants_taxe</td>\n",
       "      <td>revenu_non_salarie</td>\n",
       "      <td>245</td>\n",
       "    </tr>\n",
       "    <tr>\n",
       "      <th>9</th>\n",
       "      <td>rev_i_locatifs</td>\n",
       "      <td>revenu_locatif</td>\n",
       "      <td>215</td>\n",
       "    </tr>\n",
       "    <tr>\n",
       "      <th>10</th>\n",
       "      <td>rev_i_pensions</td>\n",
       "      <td>pension_retraite</td>\n",
       "      <td>354</td>\n",
       "    </tr>\n",
       "    <tr>\n",
       "      <th>11</th>\n",
       "      <td>rev_i_salaires_formels</td>\n",
       "      <td>salaire</td>\n",
       "      <td>1364</td>\n",
       "    </tr>\n",
       "    <tr>\n",
       "      <th>12</th>\n",
       "      <td>rev_i_salaires_informels</td>\n",
       "      <td>revenu_informel_salarie</td>\n",
       "      <td>2278</td>\n",
       "    </tr>\n",
       "    <tr>\n",
       "      <th>13</th>\n",
       "      <td>autres_revenus_du_capital_brut</td>\n",
       "      <td>autres_revenus_du_capital_brut</td>\n",
       "      <td>91</td>\n",
       "    </tr>\n",
       "    <tr>\n",
       "      <th>14</th>\n",
       "      <td>pension_retraite_brut</td>\n",
       "      <td>pension_retraite_brut</td>\n",
       "      <td>354</td>\n",
       "    </tr>\n",
       "    <tr>\n",
       "      <th>15</th>\n",
       "      <td>revenu_foncier_brut</td>\n",
       "      <td>revenu_foncier_brut</td>\n",
       "      <td>222</td>\n",
       "    </tr>\n",
       "    <tr>\n",
       "      <th>16</th>\n",
       "      <td>revenu_non_salarie_brut</td>\n",
       "      <td>revenu_non_salarie_brut</td>\n",
       "      <td>245</td>\n",
       "    </tr>\n",
       "    <tr>\n",
       "      <th>17</th>\n",
       "      <td>salaire_brut</td>\n",
       "      <td>salaire_brut</td>\n",
       "      <td>1616</td>\n",
       "    </tr>\n",
       "    <tr>\n",
       "      <th>18</th>\n",
       "      <td>salaire_super_brut</td>\n",
       "      <td>salaire_super_brut</td>\n",
       "      <td>1787</td>\n",
       "    </tr>\n",
       "  </tbody>\n",
       "</table>\n",
       "</div>"
      ],
      "text/plain": [
       "                        harmonized                       openfisca  aggregate\n",
       "0           rev_i_autoconsommation                 autoconsumption       1289\n",
       "1                     rev_i_autres                    other_income        581\n",
       "2          rev_i_autres_transferts            gifts_sales_durables        782\n",
       "3             rev_i_loyers_imputes                    imputed_rent        277\n",
       "4         rev_i_transferts_publics                direct_transfers          8\n",
       "5                  rev_i_agricoles                 revenu_agricole       1428\n",
       "6     rev_i_autres_revenus_capital       autres_revenus_du_capital         75\n",
       "7         rev_i_independants_Ntaxe     revenu_informel_non_salarie       1346\n",
       "8          rev_i_independants_taxe              revenu_non_salarie        245\n",
       "9                   rev_i_locatifs                  revenu_locatif        215\n",
       "10                  rev_i_pensions                pension_retraite        354\n",
       "11          rev_i_salaires_formels                         salaire       1364\n",
       "12        rev_i_salaires_informels         revenu_informel_salarie       2278\n",
       "13  autres_revenus_du_capital_brut  autres_revenus_du_capital_brut         91\n",
       "14           pension_retraite_brut           pension_retraite_brut        354\n",
       "15             revenu_foncier_brut             revenu_foncier_brut        222\n",
       "16         revenu_non_salarie_brut         revenu_non_salarie_brut        245\n",
       "17                    salaire_brut                    salaire_brut       1616\n",
       "18              salaire_super_brut              salaire_super_brut       1787"
      ]
     },
     "execution_count": 8,
     "metadata": {},
     "output_type": "execute_result"
    }
   ],
   "source": [
    "revenus = pd.DataFrame(data, columns = [\"harmonized\", \"openfisca\", \"aggregate\"])\n",
    "revenus.round(0).astype({\"aggregate\": int})"
   ]
  },
  {
   "cell_type": "markdown",
   "metadata": {
    "papermill": {
     "duration": 0.049144,
     "end_time": "2020-09-13T20:51:55.049806",
     "exception": false,
     "start_time": "2020-09-13T20:51:55.000662",
     "status": "completed"
    },
    "tags": []
   },
   "source": [
    "### Agregated income variables"
   ]
  },
  {
   "cell_type": "markdown",
   "metadata": {
    "papermill": {
     "duration": 0.031325,
     "end_time": "2020-09-13T20:51:55.116614",
     "exception": false,
     "start_time": "2020-09-13T20:51:55.085289",
     "status": "completed"
    },
    "tags": []
   },
   "source": [
    "#### CEQ agregated income variables"
   ]
  },
  {
   "cell_type": "code",
   "execution_count": 9,
   "metadata": {
    "execution": {
     "iopub.execute_input": "2020-09-13T20:51:55.187999Z",
     "iopub.status.busy": "2020-09-13T20:51:55.186820Z",
     "iopub.status.idle": "2020-09-13T20:51:55.189156Z",
     "shell.execute_reply": "2020-09-13T20:51:55.190080Z"
    },
    "papermill": {
     "duration": 0.041867,
     "end_time": "2020-09-13T20:51:55.190343",
     "exception": false,
     "start_time": "2020-09-13T20:51:55.148476",
     "status": "completed"
    },
    "tags": []
   },
   "outputs": [],
   "source": [
    "ceq_variables = [\"market_income\", \"market_income_plus_pensions\", \"pensions\", \"contributions_pensions\", \"net_market_income\", \"direct_taxes\", \"other_contributions\", \"contributions_health\", ]"
   ]
  },
  {
   "cell_type": "code",
   "execution_count": 10,
   "metadata": {
    "execution": {
     "iopub.execute_input": "2020-09-13T20:51:55.276186Z",
     "iopub.status.busy": "2020-09-13T20:51:55.275054Z",
     "iopub.status.idle": "2020-09-13T20:51:55.312740Z",
     "shell.execute_reply": "2020-09-13T20:51:55.313749Z"
    },
    "papermill": {
     "duration": 0.084337,
     "end_time": "2020-09-13T20:51:55.314048",
     "exception": false,
     "start_time": "2020-09-13T20:51:55.229711",
     "status": "completed"
    },
    "tags": []
   },
   "outputs": [
    {
     "data": {
      "text/html": [
       "<div>\n",
       "<style scoped>\n",
       "    .dataframe tbody tr th:only-of-type {\n",
       "        vertical-align: middle;\n",
       "    }\n",
       "\n",
       "    .dataframe tbody tr th {\n",
       "        vertical-align: top;\n",
       "    }\n",
       "\n",
       "    .dataframe thead th {\n",
       "        text-align: right;\n",
       "    }\n",
       "</style>\n",
       "<table border=\"1\" class=\"dataframe\">\n",
       "  <thead>\n",
       "    <tr style=\"text-align: right;\">\n",
       "      <th></th>\n",
       "      <th>aggregate</th>\n",
       "    </tr>\n",
       "  </thead>\n",
       "  <tbody>\n",
       "    <tr>\n",
       "      <th>market_income</th>\n",
       "      <td>10325</td>\n",
       "    </tr>\n",
       "    <tr>\n",
       "      <th>market_income_plus_pensions</th>\n",
       "      <td>10465</td>\n",
       "    </tr>\n",
       "    <tr>\n",
       "      <th>pensions</th>\n",
       "      <td>354</td>\n",
       "    </tr>\n",
       "    <tr>\n",
       "      <th>contributions_pensions</th>\n",
       "      <td>214</td>\n",
       "    </tr>\n",
       "    <tr>\n",
       "      <th>net_market_income</th>\n",
       "      <td>10233</td>\n",
       "    </tr>\n",
       "    <tr>\n",
       "      <th>direct_taxes</th>\n",
       "      <td>179</td>\n",
       "    </tr>\n",
       "    <tr>\n",
       "      <th>other_contributions</th>\n",
       "      <td>53</td>\n",
       "    </tr>\n",
       "    <tr>\n",
       "      <th>contributions_health</th>\n",
       "      <td>0</td>\n",
       "    </tr>\n",
       "  </tbody>\n",
       "</table>\n",
       "</div>"
      ],
      "text/plain": [
       "                             aggregate\n",
       "market_income                    10325\n",
       "market_income_plus_pensions      10465\n",
       "pensions                           354\n",
       "contributions_pensions             214\n",
       "net_market_income                10233\n",
       "direct_taxes                       179\n",
       "other_contributions                 53\n",
       "contributions_health                 0"
      ]
     },
     "execution_count": 10,
     "metadata": {},
     "output_type": "execute_result"
    }
   ],
   "source": [
    "ceq_aggregates = pd.DataFrame(\n",
    "    index = ceq_variables,\n",
    "    columns = ['aggregate'],\n",
    "    data = [\n",
    "        survey_scenario.compute_aggregate(ceq_variable, period = year) / 1e9 \n",
    "        for ceq_variable in ceq_variables\n",
    "        ]\n",
    "    )\n",
    "ceq_aggregates.round(0).astype({\"aggregate\": int})"
   ]
  },
  {
   "cell_type": "markdown",
   "metadata": {
    "papermill": {
     "duration": 0.052479,
     "end_time": "2020-09-13T20:51:55.433793",
     "exception": false,
     "start_time": "2020-09-13T20:51:55.381314",
     "status": "completed"
    },
    "tags": []
   },
   "source": [
    "#### Direct check"
   ]
  },
  {
   "cell_type": "code",
   "execution_count": 11,
   "metadata": {
    "execution": {
     "iopub.execute_input": "2020-09-13T20:51:55.523696Z",
     "iopub.status.busy": "2020-09-13T20:51:55.522359Z",
     "iopub.status.idle": "2020-09-13T20:51:55.530220Z",
     "shell.execute_reply": "2020-09-13T20:51:55.531260Z"
    },
    "papermill": {
     "duration": 0.059373,
     "end_time": "2020-09-13T20:51:55.531565",
     "exception": false,
     "start_time": "2020-09-13T20:51:55.472192",
     "status": "completed"
    },
    "tags": []
   },
   "outputs": [],
   "source": [
    "income_components_summed_in_total = list(ceq_by_harmonized_variable.values()) \n",
    "# income_components_summed_in_total.remove(\"revenu_non_salarie_total\")\n",
    "income_components_summed_in_total.remove(\"direct_transfers\")\n",
    "income_components_summed_in_total.remove(\"salaire\")\n",
    "income_components_summed_in_total.remove(\"salaire_brut\")\n",
    "income_components_summed_in_total.remove(\"pension_retraite\")\n",
    "income_components_summed_in_total.remove('autres_revenus_du_capital')\n",
    "income_components_summed_in_total.remove('revenu_locatif')\n",
    "income_components_summed_in_total.remove('revenu_non_salarie') \n",
    "\n",
    "total_income = sum(\n",
    "    survey_scenario.compute_aggregate(income_component, period = survey_scenario.year) \n",
    "    for income_component in income_components_summed_in_total\n",
    "    ) \n",
    "total_income = (\n",
    "    total_income \n",
    "    - survey_scenario.compute_aggregate(\"contributions_pensions\", period = survey_scenario.year)\n",
    "    ) / 1e9\n"
   ]
  },
  {
   "cell_type": "code",
   "execution_count": 12,
   "metadata": {
    "execution": {
     "iopub.execute_input": "2020-09-13T20:51:55.643893Z",
     "iopub.status.busy": "2020-09-13T20:51:55.642106Z",
     "iopub.status.idle": "2020-09-13T20:51:55.645883Z",
     "shell.execute_reply": "2020-09-13T20:51:55.647406Z"
    },
    "papermill": {
     "duration": 0.066368,
     "end_time": "2020-09-13T20:51:55.647798",
     "exception": false,
     "start_time": "2020-09-13T20:51:55.581430",
     "status": "completed"
    },
    "tags": []
   },
   "outputs": [],
   "source": [
    "from numpy.testing import assert_almost_equal\n",
    "assert_almost_equal(ceq_aggregates.loc['market_income_plus_pensions'].values, total_income, decimal = 5) \n",
    "# print('market_income_plus_pensions = {} vs {} = total_income'.format(\n",
    "#         ceq_aggregates.loc['market_income_plus_pensions'].values,\n",
    "#         total_income\n",
    "#         )\n",
    "#     )\n"
   ]
  },
  {
   "cell_type": "markdown",
   "metadata": {
    "papermill": {
     "duration": 0.037069,
     "end_time": "2020-09-13T20:51:55.728326",
     "exception": false,
     "start_time": "2020-09-13T20:51:55.691257",
     "status": "completed"
    },
    "tags": []
   },
   "source": [
    "#### Wages by public/private sector"
   ]
  },
  {
   "cell_type": "code",
   "execution_count": 13,
   "metadata": {
    "execution": {
     "iopub.execute_input": "2020-09-13T20:51:55.821579Z",
     "iopub.status.busy": "2020-09-13T20:51:55.820737Z",
     "iopub.status.idle": "2020-09-13T20:51:55.828105Z",
     "shell.execute_reply": "2020-09-13T20:51:55.826770Z"
    },
    "papermill": {
     "duration": 0.051205,
     "end_time": "2020-09-13T20:51:55.828410",
     "exception": false,
     "start_time": "2020-09-13T20:51:55.777205",
     "status": "completed"
    },
    "tags": []
   },
   "outputs": [
    {
     "data": {
      "text/plain": [
       "'Count : 245997.0'"
      ]
     },
     "execution_count": 13,
     "metadata": {},
     "output_type": "execute_result"
    }
   ],
   "source": [
    "\"Count : {}\".format(round(\n",
    "    survey_scenario.compute_aggregate(\"secteur_public\", period = year)\n",
    "    ))"
   ]
  },
  {
   "cell_type": "code",
   "execution_count": 14,
   "metadata": {
    "execution": {
     "iopub.execute_input": "2020-09-13T20:51:55.915763Z",
     "iopub.status.busy": "2020-09-13T20:51:55.914986Z",
     "iopub.status.idle": "2020-09-13T20:51:56.003736Z",
     "shell.execute_reply": "2020-09-13T20:51:56.004193Z"
    },
    "papermill": {
     "duration": 0.136498,
     "end_time": "2020-09-13T20:51:56.004327",
     "exception": false,
     "start_time": "2020-09-13T20:51:55.867829",
     "status": "completed"
    },
    "tags": []
   },
   "outputs": [
    {
     "data": {
      "text/html": [
       "<div>\n",
       "<style scoped>\n",
       "    .dataframe tbody tr th:only-of-type {\n",
       "        vertical-align: middle;\n",
       "    }\n",
       "\n",
       "    .dataframe tbody tr th {\n",
       "        vertical-align: top;\n",
       "    }\n",
       "\n",
       "    .dataframe thead th {\n",
       "        text-align: right;\n",
       "    }\n",
       "</style>\n",
       "<table border=\"1\" class=\"dataframe\">\n",
       "  <thead>\n",
       "    <tr style=\"text-align: right;\">\n",
       "      <th>secteur_public</th>\n",
       "      <th>False</th>\n",
       "      <th>True</th>\n",
       "    </tr>\n",
       "  </thead>\n",
       "  <tbody>\n",
       "    <tr>\n",
       "      <th>salaire</th>\n",
       "      <td>654</td>\n",
       "      <td>709</td>\n",
       "    </tr>\n",
       "    <tr>\n",
       "      <th>salaire_brut</th>\n",
       "      <td>781</td>\n",
       "      <td>835</td>\n",
       "    </tr>\n",
       "    <tr>\n",
       "      <th>salaire_super_brut</th>\n",
       "      <td>862</td>\n",
       "      <td>925</td>\n",
       "    </tr>\n",
       "  </tbody>\n",
       "</table>\n",
       "</div>"
      ],
      "text/plain": [
       "secteur_public      False  True \n",
       "salaire               654    709\n",
       "salaire_brut          781    835\n",
       "salaire_super_brut    862    925"
      ]
     },
     "execution_count": 14,
     "metadata": {},
     "output_type": "execute_result"
    }
   ],
   "source": [
    "(\n",
    "    survey_scenario.compute_pivot_table(\n",
    "        columns = [\"secteur_public\"], \n",
    "        values = [\"salaire\", \"salaire_brut\", \"salaire_super_brut\"],\n",
    "        aggfunc = \"sum\",\n",
    "        period = year,\n",
    "        concat_axis = 0,\n",
    "        ) / 1e9\n",
    "    ).round(0).astype(int)"
   ]
  },
  {
   "cell_type": "markdown",
   "metadata": {
    "papermill": {
     "duration": 0.0364,
     "end_time": "2020-09-13T20:51:56.082989",
     "exception": false,
     "start_time": "2020-09-13T20:51:56.046589",
     "status": "completed"
    },
    "tags": []
   },
   "source": [
    "## Education variables"
   ]
  },
  {
   "cell_type": "markdown",
   "metadata": {
    "papermill": {
     "duration": 0.033789,
     "end_time": "2020-09-13T20:51:56.152039",
     "exception": false,
     "start_time": "2020-09-13T20:51:56.118250",
     "status": "completed"
    },
    "tags": []
   },
   "source": [
    "### Counts (in millions)"
   ]
  },
  {
   "cell_type": "code",
   "execution_count": 15,
   "metadata": {
    "execution": {
     "iopub.execute_input": "2020-09-13T20:51:56.230843Z",
     "iopub.status.busy": "2020-09-13T20:51:56.229560Z",
     "iopub.status.idle": "2020-09-13T20:51:56.253765Z",
     "shell.execute_reply": "2020-09-13T20:51:56.254712Z"
    },
    "papermill": {
     "duration": 0.071774,
     "end_time": "2020-09-13T20:51:56.254960",
     "exception": false,
     "start_time": "2020-09-13T20:51:56.183186",
     "status": "completed"
    },
    "tags": []
   },
   "outputs": [
    {
     "name": "stdout",
     "output_type": "stream",
     "text": [
      "eleve_enseignement_niveau   -1.0   0.0   1.0   2.0   3.0\n",
      "eleve_enseignement_public                               \n",
      "0.0                        18.12  0.06  0.54  0.55  0.07\n",
      "1.0                          NaN  0.08  2.66  0.89  0.10\n"
     ]
    }
   ],
   "source": [
    "print((survey_scenario.compute_pivot_table(columns = ['eleve_enseignement_niveau'], index = ['eleve_enseignement_public'], aggfunc = 'count', period = survey_scenario.year) / 1e6).round(2))"
   ]
  },
  {
   "cell_type": "code",
   "execution_count": 16,
   "metadata": {
    "execution": {
     "iopub.execute_input": "2020-09-13T20:51:56.338904Z",
     "iopub.status.busy": "2020-09-13T20:51:56.337297Z",
     "iopub.status.idle": "2020-09-13T20:51:56.351425Z",
     "shell.execute_reply": "2020-09-13T20:51:56.350819Z"
    },
    "papermill": {
     "duration": 0.060169,
     "end_time": "2020-09-13T20:51:56.351555",
     "exception": false,
     "start_time": "2020-09-13T20:51:56.291386",
     "status": "completed"
    },
    "tags": []
   },
   "outputs": [
    {
     "name": "stdout",
     "output_type": "stream",
     "text": [
      "In kind education tranfers\n",
      "pre_school_person: 21 billions FCFA\n",
      "pre_school: 21 billions FCFA\n",
      "primary_education_person: 341 billions FCFA\n",
      "primary_education: 341 billions FCFA\n",
      "secondary_education_person: 309 billions FCFA\n",
      "secondary_education: 309 billions FCFA\n",
      "tertiary_education_person: 195 billions FCFA\n",
      "tertiary_education: 195 billions FCFA\n",
      "education_net_transfers: 866 billions FCFA\n"
     ]
    }
   ],
   "source": [
    "variables = [\n",
    "    'pre_school_person',\n",
    "    'pre_school',\n",
    "    'primary_education_person',\n",
    "    'primary_education',\n",
    "    'secondary_education_person',\n",
    "    'secondary_education',\n",
    "    'tertiary_education_person',\n",
    "    'tertiary_education',\n",
    "    'education_net_transfers',\n",
    "    ]\n",
    "print(\"In kind education tranfers\")\n",
    "for variable in variables:\n",
    "    print(\n",
    "        \"{variable}: {aggregate} billions FCFA\".format(\n",
    "            variable = variable,\n",
    "            aggregate = int(round(survey_scenario.compute_aggregate(variable, period = survey_scenario.year) / 1e9))\n",
    "            )\n",
    "        )"
   ]
  },
  {
   "cell_type": "markdown",
   "metadata": {
    "papermill": {
     "duration": 0.055154,
     "end_time": "2020-09-13T20:51:56.454761",
     "exception": false,
     "start_time": "2020-09-13T20:51:56.399607",
     "status": "completed"
    },
    "tags": []
   },
   "source": [
    "## Inflating income and consumption"
   ]
  },
  {
   "cell_type": "code",
   "execution_count": 17,
   "metadata": {
    "execution": {
     "iopub.execute_input": "2020-09-13T20:51:56.612674Z",
     "iopub.status.busy": "2020-09-13T20:51:56.611522Z",
     "iopub.status.idle": "2020-09-13T20:52:03.127256Z",
     "shell.execute_reply": "2020-09-13T20:52:03.126779Z"
    },
    "papermill": {
     "duration": 6.60115,
     "end_time": "2020-09-13T20:52:03.127356",
     "exception": false,
     "start_time": "2020-09-13T20:51:56.526206",
     "status": "completed"
    },
    "tags": []
   },
   "outputs": [
    {
     "name": "stderr",
     "output_type": "stream",
     "text": [
      "/home/benjello/.virtualenvs/ceq/lib/python3.7/site-packages/pandas/io/stata.py:1409: UnicodeWarning: \n",
      "One or more strings in the dta file could not be decoded using utf-8, and\n",
      "so the fallback encoding of latin-1 is being used.  This can happen when a file\n",
      "has been incorrectly encoded by Stata or some other software. You should verify\n",
      "the string values returned are correct.\n",
      "  warnings.warn(msg, UnicodeWarning)\n"
     ]
    },
    {
     "name": "stderr",
     "output_type": "stream",
     "text": [
      "/home/benjello/.virtualenvs/ceq/lib/python3.7/site-packages/scipy/optimize/minpack.py:175: RuntimeWarning: The iteration is not making good progress, as measured by the \n",
      "  improvement from the last ten iterations.\n",
      "  warnings.warn(msg, RuntimeWarning)\n"
     ]
    }
   ],
   "source": [
    "inflated_survey_scenario = build_ceq_survey_scenario(\n",
    "    legislation_country = country, \n",
    "    year = year,\n",
    "    inflate = True,\n",
    "    )"
   ]
  },
  {
   "cell_type": "code",
   "execution_count": 18,
   "metadata": {
    "execution": {
     "iopub.execute_input": "2020-09-13T20:52:03.205543Z",
     "iopub.status.busy": "2020-09-13T20:52:03.204889Z",
     "iopub.status.idle": "2020-09-13T20:52:03.209052Z",
     "shell.execute_reply": "2020-09-13T20:52:03.209483Z"
    },
    "papermill": {
     "duration": 0.043131,
     "end_time": "2020-09-13T20:52:03.209611",
     "exception": false,
     "start_time": "2020-09-13T20:52:03.166480",
     "status": "completed"
    },
    "tags": []
   },
   "outputs": [
    {
     "name": "stderr",
     "output_type": "stream",
     "text": [
      "ERROR:root:No traceback has been produced, nothing to debug.\n"
     ]
    }
   ],
   "source": [
    "%debug"
   ]
  },
  {
   "cell_type": "code",
   "execution_count": 19,
   "metadata": {
    "execution": {
     "iopub.execute_input": "2020-09-13T20:52:03.324061Z",
     "iopub.status.busy": "2020-09-13T20:52:03.319056Z",
     "iopub.status.idle": "2020-09-13T20:52:03.415038Z",
     "shell.execute_reply": "2020-09-13T20:52:03.416332Z"
    },
    "papermill": {
     "duration": 0.161512,
     "end_time": "2020-09-13T20:52:03.416660",
     "exception": false,
     "start_time": "2020-09-13T20:52:03.255148",
     "status": "completed"
    },
    "tags": []
   },
   "outputs": [
    {
     "data": {
      "text/plain": [
       "'15635.476 == 15635.475591339304'"
      ]
     },
     "metadata": {},
     "output_type": "display_data"
    }
   ],
   "source": [
    "from openfisca_ceq.tools.data.income_targets import read_target\n",
    "gross_value_added = read_target(country, \"gross_value_added\") / 1e9\n",
    "gross_value_added_computed = sum(inflated_survey_scenario.compute_aggregate(income_variable, period = year) / 1e9\n",
    "    for income_variable in inflated_survey_scenario.income_variables\n",
    "    )\n",
    "display(\"{} == {}\".format(gross_value_added, gross_value_added_computed))"
   ]
  },
  {
   "cell_type": "markdown",
   "metadata": {
    "papermill": {
     "duration": 0.04085,
     "end_time": "2020-09-13T20:52:03.511372",
     "exception": false,
     "start_time": "2020-09-13T20:52:03.470522",
     "status": "completed"
    },
    "tags": []
   },
   "source": [
    "## Tax variables"
   ]
  },
  {
   "cell_type": "markdown",
   "metadata": {
    "papermill": {
     "duration": 0.03896,
     "end_time": "2020-09-13T20:52:03.591847",
     "exception": false,
     "start_time": "2020-09-13T20:52:03.552887",
     "status": "completed"
    },
    "tags": []
   },
   "source": [
    "### Direct taxes variables"
   ]
  },
  {
   "cell_type": "code",
   "execution_count": 20,
   "metadata": {
    "execution": {
     "iopub.execute_input": "2020-09-13T20:52:03.686939Z",
     "iopub.status.busy": "2020-09-13T20:52:03.685884Z",
     "iopub.status.idle": "2020-09-13T20:52:03.715875Z",
     "shell.execute_reply": "2020-09-13T20:52:03.716911Z"
    },
    "papermill": {
     "duration": 0.084799,
     "end_time": "2020-09-13T20:52:03.717094",
     "exception": false,
     "start_time": "2020-09-13T20:52:03.632295",
     "status": "completed"
    },
    "tags": []
   },
   "outputs": [
    {
     "data": {
      "text/html": [
       "<div>\n",
       "<style scoped>\n",
       "    .dataframe tbody tr th:only-of-type {\n",
       "        vertical-align: middle;\n",
       "    }\n",
       "\n",
       "    .dataframe tbody tr th {\n",
       "        vertical-align: top;\n",
       "    }\n",
       "\n",
       "    .dataframe thead th {\n",
       "        text-align: right;\n",
       "    }\n",
       "</style>\n",
       "<table border=\"1\" class=\"dataframe\">\n",
       "  <thead>\n",
       "    <tr style=\"text-align: right;\">\n",
       "      <th></th>\n",
       "      <th>aggregate</th>\n",
       "      <th>inflated_aggregate</th>\n",
       "    </tr>\n",
       "  </thead>\n",
       "  <tbody>\n",
       "    <tr>\n",
       "      <th>impot_general_revenu</th>\n",
       "      <td>156</td>\n",
       "      <td>293.0</td>\n",
       "    </tr>\n",
       "    <tr>\n",
       "      <th>impot_revenu_creances</th>\n",
       "      <td>16</td>\n",
       "      <td>24.0</td>\n",
       "    </tr>\n",
       "    <tr>\n",
       "      <th>impot_revenu_foncier</th>\n",
       "      <td>7</td>\n",
       "      <td>10.0</td>\n",
       "    </tr>\n",
       "  </tbody>\n",
       "</table>\n",
       "</div>"
      ],
      "text/plain": [
       "                       aggregate  inflated_aggregate\n",
       "impot_general_revenu         156               293.0\n",
       "impot_revenu_creances         16                24.0\n",
       "impot_revenu_foncier           7                10.0"
      ]
     },
     "execution_count": 20,
     "metadata": {},
     "output_type": "execute_result"
    }
   ],
   "source": [
    "from openfisca_ceq.tools.data.tax_targets import detailed_taxes_by_country, build_country_result\n",
    "direct_taxes_variables = detailed_taxes_by_country[country]\n",
    "\n",
    "direct_taxes = pd.concat(\n",
    "    [\n",
    "        pd.DataFrame(\n",
    "            index = direct_taxes_variables,\n",
    "            columns = ['aggregate'],\n",
    "            data = [\n",
    "                survey_scenario.compute_aggregate(variable, period = year) / 1e9 \n",
    "                for variable in direct_taxes_variables\n",
    "                ],\n",
    "            ),\n",
    "        pd.DataFrame(\n",
    "            index = direct_taxes_variables,\n",
    "            columns = ['inflated_aggregate'],\n",
    "            data = [\n",
    "                    inflated_survey_scenario.compute_aggregate(variable, period = year) / 1e9 \n",
    "                for variable in direct_taxes_variables\n",
    "                ],\n",
    "            )\n",
    "        ],\n",
    "    axis = 1\n",
    ")\n",
    "\n",
    "direct_taxes.round().astype({\"aggregate\": int})"
   ]
  },
  {
   "cell_type": "code",
   "execution_count": 21,
   "metadata": {
    "execution": {
     "iopub.execute_input": "2020-09-13T20:52:03.835832Z",
     "iopub.status.busy": "2020-09-13T20:52:03.834898Z",
     "iopub.status.idle": "2020-09-13T20:52:04.063893Z",
     "shell.execute_reply": "2020-09-13T20:52:04.064394Z"
    },
    "papermill": {
     "duration": 0.286209,
     "end_time": "2020-09-13T20:52:04.064539",
     "exception": false,
     "start_time": "2020-09-13T20:52:03.778330",
     "status": "completed"
    },
    "tags": []
   },
   "outputs": [
    {
     "data": {
      "text/html": [
       "<div>\n",
       "<style scoped>\n",
       "    .dataframe tbody tr th:only-of-type {\n",
       "        vertical-align: middle;\n",
       "    }\n",
       "\n",
       "    .dataframe tbody tr th {\n",
       "        vertical-align: top;\n",
       "    }\n",
       "\n",
       "    .dataframe thead tr th {\n",
       "        text-align: left;\n",
       "    }\n",
       "</style>\n",
       "<table border=\"1\" class=\"dataframe\">\n",
       "  <thead>\n",
       "    <tr>\n",
       "      <th></th>\n",
       "      <th colspan=\"3\" halign=\"left\">Cote d'Ivoire</th>\n",
       "    </tr>\n",
       "    <tr>\n",
       "      <th></th>\n",
       "      <th>actual</th>\n",
       "      <th>direct</th>\n",
       "      <th>inflated</th>\n",
       "    </tr>\n",
       "  </thead>\n",
       "  <tbody>\n",
       "    <tr>\n",
       "      <th>Total tax revenue</th>\n",
       "      <td>3117.9</td>\n",
       "      <td>NaN</td>\n",
       "      <td>NaN</td>\n",
       "    </tr>\n",
       "    <tr>\n",
       "      <th>Direct taxes</th>\n",
       "      <td>1186.8</td>\n",
       "      <td>178.9</td>\n",
       "      <td>326.9</td>\n",
       "    </tr>\n",
       "    <tr>\n",
       "      <th>Personal Income Taxes</th>\n",
       "      <td>395.6</td>\n",
       "      <td>178.9</td>\n",
       "      <td>326.9</td>\n",
       "    </tr>\n",
       "    <tr>\n",
       "      <th>Social Security Contributions</th>\n",
       "      <td>383.5</td>\n",
       "      <td>267.3</td>\n",
       "      <td>311.4</td>\n",
       "    </tr>\n",
       "    <tr>\n",
       "      <th>Corporate Income Tax</th>\n",
       "      <td>318.9</td>\n",
       "      <td>0.0</td>\n",
       "      <td>0.0</td>\n",
       "    </tr>\n",
       "    <tr>\n",
       "      <th>Other Direct Taxes</th>\n",
       "      <td>88.8</td>\n",
       "      <td>NaN</td>\n",
       "      <td>NaN</td>\n",
       "    </tr>\n",
       "    <tr>\n",
       "      <th>Indirect taxes</th>\n",
       "      <td>1931.1</td>\n",
       "      <td>750.0</td>\n",
       "      <td>753.2</td>\n",
       "    </tr>\n",
       "    <tr>\n",
       "      <th>VAT</th>\n",
       "      <td>732.5</td>\n",
       "      <td>559.4</td>\n",
       "      <td>561.8</td>\n",
       "    </tr>\n",
       "    <tr>\n",
       "      <th>Import Taxes</th>\n",
       "      <td>490.1</td>\n",
       "      <td>190.6</td>\n",
       "      <td>191.4</td>\n",
       "    </tr>\n",
       "    <tr>\n",
       "      <th>Excise taxes</th>\n",
       "      <td>33.1</td>\n",
       "      <td>0.0</td>\n",
       "      <td>0.0</td>\n",
       "    </tr>\n",
       "    <tr>\n",
       "      <th>on Oil Derivates</th>\n",
       "      <td>0.1</td>\n",
       "      <td>NaN</td>\n",
       "      <td>NaN</td>\n",
       "    </tr>\n",
       "    <tr>\n",
       "      <th>on alcohol, tabac and other non-oil derivatives</th>\n",
       "      <td>33.0</td>\n",
       "      <td>NaN</td>\n",
       "      <td>NaN</td>\n",
       "    </tr>\n",
       "    <tr>\n",
       "      <th>Other Indirect Taxes</th>\n",
       "      <td>675.4</td>\n",
       "      <td>NaN</td>\n",
       "      <td>NaN</td>\n",
       "    </tr>\n",
       "    <tr>\n",
       "      <th>Share simulated taxes (% of total tax revenue)</th>\n",
       "      <td>NaN</td>\n",
       "      <td>NaN</td>\n",
       "      <td>NaN</td>\n",
       "    </tr>\n",
       "    <tr>\n",
       "      <th>impot_general_revenu</th>\n",
       "      <td>NaN</td>\n",
       "      <td>155.8</td>\n",
       "      <td>293.2</td>\n",
       "    </tr>\n",
       "    <tr>\n",
       "      <th>impot_revenu_creances</th>\n",
       "      <td>NaN</td>\n",
       "      <td>16.4</td>\n",
       "      <td>24.0</td>\n",
       "    </tr>\n",
       "    <tr>\n",
       "      <th>impot_revenu_foncier</th>\n",
       "      <td>NaN</td>\n",
       "      <td>6.7</td>\n",
       "      <td>9.7</td>\n",
       "    </tr>\n",
       "    <tr>\n",
       "      <th>total_ht_imports</th>\n",
       "      <td>NaN</td>\n",
       "      <td>1329.4</td>\n",
       "      <td>1335.1</td>\n",
       "    </tr>\n",
       "  </tbody>\n",
       "</table>\n",
       "</div>"
      ],
      "text/plain": [
       "                                                Cote d'Ivoire                 \n",
       "                                                       actual  direct inflated\n",
       "Total tax revenue                                      3117.9     NaN      NaN\n",
       "Direct taxes                                           1186.8   178.9    326.9\n",
       "Personal Income Taxes                                   395.6   178.9    326.9\n",
       "Social Security Contributions                           383.5   267.3    311.4\n",
       "Corporate Income Tax                                    318.9     0.0      0.0\n",
       "Other Direct Taxes                                       88.8     NaN      NaN\n",
       "Indirect taxes                                         1931.1   750.0    753.2\n",
       "VAT                                                     732.5   559.4    561.8\n",
       "Import Taxes                                            490.1   190.6    191.4\n",
       "Excise taxes                                             33.1     0.0      0.0\n",
       "on Oil Derivates                                          0.1     NaN      NaN\n",
       "on alcohol, tabac and other non-oil derivatives          33.0     NaN      NaN\n",
       "Other Indirect Taxes                                    675.4     NaN      NaN\n",
       "Share simulated taxes (% of total tax revenue)            NaN     NaN      NaN\n",
       "impot_general_revenu                                      NaN   155.8    293.2\n",
       "impot_revenu_creances                                     NaN    16.4     24.0\n",
       "impot_revenu_foncier                                      NaN     6.7      9.7\n",
       "total_ht_imports                                          NaN  1329.4   1335.1"
      ]
     },
     "execution_count": 21,
     "metadata": {},
     "output_type": "execute_result"
    }
   ],
   "source": [
    "build_country_result(survey_scenario, inflated_survey_scenario, add_country_details = True)"
   ]
  },
  {
   "cell_type": "markdown",
   "metadata": {
    "papermill": {
     "duration": 0.043027,
     "end_time": "2020-09-13T20:52:04.155322",
     "exception": false,
     "start_time": "2020-09-13T20:52:04.112295",
     "status": "completed"
    },
    "tags": []
   },
   "source": [
    "### Indirect tax variables"
   ]
  },
  {
   "cell_type": "code",
   "execution_count": 22,
   "metadata": {
    "execution": {
     "iopub.execute_input": "2020-09-13T20:52:04.257172Z",
     "iopub.status.busy": "2020-09-13T20:52:04.251730Z",
     "iopub.status.idle": "2020-09-13T20:52:04.263441Z",
     "shell.execute_reply": "2020-09-13T20:52:04.264395Z"
    },
    "papermill": {
     "duration": 0.059578,
     "end_time": "2020-09-13T20:52:04.264648",
     "exception": false,
     "start_time": "2020-09-13T20:52:04.205070",
     "status": "completed"
    },
    "tags": []
   },
   "outputs": [
    {
     "data": {
      "text/plain": [
       "['depenses_ht_tva_exonere',\n",
       " 'depenses_ht_tva_taux_normal',\n",
       " 'depenses_ht_tva_taux_reduit',\n",
       " 'tva_taux_normal',\n",
       " 'tva_taux_reduit',\n",
       " 'tva',\n",
       " 'depenses_ht_hd_sd_droits_douane_biens_specifiques',\n",
       " 'depenses_ht_hd_sd_droits_douane_consommation_finale',\n",
       " 'depenses_ht_hd_sd_droits_douane_consommation_intermediaire',\n",
       " 'depenses_ht_hd_sd_droits_douane_equipements',\n",
       " 'depenses_ht_hd_sd_droits_douane_exonere',\n",
       " 'droits_douane_biens_specifiques',\n",
       " 'droits_douane_consommation_finale',\n",
       " 'droits_douane_consommation_intermediaire',\n",
       " 'droits_douane_equipements',\n",
       " 'droits_douane']"
      ]
     },
     "execution_count": 22,
     "metadata": {},
     "output_type": "execute_result"
    }
   ],
   "source": [
    "indirect_tax_variables = [\n",
    "    variable \n",
    "    for tax in indirect_tax_by_country[country]\n",
    "    for variable in survey_scenario.tax_benefit_system.variables.keys() \n",
    "    if tax in variable \n",
    "    ]\n",
    "indirect_tax_variables"
   ]
  },
  {
   "cell_type": "code",
   "execution_count": 23,
   "metadata": {
    "execution": {
     "iopub.execute_input": "2020-09-13T20:52:04.372749Z",
     "iopub.status.busy": "2020-09-13T20:52:04.371836Z",
     "iopub.status.idle": "2020-09-13T20:52:04.470530Z",
     "shell.execute_reply": "2020-09-13T20:52:04.471400Z"
    },
    "papermill": {
     "duration": 0.154644,
     "end_time": "2020-09-13T20:52:04.471628",
     "exception": false,
     "start_time": "2020-09-13T20:52:04.316984",
     "status": "completed"
    },
    "tags": []
   },
   "outputs": [
    {
     "data": {
      "text/html": [
       "<div>\n",
       "<style scoped>\n",
       "    .dataframe tbody tr th:only-of-type {\n",
       "        vertical-align: middle;\n",
       "    }\n",
       "\n",
       "    .dataframe tbody tr th {\n",
       "        vertical-align: top;\n",
       "    }\n",
       "\n",
       "    .dataframe thead th {\n",
       "        text-align: right;\n",
       "    }\n",
       "</style>\n",
       "<table border=\"1\" class=\"dataframe\">\n",
       "  <thead>\n",
       "    <tr style=\"text-align: right;\">\n",
       "      <th></th>\n",
       "      <th>aggregate</th>\n",
       "    </tr>\n",
       "  </thead>\n",
       "  <tbody>\n",
       "    <tr>\n",
       "      <th>depenses_ht_tva_exonere</th>\n",
       "      <td>7105</td>\n",
       "    </tr>\n",
       "    <tr>\n",
       "      <th>depenses_ht_tva_taux_normal</th>\n",
       "      <td>2923</td>\n",
       "    </tr>\n",
       "    <tr>\n",
       "      <th>depenses_ht_tva_taux_reduit</th>\n",
       "      <td>370</td>\n",
       "    </tr>\n",
       "    <tr>\n",
       "      <th>tva_taux_normal</th>\n",
       "      <td>526</td>\n",
       "    </tr>\n",
       "    <tr>\n",
       "      <th>tva_taux_reduit</th>\n",
       "      <td>33</td>\n",
       "    </tr>\n",
       "    <tr>\n",
       "      <th>tva</th>\n",
       "      <td>559</td>\n",
       "    </tr>\n",
       "    <tr>\n",
       "      <th>depenses_ht_hd_sd_droits_douane_biens_specifiques</th>\n",
       "      <td>162</td>\n",
       "    </tr>\n",
       "    <tr>\n",
       "      <th>depenses_ht_hd_sd_droits_douane_consommation_finale</th>\n",
       "      <td>617</td>\n",
       "    </tr>\n",
       "    <tr>\n",
       "      <th>depenses_ht_hd_sd_droits_douane_consommation_intermediaire</th>\n",
       "      <td>97</td>\n",
       "    </tr>\n",
       "    <tr>\n",
       "      <th>depenses_ht_hd_sd_droits_douane_equipements</th>\n",
       "      <td>12</td>\n",
       "    </tr>\n",
       "    <tr>\n",
       "      <th>depenses_ht_hd_sd_droits_douane_exonere</th>\n",
       "      <td>250</td>\n",
       "    </tr>\n",
       "    <tr>\n",
       "      <th>droits_douane_biens_specifiques</th>\n",
       "      <td>57</td>\n",
       "    </tr>\n",
       "    <tr>\n",
       "      <th>droits_douane_consommation_finale</th>\n",
       "      <td>123</td>\n",
       "    </tr>\n",
       "    <tr>\n",
       "      <th>droits_douane_consommation_intermediaire</th>\n",
       "      <td>10</td>\n",
       "    </tr>\n",
       "    <tr>\n",
       "      <th>droits_douane_equipements</th>\n",
       "      <td>1</td>\n",
       "    </tr>\n",
       "    <tr>\n",
       "      <th>droits_douane</th>\n",
       "      <td>191</td>\n",
       "    </tr>\n",
       "  </tbody>\n",
       "</table>\n",
       "</div>"
      ],
      "text/plain": [
       "                                                    aggregate\n",
       "depenses_ht_tva_exonere                                  7105\n",
       "depenses_ht_tva_taux_normal                              2923\n",
       "depenses_ht_tva_taux_reduit                               370\n",
       "tva_taux_normal                                           526\n",
       "tva_taux_reduit                                            33\n",
       "tva                                                       559\n",
       "depenses_ht_hd_sd_droits_douane_biens_specifiques         162\n",
       "depenses_ht_hd_sd_droits_douane_consommation_fi...        617\n",
       "depenses_ht_hd_sd_droits_douane_consommation_in...         97\n",
       "depenses_ht_hd_sd_droits_douane_equipements                12\n",
       "depenses_ht_hd_sd_droits_douane_exonere                   250\n",
       "droits_douane_biens_specifiques                            57\n",
       "droits_douane_consommation_finale                         123\n",
       "droits_douane_consommation_intermediaire                   10\n",
       "droits_douane_equipements                                   1\n",
       "droits_douane                                             191"
      ]
     },
     "execution_count": 23,
     "metadata": {},
     "output_type": "execute_result"
    }
   ],
   "source": [
    "taxes_and_tariffs = pd.DataFrame(\n",
    "    index = indirect_tax_variables,\n",
    "    columns = ['aggregate'],\n",
    "    data = [\n",
    "        survey_scenario.compute_aggregate(variable, period = year) / 1e9 \n",
    "        for variable in indirect_tax_variables\n",
    "        ]\n",
    "    )\n",
    "taxes_and_tariffs.round().astype({\"aggregate\": int})"
   ]
  },
  {
   "cell_type": "markdown",
   "metadata": {
    "papermill": {
     "duration": 0.045752,
     "end_time": "2020-09-13T20:52:04.573200",
     "exception": false,
     "start_time": "2020-09-13T20:52:04.527448",
     "status": "completed"
    },
    "tags": []
   },
   "source": [
    "### Verify consumption"
   ]
  },
  {
   "cell_type": "code",
   "execution_count": 24,
   "metadata": {
    "execution": {
     "iopub.execute_input": "2020-09-13T20:52:04.678524Z",
     "iopub.status.busy": "2020-09-13T20:52:04.677869Z",
     "iopub.status.idle": "2020-09-13T20:52:04.695025Z",
     "shell.execute_reply": "2020-09-13T20:52:04.695867Z"
    },
    "papermill": {
     "duration": 0.073148,
     "end_time": "2020-09-13T20:52:04.696091",
     "exception": false,
     "start_time": "2020-09-13T20:52:04.622943",
     "status": "completed"
    },
    "tags": []
   },
   "outputs": [
    {
     "data": {
      "text/plain": [
       "10957.287838906464"
      ]
     },
     "execution_count": 24,
     "metadata": {},
     "output_type": "execute_result"
    }
   ],
   "source": [
    "consumption = survey_scenario.compute_aggregate('consumption', period = year) / 1e9\n",
    "consumption"
   ]
  },
  {
   "cell_type": "code",
   "execution_count": 25,
   "metadata": {
    "execution": {
     "iopub.execute_input": "2020-09-13T20:52:04.798589Z",
     "iopub.status.busy": "2020-09-13T20:52:04.797581Z",
     "iopub.status.idle": "2020-09-13T20:52:04.802249Z",
     "shell.execute_reply": "2020-09-13T20:52:04.803096Z"
    },
    "papermill": {
     "duration": 0.058825,
     "end_time": "2020-09-13T20:52:04.803320",
     "exception": false,
     "start_time": "2020-09-13T20:52:04.744495",
     "status": "completed"
    },
    "tags": []
   },
   "outputs": [
    {
     "data": {
      "text/plain": [
       "10957.288028355359"
      ]
     },
     "execution_count": 25,
     "metadata": {},
     "output_type": "execute_result"
    }
   ],
   "source": [
    "# assert consumption == \n",
    "sum(taxes_and_tariffs['aggregate'][\n",
    "    taxes_and_tariffs.index.str.contains('tva_')\n",
    "    ])"
   ]
  },
  {
   "cell_type": "code",
   "execution_count": 26,
   "metadata": {
    "execution": {
     "iopub.execute_input": "2020-09-13T20:52:04.907616Z",
     "iopub.status.busy": "2020-09-13T20:52:04.906411Z",
     "iopub.status.idle": "2020-09-13T20:52:04.985208Z",
     "shell.execute_reply": "2020-09-13T20:52:04.983135Z"
    },
    "papermill": {
     "duration": 0.134339,
     "end_time": "2020-09-13T20:52:04.985610",
     "exception": false,
     "start_time": "2020-09-13T20:52:04.851271",
     "status": "completed"
    },
    "tags": []
   },
   "outputs": [
    {
     "data": {
      "text/plain": [
       "10957.28797724714"
      ]
     },
     "execution_count": 26,
     "metadata": {},
     "output_type": "execute_result"
    }
   ],
   "source": [
    "# assert consumption == \n",
    "(\n",
    "    sum(\n",
    "        survey_scenario.compute_aggregate(variable, period = year)\n",
    "        for variable in survey_scenario.tax_benefit_system.variables\n",
    "        if \"depenses_ht_hd_poste\" in variable \n",
    "        ) \n",
    "    + survey_scenario.compute_aggregate(\"droits_douane\", period = year)\n",
    "    + survey_scenario.compute_aggregate(\"tva\", period = year)\n",
    "    ) / 1e9"
   ]
  },
  {
   "cell_type": "markdown",
   "metadata": {
    "papermill": {
     "duration": 0.052232,
     "end_time": "2020-09-13T20:52:05.098710",
     "exception": false,
     "start_time": "2020-09-13T20:52:05.046478",
     "status": "completed"
    },
    "tags": []
   },
   "source": [
    "# Inflate incomes   "
   ]
  },
  {
   "cell_type": "markdown",
   "metadata": {
    "papermill": {
     "duration": 0.059156,
     "end_time": "2020-09-13T20:52:05.208877",
     "exception": false,
     "start_time": "2020-09-13T20:52:05.149721",
     "status": "completed"
    },
    "tags": []
   },
   "source": [
    "## Income variables"
   ]
  },
  {
   "cell_type": "code",
   "execution_count": 27,
   "metadata": {
    "execution": {
     "iopub.execute_input": "2020-09-13T20:52:05.308550Z",
     "iopub.status.busy": "2020-09-13T20:52:05.306820Z",
     "iopub.status.idle": "2020-09-13T20:52:05.309942Z",
     "shell.execute_reply": "2020-09-13T20:52:05.310785Z"
    },
    "papermill": {
     "duration": 0.054926,
     "end_time": "2020-09-13T20:52:05.311010",
     "exception": false,
     "start_time": "2020-09-13T20:52:05.256084",
     "status": "completed"
    },
    "tags": []
   },
   "outputs": [],
   "source": [
    "income_variables = [\n",
    "    'autoconsumption',\n",
    "    'other_income',\n",
    "    'gifts_sales_durables',\n",
    "    'imputed_rent',\n",
    "    'revenu_agricole',\n",
    "    'autres_revenus_du_capital',\n",
    "    'revenu_informel_non_salarie',\n",
    "    'revenu_non_salarie',\n",
    "    'revenu_locatif',\n",
    "    'pension_retraite',\n",
    "    'salaire_super_brut',\n",
    "    ]"
   ]
  },
  {
   "cell_type": "code",
   "execution_count": 28,
   "metadata": {
    "execution": {
     "iopub.execute_input": "2020-09-13T20:52:05.417265Z",
     "iopub.status.busy": "2020-09-13T20:52:05.416028Z",
     "iopub.status.idle": "2020-09-13T20:52:05.426976Z",
     "shell.execute_reply": "2020-09-13T20:52:05.426077Z"
    },
    "papermill": {
     "duration": 0.063815,
     "end_time": "2020-09-13T20:52:05.427163",
     "exception": false,
     "start_time": "2020-09-13T20:52:05.363348",
     "status": "completed"
    },
    "tags": []
   },
   "outputs": [
    {
     "data": {
      "text/plain": [
       "8378.641002137416"
      ]
     },
     "execution_count": 28,
     "metadata": {},
     "output_type": "execute_result"
    }
   ],
   "source": [
    "sum(\n",
    "    survey_scenario.compute_aggregate(income_variable, period = year)\n",
    "    for income_variable in income_variables\n",
    "    ) / 1e9"
   ]
  },
  {
   "cell_type": "code",
   "execution_count": null,
   "metadata": {
    "papermill": {
     "duration": 0.04729,
     "end_time": "2020-09-13T20:52:05.522058",
     "exception": false,
     "start_time": "2020-09-13T20:52:05.474768",
     "status": "completed"
    },
    "tags": []
   },
   "outputs": [],
   "source": []
  },
  {
   "cell_type": "code",
   "execution_count": 29,
   "metadata": {
    "execution": {
     "iopub.execute_input": "2020-09-13T20:52:05.627523Z",
     "iopub.status.busy": "2020-09-13T20:52:05.626783Z",
     "iopub.status.idle": "2020-09-13T20:52:05.638549Z",
     "shell.execute_reply": "2020-09-13T20:52:05.639919Z"
    },
    "papermill": {
     "duration": 0.070334,
     "end_time": "2020-09-13T20:52:05.640334",
     "exception": false,
     "start_time": "2020-09-13T20:52:05.570000",
     "status": "completed"
    },
    "tags": []
   },
   "outputs": [
    {
     "data": {
      "text/plain": [
       "11854.351449186952"
      ]
     },
     "execution_count": 29,
     "metadata": {},
     "output_type": "execute_result"
    }
   ],
   "source": [
    "sum(\n",
    "    inflated_survey_scenario.compute_aggregate(income_variable, period = year)\n",
    "    for income_variable in income_variables\n",
    "    ) / 1e9"
   ]
  },
  {
   "cell_type": "markdown",
   "metadata": {
    "papermill": {
     "duration": 0.049727,
     "end_time": "2020-09-13T20:52:05.738822",
     "exception": false,
     "start_time": "2020-09-13T20:52:05.689095",
     "status": "completed"
    },
    "tags": []
   },
   "source": [
    "# Indicators"
   ]
  },
  {
   "cell_type": "code",
   "execution_count": 30,
   "metadata": {
    "execution": {
     "iopub.execute_input": "2020-09-13T20:52:05.839098Z",
     "iopub.status.busy": "2020-09-13T20:52:05.838509Z",
     "iopub.status.idle": "2020-09-13T20:52:06.086753Z",
     "shell.execute_reply": "2020-09-13T20:52:06.087863Z"
    },
    "papermill": {
     "duration": 0.303132,
     "end_time": "2020-09-13T20:52:06.088207",
     "exception": false,
     "start_time": "2020-09-13T20:52:05.785075",
     "status": "completed"
    },
    "tags": []
   },
   "outputs": [
    {
     "data": {
      "text/html": [
       "<div>\n",
       "<style scoped>\n",
       "    .dataframe tbody tr th:only-of-type {\n",
       "        vertical-align: middle;\n",
       "    }\n",
       "\n",
       "    .dataframe tbody tr th {\n",
       "        vertical-align: top;\n",
       "    }\n",
       "\n",
       "    .dataframe thead th {\n",
       "        text-align: right;\n",
       "    }\n",
       "</style>\n",
       "<table border=\"1\" class=\"dataframe\">\n",
       "  <thead>\n",
       "    <tr style=\"text-align: right;\">\n",
       "      <th></th>\n",
       "      <th>market_income</th>\n",
       "      <th>market_income_plus_pensions</th>\n",
       "      <th>gross_income</th>\n",
       "      <th>disposable_income</th>\n",
       "      <th>consumable_income</th>\n",
       "      <th>final_income</th>\n",
       "    </tr>\n",
       "  </thead>\n",
       "  <tbody>\n",
       "    <tr>\n",
       "      <th>Gini</th>\n",
       "      <td>0.58</td>\n",
       "      <td>0.57</td>\n",
       "      <td>0.57</td>\n",
       "      <td>0.57</td>\n",
       "      <td>0.59</td>\n",
       "      <td>0.56</td>\n",
       "    </tr>\n",
       "    <tr>\n",
       "      <th>Bottom 40 %</th>\n",
       "      <td>0.09</td>\n",
       "      <td>0.09</td>\n",
       "      <td>0.09</td>\n",
       "      <td>0.09</td>\n",
       "      <td>0.08</td>\n",
       "      <td>0.10</td>\n",
       "    </tr>\n",
       "    <tr>\n",
       "      <th>Top 10 %</th>\n",
       "      <td>0.46</td>\n",
       "      <td>0.46</td>\n",
       "      <td>0.46</td>\n",
       "      <td>0.45</td>\n",
       "      <td>0.46</td>\n",
       "      <td>0.44</td>\n",
       "    </tr>\n",
       "  </tbody>\n",
       "</table>\n",
       "</div>"
      ],
      "text/plain": [
       "             market_income  market_income_plus_pensions  gross_income  \\\n",
       "Gini                  0.58                         0.57          0.57   \n",
       "Bottom 40 %           0.09                         0.09          0.09   \n",
       "Top 10 %              0.46                         0.46          0.46   \n",
       "\n",
       "             disposable_income  consumable_income  final_income  \n",
       "Gini                      0.57               0.59          0.56  \n",
       "Bottom 40 %               0.09               0.08          0.10  \n",
       "Top 10 %                  0.45               0.46          0.44  "
      ]
     },
     "metadata": {},
     "output_type": "display_data"
    }
   ],
   "source": [
    "from openfisca_survey_manager.statshelpers import lorenz\n",
    "from openfisca_ceq.tools.results.inequality import inequality_table\n",
    "display(inequality_table(survey_scenario))"
   ]
  },
  {
   "cell_type": "code",
   "execution_count": 31,
   "metadata": {
    "execution": {
     "iopub.execute_input": "2020-09-13T20:52:06.204258Z",
     "iopub.status.busy": "2020-09-13T20:52:06.203660Z",
     "iopub.status.idle": "2020-09-13T20:52:06.210298Z",
     "shell.execute_reply": "2020-09-13T20:52:06.211015Z"
    },
    "papermill": {
     "duration": 0.065578,
     "end_time": "2020-09-13T20:52:06.211209",
     "exception": false,
     "start_time": "2020-09-13T20:52:06.145631",
     "status": "completed"
    },
    "tags": []
   },
   "outputs": [
    {
     "data": {
      "text/plain": [
       "749.9915239734215"
      ]
     },
     "execution_count": 31,
     "metadata": {},
     "output_type": "execute_result"
    }
   ],
   "source": [
    "survey_scenario.compute_aggregate(\"impots_indirects\", period = year) / 1e9"
   ]
  },
  {
   "cell_type": "code",
   "execution_count": 32,
   "metadata": {
    "execution": {
     "iopub.execute_input": "2020-09-13T20:52:06.322932Z",
     "iopub.status.busy": "2020-09-13T20:52:06.321926Z",
     "iopub.status.idle": "2020-09-13T20:52:06.331062Z",
     "shell.execute_reply": "2020-09-13T20:52:06.329032Z"
    },
    "papermill": {
     "duration": 0.066573,
     "end_time": "2020-09-13T20:52:06.331468",
     "exception": false,
     "start_time": "2020-09-13T20:52:06.264895",
     "status": "completed"
    },
    "tags": []
   },
   "outputs": [
    {
     "data": {
      "text/plain": [
       "178.87436082048882"
      ]
     },
     "execution_count": 32,
     "metadata": {},
     "output_type": "execute_result"
    }
   ],
   "source": [
    "survey_scenario.compute_aggregate(\"direct_taxes\", period = year) / 1e9"
   ]
  },
  {
   "cell_type": "code",
   "execution_count": 33,
   "metadata": {
    "execution": {
     "iopub.execute_input": "2020-09-13T20:52:06.449953Z",
     "iopub.status.busy": "2020-09-13T20:52:06.449051Z",
     "iopub.status.idle": "2020-09-13T20:52:06.454747Z",
     "shell.execute_reply": "2020-09-13T20:52:06.455523Z"
    },
    "papermill": {
     "duration": 0.066462,
     "end_time": "2020-09-13T20:52:06.455731",
     "exception": false,
     "start_time": "2020-09-13T20:52:06.389269",
     "status": "completed"
    },
    "tags": []
   },
   "outputs": [
    {
     "data": {
      "text/plain": [
       "178.87436082048882"
      ]
     },
     "execution_count": 33,
     "metadata": {},
     "output_type": "execute_result"
    }
   ],
   "source": [
    "survey_scenario.compute_aggregate(\"personal_income_tax\", period = year) / 1e9"
   ]
  },
  {
   "cell_type": "code",
   "execution_count": 34,
   "metadata": {
    "execution": {
     "iopub.execute_input": "2020-09-13T20:52:06.573989Z",
     "iopub.status.busy": "2020-09-13T20:52:06.572997Z",
     "iopub.status.idle": "2020-09-13T20:52:06.576662Z",
     "shell.execute_reply": "2020-09-13T20:52:06.577209Z"
    },
    "papermill": {
     "duration": 0.065719,
     "end_time": "2020-09-13T20:52:06.577386",
     "exception": false,
     "start_time": "2020-09-13T20:52:06.511667",
     "status": "completed"
    },
    "tags": []
   },
   "outputs": [],
   "source": [
    "from openfisca_ceq import list_variables_from_directory"
   ]
  },
  {
   "cell_type": "code",
   "execution_count": 35,
   "metadata": {
    "execution": {
     "iopub.execute_input": "2020-09-13T20:52:06.693380Z",
     "iopub.status.busy": "2020-09-13T20:52:06.692742Z",
     "iopub.status.idle": "2020-09-13T20:52:07.129110Z",
     "shell.execute_reply": "2020-09-13T20:52:07.130003Z"
    },
    "papermill": {
     "duration": 0.497774,
     "end_time": "2020-09-13T20:52:07.130230",
     "exception": false,
     "start_time": "2020-09-13T20:52:06.632456",
     "status": "completed"
    },
    "tags": []
   },
   "outputs": [
    {
     "data": {
      "text/plain": [
       "['agricultural_inputs_subsidies',\n",
       " 'alimony',\n",
       " 'contributions_health',\n",
       " 'corporate_income_tax',\n",
       " 'electricity_subsidies',\n",
       " 'employee_contributions_health',\n",
       " 'employee_other_contributions',\n",
       " 'employer_contributions_health',\n",
       " 'excise_taxes',\n",
       " 'food_subsidies',\n",
       " 'fuel_subsidies',\n",
       " 'indirect_subsidies',\n",
       " 'other_taxes',\n",
       " 'payroll_tax',\n",
       " 'property_tax',\n",
       " 'sales_tax',\n",
       " 'self_employed_contributions_health',\n",
       " 'self_employed_contributions_pensions',\n",
       " 'self_employed_other_contributions']"
      ]
     },
     "execution_count": 35,
     "metadata": {},
     "output_type": "execute_result"
    }
   ],
   "source": [
    "ceq_variables = sorted(list_variables_from_directory(survey_scenario.tax_benefit_system))\n",
    "[\n",
    "    ceq_variable\n",
    "    for ceq_variable in ceq_variables\n",
    "    if survey_scenario.compute_aggregate(ceq_variable, period = year) == 0\n",
    "    ]"
   ]
  },
  {
   "cell_type": "code",
   "execution_count": 36,
   "metadata": {
    "execution": {
     "iopub.execute_input": "2020-09-13T20:52:07.299225Z",
     "iopub.status.busy": "2020-09-13T20:52:07.297934Z",
     "iopub.status.idle": "2020-09-13T20:52:07.498692Z",
     "shell.execute_reply": "2020-09-13T20:52:07.499199Z"
    },
    "papermill": {
     "duration": 0.288345,
     "end_time": "2020-09-13T20:52:07.499353",
     "exception": false,
     "start_time": "2020-09-13T20:52:07.211008",
     "status": "completed"
    },
    "tags": []
   },
   "outputs": [
    {
     "data": {
      "text/plain": [
       "[<matplotlib.lines.Line2D at 0x7f9be775cc10>]"
      ]
     },
     "execution_count": 36,
     "metadata": {},
     "output_type": "execute_result"
    },
    {
     "data": {
      "image/png": "[encoded data removed]",
      "text/plain": [
       "<Figure size 432x288 with 1 Axes>"
      ]
     },
     "metadata": {
      "needs_background": "light"
     },
     "output_type": "display_data"
    }
   ],
   "source": [
    "variable = \"market_income\"\n",
    "nb_persons = survey_scenario.calculate_variable(\"number_of_people_per_household\", period = year)\n",
    "weights = survey_scenario.calculate_variable(\"household_weight\", period = year) * nb_persons\n",
    "\n",
    "y, x = lorenz(survey_scenario.calculate_variable(variable, period = year) / nb_persons, weights = weights)\n",
    "plt.plot(x, y)"
   ]
  },
  {
   "cell_type": "code",
   "execution_count": 37,
   "metadata": {
    "execution": {
     "iopub.execute_input": "2020-09-13T20:52:07.616844Z",
     "iopub.status.busy": "2020-09-13T20:52:07.614761Z",
     "iopub.status.idle": "2020-09-13T20:52:07.620417Z",
     "shell.execute_reply": "2020-09-13T20:52:07.621038Z"
    },
    "papermill": {
     "duration": 0.067623,
     "end_time": "2020-09-13T20:52:07.621248",
     "exception": false,
     "start_time": "2020-09-13T20:52:07.553625",
     "status": "completed"
    },
    "tags": []
   },
   "outputs": [
    {
     "data": {
      "text/plain": [
       "8.438274100199402"
      ]
     },
     "execution_count": 37,
     "metadata": {},
     "output_type": "execute_result"
    }
   ],
   "source": [
    "survey_scenario.compute_aggregate('direct_transfers', period = year) / 1e9"
   ]
  },
  {
   "cell_type": "code",
   "execution_count": 38,
   "metadata": {
    "execution": {
     "iopub.execute_input": "2020-09-13T20:52:07.786763Z",
     "iopub.status.busy": "2020-09-13T20:52:07.785835Z",
     "iopub.status.idle": "2020-09-13T20:52:07.789728Z",
     "shell.execute_reply": "2020-09-13T20:52:07.790430Z"
    },
    "papermill": {
     "duration": 0.086842,
     "end_time": "2020-09-13T20:52:07.790699",
     "exception": false,
     "start_time": "2020-09-13T20:52:07.703857",
     "status": "completed"
    },
    "tags": []
   },
   "outputs": [
    {
     "data": {
      "text/plain": [
       "['agricultural_inputs_subsidies',\n",
       " 'alimony',\n",
       " 'all_income_excluding_transfers',\n",
       " 'autoconsumption',\n",
       " 'consumable_income',\n",
       " 'contributions_health',\n",
       " 'contributions_pensions',\n",
       " 'corporate_income_tax',\n",
       " 'customs_duties',\n",
       " 'decile_consumable_income_per_capita',\n",
       " 'decile_disposable_income_per_capita',\n",
       " 'decile_final_income_per_capita',\n",
       " 'decile_gross_income_per_capita',\n",
       " 'decile_market_income_per_capita',\n",
       " 'decile_market_income_plus_pensions_per_capita',\n",
       " 'decile_survey_income_per_capita',\n",
       " 'direct_taxes',\n",
       " 'disposable_income',\n",
       " 'electricity_subsidies',\n",
       " 'employee_contributions_health',\n",
       " 'employee_contributions_pensions',\n",
       " 'employee_other_contributions',\n",
       " 'employer_contributions_health',\n",
       " 'employer_contributions_pensions',\n",
       " 'employer_other_contributions',\n",
       " 'excise_taxes',\n",
       " 'final_income',\n",
       " 'food_subsidies',\n",
       " 'fuel_subsidies',\n",
       " 'gifts_sales_durables',\n",
       " 'gross_income',\n",
       " 'imputed_rent',\n",
       " 'indirect_subsidies',\n",
       " 'indirect_taxes',\n",
       " 'market_income',\n",
       " 'market_income_plus_pensions',\n",
       " 'net_market_income',\n",
       " 'nontaxable_income',\n",
       " 'other_contributions',\n",
       " 'other_income',\n",
       " 'other_taxes',\n",
       " 'payroll_tax',\n",
       " 'pensions',\n",
       " 'personal_income_tax',\n",
       " 'property_tax',\n",
       " 'sales_tax',\n",
       " 'self_employed_contributions_health',\n",
       " 'self_employed_contributions_pensions',\n",
       " 'self_employed_other_contributions',\n",
       " 'taxable_income',\n",
       " 'value_added_tax']"
      ]
     },
     "execution_count": 38,
     "metadata": {},
     "output_type": "execute_result"
    }
   ],
   "source": [
    "ceq_variables"
   ]
  },
  {
   "cell_type": "code",
   "execution_count": 39,
   "metadata": {
    "execution": {
     "iopub.execute_input": "2020-09-13T20:52:07.934254Z",
     "iopub.status.busy": "2020-09-13T20:52:07.932678Z",
     "iopub.status.idle": "2020-09-13T20:52:07.939448Z",
     "shell.execute_reply": "2020-09-13T20:52:07.940324Z"
    },
    "papermill": {
     "duration": 0.078071,
     "end_time": "2020-09-13T20:52:07.940555",
     "exception": false,
     "start_time": "2020-09-13T20:52:07.862484",
     "status": "completed"
    },
    "tags": []
   },
   "outputs": [
    {
     "data": {
      "text/plain": [
       "190588786862.95657"
      ]
     },
     "execution_count": 39,
     "metadata": {},
     "output_type": "execute_result"
    }
   ],
   "source": [
    "survey_scenario.compute_aggregate('customs_duties', period = year) "
   ]
  },
  {
   "cell_type": "code",
   "execution_count": 40,
   "metadata": {
    "execution": {
     "iopub.execute_input": "2020-09-13T20:52:08.031618Z",
     "iopub.status.busy": "2020-09-13T20:52:08.030904Z",
     "iopub.status.idle": "2020-09-13T20:52:13.315341Z",
     "shell.execute_reply": "2020-09-13T20:52:13.316189Z"
    },
    "papermill": {
     "duration": 5.330714,
     "end_time": "2020-09-13T20:52:13.316418",
     "exception": false,
     "start_time": "2020-09-13T20:52:07.985704",
     "status": "completed"
    },
    "tags": []
   },
   "outputs": [
    {
     "name": "stderr",
     "output_type": "stream",
     "text": [
      "/home/benjello/.virtualenvs/ceq/lib/python3.7/site-packages/pandas/io/stata.py:1409: UnicodeWarning: \n",
      "One or more strings in the dta file could not be decoded using utf-8, and\n",
      "so the fallback encoding of latin-1 is being used.  This can happen when a file\n",
      "has been incorrectly encoded by Stata or some other software. You should verify\n",
      "the string values returned are correct.\n",
      "  warnings.warn(msg, UnicodeWarning)\n"
     ]
    },
    {
     "name": "stderr",
     "output_type": "stream",
     "text": [
      "/home/benjello/.virtualenvs/ceq/lib/python3.7/site-packages/scipy/optimize/minpack.py:175: RuntimeWarning: The iteration is not making good progress, as measured by the \n",
      "  improvement from the last ten iterations.\n",
      "  warnings.warn(msg, RuntimeWarning)\n"
     ]
    }
   ],
   "source": [
    "inflated_survey_scenario = build_ceq_survey_scenario(legislation_country = country, year = year, inflate = True)"
   ]
  },
  {
   "cell_type": "code",
   "execution_count": 41,
   "metadata": {
    "execution": {
     "iopub.execute_input": "2020-09-13T20:52:13.436298Z",
     "iopub.status.busy": "2020-09-13T20:52:13.420734Z",
     "iopub.status.idle": "2020-09-13T20:52:13.439457Z",
     "shell.execute_reply": "2020-09-13T20:52:13.440397Z"
    },
    "papermill": {
     "duration": 0.064384,
     "end_time": "2020-09-13T20:52:13.440631",
     "exception": false,
     "start_time": "2020-09-13T20:52:13.376247",
     "status": "completed"
    },
    "tags": []
   },
   "outputs": [
    {
     "data": {
      "text/plain": [
       "['poste_10_1',\n",
       " 'poste_10_1_1_1_item_1',\n",
       " 'poste_10_1_1_1_item_2',\n",
       " 'poste_10_1_1_1_item_3',\n",
       " 'poste_10_1_1_1_item_4',\n",
       " 'poste_10_1_1_1_item_5',\n",
       " 'poste_11_1_1_1_1',\n",
       " 'poste_11_1_1_1_2',\n",
       " 'poste_11_1_2_1_1',\n",
       " 'poste_12_1_1_1',\n",
       " 'poste_12_1_3_item_1',\n",
       " 'poste_12_1_3_item_2',\n",
       " 'poste_12_3_1_1',\n",
       " 'poste_12_5',\n",
       " 'poste_12_5_3_1_1',\n",
       " 'poste_12_7_1',\n",
       " 'poste_12_7_1_2_3_item_1',\n",
       " 'poste_12_7_1_2_3_item_2',\n",
       " 'poste_12_7_1_2_3_item_3',\n",
       " 'poste_12_7_1_2_3_item_4',\n",
       " 'poste_12_7_1_2_3_item_5',\n",
       " 'poste_1_1',\n",
       " 'poste_1_1_1_1_1',\n",
       " 'poste_1_1_1_3_2',\n",
       " 'poste_1_1_1_4_1_item_1',\n",
       " 'poste_1_1_1_4_1_item_10',\n",
       " 'poste_1_1_1_4_1_item_11',\n",
       " 'poste_1_1_1_4_1_item_12',\n",
       " 'poste_1_1_1_4_1_item_13',\n",
       " 'poste_1_1_1_4_1_item_14',\n",
       " 'poste_1_1_1_4_1_item_15',\n",
       " 'poste_1_1_1_4_1_item_16',\n",
       " 'poste_1_1_1_4_1_item_2',\n",
       " 'poste_1_1_1_4_1_item_3',\n",
       " 'poste_1_1_1_4_1_item_4',\n",
       " 'poste_1_1_1_4_1_item_5',\n",
       " 'poste_1_1_1_4_1_item_6',\n",
       " 'poste_1_1_1_4_1_item_7',\n",
       " 'poste_1_1_1_4_1_item_8',\n",
       " 'poste_1_1_1_4_1_item_9',\n",
       " 'poste_1_1_1_4_2',\n",
       " 'poste_1_1_1_4_3_item_1',\n",
       " 'poste_1_1_1_4_3_item_2',\n",
       " 'poste_1_1_1_4_3_item_3',\n",
       " 'poste_1_1_2_item_1',\n",
       " 'poste_1_1_2_item_2',\n",
       " 'poste_1_1_2_item_3',\n",
       " 'poste_1_1_2_item_4',\n",
       " 'poste_1_1_2_item_5',\n",
       " 'poste_1_1_2_item_6',\n",
       " 'poste_1_1_2_item_7',\n",
       " 'poste_1_1_2_item_8',\n",
       " 'poste_1_1_3_item_1',\n",
       " 'poste_1_1_3_item_10',\n",
       " 'poste_1_1_3_item_11',\n",
       " 'poste_1_1_3_item_2',\n",
       " 'poste_1_1_3_item_3',\n",
       " 'poste_1_1_3_item_4',\n",
       " 'poste_1_1_3_item_5',\n",
       " 'poste_1_1_3_item_6',\n",
       " 'poste_1_1_3_item_7',\n",
       " 'poste_1_1_3_item_8',\n",
       " 'poste_1_1_3_item_9',\n",
       " 'poste_1_1_4_item_1',\n",
       " 'poste_1_1_4_item_2',\n",
       " 'poste_1_1_4_item_3',\n",
       " 'poste_1_1_4_item_4',\n",
       " 'poste_1_1_4_item_5',\n",
       " 'poste_1_1_4_item_6',\n",
       " 'poste_1_1_4_item_7',\n",
       " 'poste_1_1_5_item_1',\n",
       " 'poste_1_1_5_item_2',\n",
       " 'poste_1_1_5_item_3',\n",
       " 'poste_1_1_5_item_4',\n",
       " 'poste_1_1_5_item_5',\n",
       " 'poste_1_1_6_item_1',\n",
       " 'poste_1_1_6_item_10',\n",
       " 'poste_1_1_6_item_11',\n",
       " 'poste_1_1_6_item_12',\n",
       " 'poste_1_1_6_item_13',\n",
       " 'poste_1_1_6_item_14',\n",
       " 'poste_1_1_6_item_15',\n",
       " 'poste_1_1_6_item_16',\n",
       " 'poste_1_1_6_item_17',\n",
       " 'poste_1_1_6_item_18',\n",
       " 'poste_1_1_6_item_19',\n",
       " 'poste_1_1_6_item_2',\n",
       " 'poste_1_1_6_item_20',\n",
       " 'poste_1_1_6_item_21',\n",
       " 'poste_1_1_6_item_22',\n",
       " 'poste_1_1_6_item_23',\n",
       " 'poste_1_1_6_item_3',\n",
       " 'poste_1_1_6_item_4',\n",
       " 'poste_1_1_6_item_5',\n",
       " 'poste_1_1_6_item_6',\n",
       " 'poste_1_1_6_item_7',\n",
       " 'poste_1_1_6_item_8',\n",
       " 'poste_1_1_6_item_9',\n",
       " 'poste_1_1_7_item_1',\n",
       " 'poste_1_1_7_item_10',\n",
       " 'poste_1_1_7_item_11',\n",
       " 'poste_1_1_7_item_12',\n",
       " 'poste_1_1_7_item_13',\n",
       " 'poste_1_1_7_item_14',\n",
       " 'poste_1_1_7_item_15',\n",
       " 'poste_1_1_7_item_16',\n",
       " 'poste_1_1_7_item_17',\n",
       " 'poste_1_1_7_item_18',\n",
       " 'poste_1_1_7_item_19',\n",
       " 'poste_1_1_7_item_2',\n",
       " 'poste_1_1_7_item_20',\n",
       " 'poste_1_1_7_item_21',\n",
       " 'poste_1_1_7_item_22',\n",
       " 'poste_1_1_7_item_23',\n",
       " 'poste_1_1_7_item_24',\n",
       " 'poste_1_1_7_item_25',\n",
       " 'poste_1_1_7_item_26',\n",
       " 'poste_1_1_7_item_27',\n",
       " 'poste_1_1_7_item_3',\n",
       " 'poste_1_1_7_item_4',\n",
       " 'poste_1_1_7_item_5',\n",
       " 'poste_1_1_7_item_6',\n",
       " 'poste_1_1_7_item_7',\n",
       " 'poste_1_1_7_item_8',\n",
       " 'poste_1_1_7_item_9',\n",
       " 'poste_1_1_8_item_1',\n",
       " 'poste_1_1_8_item_2',\n",
       " 'poste_1_1_8_item_3',\n",
       " 'poste_1_1_8_item_4',\n",
       " 'poste_1_1_8_item_5',\n",
       " 'poste_1_1_9_item_1',\n",
       " 'poste_1_1_9_item_2',\n",
       " 'poste_1_1_9_item_3',\n",
       " 'poste_1_1_9_item_4',\n",
       " 'poste_1_1_9_item_5',\n",
       " 'poste_1_1_9_item_6',\n",
       " 'poste_1_2_item_1',\n",
       " 'poste_1_2_item_2',\n",
       " 'poste_1_2_item_3',\n",
       " 'poste_1_2_item_4',\n",
       " 'poste_1_2_item_5',\n",
       " 'poste_1_2_item_6',\n",
       " 'poste_1_2_item_7',\n",
       " 'poste_2_1_item_1',\n",
       " 'poste_2_1_item_2',\n",
       " 'poste_2_1_item_3',\n",
       " 'poste_2_2_item_1',\n",
       " 'poste_2_2_item_2',\n",
       " 'poste_3_1_2_item_1',\n",
       " 'poste_3_1_2_item_2',\n",
       " 'poste_3_1_2_item_3',\n",
       " 'poste_3_1_2_item_4',\n",
       " 'poste_3_1_2_item_5',\n",
       " 'poste_3_1_2_item_6',\n",
       " 'poste_3_1_2_item_7',\n",
       " 'poste_3_2_1',\n",
       " 'poste_4_1_1',\n",
       " 'poste_4_4_1_1_1_item_1',\n",
       " 'poste_4_4_1_1_1_item_2',\n",
       " 'poste_4_4_1_2_1',\n",
       " 'poste_4_5_1_1_1_item_1',\n",
       " 'poste_4_5_1_1_1_item_2',\n",
       " 'poste_4_5_2_1_1',\n",
       " 'poste_4_5_3_1_1_item_1',\n",
       " 'poste_4_5_3_1_1_item_2',\n",
       " 'poste_4_5_3_1_1_item_3',\n",
       " 'poste_4_5_4_1_1_item_1',\n",
       " 'poste_4_5_4_1_1_item_2',\n",
       " 'poste_4_5_4_1_1_item_3',\n",
       " 'poste_5_4_1',\n",
       " 'poste_5_5_1_item_1',\n",
       " 'poste_5_5_1_item_2',\n",
       " 'poste_5_5_1_item_3',\n",
       " 'poste_5_5_1_item_4',\n",
       " 'poste_5_6_2_1_1',\n",
       " 'poste_6_1_1_item_1',\n",
       " 'poste_6_1_1_item_2',\n",
       " 'poste_6_1_1_item_3',\n",
       " 'poste_6_2_1_item_1',\n",
       " 'poste_6_2_1_item_2',\n",
       " 'poste_6_2_1_item_3',\n",
       " 'poste_6_2_1_item_4',\n",
       " 'poste_7_2_2',\n",
       " 'poste_7_2_3',\n",
       " 'poste_7_3_2_item_1',\n",
       " 'poste_7_3_2_item_2',\n",
       " 'poste_7_3_2_item_3',\n",
       " 'poste_8_1_1_1_1',\n",
       " 'poste_8_1_2_1_1',\n",
       " 'poste_8_1_2_2_1_item_1',\n",
       " 'poste_8_1_2_2_1_item_2',\n",
       " 'poste_8_1_2_2_1_item_3',\n",
       " 'poste_8_1_2_2_1_item_4',\n",
       " 'poste_99_item_1',\n",
       " 'poste_99_item_10',\n",
       " 'poste_99_item_100',\n",
       " 'poste_99_item_101',\n",
       " 'poste_99_item_102',\n",
       " 'poste_99_item_103',\n",
       " 'poste_99_item_104',\n",
       " 'poste_99_item_105',\n",
       " 'poste_99_item_106',\n",
       " 'poste_99_item_107',\n",
       " 'poste_99_item_108',\n",
       " 'poste_99_item_109',\n",
       " 'poste_99_item_11',\n",
       " 'poste_99_item_110',\n",
       " 'poste_99_item_111',\n",
       " 'poste_99_item_112',\n",
       " 'poste_99_item_113',\n",
       " 'poste_99_item_114',\n",
       " 'poste_99_item_115',\n",
       " 'poste_99_item_116',\n",
       " 'poste_99_item_117',\n",
       " 'poste_99_item_118',\n",
       " 'poste_99_item_119',\n",
       " 'poste_99_item_12',\n",
       " 'poste_99_item_120',\n",
       " 'poste_99_item_121',\n",
       " 'poste_99_item_122',\n",
       " 'poste_99_item_123',\n",
       " 'poste_99_item_124',\n",
       " 'poste_99_item_125',\n",
       " 'poste_99_item_126',\n",
       " 'poste_99_item_127',\n",
       " 'poste_99_item_128',\n",
       " 'poste_99_item_129',\n",
       " 'poste_99_item_13',\n",
       " 'poste_99_item_130',\n",
       " 'poste_99_item_131',\n",
       " 'poste_99_item_132',\n",
       " 'poste_99_item_133',\n",
       " 'poste_99_item_134',\n",
       " 'poste_99_item_135',\n",
       " 'poste_99_item_136',\n",
       " 'poste_99_item_137',\n",
       " 'poste_99_item_138',\n",
       " 'poste_99_item_139',\n",
       " 'poste_99_item_14',\n",
       " 'poste_99_item_140',\n",
       " 'poste_99_item_141',\n",
       " 'poste_99_item_142',\n",
       " 'poste_99_item_143',\n",
       " 'poste_99_item_144',\n",
       " 'poste_99_item_145',\n",
       " 'poste_99_item_146',\n",
       " 'poste_99_item_147',\n",
       " 'poste_99_item_148',\n",
       " 'poste_99_item_149',\n",
       " 'poste_99_item_15',\n",
       " 'poste_99_item_150',\n",
       " 'poste_99_item_151',\n",
       " 'poste_99_item_152',\n",
       " 'poste_99_item_153',\n",
       " 'poste_99_item_154',\n",
       " 'poste_99_item_155',\n",
       " 'poste_99_item_156',\n",
       " 'poste_99_item_157',\n",
       " 'poste_99_item_158',\n",
       " 'poste_99_item_159',\n",
       " 'poste_99_item_16',\n",
       " 'poste_99_item_160',\n",
       " 'poste_99_item_161',\n",
       " 'poste_99_item_162',\n",
       " 'poste_99_item_163',\n",
       " 'poste_99_item_164',\n",
       " 'poste_99_item_165',\n",
       " 'poste_99_item_166',\n",
       " 'poste_99_item_167',\n",
       " 'poste_99_item_168',\n",
       " 'poste_99_item_169',\n",
       " 'poste_99_item_17',\n",
       " 'poste_99_item_170',\n",
       " 'poste_99_item_171',\n",
       " 'poste_99_item_172',\n",
       " 'poste_99_item_173',\n",
       " 'poste_99_item_174',\n",
       " 'poste_99_item_175',\n",
       " 'poste_99_item_176',\n",
       " 'poste_99_item_177',\n",
       " 'poste_99_item_178',\n",
       " 'poste_99_item_179',\n",
       " 'poste_99_item_18',\n",
       " 'poste_99_item_180',\n",
       " 'poste_99_item_181',\n",
       " 'poste_99_item_182',\n",
       " 'poste_99_item_183',\n",
       " 'poste_99_item_184',\n",
       " 'poste_99_item_185',\n",
       " 'poste_99_item_186',\n",
       " 'poste_99_item_187',\n",
       " 'poste_99_item_188',\n",
       " 'poste_99_item_189',\n",
       " 'poste_99_item_19',\n",
       " 'poste_99_item_190',\n",
       " 'poste_99_item_191',\n",
       " 'poste_99_item_192',\n",
       " 'poste_99_item_193',\n",
       " 'poste_99_item_194',\n",
       " 'poste_99_item_195',\n",
       " 'poste_99_item_196',\n",
       " 'poste_99_item_197',\n",
       " 'poste_99_item_198',\n",
       " 'poste_99_item_199',\n",
       " 'poste_99_item_2',\n",
       " 'poste_99_item_20',\n",
       " 'poste_99_item_200',\n",
       " 'poste_99_item_201',\n",
       " 'poste_99_item_202',\n",
       " 'poste_99_item_203',\n",
       " 'poste_99_item_204',\n",
       " 'poste_99_item_205',\n",
       " 'poste_99_item_206',\n",
       " 'poste_99_item_207',\n",
       " 'poste_99_item_208',\n",
       " 'poste_99_item_209',\n",
       " 'poste_99_item_21',\n",
       " 'poste_99_item_210',\n",
       " 'poste_99_item_211',\n",
       " 'poste_99_item_212',\n",
       " 'poste_99_item_213',\n",
       " 'poste_99_item_214',\n",
       " 'poste_99_item_215',\n",
       " 'poste_99_item_216',\n",
       " 'poste_99_item_217',\n",
       " 'poste_99_item_218',\n",
       " 'poste_99_item_219',\n",
       " 'poste_99_item_22',\n",
       " 'poste_99_item_220',\n",
       " 'poste_99_item_221',\n",
       " 'poste_99_item_222',\n",
       " 'poste_99_item_223',\n",
       " 'poste_99_item_224',\n",
       " 'poste_99_item_225',\n",
       " 'poste_99_item_226',\n",
       " 'poste_99_item_227',\n",
       " 'poste_99_item_228',\n",
       " 'poste_99_item_229',\n",
       " 'poste_99_item_23',\n",
       " 'poste_99_item_230',\n",
       " 'poste_99_item_231',\n",
       " 'poste_99_item_232',\n",
       " 'poste_99_item_233',\n",
       " 'poste_99_item_234',\n",
       " 'poste_99_item_235',\n",
       " 'poste_99_item_236',\n",
       " 'poste_99_item_237',\n",
       " 'poste_99_item_238',\n",
       " 'poste_99_item_239',\n",
       " 'poste_99_item_24',\n",
       " 'poste_99_item_240',\n",
       " 'poste_99_item_241',\n",
       " 'poste_99_item_242',\n",
       " 'poste_99_item_243',\n",
       " 'poste_99_item_244',\n",
       " 'poste_99_item_245',\n",
       " 'poste_99_item_246',\n",
       " 'poste_99_item_247',\n",
       " 'poste_99_item_248',\n",
       " 'poste_99_item_249',\n",
       " 'poste_99_item_25',\n",
       " 'poste_99_item_250',\n",
       " 'poste_99_item_251',\n",
       " 'poste_99_item_252',\n",
       " 'poste_99_item_253',\n",
       " 'poste_99_item_254',\n",
       " 'poste_99_item_26',\n",
       " 'poste_99_item_27',\n",
       " 'poste_99_item_28',\n",
       " 'poste_99_item_29',\n",
       " 'poste_99_item_3',\n",
       " 'poste_99_item_30',\n",
       " 'poste_99_item_31',\n",
       " 'poste_99_item_32',\n",
       " 'poste_99_item_33',\n",
       " 'poste_99_item_34',\n",
       " 'poste_99_item_35',\n",
       " 'poste_99_item_36',\n",
       " 'poste_99_item_37',\n",
       " 'poste_99_item_38',\n",
       " 'poste_99_item_39',\n",
       " 'poste_99_item_4',\n",
       " 'poste_99_item_40',\n",
       " 'poste_99_item_41',\n",
       " 'poste_99_item_42',\n",
       " 'poste_99_item_43',\n",
       " 'poste_99_item_44',\n",
       " 'poste_99_item_45',\n",
       " 'poste_99_item_46',\n",
       " 'poste_99_item_47',\n",
       " 'poste_99_item_48',\n",
       " 'poste_99_item_49',\n",
       " 'poste_99_item_5',\n",
       " 'poste_99_item_50',\n",
       " 'poste_99_item_51',\n",
       " 'poste_99_item_52',\n",
       " 'poste_99_item_53',\n",
       " 'poste_99_item_54',\n",
       " 'poste_99_item_55',\n",
       " 'poste_99_item_56',\n",
       " 'poste_99_item_57',\n",
       " 'poste_99_item_58',\n",
       " 'poste_99_item_59',\n",
       " 'poste_99_item_6',\n",
       " 'poste_99_item_60',\n",
       " 'poste_99_item_61',\n",
       " 'poste_99_item_62',\n",
       " 'poste_99_item_63',\n",
       " 'poste_99_item_64',\n",
       " 'poste_99_item_65',\n",
       " 'poste_99_item_66',\n",
       " 'poste_99_item_67',\n",
       " 'poste_99_item_68',\n",
       " 'poste_99_item_69',\n",
       " 'poste_99_item_7',\n",
       " 'poste_99_item_70',\n",
       " 'poste_99_item_71',\n",
       " 'poste_99_item_72',\n",
       " 'poste_99_item_73',\n",
       " 'poste_99_item_74',\n",
       " 'poste_99_item_75',\n",
       " 'poste_99_item_76',\n",
       " 'poste_99_item_77',\n",
       " 'poste_99_item_78',\n",
       " 'poste_99_item_79',\n",
       " 'poste_99_item_8',\n",
       " 'poste_99_item_80',\n",
       " 'poste_99_item_81',\n",
       " 'poste_99_item_82',\n",
       " 'poste_99_item_83',\n",
       " 'poste_99_item_84',\n",
       " 'poste_99_item_85',\n",
       " 'poste_99_item_86',\n",
       " 'poste_99_item_87',\n",
       " 'poste_99_item_88',\n",
       " 'poste_99_item_89',\n",
       " 'poste_99_item_9',\n",
       " 'poste_99_item_90',\n",
       " 'poste_99_item_91',\n",
       " 'poste_99_item_92',\n",
       " 'poste_99_item_93',\n",
       " 'poste_99_item_94',\n",
       " 'poste_99_item_95',\n",
       " 'poste_99_item_96',\n",
       " 'poste_99_item_97',\n",
       " 'poste_99_item_98',\n",
       " 'poste_99_item_99',\n",
       " 'poste_9_1_1_1_2',\n",
       " 'poste_9_4',\n",
       " 'poste_9_4_1_1',\n",
       " 'poste_9_5_1_1',\n",
       " 'poste_9_5_2_1_1',\n",
       " 'poste_9_6_1_item_1',\n",
       " 'poste_9_6_1_item_2']"
      ]
     },
     "execution_count": 41,
     "metadata": {},
     "output_type": "execute_result"
    }
   ],
   "source": [
    "sorted([\n",
    "    variable \n",
    "    for variable in survey_scenario.tax_benefit_system.variables \n",
    "    if variable.startswith('poste_')\n",
    "    ])"
   ]
  },
  {
   "cell_type": "code",
   "execution_count": 42,
   "metadata": {
    "execution": {
     "iopub.execute_input": "2020-09-13T20:52:13.537982Z",
     "iopub.status.busy": "2020-09-13T20:52:13.537468Z",
     "iopub.status.idle": "2020-09-13T20:52:13.542612Z",
     "shell.execute_reply": "2020-09-13T20:52:13.542987Z"
    },
    "papermill": {
     "duration": 0.055426,
     "end_time": "2020-09-13T20:52:13.543109",
     "exception": false,
     "start_time": "2020-09-13T20:52:13.487683",
     "status": "completed"
    },
    "tags": []
   },
   "outputs": [
    {
     "data": {
      "text/plain": [
       "749991523973.4215"
      ]
     },
     "execution_count": 42,
     "metadata": {},
     "output_type": "execute_result"
    }
   ],
   "source": [
    "survey_scenario.compute_aggregate('indirect_taxes', period = year)"
   ]
  },
  {
   "cell_type": "markdown",
   "metadata": {
    "papermill": {
     "duration": 0.041347,
     "end_time": "2020-09-13T20:52:13.629966",
     "exception": false,
     "start_time": "2020-09-13T20:52:13.588619",
     "status": "completed"
    },
    "tags": []
   },
   "source": [
    "Direct taxes"
   ]
  },
  {
   "cell_type": "code",
   "execution_count": null,
   "metadata": {
    "papermill": {
     "duration": 0.043064,
     "end_time": "2020-09-13T20:52:13.713288",
     "exception": false,
     "start_time": "2020-09-13T20:52:13.670224",
     "status": "completed"
    },
    "tags": []
   },
   "outputs": [],
   "source": []
  },
  {
   "cell_type": "code",
   "execution_count": null,
   "metadata": {
    "papermill": {
     "duration": 0.040864,
     "end_time": "2020-09-13T20:52:13.794788",
     "exception": false,
     "start_time": "2020-09-13T20:52:13.753924",
     "status": "completed"
    },
    "tags": []
   },
   "outputs": [],
   "source": []
  }
 ],
 "metadata": {
  "kernelspec": {
   "display_name": "Python 3",
   "language": "python",
   "name": "python3"
  },
  "language_info": {
   "codemirror_mode": {
    "name": "ipython",
    "version": 3
   },
   "file_extension": ".py",
   "mimetype": "text/x-python",
   "name": "python",
   "nbconvert_exporter": "python",
   "pygments_lexer": "ipython3",
   "version": "3.7.9"
  },
  "papermill": {
   "duration": 29.337752,
   "end_time": "2020-09-13T20:52:15.377540",
   "environment_variables": {},
   "exception": null,
   "input_path": "notebooks/test.ipynb",
   "output_path": "notebooks/cote_d_ivoire.ipynb",
   "parameters": {
    "country": "cote_d_ivoire"
   },
   "start_time": "2020-09-13T20:51:46.039788",
   "version": "2.1.2"
  }
 },
 "nbformat": 4,
 "nbformat_minor": 4
}