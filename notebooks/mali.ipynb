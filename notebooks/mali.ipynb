{
 "cells": [
  {
   "cell_type": "code",
   "execution_count": 1,
   "metadata": {
    "execution": {
     "iopub.execute_input": "2020-07-09T22:09:02.973125Z",
     "iopub.status.busy": "2020-07-09T22:09:02.972515Z",
     "iopub.status.idle": "2020-07-09T22:09:02.975201Z",
     "shell.execute_reply": "2020-07-09T22:09:02.975569Z"
    },
    "papermill": {
     "duration": 0.044106,
     "end_time": "2020-07-09T22:09:02.975709",
     "exception": false,
     "start_time": "2020-07-09T22:09:02.931603",
     "status": "completed"
    },
    "tags": []
   },
   "outputs": [],
   "source": [
    "# !pip install -U git+https://github.com/openfisca/openfisca-ceq.git@master#egg=OpenFisca-CEQ\n",
    "# !pip install -U git+https://github.com/openfisca/openfisca-senegal.git@ceq#egg=OpenFisca-Senegal\n",
    "# !pip install -U git+https://github.com/openfisca/openfisca-mali.git@master#egg=OpenFisca-Mali\n",
    "# !pip install -U git+https://github.com/openfisca/openfisca-cote-d-ivoire.git@master#egg=OpenFisca-COTE-D-IVOIRE"
   ]
  },
  {
   "cell_type": "code",
   "execution_count": 2,
   "metadata": {
    "execution": {
     "iopub.execute_input": "2020-07-09T22:09:03.045045Z",
     "iopub.status.busy": "2020-07-09T22:09:03.043960Z",
     "iopub.status.idle": "2020-07-09T22:09:03.732213Z",
     "shell.execute_reply": "2020-07-09T22:09:03.733084Z"
    },
    "papermill": {
     "duration": 0.72547,
     "end_time": "2020-07-09T22:09:03.733310",
     "exception": false,
     "start_time": "2020-07-09T22:09:03.007840",
     "status": "completed"
    },
    "tags": []
   },
   "outputs": [],
   "source": [
    "from matplotlib import pyplot as plt\n",
    "%matplotlib inline\n",
    "import pandas as pd\n",
    "from openfisca_ceq.tools.survey_scenario import build_ceq_survey_scenario\n",
    "from openfisca_ceq.tools.indirect_taxation.tax_benefit_system_indirect_taxation_completion import indirect_tax_by_country\n",
    "from openfisca_ceq.tools.data import year_by_country\n",
    "from openfisca_ceq.tools.data_ceq_correspondence import (\n",
    "    ceq_input_by_harmonized_variable,\n",
    "    ceq_intermediate_by_harmonized_variable,\n",
    "    non_ceq_input_by_harmonized_variable,\n",
    "    )"
   ]
  },
  {
   "cell_type": "markdown",
   "metadata": {
    "papermill": {
     "duration": 0.025715,
     "end_time": "2020-07-09T22:09:03.795119",
     "exception": false,
     "start_time": "2020-07-09T22:09:03.769404",
     "status": "completed"
    },
    "tags": []
   },
   "source": [
    "# Build country scenario"
   ]
  },
  {
   "cell_type": "markdown",
   "metadata": {
    "papermill": {
     "duration": 0.025608,
     "end_time": "2020-07-09T22:09:03.846513",
     "exception": false,
     "start_time": "2020-07-09T22:09:03.820905",
     "status": "completed"
    },
    "tags": []
   },
   "source": [
    "## Country selection"
   ]
  },
  {
   "cell_type": "code",
   "execution_count": 3,
   "metadata": {
    "execution": {
     "iopub.execute_input": "2020-07-09T22:09:03.903053Z",
     "iopub.status.busy": "2020-07-09T22:09:03.902484Z",
     "iopub.status.idle": "2020-07-09T22:09:03.905308Z",
     "shell.execute_reply": "2020-07-09T22:09:03.904813Z"
    },
    "papermill": {
     "duration": 0.033331,
     "end_time": "2020-07-09T22:09:03.905422",
     "exception": false,
     "start_time": "2020-07-09T22:09:03.872091",
     "status": "completed"
    },
    "tags": [
     "parameters"
    ]
   },
   "outputs": [],
   "source": [
    "country = \"mali\""
   ]
  },
  {
   "cell_type": "code",
   "execution_count": 4,
   "metadata": {
    "execution": {
     "iopub.execute_input": "2020-07-09T22:09:03.968369Z",
     "iopub.status.busy": "2020-07-09T22:09:03.967850Z",
     "iopub.status.idle": "2020-07-09T22:09:03.970673Z",
     "shell.execute_reply": "2020-07-09T22:09:03.970308Z"
    },
    "papermill": {
     "duration": 0.032923,
     "end_time": "2020-07-09T22:09:03.970754",
     "exception": false,
     "start_time": "2020-07-09T22:09:03.937831",
     "status": "completed"
    },
    "tags": [
     "injected-parameters"
    ]
   },
   "outputs": [],
   "source": [
    "# Parameters\n",
    "country = \"mali\"\n"
   ]
  },
  {
   "cell_type": "code",
   "execution_count": 5,
   "metadata": {
    "execution": {
     "iopub.execute_input": "2020-07-09T22:09:04.036070Z",
     "iopub.status.busy": "2020-07-09T22:09:04.035488Z",
     "iopub.status.idle": "2020-07-09T22:09:07.510865Z",
     "shell.execute_reply": "2020-07-09T22:09:07.509936Z"
    },
    "papermill": {
     "duration": 3.506949,
     "end_time": "2020-07-09T22:09:07.511053",
     "exception": false,
     "start_time": "2020-07-09T22:09:04.004104",
     "status": "completed"
    },
    "tags": []
   },
   "outputs": [],
   "source": [
    "year = year_by_country[country]\n",
    "survey_scenario = build_ceq_survey_scenario(legislation_country = country, year = year)"
   ]
  },
  {
   "cell_type": "markdown",
   "metadata": {
    "papermill": {
     "duration": 0.03371,
     "end_time": "2020-07-09T22:09:07.583496",
     "exception": false,
     "start_time": "2020-07-09T22:09:07.549786",
     "status": "completed"
    },
    "tags": []
   },
   "source": [
    "# Aggegates check"
   ]
  },
  {
   "cell_type": "markdown",
   "metadata": {
    "papermill": {
     "duration": 0.027885,
     "end_time": "2020-07-09T22:09:07.637961",
     "exception": false,
     "start_time": "2020-07-09T22:09:07.610076",
     "status": "completed"
    },
    "tags": []
   },
   "source": [
    "## Income variables"
   ]
  },
  {
   "cell_type": "markdown",
   "metadata": {
    "papermill": {
     "duration": 0.024946,
     "end_time": "2020-07-09T22:09:07.688329",
     "exception": false,
     "start_time": "2020-07-09T22:09:07.663383",
     "status": "completed"
    },
    "tags": []
   },
   "source": [
    "### Disagregated income variables"
   ]
  },
  {
   "cell_type": "code",
   "execution_count": 6,
   "metadata": {
    "execution": {
     "iopub.execute_input": "2020-07-09T22:09:07.759122Z",
     "iopub.status.busy": "2020-07-09T22:09:07.757734Z",
     "iopub.status.idle": "2020-07-09T22:09:07.762682Z",
     "shell.execute_reply": "2020-07-09T22:09:07.761839Z"
    },
    "papermill": {
     "duration": 0.046239,
     "end_time": "2020-07-09T22:09:07.762851",
     "exception": false,
     "start_time": "2020-07-09T22:09:07.716612",
     "status": "completed"
    },
    "tags": []
   },
   "outputs": [
    {
     "data": {
      "text/plain": [
       "{'rev_i_autoconsommation': 'autoconsumption',\n",
       " 'rev_i_autres': 'other_income',\n",
       " 'rev_i_autres_transferts': 'gifts_sales_durables',\n",
       " 'rev_i_loyers_imputes': 'imputed_rent',\n",
       " 'rev_i_transferts_publics': 'direct_transfers',\n",
       " 'rev_i_agricoles': 'revenu_agricole',\n",
       " 'rev_i_autres_revenus_capital': 'autres_revenus_du_capital',\n",
       " 'rev_i_independants_Ntaxe': 'revenu_informel_non_salarie',\n",
       " 'rev_i_independants_taxe': 'revenu_non_salarie',\n",
       " 'rev_i_locatifs': 'revenu_locatif',\n",
       " 'rev_i_pensions': 'pension_retraite',\n",
       " 'rev_i_salaires_formels': 'salaire',\n",
       " 'rev_i_salaires_informels': 'revenu_informel_salarie',\n",
       " 'autres_revenus_du_capital_brut': 'autres_revenus_du_capital_brut',\n",
       " 'pension_retraite_brut': 'pension_retraite_brut',\n",
       " 'revenu_foncier_brut': 'revenu_foncier_brut',\n",
       " 'revenu_non_salarie_brut': 'revenu_non_salarie_brut',\n",
       " 'salaire_brut': 'salaire_brut',\n",
       " 'salaire_super_brut': 'salaire_super_brut'}"
      ]
     },
     "execution_count": 6,
     "metadata": {},
     "output_type": "execute_result"
    }
   ],
   "source": [
    "ceq_by_harmonized_variable = dict()\n",
    "ceq_by_harmonized_variable.update(ceq_input_by_harmonized_variable)\n",
    "ceq_by_harmonized_variable.update(ceq_intermediate_by_harmonized_variable)\n",
    "ceq_by_harmonized_variable.update(non_ceq_input_by_harmonized_variable)\n",
    "ceq_by_harmonized_variable['autres_revenus_du_capital_brut'] = 'autres_revenus_du_capital_brut'\n",
    "ceq_by_harmonized_variable['pension_retraite_brut'] = 'pension_retraite_brut'\n",
    "ceq_by_harmonized_variable['revenu_foncier_brut'] = 'revenu_foncier_brut'\n",
    "ceq_by_harmonized_variable['revenu_non_salarie_brut'] = 'revenu_non_salarie_brut' \n",
    "ceq_by_harmonized_variable['salaire_brut'] = 'salaire_brut'\n",
    "ceq_by_harmonized_variable['salaire_super_brut'] = 'salaire_super_brut'\n",
    "ceq_by_harmonized_variable"
   ]
  },
  {
   "cell_type": "code",
   "execution_count": 7,
   "metadata": {
    "execution": {
     "iopub.execute_input": "2020-07-09T22:09:07.826362Z",
     "iopub.status.busy": "2020-07-09T22:09:07.825389Z",
     "iopub.status.idle": "2020-07-09T22:09:07.962647Z",
     "shell.execute_reply": "2020-07-09T22:09:07.963154Z"
    },
    "papermill": {
     "duration": 0.170035,
     "end_time": "2020-07-09T22:09:07.963302",
     "exception": false,
     "start_time": "2020-07-09T22:09:07.793267",
     "status": "completed"
    },
    "tags": []
   },
   "outputs": [],
   "source": [
    "data = [\n",
    "    (harmonized_variable, openfisca_variable, survey_scenario.compute_aggregate(openfisca_variable, period = year) / 1e9) \n",
    "    for harmonized_variable, openfisca_variable in ceq_by_harmonized_variable.items()\n",
    "    ]"
   ]
  },
  {
   "cell_type": "code",
   "execution_count": 8,
   "metadata": {
    "execution": {
     "iopub.execute_input": "2020-07-09T22:09:08.055952Z",
     "iopub.status.busy": "2020-07-09T22:09:08.055299Z",
     "iopub.status.idle": "2020-07-09T22:09:08.076519Z",
     "shell.execute_reply": "2020-07-09T22:09:08.076904Z"
    },
    "papermill": {
     "duration": 0.071104,
     "end_time": "2020-07-09T22:09:08.077042",
     "exception": false,
     "start_time": "2020-07-09T22:09:08.005938",
     "status": "completed"
    },
    "tags": []
   },
   "outputs": [
    {
     "data": {
      "text/html": [
       "<div>\n",
       "<style scoped>\n",
       "    .dataframe tbody tr th:only-of-type {\n",
       "        vertical-align: middle;\n",
       "    }\n",
       "\n",
       "    .dataframe tbody tr th {\n",
       "        vertical-align: top;\n",
       "    }\n",
       "\n",
       "    .dataframe thead th {\n",
       "        text-align: right;\n",
       "    }\n",
       "</style>\n",
       "<table border=\"1\" class=\"dataframe\">\n",
       "  <thead>\n",
       "    <tr style=\"text-align: right;\">\n",
       "      <th></th>\n",
       "      <th>harmonized</th>\n",
       "      <th>openfisca</th>\n",
       "      <th>aggregate</th>\n",
       "    </tr>\n",
       "  </thead>\n",
       "  <tbody>\n",
       "    <tr>\n",
       "      <th>0</th>\n",
       "      <td>rev_i_autoconsommation</td>\n",
       "      <td>autoconsumption</td>\n",
       "      <td>258</td>\n",
       "    </tr>\n",
       "    <tr>\n",
       "      <th>1</th>\n",
       "      <td>rev_i_autres</td>\n",
       "      <td>other_income</td>\n",
       "      <td>282</td>\n",
       "    </tr>\n",
       "    <tr>\n",
       "      <th>2</th>\n",
       "      <td>rev_i_autres_transferts</td>\n",
       "      <td>gifts_sales_durables</td>\n",
       "      <td>71</td>\n",
       "    </tr>\n",
       "    <tr>\n",
       "      <th>3</th>\n",
       "      <td>rev_i_loyers_imputes</td>\n",
       "      <td>imputed_rent</td>\n",
       "      <td>148</td>\n",
       "    </tr>\n",
       "    <tr>\n",
       "      <th>4</th>\n",
       "      <td>rev_i_transferts_publics</td>\n",
       "      <td>direct_transfers</td>\n",
       "      <td>0</td>\n",
       "    </tr>\n",
       "    <tr>\n",
       "      <th>5</th>\n",
       "      <td>rev_i_agricoles</td>\n",
       "      <td>revenu_agricole</td>\n",
       "      <td>606</td>\n",
       "    </tr>\n",
       "    <tr>\n",
       "      <th>6</th>\n",
       "      <td>rev_i_autres_revenus_capital</td>\n",
       "      <td>autres_revenus_du_capital</td>\n",
       "      <td>0</td>\n",
       "    </tr>\n",
       "    <tr>\n",
       "      <th>7</th>\n",
       "      <td>rev_i_independants_Ntaxe</td>\n",
       "      <td>revenu_informel_non_salarie</td>\n",
       "      <td>465</td>\n",
       "    </tr>\n",
       "    <tr>\n",
       "      <th>8</th>\n",
       "      <td>rev_i_independants_taxe</td>\n",
       "      <td>revenu_non_salarie</td>\n",
       "      <td>45</td>\n",
       "    </tr>\n",
       "    <tr>\n",
       "      <th>9</th>\n",
       "      <td>rev_i_locatifs</td>\n",
       "      <td>revenu_locatif</td>\n",
       "      <td>0</td>\n",
       "    </tr>\n",
       "    <tr>\n",
       "      <th>10</th>\n",
       "      <td>rev_i_pensions</td>\n",
       "      <td>pension_retraite</td>\n",
       "      <td>0</td>\n",
       "    </tr>\n",
       "    <tr>\n",
       "      <th>11</th>\n",
       "      <td>rev_i_salaires_formels</td>\n",
       "      <td>salaire</td>\n",
       "      <td>68</td>\n",
       "    </tr>\n",
       "    <tr>\n",
       "      <th>12</th>\n",
       "      <td>rev_i_salaires_informels</td>\n",
       "      <td>revenu_informel_salarie</td>\n",
       "      <td>189</td>\n",
       "    </tr>\n",
       "    <tr>\n",
       "      <th>13</th>\n",
       "      <td>autres_revenus_du_capital_brut</td>\n",
       "      <td>autres_revenus_du_capital_brut</td>\n",
       "      <td>0</td>\n",
       "    </tr>\n",
       "    <tr>\n",
       "      <th>14</th>\n",
       "      <td>pension_retraite_brut</td>\n",
       "      <td>pension_retraite_brut</td>\n",
       "      <td>0</td>\n",
       "    </tr>\n",
       "    <tr>\n",
       "      <th>15</th>\n",
       "      <td>revenu_foncier_brut</td>\n",
       "      <td>revenu_foncier_brut</td>\n",
       "      <td>0</td>\n",
       "    </tr>\n",
       "    <tr>\n",
       "      <th>16</th>\n",
       "      <td>revenu_non_salarie_brut</td>\n",
       "      <td>revenu_non_salarie_brut</td>\n",
       "      <td>45</td>\n",
       "    </tr>\n",
       "    <tr>\n",
       "      <th>17</th>\n",
       "      <td>salaire_brut</td>\n",
       "      <td>salaire_brut</td>\n",
       "      <td>81</td>\n",
       "    </tr>\n",
       "    <tr>\n",
       "      <th>18</th>\n",
       "      <td>salaire_super_brut</td>\n",
       "      <td>salaire_super_brut</td>\n",
       "      <td>96</td>\n",
       "    </tr>\n",
       "  </tbody>\n",
       "</table>\n",
       "</div>"
      ],
      "text/plain": [
       "                        harmonized                       openfisca  aggregate\n",
       "0           rev_i_autoconsommation                 autoconsumption        258\n",
       "1                     rev_i_autres                    other_income        282\n",
       "2          rev_i_autres_transferts            gifts_sales_durables         71\n",
       "3             rev_i_loyers_imputes                    imputed_rent        148\n",
       "4         rev_i_transferts_publics                direct_transfers          0\n",
       "5                  rev_i_agricoles                 revenu_agricole        606\n",
       "6     rev_i_autres_revenus_capital       autres_revenus_du_capital          0\n",
       "7         rev_i_independants_Ntaxe     revenu_informel_non_salarie        465\n",
       "8          rev_i_independants_taxe              revenu_non_salarie         45\n",
       "9                   rev_i_locatifs                  revenu_locatif          0\n",
       "10                  rev_i_pensions                pension_retraite          0\n",
       "11          rev_i_salaires_formels                         salaire         68\n",
       "12        rev_i_salaires_informels         revenu_informel_salarie        189\n",
       "13  autres_revenus_du_capital_brut  autres_revenus_du_capital_brut          0\n",
       "14           pension_retraite_brut           pension_retraite_brut          0\n",
       "15             revenu_foncier_brut             revenu_foncier_brut          0\n",
       "16         revenu_non_salarie_brut         revenu_non_salarie_brut         45\n",
       "17                    salaire_brut                    salaire_brut         81\n",
       "18              salaire_super_brut              salaire_super_brut         96"
      ]
     },
     "execution_count": 8,
     "metadata": {},
     "output_type": "execute_result"
    }
   ],
   "source": [
    "revenus = pd.DataFrame(data, columns = [\"harmonized\", \"openfisca\", \"aggregate\"])\n",
    "revenus.round(0).astype({\"aggregate\": int})"
   ]
  },
  {
   "cell_type": "markdown",
   "metadata": {
    "papermill": {
     "duration": 0.027245,
     "end_time": "2020-07-09T22:09:08.132852",
     "exception": false,
     "start_time": "2020-07-09T22:09:08.105607",
     "status": "completed"
    },
    "tags": []
   },
   "source": [
    "### Agregated income variables"
   ]
  },
  {
   "cell_type": "markdown",
   "metadata": {
    "papermill": {
     "duration": 0.030341,
     "end_time": "2020-07-09T22:09:08.193055",
     "exception": false,
     "start_time": "2020-07-09T22:09:08.162714",
     "status": "completed"
    },
    "tags": []
   },
   "source": [
    "#### CEQ agregated income variables"
   ]
  },
  {
   "cell_type": "code",
   "execution_count": 9,
   "metadata": {
    "execution": {
     "iopub.execute_input": "2020-07-09T22:09:08.256579Z",
     "iopub.status.busy": "2020-07-09T22:09:08.255434Z",
     "iopub.status.idle": "2020-07-09T22:09:08.257784Z",
     "shell.execute_reply": "2020-07-09T22:09:08.258605Z"
    },
    "papermill": {
     "duration": 0.035122,
     "end_time": "2020-07-09T22:09:08.258828",
     "exception": false,
     "start_time": "2020-07-09T22:09:08.223706",
     "status": "completed"
    },
    "tags": []
   },
   "outputs": [],
   "source": [
    "ceq_variables = [\"market_income\", \"market_income_plus_pensions\", \"pensions\", \"contributions_pensions\", \"net_market_income\", \"direct_taxes\", \"other_contributions\", \"contributions_health\", ]"
   ]
  },
  {
   "cell_type": "code",
   "execution_count": 10,
   "metadata": {
    "execution": {
     "iopub.execute_input": "2020-07-09T22:09:08.326777Z",
     "iopub.status.busy": "2020-07-09T22:09:08.326269Z",
     "iopub.status.idle": "2020-07-09T22:09:08.356191Z",
     "shell.execute_reply": "2020-07-09T22:09:08.356999Z"
    },
    "papermill": {
     "duration": 0.064849,
     "end_time": "2020-07-09T22:09:08.357150",
     "exception": false,
     "start_time": "2020-07-09T22:09:08.292301",
     "status": "completed"
    },
    "tags": []
   },
   "outputs": [
    {
     "data": {
      "text/html": [
       "<div>\n",
       "<style scoped>\n",
       "    .dataframe tbody tr th:only-of-type {\n",
       "        vertical-align: middle;\n",
       "    }\n",
       "\n",
       "    .dataframe tbody tr th {\n",
       "        vertical-align: top;\n",
       "    }\n",
       "\n",
       "    .dataframe thead th {\n",
       "        text-align: right;\n",
       "    }\n",
       "</style>\n",
       "<table border=\"1\" class=\"dataframe\">\n",
       "  <thead>\n",
       "    <tr style=\"text-align: right;\">\n",
       "      <th></th>\n",
       "      <th>aggregate</th>\n",
       "    </tr>\n",
       "  </thead>\n",
       "  <tbody>\n",
       "    <tr>\n",
       "      <th>market_income</th>\n",
       "      <td>2160</td>\n",
       "    </tr>\n",
       "    <tr>\n",
       "      <th>market_income_plus_pensions</th>\n",
       "      <td>2152</td>\n",
       "    </tr>\n",
       "    <tr>\n",
       "      <th>pensions</th>\n",
       "      <td>0</td>\n",
       "    </tr>\n",
       "    <tr>\n",
       "      <th>contributions_pensions</th>\n",
       "      <td>7</td>\n",
       "    </tr>\n",
       "    <tr>\n",
       "      <th>net_market_income</th>\n",
       "      <td>2142</td>\n",
       "    </tr>\n",
       "    <tr>\n",
       "      <th>direct_taxes</th>\n",
       "      <td>7</td>\n",
       "    </tr>\n",
       "    <tr>\n",
       "      <th>other_contributions</th>\n",
       "      <td>7</td>\n",
       "    </tr>\n",
       "    <tr>\n",
       "      <th>contributions_health</th>\n",
       "      <td>3</td>\n",
       "    </tr>\n",
       "  </tbody>\n",
       "</table>\n",
       "</div>"
      ],
      "text/plain": [
       "                             aggregate\n",
       "market_income                     2160\n",
       "market_income_plus_pensions       2152\n",
       "pensions                             0\n",
       "contributions_pensions               7\n",
       "net_market_income                 2142\n",
       "direct_taxes                         7\n",
       "other_contributions                  7\n",
       "contributions_health                 3"
      ]
     },
     "execution_count": 10,
     "metadata": {},
     "output_type": "execute_result"
    }
   ],
   "source": [
    "ceq_aggregates = pd.DataFrame(\n",
    "    index = ceq_variables,\n",
    "    columns = ['aggregate'],\n",
    "    data = [\n",
    "        survey_scenario.compute_aggregate(ceq_variable, period = year) / 1e9 \n",
    "        for ceq_variable in ceq_variables\n",
    "        ]\n",
    "    )\n",
    "ceq_aggregates.round(0).astype({\"aggregate\": int})"
   ]
  },
  {
   "cell_type": "markdown",
   "metadata": {
    "papermill": {
     "duration": 0.044468,
     "end_time": "2020-07-09T22:09:08.446711",
     "exception": false,
     "start_time": "2020-07-09T22:09:08.402243",
     "status": "completed"
    },
    "tags": []
   },
   "source": [
    "#### Direct check"
   ]
  },
  {
   "cell_type": "code",
   "execution_count": 11,
   "metadata": {
    "execution": {
     "iopub.execute_input": "2020-07-09T22:09:08.519998Z",
     "iopub.status.busy": "2020-07-09T22:09:08.518707Z",
     "iopub.status.idle": "2020-07-09T22:09:08.524305Z",
     "shell.execute_reply": "2020-07-09T22:09:08.525237Z"
    },
    "papermill": {
     "duration": 0.04493,
     "end_time": "2020-07-09T22:09:08.525493",
     "exception": false,
     "start_time": "2020-07-09T22:09:08.480563",
     "status": "completed"
    },
    "tags": []
   },
   "outputs": [],
   "source": [
    "income_components_summed_in_total = list(ceq_by_harmonized_variable.values()) \n",
    "# income_components_summed_in_total.remove(\"revenu_non_salarie_total\")\n",
    "income_components_summed_in_total.remove(\"direct_transfers\")\n",
    "income_components_summed_in_total.remove(\"salaire\")\n",
    "income_components_summed_in_total.remove(\"salaire_brut\")\n",
    "income_components_summed_in_total.remove(\"pension_retraite\")\n",
    "income_components_summed_in_total.remove('autres_revenus_du_capital')\n",
    "income_components_summed_in_total.remove('revenu_locatif')\n",
    "income_components_summed_in_total.remove('revenu_non_salarie') \n",
    "\n",
    "total_income = sum(\n",
    "    survey_scenario.compute_aggregate(income_component, period = survey_scenario.year) \n",
    "    for income_component in income_components_summed_in_total\n",
    "    ) \n",
    "total_income = (\n",
    "    total_income \n",
    "    - survey_scenario.compute_aggregate(\"contributions_pensions\", period = survey_scenario.year)\n",
    "    ) / 1e9\n"
   ]
  },
  {
   "cell_type": "code",
   "execution_count": 12,
   "metadata": {
    "execution": {
     "iopub.execute_input": "2020-07-09T22:09:08.595735Z",
     "iopub.status.busy": "2020-07-09T22:09:08.595184Z",
     "iopub.status.idle": "2020-07-09T22:09:08.597739Z",
     "shell.execute_reply": "2020-07-09T22:09:08.597368Z"
    },
    "papermill": {
     "duration": 0.037624,
     "end_time": "2020-07-09T22:09:08.597820",
     "exception": false,
     "start_time": "2020-07-09T22:09:08.560196",
     "status": "completed"
    },
    "tags": []
   },
   "outputs": [],
   "source": [
    "from numpy.testing import assert_almost_equal\n",
    "assert_almost_equal(ceq_aggregates.loc['market_income_plus_pensions'].values, total_income, decimal = 5) \n",
    "# print('market_income_plus_pensions = {} vs {} = total_income'.format(\n",
    "#         ceq_aggregates.loc['market_income_plus_pensions'].values,\n",
    "#         total_income\n",
    "#         )\n",
    "#     )\n"
   ]
  },
  {
   "cell_type": "markdown",
   "metadata": {
    "papermill": {
     "duration": 0.026893,
     "end_time": "2020-07-09T22:09:08.658969",
     "exception": false,
     "start_time": "2020-07-09T22:09:08.632076",
     "status": "completed"
    },
    "tags": []
   },
   "source": [
    "#### Wages by public/private sector"
   ]
  },
  {
   "cell_type": "code",
   "execution_count": 13,
   "metadata": {
    "execution": {
     "iopub.execute_input": "2020-07-09T22:09:08.724143Z",
     "iopub.status.busy": "2020-07-09T22:09:08.722588Z",
     "iopub.status.idle": "2020-07-09T22:09:08.727875Z",
     "shell.execute_reply": "2020-07-09T22:09:08.728880Z"
    },
    "papermill": {
     "duration": 0.042811,
     "end_time": "2020-07-09T22:09:08.729209",
     "exception": false,
     "start_time": "2020-07-09T22:09:08.686398",
     "status": "completed"
    },
    "tags": []
   },
   "outputs": [
    {
     "data": {
      "text/plain": [
       "'Count : 77306.0'"
      ]
     },
     "execution_count": 13,
     "metadata": {},
     "output_type": "execute_result"
    }
   ],
   "source": [
    "\"Count : {}\".format(round(\n",
    "    survey_scenario.compute_aggregate(\"secteur_public\", period = year)\n",
    "    ))"
   ]
  },
  {
   "cell_type": "code",
   "execution_count": 14,
   "metadata": {
    "execution": {
     "iopub.execute_input": "2020-07-09T22:09:08.798536Z",
     "iopub.status.busy": "2020-07-09T22:09:08.797659Z",
     "iopub.status.idle": "2020-07-09T22:09:08.856460Z",
     "shell.execute_reply": "2020-07-09T22:09:08.857330Z"
    },
    "papermill": {
     "duration": 0.097717,
     "end_time": "2020-07-09T22:09:08.857561",
     "exception": false,
     "start_time": "2020-07-09T22:09:08.759844",
     "status": "completed"
    },
    "tags": []
   },
   "outputs": [
    {
     "data": {
      "text/html": [
       "<div>\n",
       "<style scoped>\n",
       "    .dataframe tbody tr th:only-of-type {\n",
       "        vertical-align: middle;\n",
       "    }\n",
       "\n",
       "    .dataframe tbody tr th {\n",
       "        vertical-align: top;\n",
       "    }\n",
       "\n",
       "    .dataframe thead th {\n",
       "        text-align: right;\n",
       "    }\n",
       "</style>\n",
       "<table border=\"1\" class=\"dataframe\">\n",
       "  <thead>\n",
       "    <tr style=\"text-align: right;\">\n",
       "      <th>secteur_public</th>\n",
       "      <th>False</th>\n",
       "      <th>True</th>\n",
       "    </tr>\n",
       "  </thead>\n",
       "  <tbody>\n",
       "    <tr>\n",
       "      <th>salaire</th>\n",
       "      <td>40</td>\n",
       "      <td>28</td>\n",
       "    </tr>\n",
       "    <tr>\n",
       "      <th>salaire_brut</th>\n",
       "      <td>48</td>\n",
       "      <td>33</td>\n",
       "    </tr>\n",
       "    <tr>\n",
       "      <th>salaire_super_brut</th>\n",
       "      <td>57</td>\n",
       "      <td>39</td>\n",
       "    </tr>\n",
       "  </tbody>\n",
       "</table>\n",
       "</div>"
      ],
      "text/plain": [
       "secteur_public      False  True \n",
       "salaire                40     28\n",
       "salaire_brut           48     33\n",
       "salaire_super_brut     57     39"
      ]
     },
     "execution_count": 14,
     "metadata": {},
     "output_type": "execute_result"
    }
   ],
   "source": [
    "(\n",
    "    survey_scenario.compute_pivot_table(\n",
    "        columns = [\"secteur_public\"], \n",
    "        values = [\"salaire\", \"salaire_brut\", \"salaire_super_brut\"],\n",
    "        aggfunc = \"sum\",\n",
    "        period = year,\n",
    "        concat_axis = 0,\n",
    "        ) / 1e9\n",
    "    ).round(0).astype(int)"
   ]
  },
  {
   "cell_type": "markdown",
   "metadata": {
    "papermill": {
     "duration": 0.029325,
     "end_time": "2020-07-09T22:09:08.922386",
     "exception": false,
     "start_time": "2020-07-09T22:09:08.893061",
     "status": "completed"
    },
    "tags": []
   },
   "source": [
    "## Education variables"
   ]
  },
  {
   "cell_type": "markdown",
   "metadata": {
    "papermill": {
     "duration": 0.027346,
     "end_time": "2020-07-09T22:09:08.981491",
     "exception": false,
     "start_time": "2020-07-09T22:09:08.954145",
     "status": "completed"
    },
    "tags": []
   },
   "source": [
    "### Counts (in millions)"
   ]
  },
  {
   "cell_type": "code",
   "execution_count": 15,
   "metadata": {
    "execution": {
     "iopub.execute_input": "2020-07-09T22:09:09.049553Z",
     "iopub.status.busy": "2020-07-09T22:09:09.048416Z",
     "iopub.status.idle": "2020-07-09T22:09:09.073038Z",
     "shell.execute_reply": "2020-07-09T22:09:09.072119Z"
    },
    "papermill": {
     "duration": 0.063302,
     "end_time": "2020-07-09T22:09:09.073253",
     "exception": false,
     "start_time": "2020-07-09T22:09:09.009951",
     "status": "completed"
    },
    "tags": []
   },
   "outputs": [
    {
     "name": "stdout",
     "output_type": "stream",
     "text": [
      "eleve_enseignement_niveau  -1.0   0.0   1.0   2.0   3.0\n",
      "eleve_enseignement_public                              \n",
      "1.0                        12.4  0.11  1.77  1.27  0.12\n"
     ]
    }
   ],
   "source": [
    "print((survey_scenario.compute_pivot_table(columns = ['eleve_enseignement_niveau'], index = ['eleve_enseignement_public'], aggfunc = 'count', period = survey_scenario.year) / 1e6).round(2))"
   ]
  },
  {
   "cell_type": "code",
   "execution_count": 16,
   "metadata": {
    "execution": {
     "iopub.execute_input": "2020-07-09T22:09:09.148884Z",
     "iopub.status.busy": "2020-07-09T22:09:09.147479Z",
     "iopub.status.idle": "2020-07-09T22:09:09.163704Z",
     "shell.execute_reply": "2020-07-09T22:09:09.162718Z"
    },
    "papermill": {
     "duration": 0.05504,
     "end_time": "2020-07-09T22:09:09.163873",
     "exception": false,
     "start_time": "2020-07-09T22:09:09.108833",
     "status": "completed"
    },
    "tags": []
   },
   "outputs": [
    {
     "name": "stdout",
     "output_type": "stream",
     "text": [
      "In kind education tranfers\n",
      "pre_school_person: 0 billions FCFA\n",
      "pre_school: 0 billions FCFA\n",
      "primary_education_person: 116 billions FCFA\n",
      "primary_education: 116 billions FCFA\n",
      "secondary_education_person: 155 billions FCFA\n",
      "secondary_education: 155 billions FCFA\n",
      "tertiary_education_person: 14 billions FCFA\n",
      "tertiary_education: 14 billions FCFA\n",
      "education_net_transfers: 284 billions FCFA\n"
     ]
    }
   ],
   "source": [
    "variables = [\n",
    "    'pre_school_person',\n",
    "    'pre_school',\n",
    "    'primary_education_person',\n",
    "    'primary_education',\n",
    "    'secondary_education_person',\n",
    "    'secondary_education',\n",
    "    'tertiary_education_person',\n",
    "    'tertiary_education',\n",
    "    'education_net_transfers',\n",
    "    ]\n",
    "print(\"In kind education tranfers\")\n",
    "for variable in variables:\n",
    "    print(\n",
    "        \"{variable}: {aggregate} billions FCFA\".format(\n",
    "            variable = variable,\n",
    "            aggregate = int(round(survey_scenario.compute_aggregate(variable, period = survey_scenario.year) / 1e9))\n",
    "            )\n",
    "        )"
   ]
  },
  {
   "cell_type": "markdown",
   "metadata": {
    "papermill": {
     "duration": 0.027861,
     "end_time": "2020-07-09T22:09:09.228014",
     "exception": false,
     "start_time": "2020-07-09T22:09:09.200153",
     "status": "completed"
    },
    "tags": []
   },
   "source": [
    "## Inflating income and consumption"
   ]
  },
  {
   "cell_type": "code",
   "execution_count": 17,
   "metadata": {
    "execution": {
     "iopub.execute_input": "2020-07-09T22:09:09.293204Z",
     "iopub.status.busy": "2020-07-09T22:09:09.292685Z",
     "iopub.status.idle": "2020-07-09T22:09:13.099094Z",
     "shell.execute_reply": "2020-07-09T22:09:13.099792Z"
    },
    "papermill": {
     "duration": 3.842837,
     "end_time": "2020-07-09T22:09:13.099939",
     "exception": false,
     "start_time": "2020-07-09T22:09:09.257102",
     "status": "completed"
    },
    "tags": []
   },
   "outputs": [],
   "source": [
    "inflated_survey_scenario = build_ceq_survey_scenario(\n",
    "    legislation_country = country, \n",
    "    year = year,\n",
    "    inflate = True,\n",
    "    )"
   ]
  },
  {
   "cell_type": "code",
   "execution_count": 18,
   "metadata": {
    "execution": {
     "iopub.execute_input": "2020-07-09T22:09:13.193322Z",
     "iopub.status.busy": "2020-07-09T22:09:13.192406Z",
     "iopub.status.idle": "2020-07-09T22:09:13.195232Z",
     "shell.execute_reply": "2020-07-09T22:09:13.195977Z"
    },
    "papermill": {
     "duration": 0.050508,
     "end_time": "2020-07-09T22:09:13.196218",
     "exception": false,
     "start_time": "2020-07-09T22:09:13.145710",
     "status": "completed"
    },
    "tags": []
   },
   "outputs": [
    {
     "name": "stderr",
     "output_type": "stream",
     "text": [
      "ERROR:root:No traceback has been produced, nothing to debug.\n"
     ]
    }
   ],
   "source": [
    "%debug"
   ]
  },
  {
   "cell_type": "code",
   "execution_count": 19,
   "metadata": {
    "execution": {
     "iopub.execute_input": "2020-07-09T22:09:13.267529Z",
     "iopub.status.busy": "2020-07-09T22:09:13.266935Z",
     "iopub.status.idle": "2020-07-09T22:09:13.327951Z",
     "shell.execute_reply": "2020-07-09T22:09:13.329197Z"
    },
    "papermill": {
     "duration": 0.100201,
     "end_time": "2020-07-09T22:09:13.329422",
     "exception": false,
     "start_time": "2020-07-09T22:09:13.229221",
     "status": "completed"
    },
    "tags": []
   },
   "outputs": [
    {
     "data": {
      "text/plain": [
       "'5630.075 == 5630.074895680164'"
      ]
     },
     "metadata": {},
     "output_type": "display_data"
    }
   ],
   "source": [
    "from openfisca_ceq.tools.data.income_targets import read_target\n",
    "gross_value_added = read_target(country, \"gross_value_added\") / 1e9\n",
    "gross_value_added_computed = sum(inflated_survey_scenario.compute_aggregate(income_variable, period = year) / 1e9\n",
    "    for income_variable in inflated_survey_scenario.income_variables\n",
    "    )\n",
    "display(\"{} == {}\".format(gross_value_added, gross_value_added_computed))"
   ]
  },
  {
   "cell_type": "markdown",
   "metadata": {
    "papermill": {
     "duration": 0.031921,
     "end_time": "2020-07-09T22:09:13.426699",
     "exception": false,
     "start_time": "2020-07-09T22:09:13.394778",
     "status": "completed"
    },
    "tags": []
   },
   "source": [
    "## Tax variables"
   ]
  },
  {
   "cell_type": "markdown",
   "metadata": {
    "papermill": {
     "duration": 0.029315,
     "end_time": "2020-07-09T22:09:13.486275",
     "exception": false,
     "start_time": "2020-07-09T22:09:13.456960",
     "status": "completed"
    },
    "tags": []
   },
   "source": [
    "### Direct taxes variables"
   ]
  },
  {
   "cell_type": "code",
   "execution_count": 20,
   "metadata": {
    "execution": {
     "iopub.execute_input": "2020-07-09T22:09:13.558770Z",
     "iopub.status.busy": "2020-07-09T22:09:13.557699Z",
     "iopub.status.idle": "2020-07-09T22:09:13.587263Z",
     "shell.execute_reply": "2020-07-09T22:09:13.587768Z"
    },
    "papermill": {
     "duration": 0.071936,
     "end_time": "2020-07-09T22:09:13.587916",
     "exception": false,
     "start_time": "2020-07-09T22:09:13.515980",
     "status": "completed"
    },
    "tags": []
   },
   "outputs": [
    {
     "data": {
      "text/html": [
       "<div>\n",
       "<style scoped>\n",
       "    .dataframe tbody tr th:only-of-type {\n",
       "        vertical-align: middle;\n",
       "    }\n",
       "\n",
       "    .dataframe tbody tr th {\n",
       "        vertical-align: top;\n",
       "    }\n",
       "\n",
       "    .dataframe thead th {\n",
       "        text-align: right;\n",
       "    }\n",
       "</style>\n",
       "<table border=\"1\" class=\"dataframe\">\n",
       "  <thead>\n",
       "    <tr style=\"text-align: right;\">\n",
       "      <th></th>\n",
       "      <th>aggregate</th>\n",
       "      <th>inflated_aggregate</th>\n",
       "    </tr>\n",
       "  </thead>\n",
       "  <tbody>\n",
       "    <tr>\n",
       "      <th>impot_traitement_salaire</th>\n",
       "      <td>7</td>\n",
       "      <td>38.0</td>\n",
       "    </tr>\n",
       "  </tbody>\n",
       "</table>\n",
       "</div>"
      ],
      "text/plain": [
       "                          aggregate  inflated_aggregate\n",
       "impot_traitement_salaire          7                38.0"
      ]
     },
     "execution_count": 20,
     "metadata": {},
     "output_type": "execute_result"
    }
   ],
   "source": [
    "from openfisca_ceq.tools.data.tax_targets import detailed_taxes_by_country, build_country_result\n",
    "direct_taxes_variables = detailed_taxes_by_country[country]\n",
    "\n",
    "direct_taxes = pd.concat(\n",
    "    [\n",
    "        pd.DataFrame(\n",
    "            index = direct_taxes_variables,\n",
    "            columns = ['aggregate'],\n",
    "            data = [\n",
    "                survey_scenario.compute_aggregate(variable, period = year) / 1e9 \n",
    "                for variable in direct_taxes_variables\n",
    "                ],\n",
    "            ),\n",
    "        pd.DataFrame(\n",
    "            index = direct_taxes_variables,\n",
    "            columns = ['inflated_aggregate'],\n",
    "            data = [\n",
    "                    inflated_survey_scenario.compute_aggregate(variable, period = year) / 1e9 \n",
    "                for variable in direct_taxes_variables\n",
    "                ],\n",
    "            )\n",
    "        ],\n",
    "    axis = 1\n",
    ")\n",
    "\n",
    "direct_taxes.round().astype({\"aggregate\": int})"
   ]
  },
  {
   "cell_type": "code",
   "execution_count": 21,
   "metadata": {
    "execution": {
     "iopub.execute_input": "2020-07-09T22:09:13.690286Z",
     "iopub.status.busy": "2020-07-09T22:09:13.689688Z",
     "iopub.status.idle": "2020-07-09T22:09:13.780651Z",
     "shell.execute_reply": "2020-07-09T22:09:13.781571Z"
    },
    "papermill": {
     "duration": 0.144748,
     "end_time": "2020-07-09T22:09:13.781838",
     "exception": false,
     "start_time": "2020-07-09T22:09:13.637090",
     "status": "completed"
    },
    "tags": []
   },
   "outputs": [
    {
     "data": {
      "text/html": [
       "<div>\n",
       "<style scoped>\n",
       "    .dataframe tbody tr th:only-of-type {\n",
       "        vertical-align: middle;\n",
       "    }\n",
       "\n",
       "    .dataframe tbody tr th {\n",
       "        vertical-align: top;\n",
       "    }\n",
       "\n",
       "    .dataframe thead tr th {\n",
       "        text-align: left;\n",
       "    }\n",
       "</style>\n",
       "<table border=\"1\" class=\"dataframe\">\n",
       "  <thead>\n",
       "    <tr>\n",
       "      <th></th>\n",
       "      <th colspan=\"3\" halign=\"left\">Mali</th>\n",
       "    </tr>\n",
       "    <tr>\n",
       "      <th></th>\n",
       "      <th>actual</th>\n",
       "      <th>direct</th>\n",
       "      <th>inflated</th>\n",
       "    </tr>\n",
       "  </thead>\n",
       "  <tbody>\n",
       "    <tr>\n",
       "      <th>Total tax revenue</th>\n",
       "      <td>873.9</td>\n",
       "      <td>NaN</td>\n",
       "      <td>NaN</td>\n",
       "    </tr>\n",
       "    <tr>\n",
       "      <th>Direct taxes</th>\n",
       "      <td>307.5</td>\n",
       "      <td>7.4</td>\n",
       "      <td>37.7</td>\n",
       "    </tr>\n",
       "    <tr>\n",
       "      <th>Personal Income Taxes</th>\n",
       "      <td>57.6</td>\n",
       "      <td>7.4</td>\n",
       "      <td>37.7</td>\n",
       "    </tr>\n",
       "    <tr>\n",
       "      <th>Social Security Contributions</th>\n",
       "      <td>86.7</td>\n",
       "      <td>NaN</td>\n",
       "      <td>NaN</td>\n",
       "    </tr>\n",
       "    <tr>\n",
       "      <th>Corporate Income Tax</th>\n",
       "      <td>113.3</td>\n",
       "      <td>0.0</td>\n",
       "      <td>0.0</td>\n",
       "    </tr>\n",
       "    <tr>\n",
       "      <th>Other Direct Taxes</th>\n",
       "      <td>49.9</td>\n",
       "      <td>NaN</td>\n",
       "      <td>NaN</td>\n",
       "    </tr>\n",
       "    <tr>\n",
       "      <th>Indirect taxes</th>\n",
       "      <td>566.4</td>\n",
       "      <td>228.6</td>\n",
       "      <td>381.2</td>\n",
       "    </tr>\n",
       "    <tr>\n",
       "      <th>VAT</th>\n",
       "      <td>282.2</td>\n",
       "      <td>207.6</td>\n",
       "      <td>346.2</td>\n",
       "    </tr>\n",
       "    <tr>\n",
       "      <th>Import Taxes</th>\n",
       "      <td>112.1</td>\n",
       "      <td>21.0</td>\n",
       "      <td>35.1</td>\n",
       "    </tr>\n",
       "    <tr>\n",
       "      <th>Excise taxes</th>\n",
       "      <td>16.1</td>\n",
       "      <td>0.0</td>\n",
       "      <td>0.0</td>\n",
       "    </tr>\n",
       "    <tr>\n",
       "      <th>on Oil Derivates</th>\n",
       "      <td>4.7</td>\n",
       "      <td>NaN</td>\n",
       "      <td>NaN</td>\n",
       "    </tr>\n",
       "    <tr>\n",
       "      <th>on alcohol, tabac and other non-oil derivatives</th>\n",
       "      <td>11.4</td>\n",
       "      <td>NaN</td>\n",
       "      <td>NaN</td>\n",
       "    </tr>\n",
       "    <tr>\n",
       "      <th>Other Indirect Taxes</th>\n",
       "      <td>156.0</td>\n",
       "      <td>NaN</td>\n",
       "      <td>NaN</td>\n",
       "    </tr>\n",
       "    <tr>\n",
       "      <th>Share simulated taxes (% of total tax revenue)</th>\n",
       "      <td>NaN</td>\n",
       "      <td>NaN</td>\n",
       "      <td>NaN</td>\n",
       "    </tr>\n",
       "    <tr>\n",
       "      <th>impot_traitement_salaire</th>\n",
       "      <td>NaN</td>\n",
       "      <td>7.4</td>\n",
       "      <td>37.7</td>\n",
       "    </tr>\n",
       "    <tr>\n",
       "      <th>total_ht_imports</th>\n",
       "      <td>NaN</td>\n",
       "      <td>346.1</td>\n",
       "      <td>577.2</td>\n",
       "    </tr>\n",
       "  </tbody>\n",
       "</table>\n",
       "</div>"
      ],
      "text/plain": [
       "                                                  Mali                \n",
       "                                                actual direct inflated\n",
       "Total tax revenue                                873.9    NaN      NaN\n",
       "Direct taxes                                     307.5    7.4     37.7\n",
       "Personal Income Taxes                             57.6    7.4     37.7\n",
       "Social Security Contributions                     86.7    NaN      NaN\n",
       "Corporate Income Tax                             113.3    0.0      0.0\n",
       "Other Direct Taxes                                49.9    NaN      NaN\n",
       "Indirect taxes                                   566.4  228.6    381.2\n",
       "VAT                                              282.2  207.6    346.2\n",
       "Import Taxes                                     112.1   21.0     35.1\n",
       "Excise taxes                                      16.1    0.0      0.0\n",
       "on Oil Derivates                                   4.7    NaN      NaN\n",
       "on alcohol, tabac and other non-oil derivatives   11.4    NaN      NaN\n",
       "Other Indirect Taxes                             156.0    NaN      NaN\n",
       "Share simulated taxes (% of total tax revenue)     NaN    NaN      NaN\n",
       "impot_traitement_salaire                           NaN    7.4     37.7\n",
       "total_ht_imports                                   NaN  346.1    577.2"
      ]
     },
     "execution_count": 21,
     "metadata": {},
     "output_type": "execute_result"
    }
   ],
   "source": [
    "build_country_result(survey_scenario, inflated_survey_scenario, add_country_details = True)"
   ]
  },
  {
   "cell_type": "markdown",
   "metadata": {
    "papermill": {
     "duration": 0.030937,
     "end_time": "2020-07-09T22:09:13.847208",
     "exception": false,
     "start_time": "2020-07-09T22:09:13.816271",
     "status": "completed"
    },
    "tags": []
   },
   "source": [
    "### Indirect tax variables"
   ]
  },
  {
   "cell_type": "code",
   "execution_count": 22,
   "metadata": {
    "execution": {
     "iopub.execute_input": "2020-07-09T22:09:13.918263Z",
     "iopub.status.busy": "2020-07-09T22:09:13.917144Z",
     "iopub.status.idle": "2020-07-09T22:09:13.921632Z",
     "shell.execute_reply": "2020-07-09T22:09:13.922401Z"
    },
    "papermill": {
     "duration": 0.04363,
     "end_time": "2020-07-09T22:09:13.922614",
     "exception": false,
     "start_time": "2020-07-09T22:09:13.878984",
     "status": "completed"
    },
    "tags": []
   },
   "outputs": [
    {
     "data": {
      "text/plain": [
       "['depenses_ht_tva_exonere',\n",
       " 'depenses_ht_tva_taux_normal',\n",
       " 'tva_taux_normal',\n",
       " 'tva',\n",
       " 'depenses_ht_hd_sd_droits_douane_biens_specifiques',\n",
       " 'depenses_ht_hd_sd_droits_douane_consommation_finale',\n",
       " 'depenses_ht_hd_sd_droits_douane_consommation_intermediaire',\n",
       " 'depenses_ht_hd_sd_droits_douane_equipements',\n",
       " 'depenses_ht_hd_sd_droits_douane_exonere',\n",
       " 'droits_douane_biens_specifiques',\n",
       " 'droits_douane_consommation_finale',\n",
       " 'droits_douane_consommation_intermediaire',\n",
       " 'droits_douane_equipements',\n",
       " 'droits_douane']"
      ]
     },
     "execution_count": 22,
     "metadata": {},
     "output_type": "execute_result"
    }
   ],
   "source": [
    "indirect_tax_variables = [\n",
    "    variable \n",
    "    for tax in indirect_tax_by_country[country]\n",
    "    for variable in survey_scenario.tax_benefit_system.variables.keys() \n",
    "    if tax in variable \n",
    "    ]\n",
    "indirect_tax_variables"
   ]
  },
  {
   "cell_type": "code",
   "execution_count": 23,
   "metadata": {
    "execution": {
     "iopub.execute_input": "2020-07-09T22:09:13.994810Z",
     "iopub.status.busy": "2020-07-09T22:09:13.994116Z",
     "iopub.status.idle": "2020-07-09T22:09:14.009798Z",
     "shell.execute_reply": "2020-07-09T22:09:14.010164Z"
    },
    "papermill": {
     "duration": 0.051304,
     "end_time": "2020-07-09T22:09:14.010282",
     "exception": false,
     "start_time": "2020-07-09T22:09:13.958978",
     "status": "completed"
    },
    "tags": []
   },
   "outputs": [
    {
     "data": {
      "text/html": [
       "<div>\n",
       "<style scoped>\n",
       "    .dataframe tbody tr th:only-of-type {\n",
       "        vertical-align: middle;\n",
       "    }\n",
       "\n",
       "    .dataframe tbody tr th {\n",
       "        vertical-align: top;\n",
       "    }\n",
       "\n",
       "    .dataframe thead th {\n",
       "        text-align: right;\n",
       "    }\n",
       "</style>\n",
       "<table border=\"1\" class=\"dataframe\">\n",
       "  <thead>\n",
       "    <tr style=\"text-align: right;\">\n",
       "      <th></th>\n",
       "      <th>aggregate</th>\n",
       "    </tr>\n",
       "  </thead>\n",
       "  <tbody>\n",
       "    <tr>\n",
       "      <th>depenses_ht_tva_exonere</th>\n",
       "      <td>1208</td>\n",
       "    </tr>\n",
       "    <tr>\n",
       "      <th>depenses_ht_tva_taux_normal</th>\n",
       "      <td>1153</td>\n",
       "    </tr>\n",
       "    <tr>\n",
       "      <th>tva_taux_normal</th>\n",
       "      <td>208</td>\n",
       "    </tr>\n",
       "    <tr>\n",
       "      <th>tva</th>\n",
       "      <td>208</td>\n",
       "    </tr>\n",
       "    <tr>\n",
       "      <th>depenses_ht_hd_sd_droits_douane_biens_specifiques</th>\n",
       "      <td>2</td>\n",
       "    </tr>\n",
       "    <tr>\n",
       "      <th>depenses_ht_hd_sd_droits_douane_consommation_finale</th>\n",
       "      <td>57</td>\n",
       "    </tr>\n",
       "    <tr>\n",
       "      <th>depenses_ht_hd_sd_droits_douane_consommation_intermediaire</th>\n",
       "      <td>84</td>\n",
       "    </tr>\n",
       "    <tr>\n",
       "      <th>depenses_ht_hd_sd_droits_douane_equipements</th>\n",
       "      <td>9</td>\n",
       "    </tr>\n",
       "    <tr>\n",
       "      <th>depenses_ht_hd_sd_droits_douane_exonere</th>\n",
       "      <td>173</td>\n",
       "    </tr>\n",
       "    <tr>\n",
       "      <th>droits_douane_biens_specifiques</th>\n",
       "      <td>1</td>\n",
       "    </tr>\n",
       "    <tr>\n",
       "      <th>droits_douane_consommation_finale</th>\n",
       "      <td>11</td>\n",
       "    </tr>\n",
       "    <tr>\n",
       "      <th>droits_douane_consommation_intermediaire</th>\n",
       "      <td>8</td>\n",
       "    </tr>\n",
       "    <tr>\n",
       "      <th>droits_douane_equipements</th>\n",
       "      <td>0</td>\n",
       "    </tr>\n",
       "    <tr>\n",
       "      <th>droits_douane</th>\n",
       "      <td>21</td>\n",
       "    </tr>\n",
       "  </tbody>\n",
       "</table>\n",
       "</div>"
      ],
      "text/plain": [
       "                                                    aggregate\n",
       "depenses_ht_tva_exonere                                  1208\n",
       "depenses_ht_tva_taux_normal                              1153\n",
       "tva_taux_normal                                           208\n",
       "tva                                                       208\n",
       "depenses_ht_hd_sd_droits_douane_biens_specifiques           2\n",
       "depenses_ht_hd_sd_droits_douane_consommation_fi...         57\n",
       "depenses_ht_hd_sd_droits_douane_consommation_in...         84\n",
       "depenses_ht_hd_sd_droits_douane_equipements                 9\n",
       "depenses_ht_hd_sd_droits_douane_exonere                   173\n",
       "droits_douane_biens_specifiques                             1\n",
       "droits_douane_consommation_finale                          11\n",
       "droits_douane_consommation_intermediaire                    8\n",
       "droits_douane_equipements                                   0\n",
       "droits_douane                                              21"
      ]
     },
     "execution_count": 23,
     "metadata": {},
     "output_type": "execute_result"
    }
   ],
   "source": [
    "taxes_and_tariffs = pd.DataFrame(\n",
    "    index = indirect_tax_variables,\n",
    "    columns = ['aggregate'],\n",
    "    data = [\n",
    "        survey_scenario.compute_aggregate(variable, period = year) / 1e9 \n",
    "        for variable in indirect_tax_variables\n",
    "        ]\n",
    "    )\n",
    "taxes_and_tariffs.round().astype({\"aggregate\": int})"
   ]
  },
  {
   "cell_type": "markdown",
   "metadata": {
    "papermill": {
     "duration": 0.031745,
     "end_time": "2020-07-09T22:09:14.073250",
     "exception": false,
     "start_time": "2020-07-09T22:09:14.041505",
     "status": "completed"
    },
    "tags": []
   },
   "source": [
    "### Verify consumption"
   ]
  },
  {
   "cell_type": "code",
   "execution_count": 24,
   "metadata": {
    "execution": {
     "iopub.execute_input": "2020-07-09T22:09:14.140304Z",
     "iopub.status.busy": "2020-07-09T22:09:14.139620Z",
     "iopub.status.idle": "2020-07-09T22:09:14.144391Z",
     "shell.execute_reply": "2020-07-09T22:09:14.144732Z"
    },
    "papermill": {
     "duration": 0.039678,
     "end_time": "2020-07-09T22:09:14.144840",
     "exception": false,
     "start_time": "2020-07-09T22:09:14.105162",
     "status": "completed"
    },
    "tags": []
   },
   "outputs": [
    {
     "data": {
      "text/plain": [
       "2568.5555171247443"
      ]
     },
     "execution_count": 24,
     "metadata": {},
     "output_type": "execute_result"
    }
   ],
   "source": [
    "consumption = survey_scenario.compute_aggregate('consumption', period = year) / 1e9\n",
    "consumption"
   ]
  },
  {
   "cell_type": "code",
   "execution_count": 25,
   "metadata": {
    "execution": {
     "iopub.execute_input": "2020-07-09T22:09:14.217839Z",
     "iopub.status.busy": "2020-07-09T22:09:14.217411Z",
     "iopub.status.idle": "2020-07-09T22:09:14.221091Z",
     "shell.execute_reply": "2020-07-09T22:09:14.221427Z"
    },
    "papermill": {
     "duration": 0.039037,
     "end_time": "2020-07-09T22:09:14.221537",
     "exception": false,
     "start_time": "2020-07-09T22:09:14.182500",
     "status": "completed"
    },
    "tags": []
   },
   "outputs": [
    {
     "data": {
      "text/plain": [
       "2568.555589489342"
      ]
     },
     "execution_count": 25,
     "metadata": {},
     "output_type": "execute_result"
    }
   ],
   "source": [
    "# assert consumption == \n",
    "sum(taxes_and_tariffs['aggregate'][\n",
    "    taxes_and_tariffs.index.str.contains('tva_')\n",
    "    ])"
   ]
  },
  {
   "cell_type": "code",
   "execution_count": 26,
   "metadata": {
    "execution": {
     "iopub.execute_input": "2020-07-09T22:09:14.301929Z",
     "iopub.status.busy": "2020-07-09T22:09:14.301444Z",
     "iopub.status.idle": "2020-07-09T22:09:14.316954Z",
     "shell.execute_reply": "2020-07-09T22:09:14.317863Z"
    },
    "papermill": {
     "duration": 0.058174,
     "end_time": "2020-07-09T22:09:14.318102",
     "exception": false,
     "start_time": "2020-07-09T22:09:14.259928",
     "status": "completed"
    },
    "tags": []
   },
   "outputs": [
    {
     "data": {
      "text/plain": [
       "2568.555619351711"
      ]
     },
     "execution_count": 26,
     "metadata": {},
     "output_type": "execute_result"
    }
   ],
   "source": [
    "# assert consumption == \n",
    "(\n",
    "    sum(\n",
    "        survey_scenario.compute_aggregate(variable, period = year)\n",
    "        for variable in survey_scenario.tax_benefit_system.variables\n",
    "        if \"depenses_ht_hd_poste\" in variable \n",
    "        ) \n",
    "    + survey_scenario.compute_aggregate(\"droits_douane\", period = year)\n",
    "    + survey_scenario.compute_aggregate(\"tva\", period = year)\n",
    "    ) / 1e9"
   ]
  },
  {
   "cell_type": "markdown",
   "metadata": {
    "papermill": {
     "duration": 0.03201,
     "end_time": "2020-07-09T22:09:14.387038",
     "exception": false,
     "start_time": "2020-07-09T22:09:14.355028",
     "status": "completed"
    },
    "tags": []
   },
   "source": [
    "# Inflate incomes   "
   ]
  },
  {
   "cell_type": "markdown",
   "metadata": {
    "papermill": {
     "duration": 0.033,
     "end_time": "2020-07-09T22:09:14.451792",
     "exception": false,
     "start_time": "2020-07-09T22:09:14.418792",
     "status": "completed"
    },
    "tags": []
   },
   "source": [
    "## Income variables"
   ]
  },
  {
   "cell_type": "code",
   "execution_count": 27,
   "metadata": {
    "execution": {
     "iopub.execute_input": "2020-07-09T22:09:14.522907Z",
     "iopub.status.busy": "2020-07-09T22:09:14.522469Z",
     "iopub.status.idle": "2020-07-09T22:09:14.525067Z",
     "shell.execute_reply": "2020-07-09T22:09:14.525537Z"
    },
    "papermill": {
     "duration": 0.041467,
     "end_time": "2020-07-09T22:09:14.525753",
     "exception": false,
     "start_time": "2020-07-09T22:09:14.484286",
     "status": "completed"
    },
    "tags": []
   },
   "outputs": [],
   "source": [
    "income_variables = [\n",
    "    'autoconsumption',\n",
    "    'other_income',\n",
    "    'gifts_sales_durables',\n",
    "    'imputed_rent',\n",
    "    'revenu_agricole',\n",
    "    'autres_revenus_du_capital',\n",
    "    'revenu_informel_non_salarie',\n",
    "    'revenu_non_salarie',\n",
    "    'revenu_locatif',\n",
    "    'pension_retraite',\n",
    "    'salaire_super_brut',\n",
    "    ]"
   ]
  },
  {
   "cell_type": "code",
   "execution_count": 28,
   "metadata": {
    "execution": {
     "iopub.execute_input": "2020-07-09T22:09:14.606892Z",
     "iopub.status.busy": "2020-07-09T22:09:14.606033Z",
     "iopub.status.idle": "2020-07-09T22:09:14.615328Z",
     "shell.execute_reply": "2020-07-09T22:09:14.616283Z"
    },
    "papermill": {
     "duration": 0.052138,
     "end_time": "2020-07-09T22:09:14.616528",
     "exception": false,
     "start_time": "2020-07-09T22:09:14.564390",
     "status": "completed"
    },
    "tags": []
   },
   "outputs": [
    {
     "data": {
      "text/plain": [
       "1970.8831206826194"
      ]
     },
     "execution_count": 28,
     "metadata": {},
     "output_type": "execute_result"
    }
   ],
   "source": [
    "sum(\n",
    "    survey_scenario.compute_aggregate(income_variable, period = year)\n",
    "    for income_variable in income_variables\n",
    "    ) / 1e9"
   ]
  },
  {
   "cell_type": "code",
   "execution_count": null,
   "metadata": {
    "papermill": {
     "duration": 0.035163,
     "end_time": "2020-07-09T22:09:14.690205",
     "exception": false,
     "start_time": "2020-07-09T22:09:14.655042",
     "status": "completed"
    },
    "tags": []
   },
   "outputs": [],
   "source": []
  },
  {
   "cell_type": "code",
   "execution_count": 29,
   "metadata": {
    "execution": {
     "iopub.execute_input": "2020-07-09T22:09:14.765253Z",
     "iopub.status.busy": "2020-07-09T22:09:14.764596Z",
     "iopub.status.idle": "2020-07-09T22:09:14.774643Z",
     "shell.execute_reply": "2020-07-09T22:09:14.775473Z"
    },
    "papermill": {
     "duration": 0.05137,
     "end_time": "2020-07-09T22:09:14.775717",
     "exception": false,
     "start_time": "2020-07-09T22:09:14.724347",
     "status": "completed"
    },
    "tags": []
   },
   "outputs": [
    {
     "data": {
      "text/plain": [
       "5065.348509528773"
      ]
     },
     "execution_count": 29,
     "metadata": {},
     "output_type": "execute_result"
    }
   ],
   "source": [
    "sum(\n",
    "    inflated_survey_scenario.compute_aggregate(income_variable, period = year)\n",
    "    for income_variable in income_variables\n",
    "    ) / 1e9"
   ]
  },
  {
   "cell_type": "markdown",
   "metadata": {
    "papermill": {
     "duration": 0.032511,
     "end_time": "2020-07-09T22:09:14.846431",
     "exception": false,
     "start_time": "2020-07-09T22:09:14.813920",
     "status": "completed"
    },
    "tags": []
   },
   "source": [
    "# Indicators"
   ]
  },
  {
   "cell_type": "code",
   "execution_count": 30,
   "metadata": {
    "execution": {
     "iopub.execute_input": "2020-07-09T22:09:14.919976Z",
     "iopub.status.busy": "2020-07-09T22:09:14.919525Z",
     "iopub.status.idle": "2020-07-09T22:09:15.003759Z",
     "shell.execute_reply": "2020-07-09T22:09:15.004583Z"
    },
    "papermill": {
     "duration": 0.125562,
     "end_time": "2020-07-09T22:09:15.004805",
     "exception": false,
     "start_time": "2020-07-09T22:09:14.879243",
     "status": "completed"
    },
    "tags": []
   },
   "outputs": [
    {
     "data": {
      "text/html": [
       "<div>\n",
       "<style scoped>\n",
       "    .dataframe tbody tr th:only-of-type {\n",
       "        vertical-align: middle;\n",
       "    }\n",
       "\n",
       "    .dataframe tbody tr th {\n",
       "        vertical-align: top;\n",
       "    }\n",
       "\n",
       "    .dataframe thead th {\n",
       "        text-align: right;\n",
       "    }\n",
       "</style>\n",
       "<table border=\"1\" class=\"dataframe\">\n",
       "  <thead>\n",
       "    <tr style=\"text-align: right;\">\n",
       "      <th></th>\n",
       "      <th>market_income</th>\n",
       "      <th>market_income_plus_pensions</th>\n",
       "      <th>gross_income</th>\n",
       "      <th>disposable_income</th>\n",
       "      <th>consumable_income</th>\n",
       "      <th>final_income</th>\n",
       "    </tr>\n",
       "  </thead>\n",
       "  <tbody>\n",
       "    <tr>\n",
       "      <th>Gini</th>\n",
       "      <td>0.46</td>\n",
       "      <td>0.46</td>\n",
       "      <td>0.46</td>\n",
       "      <td>0.46</td>\n",
       "      <td>0.51</td>\n",
       "      <td>0.45</td>\n",
       "    </tr>\n",
       "    <tr>\n",
       "      <th>Bottom 40 %</th>\n",
       "      <td>0.13</td>\n",
       "      <td>0.13</td>\n",
       "      <td>0.13</td>\n",
       "      <td>0.13</td>\n",
       "      <td>0.10</td>\n",
       "      <td>0.14</td>\n",
       "    </tr>\n",
       "    <tr>\n",
       "      <th>Top 10 %</th>\n",
       "      <td>0.35</td>\n",
       "      <td>0.35</td>\n",
       "      <td>0.35</td>\n",
       "      <td>0.35</td>\n",
       "      <td>0.37</td>\n",
       "      <td>0.34</td>\n",
       "    </tr>\n",
       "  </tbody>\n",
       "</table>\n",
       "</div>"
      ],
      "text/plain": [
       "             market_income  market_income_plus_pensions  gross_income  \\\n",
       "Gini                  0.46                         0.46          0.46   \n",
       "Bottom 40 %           0.13                         0.13          0.13   \n",
       "Top 10 %              0.35                         0.35          0.35   \n",
       "\n",
       "             disposable_income  consumable_income  final_income  \n",
       "Gini                      0.46               0.51          0.45  \n",
       "Bottom 40 %               0.13               0.10          0.14  \n",
       "Top 10 %                  0.35               0.37          0.34  "
      ]
     },
     "metadata": {},
     "output_type": "display_data"
    }
   ],
   "source": [
    "from openfisca_survey_manager.statshelpers import lorenz\n",
    "from openfisca_ceq.tools.results.inequality import inequality_table\n",
    "display(inequality_table(survey_scenario))"
   ]
  },
  {
   "cell_type": "code",
   "execution_count": 31,
   "metadata": {
    "execution": {
     "iopub.execute_input": "2020-07-09T22:09:15.085706Z",
     "iopub.status.busy": "2020-07-09T22:09:15.085141Z",
     "iopub.status.idle": "2020-07-09T22:09:15.090263Z",
     "shell.execute_reply": "2020-07-09T22:09:15.090903Z"
    },
    "papermill": {
     "duration": 0.044957,
     "end_time": "2020-07-09T22:09:15.091119",
     "exception": false,
     "start_time": "2020-07-09T22:09:15.046162",
     "status": "completed"
    },
    "tags": []
   },
   "outputs": [
    {
     "data": {
      "text/plain": [
       "228.61449992155934"
      ]
     },
     "execution_count": 31,
     "metadata": {},
     "output_type": "execute_result"
    }
   ],
   "source": [
    "survey_scenario.compute_aggregate(\"impots_indirects\", period = year) / 1e9"
   ]
  },
  {
   "cell_type": "code",
   "execution_count": 32,
   "metadata": {
    "execution": {
     "iopub.execute_input": "2020-07-09T22:09:15.172286Z",
     "iopub.status.busy": "2020-07-09T22:09:15.170846Z",
     "iopub.status.idle": "2020-07-09T22:09:15.176114Z",
     "shell.execute_reply": "2020-07-09T22:09:15.177029Z"
    },
    "papermill": {
     "duration": 0.046016,
     "end_time": "2020-07-09T22:09:15.177256",
     "exception": false,
     "start_time": "2020-07-09T22:09:15.131240",
     "status": "completed"
    },
    "tags": []
   },
   "outputs": [
    {
     "data": {
      "text/plain": [
       "7.426147500799683"
      ]
     },
     "execution_count": 32,
     "metadata": {},
     "output_type": "execute_result"
    }
   ],
   "source": [
    "survey_scenario.compute_aggregate(\"direct_taxes\", period = year) / 1e9"
   ]
  },
  {
   "cell_type": "code",
   "execution_count": 33,
   "metadata": {
    "execution": {
     "iopub.execute_input": "2020-07-09T22:09:15.255988Z",
     "iopub.status.busy": "2020-07-09T22:09:15.254705Z",
     "iopub.status.idle": "2020-07-09T22:09:15.259257Z",
     "shell.execute_reply": "2020-07-09T22:09:15.259944Z"
    },
    "papermill": {
     "duration": 0.044192,
     "end_time": "2020-07-09T22:09:15.260137",
     "exception": false,
     "start_time": "2020-07-09T22:09:15.215945",
     "status": "completed"
    },
    "tags": []
   },
   "outputs": [
    {
     "data": {
      "text/plain": [
       "7.426147500799683"
      ]
     },
     "execution_count": 33,
     "metadata": {},
     "output_type": "execute_result"
    }
   ],
   "source": [
    "survey_scenario.compute_aggregate(\"personal_income_tax\", period = year) / 1e9"
   ]
  },
  {
   "cell_type": "code",
   "execution_count": 34,
   "metadata": {
    "execution": {
     "iopub.execute_input": "2020-07-09T22:09:15.341143Z",
     "iopub.status.busy": "2020-07-09T22:09:15.340530Z",
     "iopub.status.idle": "2020-07-09T22:09:15.342660Z",
     "shell.execute_reply": "2020-07-09T22:09:15.342995Z"
    },
    "papermill": {
     "duration": 0.042997,
     "end_time": "2020-07-09T22:09:15.343108",
     "exception": false,
     "start_time": "2020-07-09T22:09:15.300111",
     "status": "completed"
    },
    "tags": []
   },
   "outputs": [],
   "source": [
    "from openfisca_ceq import list_variables_from_directory"
   ]
  },
  {
   "cell_type": "code",
   "execution_count": 35,
   "metadata": {
    "execution": {
     "iopub.execute_input": "2020-07-09T22:09:15.423391Z",
     "iopub.status.busy": "2020-07-09T22:09:15.422735Z",
     "iopub.status.idle": "2020-07-09T22:09:15.612384Z",
     "shell.execute_reply": "2020-07-09T22:09:15.612722Z"
    },
    "papermill": {
     "duration": 0.228288,
     "end_time": "2020-07-09T22:09:15.612831",
     "exception": false,
     "start_time": "2020-07-09T22:09:15.384543",
     "status": "completed"
    },
    "tags": []
   },
   "outputs": [
    {
     "data": {
      "text/plain": [
       "['agricultural_inputs_subsidies',\n",
       " 'alimony',\n",
       " 'corporate_income_tax',\n",
       " 'electricity_subsidies',\n",
       " 'employee_contributions_health',\n",
       " 'employee_other_contributions',\n",
       " 'excise_taxes',\n",
       " 'food_subsidies',\n",
       " 'fuel_subsidies',\n",
       " 'indirect_subsidies',\n",
       " 'other_taxes',\n",
       " 'payroll_tax',\n",
       " 'pensions',\n",
       " 'property_tax',\n",
       " 'sales_tax',\n",
       " 'self_employed_contributions_health',\n",
       " 'self_employed_contributions_pensions',\n",
       " 'self_employed_other_contributions']"
      ]
     },
     "execution_count": 35,
     "metadata": {},
     "output_type": "execute_result"
    }
   ],
   "source": [
    "ceq_variables = sorted(list_variables_from_directory(survey_scenario.tax_benefit_system))\n",
    "[\n",
    "    ceq_variable\n",
    "    for ceq_variable in ceq_variables\n",
    "    if survey_scenario.compute_aggregate(ceq_variable, period = year) == 0\n",
    "    ]"
   ]
  },
  {
   "cell_type": "code",
   "execution_count": 36,
   "metadata": {
    "execution": {
     "iopub.execute_input": "2020-07-09T22:09:15.693641Z",
     "iopub.status.busy": "2020-07-09T22:09:15.692864Z",
     "iopub.status.idle": "2020-07-09T22:09:15.808938Z",
     "shell.execute_reply": "2020-07-09T22:09:15.808443Z"
    },
    "papermill": {
     "duration": 0.15618,
     "end_time": "2020-07-09T22:09:15.809068",
     "exception": false,
     "start_time": "2020-07-09T22:09:15.652888",
     "status": "completed"
    },
    "tags": []
   },
   "outputs": [
    {
     "data": {
      "text/plain": [
       "[<matplotlib.lines.Line2D at 0x7fe49b596c50>]"
      ]
     },
     "execution_count": 36,
     "metadata": {},
     "output_type": "execute_result"
    },
    {
     "data": {
      "image/png": "[encoded data removed]",
      "text/plain": [
       "<Figure size 432x288 with 1 Axes>"
      ]
     },
     "metadata": {
      "needs_background": "light"
     },
     "output_type": "display_data"
    }
   ],
   "source": [
    "variable = \"market_income\"\n",
    "nb_persons = survey_scenario.calculate_variable(\"number_of_people_per_household\", period = year)\n",
    "weights = survey_scenario.calculate_variable(\"household_weight\", period = year) * nb_persons\n",
    "\n",
    "y, x = lorenz(survey_scenario.calculate_variable(variable, period = year) / nb_persons, weights = weights)\n",
    "plt.plot(x, y)"
   ]
  },
  {
   "cell_type": "code",
   "execution_count": 37,
   "metadata": {
    "execution": {
     "iopub.execute_input": "2020-07-09T22:09:15.892360Z",
     "iopub.status.busy": "2020-07-09T22:09:15.891441Z",
     "iopub.status.idle": "2020-07-09T22:09:15.895861Z",
     "shell.execute_reply": "2020-07-09T22:09:15.896570Z"
    },
    "papermill": {
     "duration": 0.048726,
     "end_time": "2020-07-09T22:09:15.896767",
     "exception": false,
     "start_time": "2020-07-09T22:09:15.848041",
     "status": "completed"
    },
    "tags": []
   },
   "outputs": [
    {
     "data": {
      "text/plain": [
       "0.0"
      ]
     },
     "execution_count": 37,
     "metadata": {},
     "output_type": "execute_result"
    }
   ],
   "source": [
    "survey_scenario.compute_aggregate('direct_transfers', period = year) / 1e9"
   ]
  },
  {
   "cell_type": "code",
   "execution_count": 38,
   "metadata": {
    "execution": {
     "iopub.execute_input": "2020-07-09T22:09:15.977389Z",
     "iopub.status.busy": "2020-07-09T22:09:15.976861Z",
     "iopub.status.idle": "2020-07-09T22:09:15.982230Z",
     "shell.execute_reply": "2020-07-09T22:09:15.981366Z"
    },
    "papermill": {
     "duration": 0.049029,
     "end_time": "2020-07-09T22:09:15.982397",
     "exception": false,
     "start_time": "2020-07-09T22:09:15.933368",
     "status": "completed"
    },
    "tags": []
   },
   "outputs": [
    {
     "data": {
      "text/plain": [
       "['agricultural_inputs_subsidies',\n",
       " 'alimony',\n",
       " 'all_income_excluding_transfers',\n",
       " 'autoconsumption',\n",
       " 'consumable_income',\n",
       " 'contributions_health',\n",
       " 'contributions_pensions',\n",
       " 'corporate_income_tax',\n",
       " 'customs_duties',\n",
       " 'decile_consumable_income_per_capita',\n",
       " 'decile_disposable_income_per_capita',\n",
       " 'decile_final_income_per_capita',\n",
       " 'decile_gross_income_per_capita',\n",
       " 'decile_market_income_per_capita',\n",
       " 'decile_market_income_plus_pensions_per_capita',\n",
       " 'decile_survey_income_per_capita',\n",
       " 'direct_taxes',\n",
       " 'disposable_income',\n",
       " 'electricity_subsidies',\n",
       " 'employee_contributions_health',\n",
       " 'employee_contributions_pensions',\n",
       " 'employee_other_contributions',\n",
       " 'employer_contributions_health',\n",
       " 'employer_contributions_pensions',\n",
       " 'employer_other_contributions',\n",
       " 'excise_taxes',\n",
       " 'final_income',\n",
       " 'food_subsidies',\n",
       " 'fuel_subsidies',\n",
       " 'gifts_sales_durables',\n",
       " 'gross_income',\n",
       " 'imputed_rent',\n",
       " 'indirect_subsidies',\n",
       " 'indirect_taxes',\n",
       " 'market_income',\n",
       " 'market_income_plus_pensions',\n",
       " 'net_market_income',\n",
       " 'nontaxable_income',\n",
       " 'other_contributions',\n",
       " 'other_income',\n",
       " 'other_taxes',\n",
       " 'payroll_tax',\n",
       " 'pensions',\n",
       " 'personal_income_tax',\n",
       " 'property_tax',\n",
       " 'sales_tax',\n",
       " 'self_employed_contributions_health',\n",
       " 'self_employed_contributions_pensions',\n",
       " 'self_employed_other_contributions',\n",
       " 'taxable_income',\n",
       " 'value_added_tax']"
      ]
     },
     "execution_count": 38,
     "metadata": {},
     "output_type": "execute_result"
    }
   ],
   "source": [
    "ceq_variables"
   ]
  },
  {
   "cell_type": "code",
   "execution_count": 39,
   "metadata": {
    "execution": {
     "iopub.execute_input": "2020-07-09T22:09:16.064849Z",
     "iopub.status.busy": "2020-07-09T22:09:16.064279Z",
     "iopub.status.idle": "2020-07-09T22:09:16.070977Z",
     "shell.execute_reply": "2020-07-09T22:09:16.072251Z"
    },
    "papermill": {
     "duration": 0.051806,
     "end_time": "2020-07-09T22:09:16.072590",
     "exception": false,
     "start_time": "2020-07-09T22:09:16.020784",
     "status": "completed"
    },
    "tags": []
   },
   "outputs": [
    {
     "data": {
      "text/plain": [
       "21026196716.147133"
      ]
     },
     "execution_count": 39,
     "metadata": {},
     "output_type": "execute_result"
    }
   ],
   "source": [
    "survey_scenario.compute_aggregate('customs_duties', period = year) "
   ]
  },
  {
   "cell_type": "code",
   "execution_count": 40,
   "metadata": {
    "execution": {
     "iopub.execute_input": "2020-07-09T22:09:16.161356Z",
     "iopub.status.busy": "2020-07-09T22:09:16.160757Z",
     "iopub.status.idle": "2020-07-09T22:09:19.959276Z",
     "shell.execute_reply": "2020-07-09T22:09:19.959989Z"
    },
    "papermill": {
     "duration": 3.84289,
     "end_time": "2020-07-09T22:09:19.960140",
     "exception": false,
     "start_time": "2020-07-09T22:09:16.117250",
     "status": "completed"
    },
    "tags": []
   },
   "outputs": [],
   "source": [
    "inflated_survey_scenario = build_ceq_survey_scenario(legislation_country = country, year = year, inflate = True)"
   ]
  },
  {
   "cell_type": "code",
   "execution_count": 41,
   "metadata": {
    "execution": {
     "iopub.execute_input": "2020-07-09T22:09:20.076229Z",
     "iopub.status.busy": "2020-07-09T22:09:20.075243Z",
     "iopub.status.idle": "2020-07-09T22:09:20.079122Z",
     "shell.execute_reply": "2020-07-09T22:09:20.079944Z"
    },
    "papermill": {
     "duration": 0.060226,
     "end_time": "2020-07-09T22:09:20.080191",
     "exception": false,
     "start_time": "2020-07-09T22:09:20.019965",
     "status": "completed"
    },
    "tags": []
   },
   "outputs": [
    {
     "data": {
      "text/plain": [
       "['poste_10_1_1_1',\n",
       " 'poste_11_2_1_1',\n",
       " 'poste_12_1_1_1',\n",
       " 'poste_12_3_1_1',\n",
       " 'poste_12_3_2_1_1',\n",
       " 'poste_12_4_1',\n",
       " 'poste_12_5_3_1_1',\n",
       " 'poste_12_5_item_1',\n",
       " 'poste_12_5_item_2',\n",
       " 'poste_12_5_item_3',\n",
       " 'poste_12_6_1_1_1',\n",
       " 'poste_12_7_1_1_1_item_1',\n",
       " 'poste_12_7_1_1_1_item_2',\n",
       " 'poste_1_1_1_1_1',\n",
       " 'poste_1_1_1_4_1_item_1',\n",
       " 'poste_1_1_1_4_1_item_2',\n",
       " 'poste_1_1_1_4_1_item_3',\n",
       " 'poste_1_1_1_4_3',\n",
       " 'poste_1_1_2_item_1',\n",
       " 'poste_1_1_2_item_2',\n",
       " 'poste_1_1_3_item_1',\n",
       " 'poste_1_1_3_item_2',\n",
       " 'poste_1_1_4_item_1',\n",
       " 'poste_1_1_4_item_2',\n",
       " 'poste_1_1_5_item_1',\n",
       " 'poste_1_1_5_item_2',\n",
       " 'poste_1_1_7_item_1',\n",
       " 'poste_1_1_7_item_2',\n",
       " 'poste_1_1_7_item_3',\n",
       " 'poste_1_1_7_item_4',\n",
       " 'poste_1_1_8',\n",
       " 'poste_1_1_9',\n",
       " 'poste_1_2',\n",
       " 'poste_2',\n",
       " 'poste_3_1_2',\n",
       " 'poste_3_2_1',\n",
       " 'poste_4_1_1_item_1',\n",
       " 'poste_4_1_1_item_2',\n",
       " 'poste_4_3_2_2_1_item_1',\n",
       " 'poste_4_3_2_2_1_item_2',\n",
       " 'poste_4_4_1_1_1',\n",
       " 'poste_4_4_1_2_1',\n",
       " 'poste_4_5_1_1_1',\n",
       " 'poste_4_5_2_1_1',\n",
       " 'poste_4_5_3_1_1',\n",
       " 'poste_4_5_4_1_1',\n",
       " 'poste_5_6_2_1_1',\n",
       " 'poste_6_1_1',\n",
       " 'poste_6_2_1_item_1',\n",
       " 'poste_6_2_1_item_2',\n",
       " 'poste_7_2_2',\n",
       " 'poste_7_2_3',\n",
       " 'poste_7_3_2_item_1',\n",
       " 'poste_7_3_2_item_2',\n",
       " 'poste_8_1_1_1_1',\n",
       " 'poste_8_1_2_2_1_item_1',\n",
       " 'poste_8_1_2_2_1_item_2',\n",
       " 'poste_9_1_1_1_1',\n",
       " 'poste_9_3_1_1_1_item_1',\n",
       " 'poste_9_3_1_1_1_item_2',\n",
       " 'poste_9_3_2_1_1',\n",
       " 'poste_9_3_3_1_1',\n",
       " 'poste_9_3_4_1_2',\n",
       " 'poste_9_4_1_1_item_1',\n",
       " 'poste_9_4_1_1_item_2',\n",
       " 'poste_9_4_2_3_1',\n",
       " 'poste_9_5_1_1',\n",
       " 'poste_9_5_2_1_1',\n",
       " 'poste_9_6_1']"
      ]
     },
     "execution_count": 41,
     "metadata": {},
     "output_type": "execute_result"
    }
   ],
   "source": [
    "sorted([\n",
    "    variable \n",
    "    for variable in survey_scenario.tax_benefit_system.variables \n",
    "    if variable.startswith('poste_')\n",
    "    ])"
   ]
  },
  {
   "cell_type": "code",
   "execution_count": 42,
   "metadata": {
    "execution": {
     "iopub.execute_input": "2020-07-09T22:09:20.165562Z",
     "iopub.status.busy": "2020-07-09T22:09:20.164931Z",
     "iopub.status.idle": "2020-07-09T22:09:20.169870Z",
     "shell.execute_reply": "2020-07-09T22:09:20.170449Z"
    },
    "papermill": {
     "duration": 0.048163,
     "end_time": "2020-07-09T22:09:20.170689",
     "exception": false,
     "start_time": "2020-07-09T22:09:20.122526",
     "status": "completed"
    },
    "tags": []
   },
   "outputs": [
    {
     "data": {
      "text/plain": [
       "228614499921.55936"
      ]
     },
     "execution_count": 42,
     "metadata": {},
     "output_type": "execute_result"
    }
   ],
   "source": [
    "survey_scenario.compute_aggregate('indirect_taxes', period = year)"
   ]
  },
  {
   "cell_type": "markdown",
   "metadata": {
    "papermill": {
     "duration": 0.039107,
     "end_time": "2020-07-09T22:09:20.252046",
     "exception": false,
     "start_time": "2020-07-09T22:09:20.212939",
     "status": "completed"
    },
    "tags": []
   },
   "source": [
    "Direct taxes"
   ]
  },
  {
   "cell_type": "code",
   "execution_count": null,
   "metadata": {
    "papermill": {
     "duration": 0.037617,
     "end_time": "2020-07-09T22:09:20.329463",
     "exception": false,
     "start_time": "2020-07-09T22:09:20.291846",
     "status": "completed"
    },
    "tags": []
   },
   "outputs": [],
   "source": []
  },
  {
   "cell_type": "code",
   "execution_count": null,
   "metadata": {
    "papermill": {
     "duration": 0.040726,
     "end_time": "2020-07-09T22:09:20.407850",
     "exception": false,
     "start_time": "2020-07-09T22:09:20.367124",
     "status": "completed"
    },
    "tags": []
   },
   "outputs": [],
   "source": []
  }
 ],
 "metadata": {
  "kernelspec": {
   "display_name": "Python 3",
   "language": "python",
   "name": "python3"
  },
  "language_info": {
   "codemirror_mode": {
    "name": "ipython",
    "version": 3
   },
   "file_extension": ".py",
   "mimetype": "text/x-python",
   "name": "python",
   "nbconvert_exporter": "python",
   "pygments_lexer": "ipython3",
   "version": "3.7.8"
  },
  "papermill": {
   "duration": 18.745094,
   "end_time": "2020-07-09T22:09:20.857231",
   "environment_variables": {},
   "exception": null,
   "input_path": "notebooks/test.ipynb",
   "output_path": "notebooks/mali.ipynb",
   "parameters": {
    "country": "mali"
   },
   "start_time": "2020-07-09T22:09:02.112137",
   "version": "2.1.2"
  }
 },
 "nbformat": 4,
 "nbformat_minor": 4
}