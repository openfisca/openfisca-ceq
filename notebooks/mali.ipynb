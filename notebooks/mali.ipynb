{
 "cells": [
  {
   "cell_type": "code",
   "execution_count": 1,
   "metadata": {
    "execution": {
     "iopub.execute_input": "2020-09-13T20:52:17.671713Z",
     "iopub.status.busy": "2020-09-13T20:52:17.670510Z",
     "iopub.status.idle": "2020-09-13T20:52:17.672834Z",
     "shell.execute_reply": "2020-09-13T20:52:17.673721Z"
    },
    "papermill": {
     "duration": 0.045503,
     "end_time": "2020-09-13T20:52:17.673986",
     "exception": false,
     "start_time": "2020-09-13T20:52:17.628483",
     "status": "completed"
    },
    "tags": []
   },
   "outputs": [],
   "source": [
    "# !pip install -U git+https://github.com/openfisca/openfisca-ceq.git@master#egg=OpenFisca-CEQ\n",
    "# !pip install -U git+https://github.com/openfisca/openfisca-senegal.git@ceq#egg=OpenFisca-Senegal\n",
    "# !pip install -U git+https://github.com/openfisca/openfisca-mali.git@master#egg=OpenFisca-Mali\n",
    "# !pip install -U git+https://github.com/openfisca/openfisca-cote-d-ivoire.git@master#egg=OpenFisca-COTE-D-IVOIRE"
   ]
  },
  {
   "cell_type": "code",
   "execution_count": 2,
   "metadata": {
    "execution": {
     "iopub.execute_input": "2020-09-13T20:52:17.741052Z",
     "iopub.status.busy": "2020-09-13T20:52:17.732734Z",
     "iopub.status.idle": "2020-09-13T20:52:18.450115Z",
     "shell.execute_reply": "2020-09-13T20:52:18.448895Z"
    },
    "papermill": {
     "duration": 0.746998,
     "end_time": "2020-09-13T20:52:18.450376",
     "exception": false,
     "start_time": "2020-09-13T20:52:17.703378",
     "status": "completed"
    },
    "tags": []
   },
   "outputs": [],
   "source": [
    "from matplotlib import pyplot as plt\n",
    "%matplotlib inline\n",
    "import pandas as pd\n",
    "from openfisca_ceq.tools.survey_scenario import build_ceq_survey_scenario\n",
    "from openfisca_ceq.tools.indirect_taxation.tax_benefit_system_indirect_taxation_completion import indirect_tax_by_country\n",
    "from openfisca_ceq.tools.data import year_by_country\n",
    "from openfisca_ceq.tools.data_ceq_correspondence import (\n",
    "    ceq_input_by_harmonized_variable,\n",
    "    ceq_intermediate_by_harmonized_variable,\n",
    "    non_ceq_input_by_harmonized_variable,\n",
    "    )"
   ]
  },
  {
   "cell_type": "markdown",
   "metadata": {
    "papermill": {
     "duration": 0.029191,
     "end_time": "2020-09-13T20:52:18.516232",
     "exception": false,
     "start_time": "2020-09-13T20:52:18.487041",
     "status": "completed"
    },
    "tags": []
   },
   "source": [
    "# Build country scenario"
   ]
  },
  {
   "cell_type": "markdown",
   "metadata": {
    "papermill": {
     "duration": 0.02628,
     "end_time": "2020-09-13T20:52:18.572222",
     "exception": false,
     "start_time": "2020-09-13T20:52:18.545942",
     "status": "completed"
    },
    "tags": []
   },
   "source": [
    "## Country selection"
   ]
  },
  {
   "cell_type": "code",
   "execution_count": 3,
   "metadata": {
    "execution": {
     "iopub.execute_input": "2020-09-13T20:52:18.635620Z",
     "iopub.status.busy": "2020-09-13T20:52:18.634600Z",
     "iopub.status.idle": "2020-09-13T20:52:18.636627Z",
     "shell.execute_reply": "2020-09-13T20:52:18.637343Z"
    },
    "papermill": {
     "duration": 0.037659,
     "end_time": "2020-09-13T20:52:18.637561",
     "exception": false,
     "start_time": "2020-09-13T20:52:18.599902",
     "status": "completed"
    },
    "tags": [
     "parameters"
    ]
   },
   "outputs": [],
   "source": [
    "country = \"mali\""
   ]
  },
  {
   "cell_type": "code",
   "execution_count": 4,
   "metadata": {
    "execution": {
     "iopub.execute_input": "2020-09-13T20:52:18.698631Z",
     "iopub.status.busy": "2020-09-13T20:52:18.698186Z",
     "iopub.status.idle": "2020-09-13T20:52:18.700513Z",
     "shell.execute_reply": "2020-09-13T20:52:18.700849Z"
    },
    "papermill": {
     "duration": 0.033739,
     "end_time": "2020-09-13T20:52:18.700958",
     "exception": false,
     "start_time": "2020-09-13T20:52:18.667219",
     "status": "completed"
    },
    "tags": [
     "injected-parameters"
    ]
   },
   "outputs": [],
   "source": [
    "# Parameters\n",
    "country = \"mali\"\n"
   ]
  },
  {
   "cell_type": "code",
   "execution_count": 5,
   "metadata": {
    "execution": {
     "iopub.execute_input": "2020-09-13T20:52:18.763405Z",
     "iopub.status.busy": "2020-09-13T20:52:18.762158Z",
     "iopub.status.idle": "2020-09-13T20:52:22.061761Z",
     "shell.execute_reply": "2020-09-13T20:52:22.060385Z"
    },
    "papermill": {
     "duration": 3.333576,
     "end_time": "2020-09-13T20:52:22.061957",
     "exception": false,
     "start_time": "2020-09-13T20:52:18.728381",
     "status": "completed"
    },
    "tags": []
   },
   "outputs": [],
   "source": [
    "year = year_by_country[country]\n",
    "survey_scenario = build_ceq_survey_scenario(legislation_country = country, year = year)"
   ]
  },
  {
   "cell_type": "markdown",
   "metadata": {
    "papermill": {
     "duration": 0.027069,
     "end_time": "2020-09-13T20:52:22.121223",
     "exception": false,
     "start_time": "2020-09-13T20:52:22.094154",
     "status": "completed"
    },
    "tags": []
   },
   "source": [
    "# Aggegates check"
   ]
  },
  {
   "cell_type": "markdown",
   "metadata": {
    "papermill": {
     "duration": 0.027949,
     "end_time": "2020-09-13T20:52:22.176869",
     "exception": false,
     "start_time": "2020-09-13T20:52:22.148920",
     "status": "completed"
    },
    "tags": []
   },
   "source": [
    "## Income variables"
   ]
  },
  {
   "cell_type": "markdown",
   "metadata": {
    "papermill": {
     "duration": 0.027901,
     "end_time": "2020-09-13T20:52:22.232924",
     "exception": false,
     "start_time": "2020-09-13T20:52:22.205023",
     "status": "completed"
    },
    "tags": []
   },
   "source": [
    "### Disagregated income variables"
   ]
  },
  {
   "cell_type": "code",
   "execution_count": 6,
   "metadata": {
    "execution": {
     "iopub.execute_input": "2020-09-13T20:52:22.302444Z",
     "iopub.status.busy": "2020-09-13T20:52:22.297034Z",
     "iopub.status.idle": "2020-09-13T20:52:22.306552Z",
     "shell.execute_reply": "2020-09-13T20:52:22.307418Z"
    },
    "papermill": {
     "duration": 0.046369,
     "end_time": "2020-09-13T20:52:22.307658",
     "exception": false,
     "start_time": "2020-09-13T20:52:22.261289",
     "status": "completed"
    },
    "tags": []
   },
   "outputs": [
    {
     "data": {
      "text/plain": [
       "{'rev_i_autoconsommation': 'autoconsumption',\n",
       " 'rev_i_autres': 'other_income',\n",
       " 'rev_i_autres_transferts': 'gifts_sales_durables',\n",
       " 'rev_i_loyers_imputes': 'imputed_rent',\n",
       " 'rev_i_transferts_publics': 'direct_transfers',\n",
       " 'rev_i_agricoles': 'revenu_agricole',\n",
       " 'rev_i_autres_revenus_capital': 'autres_revenus_du_capital',\n",
       " 'rev_i_independants_Ntaxe': 'revenu_informel_non_salarie',\n",
       " 'rev_i_independants_taxe': 'revenu_non_salarie',\n",
       " 'rev_i_locatifs': 'revenu_locatif',\n",
       " 'rev_i_pensions': 'pension_retraite',\n",
       " 'rev_i_salaires_formels': 'salaire',\n",
       " 'rev_i_salaires_informels': 'revenu_informel_salarie',\n",
       " 'autres_revenus_du_capital_brut': 'autres_revenus_du_capital_brut',\n",
       " 'pension_retraite_brut': 'pension_retraite_brut',\n",
       " 'revenu_foncier_brut': 'revenu_foncier_brut',\n",
       " 'revenu_non_salarie_brut': 'revenu_non_salarie_brut',\n",
       " 'salaire_brut': 'salaire_brut',\n",
       " 'salaire_super_brut': 'salaire_super_brut'}"
      ]
     },
     "execution_count": 6,
     "metadata": {},
     "output_type": "execute_result"
    }
   ],
   "source": [
    "ceq_by_harmonized_variable = dict()\n",
    "ceq_by_harmonized_variable.update(ceq_input_by_harmonized_variable)\n",
    "ceq_by_harmonized_variable.update(ceq_intermediate_by_harmonized_variable)\n",
    "ceq_by_harmonized_variable.update(non_ceq_input_by_harmonized_variable)\n",
    "ceq_by_harmonized_variable['autres_revenus_du_capital_brut'] = 'autres_revenus_du_capital_brut'\n",
    "ceq_by_harmonized_variable['pension_retraite_brut'] = 'pension_retraite_brut'\n",
    "ceq_by_harmonized_variable['revenu_foncier_brut'] = 'revenu_foncier_brut'\n",
    "ceq_by_harmonized_variable['revenu_non_salarie_brut'] = 'revenu_non_salarie_brut' \n",
    "ceq_by_harmonized_variable['salaire_brut'] = 'salaire_brut'\n",
    "ceq_by_harmonized_variable['salaire_super_brut'] = 'salaire_super_brut'\n",
    "ceq_by_harmonized_variable"
   ]
  },
  {
   "cell_type": "code",
   "execution_count": 7,
   "metadata": {
    "execution": {
     "iopub.execute_input": "2020-09-13T20:52:22.379200Z",
     "iopub.status.busy": "2020-09-13T20:52:22.378189Z",
     "iopub.status.idle": "2020-09-13T20:52:22.546145Z",
     "shell.execute_reply": "2020-09-13T20:52:22.546669Z"
    },
    "papermill": {
     "duration": 0.204133,
     "end_time": "2020-09-13T20:52:22.546820",
     "exception": false,
     "start_time": "2020-09-13T20:52:22.342687",
     "status": "completed"
    },
    "tags": []
   },
   "outputs": [],
   "source": [
    "data = [\n",
    "    (harmonized_variable, openfisca_variable, survey_scenario.compute_aggregate(openfisca_variable, period = year) / 1e9) \n",
    "    for harmonized_variable, openfisca_variable in ceq_by_harmonized_variable.items()\n",
    "    ]"
   ]
  },
  {
   "cell_type": "code",
   "execution_count": 8,
   "metadata": {
    "execution": {
     "iopub.execute_input": "2020-09-13T20:52:22.643931Z",
     "iopub.status.busy": "2020-09-13T20:52:22.643071Z",
     "iopub.status.idle": "2020-09-13T20:52:22.662619Z",
     "shell.execute_reply": "2020-09-13T20:52:22.662200Z"
    },
    "papermill": {
     "duration": 0.070136,
     "end_time": "2020-09-13T20:52:22.662708",
     "exception": false,
     "start_time": "2020-09-13T20:52:22.592572",
     "status": "completed"
    },
    "tags": []
   },
   "outputs": [
    {
     "data": {
      "text/html": [
       "<div>\n",
       "<style scoped>\n",
       "    .dataframe tbody tr th:only-of-type {\n",
       "        vertical-align: middle;\n",
       "    }\n",
       "\n",
       "    .dataframe tbody tr th {\n",
       "        vertical-align: top;\n",
       "    }\n",
       "\n",
       "    .dataframe thead th {\n",
       "        text-align: right;\n",
       "    }\n",
       "</style>\n",
       "<table border=\"1\" class=\"dataframe\">\n",
       "  <thead>\n",
       "    <tr style=\"text-align: right;\">\n",
       "      <th></th>\n",
       "      <th>harmonized</th>\n",
       "      <th>openfisca</th>\n",
       "      <th>aggregate</th>\n",
       "    </tr>\n",
       "  </thead>\n",
       "  <tbody>\n",
       "    <tr>\n",
       "      <th>0</th>\n",
       "      <td>rev_i_autoconsommation</td>\n",
       "      <td>autoconsumption</td>\n",
       "      <td>258</td>\n",
       "    </tr>\n",
       "    <tr>\n",
       "      <th>1</th>\n",
       "      <td>rev_i_autres</td>\n",
       "      <td>other_income</td>\n",
       "      <td>282</td>\n",
       "    </tr>\n",
       "    <tr>\n",
       "      <th>2</th>\n",
       "      <td>rev_i_autres_transferts</td>\n",
       "      <td>gifts_sales_durables</td>\n",
       "      <td>71</td>\n",
       "    </tr>\n",
       "    <tr>\n",
       "      <th>3</th>\n",
       "      <td>rev_i_loyers_imputes</td>\n",
       "      <td>imputed_rent</td>\n",
       "      <td>148</td>\n",
       "    </tr>\n",
       "    <tr>\n",
       "      <th>4</th>\n",
       "      <td>rev_i_transferts_publics</td>\n",
       "      <td>direct_transfers</td>\n",
       "      <td>0</td>\n",
       "    </tr>\n",
       "    <tr>\n",
       "      <th>5</th>\n",
       "      <td>rev_i_agricoles</td>\n",
       "      <td>revenu_agricole</td>\n",
       "      <td>606</td>\n",
       "    </tr>\n",
       "    <tr>\n",
       "      <th>6</th>\n",
       "      <td>rev_i_autres_revenus_capital</td>\n",
       "      <td>autres_revenus_du_capital</td>\n",
       "      <td>0</td>\n",
       "    </tr>\n",
       "    <tr>\n",
       "      <th>7</th>\n",
       "      <td>rev_i_independants_Ntaxe</td>\n",
       "      <td>revenu_informel_non_salarie</td>\n",
       "      <td>465</td>\n",
       "    </tr>\n",
       "    <tr>\n",
       "      <th>8</th>\n",
       "      <td>rev_i_independants_taxe</td>\n",
       "      <td>revenu_non_salarie</td>\n",
       "      <td>45</td>\n",
       "    </tr>\n",
       "    <tr>\n",
       "      <th>9</th>\n",
       "      <td>rev_i_locatifs</td>\n",
       "      <td>revenu_locatif</td>\n",
       "      <td>0</td>\n",
       "    </tr>\n",
       "    <tr>\n",
       "      <th>10</th>\n",
       "      <td>rev_i_pensions</td>\n",
       "      <td>pension_retraite</td>\n",
       "      <td>0</td>\n",
       "    </tr>\n",
       "    <tr>\n",
       "      <th>11</th>\n",
       "      <td>rev_i_salaires_formels</td>\n",
       "      <td>salaire</td>\n",
       "      <td>68</td>\n",
       "    </tr>\n",
       "    <tr>\n",
       "      <th>12</th>\n",
       "      <td>rev_i_salaires_informels</td>\n",
       "      <td>revenu_informel_salarie</td>\n",
       "      <td>189</td>\n",
       "    </tr>\n",
       "    <tr>\n",
       "      <th>13</th>\n",
       "      <td>autres_revenus_du_capital_brut</td>\n",
       "      <td>autres_revenus_du_capital_brut</td>\n",
       "      <td>0</td>\n",
       "    </tr>\n",
       "    <tr>\n",
       "      <th>14</th>\n",
       "      <td>pension_retraite_brut</td>\n",
       "      <td>pension_retraite_brut</td>\n",
       "      <td>0</td>\n",
       "    </tr>\n",
       "    <tr>\n",
       "      <th>15</th>\n",
       "      <td>revenu_foncier_brut</td>\n",
       "      <td>revenu_foncier_brut</td>\n",
       "      <td>0</td>\n",
       "    </tr>\n",
       "    <tr>\n",
       "      <th>16</th>\n",
       "      <td>revenu_non_salarie_brut</td>\n",
       "      <td>revenu_non_salarie_brut</td>\n",
       "      <td>45</td>\n",
       "    </tr>\n",
       "    <tr>\n",
       "      <th>17</th>\n",
       "      <td>salaire_brut</td>\n",
       "      <td>salaire_brut</td>\n",
       "      <td>81</td>\n",
       "    </tr>\n",
       "    <tr>\n",
       "      <th>18</th>\n",
       "      <td>salaire_super_brut</td>\n",
       "      <td>salaire_super_brut</td>\n",
       "      <td>96</td>\n",
       "    </tr>\n",
       "  </tbody>\n",
       "</table>\n",
       "</div>"
      ],
      "text/plain": [
       "                        harmonized                       openfisca  aggregate\n",
       "0           rev_i_autoconsommation                 autoconsumption        258\n",
       "1                     rev_i_autres                    other_income        282\n",
       "2          rev_i_autres_transferts            gifts_sales_durables         71\n",
       "3             rev_i_loyers_imputes                    imputed_rent        148\n",
       "4         rev_i_transferts_publics                direct_transfers          0\n",
       "5                  rev_i_agricoles                 revenu_agricole        606\n",
       "6     rev_i_autres_revenus_capital       autres_revenus_du_capital          0\n",
       "7         rev_i_independants_Ntaxe     revenu_informel_non_salarie        465\n",
       "8          rev_i_independants_taxe              revenu_non_salarie         45\n",
       "9                   rev_i_locatifs                  revenu_locatif          0\n",
       "10                  rev_i_pensions                pension_retraite          0\n",
       "11          rev_i_salaires_formels                         salaire         68\n",
       "12        rev_i_salaires_informels         revenu_informel_salarie        189\n",
       "13  autres_revenus_du_capital_brut  autres_revenus_du_capital_brut          0\n",
       "14           pension_retraite_brut           pension_retraite_brut          0\n",
       "15             revenu_foncier_brut             revenu_foncier_brut          0\n",
       "16         revenu_non_salarie_brut         revenu_non_salarie_brut         45\n",
       "17                    salaire_brut                    salaire_brut         81\n",
       "18              salaire_super_brut              salaire_super_brut         96"
      ]
     },
     "execution_count": 8,
     "metadata": {},
     "output_type": "execute_result"
    }
   ],
   "source": [
    "revenus = pd.DataFrame(data, columns = [\"harmonized\", \"openfisca\", \"aggregate\"])\n",
    "revenus.round(0).astype({\"aggregate\": int})"
   ]
  },
  {
   "cell_type": "markdown",
   "metadata": {
    "papermill": {
     "duration": 0.028402,
     "end_time": "2020-09-13T20:52:22.720686",
     "exception": false,
     "start_time": "2020-09-13T20:52:22.692284",
     "status": "completed"
    },
    "tags": []
   },
   "source": [
    "### Agregated income variables"
   ]
  },
  {
   "cell_type": "markdown",
   "metadata": {
    "papermill": {
     "duration": 0.03271,
     "end_time": "2020-09-13T20:52:22.785967",
     "exception": false,
     "start_time": "2020-09-13T20:52:22.753257",
     "status": "completed"
    },
    "tags": []
   },
   "source": [
    "#### CEQ agregated income variables"
   ]
  },
  {
   "cell_type": "code",
   "execution_count": 9,
   "metadata": {
    "execution": {
     "iopub.execute_input": "2020-09-13T20:52:22.853705Z",
     "iopub.status.busy": "2020-09-13T20:52:22.853234Z",
     "iopub.status.idle": "2020-09-13T20:52:22.856590Z",
     "shell.execute_reply": "2020-09-13T20:52:22.857626Z"
    },
    "papermill": {
     "duration": 0.040378,
     "end_time": "2020-09-13T20:52:22.857915",
     "exception": false,
     "start_time": "2020-09-13T20:52:22.817537",
     "status": "completed"
    },
    "tags": []
   },
   "outputs": [],
   "source": [
    "ceq_variables = [\"market_income\", \"market_income_plus_pensions\", \"pensions\", \"contributions_pensions\", \"net_market_income\", \"direct_taxes\", \"other_contributions\", \"contributions_health\", ]"
   ]
  },
  {
   "cell_type": "code",
   "execution_count": 10,
   "metadata": {
    "execution": {
     "iopub.execute_input": "2020-09-13T20:52:22.932766Z",
     "iopub.status.busy": "2020-09-13T20:52:22.932224Z",
     "iopub.status.idle": "2020-09-13T20:52:22.962178Z",
     "shell.execute_reply": "2020-09-13T20:52:22.962687Z"
    },
    "papermill": {
     "duration": 0.069239,
     "end_time": "2020-09-13T20:52:22.962835",
     "exception": false,
     "start_time": "2020-09-13T20:52:22.893596",
     "status": "completed"
    },
    "tags": []
   },
   "outputs": [
    {
     "data": {
      "text/html": [
       "<div>\n",
       "<style scoped>\n",
       "    .dataframe tbody tr th:only-of-type {\n",
       "        vertical-align: middle;\n",
       "    }\n",
       "\n",
       "    .dataframe tbody tr th {\n",
       "        vertical-align: top;\n",
       "    }\n",
       "\n",
       "    .dataframe thead th {\n",
       "        text-align: right;\n",
       "    }\n",
       "</style>\n",
       "<table border=\"1\" class=\"dataframe\">\n",
       "  <thead>\n",
       "    <tr style=\"text-align: right;\">\n",
       "      <th></th>\n",
       "      <th>aggregate</th>\n",
       "    </tr>\n",
       "  </thead>\n",
       "  <tbody>\n",
       "    <tr>\n",
       "      <th>market_income</th>\n",
       "      <td>2160</td>\n",
       "    </tr>\n",
       "    <tr>\n",
       "      <th>market_income_plus_pensions</th>\n",
       "      <td>2152</td>\n",
       "    </tr>\n",
       "    <tr>\n",
       "      <th>pensions</th>\n",
       "      <td>0</td>\n",
       "    </tr>\n",
       "    <tr>\n",
       "      <th>contributions_pensions</th>\n",
       "      <td>7</td>\n",
       "    </tr>\n",
       "    <tr>\n",
       "      <th>net_market_income</th>\n",
       "      <td>2133</td>\n",
       "    </tr>\n",
       "    <tr>\n",
       "      <th>direct_taxes</th>\n",
       "      <td>7</td>\n",
       "    </tr>\n",
       "    <tr>\n",
       "      <th>other_contributions</th>\n",
       "      <td>7</td>\n",
       "    </tr>\n",
       "    <tr>\n",
       "      <th>contributions_health</th>\n",
       "      <td>5</td>\n",
       "    </tr>\n",
       "  </tbody>\n",
       "</table>\n",
       "</div>"
      ],
      "text/plain": [
       "                             aggregate\n",
       "market_income                     2160\n",
       "market_income_plus_pensions       2152\n",
       "pensions                             0\n",
       "contributions_pensions               7\n",
       "net_market_income                 2133\n",
       "direct_taxes                         7\n",
       "other_contributions                  7\n",
       "contributions_health                 5"
      ]
     },
     "execution_count": 10,
     "metadata": {},
     "output_type": "execute_result"
    }
   ],
   "source": [
    "ceq_aggregates = pd.DataFrame(\n",
    "    index = ceq_variables,\n",
    "    columns = ['aggregate'],\n",
    "    data = [\n",
    "        survey_scenario.compute_aggregate(ceq_variable, period = year) / 1e9 \n",
    "        for ceq_variable in ceq_variables\n",
    "        ]\n",
    "    )\n",
    "ceq_aggregates.round(0).astype({\"aggregate\": int})"
   ]
  },
  {
   "cell_type": "markdown",
   "metadata": {
    "papermill": {
     "duration": 0.047094,
     "end_time": "2020-09-13T20:52:23.054795",
     "exception": false,
     "start_time": "2020-09-13T20:52:23.007701",
     "status": "completed"
    },
    "tags": []
   },
   "source": [
    "#### Direct check"
   ]
  },
  {
   "cell_type": "code",
   "execution_count": 11,
   "metadata": {
    "execution": {
     "iopub.execute_input": "2020-09-13T20:52:23.129268Z",
     "iopub.status.busy": "2020-09-13T20:52:23.128645Z",
     "iopub.status.idle": "2020-09-13T20:52:23.134476Z",
     "shell.execute_reply": "2020-09-13T20:52:23.135255Z"
    },
    "papermill": {
     "duration": 0.045391,
     "end_time": "2020-09-13T20:52:23.135463",
     "exception": false,
     "start_time": "2020-09-13T20:52:23.090072",
     "status": "completed"
    },
    "tags": []
   },
   "outputs": [],
   "source": [
    "income_components_summed_in_total = list(ceq_by_harmonized_variable.values()) \n",
    "# income_components_summed_in_total.remove(\"revenu_non_salarie_total\")\n",
    "income_components_summed_in_total.remove(\"direct_transfers\")\n",
    "income_components_summed_in_total.remove(\"salaire\")\n",
    "income_components_summed_in_total.remove(\"salaire_brut\")\n",
    "income_components_summed_in_total.remove(\"pension_retraite\")\n",
    "income_components_summed_in_total.remove('autres_revenus_du_capital')\n",
    "income_components_summed_in_total.remove('revenu_locatif')\n",
    "income_components_summed_in_total.remove('revenu_non_salarie') \n",
    "\n",
    "total_income = sum(\n",
    "    survey_scenario.compute_aggregate(income_component, period = survey_scenario.year) \n",
    "    for income_component in income_components_summed_in_total\n",
    "    ) \n",
    "total_income = (\n",
    "    total_income \n",
    "    - survey_scenario.compute_aggregate(\"contributions_pensions\", period = survey_scenario.year)\n",
    "    ) / 1e9\n"
   ]
  },
  {
   "cell_type": "code",
   "execution_count": 12,
   "metadata": {
    "execution": {
     "iopub.execute_input": "2020-09-13T20:52:23.206346Z",
     "iopub.status.busy": "2020-09-13T20:52:23.205315Z",
     "iopub.status.idle": "2020-09-13T20:52:23.208548Z",
     "shell.execute_reply": "2020-09-13T20:52:23.209374Z"
    },
    "papermill": {
     "duration": 0.041549,
     "end_time": "2020-09-13T20:52:23.209616",
     "exception": false,
     "start_time": "2020-09-13T20:52:23.168067",
     "status": "completed"
    },
    "tags": []
   },
   "outputs": [],
   "source": [
    "from numpy.testing import assert_almost_equal\n",
    "assert_almost_equal(ceq_aggregates.loc['market_income_plus_pensions'].values, total_income, decimal = 5) \n",
    "# print('market_income_plus_pensions = {} vs {} = total_income'.format(\n",
    "#         ceq_aggregates.loc['market_income_plus_pensions'].values,\n",
    "#         total_income\n",
    "#         )\n",
    "#     )\n"
   ]
  },
  {
   "cell_type": "markdown",
   "metadata": {
    "papermill": {
     "duration": 0.029099,
     "end_time": "2020-09-13T20:52:23.270485",
     "exception": false,
     "start_time": "2020-09-13T20:52:23.241386",
     "status": "completed"
    },
    "tags": []
   },
   "source": [
    "#### Wages by public/private sector"
   ]
  },
  {
   "cell_type": "code",
   "execution_count": 13,
   "metadata": {
    "execution": {
     "iopub.execute_input": "2020-09-13T20:52:23.340414Z",
     "iopub.status.busy": "2020-09-13T20:52:23.338933Z",
     "iopub.status.idle": "2020-09-13T20:52:23.343868Z",
     "shell.execute_reply": "2020-09-13T20:52:23.344951Z"
    },
    "papermill": {
     "duration": 0.044566,
     "end_time": "2020-09-13T20:52:23.345329",
     "exception": false,
     "start_time": "2020-09-13T20:52:23.300763",
     "status": "completed"
    },
    "tags": []
   },
   "outputs": [
    {
     "data": {
      "text/plain": [
       "'Count : 77306.0'"
      ]
     },
     "execution_count": 13,
     "metadata": {},
     "output_type": "execute_result"
    }
   ],
   "source": [
    "\"Count : {}\".format(round(\n",
    "    survey_scenario.compute_aggregate(\"secteur_public\", period = year)\n",
    "    ))"
   ]
  },
  {
   "cell_type": "code",
   "execution_count": 14,
   "metadata": {
    "execution": {
     "iopub.execute_input": "2020-09-13T20:52:23.412255Z",
     "iopub.status.busy": "2020-09-13T20:52:23.411487Z",
     "iopub.status.idle": "2020-09-13T20:52:23.474002Z",
     "shell.execute_reply": "2020-09-13T20:52:23.474922Z"
    },
    "papermill": {
     "duration": 0.099138,
     "end_time": "2020-09-13T20:52:23.475153",
     "exception": false,
     "start_time": "2020-09-13T20:52:23.376015",
     "status": "completed"
    },
    "tags": []
   },
   "outputs": [
    {
     "data": {
      "text/html": [
       "<div>\n",
       "<style scoped>\n",
       "    .dataframe tbody tr th:only-of-type {\n",
       "        vertical-align: middle;\n",
       "    }\n",
       "\n",
       "    .dataframe tbody tr th {\n",
       "        vertical-align: top;\n",
       "    }\n",
       "\n",
       "    .dataframe thead th {\n",
       "        text-align: right;\n",
       "    }\n",
       "</style>\n",
       "<table border=\"1\" class=\"dataframe\">\n",
       "  <thead>\n",
       "    <tr style=\"text-align: right;\">\n",
       "      <th>secteur_public</th>\n",
       "      <th>False</th>\n",
       "      <th>True</th>\n",
       "    </tr>\n",
       "  </thead>\n",
       "  <tbody>\n",
       "    <tr>\n",
       "      <th>salaire</th>\n",
       "      <td>40</td>\n",
       "      <td>28</td>\n",
       "    </tr>\n",
       "    <tr>\n",
       "      <th>salaire_brut</th>\n",
       "      <td>48</td>\n",
       "      <td>33</td>\n",
       "    </tr>\n",
       "    <tr>\n",
       "      <th>salaire_super_brut</th>\n",
       "      <td>57</td>\n",
       "      <td>39</td>\n",
       "    </tr>\n",
       "  </tbody>\n",
       "</table>\n",
       "</div>"
      ],
      "text/plain": [
       "secteur_public      False  True \n",
       "salaire                40     28\n",
       "salaire_brut           48     33\n",
       "salaire_super_brut     57     39"
      ]
     },
     "execution_count": 14,
     "metadata": {},
     "output_type": "execute_result"
    }
   ],
   "source": [
    "(\n",
    "    survey_scenario.compute_pivot_table(\n",
    "        columns = [\"secteur_public\"], \n",
    "        values = [\"salaire\", \"salaire_brut\", \"salaire_super_brut\"],\n",
    "        aggfunc = \"sum\",\n",
    "        period = year,\n",
    "        concat_axis = 0,\n",
    "        ) / 1e9\n",
    "    ).round(0).astype(int)"
   ]
  },
  {
   "cell_type": "markdown",
   "metadata": {
    "papermill": {
     "duration": 0.04411,
     "end_time": "2020-09-13T20:52:23.585745",
     "exception": false,
     "start_time": "2020-09-13T20:52:23.541635",
     "status": "completed"
    },
    "tags": []
   },
   "source": [
    "## Education variables"
   ]
  },
  {
   "cell_type": "markdown",
   "metadata": {
    "papermill": {
     "duration": 0.039001,
     "end_time": "2020-09-13T20:52:23.660920",
     "exception": false,
     "start_time": "2020-09-13T20:52:23.621919",
     "status": "completed"
    },
    "tags": []
   },
   "source": [
    "### Counts (in millions)"
   ]
  },
  {
   "cell_type": "code",
   "execution_count": 15,
   "metadata": {
    "execution": {
     "iopub.execute_input": "2020-09-13T20:52:23.738305Z",
     "iopub.status.busy": "2020-09-13T20:52:23.737259Z",
     "iopub.status.idle": "2020-09-13T20:52:23.763267Z",
     "shell.execute_reply": "2020-09-13T20:52:23.762478Z"
    },
    "papermill": {
     "duration": 0.06789,
     "end_time": "2020-09-13T20:52:23.763422",
     "exception": false,
     "start_time": "2020-09-13T20:52:23.695532",
     "status": "completed"
    },
    "tags": []
   },
   "outputs": [
    {
     "name": "stdout",
     "output_type": "stream",
     "text": [
      "eleve_enseignement_niveau  -1.0   0.0   1.0   2.0   3.0\n",
      "eleve_enseignement_public                              \n",
      "1.0                        12.4  0.11  1.77  1.27  0.12\n"
     ]
    }
   ],
   "source": [
    "print((survey_scenario.compute_pivot_table(columns = ['eleve_enseignement_niveau'], index = ['eleve_enseignement_public'], aggfunc = 'count', period = survey_scenario.year) / 1e6).round(2))"
   ]
  },
  {
   "cell_type": "code",
   "execution_count": 16,
   "metadata": {
    "execution": {
     "iopub.execute_input": "2020-09-13T20:52:23.835424Z",
     "iopub.status.busy": "2020-09-13T20:52:23.834837Z",
     "iopub.status.idle": "2020-09-13T20:52:23.854613Z",
     "shell.execute_reply": "2020-09-13T20:52:23.855332Z"
    },
    "papermill": {
     "duration": 0.056494,
     "end_time": "2020-09-13T20:52:23.855526",
     "exception": false,
     "start_time": "2020-09-13T20:52:23.799032",
     "status": "completed"
    },
    "tags": []
   },
   "outputs": [
    {
     "name": "stdout",
     "output_type": "stream",
     "text": [
      "In kind education tranfers\n",
      "pre_school_person: 0 billions FCFA\n",
      "pre_school: 0 billions FCFA\n",
      "primary_education_person: 116 billions FCFA\n",
      "primary_education: 116 billions FCFA\n",
      "secondary_education_person: 155 billions FCFA\n",
      "secondary_education: 155 billions FCFA\n",
      "tertiary_education_person: 14 billions FCFA\n",
      "tertiary_education: 14 billions FCFA\n",
      "education_net_transfers: 284 billions FCFA\n"
     ]
    }
   ],
   "source": [
    "variables = [\n",
    "    'pre_school_person',\n",
    "    'pre_school',\n",
    "    'primary_education_person',\n",
    "    'primary_education',\n",
    "    'secondary_education_person',\n",
    "    'secondary_education',\n",
    "    'tertiary_education_person',\n",
    "    'tertiary_education',\n",
    "    'education_net_transfers',\n",
    "    ]\n",
    "print(\"In kind education tranfers\")\n",
    "for variable in variables:\n",
    "    print(\n",
    "        \"{variable}: {aggregate} billions FCFA\".format(\n",
    "            variable = variable,\n",
    "            aggregate = int(round(survey_scenario.compute_aggregate(variable, period = survey_scenario.year) / 1e9))\n",
    "            )\n",
    "        )"
   ]
  },
  {
   "cell_type": "markdown",
   "metadata": {
    "papermill": {
     "duration": 0.031056,
     "end_time": "2020-09-13T20:52:23.924229",
     "exception": false,
     "start_time": "2020-09-13T20:52:23.893173",
     "status": "completed"
    },
    "tags": []
   },
   "source": [
    "## Inflating income and consumption"
   ]
  },
  {
   "cell_type": "code",
   "execution_count": 17,
   "metadata": {
    "execution": {
     "iopub.execute_input": "2020-09-13T20:52:23.994141Z",
     "iopub.status.busy": "2020-09-13T20:52:23.993107Z",
     "iopub.status.idle": "2020-09-13T20:52:27.827700Z",
     "shell.execute_reply": "2020-09-13T20:52:27.828364Z"
    },
    "papermill": {
     "duration": 3.872368,
     "end_time": "2020-09-13T20:52:27.828542",
     "exception": false,
     "start_time": "2020-09-13T20:52:23.956174",
     "status": "completed"
    },
    "tags": []
   },
   "outputs": [],
   "source": [
    "inflated_survey_scenario = build_ceq_survey_scenario(\n",
    "    legislation_country = country, \n",
    "    year = year,\n",
    "    inflate = True,\n",
    "    )"
   ]
  },
  {
   "cell_type": "code",
   "execution_count": 18,
   "metadata": {
    "execution": {
     "iopub.execute_input": "2020-09-13T20:52:27.938425Z",
     "iopub.status.busy": "2020-09-13T20:52:27.937338Z",
     "iopub.status.idle": "2020-09-13T20:52:27.940978Z",
     "shell.execute_reply": "2020-09-13T20:52:27.941855Z"
    },
    "papermill": {
     "duration": 0.050433,
     "end_time": "2020-09-13T20:52:27.942072",
     "exception": false,
     "start_time": "2020-09-13T20:52:27.891639",
     "status": "completed"
    },
    "tags": []
   },
   "outputs": [
    {
     "name": "stderr",
     "output_type": "stream",
     "text": [
      "ERROR:root:No traceback has been produced, nothing to debug.\n"
     ]
    }
   ],
   "source": [
    "%debug"
   ]
  },
  {
   "cell_type": "code",
   "execution_count": 19,
   "metadata": {
    "execution": {
     "iopub.execute_input": "2020-09-13T20:52:28.014756Z",
     "iopub.status.busy": "2020-09-13T20:52:28.013664Z",
     "iopub.status.idle": "2020-09-13T20:52:28.081377Z",
     "shell.execute_reply": "2020-09-13T20:52:28.081814Z"
    },
    "papermill": {
     "duration": 0.104168,
     "end_time": "2020-09-13T20:52:28.081935",
     "exception": false,
     "start_time": "2020-09-13T20:52:27.977767",
     "status": "completed"
    },
    "tags": []
   },
   "outputs": [
    {
     "data": {
      "text/plain": [
       "'5630.075 == 5630.074895680164'"
      ]
     },
     "metadata": {},
     "output_type": "display_data"
    }
   ],
   "source": [
    "from openfisca_ceq.tools.data.income_targets import read_target\n",
    "gross_value_added = read_target(country, \"gross_value_added\") / 1e9\n",
    "gross_value_added_computed = sum(inflated_survey_scenario.compute_aggregate(income_variable, period = year) / 1e9\n",
    "    for income_variable in inflated_survey_scenario.income_variables\n",
    "    )\n",
    "display(\"{} == {}\".format(gross_value_added, gross_value_added_computed))"
   ]
  },
  {
   "cell_type": "markdown",
   "metadata": {
    "papermill": {
     "duration": 0.031754,
     "end_time": "2020-09-13T20:52:28.168995",
     "exception": false,
     "start_time": "2020-09-13T20:52:28.137241",
     "status": "completed"
    },
    "tags": []
   },
   "source": [
    "## Tax variables"
   ]
  },
  {
   "cell_type": "markdown",
   "metadata": {
    "papermill": {
     "duration": 0.033008,
     "end_time": "2020-09-13T20:52:28.235145",
     "exception": false,
     "start_time": "2020-09-13T20:52:28.202137",
     "status": "completed"
    },
    "tags": []
   },
   "source": [
    "### Direct taxes variables"
   ]
  },
  {
   "cell_type": "code",
   "execution_count": 20,
   "metadata": {
    "execution": {
     "iopub.execute_input": "2020-09-13T20:52:28.313576Z",
     "iopub.status.busy": "2020-09-13T20:52:28.312580Z",
     "iopub.status.idle": "2020-09-13T20:52:28.341337Z",
     "shell.execute_reply": "2020-09-13T20:52:28.342086Z"
    },
    "papermill": {
     "duration": 0.074238,
     "end_time": "2020-09-13T20:52:28.342234",
     "exception": false,
     "start_time": "2020-09-13T20:52:28.267996",
     "status": "completed"
    },
    "tags": []
   },
   "outputs": [
    {
     "data": {
      "text/html": [
       "<div>\n",
       "<style scoped>\n",
       "    .dataframe tbody tr th:only-of-type {\n",
       "        vertical-align: middle;\n",
       "    }\n",
       "\n",
       "    .dataframe tbody tr th {\n",
       "        vertical-align: top;\n",
       "    }\n",
       "\n",
       "    .dataframe thead th {\n",
       "        text-align: right;\n",
       "    }\n",
       "</style>\n",
       "<table border=\"1\" class=\"dataframe\">\n",
       "  <thead>\n",
       "    <tr style=\"text-align: right;\">\n",
       "      <th></th>\n",
       "      <th>aggregate</th>\n",
       "      <th>inflated_aggregate</th>\n",
       "    </tr>\n",
       "  </thead>\n",
       "  <tbody>\n",
       "    <tr>\n",
       "      <th>impot_traitement_salaire</th>\n",
       "      <td>7</td>\n",
       "      <td>38.0</td>\n",
       "    </tr>\n",
       "  </tbody>\n",
       "</table>\n",
       "</div>"
      ],
      "text/plain": [
       "                          aggregate  inflated_aggregate\n",
       "impot_traitement_salaire          7                38.0"
      ]
     },
     "execution_count": 20,
     "metadata": {},
     "output_type": "execute_result"
    }
   ],
   "source": [
    "from openfisca_ceq.tools.data.tax_targets import detailed_taxes_by_country, build_country_result\n",
    "direct_taxes_variables = detailed_taxes_by_country[country]\n",
    "\n",
    "direct_taxes = pd.concat(\n",
    "    [\n",
    "        pd.DataFrame(\n",
    "            index = direct_taxes_variables,\n",
    "            columns = ['aggregate'],\n",
    "            data = [\n",
    "                survey_scenario.compute_aggregate(variable, period = year) / 1e9 \n",
    "                for variable in direct_taxes_variables\n",
    "                ],\n",
    "            ),\n",
    "        pd.DataFrame(\n",
    "            index = direct_taxes_variables,\n",
    "            columns = ['inflated_aggregate'],\n",
    "            data = [\n",
    "                    inflated_survey_scenario.compute_aggregate(variable, period = year) / 1e9 \n",
    "                for variable in direct_taxes_variables\n",
    "                ],\n",
    "            )\n",
    "        ],\n",
    "    axis = 1\n",
    ")\n",
    "\n",
    "direct_taxes.round().astype({\"aggregate\": int})"
   ]
  },
  {
   "cell_type": "code",
   "execution_count": 21,
   "metadata": {
    "execution": {
     "iopub.execute_input": "2020-09-13T20:52:28.462103Z",
     "iopub.status.busy": "2020-09-13T20:52:28.461569Z",
     "iopub.status.idle": "2020-09-13T20:52:28.561070Z",
     "shell.execute_reply": "2020-09-13T20:52:28.561941Z"
    },
    "papermill": {
     "duration": 0.159138,
     "end_time": "2020-09-13T20:52:28.562156",
     "exception": false,
     "start_time": "2020-09-13T20:52:28.403018",
     "status": "completed"
    },
    "tags": []
   },
   "outputs": [
    {
     "data": {
      "text/html": [
       "<div>\n",
       "<style scoped>\n",
       "    .dataframe tbody tr th:only-of-type {\n",
       "        vertical-align: middle;\n",
       "    }\n",
       "\n",
       "    .dataframe tbody tr th {\n",
       "        vertical-align: top;\n",
       "    }\n",
       "\n",
       "    .dataframe thead tr th {\n",
       "        text-align: left;\n",
       "    }\n",
       "</style>\n",
       "<table border=\"1\" class=\"dataframe\">\n",
       "  <thead>\n",
       "    <tr>\n",
       "      <th></th>\n",
       "      <th colspan=\"3\" halign=\"left\">Mali</th>\n",
       "    </tr>\n",
       "    <tr>\n",
       "      <th></th>\n",
       "      <th>actual</th>\n",
       "      <th>direct</th>\n",
       "      <th>inflated</th>\n",
       "    </tr>\n",
       "  </thead>\n",
       "  <tbody>\n",
       "    <tr>\n",
       "      <th>Total tax revenue</th>\n",
       "      <td>873.9</td>\n",
       "      <td>NaN</td>\n",
       "      <td>NaN</td>\n",
       "    </tr>\n",
       "    <tr>\n",
       "      <th>Direct taxes</th>\n",
       "      <td>307.5</td>\n",
       "      <td>7.4</td>\n",
       "      <td>37.7</td>\n",
       "    </tr>\n",
       "    <tr>\n",
       "      <th>Personal Income Taxes</th>\n",
       "      <td>57.6</td>\n",
       "      <td>7.4</td>\n",
       "      <td>37.7</td>\n",
       "    </tr>\n",
       "    <tr>\n",
       "      <th>Social Security Contributions</th>\n",
       "      <td>86.7</td>\n",
       "      <td>19.6</td>\n",
       "      <td>29.9</td>\n",
       "    </tr>\n",
       "    <tr>\n",
       "      <th>Corporate Income Tax</th>\n",
       "      <td>113.3</td>\n",
       "      <td>0.0</td>\n",
       "      <td>0.0</td>\n",
       "    </tr>\n",
       "    <tr>\n",
       "      <th>Other Direct Taxes</th>\n",
       "      <td>49.9</td>\n",
       "      <td>NaN</td>\n",
       "      <td>NaN</td>\n",
       "    </tr>\n",
       "    <tr>\n",
       "      <th>Indirect taxes</th>\n",
       "      <td>566.4</td>\n",
       "      <td>228.6</td>\n",
       "      <td>381.2</td>\n",
       "    </tr>\n",
       "    <tr>\n",
       "      <th>VAT</th>\n",
       "      <td>282.2</td>\n",
       "      <td>207.6</td>\n",
       "      <td>346.2</td>\n",
       "    </tr>\n",
       "    <tr>\n",
       "      <th>Import Taxes</th>\n",
       "      <td>112.1</td>\n",
       "      <td>21.0</td>\n",
       "      <td>35.1</td>\n",
       "    </tr>\n",
       "    <tr>\n",
       "      <th>Excise taxes</th>\n",
       "      <td>16.1</td>\n",
       "      <td>0.0</td>\n",
       "      <td>0.0</td>\n",
       "    </tr>\n",
       "    <tr>\n",
       "      <th>on Oil Derivates</th>\n",
       "      <td>4.7</td>\n",
       "      <td>NaN</td>\n",
       "      <td>NaN</td>\n",
       "    </tr>\n",
       "    <tr>\n",
       "      <th>on alcohol, tabac and other non-oil derivatives</th>\n",
       "      <td>11.4</td>\n",
       "      <td>NaN</td>\n",
       "      <td>NaN</td>\n",
       "    </tr>\n",
       "    <tr>\n",
       "      <th>Other Indirect Taxes</th>\n",
       "      <td>156.0</td>\n",
       "      <td>NaN</td>\n",
       "      <td>NaN</td>\n",
       "    </tr>\n",
       "    <tr>\n",
       "      <th>Share simulated taxes (% of total tax revenue)</th>\n",
       "      <td>NaN</td>\n",
       "      <td>NaN</td>\n",
       "      <td>NaN</td>\n",
       "    </tr>\n",
       "    <tr>\n",
       "      <th>impot_traitement_salaire</th>\n",
       "      <td>NaN</td>\n",
       "      <td>7.4</td>\n",
       "      <td>37.7</td>\n",
       "    </tr>\n",
       "    <tr>\n",
       "      <th>total_ht_imports</th>\n",
       "      <td>NaN</td>\n",
       "      <td>346.1</td>\n",
       "      <td>577.2</td>\n",
       "    </tr>\n",
       "  </tbody>\n",
       "</table>\n",
       "</div>"
      ],
      "text/plain": [
       "                                                  Mali                \n",
       "                                                actual direct inflated\n",
       "Total tax revenue                                873.9    NaN      NaN\n",
       "Direct taxes                                     307.5    7.4     37.7\n",
       "Personal Income Taxes                             57.6    7.4     37.7\n",
       "Social Security Contributions                     86.7   19.6     29.9\n",
       "Corporate Income Tax                             113.3    0.0      0.0\n",
       "Other Direct Taxes                                49.9    NaN      NaN\n",
       "Indirect taxes                                   566.4  228.6    381.2\n",
       "VAT                                              282.2  207.6    346.2\n",
       "Import Taxes                                     112.1   21.0     35.1\n",
       "Excise taxes                                      16.1    0.0      0.0\n",
       "on Oil Derivates                                   4.7    NaN      NaN\n",
       "on alcohol, tabac and other non-oil derivatives   11.4    NaN      NaN\n",
       "Other Indirect Taxes                             156.0    NaN      NaN\n",
       "Share simulated taxes (% of total tax revenue)     NaN    NaN      NaN\n",
       "impot_traitement_salaire                           NaN    7.4     37.7\n",
       "total_ht_imports                                   NaN  346.1    577.2"
      ]
     },
     "execution_count": 21,
     "metadata": {},
     "output_type": "execute_result"
    }
   ],
   "source": [
    "build_country_result(survey_scenario, inflated_survey_scenario, add_country_details = True)"
   ]
  },
  {
   "cell_type": "markdown",
   "metadata": {
    "papermill": {
     "duration": 0.031705,
     "end_time": "2020-09-13T20:52:28.632542",
     "exception": false,
     "start_time": "2020-09-13T20:52:28.600837",
     "status": "completed"
    },
    "tags": []
   },
   "source": [
    "### Indirect tax variables"
   ]
  },
  {
   "cell_type": "code",
   "execution_count": 22,
   "metadata": {
    "execution": {
     "iopub.execute_input": "2020-09-13T20:52:28.705624Z",
     "iopub.status.busy": "2020-09-13T20:52:28.705108Z",
     "iopub.status.idle": "2020-09-13T20:52:28.710159Z",
     "shell.execute_reply": "2020-09-13T20:52:28.710960Z"
    },
    "papermill": {
     "duration": 0.046552,
     "end_time": "2020-09-13T20:52:28.711174",
     "exception": false,
     "start_time": "2020-09-13T20:52:28.664622",
     "status": "completed"
    },
    "tags": []
   },
   "outputs": [
    {
     "data": {
      "text/plain": [
       "['depenses_ht_tva_exonere',\n",
       " 'depenses_ht_tva_taux_normal',\n",
       " 'tva_taux_normal',\n",
       " 'tva',\n",
       " 'depenses_ht_hd_sd_droits_douane_biens_specifiques',\n",
       " 'depenses_ht_hd_sd_droits_douane_consommation_finale',\n",
       " 'depenses_ht_hd_sd_droits_douane_consommation_intermediaire',\n",
       " 'depenses_ht_hd_sd_droits_douane_equipements',\n",
       " 'depenses_ht_hd_sd_droits_douane_exonere',\n",
       " 'droits_douane_biens_specifiques',\n",
       " 'droits_douane_consommation_finale',\n",
       " 'droits_douane_consommation_intermediaire',\n",
       " 'droits_douane_equipements',\n",
       " 'droits_douane']"
      ]
     },
     "execution_count": 22,
     "metadata": {},
     "output_type": "execute_result"
    }
   ],
   "source": [
    "indirect_tax_variables = [\n",
    "    variable \n",
    "    for tax in indirect_tax_by_country[country]\n",
    "    for variable in survey_scenario.tax_benefit_system.variables.keys() \n",
    "    if tax in variable \n",
    "    ]\n",
    "indirect_tax_variables"
   ]
  },
  {
   "cell_type": "code",
   "execution_count": 23,
   "metadata": {
    "execution": {
     "iopub.execute_input": "2020-09-13T20:52:28.786102Z",
     "iopub.status.busy": "2020-09-13T20:52:28.785612Z",
     "iopub.status.idle": "2020-09-13T20:52:28.802675Z",
     "shell.execute_reply": "2020-09-13T20:52:28.802110Z"
    },
    "papermill": {
     "duration": 0.057119,
     "end_time": "2020-09-13T20:52:28.802804",
     "exception": false,
     "start_time": "2020-09-13T20:52:28.745685",
     "status": "completed"
    },
    "tags": []
   },
   "outputs": [
    {
     "data": {
      "text/html": [
       "<div>\n",
       "<style scoped>\n",
       "    .dataframe tbody tr th:only-of-type {\n",
       "        vertical-align: middle;\n",
       "    }\n",
       "\n",
       "    .dataframe tbody tr th {\n",
       "        vertical-align: top;\n",
       "    }\n",
       "\n",
       "    .dataframe thead th {\n",
       "        text-align: right;\n",
       "    }\n",
       "</style>\n",
       "<table border=\"1\" class=\"dataframe\">\n",
       "  <thead>\n",
       "    <tr style=\"text-align: right;\">\n",
       "      <th></th>\n",
       "      <th>aggregate</th>\n",
       "    </tr>\n",
       "  </thead>\n",
       "  <tbody>\n",
       "    <tr>\n",
       "      <th>depenses_ht_tva_exonere</th>\n",
       "      <td>1208</td>\n",
       "    </tr>\n",
       "    <tr>\n",
       "      <th>depenses_ht_tva_taux_normal</th>\n",
       "      <td>1153</td>\n",
       "    </tr>\n",
       "    <tr>\n",
       "      <th>tva_taux_normal</th>\n",
       "      <td>208</td>\n",
       "    </tr>\n",
       "    <tr>\n",
       "      <th>tva</th>\n",
       "      <td>208</td>\n",
       "    </tr>\n",
       "    <tr>\n",
       "      <th>depenses_ht_hd_sd_droits_douane_biens_specifiques</th>\n",
       "      <td>2</td>\n",
       "    </tr>\n",
       "    <tr>\n",
       "      <th>depenses_ht_hd_sd_droits_douane_consommation_finale</th>\n",
       "      <td>57</td>\n",
       "    </tr>\n",
       "    <tr>\n",
       "      <th>depenses_ht_hd_sd_droits_douane_consommation_intermediaire</th>\n",
       "      <td>84</td>\n",
       "    </tr>\n",
       "    <tr>\n",
       "      <th>depenses_ht_hd_sd_droits_douane_equipements</th>\n",
       "      <td>9</td>\n",
       "    </tr>\n",
       "    <tr>\n",
       "      <th>depenses_ht_hd_sd_droits_douane_exonere</th>\n",
       "      <td>173</td>\n",
       "    </tr>\n",
       "    <tr>\n",
       "      <th>droits_douane_biens_specifiques</th>\n",
       "      <td>1</td>\n",
       "    </tr>\n",
       "    <tr>\n",
       "      <th>droits_douane_consommation_finale</th>\n",
       "      <td>11</td>\n",
       "    </tr>\n",
       "    <tr>\n",
       "      <th>droits_douane_consommation_intermediaire</th>\n",
       "      <td>8</td>\n",
       "    </tr>\n",
       "    <tr>\n",
       "      <th>droits_douane_equipements</th>\n",
       "      <td>0</td>\n",
       "    </tr>\n",
       "    <tr>\n",
       "      <th>droits_douane</th>\n",
       "      <td>21</td>\n",
       "    </tr>\n",
       "  </tbody>\n",
       "</table>\n",
       "</div>"
      ],
      "text/plain": [
       "                                                    aggregate\n",
       "depenses_ht_tva_exonere                                  1208\n",
       "depenses_ht_tva_taux_normal                              1153\n",
       "tva_taux_normal                                           208\n",
       "tva                                                       208\n",
       "depenses_ht_hd_sd_droits_douane_biens_specifiques           2\n",
       "depenses_ht_hd_sd_droits_douane_consommation_fi...         57\n",
       "depenses_ht_hd_sd_droits_douane_consommation_in...         84\n",
       "depenses_ht_hd_sd_droits_douane_equipements                 9\n",
       "depenses_ht_hd_sd_droits_douane_exonere                   173\n",
       "droits_douane_biens_specifiques                             1\n",
       "droits_douane_consommation_finale                          11\n",
       "droits_douane_consommation_intermediaire                    8\n",
       "droits_douane_equipements                                   0\n",
       "droits_douane                                              21"
      ]
     },
     "execution_count": 23,
     "metadata": {},
     "output_type": "execute_result"
    }
   ],
   "source": [
    "taxes_and_tariffs = pd.DataFrame(\n",
    "    index = indirect_tax_variables,\n",
    "    columns = ['aggregate'],\n",
    "    data = [\n",
    "        survey_scenario.compute_aggregate(variable, period = year) / 1e9 \n",
    "        for variable in indirect_tax_variables\n",
    "        ]\n",
    "    )\n",
    "taxes_and_tariffs.round().astype({\"aggregate\": int})"
   ]
  },
  {
   "cell_type": "markdown",
   "metadata": {
    "papermill": {
     "duration": 0.035557,
     "end_time": "2020-09-13T20:52:28.877676",
     "exception": false,
     "start_time": "2020-09-13T20:52:28.842119",
     "status": "completed"
    },
    "tags": []
   },
   "source": [
    "### Verify consumption"
   ]
  },
  {
   "cell_type": "code",
   "execution_count": 24,
   "metadata": {
    "execution": {
     "iopub.execute_input": "2020-09-13T20:52:28.952839Z",
     "iopub.status.busy": "2020-09-13T20:52:28.952363Z",
     "iopub.status.idle": "2020-09-13T20:52:28.960408Z",
     "shell.execute_reply": "2020-09-13T20:52:28.961181Z"
    },
    "papermill": {
     "duration": 0.047109,
     "end_time": "2020-09-13T20:52:28.961393",
     "exception": false,
     "start_time": "2020-09-13T20:52:28.914284",
     "status": "completed"
    },
    "tags": []
   },
   "outputs": [
    {
     "data": {
      "text/plain": [
       "2568.5555171247443"
      ]
     },
     "execution_count": 24,
     "metadata": {},
     "output_type": "execute_result"
    }
   ],
   "source": [
    "consumption = survey_scenario.compute_aggregate('consumption', period = year) / 1e9\n",
    "consumption"
   ]
  },
  {
   "cell_type": "code",
   "execution_count": 25,
   "metadata": {
    "execution": {
     "iopub.execute_input": "2020-09-13T20:52:29.051973Z",
     "iopub.status.busy": "2020-09-13T20:52:29.050705Z",
     "iopub.status.idle": "2020-09-13T20:52:29.054901Z",
     "shell.execute_reply": "2020-09-13T20:52:29.055592Z"
    },
    "papermill": {
     "duration": 0.050814,
     "end_time": "2020-09-13T20:52:29.055780",
     "exception": false,
     "start_time": "2020-09-13T20:52:29.004966",
     "status": "completed"
    },
    "tags": []
   },
   "outputs": [
    {
     "data": {
      "text/plain": [
       "2568.555589489342"
      ]
     },
     "execution_count": 25,
     "metadata": {},
     "output_type": "execute_result"
    }
   ],
   "source": [
    "# assert consumption == \n",
    "sum(taxes_and_tariffs['aggregate'][\n",
    "    taxes_and_tariffs.index.str.contains('tva_')\n",
    "    ])"
   ]
  },
  {
   "cell_type": "code",
   "execution_count": 26,
   "metadata": {
    "execution": {
     "iopub.execute_input": "2020-09-13T20:52:29.143802Z",
     "iopub.status.busy": "2020-09-13T20:52:29.142848Z",
     "iopub.status.idle": "2020-09-13T20:52:29.154543Z",
     "shell.execute_reply": "2020-09-13T20:52:29.155520Z"
    },
    "papermill": {
     "duration": 0.058636,
     "end_time": "2020-09-13T20:52:29.155764",
     "exception": false,
     "start_time": "2020-09-13T20:52:29.097128",
     "status": "completed"
    },
    "tags": []
   },
   "outputs": [
    {
     "data": {
      "text/plain": [
       "2568.555619351711"
      ]
     },
     "execution_count": 26,
     "metadata": {},
     "output_type": "execute_result"
    }
   ],
   "source": [
    "# assert consumption == \n",
    "(\n",
    "    sum(\n",
    "        survey_scenario.compute_aggregate(variable, period = year)\n",
    "        for variable in survey_scenario.tax_benefit_system.variables\n",
    "        if \"depenses_ht_hd_poste\" in variable \n",
    "        ) \n",
    "    + survey_scenario.compute_aggregate(\"droits_douane\", period = year)\n",
    "    + survey_scenario.compute_aggregate(\"tva\", period = year)\n",
    "    ) / 1e9"
   ]
  },
  {
   "cell_type": "markdown",
   "metadata": {
    "papermill": {
     "duration": 0.037418,
     "end_time": "2020-09-13T20:52:29.235437",
     "exception": false,
     "start_time": "2020-09-13T20:52:29.198019",
     "status": "completed"
    },
    "tags": []
   },
   "source": [
    "# Inflate incomes   "
   ]
  },
  {
   "cell_type": "markdown",
   "metadata": {
    "papermill": {
     "duration": 0.034063,
     "end_time": "2020-09-13T20:52:29.307112",
     "exception": false,
     "start_time": "2020-09-13T20:52:29.273049",
     "status": "completed"
    },
    "tags": []
   },
   "source": [
    "## Income variables"
   ]
  },
  {
   "cell_type": "code",
   "execution_count": 27,
   "metadata": {
    "execution": {
     "iopub.execute_input": "2020-09-13T20:52:29.385871Z",
     "iopub.status.busy": "2020-09-13T20:52:29.385444Z",
     "iopub.status.idle": "2020-09-13T20:52:29.388708Z",
     "shell.execute_reply": "2020-09-13T20:52:29.389430Z"
    },
    "papermill": {
     "duration": 0.043997,
     "end_time": "2020-09-13T20:52:29.389625",
     "exception": false,
     "start_time": "2020-09-13T20:52:29.345628",
     "status": "completed"
    },
    "tags": []
   },
   "outputs": [],
   "source": [
    "income_variables = [\n",
    "    'autoconsumption',\n",
    "    'other_income',\n",
    "    'gifts_sales_durables',\n",
    "    'imputed_rent',\n",
    "    'revenu_agricole',\n",
    "    'autres_revenus_du_capital',\n",
    "    'revenu_informel_non_salarie',\n",
    "    'revenu_non_salarie',\n",
    "    'revenu_locatif',\n",
    "    'pension_retraite',\n",
    "    'salaire_super_brut',\n",
    "    ]"
   ]
  },
  {
   "cell_type": "code",
   "execution_count": 28,
   "metadata": {
    "execution": {
     "iopub.execute_input": "2020-09-13T20:52:29.468495Z",
     "iopub.status.busy": "2020-09-13T20:52:29.467508Z",
     "iopub.status.idle": "2020-09-13T20:52:29.477312Z",
     "shell.execute_reply": "2020-09-13T20:52:29.478160Z"
    },
    "papermill": {
     "duration": 0.052387,
     "end_time": "2020-09-13T20:52:29.478407",
     "exception": false,
     "start_time": "2020-09-13T20:52:29.426020",
     "status": "completed"
    },
    "tags": []
   },
   "outputs": [
    {
     "data": {
      "text/plain": [
       "1970.8831206826194"
      ]
     },
     "execution_count": 28,
     "metadata": {},
     "output_type": "execute_result"
    }
   ],
   "source": [
    "sum(\n",
    "    survey_scenario.compute_aggregate(income_variable, period = year)\n",
    "    for income_variable in income_variables\n",
    "    ) / 1e9"
   ]
  },
  {
   "cell_type": "code",
   "execution_count": null,
   "metadata": {
    "papermill": {
     "duration": 0.036806,
     "end_time": "2020-09-13T20:52:29.555818",
     "exception": false,
     "start_time": "2020-09-13T20:52:29.519012",
     "status": "completed"
    },
    "tags": []
   },
   "outputs": [],
   "source": []
  },
  {
   "cell_type": "code",
   "execution_count": 29,
   "metadata": {
    "execution": {
     "iopub.execute_input": "2020-09-13T20:52:29.632307Z",
     "iopub.status.busy": "2020-09-13T20:52:29.631528Z",
     "iopub.status.idle": "2020-09-13T20:52:29.637874Z",
     "shell.execute_reply": "2020-09-13T20:52:29.638207Z"
    },
    "papermill": {
     "duration": 0.04569,
     "end_time": "2020-09-13T20:52:29.638312",
     "exception": false,
     "start_time": "2020-09-13T20:52:29.592622",
     "status": "completed"
    },
    "tags": []
   },
   "outputs": [
    {
     "data": {
      "text/plain": [
       "5065.348509528773"
      ]
     },
     "execution_count": 29,
     "metadata": {},
     "output_type": "execute_result"
    }
   ],
   "source": [
    "sum(\n",
    "    inflated_survey_scenario.compute_aggregate(income_variable, period = year)\n",
    "    for income_variable in income_variables\n",
    "    ) / 1e9"
   ]
  },
  {
   "cell_type": "markdown",
   "metadata": {
    "papermill": {
     "duration": 0.035124,
     "end_time": "2020-09-13T20:52:29.708459",
     "exception": false,
     "start_time": "2020-09-13T20:52:29.673335",
     "status": "completed"
    },
    "tags": []
   },
   "source": [
    "# Indicators"
   ]
  },
  {
   "cell_type": "code",
   "execution_count": 30,
   "metadata": {
    "execution": {
     "iopub.execute_input": "2020-09-13T20:52:29.786663Z",
     "iopub.status.busy": "2020-09-13T20:52:29.786177Z",
     "iopub.status.idle": "2020-09-13T20:52:29.876571Z",
     "shell.execute_reply": "2020-09-13T20:52:29.877448Z"
    },
    "papermill": {
     "duration": 0.133108,
     "end_time": "2020-09-13T20:52:29.877676",
     "exception": false,
     "start_time": "2020-09-13T20:52:29.744568",
     "status": "completed"
    },
    "tags": []
   },
   "outputs": [
    {
     "data": {
      "text/html": [
       "<div>\n",
       "<style scoped>\n",
       "    .dataframe tbody tr th:only-of-type {\n",
       "        vertical-align: middle;\n",
       "    }\n",
       "\n",
       "    .dataframe tbody tr th {\n",
       "        vertical-align: top;\n",
       "    }\n",
       "\n",
       "    .dataframe thead th {\n",
       "        text-align: right;\n",
       "    }\n",
       "</style>\n",
       "<table border=\"1\" class=\"dataframe\">\n",
       "  <thead>\n",
       "    <tr style=\"text-align: right;\">\n",
       "      <th></th>\n",
       "      <th>market_income</th>\n",
       "      <th>market_income_plus_pensions</th>\n",
       "      <th>gross_income</th>\n",
       "      <th>disposable_income</th>\n",
       "      <th>consumable_income</th>\n",
       "      <th>final_income</th>\n",
       "    </tr>\n",
       "  </thead>\n",
       "  <tbody>\n",
       "    <tr>\n",
       "      <th>Gini</th>\n",
       "      <td>0.46</td>\n",
       "      <td>0.46</td>\n",
       "      <td>0.46</td>\n",
       "      <td>0.46</td>\n",
       "      <td>0.51</td>\n",
       "      <td>0.45</td>\n",
       "    </tr>\n",
       "    <tr>\n",
       "      <th>Bottom 40 %</th>\n",
       "      <td>0.13</td>\n",
       "      <td>0.13</td>\n",
       "      <td>0.13</td>\n",
       "      <td>0.13</td>\n",
       "      <td>0.10</td>\n",
       "      <td>0.14</td>\n",
       "    </tr>\n",
       "    <tr>\n",
       "      <th>Top 10 %</th>\n",
       "      <td>0.35</td>\n",
       "      <td>0.35</td>\n",
       "      <td>0.35</td>\n",
       "      <td>0.35</td>\n",
       "      <td>0.37</td>\n",
       "      <td>0.34</td>\n",
       "    </tr>\n",
       "  </tbody>\n",
       "</table>\n",
       "</div>"
      ],
      "text/plain": [
       "             market_income  market_income_plus_pensions  gross_income  \\\n",
       "Gini                  0.46                         0.46          0.46   \n",
       "Bottom 40 %           0.13                         0.13          0.13   \n",
       "Top 10 %              0.35                         0.35          0.35   \n",
       "\n",
       "             disposable_income  consumable_income  final_income  \n",
       "Gini                      0.46               0.51          0.45  \n",
       "Bottom 40 %               0.13               0.10          0.14  \n",
       "Top 10 %                  0.35               0.37          0.34  "
      ]
     },
     "metadata": {},
     "output_type": "display_data"
    }
   ],
   "source": [
    "from openfisca_survey_manager.statshelpers import lorenz\n",
    "from openfisca_ceq.tools.results.inequality import inequality_table\n",
    "display(inequality_table(survey_scenario))"
   ]
  },
  {
   "cell_type": "code",
   "execution_count": 31,
   "metadata": {
    "execution": {
     "iopub.execute_input": "2020-09-13T20:52:29.963168Z",
     "iopub.status.busy": "2020-09-13T20:52:29.961840Z",
     "iopub.status.idle": "2020-09-13T20:52:29.968772Z",
     "shell.execute_reply": "2020-09-13T20:52:29.968013Z"
    },
    "papermill": {
     "duration": 0.049892,
     "end_time": "2020-09-13T20:52:29.968926",
     "exception": false,
     "start_time": "2020-09-13T20:52:29.919034",
     "status": "completed"
    },
    "tags": []
   },
   "outputs": [
    {
     "data": {
      "text/plain": [
       "228.61449992155934"
      ]
     },
     "execution_count": 31,
     "metadata": {},
     "output_type": "execute_result"
    }
   ],
   "source": [
    "survey_scenario.compute_aggregate(\"impots_indirects\", period = year) / 1e9"
   ]
  },
  {
   "cell_type": "code",
   "execution_count": 32,
   "metadata": {
    "execution": {
     "iopub.execute_input": "2020-09-13T20:52:30.049445Z",
     "iopub.status.busy": "2020-09-13T20:52:30.048804Z",
     "iopub.status.idle": "2020-09-13T20:52:30.054436Z",
     "shell.execute_reply": "2020-09-13T20:52:30.055216Z"
    },
    "papermill": {
     "duration": 0.048471,
     "end_time": "2020-09-13T20:52:30.055450",
     "exception": false,
     "start_time": "2020-09-13T20:52:30.006979",
     "status": "completed"
    },
    "tags": []
   },
   "outputs": [
    {
     "data": {
      "text/plain": [
       "7.426147500799683"
      ]
     },
     "execution_count": 32,
     "metadata": {},
     "output_type": "execute_result"
    }
   ],
   "source": [
    "survey_scenario.compute_aggregate(\"direct_taxes\", period = year) / 1e9"
   ]
  },
  {
   "cell_type": "code",
   "execution_count": 33,
   "metadata": {
    "execution": {
     "iopub.execute_input": "2020-09-13T20:52:30.134368Z",
     "iopub.status.busy": "2020-09-13T20:52:30.133375Z",
     "iopub.status.idle": "2020-09-13T20:52:30.138041Z",
     "shell.execute_reply": "2020-09-13T20:52:30.138784Z"
    },
    "papermill": {
     "duration": 0.045969,
     "end_time": "2020-09-13T20:52:30.138974",
     "exception": false,
     "start_time": "2020-09-13T20:52:30.093005",
     "status": "completed"
    },
    "tags": []
   },
   "outputs": [
    {
     "data": {
      "text/plain": [
       "7.426147500799683"
      ]
     },
     "execution_count": 33,
     "metadata": {},
     "output_type": "execute_result"
    }
   ],
   "source": [
    "survey_scenario.compute_aggregate(\"personal_income_tax\", period = year) / 1e9"
   ]
  },
  {
   "cell_type": "code",
   "execution_count": 34,
   "metadata": {
    "execution": {
     "iopub.execute_input": "2020-09-13T20:52:30.230259Z",
     "iopub.status.busy": "2020-09-13T20:52:30.229728Z",
     "iopub.status.idle": "2020-09-13T20:52:30.232768Z",
     "shell.execute_reply": "2020-09-13T20:52:30.233503Z"
    },
    "papermill": {
     "duration": 0.048599,
     "end_time": "2020-09-13T20:52:30.233700",
     "exception": false,
     "start_time": "2020-09-13T20:52:30.185101",
     "status": "completed"
    },
    "tags": []
   },
   "outputs": [],
   "source": [
    "from openfisca_ceq import list_variables_from_directory"
   ]
  },
  {
   "cell_type": "code",
   "execution_count": 35,
   "metadata": {
    "execution": {
     "iopub.execute_input": "2020-09-13T20:52:30.314581Z",
     "iopub.status.busy": "2020-09-13T20:52:30.314155Z",
     "iopub.status.idle": "2020-09-13T20:52:30.518990Z",
     "shell.execute_reply": "2020-09-13T20:52:30.519837Z"
    },
    "papermill": {
     "duration": 0.247923,
     "end_time": "2020-09-13T20:52:30.520055",
     "exception": false,
     "start_time": "2020-09-13T20:52:30.272132",
     "status": "completed"
    },
    "tags": []
   },
   "outputs": [
    {
     "data": {
      "text/plain": [
       "['agricultural_inputs_subsidies',\n",
       " 'alimony',\n",
       " 'corporate_income_tax',\n",
       " 'electricity_subsidies',\n",
       " 'employee_other_contributions',\n",
       " 'excise_taxes',\n",
       " 'food_subsidies',\n",
       " 'fuel_subsidies',\n",
       " 'indirect_subsidies',\n",
       " 'other_taxes',\n",
       " 'payroll_tax',\n",
       " 'pensions',\n",
       " 'property_tax',\n",
       " 'sales_tax',\n",
       " 'self_employed_contributions_health',\n",
       " 'self_employed_contributions_pensions',\n",
       " 'self_employed_other_contributions']"
      ]
     },
     "execution_count": 35,
     "metadata": {},
     "output_type": "execute_result"
    }
   ],
   "source": [
    "ceq_variables = sorted(list_variables_from_directory(survey_scenario.tax_benefit_system))\n",
    "[\n",
    "    ceq_variable\n",
    "    for ceq_variable in ceq_variables\n",
    "    if survey_scenario.compute_aggregate(ceq_variable, period = year) == 0\n",
    "    ]"
   ]
  },
  {
   "cell_type": "code",
   "execution_count": 36,
   "metadata": {
    "execution": {
     "iopub.execute_input": "2020-09-13T20:52:30.609054Z",
     "iopub.status.busy": "2020-09-13T20:52:30.608501Z",
     "iopub.status.idle": "2020-09-13T20:52:30.728274Z",
     "shell.execute_reply": "2020-09-13T20:52:30.728985Z"
    },
    "papermill": {
     "duration": 0.166107,
     "end_time": "2020-09-13T20:52:30.729173",
     "exception": false,
     "start_time": "2020-09-13T20:52:30.563066",
     "status": "completed"
    },
    "tags": []
   },
   "outputs": [
    {
     "data": {
      "text/plain": [
       "[<matplotlib.lines.Line2D at 0x7fa0d4032a10>]"
      ]
     },
     "execution_count": 36,
     "metadata": {},
     "output_type": "execute_result"
    },
    {
     "data": {
      "image/png": "[encoded data removed]",
      "text/plain": [
       "<Figure size 432x288 with 1 Axes>"
      ]
     },
     "metadata": {
      "needs_background": "light"
     },
     "output_type": "display_data"
    }
   ],
   "source": [
    "variable = \"market_income\"\n",
    "nb_persons = survey_scenario.calculate_variable(\"number_of_people_per_household\", period = year)\n",
    "weights = survey_scenario.calculate_variable(\"household_weight\", period = year) * nb_persons\n",
    "\n",
    "y, x = lorenz(survey_scenario.calculate_variable(variable, period = year) / nb_persons, weights = weights)\n",
    "plt.plot(x, y)"
   ]
  },
  {
   "cell_type": "code",
   "execution_count": 37,
   "metadata": {
    "execution": {
     "iopub.execute_input": "2020-09-13T20:52:30.816982Z",
     "iopub.status.busy": "2020-09-13T20:52:30.816373Z",
     "iopub.status.idle": "2020-09-13T20:52:30.821996Z",
     "shell.execute_reply": "2020-09-13T20:52:30.822926Z"
    },
    "papermill": {
     "duration": 0.050388,
     "end_time": "2020-09-13T20:52:30.823242",
     "exception": false,
     "start_time": "2020-09-13T20:52:30.772854",
     "status": "completed"
    },
    "tags": []
   },
   "outputs": [
    {
     "data": {
      "text/plain": [
       "0.0"
      ]
     },
     "execution_count": 37,
     "metadata": {},
     "output_type": "execute_result"
    }
   ],
   "source": [
    "survey_scenario.compute_aggregate('direct_transfers', period = year) / 1e9"
   ]
  },
  {
   "cell_type": "code",
   "execution_count": 38,
   "metadata": {
    "execution": {
     "iopub.execute_input": "2020-09-13T20:52:30.912588Z",
     "iopub.status.busy": "2020-09-13T20:52:30.911706Z",
     "iopub.status.idle": "2020-09-13T20:52:30.914931Z",
     "shell.execute_reply": "2020-09-13T20:52:30.915612Z"
    },
    "papermill": {
     "duration": 0.049136,
     "end_time": "2020-09-13T20:52:30.915795",
     "exception": false,
     "start_time": "2020-09-13T20:52:30.866659",
     "status": "completed"
    },
    "tags": []
   },
   "outputs": [
    {
     "data": {
      "text/plain": [
       "['agricultural_inputs_subsidies',\n",
       " 'alimony',\n",
       " 'all_income_excluding_transfers',\n",
       " 'autoconsumption',\n",
       " 'consumable_income',\n",
       " 'contributions_health',\n",
       " 'contributions_pensions',\n",
       " 'corporate_income_tax',\n",
       " 'customs_duties',\n",
       " 'decile_consumable_income_per_capita',\n",
       " 'decile_disposable_income_per_capita',\n",
       " 'decile_final_income_per_capita',\n",
       " 'decile_gross_income_per_capita',\n",
       " 'decile_market_income_per_capita',\n",
       " 'decile_market_income_plus_pensions_per_capita',\n",
       " 'decile_survey_income_per_capita',\n",
       " 'direct_taxes',\n",
       " 'disposable_income',\n",
       " 'electricity_subsidies',\n",
       " 'employee_contributions_health',\n",
       " 'employee_contributions_pensions',\n",
       " 'employee_other_contributions',\n",
       " 'employer_contributions_health',\n",
       " 'employer_contributions_pensions',\n",
       " 'employer_other_contributions',\n",
       " 'excise_taxes',\n",
       " 'final_income',\n",
       " 'food_subsidies',\n",
       " 'fuel_subsidies',\n",
       " 'gifts_sales_durables',\n",
       " 'gross_income',\n",
       " 'imputed_rent',\n",
       " 'indirect_subsidies',\n",
       " 'indirect_taxes',\n",
       " 'market_income',\n",
       " 'market_income_plus_pensions',\n",
       " 'net_market_income',\n",
       " 'nontaxable_income',\n",
       " 'other_contributions',\n",
       " 'other_income',\n",
       " 'other_taxes',\n",
       " 'payroll_tax',\n",
       " 'pensions',\n",
       " 'personal_income_tax',\n",
       " 'property_tax',\n",
       " 'sales_tax',\n",
       " 'self_employed_contributions_health',\n",
       " 'self_employed_contributions_pensions',\n",
       " 'self_employed_other_contributions',\n",
       " 'taxable_income',\n",
       " 'value_added_tax']"
      ]
     },
     "execution_count": 38,
     "metadata": {},
     "output_type": "execute_result"
    }
   ],
   "source": [
    "ceq_variables"
   ]
  },
  {
   "cell_type": "code",
   "execution_count": 39,
   "metadata": {
    "execution": {
     "iopub.execute_input": "2020-09-13T20:52:31.003473Z",
     "iopub.status.busy": "2020-09-13T20:52:31.002334Z",
     "iopub.status.idle": "2020-09-13T20:52:31.008273Z",
     "shell.execute_reply": "2020-09-13T20:52:31.009446Z"
    },
    "papermill": {
     "duration": 0.051842,
     "end_time": "2020-09-13T20:52:31.009753",
     "exception": false,
     "start_time": "2020-09-13T20:52:30.957911",
     "status": "completed"
    },
    "tags": []
   },
   "outputs": [
    {
     "data": {
      "text/plain": [
       "21026196716.147133"
      ]
     },
     "execution_count": 39,
     "metadata": {},
     "output_type": "execute_result"
    }
   ],
   "source": [
    "survey_scenario.compute_aggregate('customs_duties', period = year) "
   ]
  },
  {
   "cell_type": "code",
   "execution_count": 40,
   "metadata": {
    "execution": {
     "iopub.execute_input": "2020-09-13T20:52:31.097810Z",
     "iopub.status.busy": "2020-09-13T20:52:31.096608Z",
     "iopub.status.idle": "2020-09-13T20:52:34.785308Z",
     "shell.execute_reply": "2020-09-13T20:52:34.785844Z"
    },
    "papermill": {
     "duration": 3.734687,
     "end_time": "2020-09-13T20:52:34.785995",
     "exception": false,
     "start_time": "2020-09-13T20:52:31.051308",
     "status": "completed"
    },
    "tags": []
   },
   "outputs": [],
   "source": [
    "inflated_survey_scenario = build_ceq_survey_scenario(legislation_country = country, year = year, inflate = True)"
   ]
  },
  {
   "cell_type": "code",
   "execution_count": 41,
   "metadata": {
    "execution": {
     "iopub.execute_input": "2020-09-13T20:52:34.902766Z",
     "iopub.status.busy": "2020-09-13T20:52:34.901609Z",
     "iopub.status.idle": "2020-09-13T20:52:34.906912Z",
     "shell.execute_reply": "2020-09-13T20:52:34.906400Z"
    },
    "papermill": {
     "duration": 0.057528,
     "end_time": "2020-09-13T20:52:34.907015",
     "exception": false,
     "start_time": "2020-09-13T20:52:34.849487",
     "status": "completed"
    },
    "tags": []
   },
   "outputs": [
    {
     "data": {
      "text/plain": [
       "['poste_10_1_1_1',\n",
       " 'poste_11_2_1_1',\n",
       " 'poste_12_1_1_1',\n",
       " 'poste_12_3_1_1',\n",
       " 'poste_12_3_2_1_1',\n",
       " 'poste_12_4_1',\n",
       " 'poste_12_5_3_1_1',\n",
       " 'poste_12_5_item_1',\n",
       " 'poste_12_5_item_2',\n",
       " 'poste_12_5_item_3',\n",
       " 'poste_12_6_1_1_1',\n",
       " 'poste_12_7_1_1_1_item_1',\n",
       " 'poste_12_7_1_1_1_item_2',\n",
       " 'poste_1_1_1_1_1',\n",
       " 'poste_1_1_1_4_1_item_1',\n",
       " 'poste_1_1_1_4_1_item_2',\n",
       " 'poste_1_1_1_4_1_item_3',\n",
       " 'poste_1_1_1_4_3',\n",
       " 'poste_1_1_2_item_1',\n",
       " 'poste_1_1_2_item_2',\n",
       " 'poste_1_1_3_item_1',\n",
       " 'poste_1_1_3_item_2',\n",
       " 'poste_1_1_4_item_1',\n",
       " 'poste_1_1_4_item_2',\n",
       " 'poste_1_1_5_item_1',\n",
       " 'poste_1_1_5_item_2',\n",
       " 'poste_1_1_7_item_1',\n",
       " 'poste_1_1_7_item_2',\n",
       " 'poste_1_1_7_item_3',\n",
       " 'poste_1_1_7_item_4',\n",
       " 'poste_1_1_8',\n",
       " 'poste_1_1_9',\n",
       " 'poste_1_2',\n",
       " 'poste_2',\n",
       " 'poste_3_1_2',\n",
       " 'poste_3_2_1',\n",
       " 'poste_4_1_1_item_1',\n",
       " 'poste_4_1_1_item_2',\n",
       " 'poste_4_3_2_2_1_item_1',\n",
       " 'poste_4_3_2_2_1_item_2',\n",
       " 'poste_4_4_1_1_1',\n",
       " 'poste_4_4_1_2_1',\n",
       " 'poste_4_5_1_1_1',\n",
       " 'poste_4_5_2_1_1',\n",
       " 'poste_4_5_3_1_1',\n",
       " 'poste_4_5_4_1_1',\n",
       " 'poste_5_6_2_1_1',\n",
       " 'poste_6_1_1',\n",
       " 'poste_6_2_1_item_1',\n",
       " 'poste_6_2_1_item_2',\n",
       " 'poste_7_2_2',\n",
       " 'poste_7_2_3',\n",
       " 'poste_7_3_2_item_1',\n",
       " 'poste_7_3_2_item_2',\n",
       " 'poste_8_1_1_1_1',\n",
       " 'poste_8_1_2_2_1_item_1',\n",
       " 'poste_8_1_2_2_1_item_2',\n",
       " 'poste_9_1_1_1_1',\n",
       " 'poste_9_3_1_1_1_item_1',\n",
       " 'poste_9_3_1_1_1_item_2',\n",
       " 'poste_9_3_2_1_1',\n",
       " 'poste_9_3_3_1_1',\n",
       " 'poste_9_3_4_1_2',\n",
       " 'poste_9_4_1_1_item_1',\n",
       " 'poste_9_4_1_1_item_2',\n",
       " 'poste_9_4_2_3_1',\n",
       " 'poste_9_5_1_1',\n",
       " 'poste_9_5_2_1_1',\n",
       " 'poste_9_6_1']"
      ]
     },
     "execution_count": 41,
     "metadata": {},
     "output_type": "execute_result"
    }
   ],
   "source": [
    "sorted([\n",
    "    variable \n",
    "    for variable in survey_scenario.tax_benefit_system.variables \n",
    "    if variable.startswith('poste_')\n",
    "    ])"
   ]
  },
  {
   "cell_type": "code",
   "execution_count": 42,
   "metadata": {
    "execution": {
     "iopub.execute_input": "2020-09-13T20:52:34.991674Z",
     "iopub.status.busy": "2020-09-13T20:52:34.990608Z",
     "iopub.status.idle": "2020-09-13T20:52:34.996471Z",
     "shell.execute_reply": "2020-09-13T20:52:34.997317Z"
    },
    "papermill": {
     "duration": 0.052057,
     "end_time": "2020-09-13T20:52:34.997590",
     "exception": false,
     "start_time": "2020-09-13T20:52:34.945533",
     "status": "completed"
    },
    "tags": []
   },
   "outputs": [
    {
     "data": {
      "text/plain": [
       "228614499921.55936"
      ]
     },
     "execution_count": 42,
     "metadata": {},
     "output_type": "execute_result"
    }
   ],
   "source": [
    "survey_scenario.compute_aggregate('indirect_taxes', period = year)"
   ]
  },
  {
   "cell_type": "markdown",
   "metadata": {
    "papermill": {
     "duration": 0.045117,
     "end_time": "2020-09-13T20:52:35.083325",
     "exception": false,
     "start_time": "2020-09-13T20:52:35.038208",
     "status": "completed"
    },
    "tags": []
   },
   "source": [
    "Direct taxes"
   ]
  },
  {
   "cell_type": "code",
   "execution_count": null,
   "metadata": {
    "papermill": {
     "duration": 0.041208,
     "end_time": "2020-09-13T20:52:35.168577",
     "exception": false,
     "start_time": "2020-09-13T20:52:35.127369",
     "status": "completed"
    },
    "tags": []
   },
   "outputs": [],
   "source": []
  },
  {
   "cell_type": "code",
   "execution_count": null,
   "metadata": {
    "papermill": {
     "duration": 0.04422,
     "end_time": "2020-09-13T20:52:35.257666",
     "exception": false,
     "start_time": "2020-09-13T20:52:35.213446",
     "status": "completed"
    },
    "tags": []
   },
   "outputs": [],
   "source": []
  }
 ],
 "metadata": {
  "kernelspec": {
   "display_name": "Python 3",
   "language": "python",
   "name": "python3"
  },
  "language_info": {
   "codemirror_mode": {
    "name": "ipython",
    "version": 3
   },
   "file_extension": ".py",
   "mimetype": "text/x-python",
   "name": "python",
   "nbconvert_exporter": "python",
   "pygments_lexer": "ipython3",
   "version": "3.7.9"
  },
  "papermill": {
   "duration": 18.911482,
   "end_time": "2020-09-13T20:52:35.712787",
   "environment_variables": {},
   "exception": null,
   "input_path": "notebooks/test.ipynb",
   "output_path": "notebooks/mali.ipynb",
   "parameters": {
    "country": "mali"
   },
   "start_time": "2020-09-13T20:52:16.801305",
   "version": "2.1.2"
  }
 },
 "nbformat": 4,
 "nbformat_minor": 4
}