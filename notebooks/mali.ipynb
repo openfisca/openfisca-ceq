{
 "cells": [
  {
   "cell_type": "code",
   "execution_count": 1,
   "metadata": {
    "execution": {
     "iopub.execute_input": "2020-07-04T00:14:06.965138Z",
     "iopub.status.busy": "2020-07-04T00:14:06.964553Z",
     "iopub.status.idle": "2020-07-04T00:14:06.967971Z",
     "shell.execute_reply": "2020-07-04T00:14:06.967072Z"
    },
    "papermill": {
     "duration": 0.041246,
     "end_time": "2020-07-04T00:14:06.968179",
     "exception": false,
     "start_time": "2020-07-04T00:14:06.926933",
     "status": "completed"
    },
    "tags": []
   },
   "outputs": [],
   "source": [
    "# !pip install -U git+https://github.com/openfisca/openfisca-ceq.git@master#egg=OpenFisca-CEQ\n",
    "# !pip install -U git+https://github.com/openfisca/openfisca-senegal.git@ceq#egg=OpenFisca-Senegal\n",
    "# !pip install -U git+https://github.com/openfisca/openfisca-mali.git@master#egg=OpenFisca-Mali\n",
    "# !pip install -U git+https://github.com/openfisca/openfisca-cote-d-ivoire.git@master#egg=OpenFisca-COTE-D-IVOIRE"
   ]
  },
  {
   "cell_type": "code",
   "execution_count": 2,
   "metadata": {
    "execution": {
     "iopub.execute_input": "2020-07-04T00:14:07.039503Z",
     "iopub.status.busy": "2020-07-04T00:14:07.038388Z",
     "iopub.status.idle": "2020-07-04T00:14:07.703089Z",
     "shell.execute_reply": "2020-07-04T00:14:07.703688Z"
    },
    "papermill": {
     "duration": 0.703622,
     "end_time": "2020-07-04T00:14:07.703858",
     "exception": false,
     "start_time": "2020-07-04T00:14:07.000236",
     "status": "completed"
    },
    "tags": []
   },
   "outputs": [],
   "source": [
    "from matplotlib import pyplot as plt\n",
    "%matplotlib inline\n",
    "import pandas as pd\n",
    "from openfisca_ceq.tools.survey_scenario import build_ceq_survey_scenario\n",
    "from openfisca_ceq.tools.indirect_taxation.tax_benefit_system_indirect_taxation_completion import indirect_tax_by_country\n",
    "from openfisca_ceq.tools.data import year_by_country\n",
    "from openfisca_ceq.tools.data_ceq_correspondence import (\n",
    "    ceq_input_by_harmonized_variable,\n",
    "    ceq_intermediate_by_harmonized_variable,\n",
    "    non_ceq_input_by_harmonized_variable,\n",
    "    )"
   ]
  },
  {
   "cell_type": "markdown",
   "metadata": {
    "papermill": {
     "duration": 0.02455,
     "end_time": "2020-07-04T00:14:07.756952",
     "exception": false,
     "start_time": "2020-07-04T00:14:07.732402",
     "status": "completed"
    },
    "tags": []
   },
   "source": [
    "# Build country scenario"
   ]
  },
  {
   "cell_type": "markdown",
   "metadata": {
    "papermill": {
     "duration": 0.024835,
     "end_time": "2020-07-04T00:14:07.806910",
     "exception": false,
     "start_time": "2020-07-04T00:14:07.782075",
     "status": "completed"
    },
    "tags": []
   },
   "source": [
    "## Country selection"
   ]
  },
  {
   "cell_type": "code",
   "execution_count": 3,
   "metadata": {
    "execution": {
     "iopub.execute_input": "2020-07-04T00:14:07.860361Z",
     "iopub.status.busy": "2020-07-04T00:14:07.859860Z",
     "iopub.status.idle": "2020-07-04T00:14:07.862239Z",
     "shell.execute_reply": "2020-07-04T00:14:07.862554Z"
    },
    "papermill": {
     "duration": 0.031137,
     "end_time": "2020-07-04T00:14:07.862657",
     "exception": false,
     "start_time": "2020-07-04T00:14:07.831520",
     "status": "completed"
    },
    "tags": [
     "parameters"
    ]
   },
   "outputs": [],
   "source": [
    "country = \"mali\""
   ]
  },
  {
   "cell_type": "code",
   "execution_count": 4,
   "metadata": {
    "execution": {
     "iopub.execute_input": "2020-07-04T00:14:07.924688Z",
     "iopub.status.busy": "2020-07-04T00:14:07.923405Z",
     "iopub.status.idle": "2020-07-04T00:14:07.926278Z",
     "shell.execute_reply": "2020-07-04T00:14:07.927289Z"
    },
    "papermill": {
     "duration": 0.033393,
     "end_time": "2020-07-04T00:14:07.927561",
     "exception": false,
     "start_time": "2020-07-04T00:14:07.894168",
     "status": "completed"
    },
    "tags": [
     "injected-parameters"
    ]
   },
   "outputs": [],
   "source": [
    "# Parameters\n",
    "country = \"mali\"\n"
   ]
  },
  {
   "cell_type": "code",
   "execution_count": 5,
   "metadata": {
    "execution": {
     "iopub.execute_input": "2020-07-04T00:14:07.984725Z",
     "iopub.status.busy": "2020-07-04T00:14:07.984211Z",
     "iopub.status.idle": "2020-07-04T00:14:11.593070Z",
     "shell.execute_reply": "2020-07-04T00:14:11.592191Z"
    },
    "papermill": {
     "duration": 3.638355,
     "end_time": "2020-07-04T00:14:11.593247",
     "exception": false,
     "start_time": "2020-07-04T00:14:07.954892",
     "status": "completed"
    },
    "tags": []
   },
   "outputs": [],
   "source": [
    "year = year_by_country[country]\n",
    "survey_scenario = build_ceq_survey_scenario(legislation_country = country, year = year)"
   ]
  },
  {
   "cell_type": "markdown",
   "metadata": {
    "papermill": {
     "duration": 0.028834,
     "end_time": "2020-07-04T00:14:11.660013",
     "exception": false,
     "start_time": "2020-07-04T00:14:11.631179",
     "status": "completed"
    },
    "tags": []
   },
   "source": [
    "# Aggegates check"
   ]
  },
  {
   "cell_type": "markdown",
   "metadata": {
    "papermill": {
     "duration": 0.026854,
     "end_time": "2020-07-04T00:14:11.715632",
     "exception": false,
     "start_time": "2020-07-04T00:14:11.688778",
     "status": "completed"
    },
    "tags": []
   },
   "source": [
    "## Income variables"
   ]
  },
  {
   "cell_type": "markdown",
   "metadata": {
    "papermill": {
     "duration": 0.024071,
     "end_time": "2020-07-04T00:14:11.765552",
     "exception": false,
     "start_time": "2020-07-04T00:14:11.741481",
     "status": "completed"
    },
    "tags": []
   },
   "source": [
    "### Disagregated income variables"
   ]
  },
  {
   "cell_type": "code",
   "execution_count": 6,
   "metadata": {
    "execution": {
     "iopub.execute_input": "2020-07-04T00:14:11.829333Z",
     "iopub.status.busy": "2020-07-04T00:14:11.827999Z",
     "iopub.status.idle": "2020-07-04T00:14:11.832277Z",
     "shell.execute_reply": "2020-07-04T00:14:11.833074Z"
    },
    "papermill": {
     "duration": 0.042932,
     "end_time": "2020-07-04T00:14:11.833289",
     "exception": false,
     "start_time": "2020-07-04T00:14:11.790357",
     "status": "completed"
    },
    "tags": []
   },
   "outputs": [
    {
     "data": {
      "text/plain": [
       "{'rev_i_autoconsommation': 'autoconsumption',\n",
       " 'rev_i_autres': 'other_income',\n",
       " 'rev_i_autres_transferts': 'gifts_sales_durables',\n",
       " 'rev_i_loyers_imputes': 'imputed_rent',\n",
       " 'rev_i_transferts_publics': 'direct_transfers',\n",
       " 'rev_i_agricoles': 'revenu_agricole',\n",
       " 'rev_i_autres_revenus_capital': 'autres_revenus_du_capital',\n",
       " 'rev_i_independants_Ntaxe': 'revenu_informel_non_salarie',\n",
       " 'rev_i_independants_taxe': 'revenu_non_salarie',\n",
       " 'rev_i_locatifs': 'revenu_locatif',\n",
       " 'rev_i_pensions': 'pension_retraite',\n",
       " 'rev_i_salaires_formels': 'salaire',\n",
       " 'rev_i_salaires_informels': 'revenu_informel_salarie',\n",
       " 'autres_revenus_du_capital_brut': 'autres_revenus_du_capital_brut',\n",
       " 'pension_retraite_brut': 'pension_retraite_brut',\n",
       " 'revenu_foncier_brut': 'revenu_foncier_brut',\n",
       " 'revenu_non_salarie_brut': 'revenu_non_salarie_brut',\n",
       " 'salaire_brut': 'salaire_brut',\n",
       " 'salaire_super_brut': 'salaire_super_brut'}"
      ]
     },
     "execution_count": 6,
     "metadata": {},
     "output_type": "execute_result"
    }
   ],
   "source": [
    "ceq_by_harmonized_variable = dict()\n",
    "ceq_by_harmonized_variable.update(ceq_input_by_harmonized_variable)\n",
    "ceq_by_harmonized_variable.update(ceq_intermediate_by_harmonized_variable)\n",
    "ceq_by_harmonized_variable.update(non_ceq_input_by_harmonized_variable)\n",
    "ceq_by_harmonized_variable['autres_revenus_du_capital_brut'] = 'autres_revenus_du_capital_brut'\n",
    "ceq_by_harmonized_variable['pension_retraite_brut'] = 'pension_retraite_brut'\n",
    "ceq_by_harmonized_variable['revenu_foncier_brut'] = 'revenu_foncier_brut'\n",
    "ceq_by_harmonized_variable['revenu_non_salarie_brut'] = 'revenu_non_salarie_brut' \n",
    "ceq_by_harmonized_variable['salaire_brut'] = 'salaire_brut'\n",
    "ceq_by_harmonized_variable['salaire_super_brut'] = 'salaire_super_brut'\n",
    "ceq_by_harmonized_variable"
   ]
  },
  {
   "cell_type": "code",
   "execution_count": 7,
   "metadata": {
    "execution": {
     "iopub.execute_input": "2020-07-04T00:14:11.895688Z",
     "iopub.status.busy": "2020-07-04T00:14:11.894679Z",
     "iopub.status.idle": "2020-07-04T00:14:12.043131Z",
     "shell.execute_reply": "2020-07-04T00:14:12.043640Z"
    },
    "papermill": {
     "duration": 0.180404,
     "end_time": "2020-07-04T00:14:12.043787",
     "exception": false,
     "start_time": "2020-07-04T00:14:11.863383",
     "status": "completed"
    },
    "tags": []
   },
   "outputs": [],
   "source": [
    "data = [\n",
    "    (harmonized_variable, openfisca_variable, survey_scenario.compute_aggregate(openfisca_variable, period = year) / 1e9) \n",
    "    for harmonized_variable, openfisca_variable in ceq_by_harmonized_variable.items()\n",
    "    ]"
   ]
  },
  {
   "cell_type": "code",
   "execution_count": 8,
   "metadata": {
    "execution": {
     "iopub.execute_input": "2020-07-04T00:14:12.140564Z",
     "iopub.status.busy": "2020-07-04T00:14:12.139917Z",
     "iopub.status.idle": "2020-07-04T00:14:12.146904Z",
     "shell.execute_reply": "2020-07-04T00:14:12.147664Z"
    },
    "papermill": {
     "duration": 0.062567,
     "end_time": "2020-07-04T00:14:12.147809",
     "exception": false,
     "start_time": "2020-07-04T00:14:12.085242",
     "status": "completed"
    },
    "tags": []
   },
   "outputs": [
    {
     "data": {
      "text/html": [
       "<div>\n",
       "<style scoped>\n",
       "    .dataframe tbody tr th:only-of-type {\n",
       "        vertical-align: middle;\n",
       "    }\n",
       "\n",
       "    .dataframe tbody tr th {\n",
       "        vertical-align: top;\n",
       "    }\n",
       "\n",
       "    .dataframe thead th {\n",
       "        text-align: right;\n",
       "    }\n",
       "</style>\n",
       "<table border=\"1\" class=\"dataframe\">\n",
       "  <thead>\n",
       "    <tr style=\"text-align: right;\">\n",
       "      <th></th>\n",
       "      <th>harmonized</th>\n",
       "      <th>openfisca</th>\n",
       "      <th>aggregate</th>\n",
       "    </tr>\n",
       "  </thead>\n",
       "  <tbody>\n",
       "    <tr>\n",
       "      <th>0</th>\n",
       "      <td>rev_i_autoconsommation</td>\n",
       "      <td>autoconsumption</td>\n",
       "      <td>258</td>\n",
       "    </tr>\n",
       "    <tr>\n",
       "      <th>1</th>\n",
       "      <td>rev_i_autres</td>\n",
       "      <td>other_income</td>\n",
       "      <td>282</td>\n",
       "    </tr>\n",
       "    <tr>\n",
       "      <th>2</th>\n",
       "      <td>rev_i_autres_transferts</td>\n",
       "      <td>gifts_sales_durables</td>\n",
       "      <td>71</td>\n",
       "    </tr>\n",
       "    <tr>\n",
       "      <th>3</th>\n",
       "      <td>rev_i_loyers_imputes</td>\n",
       "      <td>imputed_rent</td>\n",
       "      <td>148</td>\n",
       "    </tr>\n",
       "    <tr>\n",
       "      <th>4</th>\n",
       "      <td>rev_i_transferts_publics</td>\n",
       "      <td>direct_transfers</td>\n",
       "      <td>0</td>\n",
       "    </tr>\n",
       "    <tr>\n",
       "      <th>5</th>\n",
       "      <td>rev_i_agricoles</td>\n",
       "      <td>revenu_agricole</td>\n",
       "      <td>606</td>\n",
       "    </tr>\n",
       "    <tr>\n",
       "      <th>6</th>\n",
       "      <td>rev_i_autres_revenus_capital</td>\n",
       "      <td>autres_revenus_du_capital</td>\n",
       "      <td>0</td>\n",
       "    </tr>\n",
       "    <tr>\n",
       "      <th>7</th>\n",
       "      <td>rev_i_independants_Ntaxe</td>\n",
       "      <td>revenu_informel_non_salarie</td>\n",
       "      <td>465</td>\n",
       "    </tr>\n",
       "    <tr>\n",
       "      <th>8</th>\n",
       "      <td>rev_i_independants_taxe</td>\n",
       "      <td>revenu_non_salarie</td>\n",
       "      <td>45</td>\n",
       "    </tr>\n",
       "    <tr>\n",
       "      <th>9</th>\n",
       "      <td>rev_i_locatifs</td>\n",
       "      <td>revenu_locatif</td>\n",
       "      <td>0</td>\n",
       "    </tr>\n",
       "    <tr>\n",
       "      <th>10</th>\n",
       "      <td>rev_i_pensions</td>\n",
       "      <td>pension_retraite</td>\n",
       "      <td>0</td>\n",
       "    </tr>\n",
       "    <tr>\n",
       "      <th>11</th>\n",
       "      <td>rev_i_salaires_formels</td>\n",
       "      <td>salaire</td>\n",
       "      <td>68</td>\n",
       "    </tr>\n",
       "    <tr>\n",
       "      <th>12</th>\n",
       "      <td>rev_i_salaires_informels</td>\n",
       "      <td>revenu_informel_salarie</td>\n",
       "      <td>189</td>\n",
       "    </tr>\n",
       "    <tr>\n",
       "      <th>13</th>\n",
       "      <td>autres_revenus_du_capital_brut</td>\n",
       "      <td>autres_revenus_du_capital_brut</td>\n",
       "      <td>0</td>\n",
       "    </tr>\n",
       "    <tr>\n",
       "      <th>14</th>\n",
       "      <td>pension_retraite_brut</td>\n",
       "      <td>pension_retraite_brut</td>\n",
       "      <td>0</td>\n",
       "    </tr>\n",
       "    <tr>\n",
       "      <th>15</th>\n",
       "      <td>revenu_foncier_brut</td>\n",
       "      <td>revenu_foncier_brut</td>\n",
       "      <td>0</td>\n",
       "    </tr>\n",
       "    <tr>\n",
       "      <th>16</th>\n",
       "      <td>revenu_non_salarie_brut</td>\n",
       "      <td>revenu_non_salarie_brut</td>\n",
       "      <td>45</td>\n",
       "    </tr>\n",
       "    <tr>\n",
       "      <th>17</th>\n",
       "      <td>salaire_brut</td>\n",
       "      <td>salaire_brut</td>\n",
       "      <td>81</td>\n",
       "    </tr>\n",
       "    <tr>\n",
       "      <th>18</th>\n",
       "      <td>salaire_super_brut</td>\n",
       "      <td>salaire_super_brut</td>\n",
       "      <td>96</td>\n",
       "    </tr>\n",
       "  </tbody>\n",
       "</table>\n",
       "</div>"
      ],
      "text/plain": [
       "                        harmonized                       openfisca  aggregate\n",
       "0           rev_i_autoconsommation                 autoconsumption        258\n",
       "1                     rev_i_autres                    other_income        282\n",
       "2          rev_i_autres_transferts            gifts_sales_durables         71\n",
       "3             rev_i_loyers_imputes                    imputed_rent        148\n",
       "4         rev_i_transferts_publics                direct_transfers          0\n",
       "5                  rev_i_agricoles                 revenu_agricole        606\n",
       "6     rev_i_autres_revenus_capital       autres_revenus_du_capital          0\n",
       "7         rev_i_independants_Ntaxe     revenu_informel_non_salarie        465\n",
       "8          rev_i_independants_taxe              revenu_non_salarie         45\n",
       "9                   rev_i_locatifs                  revenu_locatif          0\n",
       "10                  rev_i_pensions                pension_retraite          0\n",
       "11          rev_i_salaires_formels                         salaire         68\n",
       "12        rev_i_salaires_informels         revenu_informel_salarie        189\n",
       "13  autres_revenus_du_capital_brut  autres_revenus_du_capital_brut          0\n",
       "14           pension_retraite_brut           pension_retraite_brut          0\n",
       "15             revenu_foncier_brut             revenu_foncier_brut          0\n",
       "16         revenu_non_salarie_brut         revenu_non_salarie_brut         45\n",
       "17                    salaire_brut                    salaire_brut         81\n",
       "18              salaire_super_brut              salaire_super_brut         96"
      ]
     },
     "execution_count": 8,
     "metadata": {},
     "output_type": "execute_result"
    }
   ],
   "source": [
    "revenus = pd.DataFrame(data, columns = [\"harmonized\", \"openfisca\", \"aggregate\"])\n",
    "revenus.round(0).astype({\"aggregate\": int})"
   ]
  },
  {
   "cell_type": "markdown",
   "metadata": {
    "papermill": {
     "duration": 0.027023,
     "end_time": "2020-07-04T00:14:12.205396",
     "exception": false,
     "start_time": "2020-07-04T00:14:12.178373",
     "status": "completed"
    },
    "tags": []
   },
   "source": [
    "### Agregated income variables"
   ]
  },
  {
   "cell_type": "markdown",
   "metadata": {
    "papermill": {
     "duration": 0.026393,
     "end_time": "2020-07-04T00:14:12.259352",
     "exception": false,
     "start_time": "2020-07-04T00:14:12.232959",
     "status": "completed"
    },
    "tags": []
   },
   "source": [
    "#### CEQ agregated income variables"
   ]
  },
  {
   "cell_type": "code",
   "execution_count": 9,
   "metadata": {
    "execution": {
     "iopub.execute_input": "2020-07-04T00:14:12.318805Z",
     "iopub.status.busy": "2020-07-04T00:14:12.317880Z",
     "iopub.status.idle": "2020-07-04T00:14:12.319404Z",
     "shell.execute_reply": "2020-07-04T00:14:12.319798Z"
    },
    "papermill": {
     "duration": 0.033629,
     "end_time": "2020-07-04T00:14:12.319920",
     "exception": false,
     "start_time": "2020-07-04T00:14:12.286291",
     "status": "completed"
    },
    "tags": []
   },
   "outputs": [],
   "source": [
    "ceq_variables = [\"market_income\", \"market_income_plus_pensions\", \"pensions\", \"contributions_pensions\", \"net_market_income\", \"direct_taxes\", \"other_contributions\", \"contributions_health\", ]"
   ]
  },
  {
   "cell_type": "code",
   "execution_count": 10,
   "metadata": {
    "execution": {
     "iopub.execute_input": "2020-07-04T00:14:12.380102Z",
     "iopub.status.busy": "2020-07-04T00:14:12.379623Z",
     "iopub.status.idle": "2020-07-04T00:14:12.408953Z",
     "shell.execute_reply": "2020-07-04T00:14:12.409444Z"
    },
    "papermill": {
     "duration": 0.061689,
     "end_time": "2020-07-04T00:14:12.409586",
     "exception": false,
     "start_time": "2020-07-04T00:14:12.347897",
     "status": "completed"
    },
    "tags": []
   },
   "outputs": [
    {
     "data": {
      "text/html": [
       "<div>\n",
       "<style scoped>\n",
       "    .dataframe tbody tr th:only-of-type {\n",
       "        vertical-align: middle;\n",
       "    }\n",
       "\n",
       "    .dataframe tbody tr th {\n",
       "        vertical-align: top;\n",
       "    }\n",
       "\n",
       "    .dataframe thead th {\n",
       "        text-align: right;\n",
       "    }\n",
       "</style>\n",
       "<table border=\"1\" class=\"dataframe\">\n",
       "  <thead>\n",
       "    <tr style=\"text-align: right;\">\n",
       "      <th></th>\n",
       "      <th>aggregate</th>\n",
       "    </tr>\n",
       "  </thead>\n",
       "  <tbody>\n",
       "    <tr>\n",
       "      <th>market_income</th>\n",
       "      <td>2160</td>\n",
       "    </tr>\n",
       "    <tr>\n",
       "      <th>market_income_plus_pensions</th>\n",
       "      <td>2152</td>\n",
       "    </tr>\n",
       "    <tr>\n",
       "      <th>pensions</th>\n",
       "      <td>0</td>\n",
       "    </tr>\n",
       "    <tr>\n",
       "      <th>contributions_pensions</th>\n",
       "      <td>7</td>\n",
       "    </tr>\n",
       "    <tr>\n",
       "      <th>net_market_income</th>\n",
       "      <td>2142</td>\n",
       "    </tr>\n",
       "    <tr>\n",
       "      <th>direct_taxes</th>\n",
       "      <td>7</td>\n",
       "    </tr>\n",
       "    <tr>\n",
       "      <th>other_contributions</th>\n",
       "      <td>7</td>\n",
       "    </tr>\n",
       "    <tr>\n",
       "      <th>contributions_health</th>\n",
       "      <td>3</td>\n",
       "    </tr>\n",
       "  </tbody>\n",
       "</table>\n",
       "</div>"
      ],
      "text/plain": [
       "                             aggregate\n",
       "market_income                     2160\n",
       "market_income_plus_pensions       2152\n",
       "pensions                             0\n",
       "contributions_pensions               7\n",
       "net_market_income                 2142\n",
       "direct_taxes                         7\n",
       "other_contributions                  7\n",
       "contributions_health                 3"
      ]
     },
     "execution_count": 10,
     "metadata": {},
     "output_type": "execute_result"
    }
   ],
   "source": [
    "ceq_aggregates = pd.DataFrame(\n",
    "    index = ceq_variables,\n",
    "    columns = ['aggregate'],\n",
    "    data = [\n",
    "        survey_scenario.compute_aggregate(ceq_variable, period = year) / 1e9 \n",
    "        for ceq_variable in ceq_variables\n",
    "        ]\n",
    "    )\n",
    "ceq_aggregates.round(0).astype({\"aggregate\": int})"
   ]
  },
  {
   "cell_type": "markdown",
   "metadata": {
    "papermill": {
     "duration": 0.043586,
     "end_time": "2020-07-04T00:14:12.496612",
     "exception": false,
     "start_time": "2020-07-04T00:14:12.453026",
     "status": "completed"
    },
    "tags": []
   },
   "source": [
    "#### Direct check"
   ]
  },
  {
   "cell_type": "code",
   "execution_count": 11,
   "metadata": {
    "execution": {
     "iopub.execute_input": "2020-07-04T00:14:12.578281Z",
     "iopub.status.busy": "2020-07-04T00:14:12.577606Z",
     "iopub.status.idle": "2020-07-04T00:14:12.588216Z",
     "shell.execute_reply": "2020-07-04T00:14:12.588971Z"
    },
    "papermill": {
     "duration": 0.058597,
     "end_time": "2020-07-04T00:14:12.589179",
     "exception": false,
     "start_time": "2020-07-04T00:14:12.530582",
     "status": "completed"
    },
    "tags": []
   },
   "outputs": [],
   "source": [
    "income_components_summed_in_total = list(ceq_by_harmonized_variable.values()) \n",
    "# income_components_summed_in_total.remove(\"revenu_non_salarie_total\")\n",
    "income_components_summed_in_total.remove(\"direct_transfers\")\n",
    "income_components_summed_in_total.remove(\"salaire\")\n",
    "income_components_summed_in_total.remove(\"salaire_brut\")\n",
    "income_components_summed_in_total.remove(\"pension_retraite\")\n",
    "income_components_summed_in_total.remove('autres_revenus_du_capital')\n",
    "income_components_summed_in_total.remove('revenu_locatif')\n",
    "income_components_summed_in_total.remove('revenu_non_salarie') \n",
    "\n",
    "total_income = sum(\n",
    "    survey_scenario.compute_aggregate(income_component, period = survey_scenario.year) \n",
    "    for income_component in income_components_summed_in_total\n",
    "    ) \n",
    "total_income = (\n",
    "    total_income \n",
    "    - survey_scenario.compute_aggregate(\"contributions_pensions\", period = survey_scenario.year)\n",
    "    ) / 1e9\n"
   ]
  },
  {
   "cell_type": "code",
   "execution_count": 12,
   "metadata": {
    "execution": {
     "iopub.execute_input": "2020-07-04T00:14:12.657257Z",
     "iopub.status.busy": "2020-07-04T00:14:12.656733Z",
     "iopub.status.idle": "2020-07-04T00:14:12.659797Z",
     "shell.execute_reply": "2020-07-04T00:14:12.660553Z"
    },
    "papermill": {
     "duration": 0.036824,
     "end_time": "2020-07-04T00:14:12.660746",
     "exception": false,
     "start_time": "2020-07-04T00:14:12.623922",
     "status": "completed"
    },
    "tags": []
   },
   "outputs": [],
   "source": [
    "from numpy.testing import assert_almost_equal\n",
    "assert_almost_equal(ceq_aggregates.loc['market_income_plus_pensions'].values, total_income, decimal = 5) \n",
    "# print('market_income_plus_pensions = {} vs {} = total_income'.format(\n",
    "#         ceq_aggregates.loc['market_income_plus_pensions'].values,\n",
    "#         total_income\n",
    "#         )\n",
    "#     )\n"
   ]
  },
  {
   "cell_type": "markdown",
   "metadata": {
    "papermill": {
     "duration": 0.026004,
     "end_time": "2020-07-04T00:14:12.718629",
     "exception": false,
     "start_time": "2020-07-04T00:14:12.692625",
     "status": "completed"
    },
    "tags": []
   },
   "source": [
    "#### Wages by public/private sector"
   ]
  },
  {
   "cell_type": "code",
   "execution_count": 13,
   "metadata": {
    "execution": {
     "iopub.execute_input": "2020-07-04T00:14:12.777299Z",
     "iopub.status.busy": "2020-07-04T00:14:12.776722Z",
     "iopub.status.idle": "2020-07-04T00:14:12.783111Z",
     "shell.execute_reply": "2020-07-04T00:14:12.783806Z"
    },
    "papermill": {
     "duration": 0.03876,
     "end_time": "2020-07-04T00:14:12.783998",
     "exception": false,
     "start_time": "2020-07-04T00:14:12.745238",
     "status": "completed"
    },
    "tags": []
   },
   "outputs": [
    {
     "data": {
      "text/plain": [
       "'Count : 77306.0'"
      ]
     },
     "execution_count": 13,
     "metadata": {},
     "output_type": "execute_result"
    }
   ],
   "source": [
    "\"Count : {}\".format(round(\n",
    "    survey_scenario.compute_aggregate(\"secteur_public\", period = year)\n",
    "    ))"
   ]
  },
  {
   "cell_type": "code",
   "execution_count": 14,
   "metadata": {
    "execution": {
     "iopub.execute_input": "2020-07-04T00:14:12.853629Z",
     "iopub.status.busy": "2020-07-04T00:14:12.853157Z",
     "iopub.status.idle": "2020-07-04T00:14:12.932440Z",
     "shell.execute_reply": "2020-07-04T00:14:12.931536Z"
    },
    "papermill": {
     "duration": 0.113941,
     "end_time": "2020-07-04T00:14:12.932631",
     "exception": false,
     "start_time": "2020-07-04T00:14:12.818690",
     "status": "completed"
    },
    "tags": []
   },
   "outputs": [
    {
     "data": {
      "text/html": [
       "<div>\n",
       "<style scoped>\n",
       "    .dataframe tbody tr th:only-of-type {\n",
       "        vertical-align: middle;\n",
       "    }\n",
       "\n",
       "    .dataframe tbody tr th {\n",
       "        vertical-align: top;\n",
       "    }\n",
       "\n",
       "    .dataframe thead th {\n",
       "        text-align: right;\n",
       "    }\n",
       "</style>\n",
       "<table border=\"1\" class=\"dataframe\">\n",
       "  <thead>\n",
       "    <tr style=\"text-align: right;\">\n",
       "      <th>secteur_public</th>\n",
       "      <th>False</th>\n",
       "      <th>True</th>\n",
       "    </tr>\n",
       "  </thead>\n",
       "  <tbody>\n",
       "    <tr>\n",
       "      <th>salaire</th>\n",
       "      <td>40</td>\n",
       "      <td>28</td>\n",
       "    </tr>\n",
       "    <tr>\n",
       "      <th>salaire_brut</th>\n",
       "      <td>48</td>\n",
       "      <td>33</td>\n",
       "    </tr>\n",
       "    <tr>\n",
       "      <th>salaire_super_brut</th>\n",
       "      <td>57</td>\n",
       "      <td>39</td>\n",
       "    </tr>\n",
       "  </tbody>\n",
       "</table>\n",
       "</div>"
      ],
      "text/plain": [
       "secteur_public      False  True \n",
       "salaire                40     28\n",
       "salaire_brut           48     33\n",
       "salaire_super_brut     57     39"
      ]
     },
     "execution_count": 14,
     "metadata": {},
     "output_type": "execute_result"
    }
   ],
   "source": [
    "(\n",
    "    survey_scenario.compute_pivot_table(\n",
    "        columns = [\"secteur_public\"], \n",
    "        values = [\"salaire\", \"salaire_brut\", \"salaire_super_brut\"],\n",
    "        aggfunc = \"sum\",\n",
    "        period = year,\n",
    "        concat_axis = 0,\n",
    "        ) / 1e9\n",
    "    ).round(0).astype(int)"
   ]
  },
  {
   "cell_type": "markdown",
   "metadata": {
    "papermill": {
     "duration": 0.027083,
     "end_time": "2020-07-04T00:14:12.996341",
     "exception": false,
     "start_time": "2020-07-04T00:14:12.969258",
     "status": "completed"
    },
    "tags": []
   },
   "source": [
    "## Education variables"
   ]
  },
  {
   "cell_type": "markdown",
   "metadata": {
    "papermill": {
     "duration": 0.026895,
     "end_time": "2020-07-04T00:14:13.050986",
     "exception": false,
     "start_time": "2020-07-04T00:14:13.024091",
     "status": "completed"
    },
    "tags": []
   },
   "source": [
    "### Counts (in millions)"
   ]
  },
  {
   "cell_type": "code",
   "execution_count": 15,
   "metadata": {
    "execution": {
     "iopub.execute_input": "2020-07-04T00:14:13.113867Z",
     "iopub.status.busy": "2020-07-04T00:14:13.113316Z",
     "iopub.status.idle": "2020-07-04T00:14:13.134610Z",
     "shell.execute_reply": "2020-07-04T00:14:13.135438Z"
    },
    "papermill": {
     "duration": 0.057264,
     "end_time": "2020-07-04T00:14:13.135660",
     "exception": false,
     "start_time": "2020-07-04T00:14:13.078396",
     "status": "completed"
    },
    "tags": []
   },
   "outputs": [
    {
     "name": "stdout",
     "output_type": "stream",
     "text": [
      "eleve_enseignement_niveau  -1.0   0.0   1.0   2.0   3.0\n",
      "eleve_enseignement_public                              \n",
      "1.0                        12.4  0.11  1.77  1.27  0.12\n"
     ]
    }
   ],
   "source": [
    "print((survey_scenario.compute_pivot_table(columns = ['eleve_enseignement_niveau'], index = ['eleve_enseignement_public'], aggfunc = 'count', period = survey_scenario.year) / 1e6).round(2))"
   ]
  },
  {
   "cell_type": "code",
   "execution_count": 16,
   "metadata": {
    "execution": {
     "iopub.execute_input": "2020-07-04T00:14:13.206069Z",
     "iopub.status.busy": "2020-07-04T00:14:13.205403Z",
     "iopub.status.idle": "2020-07-04T00:14:13.219949Z",
     "shell.execute_reply": "2020-07-04T00:14:13.220791Z"
    },
    "papermill": {
     "duration": 0.05185,
     "end_time": "2020-07-04T00:14:13.221025",
     "exception": false,
     "start_time": "2020-07-04T00:14:13.169175",
     "status": "completed"
    },
    "tags": []
   },
   "outputs": [
    {
     "name": "stdout",
     "output_type": "stream",
     "text": [
      "In kind education tranfers\n",
      "pre_school_person: 0 billions FCFA\n",
      "pre_school: 0 billions FCFA\n",
      "primary_education_person: 119 billions FCFA\n",
      "primary_education: 119 billions FCFA\n",
      "secondary_education_person: 179 billions FCFA\n",
      "secondary_education: 179 billions FCFA\n",
      "tertiary_education_person: 16 billions FCFA\n",
      "tertiary_education: 16 billions FCFA\n",
      "education_net_transfers: 314 billions FCFA\n"
     ]
    }
   ],
   "source": [
    "variables = [\n",
    "    'pre_school_person',\n",
    "    'pre_school',\n",
    "    'primary_education_person',\n",
    "    'primary_education',\n",
    "    'secondary_education_person',\n",
    "    'secondary_education',\n",
    "    'tertiary_education_person',\n",
    "    'tertiary_education',\n",
    "    'education_net_transfers',\n",
    "    ]\n",
    "print(\"In kind education tranfers\")\n",
    "for variable in variables:\n",
    "    print(\n",
    "        \"{variable}: {aggregate} billions FCFA\".format(\n",
    "            variable = variable,\n",
    "            aggregate = int(round(survey_scenario.compute_aggregate(variable, period = survey_scenario.year) / 1e9))\n",
    "            )\n",
    "        )"
   ]
  },
  {
   "cell_type": "markdown",
   "metadata": {
    "papermill": {
     "duration": 0.02773,
     "end_time": "2020-07-04T00:14:13.283050",
     "exception": false,
     "start_time": "2020-07-04T00:14:13.255320",
     "status": "completed"
    },
    "tags": []
   },
   "source": [
    "## Inflating income and consumption"
   ]
  },
  {
   "cell_type": "code",
   "execution_count": 17,
   "metadata": {
    "execution": {
     "iopub.execute_input": "2020-07-04T00:14:13.344419Z",
     "iopub.status.busy": "2020-07-04T00:14:13.343995Z",
     "iopub.status.idle": "2020-07-04T00:14:17.272560Z",
     "shell.execute_reply": "2020-07-04T00:14:17.273094Z"
    },
    "papermill": {
     "duration": 3.961611,
     "end_time": "2020-07-04T00:14:17.273241",
     "exception": false,
     "start_time": "2020-07-04T00:14:13.311630",
     "status": "completed"
    },
    "tags": []
   },
   "outputs": [
    {
     "name": "stderr",
     "output_type": "stream",
     "text": [
      "/home/benjello/.virtualenvs/ceq/lib/python3.7/site-packages/scipy/optimize/minpack.py:175: RuntimeWarning: The iteration is not making good progress, as measured by the \n",
      "  improvement from the last ten iterations.\n",
      "  warnings.warn(msg, RuntimeWarning)\n"
     ]
    }
   ],
   "source": [
    "inflated_survey_scenario = build_ceq_survey_scenario(\n",
    "    legislation_country = country, \n",
    "    year = year,\n",
    "    inflate = True,\n",
    "    )"
   ]
  },
  {
   "cell_type": "code",
   "execution_count": 18,
   "metadata": {
    "execution": {
     "iopub.execute_input": "2020-07-04T00:14:17.365698Z",
     "iopub.status.busy": "2020-07-04T00:14:17.364626Z",
     "iopub.status.idle": "2020-07-04T00:14:17.368031Z",
     "shell.execute_reply": "2020-07-04T00:14:17.368761Z"
    },
    "papermill": {
     "duration": 0.047402,
     "end_time": "2020-07-04T00:14:17.368953",
     "exception": false,
     "start_time": "2020-07-04T00:14:17.321551",
     "status": "completed"
    },
    "tags": []
   },
   "outputs": [
    {
     "name": "stderr",
     "output_type": "stream",
     "text": [
      "ERROR:root:No traceback has been produced, nothing to debug.\n"
     ]
    }
   ],
   "source": [
    "%debug"
   ]
  },
  {
   "cell_type": "code",
   "execution_count": 19,
   "metadata": {
    "execution": {
     "iopub.execute_input": "2020-07-04T00:14:17.441625Z",
     "iopub.status.busy": "2020-07-04T00:14:17.441168Z",
     "iopub.status.idle": "2020-07-04T00:14:17.497010Z",
     "shell.execute_reply": "2020-07-04T00:14:17.497836Z"
    },
    "papermill": {
     "duration": 0.093718,
     "end_time": "2020-07-04T00:14:17.498139",
     "exception": false,
     "start_time": "2020-07-04T00:14:17.404421",
     "status": "completed"
    },
    "tags": []
   },
   "outputs": [
    {
     "data": {
      "text/plain": [
       "'5630.075 == 5630.0750127492765'"
      ]
     },
     "metadata": {},
     "output_type": "display_data"
    }
   ],
   "source": [
    "from openfisca_ceq.tools.data.income_targets import read_target\n",
    "gross_value_added = read_target(country, \"gross_value_added\") / 1e9\n",
    "gross_value_added_computed = sum(inflated_survey_scenario.compute_aggregate(income_variable, period = year) / 1e9\n",
    "    for income_variable in inflated_survey_scenario.income_variables\n",
    "    )\n",
    "display(\"{} == {}\".format(gross_value_added, gross_value_added_computed))"
   ]
  },
  {
   "cell_type": "markdown",
   "metadata": {
    "papermill": {
     "duration": 0.056471,
     "end_time": "2020-07-04T00:14:17.590178",
     "exception": false,
     "start_time": "2020-07-04T00:14:17.533707",
     "status": "completed"
    },
    "tags": []
   },
   "source": [
    "## Tax variables"
   ]
  },
  {
   "cell_type": "markdown",
   "metadata": {
    "papermill": {
     "duration": 0.029995,
     "end_time": "2020-07-04T00:14:17.652743",
     "exception": false,
     "start_time": "2020-07-04T00:14:17.622748",
     "status": "completed"
    },
    "tags": []
   },
   "source": [
    "### Direct taxes variables"
   ]
  },
  {
   "cell_type": "code",
   "execution_count": 20,
   "metadata": {
    "execution": {
     "iopub.execute_input": "2020-07-04T00:14:17.736685Z",
     "iopub.status.busy": "2020-07-04T00:14:17.735185Z",
     "iopub.status.idle": "2020-07-04T00:14:17.766656Z",
     "shell.execute_reply": "2020-07-04T00:14:17.767157Z"
    },
    "papermill": {
     "duration": 0.079883,
     "end_time": "2020-07-04T00:14:17.767313",
     "exception": false,
     "start_time": "2020-07-04T00:14:17.687430",
     "status": "completed"
    },
    "tags": []
   },
   "outputs": [
    {
     "data": {
      "text/html": [
       "<div>\n",
       "<style scoped>\n",
       "    .dataframe tbody tr th:only-of-type {\n",
       "        vertical-align: middle;\n",
       "    }\n",
       "\n",
       "    .dataframe tbody tr th {\n",
       "        vertical-align: top;\n",
       "    }\n",
       "\n",
       "    .dataframe thead th {\n",
       "        text-align: right;\n",
       "    }\n",
       "</style>\n",
       "<table border=\"1\" class=\"dataframe\">\n",
       "  <thead>\n",
       "    <tr style=\"text-align: right;\">\n",
       "      <th></th>\n",
       "      <th>aggregate</th>\n",
       "      <th>inflated_aggregate</th>\n",
       "    </tr>\n",
       "  </thead>\n",
       "  <tbody>\n",
       "    <tr>\n",
       "      <th>impot_traitement_salaire</th>\n",
       "      <td>7</td>\n",
       "      <td>38.0</td>\n",
       "    </tr>\n",
       "  </tbody>\n",
       "</table>\n",
       "</div>"
      ],
      "text/plain": [
       "                          aggregate  inflated_aggregate\n",
       "impot_traitement_salaire          7                38.0"
      ]
     },
     "execution_count": 20,
     "metadata": {},
     "output_type": "execute_result"
    }
   ],
   "source": [
    "from openfisca_ceq.tools.data.tax_targets import detailed_taxes_by_country, build_country_result\n",
    "direct_taxes_variables = detailed_taxes_by_country[country]\n",
    "\n",
    "direct_taxes = pd.concat(\n",
    "    [\n",
    "        pd.DataFrame(\n",
    "            index = direct_taxes_variables,\n",
    "            columns = ['aggregate'],\n",
    "            data = [\n",
    "                survey_scenario.compute_aggregate(variable, period = year) / 1e9 \n",
    "                for variable in direct_taxes_variables\n",
    "                ],\n",
    "            ),\n",
    "        pd.DataFrame(\n",
    "            index = direct_taxes_variables,\n",
    "            columns = ['inflated_aggregate'],\n",
    "            data = [\n",
    "                    inflated_survey_scenario.compute_aggregate(variable, period = year) / 1e9 \n",
    "                for variable in direct_taxes_variables\n",
    "                ],\n",
    "            )\n",
    "        ],\n",
    "    axis = 1\n",
    ")\n",
    "\n",
    "direct_taxes.round().astype({\"aggregate\": int})"
   ]
  },
  {
   "cell_type": "code",
   "execution_count": 21,
   "metadata": {
    "execution": {
     "iopub.execute_input": "2020-07-04T00:14:17.875089Z",
     "iopub.status.busy": "2020-07-04T00:14:17.874390Z",
     "iopub.status.idle": "2020-07-04T00:14:18.002554Z",
     "shell.execute_reply": "2020-07-04T00:14:18.001056Z"
    },
    "papermill": {
     "duration": 0.184985,
     "end_time": "2020-07-04T00:14:18.002831",
     "exception": false,
     "start_time": "2020-07-04T00:14:17.817846",
     "status": "completed"
    },
    "tags": []
   },
   "outputs": [
    {
     "data": {
      "text/html": [
       "<div>\n",
       "<style scoped>\n",
       "    .dataframe tbody tr th:only-of-type {\n",
       "        vertical-align: middle;\n",
       "    }\n",
       "\n",
       "    .dataframe tbody tr th {\n",
       "        vertical-align: top;\n",
       "    }\n",
       "\n",
       "    .dataframe thead tr th {\n",
       "        text-align: left;\n",
       "    }\n",
       "</style>\n",
       "<table border=\"1\" class=\"dataframe\">\n",
       "  <thead>\n",
       "    <tr>\n",
       "      <th></th>\n",
       "      <th colspan=\"3\" halign=\"left\">Mali</th>\n",
       "    </tr>\n",
       "    <tr>\n",
       "      <th></th>\n",
       "      <th>actual</th>\n",
       "      <th>direct</th>\n",
       "      <th>inflated</th>\n",
       "    </tr>\n",
       "  </thead>\n",
       "  <tbody>\n",
       "    <tr>\n",
       "      <th>Total tax revenue</th>\n",
       "      <td>775.8</td>\n",
       "      <td>NaN</td>\n",
       "      <td>NaN</td>\n",
       "    </tr>\n",
       "    <tr>\n",
       "      <th>Direct taxes</th>\n",
       "      <td>220.8</td>\n",
       "      <td>7.4</td>\n",
       "      <td>37.7</td>\n",
       "    </tr>\n",
       "    <tr>\n",
       "      <th>Personal Income Taxes</th>\n",
       "      <td>65.4</td>\n",
       "      <td>7.4</td>\n",
       "      <td>37.7</td>\n",
       "    </tr>\n",
       "    <tr>\n",
       "      <th>Payroll Tax and social contributions</th>\n",
       "      <td>-</td>\n",
       "      <td>NaN</td>\n",
       "      <td>NaN</td>\n",
       "    </tr>\n",
       "    <tr>\n",
       "      <th>Corporate Income Tax</th>\n",
       "      <td>113.3</td>\n",
       "      <td>0.0</td>\n",
       "      <td>0.0</td>\n",
       "    </tr>\n",
       "    <tr>\n",
       "      <th>Other Direct Taxes</th>\n",
       "      <td>42.1</td>\n",
       "      <td>NaN</td>\n",
       "      <td>NaN</td>\n",
       "    </tr>\n",
       "    <tr>\n",
       "      <th>Indirect taxes</th>\n",
       "      <td>555</td>\n",
       "      <td>267.3</td>\n",
       "      <td>413.5</td>\n",
       "    </tr>\n",
       "    <tr>\n",
       "      <th>VAT</th>\n",
       "      <td>282.2</td>\n",
       "      <td>235.4</td>\n",
       "      <td>364.1</td>\n",
       "    </tr>\n",
       "    <tr>\n",
       "      <th>Import Taxes</th>\n",
       "      <td>112.1</td>\n",
       "      <td>31.9</td>\n",
       "      <td>49.3</td>\n",
       "    </tr>\n",
       "    <tr>\n",
       "      <th>Excise taxes</th>\n",
       "      <td>4.7</td>\n",
       "      <td>0.0</td>\n",
       "      <td>0.0</td>\n",
       "    </tr>\n",
       "    <tr>\n",
       "      <th>on Oil Derivates</th>\n",
       "      <td>4.7</td>\n",
       "      <td>NaN</td>\n",
       "      <td>NaN</td>\n",
       "    </tr>\n",
       "    <tr>\n",
       "      <th>on alcohol, tabac and other non-oil derivatives</th>\n",
       "      <td>-</td>\n",
       "      <td>NaN</td>\n",
       "      <td>NaN</td>\n",
       "    </tr>\n",
       "    <tr>\n",
       "      <th>Other Indirect Taxes</th>\n",
       "      <td>156</td>\n",
       "      <td>NaN</td>\n",
       "      <td>NaN</td>\n",
       "    </tr>\n",
       "    <tr>\n",
       "      <th>Share simulated taxes (% of total tax revenue)</th>\n",
       "      <td>NaN</td>\n",
       "      <td>NaN</td>\n",
       "      <td>NaN</td>\n",
       "    </tr>\n",
       "    <tr>\n",
       "      <th>impot_traitement_salaire</th>\n",
       "      <td>NaN</td>\n",
       "      <td>7.4</td>\n",
       "      <td>37.7</td>\n",
       "    </tr>\n",
       "    <tr>\n",
       "      <th>total_ht_imports</th>\n",
       "      <td>NaN</td>\n",
       "      <td>418.6</td>\n",
       "      <td>647.4</td>\n",
       "    </tr>\n",
       "  </tbody>\n",
       "</table>\n",
       "</div>"
      ],
      "text/plain": [
       "                                                  Mali                \n",
       "                                                actual direct inflated\n",
       "Total tax revenue                                775.8    NaN      NaN\n",
       "Direct taxes                                     220.8    7.4     37.7\n",
       "Personal Income Taxes                             65.4    7.4     37.7\n",
       "Payroll Tax and social contributions                 -    NaN      NaN\n",
       "Corporate Income Tax                             113.3    0.0      0.0\n",
       "Other Direct Taxes                                42.1    NaN      NaN\n",
       "Indirect taxes                                     555  267.3    413.5\n",
       "VAT                                              282.2  235.4    364.1\n",
       "Import Taxes                                     112.1   31.9     49.3\n",
       "Excise taxes                                       4.7    0.0      0.0\n",
       "on Oil Derivates                                   4.7    NaN      NaN\n",
       "on alcohol, tabac and other non-oil derivatives      -    NaN      NaN\n",
       "Other Indirect Taxes                               156    NaN      NaN\n",
       "Share simulated taxes (% of total tax revenue)     NaN    NaN      NaN\n",
       "impot_traitement_salaire                           NaN    7.4     37.7\n",
       "total_ht_imports                                   NaN  418.6    647.4"
      ]
     },
     "execution_count": 21,
     "metadata": {},
     "output_type": "execute_result"
    }
   ],
   "source": [
    "build_country_result(survey_scenario, inflated_survey_scenario, add_country_details = True)"
   ]
  },
  {
   "cell_type": "markdown",
   "metadata": {
    "papermill": {
     "duration": 0.031874,
     "end_time": "2020-07-04T00:14:18.076143",
     "exception": false,
     "start_time": "2020-07-04T00:14:18.044269",
     "status": "completed"
    },
    "tags": []
   },
   "source": [
    "### Indirect tax variables"
   ]
  },
  {
   "cell_type": "code",
   "execution_count": 22,
   "metadata": {
    "execution": {
     "iopub.execute_input": "2020-07-04T00:14:18.147005Z",
     "iopub.status.busy": "2020-07-04T00:14:18.146107Z",
     "iopub.status.idle": "2020-07-04T00:14:18.149928Z",
     "shell.execute_reply": "2020-07-04T00:14:18.150704Z"
    },
    "papermill": {
     "duration": 0.043497,
     "end_time": "2020-07-04T00:14:18.150907",
     "exception": false,
     "start_time": "2020-07-04T00:14:18.107410",
     "status": "completed"
    },
    "tags": []
   },
   "outputs": [
    {
     "data": {
      "text/plain": [
       "['depenses_ht_tva_exonere',\n",
       " 'depenses_ht_tva_taux_normal',\n",
       " 'depenses_ht_tva_taux_reduit',\n",
       " 'tva_taux_normal',\n",
       " 'tva_taux_reduit',\n",
       " 'tva',\n",
       " 'depenses_ht_hd_sd_droits_douane_biens_specifiques',\n",
       " 'depenses_ht_hd_sd_droits_douane_consommation_finale',\n",
       " 'depenses_ht_hd_sd_droits_douane_consommation_intermediaire',\n",
       " 'depenses_ht_hd_sd_droits_douane_equipements',\n",
       " 'depenses_ht_hd_sd_droits_douane_exonere',\n",
       " 'droits_douane_biens_specifiques',\n",
       " 'droits_douane_consommation_finale',\n",
       " 'droits_douane_consommation_intermediaire',\n",
       " 'droits_douane_equipements',\n",
       " 'droits_douane']"
      ]
     },
     "execution_count": 22,
     "metadata": {},
     "output_type": "execute_result"
    }
   ],
   "source": [
    "indirect_tax_variables = [\n",
    "    variable \n",
    "    for tax in indirect_tax_by_country[country]\n",
    "    for variable in survey_scenario.tax_benefit_system.variables.keys() \n",
    "    if tax in variable \n",
    "    ]\n",
    "indirect_tax_variables"
   ]
  },
  {
   "cell_type": "code",
   "execution_count": 23,
   "metadata": {
    "execution": {
     "iopub.execute_input": "2020-07-04T00:14:18.227928Z",
     "iopub.status.busy": "2020-07-04T00:14:18.227453Z",
     "iopub.status.idle": "2020-07-04T00:14:18.243062Z",
     "shell.execute_reply": "2020-07-04T00:14:18.243908Z"
    },
    "papermill": {
     "duration": 0.055477,
     "end_time": "2020-07-04T00:14:18.244132",
     "exception": false,
     "start_time": "2020-07-04T00:14:18.188655",
     "status": "completed"
    },
    "tags": []
   },
   "outputs": [
    {
     "data": {
      "text/html": [
       "<div>\n",
       "<style scoped>\n",
       "    .dataframe tbody tr th:only-of-type {\n",
       "        vertical-align: middle;\n",
       "    }\n",
       "\n",
       "    .dataframe tbody tr th {\n",
       "        vertical-align: top;\n",
       "    }\n",
       "\n",
       "    .dataframe thead th {\n",
       "        text-align: right;\n",
       "    }\n",
       "</style>\n",
       "<table border=\"1\" class=\"dataframe\">\n",
       "  <thead>\n",
       "    <tr style=\"text-align: right;\">\n",
       "      <th></th>\n",
       "      <th>aggregate</th>\n",
       "    </tr>\n",
       "  </thead>\n",
       "  <tbody>\n",
       "    <tr>\n",
       "      <th>depenses_ht_tva_exonere</th>\n",
       "      <td>1226</td>\n",
       "    </tr>\n",
       "    <tr>\n",
       "      <th>depenses_ht_tva_taux_normal</th>\n",
       "      <td>1308</td>\n",
       "    </tr>\n",
       "    <tr>\n",
       "      <th>depenses_ht_tva_taux_reduit</th>\n",
       "      <td>0</td>\n",
       "    </tr>\n",
       "    <tr>\n",
       "      <th>tva_taux_normal</th>\n",
       "      <td>235</td>\n",
       "    </tr>\n",
       "    <tr>\n",
       "      <th>tva_taux_reduit</th>\n",
       "      <td>0</td>\n",
       "    </tr>\n",
       "    <tr>\n",
       "      <th>tva</th>\n",
       "      <td>235</td>\n",
       "    </tr>\n",
       "    <tr>\n",
       "      <th>depenses_ht_hd_sd_droits_douane_biens_specifiques</th>\n",
       "      <td>3</td>\n",
       "    </tr>\n",
       "    <tr>\n",
       "      <th>depenses_ht_hd_sd_droits_douane_consommation_finale</th>\n",
       "      <td>113</td>\n",
       "    </tr>\n",
       "    <tr>\n",
       "      <th>depenses_ht_hd_sd_droits_douane_consommation_intermediaire</th>\n",
       "      <td>79</td>\n",
       "    </tr>\n",
       "    <tr>\n",
       "      <th>depenses_ht_hd_sd_droits_douane_equipements</th>\n",
       "      <td>6</td>\n",
       "    </tr>\n",
       "    <tr>\n",
       "      <th>depenses_ht_hd_sd_droits_douane_exonere</th>\n",
       "      <td>186</td>\n",
       "    </tr>\n",
       "    <tr>\n",
       "      <th>droits_douane_biens_specifiques</th>\n",
       "      <td>1</td>\n",
       "    </tr>\n",
       "    <tr>\n",
       "      <th>droits_douane_consommation_finale</th>\n",
       "      <td>23</td>\n",
       "    </tr>\n",
       "    <tr>\n",
       "      <th>droits_douane_consommation_intermediaire</th>\n",
       "      <td>8</td>\n",
       "    </tr>\n",
       "    <tr>\n",
       "      <th>droits_douane_equipements</th>\n",
       "      <td>0</td>\n",
       "    </tr>\n",
       "    <tr>\n",
       "      <th>droits_douane</th>\n",
       "      <td>32</td>\n",
       "    </tr>\n",
       "  </tbody>\n",
       "</table>\n",
       "</div>"
      ],
      "text/plain": [
       "                                                    aggregate\n",
       "depenses_ht_tva_exonere                                  1226\n",
       "depenses_ht_tva_taux_normal                              1308\n",
       "depenses_ht_tva_taux_reduit                                 0\n",
       "tva_taux_normal                                           235\n",
       "tva_taux_reduit                                             0\n",
       "tva                                                       235\n",
       "depenses_ht_hd_sd_droits_douane_biens_specifiques           3\n",
       "depenses_ht_hd_sd_droits_douane_consommation_fi...        113\n",
       "depenses_ht_hd_sd_droits_douane_consommation_in...         79\n",
       "depenses_ht_hd_sd_droits_douane_equipements                 6\n",
       "depenses_ht_hd_sd_droits_douane_exonere                   186\n",
       "droits_douane_biens_specifiques                             1\n",
       "droits_douane_consommation_finale                          23\n",
       "droits_douane_consommation_intermediaire                    8\n",
       "droits_douane_equipements                                   0\n",
       "droits_douane                                              32"
      ]
     },
     "execution_count": 23,
     "metadata": {},
     "output_type": "execute_result"
    }
   ],
   "source": [
    "taxes_and_tariffs = pd.DataFrame(\n",
    "    index = indirect_tax_variables,\n",
    "    columns = ['aggregate'],\n",
    "    data = [\n",
    "        survey_scenario.compute_aggregate(variable, period = year) / 1e9 \n",
    "        for variable in indirect_tax_variables\n",
    "        ]\n",
    "    )\n",
    "taxes_and_tariffs.round().astype({\"aggregate\": int})"
   ]
  },
  {
   "cell_type": "markdown",
   "metadata": {
    "papermill": {
     "duration": 0.031595,
     "end_time": "2020-07-04T00:14:18.311774",
     "exception": false,
     "start_time": "2020-07-04T00:14:18.280179",
     "status": "completed"
    },
    "tags": []
   },
   "source": [
    "### Verify consumption"
   ]
  },
  {
   "cell_type": "code",
   "execution_count": 24,
   "metadata": {
    "execution": {
     "iopub.execute_input": "2020-07-04T00:14:18.380680Z",
     "iopub.status.busy": "2020-07-04T00:14:18.380143Z",
     "iopub.status.idle": "2020-07-04T00:14:18.388058Z",
     "shell.execute_reply": "2020-07-04T00:14:18.387220Z"
    },
    "papermill": {
     "duration": 0.044452,
     "end_time": "2020-07-04T00:14:18.388224",
     "exception": false,
     "start_time": "2020-07-04T00:14:18.343772",
     "status": "completed"
    },
    "tags": []
   },
   "outputs": [
    {
     "data": {
      "text/plain": [
       "2769.4852721925927"
      ]
     },
     "execution_count": 24,
     "metadata": {},
     "output_type": "execute_result"
    }
   ],
   "source": [
    "consumption = survey_scenario.compute_aggregate('consumption', period = year) / 1e9\n",
    "consumption"
   ]
  },
  {
   "cell_type": "code",
   "execution_count": 25,
   "metadata": {
    "execution": {
     "iopub.execute_input": "2020-07-04T00:14:18.466238Z",
     "iopub.status.busy": "2020-07-04T00:14:18.465031Z",
     "iopub.status.idle": "2020-07-04T00:14:18.468836Z",
     "shell.execute_reply": "2020-07-04T00:14:18.469616Z"
    },
    "papermill": {
     "duration": 0.047629,
     "end_time": "2020-07-04T00:14:18.469845",
     "exception": false,
     "start_time": "2020-07-04T00:14:18.422216",
     "status": "completed"
    },
    "tags": []
   },
   "outputs": [
    {
     "data": {
      "text/plain": [
       "2769.485361219986"
      ]
     },
     "execution_count": 25,
     "metadata": {},
     "output_type": "execute_result"
    }
   ],
   "source": [
    "# assert consumption == \n",
    "sum(taxes_and_tariffs['aggregate'][\n",
    "    taxes_and_tariffs.index.str.contains('tva_')\n",
    "    ])"
   ]
  },
  {
   "cell_type": "code",
   "execution_count": 26,
   "metadata": {
    "execution": {
     "iopub.execute_input": "2020-07-04T00:14:18.562079Z",
     "iopub.status.busy": "2020-07-04T00:14:18.560046Z",
     "iopub.status.idle": "2020-07-04T00:14:18.578273Z",
     "shell.execute_reply": "2020-07-04T00:14:18.580474Z"
    },
    "papermill": {
     "duration": 0.066189,
     "end_time": "2020-07-04T00:14:18.581132",
     "exception": false,
     "start_time": "2020-07-04T00:14:18.514943",
     "status": "completed"
    },
    "tags": []
   },
   "outputs": [
    {
     "data": {
      "text/plain": [
       "2769.485387276031"
      ]
     },
     "execution_count": 26,
     "metadata": {},
     "output_type": "execute_result"
    }
   ],
   "source": [
    "# assert consumption == \n",
    "(\n",
    "    sum(\n",
    "        survey_scenario.compute_aggregate(variable, period = year)\n",
    "        for variable in survey_scenario.tax_benefit_system.variables\n",
    "        if \"depenses_ht_hd_poste\" in variable \n",
    "        ) \n",
    "    + survey_scenario.compute_aggregate(\"droits_douane\", period = year)\n",
    "    + survey_scenario.compute_aggregate(\"tva\", period = year)\n",
    "    ) / 1e9"
   ]
  },
  {
   "cell_type": "markdown",
   "metadata": {
    "papermill": {
     "duration": 0.039114,
     "end_time": "2020-07-04T00:14:18.663128",
     "exception": false,
     "start_time": "2020-07-04T00:14:18.624014",
     "status": "completed"
    },
    "tags": []
   },
   "source": [
    "# Inflate incomes   "
   ]
  },
  {
   "cell_type": "markdown",
   "metadata": {
    "papermill": {
     "duration": 0.033725,
     "end_time": "2020-07-04T00:14:18.731925",
     "exception": false,
     "start_time": "2020-07-04T00:14:18.698200",
     "status": "completed"
    },
    "tags": []
   },
   "source": [
    "## Income variables"
   ]
  },
  {
   "cell_type": "code",
   "execution_count": 27,
   "metadata": {
    "execution": {
     "iopub.execute_input": "2020-07-04T00:14:18.806012Z",
     "iopub.status.busy": "2020-07-04T00:14:18.805107Z",
     "iopub.status.idle": "2020-07-04T00:14:18.807651Z",
     "shell.execute_reply": "2020-07-04T00:14:18.808332Z"
    },
    "papermill": {
     "duration": 0.042705,
     "end_time": "2020-07-04T00:14:18.808528",
     "exception": false,
     "start_time": "2020-07-04T00:14:18.765823",
     "status": "completed"
    },
    "tags": []
   },
   "outputs": [],
   "source": [
    "income_variables = [\n",
    "    'autoconsumption',\n",
    "    'other_income',\n",
    "    'gifts_sales_durables',\n",
    "    'imputed_rent',\n",
    "    'revenu_agricole',\n",
    "    'autres_revenus_du_capital',\n",
    "    'revenu_informel_non_salarie',\n",
    "    'revenu_non_salarie',\n",
    "    'revenu_locatif',\n",
    "    'pension_retraite',\n",
    "    'salaire_super_brut',\n",
    "    ]"
   ]
  },
  {
   "cell_type": "code",
   "execution_count": 28,
   "metadata": {
    "execution": {
     "iopub.execute_input": "2020-07-04T00:14:18.886439Z",
     "iopub.status.busy": "2020-07-04T00:14:18.885812Z",
     "iopub.status.idle": "2020-07-04T00:14:18.896622Z",
     "shell.execute_reply": "2020-07-04T00:14:18.897434Z"
    },
    "papermill": {
     "duration": 0.04915,
     "end_time": "2020-07-04T00:14:18.897644",
     "exception": false,
     "start_time": "2020-07-04T00:14:18.848494",
     "status": "completed"
    },
    "tags": []
   },
   "outputs": [
    {
     "data": {
      "text/plain": [
       "1970.8831537183926"
      ]
     },
     "execution_count": 28,
     "metadata": {},
     "output_type": "execute_result"
    }
   ],
   "source": [
    "sum(\n",
    "    survey_scenario.compute_aggregate(income_variable, period = year)\n",
    "    for income_variable in income_variables\n",
    "    ) / 1e9"
   ]
  },
  {
   "cell_type": "code",
   "execution_count": null,
   "metadata": {
    "papermill": {
     "duration": 0.032407,
     "end_time": "2020-07-04T00:14:18.970445",
     "exception": false,
     "start_time": "2020-07-04T00:14:18.938038",
     "status": "completed"
    },
    "tags": []
   },
   "outputs": [],
   "source": []
  },
  {
   "cell_type": "code",
   "execution_count": 29,
   "metadata": {
    "execution": {
     "iopub.execute_input": "2020-07-04T00:14:19.042569Z",
     "iopub.status.busy": "2020-07-04T00:14:19.041894Z",
     "iopub.status.idle": "2020-07-04T00:14:19.051733Z",
     "shell.execute_reply": "2020-07-04T00:14:19.052611Z"
    },
    "papermill": {
     "duration": 0.049263,
     "end_time": "2020-07-04T00:14:19.052849",
     "exception": false,
     "start_time": "2020-07-04T00:14:19.003586",
     "status": "completed"
    },
    "tags": []
   },
   "outputs": [
    {
     "data": {
      "text/plain": [
       "5065.348588251956"
      ]
     },
     "execution_count": 29,
     "metadata": {},
     "output_type": "execute_result"
    }
   ],
   "source": [
    "sum(\n",
    "    inflated_survey_scenario.compute_aggregate(income_variable, period = year)\n",
    "    for income_variable in income_variables\n",
    "    ) / 1e9"
   ]
  },
  {
   "cell_type": "markdown",
   "metadata": {
    "papermill": {
     "duration": 0.033862,
     "end_time": "2020-07-04T00:14:19.126248",
     "exception": false,
     "start_time": "2020-07-04T00:14:19.092386",
     "status": "completed"
    },
    "tags": []
   },
   "source": [
    "# Indicators"
   ]
  },
  {
   "cell_type": "code",
   "execution_count": 30,
   "metadata": {
    "execution": {
     "iopub.execute_input": "2020-07-04T00:14:19.198718Z",
     "iopub.status.busy": "2020-07-04T00:14:19.198153Z",
     "iopub.status.idle": "2020-07-04T00:14:19.290215Z",
     "shell.execute_reply": "2020-07-04T00:14:19.290702Z"
    },
    "papermill": {
     "duration": 0.131572,
     "end_time": "2020-07-04T00:14:19.290849",
     "exception": false,
     "start_time": "2020-07-04T00:14:19.159277",
     "status": "completed"
    },
    "tags": []
   },
   "outputs": [
    {
     "data": {
      "text/html": [
       "<div>\n",
       "<style scoped>\n",
       "    .dataframe tbody tr th:only-of-type {\n",
       "        vertical-align: middle;\n",
       "    }\n",
       "\n",
       "    .dataframe tbody tr th {\n",
       "        vertical-align: top;\n",
       "    }\n",
       "\n",
       "    .dataframe thead th {\n",
       "        text-align: right;\n",
       "    }\n",
       "</style>\n",
       "<table border=\"1\" class=\"dataframe\">\n",
       "  <thead>\n",
       "    <tr style=\"text-align: right;\">\n",
       "      <th></th>\n",
       "      <th>market_income</th>\n",
       "      <th>market_income_plus_pensions</th>\n",
       "      <th>gross_income</th>\n",
       "      <th>disposable_income</th>\n",
       "      <th>consumable_income</th>\n",
       "      <th>final_income</th>\n",
       "    </tr>\n",
       "  </thead>\n",
       "  <tbody>\n",
       "    <tr>\n",
       "      <th>Gini</th>\n",
       "      <td>0.46</td>\n",
       "      <td>0.46</td>\n",
       "      <td>0.46</td>\n",
       "      <td>0.46</td>\n",
       "      <td>0.53</td>\n",
       "      <td>0.45</td>\n",
       "    </tr>\n",
       "    <tr>\n",
       "      <th>Bottom 40 %</th>\n",
       "      <td>0.13</td>\n",
       "      <td>0.13</td>\n",
       "      <td>0.13</td>\n",
       "      <td>0.13</td>\n",
       "      <td>0.09</td>\n",
       "      <td>0.14</td>\n",
       "    </tr>\n",
       "    <tr>\n",
       "      <th>Top 10 %</th>\n",
       "      <td>0.35</td>\n",
       "      <td>0.35</td>\n",
       "      <td>0.35</td>\n",
       "      <td>0.35</td>\n",
       "      <td>0.38</td>\n",
       "      <td>0.34</td>\n",
       "    </tr>\n",
       "  </tbody>\n",
       "</table>\n",
       "</div>"
      ],
      "text/plain": [
       "             market_income  market_income_plus_pensions  gross_income  \\\n",
       "Gini                  0.46                         0.46          0.46   \n",
       "Bottom 40 %           0.13                         0.13          0.13   \n",
       "Top 10 %              0.35                         0.35          0.35   \n",
       "\n",
       "             disposable_income  consumable_income  final_income  \n",
       "Gini                      0.46               0.53          0.45  \n",
       "Bottom 40 %               0.13               0.09          0.14  \n",
       "Top 10 %                  0.35               0.38          0.34  "
      ]
     },
     "metadata": {},
     "output_type": "display_data"
    }
   ],
   "source": [
    "from openfisca_survey_manager.statshelpers import lorenz\n",
    "from openfisca_ceq.tools.results.inequality import inequality_table\n",
    "display(inequality_table(survey_scenario))"
   ]
  },
  {
   "cell_type": "code",
   "execution_count": 31,
   "metadata": {
    "execution": {
     "iopub.execute_input": "2020-07-04T00:14:19.366255Z",
     "iopub.status.busy": "2020-07-04T00:14:19.365732Z",
     "iopub.status.idle": "2020-07-04T00:14:19.369207Z",
     "shell.execute_reply": "2020-07-04T00:14:19.369548Z"
    },
    "papermill": {
     "duration": 0.043322,
     "end_time": "2020-07-04T00:14:19.369652",
     "exception": false,
     "start_time": "2020-07-04T00:14:19.326330",
     "status": "completed"
    },
    "tags": []
   },
   "outputs": [
    {
     "data": {
      "text/plain": [
       "267.3256997987509"
      ]
     },
     "execution_count": 31,
     "metadata": {},
     "output_type": "execute_result"
    }
   ],
   "source": [
    "survey_scenario.compute_aggregate(\"impots_indirects\", period = year) / 1e9"
   ]
  },
  {
   "cell_type": "code",
   "execution_count": 32,
   "metadata": {
    "execution": {
     "iopub.execute_input": "2020-07-04T00:14:19.450925Z",
     "iopub.status.busy": "2020-07-04T00:14:19.449167Z",
     "iopub.status.idle": "2020-07-04T00:14:19.454483Z",
     "shell.execute_reply": "2020-07-04T00:14:19.455196Z"
    },
    "papermill": {
     "duration": 0.045173,
     "end_time": "2020-07-04T00:14:19.455389",
     "exception": false,
     "start_time": "2020-07-04T00:14:19.410216",
     "status": "completed"
    },
    "tags": []
   },
   "outputs": [
    {
     "data": {
      "text/plain": [
       "7.42614659772374"
      ]
     },
     "execution_count": 32,
     "metadata": {},
     "output_type": "execute_result"
    }
   ],
   "source": [
    "survey_scenario.compute_aggregate(\"direct_taxes\", period = year) / 1e9"
   ]
  },
  {
   "cell_type": "code",
   "execution_count": 33,
   "metadata": {
    "execution": {
     "iopub.execute_input": "2020-07-04T00:14:19.536027Z",
     "iopub.status.busy": "2020-07-04T00:14:19.535535Z",
     "iopub.status.idle": "2020-07-04T00:14:19.540223Z",
     "shell.execute_reply": "2020-07-04T00:14:19.540989Z"
    },
    "papermill": {
     "duration": 0.045141,
     "end_time": "2020-07-04T00:14:19.541202",
     "exception": false,
     "start_time": "2020-07-04T00:14:19.496061",
     "status": "completed"
    },
    "tags": []
   },
   "outputs": [
    {
     "data": {
      "text/plain": [
       "7.42614659772374"
      ]
     },
     "execution_count": 33,
     "metadata": {},
     "output_type": "execute_result"
    }
   ],
   "source": [
    "survey_scenario.compute_aggregate(\"personal_income_tax\", period = year) / 1e9"
   ]
  },
  {
   "cell_type": "code",
   "execution_count": 34,
   "metadata": {
    "execution": {
     "iopub.execute_input": "2020-07-04T00:14:19.621109Z",
     "iopub.status.busy": "2020-07-04T00:14:19.618906Z",
     "iopub.status.idle": "2020-07-04T00:14:19.623972Z",
     "shell.execute_reply": "2020-07-04T00:14:19.624312Z"
    },
    "papermill": {
     "duration": 0.043715,
     "end_time": "2020-07-04T00:14:19.624436",
     "exception": false,
     "start_time": "2020-07-04T00:14:19.580721",
     "status": "completed"
    },
    "tags": []
   },
   "outputs": [],
   "source": [
    "from openfisca_ceq import list_variables_from_directory"
   ]
  },
  {
   "cell_type": "code",
   "execution_count": 35,
   "metadata": {
    "execution": {
     "iopub.execute_input": "2020-07-04T00:14:19.704960Z",
     "iopub.status.busy": "2020-07-04T00:14:19.704516Z",
     "iopub.status.idle": "2020-07-04T00:14:19.899334Z",
     "shell.execute_reply": "2020-07-04T00:14:19.900152Z"
    },
    "papermill": {
     "duration": 0.236251,
     "end_time": "2020-07-04T00:14:19.900373",
     "exception": false,
     "start_time": "2020-07-04T00:14:19.664122",
     "status": "completed"
    },
    "tags": []
   },
   "outputs": [
    {
     "data": {
      "text/plain": [
       "['agricultural_inputs_subsidies',\n",
       " 'alimony',\n",
       " 'corporate_income_tax',\n",
       " 'electricity_subsidies',\n",
       " 'employee_contributions_health',\n",
       " 'employee_other_contributions',\n",
       " 'excise_taxes',\n",
       " 'food_subsidies',\n",
       " 'fuel_subsidies',\n",
       " 'indirect_subsidies',\n",
       " 'other_taxes',\n",
       " 'payroll_tax',\n",
       " 'pensions',\n",
       " 'property_tax',\n",
       " 'sales_tax',\n",
       " 'self_employed_contributions_health',\n",
       " 'self_employed_contributions_pensions',\n",
       " 'self_employed_other_contributions']"
      ]
     },
     "execution_count": 35,
     "metadata": {},
     "output_type": "execute_result"
    }
   ],
   "source": [
    "ceq_variables = sorted(list_variables_from_directory(survey_scenario.tax_benefit_system))\n",
    "[\n",
    "    ceq_variable\n",
    "    for ceq_variable in ceq_variables\n",
    "    if survey_scenario.compute_aggregate(ceq_variable, period = year) == 0\n",
    "    ]"
   ]
  },
  {
   "cell_type": "code",
   "execution_count": 36,
   "metadata": {
    "execution": {
     "iopub.execute_input": "2020-07-04T00:14:19.985710Z",
     "iopub.status.busy": "2020-07-04T00:14:19.985232Z",
     "iopub.status.idle": "2020-07-04T00:14:20.111635Z",
     "shell.execute_reply": "2020-07-04T00:14:20.110767Z"
    },
    "papermill": {
     "duration": 0.170973,
     "end_time": "2020-07-04T00:14:20.111829",
     "exception": false,
     "start_time": "2020-07-04T00:14:19.940856",
     "status": "completed"
    },
    "tags": []
   },
   "outputs": [
    {
     "data": {
      "text/plain": [
       "[<matplotlib.lines.Line2D at 0x7f7d4e0a1710>]"
      ]
     },
     "execution_count": 36,
     "metadata": {},
     "output_type": "execute_result"
    },
    {
     "data": {
      "image/png": "[encoded data removed]",
      "text/plain": [
       "<Figure size 432x288 with 1 Axes>"
      ]
     },
     "metadata": {
      "needs_background": "light"
     },
     "output_type": "display_data"
    }
   ],
   "source": [
    "variable = \"market_income\"\n",
    "nb_persons = survey_scenario.calculate_variable(\"number_of_people_per_household\", period = year)\n",
    "weights = survey_scenario.calculate_variable(\"household_weight\", period = year) * nb_persons\n",
    "\n",
    "y, x = lorenz(survey_scenario.calculate_variable(variable, period = year) / nb_persons, weights = weights)\n",
    "plt.plot(x, y)"
   ]
  },
  {
   "cell_type": "code",
   "execution_count": 37,
   "metadata": {
    "execution": {
     "iopub.execute_input": "2020-07-04T00:14:20.195501Z",
     "iopub.status.busy": "2020-07-04T00:14:20.194974Z",
     "iopub.status.idle": "2020-07-04T00:14:20.199461Z",
     "shell.execute_reply": "2020-07-04T00:14:20.200142Z"
    },
    "papermill": {
     "duration": 0.048059,
     "end_time": "2020-07-04T00:14:20.200328",
     "exception": false,
     "start_time": "2020-07-04T00:14:20.152269",
     "status": "completed"
    },
    "tags": []
   },
   "outputs": [
    {
     "data": {
      "text/plain": [
       "0.0"
      ]
     },
     "execution_count": 37,
     "metadata": {},
     "output_type": "execute_result"
    }
   ],
   "source": [
    "survey_scenario.compute_aggregate('direct_transfers', period = year) / 1e9"
   ]
  },
  {
   "cell_type": "code",
   "execution_count": 38,
   "metadata": {
    "execution": {
     "iopub.execute_input": "2020-07-04T00:14:20.284545Z",
     "iopub.status.busy": "2020-07-04T00:14:20.283653Z",
     "iopub.status.idle": "2020-07-04T00:14:20.288239Z",
     "shell.execute_reply": "2020-07-04T00:14:20.288895Z"
    },
    "papermill": {
     "duration": 0.048626,
     "end_time": "2020-07-04T00:14:20.289093",
     "exception": false,
     "start_time": "2020-07-04T00:14:20.240467",
     "status": "completed"
    },
    "tags": []
   },
   "outputs": [
    {
     "data": {
      "text/plain": [
       "['agricultural_inputs_subsidies',\n",
       " 'alimony',\n",
       " 'all_income_excluding_transfers',\n",
       " 'autoconsumption',\n",
       " 'consumable_income',\n",
       " 'contributions_health',\n",
       " 'contributions_pensions',\n",
       " 'corporate_income_tax',\n",
       " 'customs_duties',\n",
       " 'decile_consumable_income_per_capita',\n",
       " 'decile_disposable_income_per_capita',\n",
       " 'decile_final_income_per_capita',\n",
       " 'decile_gross_income_per_capita',\n",
       " 'decile_market_income_per_capita',\n",
       " 'decile_market_income_plus_pensions_per_capita',\n",
       " 'decile_survey_income_per_capita',\n",
       " 'direct_taxes',\n",
       " 'disposable_income',\n",
       " 'electricity_subsidies',\n",
       " 'employee_contributions_health',\n",
       " 'employee_contributions_pensions',\n",
       " 'employee_other_contributions',\n",
       " 'employer_contributions_health',\n",
       " 'employer_contributions_pensions',\n",
       " 'employer_other_contributions',\n",
       " 'excise_taxes',\n",
       " 'final_income',\n",
       " 'food_subsidies',\n",
       " 'fuel_subsidies',\n",
       " 'gifts_sales_durables',\n",
       " 'gross_income',\n",
       " 'imputed_rent',\n",
       " 'indirect_subsidies',\n",
       " 'indirect_taxes',\n",
       " 'market_income',\n",
       " 'market_income_plus_pensions',\n",
       " 'net_market_income',\n",
       " 'nontaxable_income',\n",
       " 'other_contributions',\n",
       " 'other_income',\n",
       " 'other_taxes',\n",
       " 'payroll_tax',\n",
       " 'pensions',\n",
       " 'personal_income_tax',\n",
       " 'property_tax',\n",
       " 'sales_tax',\n",
       " 'self_employed_contributions_health',\n",
       " 'self_employed_contributions_pensions',\n",
       " 'self_employed_other_contributions',\n",
       " 'taxable_income',\n",
       " 'value_added_tax']"
      ]
     },
     "execution_count": 38,
     "metadata": {},
     "output_type": "execute_result"
    }
   ],
   "source": [
    "ceq_variables"
   ]
  },
  {
   "cell_type": "code",
   "execution_count": 39,
   "metadata": {
    "execution": {
     "iopub.execute_input": "2020-07-04T00:14:20.374796Z",
     "iopub.status.busy": "2020-07-04T00:14:20.373672Z",
     "iopub.status.idle": "2020-07-04T00:14:20.378525Z",
     "shell.execute_reply": "2020-07-04T00:14:20.378930Z"
    },
    "papermill": {
     "duration": 0.050333,
     "end_time": "2020-07-04T00:14:20.379043",
     "exception": false,
     "start_time": "2020-07-04T00:14:20.328710",
     "status": "completed"
    },
    "tags": []
   },
   "outputs": [
    {
     "data": {
      "text/plain": [
       "31882424995.660522"
      ]
     },
     "execution_count": 39,
     "metadata": {},
     "output_type": "execute_result"
    }
   ],
   "source": [
    "survey_scenario.compute_aggregate('customs_duties', period = year) "
   ]
  },
  {
   "cell_type": "code",
   "execution_count": 40,
   "metadata": {
    "execution": {
     "iopub.execute_input": "2020-07-04T00:14:20.458874Z",
     "iopub.status.busy": "2020-07-04T00:14:20.458109Z",
     "iopub.status.idle": "2020-07-04T00:14:24.294883Z",
     "shell.execute_reply": "2020-07-04T00:14:24.295419Z"
    },
    "papermill": {
     "duration": 3.878981,
     "end_time": "2020-07-04T00:14:24.295564",
     "exception": false,
     "start_time": "2020-07-04T00:14:20.416583",
     "status": "completed"
    },
    "tags": []
   },
   "outputs": [
    {
     "name": "stderr",
     "output_type": "stream",
     "text": [
      "/home/benjello/.virtualenvs/ceq/lib/python3.7/site-packages/scipy/optimize/minpack.py:175: RuntimeWarning: The iteration is not making good progress, as measured by the \n",
      "  improvement from the last ten iterations.\n",
      "  warnings.warn(msg, RuntimeWarning)\n"
     ]
    }
   ],
   "source": [
    "inflated_survey_scenario = build_ceq_survey_scenario(legislation_country = country, year = year, inflate = True)"
   ]
  },
  {
   "cell_type": "code",
   "execution_count": 41,
   "metadata": {
    "execution": {
     "iopub.execute_input": "2020-07-04T00:14:24.406935Z",
     "iopub.status.busy": "2020-07-04T00:14:24.406033Z",
     "iopub.status.idle": "2020-07-04T00:14:24.409223Z",
     "shell.execute_reply": "2020-07-04T00:14:24.409908Z"
    },
    "papermill": {
     "duration": 0.053485,
     "end_time": "2020-07-04T00:14:24.410132",
     "exception": false,
     "start_time": "2020-07-04T00:14:24.356647",
     "status": "completed"
    },
    "tags": []
   },
   "outputs": [
    {
     "data": {
      "text/plain": [
       "['poste_10_1_1_1',\n",
       " 'poste_11_2_1_1',\n",
       " 'poste_12_1_1_1',\n",
       " 'poste_12_3_1_1',\n",
       " 'poste_12_3_2_1_1',\n",
       " 'poste_12_4_1',\n",
       " 'poste_12_5_3_1_1',\n",
       " 'poste_12_5_item_1',\n",
       " 'poste_12_5_item_2',\n",
       " 'poste_12_5_item_3',\n",
       " 'poste_12_6_1_1_1',\n",
       " 'poste_12_7_1_1_1_item_1',\n",
       " 'poste_12_7_1_1_1_item_2',\n",
       " 'poste_1_1_1_1_1',\n",
       " 'poste_1_1_1_4_1_item_1',\n",
       " 'poste_1_1_1_4_1_item_2',\n",
       " 'poste_1_1_1_4_1_item_3',\n",
       " 'poste_1_1_1_4_3',\n",
       " 'poste_1_1_2_item_1',\n",
       " 'poste_1_1_2_item_2',\n",
       " 'poste_1_1_3_item_1',\n",
       " 'poste_1_1_3_item_2',\n",
       " 'poste_1_1_4_item_1',\n",
       " 'poste_1_1_4_item_2',\n",
       " 'poste_1_1_5_item_1',\n",
       " 'poste_1_1_5_item_2',\n",
       " 'poste_1_1_7_item_1',\n",
       " 'poste_1_1_7_item_2',\n",
       " 'poste_1_1_7_item_3',\n",
       " 'poste_1_1_7_item_4',\n",
       " 'poste_1_1_8',\n",
       " 'poste_1_1_9',\n",
       " 'poste_1_2',\n",
       " 'poste_2',\n",
       " 'poste_3_1_2',\n",
       " 'poste_3_2_1',\n",
       " 'poste_4_1_1_item_1',\n",
       " 'poste_4_1_1_item_2',\n",
       " 'poste_4_3_2_2_1_item_1',\n",
       " 'poste_4_3_2_2_1_item_2',\n",
       " 'poste_4_4_1_1_1',\n",
       " 'poste_4_4_1_2_1',\n",
       " 'poste_4_5_1_1_1',\n",
       " 'poste_4_5_2_1_1',\n",
       " 'poste_4_5_3_1_1',\n",
       " 'poste_4_5_4_1_1',\n",
       " 'poste_5_1',\n",
       " 'poste_5_2',\n",
       " 'poste_5_3_1_item_1',\n",
       " 'poste_5_3_1_item_2',\n",
       " 'poste_5_3_1_item_3',\n",
       " 'poste_5_3_1_item_4',\n",
       " 'poste_5_3_1_item_5',\n",
       " 'poste_5_3_1_item_6',\n",
       " 'poste_5_3_1_item_7',\n",
       " 'poste_5_3_1_item_8',\n",
       " 'poste_5_3_1_item_9',\n",
       " 'poste_5_3_2_item_1',\n",
       " 'poste_5_3_2_item_2',\n",
       " 'poste_5_4_1',\n",
       " 'poste_5_5_1_item_1',\n",
       " 'poste_5_5_1_item_2',\n",
       " 'poste_5_6_2_1_1',\n",
       " 'poste_6_1_1_item_1',\n",
       " 'poste_6_1_1_item_2',\n",
       " 'poste_6_2_1_item_1',\n",
       " 'poste_6_2_1_item_2',\n",
       " 'poste_7_1_1_item_1',\n",
       " 'poste_7_1_1_item_2',\n",
       " 'poste_7_1_2',\n",
       " 'poste_7_2_2',\n",
       " 'poste_7_2_3_item_1',\n",
       " 'poste_7_2_3_item_2',\n",
       " 'poste_7_3_2_item_1',\n",
       " 'poste_7_3_2_item_2',\n",
       " 'poste_8_1_1_1_1',\n",
       " 'poste_8_1_2_1_1_item_1',\n",
       " 'poste_8_1_2_1_1_item_2',\n",
       " 'poste_8_1_2_2_1_item_1',\n",
       " 'poste_8_1_2_2_1_item_2',\n",
       " 'poste_9_1_1_1_1',\n",
       " 'poste_9_1_1_1_2',\n",
       " 'poste_9_1_1_1_3_item_1',\n",
       " 'poste_9_1_1_1_3_item_2',\n",
       " 'poste_9_1_2_1',\n",
       " 'poste_9_1_3_1_1',\n",
       " 'poste_9_1_5_1_1',\n",
       " 'poste_9_2_1_1_3',\n",
       " 'poste_9_3_1_1_1_item_1',\n",
       " 'poste_9_3_1_1_1_item_2',\n",
       " 'poste_9_3_2_1_1',\n",
       " 'poste_9_3_3_1_1',\n",
       " 'poste_9_3_4_1_2',\n",
       " 'poste_9_4',\n",
       " 'poste_9_4_1_1_item_1',\n",
       " 'poste_9_4_1_1_item_2',\n",
       " 'poste_9_4_2_3_1',\n",
       " 'poste_9_5_1_1',\n",
       " 'poste_9_5_2_1_1',\n",
       " 'poste_9_6_1_item_1',\n",
       " 'poste_9_6_1_item_2']"
      ]
     },
     "execution_count": 41,
     "metadata": {},
     "output_type": "execute_result"
    }
   ],
   "source": [
    "sorted([\n",
    "    variable \n",
    "    for variable in survey_scenario.tax_benefit_system.variables \n",
    "    if variable.startswith('poste_')\n",
    "    ])"
   ]
  },
  {
   "cell_type": "code",
   "execution_count": 42,
   "metadata": {
    "execution": {
     "iopub.execute_input": "2020-07-04T00:14:24.496096Z",
     "iopub.status.busy": "2020-07-04T00:14:24.495183Z",
     "iopub.status.idle": "2020-07-04T00:14:24.500657Z",
     "shell.execute_reply": "2020-07-04T00:14:24.501342Z"
    },
    "papermill": {
     "duration": 0.049236,
     "end_time": "2020-07-04T00:14:24.501531",
     "exception": false,
     "start_time": "2020-07-04T00:14:24.452295",
     "status": "completed"
    },
    "tags": []
   },
   "outputs": [
    {
     "data": {
      "text/plain": [
       "267325699798.75095"
      ]
     },
     "execution_count": 42,
     "metadata": {},
     "output_type": "execute_result"
    }
   ],
   "source": [
    "survey_scenario.compute_aggregate('indirect_taxes', period = year)"
   ]
  },
  {
   "cell_type": "markdown",
   "metadata": {
    "papermill": {
     "duration": 0.039065,
     "end_time": "2020-07-04T00:14:24.585723",
     "exception": false,
     "start_time": "2020-07-04T00:14:24.546658",
     "status": "completed"
    },
    "tags": []
   },
   "source": [
    "Direct taxes"
   ]
  },
  {
   "cell_type": "code",
   "execution_count": null,
   "metadata": {
    "papermill": {
     "duration": 0.037575,
     "end_time": "2020-07-04T00:14:24.661273",
     "exception": false,
     "start_time": "2020-07-04T00:14:24.623698",
     "status": "completed"
    },
    "tags": []
   },
   "outputs": [],
   "source": []
  },
  {
   "cell_type": "code",
   "execution_count": null,
   "metadata": {
    "papermill": {
     "duration": 0.038743,
     "end_time": "2020-07-04T00:14:24.737728",
     "exception": false,
     "start_time": "2020-07-04T00:14:24.698985",
     "status": "completed"
    },
    "tags": []
   },
   "outputs": [],
   "source": []
  }
 ],
 "metadata": {
  "kernelspec": {
   "display_name": "Python 3",
   "language": "python",
   "name": "python3"
  },
  "language_info": {
   "codemirror_mode": {
    "name": "ipython",
    "version": 3
   },
   "file_extension": ".py",
   "mimetype": "text/x-python",
   "name": "python",
   "nbconvert_exporter": "python",
   "pygments_lexer": "ipython3",
   "version": "3.7.8"
  },
  "papermill": {
   "duration": 19.161048,
   "end_time": "2020-07-04T00:14:25.288643",
   "environment_variables": {},
   "exception": null,
   "input_path": "notebooks/test.ipynb",
   "output_path": "notebooks/mali.ipynb",
   "parameters": {
    "country": "mali"
   },
   "start_time": "2020-07-04T00:14:06.127595",
   "version": "2.1.2"
  }
 },
 "nbformat": 4,
 "nbformat_minor": 4
}