{
 "cells": [
  {
   "cell_type": "code",
   "execution_count": 1,
   "metadata": {
    "papermill": {
     "duration": 0.454278,
     "end_time": "2020-03-21T16:46:55.246575",
     "exception": false,
     "start_time": "2020-03-21T16:46:54.792297",
     "status": "completed"
    },
    "tags": []
   },
   "outputs": [],
   "source": [
    "import pandas as pd\n",
    "from openfisca_ceq.tools.survey_scenario import build_ceq_survey_scenario\n",
    "from openfisca_ceq.tools.indirect_taxation.tax_benefit_system_indirect_taxation_completion import indirect_tax_by_country\n",
    "from openfisca_ceq.tools.data import year_by_country\n",
    "from openfisca_ceq.tools.data_ceq_correspondence import (\n",
    "    ceq_input_by_harmonized_variable,\n",
    "    ceq_intermediate_by_harmonized_variable,\n",
    "    non_ceq_input_by_harmonized_variable,\n",
    "    )"
   ]
  },
  {
   "cell_type": "markdown",
   "metadata": {
    "papermill": {
     "duration": 0.009737,
     "end_time": "2020-03-21T16:46:55.266629",
     "exception": false,
     "start_time": "2020-03-21T16:46:55.256892",
     "status": "completed"
    },
    "tags": []
   },
   "source": [
    "# Build country scenario"
   ]
  },
  {
   "cell_type": "markdown",
   "metadata": {
    "papermill": {
     "duration": 0.010462,
     "end_time": "2020-03-21T16:46:55.289117",
     "exception": false,
     "start_time": "2020-03-21T16:46:55.278655",
     "status": "completed"
    },
    "tags": []
   },
   "source": [
    "## Country selection"
   ]
  },
  {
   "cell_type": "code",
   "execution_count": 2,
   "metadata": {
    "papermill": {
     "duration": 0.016328,
     "end_time": "2020-03-21T16:46:55.316041",
     "exception": false,
     "start_time": "2020-03-21T16:46:55.299713",
     "status": "completed"
    },
    "tags": [
     "parameters"
    ]
   },
   "outputs": [],
   "source": [
    "country = \"cote_d_ivoire\""
   ]
  },
  {
   "cell_type": "code",
   "execution_count": 3,
   "metadata": {
    "papermill": {
     "duration": 0.016323,
     "end_time": "2020-03-21T16:46:55.343289",
     "exception": false,
     "start_time": "2020-03-21T16:46:55.326966",
     "status": "completed"
    },
    "tags": [
     "injected-parameters"
    ]
   },
   "outputs": [],
   "source": [
    "# Parameters\n",
    "country = \"mali\"\n"
   ]
  },
  {
   "cell_type": "code",
   "execution_count": 4,
   "metadata": {
    "papermill": {
     "duration": 4.214321,
     "end_time": "2020-03-21T16:46:59.567447",
     "exception": false,
     "start_time": "2020-03-21T16:46:55.353126",
     "status": "completed"
    },
    "tags": []
   },
   "outputs": [],
   "source": [
    "year = year_by_country[country]\n",
    "survey_scenario = build_ceq_survey_scenario(legislation_country = country, year = year)"
   ]
  },
  {
   "cell_type": "markdown",
   "metadata": {
    "papermill": {
     "duration": 0.010398,
     "end_time": "2020-03-21T16:46:59.589079",
     "exception": false,
     "start_time": "2020-03-21T16:46:59.578681",
     "status": "completed"
    },
    "tags": []
   },
   "source": [
    "# Aggegates check"
   ]
  },
  {
   "cell_type": "markdown",
   "metadata": {
    "papermill": {
     "duration": 0.0179,
     "end_time": "2020-03-21T16:46:59.616968",
     "exception": false,
     "start_time": "2020-03-21T16:46:59.599068",
     "status": "completed"
    },
    "tags": []
   },
   "source": [
    "## Income variables"
   ]
  },
  {
   "cell_type": "markdown",
   "metadata": {
    "papermill": {
     "duration": 0.011123,
     "end_time": "2020-03-21T16:46:59.640271",
     "exception": false,
     "start_time": "2020-03-21T16:46:59.629148",
     "status": "completed"
    },
    "tags": []
   },
   "source": [
    "### Disagregated income variables"
   ]
  },
  {
   "cell_type": "code",
   "execution_count": 5,
   "metadata": {
    "papermill": {
     "duration": 0.022927,
     "end_time": "2020-03-21T16:46:59.672908",
     "exception": false,
     "start_time": "2020-03-21T16:46:59.649981",
     "status": "completed"
    },
    "tags": []
   },
   "outputs": [
    {
     "data": {
      "text/plain": [
       "{'rev_i_autoconsommation': 'autoconsumption',\n",
       " 'rev_i_autres': 'other_income',\n",
       " 'rev_i_autres_transferts': 'gifts_sales_durables',\n",
       " 'rev_i_loyers_imputes': 'imputed_rent',\n",
       " 'rev_i_transferts_publics': 'direct_transfers',\n",
       " 'rev_i_agricoles': 'revenu_agricole',\n",
       " 'rev_i_autres_revenus_capital': 'autres_revenus_du_capital',\n",
       " 'rev_i_independants_Ntaxe': 'revenu_informel_non_salarie',\n",
       " 'rev_i_independants_taxe': 'revenu_non_salarie',\n",
       " 'rev_i_independants': 'revenu_non_salarie_total',\n",
       " 'rev_i_locatifs': 'revenu_locatif',\n",
       " 'rev_i_pensions': 'pension_retraite',\n",
       " 'rev_i_salaires_formels': 'salaire',\n",
       " 'rev_i_salaires_informels': 'revenu_informel_salarie',\n",
       " 'salaire_brut': 'salaire_brut',\n",
       " 'salaire_super_brut': 'salaire_super_brut'}"
      ]
     },
     "execution_count": 5,
     "metadata": {},
     "output_type": "execute_result"
    }
   ],
   "source": [
    "ceq_by_harmonized_variable = dict()\n",
    "ceq_by_harmonized_variable.update(ceq_input_by_harmonized_variable)\n",
    "ceq_by_harmonized_variable.update(ceq_intermediate_by_harmonized_variable)\n",
    "ceq_by_harmonized_variable.update(non_ceq_input_by_harmonized_variable)\n",
    "ceq_by_harmonized_variable['salaire_brut'] = 'salaire_brut'\n",
    "ceq_by_harmonized_variable['salaire_super_brut'] = 'salaire_super_brut'\n",
    "ceq_by_harmonized_variable"
   ]
  },
  {
   "cell_type": "code",
   "execution_count": 6,
   "metadata": {
    "papermill": {
     "duration": 0.048792,
     "end_time": "2020-03-21T16:46:59.736071",
     "exception": false,
     "start_time": "2020-03-21T16:46:59.687279",
     "status": "completed"
    },
    "tags": []
   },
   "outputs": [],
   "source": [
    "data = [\n",
    "    (harmonized_variable, openfisca_variable, survey_scenario.compute_aggregate(openfisca_variable, period = year) / 1e9) \n",
    "    for harmonized_variable, openfisca_variable in ceq_by_harmonized_variable.items()\n",
    "    ]"
   ]
  },
  {
   "cell_type": "code",
   "execution_count": 7,
   "metadata": {
    "papermill": {
     "duration": 0.054842,
     "end_time": "2020-03-21T16:46:59.818434",
     "exception": false,
     "start_time": "2020-03-21T16:46:59.763592",
     "status": "completed"
    },
    "tags": []
   },
   "outputs": [
    {
     "data": {
      "text/html": [
       "<div>\n",
       "<style scoped>\n",
       "    .dataframe tbody tr th:only-of-type {\n",
       "        vertical-align: middle;\n",
       "    }\n",
       "\n",
       "    .dataframe tbody tr th {\n",
       "        vertical-align: top;\n",
       "    }\n",
       "\n",
       "    .dataframe thead th {\n",
       "        text-align: right;\n",
       "    }\n",
       "</style>\n",
       "<table border=\"1\" class=\"dataframe\">\n",
       "  <thead>\n",
       "    <tr style=\"text-align: right;\">\n",
       "      <th></th>\n",
       "      <th>harmonized</th>\n",
       "      <th>openfisca</th>\n",
       "      <th>aggregate</th>\n",
       "    </tr>\n",
       "  </thead>\n",
       "  <tbody>\n",
       "    <tr>\n",
       "      <th>0</th>\n",
       "      <td>rev_i_autoconsommation</td>\n",
       "      <td>autoconsumption</td>\n",
       "      <td>256.513891</td>\n",
       "    </tr>\n",
       "    <tr>\n",
       "      <th>1</th>\n",
       "      <td>rev_i_autres</td>\n",
       "      <td>other_income</td>\n",
       "      <td>282.008977</td>\n",
       "    </tr>\n",
       "    <tr>\n",
       "      <th>2</th>\n",
       "      <td>rev_i_autres_transferts</td>\n",
       "      <td>gifts_sales_durables</td>\n",
       "      <td>70.479250</td>\n",
       "    </tr>\n",
       "    <tr>\n",
       "      <th>3</th>\n",
       "      <td>rev_i_loyers_imputes</td>\n",
       "      <td>imputed_rent</td>\n",
       "      <td>150.021121</td>\n",
       "    </tr>\n",
       "    <tr>\n",
       "      <th>4</th>\n",
       "      <td>rev_i_transferts_publics</td>\n",
       "      <td>direct_transfers</td>\n",
       "      <td>0.000000</td>\n",
       "    </tr>\n",
       "    <tr>\n",
       "      <th>5</th>\n",
       "      <td>rev_i_agricoles</td>\n",
       "      <td>revenu_agricole</td>\n",
       "      <td>612.449204</td>\n",
       "    </tr>\n",
       "    <tr>\n",
       "      <th>6</th>\n",
       "      <td>rev_i_autres_revenus_capital</td>\n",
       "      <td>autres_revenus_du_capital</td>\n",
       "      <td>0.000000</td>\n",
       "    </tr>\n",
       "    <tr>\n",
       "      <th>7</th>\n",
       "      <td>rev_i_independants_Ntaxe</td>\n",
       "      <td>revenu_informel_non_salarie</td>\n",
       "      <td>511.791472</td>\n",
       "    </tr>\n",
       "    <tr>\n",
       "      <th>8</th>\n",
       "      <td>rev_i_independants_taxe</td>\n",
       "      <td>revenu_non_salarie</td>\n",
       "      <td>0.000000</td>\n",
       "    </tr>\n",
       "    <tr>\n",
       "      <th>9</th>\n",
       "      <td>rev_i_independants</td>\n",
       "      <td>revenu_non_salarie_total</td>\n",
       "      <td>511.791472</td>\n",
       "    </tr>\n",
       "    <tr>\n",
       "      <th>10</th>\n",
       "      <td>rev_i_locatifs</td>\n",
       "      <td>revenu_locatif</td>\n",
       "      <td>0.000000</td>\n",
       "    </tr>\n",
       "    <tr>\n",
       "      <th>11</th>\n",
       "      <td>rev_i_pensions</td>\n",
       "      <td>pension_retraite</td>\n",
       "      <td>0.000000</td>\n",
       "    </tr>\n",
       "    <tr>\n",
       "      <th>12</th>\n",
       "      <td>rev_i_salaires_formels</td>\n",
       "      <td>salaire</td>\n",
       "      <td>68.177819</td>\n",
       "    </tr>\n",
       "    <tr>\n",
       "      <th>13</th>\n",
       "      <td>rev_i_salaires_informels</td>\n",
       "      <td>revenu_informel_salarie</td>\n",
       "      <td>196.241122</td>\n",
       "    </tr>\n",
       "    <tr>\n",
       "      <th>14</th>\n",
       "      <td>salaire_brut</td>\n",
       "      <td>salaire_brut</td>\n",
       "      <td>0.000000</td>\n",
       "    </tr>\n",
       "    <tr>\n",
       "      <th>15</th>\n",
       "      <td>salaire_super_brut</td>\n",
       "      <td>salaire_super_brut</td>\n",
       "      <td>0.000000</td>\n",
       "    </tr>\n",
       "  </tbody>\n",
       "</table>\n",
       "</div>"
      ],
      "text/plain": [
       "                      harmonized                    openfisca   aggregate\n",
       "0         rev_i_autoconsommation              autoconsumption  256.513891\n",
       "1                   rev_i_autres                 other_income  282.008977\n",
       "2        rev_i_autres_transferts         gifts_sales_durables   70.479250\n",
       "3           rev_i_loyers_imputes                 imputed_rent  150.021121\n",
       "4       rev_i_transferts_publics             direct_transfers    0.000000\n",
       "5                rev_i_agricoles              revenu_agricole  612.449204\n",
       "6   rev_i_autres_revenus_capital    autres_revenus_du_capital    0.000000\n",
       "7       rev_i_independants_Ntaxe  revenu_informel_non_salarie  511.791472\n",
       "8        rev_i_independants_taxe           revenu_non_salarie    0.000000\n",
       "9             rev_i_independants     revenu_non_salarie_total  511.791472\n",
       "10                rev_i_locatifs               revenu_locatif    0.000000\n",
       "11                rev_i_pensions             pension_retraite    0.000000\n",
       "12        rev_i_salaires_formels                      salaire   68.177819\n",
       "13      rev_i_salaires_informels      revenu_informel_salarie  196.241122\n",
       "14                  salaire_brut                 salaire_brut    0.000000\n",
       "15            salaire_super_brut           salaire_super_brut    0.000000"
      ]
     },
     "execution_count": 7,
     "metadata": {},
     "output_type": "execute_result"
    }
   ],
   "source": [
    "revenus = pd.DataFrame(data, columns = [\"harmonized\", \"openfisca\", \"aggregate\"])\n",
    "revenus"
   ]
  },
  {
   "cell_type": "markdown",
   "metadata": {
    "papermill": {
     "duration": 0.010683,
     "end_time": "2020-03-21T16:46:59.859701",
     "exception": false,
     "start_time": "2020-03-21T16:46:59.849018",
     "status": "completed"
    },
    "tags": []
   },
   "source": [
    "### Agregated income variables"
   ]
  },
  {
   "cell_type": "markdown",
   "metadata": {
    "papermill": {
     "duration": 0.010463,
     "end_time": "2020-03-21T16:46:59.880332",
     "exception": false,
     "start_time": "2020-03-21T16:46:59.869869",
     "status": "completed"
    },
    "tags": []
   },
   "source": [
    "#### CEQ agregated income variables"
   ]
  },
  {
   "cell_type": "code",
   "execution_count": 8,
   "metadata": {
    "papermill": {
     "duration": 0.017063,
     "end_time": "2020-03-21T16:46:59.907800",
     "exception": false,
     "start_time": "2020-03-21T16:46:59.890737",
     "status": "completed"
    },
    "tags": []
   },
   "outputs": [],
   "source": [
    "ceq_variables = [\"market_income\", \"market_income_plus_pensions\", \"pensions\", \"contributions_pensions\", \"net_market_income\", \"direct_taxes\", \"other_contributions\", \"contributions_health\", ]"
   ]
  },
  {
   "cell_type": "code",
   "execution_count": 9,
   "metadata": {
    "papermill": {
     "duration": 0.04086,
     "end_time": "2020-03-21T16:46:59.959854",
     "exception": false,
     "start_time": "2020-03-21T16:46:59.918994",
     "status": "completed"
    },
    "tags": []
   },
   "outputs": [
    {
     "data": {
      "text/html": [
       "<div>\n",
       "<style scoped>\n",
       "    .dataframe tbody tr th:only-of-type {\n",
       "        vertical-align: middle;\n",
       "    }\n",
       "\n",
       "    .dataframe tbody tr th {\n",
       "        vertical-align: top;\n",
       "    }\n",
       "\n",
       "    .dataframe thead th {\n",
       "        text-align: right;\n",
       "    }\n",
       "</style>\n",
       "<table border=\"1\" class=\"dataframe\">\n",
       "  <thead>\n",
       "    <tr style=\"text-align: right;\">\n",
       "      <th></th>\n",
       "      <th>aggregate</th>\n",
       "    </tr>\n",
       "  </thead>\n",
       "  <tbody>\n",
       "    <tr>\n",
       "      <th>market_income</th>\n",
       "      <td>2079.505036</td>\n",
       "    </tr>\n",
       "    <tr>\n",
       "      <th>market_income_plus_pensions</th>\n",
       "      <td>2079.505036</td>\n",
       "    </tr>\n",
       "    <tr>\n",
       "      <th>pensions</th>\n",
       "      <td>0.000000</td>\n",
       "    </tr>\n",
       "    <tr>\n",
       "      <th>contributions_pensions</th>\n",
       "      <td>0.000000</td>\n",
       "    </tr>\n",
       "    <tr>\n",
       "      <th>net_market_income</th>\n",
       "      <td>2079.505036</td>\n",
       "    </tr>\n",
       "    <tr>\n",
       "      <th>direct_taxes</th>\n",
       "      <td>0.000000</td>\n",
       "    </tr>\n",
       "    <tr>\n",
       "      <th>other_contributions</th>\n",
       "      <td>0.000000</td>\n",
       "    </tr>\n",
       "    <tr>\n",
       "      <th>contributions_health</th>\n",
       "      <td>0.000000</td>\n",
       "    </tr>\n",
       "  </tbody>\n",
       "</table>\n",
       "</div>"
      ],
      "text/plain": [
       "                               aggregate\n",
       "market_income                2079.505036\n",
       "market_income_plus_pensions  2079.505036\n",
       "pensions                        0.000000\n",
       "contributions_pensions          0.000000\n",
       "net_market_income            2079.505036\n",
       "direct_taxes                    0.000000\n",
       "other_contributions             0.000000\n",
       "contributions_health            0.000000"
      ]
     },
     "execution_count": 9,
     "metadata": {},
     "output_type": "execute_result"
    }
   ],
   "source": [
    "ceq_aggregates = pd.DataFrame(\n",
    "    index = ceq_variables,\n",
    "    columns = ['aggregate'],\n",
    "    data = [\n",
    "        survey_scenario.compute_aggregate(ceq_variable, period = year) / 1e9 \n",
    "        for ceq_variable in ceq_variables\n",
    "        ]\n",
    "    )\n",
    "ceq_aggregates"
   ]
  },
  {
   "cell_type": "markdown",
   "metadata": {
    "papermill": {
     "duration": 0.028985,
     "end_time": "2020-03-21T16:47:00.017655",
     "exception": false,
     "start_time": "2020-03-21T16:46:59.988670",
     "status": "completed"
    },
    "tags": []
   },
   "source": [
    "#### Direct check"
   ]
  },
  {
   "cell_type": "code",
   "execution_count": 10,
   "metadata": {
    "papermill": {
     "duration": 0.030457,
     "end_time": "2020-03-21T16:47:00.077221",
     "exception": false,
     "start_time": "2020-03-21T16:47:00.046764",
     "status": "completed"
    },
    "tags": []
   },
   "outputs": [],
   "source": [
    "income_components_summed_in_total = list(ceq_by_harmonized_variable.values()) \n",
    "income_components_summed_in_total.remove(\"revenu_non_salarie_total\")\n",
    "income_components_summed_in_total.remove(\"direct_transfers\")\n",
    "income_components_summed_in_total.remove(\"salaire\")\n",
    "income_components_summed_in_total.remove(\"salaire_brut\")\n",
    "total_income = sum(\n",
    "    survey_scenario.compute_aggregate(income_component, period = survey_scenario.year) \n",
    "    for income_component in income_components_summed_in_total\n",
    "    ) \n",
    "total_income = (\n",
    "    total_income \n",
    "    - survey_scenario.compute_aggregate(\"contributions_pensions\", period = survey_scenario.year)\n",
    "    )/ 1e9\n"
   ]
  },
  {
   "cell_type": "code",
   "execution_count": 11,
   "metadata": {
    "papermill": {
     "duration": 0.019067,
     "end_time": "2020-03-21T16:47:00.109611",
     "exception": false,
     "start_time": "2020-03-21T16:47:00.090544",
     "status": "completed"
    },
    "tags": []
   },
   "outputs": [],
   "source": [
    "from numpy.testing import assert_almost_equal\n",
    "assert_almost_equal(ceq_aggregates.loc['market_income_plus_pensions'].values, total_income, decimal = 5) \n",
    "# print('market_income_plus_pensions = {} vs {} = total_income'.format(\n",
    "#         ceq_aggregates.loc['market_income_plus_pensions'].values,\n",
    "#         total_income\n",
    "#         )\n",
    "#     )\n"
   ]
  },
  {
   "cell_type": "markdown",
   "metadata": {
    "papermill": {
     "duration": 0.011385,
     "end_time": "2020-03-21T16:47:00.133607",
     "exception": false,
     "start_time": "2020-03-21T16:47:00.122222",
     "status": "completed"
    },
    "tags": []
   },
   "source": [
    "## Education variables"
   ]
  },
  {
   "cell_type": "markdown",
   "metadata": {
    "papermill": {
     "duration": 0.01061,
     "end_time": "2020-03-21T16:47:00.154838",
     "exception": false,
     "start_time": "2020-03-21T16:47:00.144228",
     "status": "completed"
    },
    "tags": []
   },
   "source": [
    "### Counts (in millions)"
   ]
  },
  {
   "cell_type": "code",
   "execution_count": 12,
   "metadata": {
    "papermill": {
     "duration": 0.036124,
     "end_time": "2020-03-21T16:47:00.201534",
     "exception": false,
     "start_time": "2020-03-21T16:47:00.165410",
     "status": "completed"
    },
    "tags": []
   },
   "outputs": [
    {
     "name": "stdout",
     "output_type": "stream",
     "text": [
      "eleve_enseignement_niveau  -1.0   0.0   1.0   2.0   3.0\n",
      "eleve_enseignement_public                              \n",
      "1.0                        12.4  0.11  1.77  1.27  0.12\n"
     ]
    }
   ],
   "source": [
    "print((survey_scenario.compute_pivot_table(columns = ['eleve_enseignement_niveau'], index = ['eleve_enseignement_public'], aggfunc = 'count', period = survey_scenario.year) / 1e6).round(2))"
   ]
  },
  {
   "cell_type": "code",
   "execution_count": 13,
   "metadata": {
    "papermill": {
     "duration": 0.028887,
     "end_time": "2020-03-21T16:47:00.243305",
     "exception": false,
     "start_time": "2020-03-21T16:47:00.214418",
     "status": "completed"
    },
    "tags": []
   },
   "outputs": [
    {
     "name": "stdout",
     "output_type": "stream",
     "text": [
      "In kind education tranfers\n",
      "pre_school_person: 0 billions FCFA\n",
      "pre_school: 0 billions FCFA\n",
      "primary_education_person: 119 billions FCFA\n",
      "primary_education: 119 billions FCFA\n",
      "secondary_education_person: 179 billions FCFA\n",
      "secondary_education: 179 billions FCFA\n",
      "tertiary_education_person: 16 billions FCFA\n",
      "tertiary_education: 16 billions FCFA\n",
      "education_net_transfers: 314 billions FCFA\n"
     ]
    }
   ],
   "source": [
    "variables = [\n",
    "    'pre_school_person',\n",
    "    'pre_school',\n",
    "    'primary_education_person',\n",
    "    'primary_education',\n",
    "    'secondary_education_person',\n",
    "    'secondary_education',\n",
    "    'tertiary_education_person',\n",
    "    'tertiary_education',\n",
    "    'education_net_transfers',\n",
    "    ]\n",
    "print(\"In kind education tranfers\")\n",
    "for variable in variables:\n",
    "    print(\n",
    "        \"{variable}: {aggregate} billions FCFA\".format(\n",
    "            variable = variable,\n",
    "            aggregate = int(round(survey_scenario.compute_aggregate(variable, period = survey_scenario.year) / 1e9))\n",
    "            )\n",
    "        )"
   ]
  },
  {
   "cell_type": "markdown",
   "metadata": {
    "papermill": {
     "duration": 0.011032,
     "end_time": "2020-03-21T16:47:00.268825",
     "exception": false,
     "start_time": "2020-03-21T16:47:00.257793",
     "status": "completed"
    },
    "tags": []
   },
   "source": [
    "## Tax variables"
   ]
  },
  {
   "cell_type": "markdown",
   "metadata": {
    "papermill": {
     "duration": 0.011116,
     "end_time": "2020-03-21T16:47:00.291168",
     "exception": false,
     "start_time": "2020-03-21T16:47:00.280052",
     "status": "completed"
    },
    "tags": []
   },
   "source": [
    "### Indirect tax variables"
   ]
  },
  {
   "cell_type": "code",
   "execution_count": 14,
   "metadata": {
    "papermill": {
     "duration": 0.019435,
     "end_time": "2020-03-21T16:47:00.321897",
     "exception": false,
     "start_time": "2020-03-21T16:47:00.302462",
     "status": "completed"
    },
    "tags": []
   },
   "outputs": [
    {
     "data": {
      "text/plain": [
       "['depenses_ht_tva_exonere',\n",
       " 'depenses_ht_tva_taux_normal',\n",
       " 'depenses_ht_tva_taux_reduit',\n",
       " 'tva_taux_normal',\n",
       " 'tva_taux_reduit',\n",
       " 'tva']"
      ]
     },
     "execution_count": 14,
     "metadata": {},
     "output_type": "execute_result"
    }
   ],
   "source": [
    "indirect_tax_variables = [\n",
    "    variable \n",
    "    for tax in indirect_tax_by_country[country]\n",
    "    for variable in survey_scenario.tax_benefit_system.variables.keys() \n",
    "    if tax in variable \n",
    "    ]\n",
    "indirect_tax_variables"
   ]
  },
  {
   "cell_type": "code",
   "execution_count": 15,
   "metadata": {
    "papermill": {
     "duration": 0.033821,
     "end_time": "2020-03-21T16:47:00.368861",
     "exception": false,
     "start_time": "2020-03-21T16:47:00.335040",
     "status": "completed"
    },
    "tags": []
   },
   "outputs": [
    {
     "data": {
      "text/html": [
       "<div>\n",
       "<style scoped>\n",
       "    .dataframe tbody tr th:only-of-type {\n",
       "        vertical-align: middle;\n",
       "    }\n",
       "\n",
       "    .dataframe tbody tr th {\n",
       "        vertical-align: top;\n",
       "    }\n",
       "\n",
       "    .dataframe thead th {\n",
       "        text-align: right;\n",
       "    }\n",
       "</style>\n",
       "<table border=\"1\" class=\"dataframe\">\n",
       "  <thead>\n",
       "    <tr style=\"text-align: right;\">\n",
       "      <th></th>\n",
       "      <th>aggregate</th>\n",
       "    </tr>\n",
       "  </thead>\n",
       "  <tbody>\n",
       "    <tr>\n",
       "      <th>depenses_ht_tva_exonere</th>\n",
       "      <td>1198.248234</td>\n",
       "    </tr>\n",
       "    <tr>\n",
       "      <th>depenses_ht_tva_taux_normal</th>\n",
       "      <td>1238.723146</td>\n",
       "    </tr>\n",
       "    <tr>\n",
       "      <th>depenses_ht_tva_taux_reduit</th>\n",
       "      <td>0.404737</td>\n",
       "    </tr>\n",
       "    <tr>\n",
       "      <th>tva_taux_normal</th>\n",
       "      <td>222.970175</td>\n",
       "    </tr>\n",
       "    <tr>\n",
       "      <th>tva_taux_reduit</th>\n",
       "      <td>0.020237</td>\n",
       "    </tr>\n",
       "    <tr>\n",
       "      <th>tva</th>\n",
       "      <td>222.990412</td>\n",
       "    </tr>\n",
       "  </tbody>\n",
       "</table>\n",
       "</div>"
      ],
      "text/plain": [
       "                               aggregate\n",
       "depenses_ht_tva_exonere      1198.248234\n",
       "depenses_ht_tva_taux_normal  1238.723146\n",
       "depenses_ht_tva_taux_reduit     0.404737\n",
       "tva_taux_normal               222.970175\n",
       "tva_taux_reduit                 0.020237\n",
       "tva                           222.990412"
      ]
     },
     "execution_count": 15,
     "metadata": {},
     "output_type": "execute_result"
    }
   ],
   "source": [
    " pd.DataFrame(\n",
    "    index = indirect_tax_variables,\n",
    "    columns = ['aggregate'],\n",
    "    data = [\n",
    "        survey_scenario.compute_aggregate(variable, period = year) / 1e9 \n",
    "        for variable in indirect_tax_variables\n",
    "        ]\n",
    "    )"
   ]
  },
  {
   "cell_type": "code",
   "execution_count": 16,
   "metadata": {
    "papermill": {
     "duration": 0.021826,
     "end_time": "2020-03-21T16:47:00.403255",
     "exception": false,
     "start_time": "2020-03-21T16:47:00.381429",
     "status": "completed"
    },
    "tags": []
   },
   "outputs": [
    {
     "data": {
      "text/plain": [
       "2660.366454972495"
      ]
     },
     "execution_count": 16,
     "metadata": {},
     "output_type": "execute_result"
    }
   ],
   "source": [
    "survey_scenario.compute_aggregate('consumption', period = year) / 1e9"
   ]
  },
  {
   "cell_type": "code",
   "execution_count": 17,
   "metadata": {
    "papermill": {
     "duration": 0.019324,
     "end_time": "2020-03-21T16:47:00.435396",
     "exception": false,
     "start_time": "2020-03-21T16:47:00.416072",
     "status": "completed"
    },
    "tags": []
   },
   "outputs": [
    {
     "data": {
      "text/plain": [
       "dict_keys(['household_weight', 'person_weight', 'age', 'date_naissance', 'marie', 'conjoint_a_des_revenus', 'salaire', 'salaire_brut', 'impot_brut', 'impot_traitement_salaire', 'nombre_enfants_a_charge', 'reduction_charge_famille', 'revenu_net_imposable', 'salaire_net_a_payer', 'accidents_du_travail', 'anpe', 'cotisations_employeur', 'cotisations_salariales', 'famille', 'retraite_employeur', 'retraite_salarie', 'salaire_imposable', 'salaire_super_brut', 'sante_employeur', 'sante_salarie', 'contributions_health', 'contributions_pensions', 'employee_contributions_health', 'employee_contributions_pensions', 'employee_other_contributions', 'employer_contributions_health', 'employer_contributions_pensions', 'employer_other_contributions', 'other_contributions', 'self_employed_contributions_health', 'self_employed_contributions_pensions', 'self_employed_other_contributions', 'agricultural_inputs_subsidies', 'electricity_subsidies', 'food_subsidies', 'fuel_subsidies', 'indirect_subsidies', 'corporate_income_tax', 'customs_duties', 'direct_taxes', 'excise_taxes', 'indirect_taxes', 'other_taxes', 'payroll_tax', 'personal_income_tax', 'property_tax', 'sales_tax', 'value_added_tax', 'alimony', 'all_income_excluding_transfers', 'autoconsumption', 'consumable_income', 'disposable_income', 'final_income', 'gifts_sales_durables', 'gross_income', 'imputed_rent', 'market_income', 'market_income_plus_pensions', 'net_market_income', 'nontaxable_income', 'other_income', 'pensions', 'taxable_income', 'cash_transfers', 'direct_transfers', 'near_cash_transfers', 'noncontributory_pensions', 'social_assistance', 'social_insurance', 'education_net_transfers', 'health_contributory', 'health_copay_fees', 'health_in_patient', 'health_net_transfers', 'health_noncontributory', 'health_out_patient', 'housing_transfers', 'in_kind_transfers', 'post_secondary_education', 'pre_school', 'primary_education', 'school_fees', 'secondary_education', 'tertiary_education', 'revenu_informel_non_salarie', 'pension_retraite', 'revenu_non_salarie', 'revenu_locatif', 'revenu_agricole', 'autres_revenus_du_capital', 'revenu_informel_salarie', 'revenu_non_salarie_total', 'eleve_enseignement_niveau', 'eleve_enseignement_public', 'pre_school_person', 'primary_education_person', 'secondary_education_person', 'tertiary_education_person', 'poste_1_1_1_1_1', 'poste_1_1_1_4_1_item_1', 'poste_1_1_1_4_1_item_2', 'poste_1_1_1_4_1_item_3', 'poste_1_1_1_4_3', 'poste_1_1_2_item_1', 'poste_1_1_2_item_2', 'poste_1_1_3_item_1', 'poste_1_1_3_item_2', 'poste_1_1_4_item_1', 'poste_1_1_4_item_2', 'poste_1_1_5_item_1', 'poste_1_1_5_item_2', 'poste_1_1_7_item_1', 'poste_1_1_7_item_2', 'poste_1_1_7_item_3', 'poste_1_1_7_item_4', 'poste_1_1_8', 'poste_1_1_9', 'poste_1_2', 'poste_2', 'poste_3_1_2', 'poste_3_2_1', 'poste_4_1_1_item_1', 'poste_4_1_1_item_2', 'poste_4_3_2_2_1_item_1', 'poste_4_3_2_2_1_item_2', 'poste_4_4_1_1_1', 'poste_4_4_1_2_1', 'poste_4_5_1_1_1', 'poste_4_5_2_1_1', 'poste_4_5_3_1_1', 'poste_4_5_4_1_1', 'poste_5_1', 'poste_5_2', 'poste_5_3_1_item_1', 'poste_5_3_1_item_2', 'poste_5_3_1_item_3', 'poste_5_3_1_item_4', 'poste_5_3_1_item_5', 'poste_5_3_1_item_6', 'poste_5_3_1_item_7', 'poste_5_3_1_item_8', 'poste_5_3_1_item_9', 'poste_5_3_2_item_1', 'poste_5_3_2_item_2', 'poste_5_4_1', 'poste_5_5_1_item_1', 'poste_5_5_1_item_2', 'poste_5_6_2_1_1', 'poste_6_1_1_item_1', 'poste_6_1_1_item_2', 'poste_6_2_1_item_1', 'poste_6_2_1_item_2', 'poste_7_1_1_item_1', 'poste_7_1_1_item_2', 'poste_7_1_2', 'poste_7_2_2', 'poste_7_2_3_item_1', 'poste_7_2_3_item_2', 'poste_7_3_2_item_1', 'poste_7_3_2_item_2', 'poste_8_1_1_1_1', 'poste_8_1_2_1_1_item_1', 'poste_8_1_2_1_1_item_2', 'poste_8_1_2_2_1_item_1', 'poste_8_1_2_2_1_item_2', 'poste_9_1_1_1_1', 'poste_9_1_1_1_2', 'poste_9_1_1_1_3_item_1', 'poste_9_1_1_1_3_item_2', 'poste_9_1_2_1', 'poste_9_1_3_1_1', 'poste_9_1_5_1_1', 'poste_9_2_1_1_3', 'poste_9_3_1_1_1_item_1', 'poste_9_3_1_1_1_item_2', 'poste_9_3_2_1_1', 'poste_9_3_3_1_1', 'poste_9_3_4_1_2', 'poste_9_4', 'poste_9_4_1_1_item_1', 'poste_9_4_1_1_item_2', 'poste_9_4_2_3_1', 'poste_9_5_1_1', 'poste_9_5_2_1_1', 'poste_9_6_1_item_1', 'poste_9_6_1_item_2', 'poste_10_1_1_1', 'poste_11_2_1_1', 'poste_12_1_1_1', 'poste_12_3_1_1', 'poste_12_3_2_1_1', 'poste_12_4_1', 'poste_12_5_item_1', 'poste_12_5_item_2', 'poste_12_5_item_3', 'poste_12_5_3_1_1', 'poste_12_6_1_1_1', 'poste_12_7_1_1_1_item_1', 'poste_12_7_1_1_1_item_2', 'consumption', 'depenses_ht_poste_1_1_1_1_1', 'depenses_ht_poste_1_1_1_4_1_item_1', 'depenses_ht_poste_1_1_1_4_1_item_2', 'depenses_ht_poste_1_1_1_4_1_item_3', 'depenses_ht_poste_1_1_1_4_3', 'depenses_ht_poste_1_1_2_item_1', 'depenses_ht_poste_1_1_2_item_2', 'depenses_ht_poste_1_1_4_item_1', 'depenses_ht_poste_1_1_7_item_1', 'depenses_ht_poste_1_1_7_item_2', 'depenses_ht_poste_1_1_7_item_4', 'depenses_ht_poste_10_1_1_1', 'depenses_ht_poste_12_4_1', 'depenses_ht_poste_12_5_3_1_1', 'depenses_ht_poste_12_5_item_1', 'depenses_ht_poste_12_5_item_2', 'depenses_ht_poste_12_5_item_3', 'depenses_ht_poste_12_6_1_1_1', 'depenses_ht_poste_12_7_1_1_1_item_1', 'depenses_ht_poste_12_7_1_1_1_item_2', 'depenses_ht_poste_4_1_1_item_1', 'depenses_ht_poste_4_4_1_1_1', 'depenses_ht_poste_4_5_1_1_1', 'depenses_ht_poste_4_5_2_1_1', 'depenses_ht_poste_6_1_1_item_1', 'depenses_ht_poste_6_1_1_item_2', 'depenses_ht_poste_6_2_1_item_1', 'depenses_ht_poste_6_2_1_item_2', 'depenses_ht_poste_7_2_2', 'depenses_ht_poste_9_5_1_1', 'depenses_ht_poste_9_5_2_1_1', 'depenses_ht_poste_1_1_3_item_1', 'depenses_ht_poste_1_1_3_item_2', 'depenses_ht_poste_1_1_4_item_2', 'depenses_ht_poste_1_1_5_item_1', 'depenses_ht_poste_1_1_5_item_2', 'depenses_ht_poste_1_1_7_item_3', 'depenses_ht_poste_1_1_8', 'depenses_ht_poste_1_1_9', 'depenses_ht_poste_1_2', 'depenses_ht_poste_11_2_1_1', 'depenses_ht_poste_12_1_1_1', 'depenses_ht_poste_12_3_1_1', 'depenses_ht_poste_12_3_2_1_1', 'depenses_ht_poste_2', 'depenses_ht_poste_3_1_2', 'depenses_ht_poste_3_2_1', 'depenses_ht_poste_4_1_1_item_2', 'depenses_ht_poste_4_3_2_2_1_item_1', 'depenses_ht_poste_4_3_2_2_1_item_2', 'depenses_ht_poste_4_4_1_2_1', 'depenses_ht_poste_4_5_3_1_1', 'depenses_ht_poste_4_5_4_1_1', 'depenses_ht_poste_5_1', 'depenses_ht_poste_5_2', 'depenses_ht_poste_5_3_1_item_1', 'depenses_ht_poste_5_3_1_item_2', 'depenses_ht_poste_5_3_1_item_3', 'depenses_ht_poste_5_3_1_item_4', 'depenses_ht_poste_5_3_1_item_5', 'depenses_ht_poste_5_3_1_item_6', 'depenses_ht_poste_5_3_1_item_7', 'depenses_ht_poste_5_3_1_item_8', 'depenses_ht_poste_5_3_1_item_9', 'depenses_ht_poste_5_3_2_item_1', 'depenses_ht_poste_5_3_2_item_2', 'depenses_ht_poste_5_4_1', 'depenses_ht_poste_5_5_1_item_1', 'depenses_ht_poste_5_5_1_item_2', 'depenses_ht_poste_5_6_2_1_1', 'depenses_ht_poste_7_1_1_item_1', 'depenses_ht_poste_7_1_1_item_2', 'depenses_ht_poste_7_1_2', 'depenses_ht_poste_7_2_3_item_1', 'depenses_ht_poste_7_2_3_item_2', 'depenses_ht_poste_7_3_2_item_1', 'depenses_ht_poste_7_3_2_item_2', 'depenses_ht_poste_8_1_1_1_1', 'depenses_ht_poste_8_1_2_1_1_item_1', 'depenses_ht_poste_8_1_2_1_1_item_2', 'depenses_ht_poste_8_1_2_2_1_item_1', 'depenses_ht_poste_8_1_2_2_1_item_2', 'depenses_ht_poste_9_1_1_1_1', 'depenses_ht_poste_9_1_1_1_2', 'depenses_ht_poste_9_1_1_1_3_item_1', 'depenses_ht_poste_9_1_1_1_3_item_2', 'depenses_ht_poste_9_1_2_1', 'depenses_ht_poste_9_1_5_1_1', 'depenses_ht_poste_9_2_1_1_3', 'depenses_ht_poste_9_3_1_1_1_item_1', 'depenses_ht_poste_9_3_1_1_1_item_2', 'depenses_ht_poste_9_3_2_1_1', 'depenses_ht_poste_9_3_3_1_1', 'depenses_ht_poste_9_3_4_1_2', 'depenses_ht_poste_9_4', 'depenses_ht_poste_9_4_1_1_item_1', 'depenses_ht_poste_9_4_1_1_item_2', 'depenses_ht_poste_9_4_2_3_1', 'depenses_ht_poste_9_6_1_item_1', 'depenses_ht_poste_9_6_1_item_2', 'depenses_ht_poste_9_1_3_1_1', 'depenses_ht_tva_exonere', 'depenses_ht_tva_taux_normal', 'depenses_ht_tva_taux_reduit', 'tva_taux_normal', 'tva_taux_reduit', 'tva'])"
      ]
     },
     "execution_count": 17,
     "metadata": {},
     "output_type": "execute_result"
    }
   ],
   "source": [
    "survey_scenario.tax_benefit_system.variables.keys()"
   ]
  }
 ],
 "metadata": {
  "kernelspec": {
   "display_name": "Python 3",
   "language": "python",
   "name": "python3"
  },
  "language_info": {
   "codemirror_mode": {
    "name": "ipython",
    "version": 3
   },
   "file_extension": ".py",
   "mimetype": "text/x-python",
   "name": "python",
   "nbconvert_exporter": "python",
   "pygments_lexer": "ipython3",
   "version": "3.7.3"
  },
  "papermill": {
   "duration": 6.23166,
   "end_time": "2020-03-21T16:47:00.453342",
   "environment_variables": {},
   "exception": null,
   "input_path": "notebooks/test.ipynb",
   "output_path": "notebooks/mali.ipynb",
   "parameters": {
    "country": "mali"
   },
   "start_time": "2020-03-21T16:46:54.221682",
   "version": "2.0.0"
  }
 },
 "nbformat": 4,
 "nbformat_minor": 4
}