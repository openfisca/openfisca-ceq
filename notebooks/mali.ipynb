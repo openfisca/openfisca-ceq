{
 "cells": [
  {
   "cell_type": "code",
   "execution_count": 1,
   "metadata": {
    "execution": {
     "iopub.execute_input": "2020-07-08T20:43:43.286735Z",
     "iopub.status.busy": "2020-07-08T20:43:43.285520Z",
     "iopub.status.idle": "2020-07-08T20:43:43.288846Z",
     "shell.execute_reply": "2020-07-08T20:43:43.288056Z"
    },
    "papermill": {
     "duration": 0.053871,
     "end_time": "2020-07-08T20:43:43.289040",
     "exception": false,
     "start_time": "2020-07-08T20:43:43.235169",
     "status": "completed"
    },
    "tags": []
   },
   "outputs": [],
   "source": [
    "# !pip install -U git+https://github.com/openfisca/openfisca-ceq.git@master#egg=OpenFisca-CEQ\n",
    "# !pip install -U git+https://github.com/openfisca/openfisca-senegal.git@ceq#egg=OpenFisca-Senegal\n",
    "# !pip install -U git+https://github.com/openfisca/openfisca-mali.git@master#egg=OpenFisca-Mali\n",
    "# !pip install -U git+https://github.com/openfisca/openfisca-cote-d-ivoire.git@master#egg=OpenFisca-COTE-D-IVOIRE"
   ]
  },
  {
   "cell_type": "code",
   "execution_count": 2,
   "metadata": {
    "execution": {
     "iopub.execute_input": "2020-07-08T20:43:43.369571Z",
     "iopub.status.busy": "2020-07-08T20:43:43.367472Z",
     "iopub.status.idle": "2020-07-08T20:43:44.256683Z",
     "shell.execute_reply": "2020-07-08T20:43:44.255666Z"
    },
    "papermill": {
     "duration": 0.92951,
     "end_time": "2020-07-08T20:43:44.256887",
     "exception": false,
     "start_time": "2020-07-08T20:43:43.327377",
     "status": "completed"
    },
    "tags": []
   },
   "outputs": [],
   "source": [
    "from matplotlib import pyplot as plt\n",
    "%matplotlib inline\n",
    "import pandas as pd\n",
    "from openfisca_ceq.tools.survey_scenario import build_ceq_survey_scenario\n",
    "from openfisca_ceq.tools.indirect_taxation.tax_benefit_system_indirect_taxation_completion import indirect_tax_by_country\n",
    "from openfisca_ceq.tools.data import year_by_country\n",
    "from openfisca_ceq.tools.data_ceq_correspondence import (\n",
    "    ceq_input_by_harmonized_variable,\n",
    "    ceq_intermediate_by_harmonized_variable,\n",
    "    non_ceq_input_by_harmonized_variable,\n",
    "    )"
   ]
  },
  {
   "cell_type": "markdown",
   "metadata": {
    "papermill": {
     "duration": 0.029012,
     "end_time": "2020-07-08T20:43:44.322068",
     "exception": false,
     "start_time": "2020-07-08T20:43:44.293056",
     "status": "completed"
    },
    "tags": []
   },
   "source": [
    "# Build country scenario"
   ]
  },
  {
   "cell_type": "markdown",
   "metadata": {
    "papermill": {
     "duration": 0.02809,
     "end_time": "2020-07-08T20:43:44.379453",
     "exception": false,
     "start_time": "2020-07-08T20:43:44.351363",
     "status": "completed"
    },
    "tags": []
   },
   "source": [
    "## Country selection"
   ]
  },
  {
   "cell_type": "code",
   "execution_count": 3,
   "metadata": {
    "execution": {
     "iopub.execute_input": "2020-07-08T20:43:44.444762Z",
     "iopub.status.busy": "2020-07-08T20:43:44.444139Z",
     "iopub.status.idle": "2020-07-08T20:43:44.448035Z",
     "shell.execute_reply": "2020-07-08T20:43:44.448804Z"
    },
    "papermill": {
     "duration": 0.040523,
     "end_time": "2020-07-08T20:43:44.449011",
     "exception": false,
     "start_time": "2020-07-08T20:43:44.408488",
     "status": "completed"
    },
    "tags": [
     "parameters"
    ]
   },
   "outputs": [],
   "source": [
    "country = \"mali\""
   ]
  },
  {
   "cell_type": "code",
   "execution_count": 4,
   "metadata": {
    "execution": {
     "iopub.execute_input": "2020-07-08T20:43:44.518156Z",
     "iopub.status.busy": "2020-07-08T20:43:44.517403Z",
     "iopub.status.idle": "2020-07-08T20:43:44.519954Z",
     "shell.execute_reply": "2020-07-08T20:43:44.520479Z"
    },
    "papermill": {
     "duration": 0.039422,
     "end_time": "2020-07-08T20:43:44.520646",
     "exception": false,
     "start_time": "2020-07-08T20:43:44.481224",
     "status": "completed"
    },
    "tags": [
     "injected-parameters"
    ]
   },
   "outputs": [],
   "source": [
    "# Parameters\n",
    "country = \"mali\"\n"
   ]
  },
  {
   "cell_type": "code",
   "execution_count": 5,
   "metadata": {
    "execution": {
     "iopub.execute_input": "2020-07-08T20:43:44.600009Z",
     "iopub.status.busy": "2020-07-08T20:43:44.598416Z",
     "iopub.status.idle": "2020-07-08T20:43:48.601358Z",
     "shell.execute_reply": "2020-07-08T20:43:48.600894Z"
    },
    "papermill": {
     "duration": 4.035574,
     "end_time": "2020-07-08T20:43:48.601445",
     "exception": false,
     "start_time": "2020-07-08T20:43:44.565871",
     "status": "completed"
    },
    "tags": []
   },
   "outputs": [],
   "source": [
    "year = year_by_country[country]\n",
    "survey_scenario = build_ceq_survey_scenario(legislation_country = country, year = year)"
   ]
  },
  {
   "cell_type": "markdown",
   "metadata": {
    "papermill": {
     "duration": 0.027127,
     "end_time": "2020-07-08T20:43:48.658794",
     "exception": false,
     "start_time": "2020-07-08T20:43:48.631667",
     "status": "completed"
    },
    "tags": []
   },
   "source": [
    "# Aggegates check"
   ]
  },
  {
   "cell_type": "markdown",
   "metadata": {
    "papermill": {
     "duration": 0.030404,
     "end_time": "2020-07-08T20:43:48.718345",
     "exception": false,
     "start_time": "2020-07-08T20:43:48.687941",
     "status": "completed"
    },
    "tags": []
   },
   "source": [
    "## Income variables"
   ]
  },
  {
   "cell_type": "markdown",
   "metadata": {
    "papermill": {
     "duration": 0.030778,
     "end_time": "2020-07-08T20:43:48.780482",
     "exception": false,
     "start_time": "2020-07-08T20:43:48.749704",
     "status": "completed"
    },
    "tags": []
   },
   "source": [
    "### Disagregated income variables"
   ]
  },
  {
   "cell_type": "code",
   "execution_count": 6,
   "metadata": {
    "execution": {
     "iopub.execute_input": "2020-07-08T20:43:48.857174Z",
     "iopub.status.busy": "2020-07-08T20:43:48.856558Z",
     "iopub.status.idle": "2020-07-08T20:43:48.860308Z",
     "shell.execute_reply": "2020-07-08T20:43:48.859893Z"
    },
    "papermill": {
     "duration": 0.039534,
     "end_time": "2020-07-08T20:43:48.860399",
     "exception": false,
     "start_time": "2020-07-08T20:43:48.820865",
     "status": "completed"
    },
    "tags": []
   },
   "outputs": [
    {
     "data": {
      "text/plain": [
       "{'rev_i_autoconsommation': 'autoconsumption',\n",
       " 'rev_i_autres': 'other_income',\n",
       " 'rev_i_autres_transferts': 'gifts_sales_durables',\n",
       " 'rev_i_loyers_imputes': 'imputed_rent',\n",
       " 'rev_i_transferts_publics': 'direct_transfers',\n",
       " 'rev_i_agricoles': 'revenu_agricole',\n",
       " 'rev_i_autres_revenus_capital': 'autres_revenus_du_capital',\n",
       " 'rev_i_independants_Ntaxe': 'revenu_informel_non_salarie',\n",
       " 'rev_i_independants_taxe': 'revenu_non_salarie',\n",
       " 'rev_i_locatifs': 'revenu_locatif',\n",
       " 'rev_i_pensions': 'pension_retraite',\n",
       " 'rev_i_salaires_formels': 'salaire',\n",
       " 'rev_i_salaires_informels': 'revenu_informel_salarie',\n",
       " 'autres_revenus_du_capital_brut': 'autres_revenus_du_capital_brut',\n",
       " 'pension_retraite_brut': 'pension_retraite_brut',\n",
       " 'revenu_foncier_brut': 'revenu_foncier_brut',\n",
       " 'revenu_non_salarie_brut': 'revenu_non_salarie_brut',\n",
       " 'salaire_brut': 'salaire_brut',\n",
       " 'salaire_super_brut': 'salaire_super_brut'}"
      ]
     },
     "execution_count": 6,
     "metadata": {},
     "output_type": "execute_result"
    }
   ],
   "source": [
    "ceq_by_harmonized_variable = dict()\n",
    "ceq_by_harmonized_variable.update(ceq_input_by_harmonized_variable)\n",
    "ceq_by_harmonized_variable.update(ceq_intermediate_by_harmonized_variable)\n",
    "ceq_by_harmonized_variable.update(non_ceq_input_by_harmonized_variable)\n",
    "ceq_by_harmonized_variable['autres_revenus_du_capital_brut'] = 'autres_revenus_du_capital_brut'\n",
    "ceq_by_harmonized_variable['pension_retraite_brut'] = 'pension_retraite_brut'\n",
    "ceq_by_harmonized_variable['revenu_foncier_brut'] = 'revenu_foncier_brut'\n",
    "ceq_by_harmonized_variable['revenu_non_salarie_brut'] = 'revenu_non_salarie_brut' \n",
    "ceq_by_harmonized_variable['salaire_brut'] = 'salaire_brut'\n",
    "ceq_by_harmonized_variable['salaire_super_brut'] = 'salaire_super_brut'\n",
    "ceq_by_harmonized_variable"
   ]
  },
  {
   "cell_type": "code",
   "execution_count": 7,
   "metadata": {
    "execution": {
     "iopub.execute_input": "2020-07-08T20:43:48.929929Z",
     "iopub.status.busy": "2020-07-08T20:43:48.929163Z",
     "iopub.status.idle": "2020-07-08T20:43:49.081581Z",
     "shell.execute_reply": "2020-07-08T20:43:49.082172Z"
    },
    "papermill": {
     "duration": 0.188321,
     "end_time": "2020-07-08T20:43:49.082375",
     "exception": false,
     "start_time": "2020-07-08T20:43:48.894054",
     "status": "completed"
    },
    "tags": []
   },
   "outputs": [],
   "source": [
    "data = [\n",
    "    (harmonized_variable, openfisca_variable, survey_scenario.compute_aggregate(openfisca_variable, period = year) / 1e9) \n",
    "    for harmonized_variable, openfisca_variable in ceq_by_harmonized_variable.items()\n",
    "    ]"
   ]
  },
  {
   "cell_type": "code",
   "execution_count": 8,
   "metadata": {
    "execution": {
     "iopub.execute_input": "2020-07-08T20:43:49.180773Z",
     "iopub.status.busy": "2020-07-08T20:43:49.179990Z",
     "iopub.status.idle": "2020-07-08T20:43:49.191261Z",
     "shell.execute_reply": "2020-07-08T20:43:49.192248Z"
    },
    "papermill": {
     "duration": 0.06699,
     "end_time": "2020-07-08T20:43:49.192416",
     "exception": false,
     "start_time": "2020-07-08T20:43:49.125426",
     "status": "completed"
    },
    "tags": []
   },
   "outputs": [
    {
     "data": {
      "text/html": [
       "<div>\n",
       "<style scoped>\n",
       "    .dataframe tbody tr th:only-of-type {\n",
       "        vertical-align: middle;\n",
       "    }\n",
       "\n",
       "    .dataframe tbody tr th {\n",
       "        vertical-align: top;\n",
       "    }\n",
       "\n",
       "    .dataframe thead th {\n",
       "        text-align: right;\n",
       "    }\n",
       "</style>\n",
       "<table border=\"1\" class=\"dataframe\">\n",
       "  <thead>\n",
       "    <tr style=\"text-align: right;\">\n",
       "      <th></th>\n",
       "      <th>harmonized</th>\n",
       "      <th>openfisca</th>\n",
       "      <th>aggregate</th>\n",
       "    </tr>\n",
       "  </thead>\n",
       "  <tbody>\n",
       "    <tr>\n",
       "      <th>0</th>\n",
       "      <td>rev_i_autoconsommation</td>\n",
       "      <td>autoconsumption</td>\n",
       "      <td>258</td>\n",
       "    </tr>\n",
       "    <tr>\n",
       "      <th>1</th>\n",
       "      <td>rev_i_autres</td>\n",
       "      <td>other_income</td>\n",
       "      <td>282</td>\n",
       "    </tr>\n",
       "    <tr>\n",
       "      <th>2</th>\n",
       "      <td>rev_i_autres_transferts</td>\n",
       "      <td>gifts_sales_durables</td>\n",
       "      <td>71</td>\n",
       "    </tr>\n",
       "    <tr>\n",
       "      <th>3</th>\n",
       "      <td>rev_i_loyers_imputes</td>\n",
       "      <td>imputed_rent</td>\n",
       "      <td>148</td>\n",
       "    </tr>\n",
       "    <tr>\n",
       "      <th>4</th>\n",
       "      <td>rev_i_transferts_publics</td>\n",
       "      <td>direct_transfers</td>\n",
       "      <td>0</td>\n",
       "    </tr>\n",
       "    <tr>\n",
       "      <th>5</th>\n",
       "      <td>rev_i_agricoles</td>\n",
       "      <td>revenu_agricole</td>\n",
       "      <td>606</td>\n",
       "    </tr>\n",
       "    <tr>\n",
       "      <th>6</th>\n",
       "      <td>rev_i_autres_revenus_capital</td>\n",
       "      <td>autres_revenus_du_capital</td>\n",
       "      <td>0</td>\n",
       "    </tr>\n",
       "    <tr>\n",
       "      <th>7</th>\n",
       "      <td>rev_i_independants_Ntaxe</td>\n",
       "      <td>revenu_informel_non_salarie</td>\n",
       "      <td>465</td>\n",
       "    </tr>\n",
       "    <tr>\n",
       "      <th>8</th>\n",
       "      <td>rev_i_independants_taxe</td>\n",
       "      <td>revenu_non_salarie</td>\n",
       "      <td>45</td>\n",
       "    </tr>\n",
       "    <tr>\n",
       "      <th>9</th>\n",
       "      <td>rev_i_locatifs</td>\n",
       "      <td>revenu_locatif</td>\n",
       "      <td>0</td>\n",
       "    </tr>\n",
       "    <tr>\n",
       "      <th>10</th>\n",
       "      <td>rev_i_pensions</td>\n",
       "      <td>pension_retraite</td>\n",
       "      <td>0</td>\n",
       "    </tr>\n",
       "    <tr>\n",
       "      <th>11</th>\n",
       "      <td>rev_i_salaires_formels</td>\n",
       "      <td>salaire</td>\n",
       "      <td>68</td>\n",
       "    </tr>\n",
       "    <tr>\n",
       "      <th>12</th>\n",
       "      <td>rev_i_salaires_informels</td>\n",
       "      <td>revenu_informel_salarie</td>\n",
       "      <td>189</td>\n",
       "    </tr>\n",
       "    <tr>\n",
       "      <th>13</th>\n",
       "      <td>autres_revenus_du_capital_brut</td>\n",
       "      <td>autres_revenus_du_capital_brut</td>\n",
       "      <td>0</td>\n",
       "    </tr>\n",
       "    <tr>\n",
       "      <th>14</th>\n",
       "      <td>pension_retraite_brut</td>\n",
       "      <td>pension_retraite_brut</td>\n",
       "      <td>0</td>\n",
       "    </tr>\n",
       "    <tr>\n",
       "      <th>15</th>\n",
       "      <td>revenu_foncier_brut</td>\n",
       "      <td>revenu_foncier_brut</td>\n",
       "      <td>0</td>\n",
       "    </tr>\n",
       "    <tr>\n",
       "      <th>16</th>\n",
       "      <td>revenu_non_salarie_brut</td>\n",
       "      <td>revenu_non_salarie_brut</td>\n",
       "      <td>45</td>\n",
       "    </tr>\n",
       "    <tr>\n",
       "      <th>17</th>\n",
       "      <td>salaire_brut</td>\n",
       "      <td>salaire_brut</td>\n",
       "      <td>81</td>\n",
       "    </tr>\n",
       "    <tr>\n",
       "      <th>18</th>\n",
       "      <td>salaire_super_brut</td>\n",
       "      <td>salaire_super_brut</td>\n",
       "      <td>96</td>\n",
       "    </tr>\n",
       "  </tbody>\n",
       "</table>\n",
       "</div>"
      ],
      "text/plain": [
       "                        harmonized                       openfisca  aggregate\n",
       "0           rev_i_autoconsommation                 autoconsumption        258\n",
       "1                     rev_i_autres                    other_income        282\n",
       "2          rev_i_autres_transferts            gifts_sales_durables         71\n",
       "3             rev_i_loyers_imputes                    imputed_rent        148\n",
       "4         rev_i_transferts_publics                direct_transfers          0\n",
       "5                  rev_i_agricoles                 revenu_agricole        606\n",
       "6     rev_i_autres_revenus_capital       autres_revenus_du_capital          0\n",
       "7         rev_i_independants_Ntaxe     revenu_informel_non_salarie        465\n",
       "8          rev_i_independants_taxe              revenu_non_salarie         45\n",
       "9                   rev_i_locatifs                  revenu_locatif          0\n",
       "10                  rev_i_pensions                pension_retraite          0\n",
       "11          rev_i_salaires_formels                         salaire         68\n",
       "12        rev_i_salaires_informels         revenu_informel_salarie        189\n",
       "13  autres_revenus_du_capital_brut  autres_revenus_du_capital_brut          0\n",
       "14           pension_retraite_brut           pension_retraite_brut          0\n",
       "15             revenu_foncier_brut             revenu_foncier_brut          0\n",
       "16         revenu_non_salarie_brut         revenu_non_salarie_brut         45\n",
       "17                    salaire_brut                    salaire_brut         81\n",
       "18              salaire_super_brut              salaire_super_brut         96"
      ]
     },
     "execution_count": 8,
     "metadata": {},
     "output_type": "execute_result"
    }
   ],
   "source": [
    "revenus = pd.DataFrame(data, columns = [\"harmonized\", \"openfisca\", \"aggregate\"])\n",
    "revenus.round(0).astype({\"aggregate\": int})"
   ]
  },
  {
   "cell_type": "markdown",
   "metadata": {
    "papermill": {
     "duration": 0.028813,
     "end_time": "2020-07-08T20:43:49.251410",
     "exception": false,
     "start_time": "2020-07-08T20:43:49.222597",
     "status": "completed"
    },
    "tags": []
   },
   "source": [
    "### Agregated income variables"
   ]
  },
  {
   "cell_type": "markdown",
   "metadata": {
    "papermill": {
     "duration": 0.036093,
     "end_time": "2020-07-08T20:43:49.323504",
     "exception": false,
     "start_time": "2020-07-08T20:43:49.287411",
     "status": "completed"
    },
    "tags": []
   },
   "source": [
    "#### CEQ agregated income variables"
   ]
  },
  {
   "cell_type": "code",
   "execution_count": 9,
   "metadata": {
    "execution": {
     "iopub.execute_input": "2020-07-08T20:43:49.395773Z",
     "iopub.status.busy": "2020-07-08T20:43:49.395151Z",
     "iopub.status.idle": "2020-07-08T20:43:49.397518Z",
     "shell.execute_reply": "2020-07-08T20:43:49.397896Z"
    },
    "papermill": {
     "duration": 0.034795,
     "end_time": "2020-07-08T20:43:49.398019",
     "exception": false,
     "start_time": "2020-07-08T20:43:49.363224",
     "status": "completed"
    },
    "tags": []
   },
   "outputs": [],
   "source": [
    "ceq_variables = [\"market_income\", \"market_income_plus_pensions\", \"pensions\", \"contributions_pensions\", \"net_market_income\", \"direct_taxes\", \"other_contributions\", \"contributions_health\", ]"
   ]
  },
  {
   "cell_type": "code",
   "execution_count": 10,
   "metadata": {
    "execution": {
     "iopub.execute_input": "2020-07-08T20:43:49.466253Z",
     "iopub.status.busy": "2020-07-08T20:43:49.465552Z",
     "iopub.status.idle": "2020-07-08T20:43:49.497745Z",
     "shell.execute_reply": "2020-07-08T20:43:49.498170Z"
    },
    "papermill": {
     "duration": 0.06884,
     "end_time": "2020-07-08T20:43:49.498303",
     "exception": false,
     "start_time": "2020-07-08T20:43:49.429463",
     "status": "completed"
    },
    "tags": []
   },
   "outputs": [
    {
     "data": {
      "text/html": [
       "<div>\n",
       "<style scoped>\n",
       "    .dataframe tbody tr th:only-of-type {\n",
       "        vertical-align: middle;\n",
       "    }\n",
       "\n",
       "    .dataframe tbody tr th {\n",
       "        vertical-align: top;\n",
       "    }\n",
       "\n",
       "    .dataframe thead th {\n",
       "        text-align: right;\n",
       "    }\n",
       "</style>\n",
       "<table border=\"1\" class=\"dataframe\">\n",
       "  <thead>\n",
       "    <tr style=\"text-align: right;\">\n",
       "      <th></th>\n",
       "      <th>aggregate</th>\n",
       "    </tr>\n",
       "  </thead>\n",
       "  <tbody>\n",
       "    <tr>\n",
       "      <th>market_income</th>\n",
       "      <td>2160</td>\n",
       "    </tr>\n",
       "    <tr>\n",
       "      <th>market_income_plus_pensions</th>\n",
       "      <td>2152</td>\n",
       "    </tr>\n",
       "    <tr>\n",
       "      <th>pensions</th>\n",
       "      <td>0</td>\n",
       "    </tr>\n",
       "    <tr>\n",
       "      <th>contributions_pensions</th>\n",
       "      <td>7</td>\n",
       "    </tr>\n",
       "    <tr>\n",
       "      <th>net_market_income</th>\n",
       "      <td>2142</td>\n",
       "    </tr>\n",
       "    <tr>\n",
       "      <th>direct_taxes</th>\n",
       "      <td>7</td>\n",
       "    </tr>\n",
       "    <tr>\n",
       "      <th>other_contributions</th>\n",
       "      <td>7</td>\n",
       "    </tr>\n",
       "    <tr>\n",
       "      <th>contributions_health</th>\n",
       "      <td>3</td>\n",
       "    </tr>\n",
       "  </tbody>\n",
       "</table>\n",
       "</div>"
      ],
      "text/plain": [
       "                             aggregate\n",
       "market_income                     2160\n",
       "market_income_plus_pensions       2152\n",
       "pensions                             0\n",
       "contributions_pensions               7\n",
       "net_market_income                 2142\n",
       "direct_taxes                         7\n",
       "other_contributions                  7\n",
       "contributions_health                 3"
      ]
     },
     "execution_count": 10,
     "metadata": {},
     "output_type": "execute_result"
    }
   ],
   "source": [
    "ceq_aggregates = pd.DataFrame(\n",
    "    index = ceq_variables,\n",
    "    columns = ['aggregate'],\n",
    "    data = [\n",
    "        survey_scenario.compute_aggregate(ceq_variable, period = year) / 1e9 \n",
    "        for ceq_variable in ceq_variables\n",
    "        ]\n",
    "    )\n",
    "ceq_aggregates.round(0).astype({\"aggregate\": int})"
   ]
  },
  {
   "cell_type": "markdown",
   "metadata": {
    "papermill": {
     "duration": 0.045664,
     "end_time": "2020-07-08T20:43:49.589513",
     "exception": false,
     "start_time": "2020-07-08T20:43:49.543849",
     "status": "completed"
    },
    "tags": []
   },
   "source": [
    "#### Direct check"
   ]
  },
  {
   "cell_type": "code",
   "execution_count": 11,
   "metadata": {
    "execution": {
     "iopub.execute_input": "2020-07-08T20:43:49.672546Z",
     "iopub.status.busy": "2020-07-08T20:43:49.671388Z",
     "iopub.status.idle": "2020-07-08T20:43:49.676653Z",
     "shell.execute_reply": "2020-07-08T20:43:49.677049Z"
    },
    "papermill": {
     "duration": 0.053296,
     "end_time": "2020-07-08T20:43:49.677178",
     "exception": false,
     "start_time": "2020-07-08T20:43:49.623882",
     "status": "completed"
    },
    "tags": []
   },
   "outputs": [],
   "source": [
    "income_components_summed_in_total = list(ceq_by_harmonized_variable.values()) \n",
    "# income_components_summed_in_total.remove(\"revenu_non_salarie_total\")\n",
    "income_components_summed_in_total.remove(\"direct_transfers\")\n",
    "income_components_summed_in_total.remove(\"salaire\")\n",
    "income_components_summed_in_total.remove(\"salaire_brut\")\n",
    "income_components_summed_in_total.remove(\"pension_retraite\")\n",
    "income_components_summed_in_total.remove('autres_revenus_du_capital')\n",
    "income_components_summed_in_total.remove('revenu_locatif')\n",
    "income_components_summed_in_total.remove('revenu_non_salarie') \n",
    "\n",
    "total_income = sum(\n",
    "    survey_scenario.compute_aggregate(income_component, period = survey_scenario.year) \n",
    "    for income_component in income_components_summed_in_total\n",
    "    ) \n",
    "total_income = (\n",
    "    total_income \n",
    "    - survey_scenario.compute_aggregate(\"contributions_pensions\", period = survey_scenario.year)\n",
    "    ) / 1e9\n"
   ]
  },
  {
   "cell_type": "code",
   "execution_count": 12,
   "metadata": {
    "execution": {
     "iopub.execute_input": "2020-07-08T20:43:49.758024Z",
     "iopub.status.busy": "2020-07-08T20:43:49.756976Z",
     "iopub.status.idle": "2020-07-08T20:43:49.759681Z",
     "shell.execute_reply": "2020-07-08T20:43:49.759178Z"
    },
    "papermill": {
     "duration": 0.043557,
     "end_time": "2020-07-08T20:43:49.759778",
     "exception": false,
     "start_time": "2020-07-08T20:43:49.716221",
     "status": "completed"
    },
    "tags": []
   },
   "outputs": [],
   "source": [
    "from numpy.testing import assert_almost_equal\n",
    "assert_almost_equal(ceq_aggregates.loc['market_income_plus_pensions'].values, total_income, decimal = 5) \n",
    "# print('market_income_plus_pensions = {} vs {} = total_income'.format(\n",
    "#         ceq_aggregates.loc['market_income_plus_pensions'].values,\n",
    "#         total_income\n",
    "#         )\n",
    "#     )\n"
   ]
  },
  {
   "cell_type": "markdown",
   "metadata": {
    "papermill": {
     "duration": 0.038261,
     "end_time": "2020-07-08T20:43:49.838523",
     "exception": false,
     "start_time": "2020-07-08T20:43:49.800262",
     "status": "completed"
    },
    "tags": []
   },
   "source": [
    "#### Wages by public/private sector"
   ]
  },
  {
   "cell_type": "code",
   "execution_count": 13,
   "metadata": {
    "execution": {
     "iopub.execute_input": "2020-07-08T20:43:49.910940Z",
     "iopub.status.busy": "2020-07-08T20:43:49.909326Z",
     "iopub.status.idle": "2020-07-08T20:43:49.915120Z",
     "shell.execute_reply": "2020-07-08T20:43:49.915888Z"
    },
    "papermill": {
     "duration": 0.043285,
     "end_time": "2020-07-08T20:43:49.916101",
     "exception": false,
     "start_time": "2020-07-08T20:43:49.872816",
     "status": "completed"
    },
    "tags": []
   },
   "outputs": [
    {
     "data": {
      "text/plain": [
       "'Count : 77306.0'"
      ]
     },
     "execution_count": 13,
     "metadata": {},
     "output_type": "execute_result"
    }
   ],
   "source": [
    "\"Count : {}\".format(round(\n",
    "    survey_scenario.compute_aggregate(\"secteur_public\", period = year)\n",
    "    ))"
   ]
  },
  {
   "cell_type": "code",
   "execution_count": 14,
   "metadata": {
    "execution": {
     "iopub.execute_input": "2020-07-08T20:43:49.996546Z",
     "iopub.status.busy": "2020-07-08T20:43:49.995957Z",
     "iopub.status.idle": "2020-07-08T20:43:50.069180Z",
     "shell.execute_reply": "2020-07-08T20:43:50.070001Z"
    },
    "papermill": {
     "duration": 0.115991,
     "end_time": "2020-07-08T20:43:50.070217",
     "exception": false,
     "start_time": "2020-07-08T20:43:49.954226",
     "status": "completed"
    },
    "tags": []
   },
   "outputs": [
    {
     "data": {
      "text/html": [
       "<div>\n",
       "<style scoped>\n",
       "    .dataframe tbody tr th:only-of-type {\n",
       "        vertical-align: middle;\n",
       "    }\n",
       "\n",
       "    .dataframe tbody tr th {\n",
       "        vertical-align: top;\n",
       "    }\n",
       "\n",
       "    .dataframe thead th {\n",
       "        text-align: right;\n",
       "    }\n",
       "</style>\n",
       "<table border=\"1\" class=\"dataframe\">\n",
       "  <thead>\n",
       "    <tr style=\"text-align: right;\">\n",
       "      <th>secteur_public</th>\n",
       "      <th>False</th>\n",
       "      <th>True</th>\n",
       "    </tr>\n",
       "  </thead>\n",
       "  <tbody>\n",
       "    <tr>\n",
       "      <th>salaire</th>\n",
       "      <td>40</td>\n",
       "      <td>28</td>\n",
       "    </tr>\n",
       "    <tr>\n",
       "      <th>salaire_brut</th>\n",
       "      <td>48</td>\n",
       "      <td>33</td>\n",
       "    </tr>\n",
       "    <tr>\n",
       "      <th>salaire_super_brut</th>\n",
       "      <td>57</td>\n",
       "      <td>39</td>\n",
       "    </tr>\n",
       "  </tbody>\n",
       "</table>\n",
       "</div>"
      ],
      "text/plain": [
       "secteur_public      False  True \n",
       "salaire                40     28\n",
       "salaire_brut           48     33\n",
       "salaire_super_brut     57     39"
      ]
     },
     "execution_count": 14,
     "metadata": {},
     "output_type": "execute_result"
    }
   ],
   "source": [
    "(\n",
    "    survey_scenario.compute_pivot_table(\n",
    "        columns = [\"secteur_public\"], \n",
    "        values = [\"salaire\", \"salaire_brut\", \"salaire_super_brut\"],\n",
    "        aggfunc = \"sum\",\n",
    "        period = year,\n",
    "        concat_axis = 0,\n",
    "        ) / 1e9\n",
    "    ).round(0).astype(int)"
   ]
  },
  {
   "cell_type": "markdown",
   "metadata": {
    "papermill": {
     "duration": 0.03131,
     "end_time": "2020-07-08T20:43:50.137338",
     "exception": false,
     "start_time": "2020-07-08T20:43:50.106028",
     "status": "completed"
    },
    "tags": []
   },
   "source": [
    "## Education variables"
   ]
  },
  {
   "cell_type": "markdown",
   "metadata": {
    "papermill": {
     "duration": 0.03219,
     "end_time": "2020-07-08T20:43:50.203001",
     "exception": false,
     "start_time": "2020-07-08T20:43:50.170811",
     "status": "completed"
    },
    "tags": []
   },
   "source": [
    "### Counts (in millions)"
   ]
  },
  {
   "cell_type": "code",
   "execution_count": 15,
   "metadata": {
    "execution": {
     "iopub.execute_input": "2020-07-08T20:43:50.275160Z",
     "iopub.status.busy": "2020-07-08T20:43:50.273046Z",
     "iopub.status.idle": "2020-07-08T20:43:50.300427Z",
     "shell.execute_reply": "2020-07-08T20:43:50.299570Z"
    },
    "papermill": {
     "duration": 0.066521,
     "end_time": "2020-07-08T20:43:50.300613",
     "exception": false,
     "start_time": "2020-07-08T20:43:50.234092",
     "status": "completed"
    },
    "tags": []
   },
   "outputs": [
    {
     "name": "stdout",
     "output_type": "stream",
     "text": [
      "eleve_enseignement_niveau  -1.0   0.0   1.0   2.0   3.0\n",
      "eleve_enseignement_public                              \n",
      "1.0                        12.4  0.11  1.77  1.27  0.12\n"
     ]
    }
   ],
   "source": [
    "print((survey_scenario.compute_pivot_table(columns = ['eleve_enseignement_niveau'], index = ['eleve_enseignement_public'], aggfunc = 'count', period = survey_scenario.year) / 1e6).round(2))"
   ]
  },
  {
   "cell_type": "code",
   "execution_count": 16,
   "metadata": {
    "execution": {
     "iopub.execute_input": "2020-07-08T20:43:50.379680Z",
     "iopub.status.busy": "2020-07-08T20:43:50.378087Z",
     "iopub.status.idle": "2020-07-08T20:43:50.395925Z",
     "shell.execute_reply": "2020-07-08T20:43:50.395209Z"
    },
    "papermill": {
     "duration": 0.060376,
     "end_time": "2020-07-08T20:43:50.396056",
     "exception": false,
     "start_time": "2020-07-08T20:43:50.335680",
     "status": "completed"
    },
    "tags": []
   },
   "outputs": [
    {
     "name": "stdout",
     "output_type": "stream",
     "text": [
      "In kind education tranfers\n",
      "pre_school_person: 0 billions FCFA\n",
      "pre_school: 0 billions FCFA\n",
      "primary_education_person: 116 billions FCFA\n",
      "primary_education: 116 billions FCFA\n",
      "secondary_education_person: 155 billions FCFA\n",
      "secondary_education: 155 billions FCFA\n",
      "tertiary_education_person: 14 billions FCFA\n",
      "tertiary_education: 14 billions FCFA\n",
      "education_net_transfers: 284 billions FCFA\n"
     ]
    }
   ],
   "source": [
    "variables = [\n",
    "    'pre_school_person',\n",
    "    'pre_school',\n",
    "    'primary_education_person',\n",
    "    'primary_education',\n",
    "    'secondary_education_person',\n",
    "    'secondary_education',\n",
    "    'tertiary_education_person',\n",
    "    'tertiary_education',\n",
    "    'education_net_transfers',\n",
    "    ]\n",
    "print(\"In kind education tranfers\")\n",
    "for variable in variables:\n",
    "    print(\n",
    "        \"{variable}: {aggregate} billions FCFA\".format(\n",
    "            variable = variable,\n",
    "            aggregate = int(round(survey_scenario.compute_aggregate(variable, period = survey_scenario.year) / 1e9))\n",
    "            )\n",
    "        )"
   ]
  },
  {
   "cell_type": "markdown",
   "metadata": {
    "papermill": {
     "duration": 0.034379,
     "end_time": "2020-07-08T20:43:50.462486",
     "exception": false,
     "start_time": "2020-07-08T20:43:50.428107",
     "status": "completed"
    },
    "tags": []
   },
   "source": [
    "## Inflating income and consumption"
   ]
  },
  {
   "cell_type": "code",
   "execution_count": 17,
   "metadata": {
    "execution": {
     "iopub.execute_input": "2020-07-08T20:43:50.538981Z",
     "iopub.status.busy": "2020-07-08T20:43:50.537789Z",
     "iopub.status.idle": "2020-07-08T20:43:54.872639Z",
     "shell.execute_reply": "2020-07-08T20:43:54.873175Z"
    },
    "papermill": {
     "duration": 4.377551,
     "end_time": "2020-07-08T20:43:54.873329",
     "exception": false,
     "start_time": "2020-07-08T20:43:50.495778",
     "status": "completed"
    },
    "tags": []
   },
   "outputs": [],
   "source": [
    "inflated_survey_scenario = build_ceq_survey_scenario(\n",
    "    legislation_country = country, \n",
    "    year = year,\n",
    "    inflate = True,\n",
    "    )"
   ]
  },
  {
   "cell_type": "code",
   "execution_count": 18,
   "metadata": {
    "execution": {
     "iopub.execute_input": "2020-07-08T20:43:54.970259Z",
     "iopub.status.busy": "2020-07-08T20:43:54.969753Z",
     "iopub.status.idle": "2020-07-08T20:43:54.973950Z",
     "shell.execute_reply": "2020-07-08T20:43:54.974306Z"
    },
    "papermill": {
     "duration": 0.052633,
     "end_time": "2020-07-08T20:43:54.974567",
     "exception": false,
     "start_time": "2020-07-08T20:43:54.921934",
     "status": "completed"
    },
    "tags": []
   },
   "outputs": [
    {
     "name": "stderr",
     "output_type": "stream",
     "text": [
      "ERROR:root:No traceback has been produced, nothing to debug.\n"
     ]
    }
   ],
   "source": [
    "%debug"
   ]
  },
  {
   "cell_type": "code",
   "execution_count": 19,
   "metadata": {
    "execution": {
     "iopub.execute_input": "2020-07-08T20:43:55.053384Z",
     "iopub.status.busy": "2020-07-08T20:43:55.052316Z",
     "iopub.status.idle": "2020-07-08T20:43:55.116369Z",
     "shell.execute_reply": "2020-07-08T20:43:55.117253Z"
    },
    "papermill": {
     "duration": 0.106395,
     "end_time": "2020-07-08T20:43:55.117510",
     "exception": false,
     "start_time": "2020-07-08T20:43:55.011115",
     "status": "completed"
    },
    "tags": []
   },
   "outputs": [
    {
     "data": {
      "text/plain": [
       "'5630.075 == 5630.074895680164'"
      ]
     },
     "metadata": {},
     "output_type": "display_data"
    }
   ],
   "source": [
    "from openfisca_ceq.tools.data.income_targets import read_target\n",
    "gross_value_added = read_target(country, \"gross_value_added\") / 1e9\n",
    "gross_value_added_computed = sum(inflated_survey_scenario.compute_aggregate(income_variable, period = year) / 1e9\n",
    "    for income_variable in inflated_survey_scenario.income_variables\n",
    "    )\n",
    "display(\"{} == {}\".format(gross_value_added, gross_value_added_computed))"
   ]
  },
  {
   "cell_type": "markdown",
   "metadata": {
    "papermill": {
     "duration": 0.033786,
     "end_time": "2020-07-08T20:43:55.211256",
     "exception": false,
     "start_time": "2020-07-08T20:43:55.177470",
     "status": "completed"
    },
    "tags": []
   },
   "source": [
    "## Tax variables"
   ]
  },
  {
   "cell_type": "markdown",
   "metadata": {
    "papermill": {
     "duration": 0.03185,
     "end_time": "2020-07-08T20:43:55.274263",
     "exception": false,
     "start_time": "2020-07-08T20:43:55.242413",
     "status": "completed"
    },
    "tags": []
   },
   "source": [
    "### Direct taxes variables"
   ]
  },
  {
   "cell_type": "code",
   "execution_count": 20,
   "metadata": {
    "execution": {
     "iopub.execute_input": "2020-07-08T20:43:55.354943Z",
     "iopub.status.busy": "2020-07-08T20:43:55.353772Z",
     "iopub.status.idle": "2020-07-08T20:43:55.394398Z",
     "shell.execute_reply": "2020-07-08T20:43:55.393834Z"
    },
    "papermill": {
     "duration": 0.088413,
     "end_time": "2020-07-08T20:43:55.394513",
     "exception": false,
     "start_time": "2020-07-08T20:43:55.306100",
     "status": "completed"
    },
    "tags": []
   },
   "outputs": [
    {
     "data": {
      "text/html": [
       "<div>\n",
       "<style scoped>\n",
       "    .dataframe tbody tr th:only-of-type {\n",
       "        vertical-align: middle;\n",
       "    }\n",
       "\n",
       "    .dataframe tbody tr th {\n",
       "        vertical-align: top;\n",
       "    }\n",
       "\n",
       "    .dataframe thead th {\n",
       "        text-align: right;\n",
       "    }\n",
       "</style>\n",
       "<table border=\"1\" class=\"dataframe\">\n",
       "  <thead>\n",
       "    <tr style=\"text-align: right;\">\n",
       "      <th></th>\n",
       "      <th>aggregate</th>\n",
       "      <th>inflated_aggregate</th>\n",
       "    </tr>\n",
       "  </thead>\n",
       "  <tbody>\n",
       "    <tr>\n",
       "      <th>impot_traitement_salaire</th>\n",
       "      <td>7</td>\n",
       "      <td>38.0</td>\n",
       "    </tr>\n",
       "  </tbody>\n",
       "</table>\n",
       "</div>"
      ],
      "text/plain": [
       "                          aggregate  inflated_aggregate\n",
       "impot_traitement_salaire          7                38.0"
      ]
     },
     "execution_count": 20,
     "metadata": {},
     "output_type": "execute_result"
    }
   ],
   "source": [
    "from openfisca_ceq.tools.data.tax_targets import detailed_taxes_by_country, build_country_result\n",
    "direct_taxes_variables = detailed_taxes_by_country[country]\n",
    "\n",
    "direct_taxes = pd.concat(\n",
    "    [\n",
    "        pd.DataFrame(\n",
    "            index = direct_taxes_variables,\n",
    "            columns = ['aggregate'],\n",
    "            data = [\n",
    "                survey_scenario.compute_aggregate(variable, period = year) / 1e9 \n",
    "                for variable in direct_taxes_variables\n",
    "                ],\n",
    "            ),\n",
    "        pd.DataFrame(\n",
    "            index = direct_taxes_variables,\n",
    "            columns = ['inflated_aggregate'],\n",
    "            data = [\n",
    "                    inflated_survey_scenario.compute_aggregate(variable, period = year) / 1e9 \n",
    "                for variable in direct_taxes_variables\n",
    "                ],\n",
    "            )\n",
    "        ],\n",
    "    axis = 1\n",
    ")\n",
    "\n",
    "direct_taxes.round().astype({\"aggregate\": int})"
   ]
  },
  {
   "cell_type": "code",
   "execution_count": 21,
   "metadata": {
    "execution": {
     "iopub.execute_input": "2020-07-08T20:43:55.499993Z",
     "iopub.status.busy": "2020-07-08T20:43:55.499182Z",
     "iopub.status.idle": "2020-07-08T20:43:55.615831Z",
     "shell.execute_reply": "2020-07-08T20:43:55.616742Z"
    },
    "papermill": {
     "duration": 0.172139,
     "end_time": "2020-07-08T20:43:55.616985",
     "exception": false,
     "start_time": "2020-07-08T20:43:55.444846",
     "status": "completed"
    },
    "tags": []
   },
   "outputs": [
    {
     "data": {
      "text/html": [
       "<div>\n",
       "<style scoped>\n",
       "    .dataframe tbody tr th:only-of-type {\n",
       "        vertical-align: middle;\n",
       "    }\n",
       "\n",
       "    .dataframe tbody tr th {\n",
       "        vertical-align: top;\n",
       "    }\n",
       "\n",
       "    .dataframe thead tr th {\n",
       "        text-align: left;\n",
       "    }\n",
       "</style>\n",
       "<table border=\"1\" class=\"dataframe\">\n",
       "  <thead>\n",
       "    <tr>\n",
       "      <th></th>\n",
       "      <th colspan=\"3\" halign=\"left\">Mali</th>\n",
       "    </tr>\n",
       "    <tr>\n",
       "      <th></th>\n",
       "      <th>actual</th>\n",
       "      <th>direct</th>\n",
       "      <th>inflated</th>\n",
       "    </tr>\n",
       "  </thead>\n",
       "  <tbody>\n",
       "    <tr>\n",
       "      <th>Total tax revenue</th>\n",
       "      <td>873.9</td>\n",
       "      <td>NaN</td>\n",
       "      <td>NaN</td>\n",
       "    </tr>\n",
       "    <tr>\n",
       "      <th>Direct taxes</th>\n",
       "      <td>307.5</td>\n",
       "      <td>7.4</td>\n",
       "      <td>37.7</td>\n",
       "    </tr>\n",
       "    <tr>\n",
       "      <th>Personal Income Taxes</th>\n",
       "      <td>57.6</td>\n",
       "      <td>7.4</td>\n",
       "      <td>37.7</td>\n",
       "    </tr>\n",
       "    <tr>\n",
       "      <th>Social Security Contributions</th>\n",
       "      <td>86.7</td>\n",
       "      <td>NaN</td>\n",
       "      <td>NaN</td>\n",
       "    </tr>\n",
       "    <tr>\n",
       "      <th>Corporate Income Tax</th>\n",
       "      <td>113.3</td>\n",
       "      <td>0.0</td>\n",
       "      <td>0.0</td>\n",
       "    </tr>\n",
       "    <tr>\n",
       "      <th>Other Direct Taxes</th>\n",
       "      <td>49.9</td>\n",
       "      <td>NaN</td>\n",
       "      <td>NaN</td>\n",
       "    </tr>\n",
       "    <tr>\n",
       "      <th>Indirect taxes</th>\n",
       "      <td>566.4</td>\n",
       "      <td>267.3</td>\n",
       "      <td>413.5</td>\n",
       "    </tr>\n",
       "    <tr>\n",
       "      <th>VAT</th>\n",
       "      <td>282.2</td>\n",
       "      <td>235.4</td>\n",
       "      <td>364.1</td>\n",
       "    </tr>\n",
       "    <tr>\n",
       "      <th>Import Taxes</th>\n",
       "      <td>112.1</td>\n",
       "      <td>31.9</td>\n",
       "      <td>49.3</td>\n",
       "    </tr>\n",
       "    <tr>\n",
       "      <th>Excise taxes</th>\n",
       "      <td>16.1</td>\n",
       "      <td>0.0</td>\n",
       "      <td>0.0</td>\n",
       "    </tr>\n",
       "    <tr>\n",
       "      <th>on Oil Derivates</th>\n",
       "      <td>4.7</td>\n",
       "      <td>NaN</td>\n",
       "      <td>NaN</td>\n",
       "    </tr>\n",
       "    <tr>\n",
       "      <th>on alcohol, tabac and other non-oil derivatives</th>\n",
       "      <td>11.4</td>\n",
       "      <td>NaN</td>\n",
       "      <td>NaN</td>\n",
       "    </tr>\n",
       "    <tr>\n",
       "      <th>Other Indirect Taxes</th>\n",
       "      <td>156.0</td>\n",
       "      <td>NaN</td>\n",
       "      <td>NaN</td>\n",
       "    </tr>\n",
       "    <tr>\n",
       "      <th>Share simulated taxes (% of total tax revenue)</th>\n",
       "      <td>NaN</td>\n",
       "      <td>NaN</td>\n",
       "      <td>NaN</td>\n",
       "    </tr>\n",
       "    <tr>\n",
       "      <th>impot_traitement_salaire</th>\n",
       "      <td>NaN</td>\n",
       "      <td>7.4</td>\n",
       "      <td>37.7</td>\n",
       "    </tr>\n",
       "    <tr>\n",
       "      <th>total_ht_imports</th>\n",
       "      <td>NaN</td>\n",
       "      <td>418.6</td>\n",
       "      <td>647.4</td>\n",
       "    </tr>\n",
       "  </tbody>\n",
       "</table>\n",
       "</div>"
      ],
      "text/plain": [
       "                                                  Mali                \n",
       "                                                actual direct inflated\n",
       "Total tax revenue                                873.9    NaN      NaN\n",
       "Direct taxes                                     307.5    7.4     37.7\n",
       "Personal Income Taxes                             57.6    7.4     37.7\n",
       "Social Security Contributions                     86.7    NaN      NaN\n",
       "Corporate Income Tax                             113.3    0.0      0.0\n",
       "Other Direct Taxes                                49.9    NaN      NaN\n",
       "Indirect taxes                                   566.4  267.3    413.5\n",
       "VAT                                              282.2  235.4    364.1\n",
       "Import Taxes                                     112.1   31.9     49.3\n",
       "Excise taxes                                      16.1    0.0      0.0\n",
       "on Oil Derivates                                   4.7    NaN      NaN\n",
       "on alcohol, tabac and other non-oil derivatives   11.4    NaN      NaN\n",
       "Other Indirect Taxes                             156.0    NaN      NaN\n",
       "Share simulated taxes (% of total tax revenue)     NaN    NaN      NaN\n",
       "impot_traitement_salaire                           NaN    7.4     37.7\n",
       "total_ht_imports                                   NaN  418.6    647.4"
      ]
     },
     "execution_count": 21,
     "metadata": {},
     "output_type": "execute_result"
    }
   ],
   "source": [
    "build_country_result(survey_scenario, inflated_survey_scenario, add_country_details = True)"
   ]
  },
  {
   "cell_type": "markdown",
   "metadata": {
    "papermill": {
     "duration": 0.035943,
     "end_time": "2020-07-08T20:43:55.690159",
     "exception": false,
     "start_time": "2020-07-08T20:43:55.654216",
     "status": "completed"
    },
    "tags": []
   },
   "source": [
    "### Indirect tax variables"
   ]
  },
  {
   "cell_type": "code",
   "execution_count": 22,
   "metadata": {
    "execution": {
     "iopub.execute_input": "2020-07-08T20:43:55.770978Z",
     "iopub.status.busy": "2020-07-08T20:43:55.770409Z",
     "iopub.status.idle": "2020-07-08T20:43:55.774940Z",
     "shell.execute_reply": "2020-07-08T20:43:55.776007Z"
    },
    "papermill": {
     "duration": 0.050228,
     "end_time": "2020-07-08T20:43:55.776303",
     "exception": false,
     "start_time": "2020-07-08T20:43:55.726075",
     "status": "completed"
    },
    "tags": []
   },
   "outputs": [
    {
     "data": {
      "text/plain": [
       "['depenses_ht_tva_exonere',\n",
       " 'depenses_ht_tva_taux_normal',\n",
       " 'depenses_ht_tva_taux_reduit',\n",
       " 'tva_taux_normal',\n",
       " 'tva_taux_reduit',\n",
       " 'tva',\n",
       " 'depenses_ht_hd_sd_droits_douane_biens_specifiques',\n",
       " 'depenses_ht_hd_sd_droits_douane_consommation_finale',\n",
       " 'depenses_ht_hd_sd_droits_douane_consommation_intermediaire',\n",
       " 'depenses_ht_hd_sd_droits_douane_equipements',\n",
       " 'depenses_ht_hd_sd_droits_douane_exonere',\n",
       " 'droits_douane_biens_specifiques',\n",
       " 'droits_douane_consommation_finale',\n",
       " 'droits_douane_consommation_intermediaire',\n",
       " 'droits_douane_equipements',\n",
       " 'droits_douane']"
      ]
     },
     "execution_count": 22,
     "metadata": {},
     "output_type": "execute_result"
    }
   ],
   "source": [
    "indirect_tax_variables = [\n",
    "    variable \n",
    "    for tax in indirect_tax_by_country[country]\n",
    "    for variable in survey_scenario.tax_benefit_system.variables.keys() \n",
    "    if tax in variable \n",
    "    ]\n",
    "indirect_tax_variables"
   ]
  },
  {
   "cell_type": "code",
   "execution_count": 23,
   "metadata": {
    "execution": {
     "iopub.execute_input": "2020-07-08T20:43:55.858837Z",
     "iopub.status.busy": "2020-07-08T20:43:55.857523Z",
     "iopub.status.idle": "2020-07-08T20:43:55.876685Z",
     "shell.execute_reply": "2020-07-08T20:43:55.877551Z"
    },
    "papermill": {
     "duration": 0.063469,
     "end_time": "2020-07-08T20:43:55.877795",
     "exception": false,
     "start_time": "2020-07-08T20:43:55.814326",
     "status": "completed"
    },
    "tags": []
   },
   "outputs": [
    {
     "data": {
      "text/html": [
       "<div>\n",
       "<style scoped>\n",
       "    .dataframe tbody tr th:only-of-type {\n",
       "        vertical-align: middle;\n",
       "    }\n",
       "\n",
       "    .dataframe tbody tr th {\n",
       "        vertical-align: top;\n",
       "    }\n",
       "\n",
       "    .dataframe thead th {\n",
       "        text-align: right;\n",
       "    }\n",
       "</style>\n",
       "<table border=\"1\" class=\"dataframe\">\n",
       "  <thead>\n",
       "    <tr style=\"text-align: right;\">\n",
       "      <th></th>\n",
       "      <th>aggregate</th>\n",
       "    </tr>\n",
       "  </thead>\n",
       "  <tbody>\n",
       "    <tr>\n",
       "      <th>depenses_ht_tva_exonere</th>\n",
       "      <td>1226</td>\n",
       "    </tr>\n",
       "    <tr>\n",
       "      <th>depenses_ht_tva_taux_normal</th>\n",
       "      <td>1308</td>\n",
       "    </tr>\n",
       "    <tr>\n",
       "      <th>depenses_ht_tva_taux_reduit</th>\n",
       "      <td>0</td>\n",
       "    </tr>\n",
       "    <tr>\n",
       "      <th>tva_taux_normal</th>\n",
       "      <td>235</td>\n",
       "    </tr>\n",
       "    <tr>\n",
       "      <th>tva_taux_reduit</th>\n",
       "      <td>0</td>\n",
       "    </tr>\n",
       "    <tr>\n",
       "      <th>tva</th>\n",
       "      <td>235</td>\n",
       "    </tr>\n",
       "    <tr>\n",
       "      <th>depenses_ht_hd_sd_droits_douane_biens_specifiques</th>\n",
       "      <td>3</td>\n",
       "    </tr>\n",
       "    <tr>\n",
       "      <th>depenses_ht_hd_sd_droits_douane_consommation_finale</th>\n",
       "      <td>113</td>\n",
       "    </tr>\n",
       "    <tr>\n",
       "      <th>depenses_ht_hd_sd_droits_douane_consommation_intermediaire</th>\n",
       "      <td>79</td>\n",
       "    </tr>\n",
       "    <tr>\n",
       "      <th>depenses_ht_hd_sd_droits_douane_equipements</th>\n",
       "      <td>6</td>\n",
       "    </tr>\n",
       "    <tr>\n",
       "      <th>depenses_ht_hd_sd_droits_douane_exonere</th>\n",
       "      <td>186</td>\n",
       "    </tr>\n",
       "    <tr>\n",
       "      <th>droits_douane_biens_specifiques</th>\n",
       "      <td>1</td>\n",
       "    </tr>\n",
       "    <tr>\n",
       "      <th>droits_douane_consommation_finale</th>\n",
       "      <td>23</td>\n",
       "    </tr>\n",
       "    <tr>\n",
       "      <th>droits_douane_consommation_intermediaire</th>\n",
       "      <td>8</td>\n",
       "    </tr>\n",
       "    <tr>\n",
       "      <th>droits_douane_equipements</th>\n",
       "      <td>0</td>\n",
       "    </tr>\n",
       "    <tr>\n",
       "      <th>droits_douane</th>\n",
       "      <td>32</td>\n",
       "    </tr>\n",
       "  </tbody>\n",
       "</table>\n",
       "</div>"
      ],
      "text/plain": [
       "                                                    aggregate\n",
       "depenses_ht_tva_exonere                                  1226\n",
       "depenses_ht_tva_taux_normal                              1308\n",
       "depenses_ht_tva_taux_reduit                                 0\n",
       "tva_taux_normal                                           235\n",
       "tva_taux_reduit                                             0\n",
       "tva                                                       235\n",
       "depenses_ht_hd_sd_droits_douane_biens_specifiques           3\n",
       "depenses_ht_hd_sd_droits_douane_consommation_fi...        113\n",
       "depenses_ht_hd_sd_droits_douane_consommation_in...         79\n",
       "depenses_ht_hd_sd_droits_douane_equipements                 6\n",
       "depenses_ht_hd_sd_droits_douane_exonere                   186\n",
       "droits_douane_biens_specifiques                             1\n",
       "droits_douane_consommation_finale                          23\n",
       "droits_douane_consommation_intermediaire                    8\n",
       "droits_douane_equipements                                   0\n",
       "droits_douane                                              32"
      ]
     },
     "execution_count": 23,
     "metadata": {},
     "output_type": "execute_result"
    }
   ],
   "source": [
    "taxes_and_tariffs = pd.DataFrame(\n",
    "    index = indirect_tax_variables,\n",
    "    columns = ['aggregate'],\n",
    "    data = [\n",
    "        survey_scenario.compute_aggregate(variable, period = year) / 1e9 \n",
    "        for variable in indirect_tax_variables\n",
    "        ]\n",
    "    )\n",
    "taxes_and_tariffs.round().astype({\"aggregate\": int})"
   ]
  },
  {
   "cell_type": "markdown",
   "metadata": {
    "papermill": {
     "duration": 0.032703,
     "end_time": "2020-07-08T20:43:55.947632",
     "exception": false,
     "start_time": "2020-07-08T20:43:55.914929",
     "status": "completed"
    },
    "tags": []
   },
   "source": [
    "### Verify consumption"
   ]
  },
  {
   "cell_type": "code",
   "execution_count": 24,
   "metadata": {
    "execution": {
     "iopub.execute_input": "2020-07-08T20:43:56.029107Z",
     "iopub.status.busy": "2020-07-08T20:43:56.027989Z",
     "iopub.status.idle": "2020-07-08T20:43:56.037406Z",
     "shell.execute_reply": "2020-07-08T20:43:56.036616Z"
    },
    "papermill": {
     "duration": 0.053682,
     "end_time": "2020-07-08T20:43:56.037513",
     "exception": false,
     "start_time": "2020-07-08T20:43:55.983831",
     "status": "completed"
    },
    "tags": []
   },
   "outputs": [
    {
     "data": {
      "text/plain": [
       "2769.4852721925927"
      ]
     },
     "execution_count": 24,
     "metadata": {},
     "output_type": "execute_result"
    }
   ],
   "source": [
    "consumption = survey_scenario.compute_aggregate('consumption', period = year) / 1e9\n",
    "consumption"
   ]
  },
  {
   "cell_type": "code",
   "execution_count": 25,
   "metadata": {
    "execution": {
     "iopub.execute_input": "2020-07-08T20:43:56.115198Z",
     "iopub.status.busy": "2020-07-08T20:43:56.114614Z",
     "iopub.status.idle": "2020-07-08T20:43:56.118191Z",
     "shell.execute_reply": "2020-07-08T20:43:56.118646Z"
    },
    "papermill": {
     "duration": 0.042323,
     "end_time": "2020-07-08T20:43:56.118781",
     "exception": false,
     "start_time": "2020-07-08T20:43:56.076458",
     "status": "completed"
    },
    "tags": []
   },
   "outputs": [
    {
     "data": {
      "text/plain": [
       "2769.485361219986"
      ]
     },
     "execution_count": 25,
     "metadata": {},
     "output_type": "execute_result"
    }
   ],
   "source": [
    "# assert consumption == \n",
    "sum(taxes_and_tariffs['aggregate'][\n",
    "    taxes_and_tariffs.index.str.contains('tva_')\n",
    "    ])"
   ]
  },
  {
   "cell_type": "code",
   "execution_count": 26,
   "metadata": {
    "execution": {
     "iopub.execute_input": "2020-07-08T20:43:56.200676Z",
     "iopub.status.busy": "2020-07-08T20:43:56.199450Z",
     "iopub.status.idle": "2020-07-08T20:43:56.216126Z",
     "shell.execute_reply": "2020-07-08T20:43:56.217083Z"
    },
    "papermill": {
     "duration": 0.063696,
     "end_time": "2020-07-08T20:43:56.217341",
     "exception": false,
     "start_time": "2020-07-08T20:43:56.153645",
     "status": "completed"
    },
    "tags": []
   },
   "outputs": [
    {
     "data": {
      "text/plain": [
       "2769.485387276031"
      ]
     },
     "execution_count": 26,
     "metadata": {},
     "output_type": "execute_result"
    }
   ],
   "source": [
    "# assert consumption == \n",
    "(\n",
    "    sum(\n",
    "        survey_scenario.compute_aggregate(variable, period = year)\n",
    "        for variable in survey_scenario.tax_benefit_system.variables\n",
    "        if \"depenses_ht_hd_poste\" in variable \n",
    "        ) \n",
    "    + survey_scenario.compute_aggregate(\"droits_douane\", period = year)\n",
    "    + survey_scenario.compute_aggregate(\"tva\", period = year)\n",
    "    ) / 1e9"
   ]
  },
  {
   "cell_type": "markdown",
   "metadata": {
    "papermill": {
     "duration": 0.036505,
     "end_time": "2020-07-08T20:43:56.295498",
     "exception": false,
     "start_time": "2020-07-08T20:43:56.258993",
     "status": "completed"
    },
    "tags": []
   },
   "source": [
    "# Inflate incomes   "
   ]
  },
  {
   "cell_type": "markdown",
   "metadata": {
    "papermill": {
     "duration": 0.036521,
     "end_time": "2020-07-08T20:43:56.369570",
     "exception": false,
     "start_time": "2020-07-08T20:43:56.333049",
     "status": "completed"
    },
    "tags": []
   },
   "source": [
    "## Income variables"
   ]
  },
  {
   "cell_type": "code",
   "execution_count": 27,
   "metadata": {
    "execution": {
     "iopub.execute_input": "2020-07-08T20:43:56.449129Z",
     "iopub.status.busy": "2020-07-08T20:43:56.448520Z",
     "iopub.status.idle": "2020-07-08T20:43:56.451991Z",
     "shell.execute_reply": "2020-07-08T20:43:56.452768Z"
    },
    "papermill": {
     "duration": 0.045635,
     "end_time": "2020-07-08T20:43:56.452965",
     "exception": false,
     "start_time": "2020-07-08T20:43:56.407330",
     "status": "completed"
    },
    "tags": []
   },
   "outputs": [],
   "source": [
    "income_variables = [\n",
    "    'autoconsumption',\n",
    "    'other_income',\n",
    "    'gifts_sales_durables',\n",
    "    'imputed_rent',\n",
    "    'revenu_agricole',\n",
    "    'autres_revenus_du_capital',\n",
    "    'revenu_informel_non_salarie',\n",
    "    'revenu_non_salarie',\n",
    "    'revenu_locatif',\n",
    "    'pension_retraite',\n",
    "    'salaire_super_brut',\n",
    "    ]"
   ]
  },
  {
   "cell_type": "code",
   "execution_count": 28,
   "metadata": {
    "execution": {
     "iopub.execute_input": "2020-07-08T20:43:56.533859Z",
     "iopub.status.busy": "2020-07-08T20:43:56.533188Z",
     "iopub.status.idle": "2020-07-08T20:43:56.543735Z",
     "shell.execute_reply": "2020-07-08T20:43:56.544850Z"
    },
    "papermill": {
     "duration": 0.052031,
     "end_time": "2020-07-08T20:43:56.545124",
     "exception": false,
     "start_time": "2020-07-08T20:43:56.493093",
     "status": "completed"
    },
    "tags": []
   },
   "outputs": [
    {
     "data": {
      "text/plain": [
       "1970.8831206826194"
      ]
     },
     "execution_count": 28,
     "metadata": {},
     "output_type": "execute_result"
    }
   ],
   "source": [
    "sum(\n",
    "    survey_scenario.compute_aggregate(income_variable, period = year)\n",
    "    for income_variable in income_variables\n",
    "    ) / 1e9"
   ]
  },
  {
   "cell_type": "code",
   "execution_count": null,
   "metadata": {
    "papermill": {
     "duration": 0.035145,
     "end_time": "2020-07-08T20:43:56.617595",
     "exception": false,
     "start_time": "2020-07-08T20:43:56.582450",
     "status": "completed"
    },
    "tags": []
   },
   "outputs": [],
   "source": []
  },
  {
   "cell_type": "code",
   "execution_count": 29,
   "metadata": {
    "execution": {
     "iopub.execute_input": "2020-07-08T20:43:56.699514Z",
     "iopub.status.busy": "2020-07-08T20:43:56.698834Z",
     "iopub.status.idle": "2020-07-08T20:43:56.708543Z",
     "shell.execute_reply": "2020-07-08T20:43:56.707681Z"
    },
    "papermill": {
     "duration": 0.053184,
     "end_time": "2020-07-08T20:43:56.708736",
     "exception": false,
     "start_time": "2020-07-08T20:43:56.655552",
     "status": "completed"
    },
    "tags": []
   },
   "outputs": [
    {
     "data": {
      "text/plain": [
       "5065.348509528773"
      ]
     },
     "execution_count": 29,
     "metadata": {},
     "output_type": "execute_result"
    }
   ],
   "source": [
    "sum(\n",
    "    inflated_survey_scenario.compute_aggregate(income_variable, period = year)\n",
    "    for income_variable in income_variables\n",
    "    ) / 1e9"
   ]
  },
  {
   "cell_type": "markdown",
   "metadata": {
    "papermill": {
     "duration": 0.042782,
     "end_time": "2020-07-08T20:43:56.799223",
     "exception": false,
     "start_time": "2020-07-08T20:43:56.756441",
     "status": "completed"
    },
    "tags": []
   },
   "source": [
    "# Indicators"
   ]
  },
  {
   "cell_type": "code",
   "execution_count": 30,
   "metadata": {
    "execution": {
     "iopub.execute_input": "2020-07-08T20:43:56.881346Z",
     "iopub.status.busy": "2020-07-08T20:43:56.880759Z",
     "iopub.status.idle": "2020-07-08T20:43:56.984340Z",
     "shell.execute_reply": "2020-07-08T20:43:56.985164Z"
    },
    "papermill": {
     "duration": 0.150157,
     "end_time": "2020-07-08T20:43:56.985390",
     "exception": false,
     "start_time": "2020-07-08T20:43:56.835233",
     "status": "completed"
    },
    "tags": []
   },
   "outputs": [
    {
     "data": {
      "text/html": [
       "<div>\n",
       "<style scoped>\n",
       "    .dataframe tbody tr th:only-of-type {\n",
       "        vertical-align: middle;\n",
       "    }\n",
       "\n",
       "    .dataframe tbody tr th {\n",
       "        vertical-align: top;\n",
       "    }\n",
       "\n",
       "    .dataframe thead th {\n",
       "        text-align: right;\n",
       "    }\n",
       "</style>\n",
       "<table border=\"1\" class=\"dataframe\">\n",
       "  <thead>\n",
       "    <tr style=\"text-align: right;\">\n",
       "      <th></th>\n",
       "      <th>market_income</th>\n",
       "      <th>market_income_plus_pensions</th>\n",
       "      <th>gross_income</th>\n",
       "      <th>disposable_income</th>\n",
       "      <th>consumable_income</th>\n",
       "      <th>final_income</th>\n",
       "    </tr>\n",
       "  </thead>\n",
       "  <tbody>\n",
       "    <tr>\n",
       "      <th>Gini</th>\n",
       "      <td>0.46</td>\n",
       "      <td>0.46</td>\n",
       "      <td>0.46</td>\n",
       "      <td>0.46</td>\n",
       "      <td>0.53</td>\n",
       "      <td>0.46</td>\n",
       "    </tr>\n",
       "    <tr>\n",
       "      <th>Bottom 40 %</th>\n",
       "      <td>0.13</td>\n",
       "      <td>0.13</td>\n",
       "      <td>0.13</td>\n",
       "      <td>0.13</td>\n",
       "      <td>0.09</td>\n",
       "      <td>0.13</td>\n",
       "    </tr>\n",
       "    <tr>\n",
       "      <th>Top 10 %</th>\n",
       "      <td>0.35</td>\n",
       "      <td>0.35</td>\n",
       "      <td>0.35</td>\n",
       "      <td>0.35</td>\n",
       "      <td>0.38</td>\n",
       "      <td>0.34</td>\n",
       "    </tr>\n",
       "  </tbody>\n",
       "</table>\n",
       "</div>"
      ],
      "text/plain": [
       "             market_income  market_income_plus_pensions  gross_income  \\\n",
       "Gini                  0.46                         0.46          0.46   \n",
       "Bottom 40 %           0.13                         0.13          0.13   \n",
       "Top 10 %              0.35                         0.35          0.35   \n",
       "\n",
       "             disposable_income  consumable_income  final_income  \n",
       "Gini                      0.46               0.53          0.46  \n",
       "Bottom 40 %               0.13               0.09          0.13  \n",
       "Top 10 %                  0.35               0.38          0.34  "
      ]
     },
     "metadata": {},
     "output_type": "display_data"
    }
   ],
   "source": [
    "from openfisca_survey_manager.statshelpers import lorenz\n",
    "from openfisca_ceq.tools.results.inequality import inequality_table\n",
    "display(inequality_table(survey_scenario))"
   ]
  },
  {
   "cell_type": "code",
   "execution_count": 31,
   "metadata": {
    "execution": {
     "iopub.execute_input": "2020-07-08T20:43:57.068328Z",
     "iopub.status.busy": "2020-07-08T20:43:57.067767Z",
     "iopub.status.idle": "2020-07-08T20:43:57.072166Z",
     "shell.execute_reply": "2020-07-08T20:43:57.072560Z"
    },
    "papermill": {
     "duration": 0.047119,
     "end_time": "2020-07-08T20:43:57.072683",
     "exception": false,
     "start_time": "2020-07-08T20:43:57.025564",
     "status": "completed"
    },
    "tags": []
   },
   "outputs": [
    {
     "data": {
      "text/plain": [
       "267.3256997987509"
      ]
     },
     "execution_count": 31,
     "metadata": {},
     "output_type": "execute_result"
    }
   ],
   "source": [
    "survey_scenario.compute_aggregate(\"impots_indirects\", period = year) / 1e9"
   ]
  },
  {
   "cell_type": "code",
   "execution_count": 32,
   "metadata": {
    "execution": {
     "iopub.execute_input": "2020-07-08T20:43:57.160657Z",
     "iopub.status.busy": "2020-07-08T20:43:57.159451Z",
     "iopub.status.idle": "2020-07-08T20:43:57.165774Z",
     "shell.execute_reply": "2020-07-08T20:43:57.166793Z"
    },
    "papermill": {
     "duration": 0.054601,
     "end_time": "2020-07-08T20:43:57.167107",
     "exception": false,
     "start_time": "2020-07-08T20:43:57.112506",
     "status": "completed"
    },
    "tags": []
   },
   "outputs": [
    {
     "data": {
      "text/plain": [
       "7.426147500799683"
      ]
     },
     "execution_count": 32,
     "metadata": {},
     "output_type": "execute_result"
    }
   ],
   "source": [
    "survey_scenario.compute_aggregate(\"direct_taxes\", period = year) / 1e9"
   ]
  },
  {
   "cell_type": "code",
   "execution_count": 33,
   "metadata": {
    "execution": {
     "iopub.execute_input": "2020-07-08T20:43:57.249850Z",
     "iopub.status.busy": "2020-07-08T20:43:57.249266Z",
     "iopub.status.idle": "2020-07-08T20:43:57.254421Z",
     "shell.execute_reply": "2020-07-08T20:43:57.254822Z"
    },
    "papermill": {
     "duration": 0.048616,
     "end_time": "2020-07-08T20:43:57.254948",
     "exception": false,
     "start_time": "2020-07-08T20:43:57.206332",
     "status": "completed"
    },
    "tags": []
   },
   "outputs": [
    {
     "data": {
      "text/plain": [
       "7.426147500799683"
      ]
     },
     "execution_count": 33,
     "metadata": {},
     "output_type": "execute_result"
    }
   ],
   "source": [
    "survey_scenario.compute_aggregate(\"personal_income_tax\", period = year) / 1e9"
   ]
  },
  {
   "cell_type": "code",
   "execution_count": 34,
   "metadata": {
    "execution": {
     "iopub.execute_input": "2020-07-08T20:43:57.348297Z",
     "iopub.status.busy": "2020-07-08T20:43:57.346948Z",
     "iopub.status.idle": "2020-07-08T20:43:57.349769Z",
     "shell.execute_reply": "2020-07-08T20:43:57.350667Z"
    },
    "papermill": {
     "duration": 0.049903,
     "end_time": "2020-07-08T20:43:57.350900",
     "exception": false,
     "start_time": "2020-07-08T20:43:57.300997",
     "status": "completed"
    },
    "tags": []
   },
   "outputs": [],
   "source": [
    "from openfisca_ceq import list_variables_from_directory"
   ]
  },
  {
   "cell_type": "code",
   "execution_count": 35,
   "metadata": {
    "execution": {
     "iopub.execute_input": "2020-07-08T20:43:57.437005Z",
     "iopub.status.busy": "2020-07-08T20:43:57.436358Z",
     "iopub.status.idle": "2020-07-08T20:43:57.647219Z",
     "shell.execute_reply": "2020-07-08T20:43:57.648252Z"
    },
    "papermill": {
     "duration": 0.258945,
     "end_time": "2020-07-08T20:43:57.648563",
     "exception": false,
     "start_time": "2020-07-08T20:43:57.389618",
     "status": "completed"
    },
    "tags": []
   },
   "outputs": [
    {
     "data": {
      "text/plain": [
       "['agricultural_inputs_subsidies',\n",
       " 'alimony',\n",
       " 'corporate_income_tax',\n",
       " 'electricity_subsidies',\n",
       " 'employee_contributions_health',\n",
       " 'employee_other_contributions',\n",
       " 'excise_taxes',\n",
       " 'food_subsidies',\n",
       " 'fuel_subsidies',\n",
       " 'indirect_subsidies',\n",
       " 'other_taxes',\n",
       " 'payroll_tax',\n",
       " 'pensions',\n",
       " 'property_tax',\n",
       " 'sales_tax',\n",
       " 'self_employed_contributions_health',\n",
       " 'self_employed_contributions_pensions',\n",
       " 'self_employed_other_contributions']"
      ]
     },
     "execution_count": 35,
     "metadata": {},
     "output_type": "execute_result"
    }
   ],
   "source": [
    "ceq_variables = sorted(list_variables_from_directory(survey_scenario.tax_benefit_system))\n",
    "[\n",
    "    ceq_variable\n",
    "    for ceq_variable in ceq_variables\n",
    "    if survey_scenario.compute_aggregate(ceq_variable, period = year) == 0\n",
    "    ]"
   ]
  },
  {
   "cell_type": "code",
   "execution_count": 36,
   "metadata": {
    "execution": {
     "iopub.execute_input": "2020-07-08T20:43:57.745049Z",
     "iopub.status.busy": "2020-07-08T20:43:57.743920Z",
     "iopub.status.idle": "2020-07-08T20:43:57.900867Z",
     "shell.execute_reply": "2020-07-08T20:43:57.901261Z"
    },
    "papermill": {
     "duration": 0.20384,
     "end_time": "2020-07-08T20:43:57.901390",
     "exception": false,
     "start_time": "2020-07-08T20:43:57.697550",
     "status": "completed"
    },
    "tags": []
   },
   "outputs": [
    {
     "data": {
      "text/plain": [
       "[<matplotlib.lines.Line2D at 0x7f8604e152d0>]"
      ]
     },
     "execution_count": 36,
     "metadata": {},
     "output_type": "execute_result"
    },
    {
     "data": {
      "image/png": "[encoded data removed]",
      "text/plain": [
       "<Figure size 432x288 with 1 Axes>"
      ]
     },
     "metadata": {
      "needs_background": "light"
     },
     "output_type": "display_data"
    }
   ],
   "source": [
    "variable = \"market_income\"\n",
    "nb_persons = survey_scenario.calculate_variable(\"number_of_people_per_household\", period = year)\n",
    "weights = survey_scenario.calculate_variable(\"household_weight\", period = year) * nb_persons\n",
    "\n",
    "y, x = lorenz(survey_scenario.calculate_variable(variable, period = year) / nb_persons, weights = weights)\n",
    "plt.plot(x, y)"
   ]
  },
  {
   "cell_type": "code",
   "execution_count": 37,
   "metadata": {
    "execution": {
     "iopub.execute_input": "2020-07-08T20:43:58.000410Z",
     "iopub.status.busy": "2020-07-08T20:43:57.999062Z",
     "iopub.status.idle": "2020-07-08T20:43:58.004284Z",
     "shell.execute_reply": "2020-07-08T20:43:58.005398Z"
    },
    "papermill": {
     "duration": 0.056341,
     "end_time": "2020-07-08T20:43:58.005695",
     "exception": false,
     "start_time": "2020-07-08T20:43:57.949354",
     "status": "completed"
    },
    "tags": []
   },
   "outputs": [
    {
     "data": {
      "text/plain": [
       "0.0"
      ]
     },
     "execution_count": 37,
     "metadata": {},
     "output_type": "execute_result"
    }
   ],
   "source": [
    "survey_scenario.compute_aggregate('direct_transfers', period = year) / 1e9"
   ]
  },
  {
   "cell_type": "code",
   "execution_count": 38,
   "metadata": {
    "execution": {
     "iopub.execute_input": "2020-07-08T20:43:58.097466Z",
     "iopub.status.busy": "2020-07-08T20:43:58.096856Z",
     "iopub.status.idle": "2020-07-08T20:43:58.101550Z",
     "shell.execute_reply": "2020-07-08T20:43:58.102462Z"
    },
    "papermill": {
     "duration": 0.055587,
     "end_time": "2020-07-08T20:43:58.102700",
     "exception": false,
     "start_time": "2020-07-08T20:43:58.047113",
     "status": "completed"
    },
    "tags": []
   },
   "outputs": [
    {
     "data": {
      "text/plain": [
       "['agricultural_inputs_subsidies',\n",
       " 'alimony',\n",
       " 'all_income_excluding_transfers',\n",
       " 'autoconsumption',\n",
       " 'consumable_income',\n",
       " 'contributions_health',\n",
       " 'contributions_pensions',\n",
       " 'corporate_income_tax',\n",
       " 'customs_duties',\n",
       " 'decile_consumable_income_per_capita',\n",
       " 'decile_disposable_income_per_capita',\n",
       " 'decile_final_income_per_capita',\n",
       " 'decile_gross_income_per_capita',\n",
       " 'decile_market_income_per_capita',\n",
       " 'decile_market_income_plus_pensions_per_capita',\n",
       " 'decile_survey_income_per_capita',\n",
       " 'direct_taxes',\n",
       " 'disposable_income',\n",
       " 'electricity_subsidies',\n",
       " 'employee_contributions_health',\n",
       " 'employee_contributions_pensions',\n",
       " 'employee_other_contributions',\n",
       " 'employer_contributions_health',\n",
       " 'employer_contributions_pensions',\n",
       " 'employer_other_contributions',\n",
       " 'excise_taxes',\n",
       " 'final_income',\n",
       " 'food_subsidies',\n",
       " 'fuel_subsidies',\n",
       " 'gifts_sales_durables',\n",
       " 'gross_income',\n",
       " 'imputed_rent',\n",
       " 'indirect_subsidies',\n",
       " 'indirect_taxes',\n",
       " 'market_income',\n",
       " 'market_income_plus_pensions',\n",
       " 'net_market_income',\n",
       " 'nontaxable_income',\n",
       " 'other_contributions',\n",
       " 'other_income',\n",
       " 'other_taxes',\n",
       " 'payroll_tax',\n",
       " 'pensions',\n",
       " 'personal_income_tax',\n",
       " 'property_tax',\n",
       " 'sales_tax',\n",
       " 'self_employed_contributions_health',\n",
       " 'self_employed_contributions_pensions',\n",
       " 'self_employed_other_contributions',\n",
       " 'taxable_income',\n",
       " 'value_added_tax']"
      ]
     },
     "execution_count": 38,
     "metadata": {},
     "output_type": "execute_result"
    }
   ],
   "source": [
    "ceq_variables"
   ]
  },
  {
   "cell_type": "code",
   "execution_count": 39,
   "metadata": {
    "execution": {
     "iopub.execute_input": "2020-07-08T20:43:58.194982Z",
     "iopub.status.busy": "2020-07-08T20:43:58.194333Z",
     "iopub.status.idle": "2020-07-08T20:43:58.198815Z",
     "shell.execute_reply": "2020-07-08T20:43:58.198273Z"
    },
    "papermill": {
     "duration": 0.052254,
     "end_time": "2020-07-08T20:43:58.198917",
     "exception": false,
     "start_time": "2020-07-08T20:43:58.146663",
     "status": "completed"
    },
    "tags": []
   },
   "outputs": [
    {
     "data": {
      "text/plain": [
       "31882424995.660522"
      ]
     },
     "execution_count": 39,
     "metadata": {},
     "output_type": "execute_result"
    }
   ],
   "source": [
    "survey_scenario.compute_aggregate('customs_duties', period = year) "
   ]
  },
  {
   "cell_type": "code",
   "execution_count": 40,
   "metadata": {
    "execution": {
     "iopub.execute_input": "2020-07-08T20:43:58.290488Z",
     "iopub.status.busy": "2020-07-08T20:43:58.289931Z",
     "iopub.status.idle": "2020-07-08T20:44:02.541731Z",
     "shell.execute_reply": "2020-07-08T20:44:02.542279Z"
    },
    "papermill": {
     "duration": 4.296522,
     "end_time": "2020-07-08T20:44:02.542448",
     "exception": false,
     "start_time": "2020-07-08T20:43:58.245926",
     "status": "completed"
    },
    "tags": []
   },
   "outputs": [],
   "source": [
    "inflated_survey_scenario = build_ceq_survey_scenario(legislation_country = country, year = year, inflate = True)"
   ]
  },
  {
   "cell_type": "code",
   "execution_count": 41,
   "metadata": {
    "execution": {
     "iopub.execute_input": "2020-07-08T20:44:02.659442Z",
     "iopub.status.busy": "2020-07-08T20:44:02.658820Z",
     "iopub.status.idle": "2020-07-08T20:44:02.663187Z",
     "shell.execute_reply": "2020-07-08T20:44:02.664080Z"
    },
    "papermill": {
     "duration": 0.057603,
     "end_time": "2020-07-08T20:44:02.664316",
     "exception": false,
     "start_time": "2020-07-08T20:44:02.606713",
     "status": "completed"
    },
    "tags": []
   },
   "outputs": [
    {
     "data": {
      "text/plain": [
       "['poste_10_1_1_1',\n",
       " 'poste_11_2_1_1',\n",
       " 'poste_12_1_1_1',\n",
       " 'poste_12_3_1_1',\n",
       " 'poste_12_3_2_1_1',\n",
       " 'poste_12_4_1',\n",
       " 'poste_12_5_3_1_1',\n",
       " 'poste_12_5_item_1',\n",
       " 'poste_12_5_item_2',\n",
       " 'poste_12_5_item_3',\n",
       " 'poste_12_6_1_1_1',\n",
       " 'poste_12_7_1_1_1_item_1',\n",
       " 'poste_12_7_1_1_1_item_2',\n",
       " 'poste_1_1_1_1_1',\n",
       " 'poste_1_1_1_4_1_item_1',\n",
       " 'poste_1_1_1_4_1_item_2',\n",
       " 'poste_1_1_1_4_1_item_3',\n",
       " 'poste_1_1_1_4_3',\n",
       " 'poste_1_1_2_item_1',\n",
       " 'poste_1_1_2_item_2',\n",
       " 'poste_1_1_3_item_1',\n",
       " 'poste_1_1_3_item_2',\n",
       " 'poste_1_1_4_item_1',\n",
       " 'poste_1_1_4_item_2',\n",
       " 'poste_1_1_5_item_1',\n",
       " 'poste_1_1_5_item_2',\n",
       " 'poste_1_1_7_item_1',\n",
       " 'poste_1_1_7_item_2',\n",
       " 'poste_1_1_7_item_3',\n",
       " 'poste_1_1_7_item_4',\n",
       " 'poste_1_1_8',\n",
       " 'poste_1_1_9',\n",
       " 'poste_1_2',\n",
       " 'poste_2',\n",
       " 'poste_3_1_2',\n",
       " 'poste_3_2_1',\n",
       " 'poste_4_1_1_item_1',\n",
       " 'poste_4_1_1_item_2',\n",
       " 'poste_4_3_2_2_1_item_1',\n",
       " 'poste_4_3_2_2_1_item_2',\n",
       " 'poste_4_4_1_1_1',\n",
       " 'poste_4_4_1_2_1',\n",
       " 'poste_4_5_1_1_1',\n",
       " 'poste_4_5_2_1_1',\n",
       " 'poste_4_5_3_1_1',\n",
       " 'poste_4_5_4_1_1',\n",
       " 'poste_5_1',\n",
       " 'poste_5_2',\n",
       " 'poste_5_3_1_item_1',\n",
       " 'poste_5_3_1_item_2',\n",
       " 'poste_5_3_1_item_3',\n",
       " 'poste_5_3_1_item_4',\n",
       " 'poste_5_3_1_item_5',\n",
       " 'poste_5_3_1_item_6',\n",
       " 'poste_5_3_1_item_7',\n",
       " 'poste_5_3_1_item_8',\n",
       " 'poste_5_3_1_item_9',\n",
       " 'poste_5_3_2_item_1',\n",
       " 'poste_5_3_2_item_2',\n",
       " 'poste_5_4_1',\n",
       " 'poste_5_5_1_item_1',\n",
       " 'poste_5_5_1_item_2',\n",
       " 'poste_5_6_2_1_1',\n",
       " 'poste_6_1_1_item_1',\n",
       " 'poste_6_1_1_item_2',\n",
       " 'poste_6_2_1_item_1',\n",
       " 'poste_6_2_1_item_2',\n",
       " 'poste_7_1_1_item_1',\n",
       " 'poste_7_1_1_item_2',\n",
       " 'poste_7_1_2',\n",
       " 'poste_7_2_2',\n",
       " 'poste_7_2_3_item_1',\n",
       " 'poste_7_2_3_item_2',\n",
       " 'poste_7_3_2_item_1',\n",
       " 'poste_7_3_2_item_2',\n",
       " 'poste_8_1_1_1_1',\n",
       " 'poste_8_1_2_1_1_item_1',\n",
       " 'poste_8_1_2_1_1_item_2',\n",
       " 'poste_8_1_2_2_1_item_1',\n",
       " 'poste_8_1_2_2_1_item_2',\n",
       " 'poste_9_1_1_1_1',\n",
       " 'poste_9_1_1_1_2',\n",
       " 'poste_9_1_1_1_3_item_1',\n",
       " 'poste_9_1_1_1_3_item_2',\n",
       " 'poste_9_1_2_1',\n",
       " 'poste_9_1_3_1_1',\n",
       " 'poste_9_1_5_1_1',\n",
       " 'poste_9_2_1_1_3',\n",
       " 'poste_9_3_1_1_1_item_1',\n",
       " 'poste_9_3_1_1_1_item_2',\n",
       " 'poste_9_3_2_1_1',\n",
       " 'poste_9_3_3_1_1',\n",
       " 'poste_9_3_4_1_2',\n",
       " 'poste_9_4',\n",
       " 'poste_9_4_1_1_item_1',\n",
       " 'poste_9_4_1_1_item_2',\n",
       " 'poste_9_4_2_3_1',\n",
       " 'poste_9_5_1_1',\n",
       " 'poste_9_5_2_1_1',\n",
       " 'poste_9_6_1_item_1',\n",
       " 'poste_9_6_1_item_2']"
      ]
     },
     "execution_count": 41,
     "metadata": {},
     "output_type": "execute_result"
    }
   ],
   "source": [
    "sorted([\n",
    "    variable \n",
    "    for variable in survey_scenario.tax_benefit_system.variables \n",
    "    if variable.startswith('poste_')\n",
    "    ])"
   ]
  },
  {
   "cell_type": "code",
   "execution_count": 42,
   "metadata": {
    "execution": {
     "iopub.execute_input": "2020-07-08T20:44:02.765346Z",
     "iopub.status.busy": "2020-07-08T20:44:02.764191Z",
     "iopub.status.idle": "2020-07-08T20:44:02.769346Z",
     "shell.execute_reply": "2020-07-08T20:44:02.770190Z"
    },
    "papermill": {
     "duration": 0.057226,
     "end_time": "2020-07-08T20:44:02.770452",
     "exception": false,
     "start_time": "2020-07-08T20:44:02.713226",
     "status": "completed"
    },
    "tags": []
   },
   "outputs": [
    {
     "data": {
      "text/plain": [
       "267325699798.75095"
      ]
     },
     "execution_count": 42,
     "metadata": {},
     "output_type": "execute_result"
    }
   ],
   "source": [
    "survey_scenario.compute_aggregate('indirect_taxes', period = year)"
   ]
  },
  {
   "cell_type": "markdown",
   "metadata": {
    "papermill": {
     "duration": 0.042563,
     "end_time": "2020-07-08T20:44:02.857440",
     "exception": false,
     "start_time": "2020-07-08T20:44:02.814877",
     "status": "completed"
    },
    "tags": []
   },
   "source": [
    "Direct taxes"
   ]
  },
  {
   "cell_type": "code",
   "execution_count": null,
   "metadata": {
    "papermill": {
     "duration": 0.039969,
     "end_time": "2020-07-08T20:44:02.938647",
     "exception": false,
     "start_time": "2020-07-08T20:44:02.898678",
     "status": "completed"
    },
    "tags": []
   },
   "outputs": [],
   "source": []
  },
  {
   "cell_type": "code",
   "execution_count": null,
   "metadata": {
    "papermill": {
     "duration": 0.045231,
     "end_time": "2020-07-08T20:44:03.033355",
     "exception": false,
     "start_time": "2020-07-08T20:44:02.988124",
     "status": "completed"
    },
    "tags": []
   },
   "outputs": [],
   "source": []
  }
 ],
 "metadata": {
  "kernelspec": {
   "display_name": "Python 3",
   "language": "python",
   "name": "python3"
  },
  "language_info": {
   "codemirror_mode": {
    "name": "ipython",
    "version": 3
   },
   "file_extension": ".py",
   "mimetype": "text/x-python",
   "name": "python",
   "nbconvert_exporter": "python",
   "pygments_lexer": "ipython3",
   "version": "3.7.8"
  },
  "papermill": {
   "duration": 21.275127,
   "end_time": "2020-07-08T20:44:03.590902",
   "environment_variables": {},
   "exception": null,
   "input_path": "notebooks/test.ipynb",
   "output_path": "notebooks/mali.ipynb",
   "parameters": {
    "country": "mali"
   },
   "start_time": "2020-07-08T20:43:42.315775",
   "version": "2.1.2"
  }
 },
 "nbformat": 4,
 "nbformat_minor": 4
}