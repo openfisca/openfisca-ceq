{
 "cells": [
  {
   "cell_type": "code",
   "execution_count": 1,
   "metadata": {
    "papermill": {
     "duration": 0.033849,
     "end_time": "2020-05-14T11:08:29.172032",
     "exception": false,
     "start_time": "2020-05-14T11:08:29.138183",
     "status": "completed"
    },
    "tags": []
   },
   "outputs": [],
   "source": [
    "# !pip install -U git+https://github.com/openfisca/openfisca-ceq.git@master#egg=OpenFisca-CEQ\n",
    "# !pip install -U git+https://github.com/openfisca/openfisca-senegal.git@ceq#egg=OpenFisca-Senegal\n",
    "# !pip install -U git+https://github.com/openfisca/openfisca-mali.git@master#egg=OpenFisca-Mali\n",
    "# !pip install -U git+https://github.com/openfisca/openfisca-cote-d-ivoire.git@master#egg=OpenFisca-COTE-D-IVOIRE"
   ]
  },
  {
   "cell_type": "code",
   "execution_count": 2,
   "metadata": {
    "papermill": {
     "duration": 0.766804,
     "end_time": "2020-05-14T11:08:29.958653",
     "exception": false,
     "start_time": "2020-05-14T11:08:29.191849",
     "status": "completed"
    },
    "tags": []
   },
   "outputs": [],
   "source": [
    "from matplotlib import pyplot as plt\n",
    "%matplotlib inline\n",
    "import pandas as pd\n",
    "from openfisca_ceq.tools.survey_scenario import build_ceq_survey_scenario\n",
    "from openfisca_ceq.tools.indirect_taxation.tax_benefit_system_indirect_taxation_completion import indirect_tax_by_country\n",
    "from openfisca_ceq.tools.data import year_by_country\n",
    "from openfisca_ceq.tools.data_ceq_correspondence import (\n",
    "    ceq_input_by_harmonized_variable,\n",
    "    ceq_intermediate_by_harmonized_variable,\n",
    "    non_ceq_input_by_harmonized_variable,\n",
    "    )"
   ]
  },
  {
   "cell_type": "markdown",
   "metadata": {
    "papermill": {
     "duration": 0.017188,
     "end_time": "2020-05-14T11:08:29.993378",
     "exception": false,
     "start_time": "2020-05-14T11:08:29.976190",
     "status": "completed"
    },
    "tags": []
   },
   "source": [
    "# Build country scenario"
   ]
  },
  {
   "cell_type": "markdown",
   "metadata": {
    "papermill": {
     "duration": 0.023711,
     "end_time": "2020-05-14T11:08:30.048625",
     "exception": false,
     "start_time": "2020-05-14T11:08:30.024914",
     "status": "completed"
    },
    "tags": []
   },
   "source": [
    "## Country selection"
   ]
  },
  {
   "cell_type": "code",
   "execution_count": 3,
   "metadata": {
    "papermill": {
     "duration": 0.041964,
     "end_time": "2020-05-14T11:08:30.126073",
     "exception": false,
     "start_time": "2020-05-14T11:08:30.084109",
     "status": "completed"
    },
    "tags": [
     "parameters"
    ]
   },
   "outputs": [],
   "source": [
    "country = \"senegal\""
   ]
  },
  {
   "cell_type": "code",
   "execution_count": 4,
   "metadata": {
    "papermill": {
     "duration": 0.026026,
     "end_time": "2020-05-14T11:08:30.177955",
     "exception": false,
     "start_time": "2020-05-14T11:08:30.151929",
     "status": "completed"
    },
    "tags": [
     "injected-parameters"
    ]
   },
   "outputs": [],
   "source": [
    "# Parameters\n",
    "country = \"mali\"\n"
   ]
  },
  {
   "cell_type": "code",
   "execution_count": 5,
   "metadata": {
    "papermill": {
     "duration": 5.526346,
     "end_time": "2020-05-14T11:08:35.723184",
     "exception": false,
     "start_time": "2020-05-14T11:08:30.196838",
     "status": "completed"
    },
    "tags": []
   },
   "outputs": [],
   "source": [
    "year = year_by_country[country]\n",
    "survey_scenario = build_ceq_survey_scenario(legislation_country = country, year = year)"
   ]
  },
  {
   "cell_type": "markdown",
   "metadata": {
    "papermill": {
     "duration": 0.016877,
     "end_time": "2020-05-14T11:08:35.760346",
     "exception": false,
     "start_time": "2020-05-14T11:08:35.743469",
     "status": "completed"
    },
    "tags": []
   },
   "source": [
    "# Aggegates check"
   ]
  },
  {
   "cell_type": "markdown",
   "metadata": {
    "papermill": {
     "duration": 0.041868,
     "end_time": "2020-05-14T11:08:35.839865",
     "exception": false,
     "start_time": "2020-05-14T11:08:35.797997",
     "status": "completed"
    },
    "tags": []
   },
   "source": [
    "## Income variables"
   ]
  },
  {
   "cell_type": "markdown",
   "metadata": {
    "papermill": {
     "duration": 0.017431,
     "end_time": "2020-05-14T11:08:35.879917",
     "exception": false,
     "start_time": "2020-05-14T11:08:35.862486",
     "status": "completed"
    },
    "tags": []
   },
   "source": [
    "### Disagregated income variables"
   ]
  },
  {
   "cell_type": "code",
   "execution_count": 6,
   "metadata": {
    "papermill": {
     "duration": 0.029382,
     "end_time": "2020-05-14T11:08:35.927238",
     "exception": false,
     "start_time": "2020-05-14T11:08:35.897856",
     "status": "completed"
    },
    "tags": []
   },
   "outputs": [
    {
     "data": {
      "text/plain": [
       "{'rev_i_autoconsommation': 'autoconsumption',\n",
       " 'rev_i_autres': 'other_income',\n",
       " 'rev_i_autres_transferts': 'gifts_sales_durables',\n",
       " 'rev_i_loyers_imputes': 'imputed_rent',\n",
       " 'rev_i_transferts_publics': 'direct_transfers',\n",
       " 'rev_i_agricoles': 'revenu_agricole',\n",
       " 'rev_i_autres_revenus_capital': 'autres_revenus_du_capital',\n",
       " 'rev_i_independants_Ntaxe': 'revenu_informel_non_salarie',\n",
       " 'rev_i_independants_taxe': 'revenu_non_salarie',\n",
       " 'rev_i_independants': 'revenu_non_salarie_total',\n",
       " 'rev_i_locatifs': 'revenu_locatif',\n",
       " 'rev_i_pensions': 'pension_retraite',\n",
       " 'rev_i_salaires_formels': 'salaire',\n",
       " 'rev_i_salaires_informels': 'revenu_informel_salarie',\n",
       " 'autres_revenus_du_capital_brut': 'autres_revenus_du_capital_brut',\n",
       " 'pension_retraite_brut': 'pension_retraite_brut',\n",
       " 'revenu_foncier_brut': 'revenu_foncier_brut',\n",
       " 'revenu_non_salarie_brut': 'revenu_non_salarie_brut',\n",
       " 'salaire_brut': 'salaire_brut',\n",
       " 'salaire_super_brut': 'salaire_super_brut'}"
      ]
     },
     "execution_count": 6,
     "metadata": {},
     "output_type": "execute_result"
    }
   ],
   "source": [
    "ceq_by_harmonized_variable = dict()\n",
    "ceq_by_harmonized_variable.update(ceq_input_by_harmonized_variable)\n",
    "ceq_by_harmonized_variable.update(ceq_intermediate_by_harmonized_variable)\n",
    "ceq_by_harmonized_variable.update(non_ceq_input_by_harmonized_variable)\n",
    "ceq_by_harmonized_variable['autres_revenus_du_capital_brut'] = 'autres_revenus_du_capital_brut'\n",
    "ceq_by_harmonized_variable['pension_retraite_brut'] = 'pension_retraite_brut'\n",
    "ceq_by_harmonized_variable['revenu_foncier_brut'] = 'revenu_foncier_brut'\n",
    "ceq_by_harmonized_variable['revenu_non_salarie_brut'] = 'revenu_non_salarie_brut' \n",
    "ceq_by_harmonized_variable['salaire_brut'] = 'salaire_brut'\n",
    "ceq_by_harmonized_variable['salaire_super_brut'] = 'salaire_super_brut'\n",
    "ceq_by_harmonized_variable"
   ]
  },
  {
   "cell_type": "code",
   "execution_count": 7,
   "metadata": {
    "papermill": {
     "duration": 0.246096,
     "end_time": "2020-05-14T11:08:36.192073",
     "exception": false,
     "start_time": "2020-05-14T11:08:35.945977",
     "status": "completed"
    },
    "tags": []
   },
   "outputs": [],
   "source": [
    "data = [\n",
    "    (harmonized_variable, openfisca_variable, survey_scenario.compute_aggregate(openfisca_variable, period = year) / 1e9) \n",
    "    for harmonized_variable, openfisca_variable in ceq_by_harmonized_variable.items()\n",
    "    ]"
   ]
  },
  {
   "cell_type": "code",
   "execution_count": 8,
   "metadata": {
    "papermill": {
     "duration": 0.087236,
     "end_time": "2020-05-14T11:08:36.325059",
     "exception": false,
     "start_time": "2020-05-14T11:08:36.237823",
     "status": "completed"
    },
    "tags": []
   },
   "outputs": [
    {
     "data": {
      "text/html": [
       "<div>\n",
       "<style scoped>\n",
       "    .dataframe tbody tr th:only-of-type {\n",
       "        vertical-align: middle;\n",
       "    }\n",
       "\n",
       "    .dataframe tbody tr th {\n",
       "        vertical-align: top;\n",
       "    }\n",
       "\n",
       "    .dataframe thead th {\n",
       "        text-align: right;\n",
       "    }\n",
       "</style>\n",
       "<table border=\"1\" class=\"dataframe\">\n",
       "  <thead>\n",
       "    <tr style=\"text-align: right;\">\n",
       "      <th></th>\n",
       "      <th>harmonized</th>\n",
       "      <th>openfisca</th>\n",
       "      <th>aggregate</th>\n",
       "    </tr>\n",
       "  </thead>\n",
       "  <tbody>\n",
       "    <tr>\n",
       "      <th>0</th>\n",
       "      <td>rev_i_autoconsommation</td>\n",
       "      <td>autoconsumption</td>\n",
       "      <td>261</td>\n",
       "    </tr>\n",
       "    <tr>\n",
       "      <th>1</th>\n",
       "      <td>rev_i_autres</td>\n",
       "      <td>other_income</td>\n",
       "      <td>245</td>\n",
       "    </tr>\n",
       "    <tr>\n",
       "      <th>2</th>\n",
       "      <td>rev_i_autres_transferts</td>\n",
       "      <td>gifts_sales_durables</td>\n",
       "      <td>69</td>\n",
       "    </tr>\n",
       "    <tr>\n",
       "      <th>3</th>\n",
       "      <td>rev_i_loyers_imputes</td>\n",
       "      <td>imputed_rent</td>\n",
       "      <td>139</td>\n",
       "    </tr>\n",
       "    <tr>\n",
       "      <th>4</th>\n",
       "      <td>rev_i_transferts_publics</td>\n",
       "      <td>direct_transfers</td>\n",
       "      <td>0</td>\n",
       "    </tr>\n",
       "    <tr>\n",
       "      <th>5</th>\n",
       "      <td>rev_i_agricoles</td>\n",
       "      <td>revenu_agricole</td>\n",
       "      <td>563</td>\n",
       "    </tr>\n",
       "    <tr>\n",
       "      <th>6</th>\n",
       "      <td>rev_i_autres_revenus_capital</td>\n",
       "      <td>autres_revenus_du_capital</td>\n",
       "      <td>0</td>\n",
       "    </tr>\n",
       "    <tr>\n",
       "      <th>7</th>\n",
       "      <td>rev_i_independants_Ntaxe</td>\n",
       "      <td>revenu_informel_non_salarie</td>\n",
       "      <td>500</td>\n",
       "    </tr>\n",
       "    <tr>\n",
       "      <th>8</th>\n",
       "      <td>rev_i_independants_taxe</td>\n",
       "      <td>revenu_non_salarie</td>\n",
       "      <td>0</td>\n",
       "    </tr>\n",
       "    <tr>\n",
       "      <th>9</th>\n",
       "      <td>rev_i_independants</td>\n",
       "      <td>revenu_non_salarie_total</td>\n",
       "      <td>500</td>\n",
       "    </tr>\n",
       "    <tr>\n",
       "      <th>10</th>\n",
       "      <td>rev_i_locatifs</td>\n",
       "      <td>revenu_locatif</td>\n",
       "      <td>0</td>\n",
       "    </tr>\n",
       "    <tr>\n",
       "      <th>11</th>\n",
       "      <td>rev_i_pensions</td>\n",
       "      <td>pension_retraite</td>\n",
       "      <td>0</td>\n",
       "    </tr>\n",
       "    <tr>\n",
       "      <th>12</th>\n",
       "      <td>rev_i_salaires_formels</td>\n",
       "      <td>salaire</td>\n",
       "      <td>68</td>\n",
       "    </tr>\n",
       "    <tr>\n",
       "      <th>13</th>\n",
       "      <td>rev_i_salaires_informels</td>\n",
       "      <td>revenu_informel_salarie</td>\n",
       "      <td>174</td>\n",
       "    </tr>\n",
       "    <tr>\n",
       "      <th>14</th>\n",
       "      <td>autres_revenus_du_capital_brut</td>\n",
       "      <td>autres_revenus_du_capital_brut</td>\n",
       "      <td>0</td>\n",
       "    </tr>\n",
       "    <tr>\n",
       "      <th>15</th>\n",
       "      <td>pension_retraite_brut</td>\n",
       "      <td>pension_retraite_brut</td>\n",
       "      <td>0</td>\n",
       "    </tr>\n",
       "    <tr>\n",
       "      <th>16</th>\n",
       "      <td>revenu_foncier_brut</td>\n",
       "      <td>revenu_foncier_brut</td>\n",
       "      <td>0</td>\n",
       "    </tr>\n",
       "    <tr>\n",
       "      <th>17</th>\n",
       "      <td>revenu_non_salarie_brut</td>\n",
       "      <td>revenu_non_salarie_brut</td>\n",
       "      <td>0</td>\n",
       "    </tr>\n",
       "    <tr>\n",
       "      <th>18</th>\n",
       "      <td>salaire_brut</td>\n",
       "      <td>salaire_brut</td>\n",
       "      <td>81</td>\n",
       "    </tr>\n",
       "    <tr>\n",
       "      <th>19</th>\n",
       "      <td>salaire_super_brut</td>\n",
       "      <td>salaire_super_brut</td>\n",
       "      <td>96</td>\n",
       "    </tr>\n",
       "  </tbody>\n",
       "</table>\n",
       "</div>"
      ],
      "text/plain": [
       "                        harmonized                       openfisca  aggregate\n",
       "0           rev_i_autoconsommation                 autoconsumption        261\n",
       "1                     rev_i_autres                    other_income        245\n",
       "2          rev_i_autres_transferts            gifts_sales_durables         69\n",
       "3             rev_i_loyers_imputes                    imputed_rent        139\n",
       "4         rev_i_transferts_publics                direct_transfers          0\n",
       "5                  rev_i_agricoles                 revenu_agricole        563\n",
       "6     rev_i_autres_revenus_capital       autres_revenus_du_capital          0\n",
       "7         rev_i_independants_Ntaxe     revenu_informel_non_salarie        500\n",
       "8          rev_i_independants_taxe              revenu_non_salarie          0\n",
       "9               rev_i_independants        revenu_non_salarie_total        500\n",
       "10                  rev_i_locatifs                  revenu_locatif          0\n",
       "11                  rev_i_pensions                pension_retraite          0\n",
       "12          rev_i_salaires_formels                         salaire         68\n",
       "13        rev_i_salaires_informels         revenu_informel_salarie        174\n",
       "14  autres_revenus_du_capital_brut  autres_revenus_du_capital_brut          0\n",
       "15           pension_retraite_brut           pension_retraite_brut          0\n",
       "16             revenu_foncier_brut             revenu_foncier_brut          0\n",
       "17         revenu_non_salarie_brut         revenu_non_salarie_brut          0\n",
       "18                    salaire_brut                    salaire_brut         81\n",
       "19              salaire_super_brut              salaire_super_brut         96"
      ]
     },
     "execution_count": 8,
     "metadata": {},
     "output_type": "execute_result"
    }
   ],
   "source": [
    "revenus = pd.DataFrame(data, columns = [\"harmonized\", \"openfisca\", \"aggregate\"])\n",
    "revenus.round(0).astype({\"aggregate\": int})"
   ]
  },
  {
   "cell_type": "markdown",
   "metadata": {
    "papermill": {
     "duration": 0.017574,
     "end_time": "2020-05-14T11:08:36.361761",
     "exception": false,
     "start_time": "2020-05-14T11:08:36.344187",
     "status": "completed"
    },
    "tags": []
   },
   "source": [
    "### Agregated income variables"
   ]
  },
  {
   "cell_type": "markdown",
   "metadata": {
    "papermill": {
     "duration": 0.018646,
     "end_time": "2020-05-14T11:08:36.398323",
     "exception": false,
     "start_time": "2020-05-14T11:08:36.379677",
     "status": "completed"
    },
    "tags": []
   },
   "source": [
    "#### CEQ agregated income variables"
   ]
  },
  {
   "cell_type": "code",
   "execution_count": 9,
   "metadata": {
    "papermill": {
     "duration": 0.024026,
     "end_time": "2020-05-14T11:08:36.439959",
     "exception": false,
     "start_time": "2020-05-14T11:08:36.415933",
     "status": "completed"
    },
    "tags": []
   },
   "outputs": [],
   "source": [
    "ceq_variables = [\"market_income\", \"market_income_plus_pensions\", \"pensions\", \"contributions_pensions\", \"net_market_income\", \"direct_taxes\", \"other_contributions\", \"contributions_health\", ]"
   ]
  },
  {
   "cell_type": "code",
   "execution_count": 10,
   "metadata": {
    "papermill": {
     "duration": 0.068443,
     "end_time": "2020-05-14T11:08:36.528701",
     "exception": false,
     "start_time": "2020-05-14T11:08:36.460258",
     "status": "completed"
    },
    "tags": []
   },
   "outputs": [
    {
     "data": {
      "text/html": [
       "<div>\n",
       "<style scoped>\n",
       "    .dataframe tbody tr th:only-of-type {\n",
       "        vertical-align: middle;\n",
       "    }\n",
       "\n",
       "    .dataframe tbody tr th {\n",
       "        vertical-align: top;\n",
       "    }\n",
       "\n",
       "    .dataframe thead th {\n",
       "        text-align: right;\n",
       "    }\n",
       "</style>\n",
       "<table border=\"1\" class=\"dataframe\">\n",
       "  <thead>\n",
       "    <tr style=\"text-align: right;\">\n",
       "      <th></th>\n",
       "      <th>aggregate</th>\n",
       "    </tr>\n",
       "  </thead>\n",
       "  <tbody>\n",
       "    <tr>\n",
       "      <th>market_income</th>\n",
       "      <td>2047</td>\n",
       "    </tr>\n",
       "    <tr>\n",
       "      <th>market_income_plus_pensions</th>\n",
       "      <td>2040</td>\n",
       "    </tr>\n",
       "    <tr>\n",
       "      <th>pensions</th>\n",
       "      <td>0</td>\n",
       "    </tr>\n",
       "    <tr>\n",
       "      <th>contributions_pensions</th>\n",
       "      <td>7</td>\n",
       "    </tr>\n",
       "    <tr>\n",
       "      <th>net_market_income</th>\n",
       "      <td>2030</td>\n",
       "    </tr>\n",
       "    <tr>\n",
       "      <th>direct_taxes</th>\n",
       "      <td>7</td>\n",
       "    </tr>\n",
       "    <tr>\n",
       "      <th>other_contributions</th>\n",
       "      <td>7</td>\n",
       "    </tr>\n",
       "    <tr>\n",
       "      <th>contributions_health</th>\n",
       "      <td>3</td>\n",
       "    </tr>\n",
       "  </tbody>\n",
       "</table>\n",
       "</div>"
      ],
      "text/plain": [
       "                             aggregate\n",
       "market_income                     2047\n",
       "market_income_plus_pensions       2040\n",
       "pensions                             0\n",
       "contributions_pensions               7\n",
       "net_market_income                 2030\n",
       "direct_taxes                         7\n",
       "other_contributions                  7\n",
       "contributions_health                 3"
      ]
     },
     "execution_count": 10,
     "metadata": {},
     "output_type": "execute_result"
    }
   ],
   "source": [
    "ceq_aggregates = pd.DataFrame(\n",
    "    index = ceq_variables,\n",
    "    columns = ['aggregate'],\n",
    "    data = [\n",
    "        survey_scenario.compute_aggregate(ceq_variable, period = year) / 1e9 \n",
    "        for ceq_variable in ceq_variables\n",
    "        ]\n",
    "    )\n",
    "ceq_aggregates.round(0).astype({\"aggregate\": int})"
   ]
  },
  {
   "cell_type": "markdown",
   "metadata": {
    "papermill": {
     "duration": 0.046923,
     "end_time": "2020-05-14T11:08:36.623106",
     "exception": false,
     "start_time": "2020-05-14T11:08:36.576183",
     "status": "completed"
    },
    "tags": []
   },
   "source": [
    "#### Direct check"
   ]
  },
  {
   "cell_type": "code",
   "execution_count": 11,
   "metadata": {
    "papermill": {
     "duration": 0.03014,
     "end_time": "2020-05-14T11:08:36.672852",
     "exception": false,
     "start_time": "2020-05-14T11:08:36.642712",
     "status": "completed"
    },
    "tags": []
   },
   "outputs": [],
   "source": [
    "income_components_summed_in_total = list(ceq_by_harmonized_variable.values()) \n",
    "income_components_summed_in_total.remove(\"revenu_non_salarie_total\")\n",
    "income_components_summed_in_total.remove(\"direct_transfers\")\n",
    "income_components_summed_in_total.remove(\"salaire\")\n",
    "income_components_summed_in_total.remove(\"salaire_brut\")\n",
    "income_components_summed_in_total.remove(\"pension_retraite\")\n",
    "income_components_summed_in_total.remove('autres_revenus_du_capital')\n",
    "income_components_summed_in_total.remove('revenu_locatif')\n",
    "income_components_summed_in_total.remove('revenu_non_salarie') \n",
    "\n",
    "total_income = sum(\n",
    "    survey_scenario.compute_aggregate(income_component, period = survey_scenario.year) \n",
    "    for income_component in income_components_summed_in_total\n",
    "    ) \n",
    "total_income = (\n",
    "    total_income \n",
    "    - survey_scenario.compute_aggregate(\"contributions_pensions\", period = survey_scenario.year)\n",
    "    ) / 1e9\n"
   ]
  },
  {
   "cell_type": "code",
   "execution_count": 12,
   "metadata": {
    "papermill": {
     "duration": 0.025586,
     "end_time": "2020-05-14T11:08:36.717529",
     "exception": false,
     "start_time": "2020-05-14T11:08:36.691943",
     "status": "completed"
    },
    "tags": []
   },
   "outputs": [],
   "source": [
    "from numpy.testing import assert_almost_equal\n",
    "assert_almost_equal(ceq_aggregates.loc['market_income_plus_pensions'].values, total_income, decimal = 5) \n",
    "# print('market_income_plus_pensions = {} vs {} = total_income'.format(\n",
    "#         ceq_aggregates.loc['market_income_plus_pensions'].values,\n",
    "#         total_income\n",
    "#         )\n",
    "#     )\n"
   ]
  },
  {
   "cell_type": "markdown",
   "metadata": {
    "papermill": {
     "duration": 0.017915,
     "end_time": "2020-05-14T11:08:36.755794",
     "exception": false,
     "start_time": "2020-05-14T11:08:36.737879",
     "status": "completed"
    },
    "tags": []
   },
   "source": [
    "#### Wages by public/private sector"
   ]
  },
  {
   "cell_type": "code",
   "execution_count": 13,
   "metadata": {
    "papermill": {
     "duration": 0.028001,
     "end_time": "2020-05-14T11:08:36.802163",
     "exception": false,
     "start_time": "2020-05-14T11:08:36.774162",
     "status": "completed"
    },
    "tags": []
   },
   "outputs": [
    {
     "data": {
      "text/plain": [
       "'Count : 77306.0'"
      ]
     },
     "execution_count": 13,
     "metadata": {},
     "output_type": "execute_result"
    }
   ],
   "source": [
    "\"Count : {}\".format(round(\n",
    "    survey_scenario.compute_aggregate(\"secteur_public\", period = year)\n",
    "    ))"
   ]
  },
  {
   "cell_type": "code",
   "execution_count": 14,
   "metadata": {
    "papermill": {
     "duration": 0.079265,
     "end_time": "2020-05-14T11:08:36.902061",
     "exception": false,
     "start_time": "2020-05-14T11:08:36.822796",
     "status": "completed"
    },
    "tags": []
   },
   "outputs": [
    {
     "data": {
      "text/html": [
       "<div>\n",
       "<style scoped>\n",
       "    .dataframe tbody tr th:only-of-type {\n",
       "        vertical-align: middle;\n",
       "    }\n",
       "\n",
       "    .dataframe tbody tr th {\n",
       "        vertical-align: top;\n",
       "    }\n",
       "\n",
       "    .dataframe thead th {\n",
       "        text-align: right;\n",
       "    }\n",
       "</style>\n",
       "<table border=\"1\" class=\"dataframe\">\n",
       "  <thead>\n",
       "    <tr style=\"text-align: right;\">\n",
       "      <th>secteur_public</th>\n",
       "      <th>False</th>\n",
       "      <th>True</th>\n",
       "    </tr>\n",
       "  </thead>\n",
       "  <tbody>\n",
       "    <tr>\n",
       "      <th>salaire</th>\n",
       "      <td>40</td>\n",
       "      <td>28</td>\n",
       "    </tr>\n",
       "    <tr>\n",
       "      <th>salaire_brut</th>\n",
       "      <td>48</td>\n",
       "      <td>33</td>\n",
       "    </tr>\n",
       "    <tr>\n",
       "      <th>salaire_super_brut</th>\n",
       "      <td>57</td>\n",
       "      <td>39</td>\n",
       "    </tr>\n",
       "  </tbody>\n",
       "</table>\n",
       "</div>"
      ],
      "text/plain": [
       "secteur_public      False  True \n",
       "salaire                40     28\n",
       "salaire_brut           48     33\n",
       "salaire_super_brut     57     39"
      ]
     },
     "execution_count": 14,
     "metadata": {},
     "output_type": "execute_result"
    }
   ],
   "source": [
    "(\n",
    "    survey_scenario.compute_pivot_table(\n",
    "        columns = [\"secteur_public\"], \n",
    "        values = [\"salaire\", \"salaire_brut\", \"salaire_super_brut\"],\n",
    "        aggfunc = \"sum\",\n",
    "        period = year,\n",
    "        concat_axis = 0,\n",
    "        ) / 1e9\n",
    "    ).round(0).astype(int)"
   ]
  },
  {
   "cell_type": "markdown",
   "metadata": {
    "papermill": {
     "duration": 0.018274,
     "end_time": "2020-05-14T11:08:36.940704",
     "exception": false,
     "start_time": "2020-05-14T11:08:36.922430",
     "status": "completed"
    },
    "tags": []
   },
   "source": [
    "## Education variables"
   ]
  },
  {
   "cell_type": "markdown",
   "metadata": {
    "papermill": {
     "duration": 0.018764,
     "end_time": "2020-05-14T11:08:36.978400",
     "exception": false,
     "start_time": "2020-05-14T11:08:36.959636",
     "status": "completed"
    },
    "tags": []
   },
   "source": [
    "### Counts (in millions)"
   ]
  },
  {
   "cell_type": "code",
   "execution_count": 15,
   "metadata": {
    "papermill": {
     "duration": 0.049509,
     "end_time": "2020-05-14T11:08:37.046452",
     "exception": false,
     "start_time": "2020-05-14T11:08:36.996943",
     "status": "completed"
    },
    "tags": []
   },
   "outputs": [
    {
     "name": "stdout",
     "output_type": "stream",
     "text": [
      "eleve_enseignement_niveau  -1.0   0.0   1.0   2.0   3.0\n",
      "eleve_enseignement_public                              \n",
      "1.0                        12.4  0.11  1.77  1.27  0.12\n"
     ]
    }
   ],
   "source": [
    "print((survey_scenario.compute_pivot_table(columns = ['eleve_enseignement_niveau'], index = ['eleve_enseignement_public'], aggfunc = 'count', period = survey_scenario.year) / 1e6).round(2))"
   ]
  },
  {
   "cell_type": "code",
   "execution_count": 16,
   "metadata": {
    "papermill": {
     "duration": 0.037324,
     "end_time": "2020-05-14T11:08:37.104881",
     "exception": false,
     "start_time": "2020-05-14T11:08:37.067557",
     "status": "completed"
    },
    "tags": []
   },
   "outputs": [
    {
     "name": "stdout",
     "output_type": "stream",
     "text": [
      "In kind education tranfers\n",
      "pre_school_person: 0 billions FCFA\n",
      "pre_school: 0 billions FCFA\n",
      "primary_education_person: 119 billions FCFA\n",
      "primary_education: 119 billions FCFA\n",
      "secondary_education_person: 179 billions FCFA\n",
      "secondary_education: 179 billions FCFA\n",
      "tertiary_education_person: 16 billions FCFA\n",
      "tertiary_education: 16 billions FCFA\n",
      "education_net_transfers: 314 billions FCFA\n"
     ]
    }
   ],
   "source": [
    "variables = [\n",
    "    'pre_school_person',\n",
    "    'pre_school',\n",
    "    'primary_education_person',\n",
    "    'primary_education',\n",
    "    'secondary_education_person',\n",
    "    'secondary_education',\n",
    "    'tertiary_education_person',\n",
    "    'tertiary_education',\n",
    "    'education_net_transfers',\n",
    "    ]\n",
    "print(\"In kind education tranfers\")\n",
    "for variable in variables:\n",
    "    print(\n",
    "        \"{variable}: {aggregate} billions FCFA\".format(\n",
    "            variable = variable,\n",
    "            aggregate = int(round(survey_scenario.compute_aggregate(variable, period = survey_scenario.year) / 1e9))\n",
    "            )\n",
    "        )"
   ]
  },
  {
   "cell_type": "markdown",
   "metadata": {
    "papermill": {
     "duration": 0.01886,
     "end_time": "2020-05-14T11:08:37.146748",
     "exception": false,
     "start_time": "2020-05-14T11:08:37.127888",
     "status": "completed"
    },
    "tags": []
   },
   "source": [
    "## Tax variables"
   ]
  },
  {
   "cell_type": "markdown",
   "metadata": {
    "papermill": {
     "duration": 0.018856,
     "end_time": "2020-05-14T11:08:37.184616",
     "exception": false,
     "start_time": "2020-05-14T11:08:37.165760",
     "status": "completed"
    },
    "tags": []
   },
   "source": [
    "### Indirect tax variables"
   ]
  },
  {
   "cell_type": "code",
   "execution_count": 17,
   "metadata": {
    "papermill": {
     "duration": 0.028177,
     "end_time": "2020-05-14T11:08:37.231908",
     "exception": false,
     "start_time": "2020-05-14T11:08:37.203731",
     "status": "completed"
    },
    "tags": []
   },
   "outputs": [
    {
     "data": {
      "text/plain": [
       "['depenses_ht_tva_exonere',\n",
       " 'depenses_ht_tva_taux_normal',\n",
       " 'depenses_ht_tva_taux_reduit',\n",
       " 'tva_taux_normal',\n",
       " 'tva_taux_reduit',\n",
       " 'tva',\n",
       " 'depenses_ht_hd_sd_droits_douane_biens_specifiques',\n",
       " 'depenses_ht_hd_sd_droits_douane_consommation_finale',\n",
       " 'depenses_ht_hd_sd_droits_douane_consommation_intermediaire',\n",
       " 'depenses_ht_hd_sd_droits_douane_equipements',\n",
       " 'depenses_ht_hd_sd_droits_douane_exonere',\n",
       " 'droits_douane_biens_specifiques',\n",
       " 'droits_douane_consommation_finale',\n",
       " 'droits_douane_consommation_intermediaire',\n",
       " 'droits_douane_equipements',\n",
       " 'droits_douane']"
      ]
     },
     "execution_count": 17,
     "metadata": {},
     "output_type": "execute_result"
    }
   ],
   "source": [
    "indirect_tax_variables = [\n",
    "    variable \n",
    "    for tax in indirect_tax_by_country[country]\n",
    "    for variable in survey_scenario.tax_benefit_system.variables.keys() \n",
    "    if tax in variable \n",
    "    ]\n",
    "indirect_tax_variables"
   ]
  },
  {
   "cell_type": "code",
   "execution_count": 18,
   "metadata": {
    "papermill": {
     "duration": 0.061111,
     "end_time": "2020-05-14T11:08:37.314000",
     "exception": false,
     "start_time": "2020-05-14T11:08:37.252889",
     "status": "completed"
    },
    "tags": []
   },
   "outputs": [
    {
     "data": {
      "text/html": [
       "<div>\n",
       "<style scoped>\n",
       "    .dataframe tbody tr th:only-of-type {\n",
       "        vertical-align: middle;\n",
       "    }\n",
       "\n",
       "    .dataframe tbody tr th {\n",
       "        vertical-align: top;\n",
       "    }\n",
       "\n",
       "    .dataframe thead th {\n",
       "        text-align: right;\n",
       "    }\n",
       "</style>\n",
       "<table border=\"1\" class=\"dataframe\">\n",
       "  <thead>\n",
       "    <tr style=\"text-align: right;\">\n",
       "      <th></th>\n",
       "      <th>aggregate</th>\n",
       "    </tr>\n",
       "  </thead>\n",
       "  <tbody>\n",
       "    <tr>\n",
       "      <th>depenses_ht_tva_exonere</th>\n",
       "      <td>1226</td>\n",
       "    </tr>\n",
       "    <tr>\n",
       "      <th>depenses_ht_tva_taux_normal</th>\n",
       "      <td>1308</td>\n",
       "    </tr>\n",
       "    <tr>\n",
       "      <th>depenses_ht_tva_taux_reduit</th>\n",
       "      <td>0</td>\n",
       "    </tr>\n",
       "    <tr>\n",
       "      <th>tva_taux_normal</th>\n",
       "      <td>235</td>\n",
       "    </tr>\n",
       "    <tr>\n",
       "      <th>tva_taux_reduit</th>\n",
       "      <td>0</td>\n",
       "    </tr>\n",
       "    <tr>\n",
       "      <th>tva</th>\n",
       "      <td>235</td>\n",
       "    </tr>\n",
       "    <tr>\n",
       "      <th>depenses_ht_hd_sd_droits_douane_biens_specifiques</th>\n",
       "      <td>3</td>\n",
       "    </tr>\n",
       "    <tr>\n",
       "      <th>depenses_ht_hd_sd_droits_douane_consommation_finale</th>\n",
       "      <td>113</td>\n",
       "    </tr>\n",
       "    <tr>\n",
       "      <th>depenses_ht_hd_sd_droits_douane_consommation_intermediaire</th>\n",
       "      <td>79</td>\n",
       "    </tr>\n",
       "    <tr>\n",
       "      <th>depenses_ht_hd_sd_droits_douane_equipements</th>\n",
       "      <td>6</td>\n",
       "    </tr>\n",
       "    <tr>\n",
       "      <th>depenses_ht_hd_sd_droits_douane_exonere</th>\n",
       "      <td>186</td>\n",
       "    </tr>\n",
       "    <tr>\n",
       "      <th>droits_douane_biens_specifiques</th>\n",
       "      <td>1</td>\n",
       "    </tr>\n",
       "    <tr>\n",
       "      <th>droits_douane_consommation_finale</th>\n",
       "      <td>23</td>\n",
       "    </tr>\n",
       "    <tr>\n",
       "      <th>droits_douane_consommation_intermediaire</th>\n",
       "      <td>8</td>\n",
       "    </tr>\n",
       "    <tr>\n",
       "      <th>droits_douane_equipements</th>\n",
       "      <td>0</td>\n",
       "    </tr>\n",
       "    <tr>\n",
       "      <th>droits_douane</th>\n",
       "      <td>32</td>\n",
       "    </tr>\n",
       "  </tbody>\n",
       "</table>\n",
       "</div>"
      ],
      "text/plain": [
       "                                                    aggregate\n",
       "depenses_ht_tva_exonere                                  1226\n",
       "depenses_ht_tva_taux_normal                              1308\n",
       "depenses_ht_tva_taux_reduit                                 0\n",
       "tva_taux_normal                                           235\n",
       "tva_taux_reduit                                             0\n",
       "tva                                                       235\n",
       "depenses_ht_hd_sd_droits_douane_biens_specifiques           3\n",
       "depenses_ht_hd_sd_droits_douane_consommation_fi...        113\n",
       "depenses_ht_hd_sd_droits_douane_consommation_in...         79\n",
       "depenses_ht_hd_sd_droits_douane_equipements                 6\n",
       "depenses_ht_hd_sd_droits_douane_exonere                   186\n",
       "droits_douane_biens_specifiques                             1\n",
       "droits_douane_consommation_finale                          23\n",
       "droits_douane_consommation_intermediaire                    8\n",
       "droits_douane_equipements                                   0\n",
       "droits_douane                                              32"
      ]
     },
     "execution_count": 18,
     "metadata": {},
     "output_type": "execute_result"
    }
   ],
   "source": [
    "taxes_and_tariffs = pd.DataFrame(\n",
    "    index = indirect_tax_variables,\n",
    "    columns = ['aggregate'],\n",
    "    data = [\n",
    "        survey_scenario.compute_aggregate(variable, period = year) / 1e9 \n",
    "        for variable in indirect_tax_variables\n",
    "        ]\n",
    "    )\n",
    "taxes_and_tariffs.round().astype({\"aggregate\": int})"
   ]
  },
  {
   "cell_type": "markdown",
   "metadata": {
    "papermill": {
     "duration": 0.019427,
     "end_time": "2020-05-14T11:08:37.356721",
     "exception": false,
     "start_time": "2020-05-14T11:08:37.337294",
     "status": "completed"
    },
    "tags": []
   },
   "source": [
    "### Verify consumption"
   ]
  },
  {
   "cell_type": "code",
   "execution_count": 19,
   "metadata": {
    "papermill": {
     "duration": 0.029632,
     "end_time": "2020-05-14T11:08:37.406648",
     "exception": false,
     "start_time": "2020-05-14T11:08:37.377016",
     "status": "completed"
    },
    "tags": []
   },
   "outputs": [
    {
     "data": {
      "text/plain": [
       "2769.485270225767"
      ]
     },
     "execution_count": 19,
     "metadata": {},
     "output_type": "execute_result"
    }
   ],
   "source": [
    "consumption = survey_scenario.compute_aggregate('consumption', period = year) / 1e9\n",
    "consumption"
   ]
  },
  {
   "cell_type": "code",
   "execution_count": 20,
   "metadata": {
    "papermill": {
     "duration": 0.028532,
     "end_time": "2020-05-14T11:08:37.457981",
     "exception": false,
     "start_time": "2020-05-14T11:08:37.429449",
     "status": "completed"
    },
    "tags": []
   },
   "outputs": [
    {
     "data": {
      "text/plain": [
       "2769.485357566826"
      ]
     },
     "execution_count": 20,
     "metadata": {},
     "output_type": "execute_result"
    }
   ],
   "source": [
    "# assert consumption == \n",
    "sum(taxes_and_tariffs['aggregate'][\n",
    "    taxes_and_tariffs.index.str.contains('tva_')\n",
    "    ])"
   ]
  },
  {
   "cell_type": "code",
   "execution_count": 21,
   "metadata": {
    "papermill": {
     "duration": 0.037996,
     "end_time": "2020-05-14T11:08:37.519229",
     "exception": false,
     "start_time": "2020-05-14T11:08:37.481233",
     "status": "completed"
    },
    "tags": []
   },
   "outputs": [
    {
     "data": {
      "text/plain": [
       "2769.4853838145486"
      ]
     },
     "execution_count": 21,
     "metadata": {},
     "output_type": "execute_result"
    }
   ],
   "source": [
    "# assert consumption == \n",
    "(\n",
    "    sum(\n",
    "        survey_scenario.compute_aggregate(variable, period = year)\n",
    "        for variable in survey_scenario.tax_benefit_system.variables\n",
    "        if \"depenses_ht_hd_poste\" in variable \n",
    "        ) \n",
    "    + survey_scenario.compute_aggregate(\"droits_douane\", period = year)\n",
    "    + survey_scenario.compute_aggregate(\"tva\", period = year)\n",
    "    ) / 1e9"
   ]
  },
  {
   "cell_type": "markdown",
   "metadata": {
    "papermill": {
     "duration": 0.021131,
     "end_time": "2020-05-14T11:08:37.563161",
     "exception": false,
     "start_time": "2020-05-14T11:08:37.542030",
     "status": "completed"
    },
    "tags": []
   },
   "source": [
    "# Inflate incomes   "
   ]
  },
  {
   "cell_type": "markdown",
   "metadata": {
    "papermill": {
     "duration": 0.019882,
     "end_time": "2020-05-14T11:08:37.604069",
     "exception": false,
     "start_time": "2020-05-14T11:08:37.584187",
     "status": "completed"
    },
    "tags": []
   },
   "source": [
    "## Income variables"
   ]
  },
  {
   "cell_type": "code",
   "execution_count": 22,
   "metadata": {
    "papermill": {
     "duration": 0.02715,
     "end_time": "2020-05-14T11:08:37.652444",
     "exception": false,
     "start_time": "2020-05-14T11:08:37.625294",
     "status": "completed"
    },
    "tags": []
   },
   "outputs": [],
   "source": [
    "income_variables = [\n",
    "    'autoconsumption',\n",
    "    'other_income',\n",
    "    'gifts_sales_durables',\n",
    "    'imputed_rent',\n",
    "    'revenu_agricole',\n",
    "    'autres_revenus_du_capital',\n",
    "    'revenu_informel_non_salarie',\n",
    "    'revenu_non_salarie',\n",
    "    'revenu_locatif',\n",
    "    'pension_retraite',\n",
    "    'salaire_super_brut',\n",
    "    ]"
   ]
  },
  {
   "cell_type": "code",
   "execution_count": 23,
   "metadata": {
    "papermill": {
     "duration": 0.031963,
     "end_time": "2020-05-14T11:08:37.705570",
     "exception": false,
     "start_time": "2020-05-14T11:08:37.673607",
     "status": "completed"
    },
    "tags": []
   },
   "outputs": [
    {
     "data": {
      "text/plain": [
       "1873.7572535400827"
      ]
     },
     "execution_count": 23,
     "metadata": {},
     "output_type": "execute_result"
    }
   ],
   "source": [
    "sum(\n",
    "    survey_scenario.compute_aggregate(income_variable, period = year)\n",
    "    for income_variable in income_variables\n",
    "    ) / 1e9"
   ]
  },
  {
   "cell_type": "code",
   "execution_count": 24,
   "metadata": {
    "papermill": {
     "duration": 0.026435,
     "end_time": "2020-05-14T11:08:37.755667",
     "exception": false,
     "start_time": "2020-05-14T11:08:37.729232",
     "status": "completed"
    },
    "tags": []
   },
   "outputs": [],
   "source": [
    "# inflated_survey_scenario = build_ceq_survey_scenario(\n",
    "#     legislation_country = country, \n",
    "#     year = year,\n",
    "#     inflate = True,\n",
    "#     income_variables = income_variables\n",
    "#     )"
   ]
  },
  {
   "cell_type": "code",
   "execution_count": 25,
   "metadata": {
    "papermill": {
     "duration": 0.026698,
     "end_time": "2020-05-14T11:08:37.805109",
     "exception": false,
     "start_time": "2020-05-14T11:08:37.778411",
     "status": "completed"
    },
    "tags": []
   },
   "outputs": [],
   "source": [
    "# sum(\n",
    "#     inflated_survey_scenario.compute_aggregate(income_variable, period = year)\n",
    "#     for income_variable in income_variables\n",
    "#     ) / 1e9"
   ]
  },
  {
   "cell_type": "markdown",
   "metadata": {
    "papermill": {
     "duration": 0.020686,
     "end_time": "2020-05-14T11:08:37.848847",
     "exception": false,
     "start_time": "2020-05-14T11:08:37.828161",
     "status": "completed"
    },
    "tags": []
   },
   "source": [
    "# Indicators"
   ]
  },
  {
   "cell_type": "code",
   "execution_count": 26,
   "metadata": {
    "papermill": {
     "duration": 0.131748,
     "end_time": "2020-05-14T11:08:38.001785",
     "exception": false,
     "start_time": "2020-05-14T11:08:37.870037",
     "status": "completed"
    },
    "tags": []
   },
   "outputs": [
    {
     "data": {
      "text/html": [
       "<div>\n",
       "<style scoped>\n",
       "    .dataframe tbody tr th:only-of-type {\n",
       "        vertical-align: middle;\n",
       "    }\n",
       "\n",
       "    .dataframe tbody tr th {\n",
       "        vertical-align: top;\n",
       "    }\n",
       "\n",
       "    .dataframe thead th {\n",
       "        text-align: right;\n",
       "    }\n",
       "</style>\n",
       "<table border=\"1\" class=\"dataframe\">\n",
       "  <thead>\n",
       "    <tr style=\"text-align: right;\">\n",
       "      <th></th>\n",
       "      <th>market_income</th>\n",
       "      <th>market_income_plus_pensions</th>\n",
       "      <th>gross_income</th>\n",
       "      <th>disposable_income</th>\n",
       "      <th>consumable_income</th>\n",
       "      <th>final_income</th>\n",
       "    </tr>\n",
       "  </thead>\n",
       "  <tbody>\n",
       "    <tr>\n",
       "      <th>Gini</th>\n",
       "      <td>0.44</td>\n",
       "      <td>0.44</td>\n",
       "      <td>0.44</td>\n",
       "      <td>0.44</td>\n",
       "      <td>0.51</td>\n",
       "      <td>0.43</td>\n",
       "    </tr>\n",
       "    <tr>\n",
       "      <th>Bottom 40 %</th>\n",
       "      <td>0.14</td>\n",
       "      <td>0.14</td>\n",
       "      <td>0.14</td>\n",
       "      <td>0.14</td>\n",
       "      <td>0.10</td>\n",
       "      <td>0.14</td>\n",
       "    </tr>\n",
       "    <tr>\n",
       "      <th>Top 10 %</th>\n",
       "      <td>0.33</td>\n",
       "      <td>0.32</td>\n",
       "      <td>0.32</td>\n",
       "      <td>0.32</td>\n",
       "      <td>0.35</td>\n",
       "      <td>0.31</td>\n",
       "    </tr>\n",
       "  </tbody>\n",
       "</table>\n",
       "</div>"
      ],
      "text/plain": [
       "             market_income  market_income_plus_pensions  gross_income  \\\n",
       "Gini                  0.44                         0.44          0.44   \n",
       "Bottom 40 %           0.14                         0.14          0.14   \n",
       "Top 10 %              0.33                         0.32          0.32   \n",
       "\n",
       "             disposable_income  consumable_income  final_income  \n",
       "Gini                      0.44               0.51          0.43  \n",
       "Bottom 40 %               0.14               0.10          0.14  \n",
       "Top 10 %                  0.32               0.35          0.31  "
      ]
     },
     "execution_count": 26,
     "metadata": {},
     "output_type": "execute_result"
    }
   ],
   "source": [
    "from openfisca_survey_manager.statshelpers import gini, bottom_share, top_share, lorenz\n",
    "variables = [\n",
    "    \"market_income\", \n",
    "    \"market_income_plus_pensions\",\n",
    "    \"gross_income\",\n",
    "    \"disposable_income\",\n",
    "    \"consumable_income\", \n",
    "    \"final_income\",\n",
    "    ]\n",
    "variable = \"market_income\"\n",
    "nb_persons = survey_scenario.calculate_variable(\"number_of_people_per_household\", period = year)\n",
    "weights = survey_scenario.calculate_variable(\"household_weight\", period = year) * nb_persons\n",
    "BOTTOM_SHARE = .4\n",
    "TOP_SHARE = .1\n",
    "pd.DataFrame.from_dict(\n",
    "    dict([\n",
    "        (\n",
    "            variable, \n",
    "            {\n",
    "                \"Gini\": gini(survey_scenario.calculate_variable(variable, period = year) / nb_persons, weights),\n",
    "                \"Bottom 40 %\": bottom_share(survey_scenario.calculate_variable(variable, period = year) / nb_persons, BOTTOM_SHARE, weights = weights),\n",
    "                \"Top 10 %\": top_share(survey_scenario.calculate_variable(variable, period = year) / nb_persons, TOP_SHARE, weights = weights),\n",
    "                }\n",
    "            ) \n",
    "        for variable in variables\n",
    "        ])\n",
    "    ).round(2)"
   ]
  },
  {
   "cell_type": "code",
   "execution_count": 27,
   "metadata": {
    "papermill": {
     "duration": 0.030888,
     "end_time": "2020-05-14T11:08:38.054901",
     "exception": false,
     "start_time": "2020-05-14T11:08:38.024013",
     "status": "completed"
    },
    "tags": []
   },
   "outputs": [
    {
     "data": {
      "text/plain": [
       "267.3256997987509"
      ]
     },
     "execution_count": 27,
     "metadata": {},
     "output_type": "execute_result"
    }
   ],
   "source": [
    "survey_scenario.compute_aggregate(\"impots_indirects\", period = year) / 1e9"
   ]
  },
  {
   "cell_type": "code",
   "execution_count": 28,
   "metadata": {
    "papermill": {
     "duration": 0.028991,
     "end_time": "2020-05-14T11:08:38.105991",
     "exception": false,
     "start_time": "2020-05-14T11:08:38.077000",
     "status": "completed"
    },
    "tags": []
   },
   "outputs": [
    {
     "data": {
      "text/plain": [
       "7.426147500799683"
      ]
     },
     "execution_count": 28,
     "metadata": {},
     "output_type": "execute_result"
    }
   ],
   "source": [
    "survey_scenario.compute_aggregate(\"direct_taxes\", period = year) / 1e9"
   ]
  },
  {
   "cell_type": "code",
   "execution_count": 29,
   "metadata": {
    "papermill": {
     "duration": 0.029253,
     "end_time": "2020-05-14T11:08:38.159061",
     "exception": false,
     "start_time": "2020-05-14T11:08:38.129808",
     "status": "completed"
    },
    "tags": []
   },
   "outputs": [
    {
     "data": {
      "text/plain": [
       "7.426147500799683"
      ]
     },
     "execution_count": 29,
     "metadata": {},
     "output_type": "execute_result"
    }
   ],
   "source": [
    "survey_scenario.compute_aggregate(\"personal_income_tax\", period = year) / 1e9"
   ]
  },
  {
   "cell_type": "code",
   "execution_count": 30,
   "metadata": {
    "papermill": {
     "duration": 0.02761,
     "end_time": "2020-05-14T11:08:38.210616",
     "exception": false,
     "start_time": "2020-05-14T11:08:38.183006",
     "status": "completed"
    },
    "tags": []
   },
   "outputs": [],
   "source": [
    "from openfisca_ceq import list_variables_from_directory"
   ]
  },
  {
   "cell_type": "code",
   "execution_count": 31,
   "metadata": {
    "papermill": {
     "duration": 0.036417,
     "end_time": "2020-05-14T11:08:38.269791",
     "exception": false,
     "start_time": "2020-05-14T11:08:38.233374",
     "status": "completed"
    },
    "tags": []
   },
   "outputs": [
    {
     "data": {
      "text/plain": [
       "['agricultural_inputs_subsidies',\n",
       " 'alimony',\n",
       " 'corporate_income_tax',\n",
       " 'electricity_subsidies',\n",
       " 'employee_contributions_health',\n",
       " 'employee_other_contributions',\n",
       " 'excise_taxes',\n",
       " 'food_subsidies',\n",
       " 'fuel_subsidies',\n",
       " 'indirect_subsidies',\n",
       " 'other_taxes',\n",
       " 'payroll_tax',\n",
       " 'pensions',\n",
       " 'property_tax',\n",
       " 'sales_tax',\n",
       " 'self_employed_contributions_health',\n",
       " 'self_employed_contributions_pensions',\n",
       " 'self_employed_other_contributions']"
      ]
     },
     "execution_count": 31,
     "metadata": {},
     "output_type": "execute_result"
    }
   ],
   "source": [
    "ceq_variables = sorted(list_variables_from_directory(survey_scenario.tax_benefit_system))\n",
    "[\n",
    "    ceq_variable\n",
    "    for ceq_variable in ceq_variables\n",
    "    if survey_scenario.compute_aggregate(ceq_variable, period = year) == 0\n",
    "    ]"
   ]
  },
  {
   "cell_type": "code",
   "execution_count": 32,
   "metadata": {
    "papermill": {
     "duration": 0.198584,
     "end_time": "2020-05-14T11:08:38.492579",
     "exception": false,
     "start_time": "2020-05-14T11:08:38.293995",
     "status": "completed"
    },
    "tags": []
   },
   "outputs": [
    {
     "data": {
      "text/plain": [
       "[<matplotlib.lines.Line2D at 0x7f1125527e80>]"
      ]
     },
     "execution_count": 32,
     "metadata": {},
     "output_type": "execute_result"
    },
    {
     "data": {
      "image/png": "[encoded data removed]",
      "text/plain": [
       "<Figure size 432x288 with 1 Axes>"
      ]
     },
     "metadata": {
      "needs_background": "light"
     },
     "output_type": "display_data"
    }
   ],
   "source": [
    "variable = \"market_income\"\n",
    "y, x = lorenz(survey_scenario.calculate_variable(variable, period = year), weights = weights)\n",
    "plt.plot(x, y)"
   ]
  },
  {
   "cell_type": "code",
   "execution_count": 33,
   "metadata": {
    "papermill": {
     "duration": 0.032347,
     "end_time": "2020-05-14T11:08:38.550771",
     "exception": false,
     "start_time": "2020-05-14T11:08:38.518424",
     "status": "completed"
    },
    "tags": []
   },
   "outputs": [
    {
     "data": {
      "text/plain": [
       "0.0"
      ]
     },
     "execution_count": 33,
     "metadata": {},
     "output_type": "execute_result"
    }
   ],
   "source": [
    "survey_scenario.compute_aggregate('direct_transfers', period = year) / 1e9"
   ]
  },
  {
   "cell_type": "code",
   "execution_count": 34,
   "metadata": {
    "papermill": {
     "duration": 0.030384,
     "end_time": "2020-05-14T11:08:38.607078",
     "exception": false,
     "start_time": "2020-05-14T11:08:38.576694",
     "status": "completed"
    },
    "tags": []
   },
   "outputs": [
    {
     "data": {
      "text/plain": [
       "['agricultural_inputs_subsidies',\n",
       " 'alimony',\n",
       " 'all_income_excluding_transfers',\n",
       " 'autoconsumption',\n",
       " 'consumable_income',\n",
       " 'contributions_health',\n",
       " 'contributions_pensions',\n",
       " 'corporate_income_tax',\n",
       " 'customs_duties',\n",
       " 'direct_taxes',\n",
       " 'disposable_income',\n",
       " 'electricity_subsidies',\n",
       " 'employee_contributions_health',\n",
       " 'employee_contributions_pensions',\n",
       " 'employee_other_contributions',\n",
       " 'employer_contributions_health',\n",
       " 'employer_contributions_pensions',\n",
       " 'employer_other_contributions',\n",
       " 'excise_taxes',\n",
       " 'final_income',\n",
       " 'food_subsidies',\n",
       " 'fuel_subsidies',\n",
       " 'gifts_sales_durables',\n",
       " 'gross_income',\n",
       " 'imputed_rent',\n",
       " 'indirect_subsidies',\n",
       " 'indirect_taxes',\n",
       " 'market_income',\n",
       " 'market_income_plus_pensions',\n",
       " 'net_market_income',\n",
       " 'nontaxable_income',\n",
       " 'other_contributions',\n",
       " 'other_income',\n",
       " 'other_taxes',\n",
       " 'payroll_tax',\n",
       " 'pensions',\n",
       " 'personal_income_tax',\n",
       " 'property_tax',\n",
       " 'sales_tax',\n",
       " 'self_employed_contributions_health',\n",
       " 'self_employed_contributions_pensions',\n",
       " 'self_employed_other_contributions',\n",
       " 'taxable_income',\n",
       " 'value_added_tax']"
      ]
     },
     "execution_count": 34,
     "metadata": {},
     "output_type": "execute_result"
    }
   ],
   "source": [
    "ceq_variables"
   ]
  },
  {
   "cell_type": "code",
   "execution_count": null,
   "metadata": {
    "papermill": {
     "duration": 0.023165,
     "end_time": "2020-05-14T11:08:38.654682",
     "exception": false,
     "start_time": "2020-05-14T11:08:38.631517",
     "status": "completed"
    },
    "tags": []
   },
   "outputs": [],
   "source": []
  }
 ],
 "metadata": {
  "kernelspec": {
   "display_name": "Python 3",
   "language": "python",
   "name": "python3"
  },
  "language_info": {
   "codemirror_mode": {
    "name": "ipython",
    "version": 3
   },
   "file_extension": ".py",
   "mimetype": "text/x-python",
   "name": "python",
   "nbconvert_exporter": "python",
   "pygments_lexer": "ipython3",
   "version": "3.7.3"
  },
  "papermill": {
   "duration": 10.125745,
   "end_time": "2020-05-14T11:08:38.681523",
   "environment_variables": {},
   "exception": null,
   "input_path": "notebooks/test.ipynb",
   "output_path": "notebooks/mali.ipynb",
   "parameters": {
    "country": "mali"
   },
   "start_time": "2020-05-14T11:08:28.555778",
   "version": "2.0.0"
  }
 },
 "nbformat": 4,
 "nbformat_minor": 4
}