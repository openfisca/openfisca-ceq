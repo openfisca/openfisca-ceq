{
 "cells": [
  {
   "cell_type": "code",
   "execution_count": 1,
   "metadata": {},
   "outputs": [],
   "source": [
    "# !pip install -U git+https://github.com/openfisca/openfisca-ceq.git@master#egg=OpenFisca-CEQ\n",
    "# !pip install -U git+https://github.com/openfisca/openfisca-senegal.git@ceq#egg=OpenFisca-Senegal\n",
    "# !pip install -U git+https://github.com/openfisca/openfisca-mali.git@master#egg=OpenFisca-Mali\n",
    "# !pip install -U git+https://github.com/openfisca/openfisca-cote-d-ivoire.git@master#egg=OpenFisca-COTE-D-IVOIRE"
   ]
  },
  {
   "cell_type": "code",
   "execution_count": 2,
   "metadata": {},
   "outputs": [],
   "source": [
    "from matplotlib import pyplot as plt\n",
    "%matplotlib inline\n",
    "import numpy as np\n",
    "import pandas as pd\n",
    "from openfisca_ceq.tools.survey_scenario import build_ceq_survey_scenario\n",
    "from openfisca_ceq.tools.indirect_taxation.tax_benefit_system_indirect_taxation_completion import indirect_tax_by_country\n",
    "from openfisca_ceq.tools.data import year_by_country\n",
    "from openfisca_ceq.tools.data.tax_targets import read_tax_target\n",
    "from openfisca_ceq.tools.results.inequality import inequality_table, incidence_table, concentration_share, taxpayers_share\n",
    "from openfisca_ceq.tools.data_ceq_correspondence import (\n",
    "    ceq_input_by_harmonized_variable,\n",
    "    ceq_intermediate_by_harmonized_variable,\n",
    "    non_ceq_input_by_harmonized_variable,\n",
    "    )\n",
    "from openfisca_ceq.tools.tax_benefit_system_ceq_completion import labor_type_by_index"
   ]
  },
  {
   "cell_type": "code",
   "execution_count": 3,
   "metadata": {},
   "outputs": [],
   "source": [
    "ceq_by_harmonized_variable = dict()\n",
    "ceq_by_harmonized_variable.update(ceq_input_by_harmonized_variable)\n",
    "ceq_by_harmonized_variable.update(ceq_intermediate_by_harmonized_variable)\n",
    "ceq_by_harmonized_variable.update(non_ceq_input_by_harmonized_variable)\n",
    "ceq_by_harmonized_variable['autres_revenus_du_capital_brut'] = 'autres_revenus_du_capital_brut'\n",
    "ceq_by_harmonized_variable['pension_retraite_brut'] = 'pension_retraite_brut'\n",
    "ceq_by_harmonized_variable['revenu_foncier_brut'] = 'revenu_foncier_brut'\n",
    "ceq_by_harmonized_variable['revenu_non_salarie_brut'] = 'revenu_non_salarie_brut' \n",
    "ceq_by_harmonized_variable['salaire_brut'] = 'salaire_brut'\n",
    "ceq_by_harmonized_variable['salaire_super_brut'] = 'salaire_super_brut'\n"
   ]
  },
  {
   "cell_type": "code",
   "execution_count": 4,
   "metadata": {},
   "outputs": [],
   "source": [
    "def income_table(survey_scenario, inflated_survey_scenario):\n",
    "    data = [\n",
    "        (\n",
    "            harmonized_variable, \n",
    "            openfisca_variable, \n",
    "            survey_scenario.compute_aggregate(openfisca_variable, period = year) / 1e9,\n",
    "            inflated_survey_scenario.compute_aggregate(openfisca_variable, period = year) / 1e9,\n",
    "            ) \n",
    "        for harmonized_variable, openfisca_variable in ceq_by_harmonized_variable.items()\n",
    "        ]\n",
    "    revenus = pd.DataFrame(data, columns = [\"harmonized\", \"openfisca\", \"aggregate\", \"inflated aggregate\"])\n",
    "    \n",
    "    return revenus.round(0).astype({\"aggregate\": int, \"inflated aggregate\": int})"
   ]
  },
  {
   "cell_type": "code",
   "execution_count": 5,
   "metadata": {},
   "outputs": [],
   "source": [
    "def wage_earner(survey_scenario):\n",
    "    df = pd.concat(\n",
    "        [\n",
    "            (\n",
    "                survey_scenario.compute_pivot_table(\n",
    "                    aggfunc = 'sum', \n",
    "                    values = [\"salaire_brut\", \"salaire_super_brut\"], \n",
    "                    index = \"secteur_public\", \n",
    "                    period = survey_scenario.year, \n",
    "                    concat_axis = 1\n",
    "                    ) / 1e9\n",
    "                ).round(0).astype(int)\n",
    "            ],\n",
    "        axis = 1,\n",
    "        )\n",
    "    df.loc[True, \"effectifs\"] = (\n",
    "        (survey_scenario.calculate_variable('salaire_brut', period =survey_scenario.year) > 0) \n",
    "        * survey_scenario.calculate_variable('secteur_public', period =survey_scenario.year)\n",
    "        * survey_scenario.calculate_variable('person_weight', period =survey_scenario.year)\n",
    "        ).sum()\n",
    "    df.loc[False, \"effectifs\"] = (\n",
    "        (survey_scenario.calculate_variable('salaire_brut', period =survey_scenario.year) > 0) \n",
    "        * np.logical_not(survey_scenario.calculate_variable('secteur_public', period =survey_scenario.year))\n",
    "        * survey_scenario.calculate_variable('person_weight', period = survey_scenario.year)\n",
    "        ).sum()\n",
    "    return df.round(0).astype(int)"
   ]
  },
  {
   "cell_type": "code",
   "execution_count": 6,
   "metadata": {},
   "outputs": [],
   "source": [
    "def income_distribution(survey_scenario):\n",
    "    survey_income = (\n",
    "        survey_scenario.compute_pivot_table(\n",
    "            values = \"survey_income\", columns = \"decile_gross_income_per_capita\", period = survey_scenario.year\n",
    "            ).transpose().round()    \n",
    "        )\n",
    "    gross_income = (\n",
    "        survey_scenario.compute_pivot_table(\n",
    "            values = \"gross_income\", columns = \"decile_gross_income_per_capita\", period = survey_scenario.year\n",
    "            ).transpose().round()\n",
    "        )\n",
    "    return pd.concat([survey_income, gross_income], axis = 1)"
   ]
  },
  {
   "cell_type": "markdown",
   "metadata": {},
   "source": [
    "## Inequality tables"
   ]
  },
  {
   "cell_type": "code",
   "execution_count": null,
   "metadata": {},
   "outputs": [
    {
     "name": "stderr",
     "output_type": "stream",
     "text": [
      "/home/benjello/.virtualenvs/ceq/lib/python3.7/site-packages/pandas/io/stata.py:1409: UnicodeWarning: \n",
      "One or more strings in the dta file could not be decoded using utf-8, and\n",
      "so the fallback encoding of latin-1 is being used.  This can happen when a file\n",
      "has been incorrectly encoded by Stata or some other software. You should verify\n",
      "the string values returned are correct.\n",
      "  warnings.warn(msg, UnicodeWarning)\n"
     ]
    }
   ],
   "source": [
    "for country, year in year_by_country.items():\n",
    "    survey_scenario = build_ceq_survey_scenario(country, year)\n",
    "    inflated_survey_scenario = build_ceq_survey_scenario(country, year, inflate = True)\n",
    "    display(country)\n",
    "    display(income_table(survey_scenario, inflated_survey_scenario))\n",
    "    display(wage_earner(survey_scenario))"
   ]
  },
  {
   "cell_type": "code",
   "execution_count": null,
   "metadata": {},
   "outputs": [],
   "source": [
    "income_variable = 'gross_income'\n",
    "by_variable = 'decile_{}_per_capita'.format(income_variable)\n",
    "tax_variables = ['personal_income_tax', 'customs_duties', 'value_added_tax', 'education_net_transfers']\n",
    "\n",
    "table_by_indicator_by_scenario = dict()\n",
    "\n",
    "for survey_type in [\"bare\" , \"inflated\"]:\n",
    "    survey_scenario = build_ceq_survey_scenario(country, year, inflate = survey_type == \"inflated\")\n",
    "    income_by_country = dict()\n",
    "    gini_by_country = dict()\n",
    "    incidence_by_country = dict()\n",
    "    concentration_share_by_country = dict()\n",
    "    taxpayers_share_by_country = dict()\n",
    "    for country, year in year_by_country.items():\n",
    "        survey_scenario = build_ceq_survey_scenario(country, year)\n",
    "        income_by_country[country] = income_distribution(survey_scenario)\n",
    "        gini_by_country[country] = inequality_table(survey_scenario)\n",
    "        incidence_by_country[country] = incidence_table(survey_scenario, income_variable, tax_variables, by_variable)\n",
    "        concentration_share_by_country[country] = concentration_share(survey_scenario, tax_variables, by_variable)  \n",
    "        taxpayers_share_by_country[country] = taxpayers_share(survey_scenario, tax_variables, by_variable)\n",
    "        display('incidence - ' + country + ' - ' + survey_type)\n",
    "        display(incidence_table(survey_scenario, income_variable, tax_variables, by_variable = 'labor_type').rename(index = labor_type_by_index))\n",
    "        display('concentration_share - ' + country + ' - ' + survey_type)\n",
    "        display(concentration_share(survey_scenario, tax_variables, by_variable = 'labor_type').rename(index = labor_type_by_index))\n",
    "        display('taxpayers_share - ' + country + ' - ' + survey_type)\n",
    "        display(taxpayers_share(survey_scenario, tax_variables, by_variable = 'labor_type').rename(index = labor_type_by_index))\n",
    "        table_by_indicator = dict(\n",
    "            ginis = pd.concat(gini_by_country).swaplevel().sort_index(),\n",
    "            incidences = pd.concat(incidence_by_country).transpose().stack(),\n",
    "            concentrations = pd.concat(concentration_share_by_country).transpose().stack(),\n",
    "            taxpayers = pd.concat(taxpayers_share_by_country).transpose().stack(),\n",
    "            )\n",
    "        table_by_indicator_by_scenario[survey_type] = table_by_indicator"
   ]
  },
  {
   "cell_type": "code",
   "execution_count": null,
   "metadata": {},
   "outputs": [],
   "source": []
  },
  {
   "cell_type": "code",
   "execution_count": null,
   "metadata": {},
   "outputs": [],
   "source": [
    "sheet_name_by_indicator = dict(\n",
    "    ginis = \"r1\",\n",
    "    incidences = \"r2\",\n",
    "    concentrations = \"r3\",\n",
    "    taxpayers = \"r4\",\n",
    "    )\n",
    "for survey_type, table_by_indicator in table_by_indicator_by_scenario.items():\n",
    "    with pd.ExcelWriter(\n",
    "        '/home/benjello/Dropbox/Projet_Micro_Sim/resultats/graphs-tableaux/Resultats_Taxineq_{}.xlsx'.format(survey_type)\n",
    "        ) as writer:\n",
    "            for indicator, table in table_by_indicator.items(): \n",
    "                display(indicator + \" - \" + survey_type)\n",
    "                display(table)\n",
    "                table.to_excel(writer, sheet_name = sheet_name_by_indicator[indicator])"
   ]
  },
  {
   "cell_type": "code",
   "execution_count": null,
   "metadata": {},
   "outputs": [],
   "source": [
    "result = read_tax_target(add_country_details=True)\n",
    "display(result)"
   ]
  },
  {
   "cell_type": "code",
   "execution_count": null,
   "metadata": {},
   "outputs": [],
   "source": []
  }
 ],
 "metadata": {
  "kernelspec": {
   "display_name": "Python 3",
   "language": "python",
   "name": "python3"
  },
  "language_info": {
   "codemirror_mode": {
    "name": "ipython",
    "version": 3
   },
   "file_extension": ".py",
   "mimetype": "text/x-python",
   "name": "python",
   "nbconvert_exporter": "python",
   "pygments_lexer": "ipython3",
   "version": "3.7.8"
  }
 },
 "nbformat": 4,
 "nbformat_minor": 4
}
