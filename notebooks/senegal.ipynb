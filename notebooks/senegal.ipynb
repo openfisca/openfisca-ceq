{
 "cells": [
  {
   "cell_type": "code",
   "execution_count": 1,
   "metadata": {
    "execution": {
     "iopub.execute_input": "2020-07-09T22:09:22.259579Z",
     "iopub.status.busy": "2020-07-09T22:09:22.259044Z",
     "iopub.status.idle": "2020-07-09T22:09:22.261012Z",
     "shell.execute_reply": "2020-07-09T22:09:22.261395Z"
    },
    "papermill": {
     "duration": 0.042875,
     "end_time": "2020-07-09T22:09:22.261538",
     "exception": false,
     "start_time": "2020-07-09T22:09:22.218663",
     "status": "completed"
    },
    "tags": []
   },
   "outputs": [],
   "source": [
    "# !pip install -U git+https://github.com/openfisca/openfisca-ceq.git@master#egg=OpenFisca-CEQ\n",
    "# !pip install -U git+https://github.com/openfisca/openfisca-senegal.git@ceq#egg=OpenFisca-Senegal\n",
    "# !pip install -U git+https://github.com/openfisca/openfisca-mali.git@master#egg=OpenFisca-Mali\n",
    "# !pip install -U git+https://github.com/openfisca/openfisca-cote-d-ivoire.git@master#egg=OpenFisca-COTE-D-IVOIRE"
   ]
  },
  {
   "cell_type": "code",
   "execution_count": 2,
   "metadata": {
    "execution": {
     "iopub.execute_input": "2020-07-09T22:09:22.331811Z",
     "iopub.status.busy": "2020-07-09T22:09:22.330754Z",
     "iopub.status.idle": "2020-07-09T22:09:23.027507Z",
     "shell.execute_reply": "2020-07-09T22:09:23.026564Z"
    },
    "papermill": {
     "duration": 0.737933,
     "end_time": "2020-07-09T22:09:23.027711",
     "exception": false,
     "start_time": "2020-07-09T22:09:22.289778",
     "status": "completed"
    },
    "tags": []
   },
   "outputs": [],
   "source": [
    "from matplotlib import pyplot as plt\n",
    "%matplotlib inline\n",
    "import pandas as pd\n",
    "from openfisca_ceq.tools.survey_scenario import build_ceq_survey_scenario\n",
    "from openfisca_ceq.tools.indirect_taxation.tax_benefit_system_indirect_taxation_completion import indirect_tax_by_country\n",
    "from openfisca_ceq.tools.data import year_by_country\n",
    "from openfisca_ceq.tools.data_ceq_correspondence import (\n",
    "    ceq_input_by_harmonized_variable,\n",
    "    ceq_intermediate_by_harmonized_variable,\n",
    "    non_ceq_input_by_harmonized_variable,\n",
    "    )"
   ]
  },
  {
   "cell_type": "markdown",
   "metadata": {
    "papermill": {
     "duration": 0.026809,
     "end_time": "2020-07-09T22:09:23.087108",
     "exception": false,
     "start_time": "2020-07-09T22:09:23.060299",
     "status": "completed"
    },
    "tags": []
   },
   "source": [
    "# Build country scenario"
   ]
  },
  {
   "cell_type": "markdown",
   "metadata": {
    "papermill": {
     "duration": 0.025935,
     "end_time": "2020-07-09T22:09:23.139828",
     "exception": false,
     "start_time": "2020-07-09T22:09:23.113893",
     "status": "completed"
    },
    "tags": []
   },
   "source": [
    "## Country selection"
   ]
  },
  {
   "cell_type": "code",
   "execution_count": 3,
   "metadata": {
    "execution": {
     "iopub.execute_input": "2020-07-09T22:09:23.196617Z",
     "iopub.status.busy": "2020-07-09T22:09:23.196088Z",
     "iopub.status.idle": "2020-07-09T22:09:23.199847Z",
     "shell.execute_reply": "2020-07-09T22:09:23.200587Z"
    },
    "papermill": {
     "duration": 0.035155,
     "end_time": "2020-07-09T22:09:23.200796",
     "exception": false,
     "start_time": "2020-07-09T22:09:23.165641",
     "status": "completed"
    },
    "tags": [
     "parameters"
    ]
   },
   "outputs": [],
   "source": [
    "country = \"mali\""
   ]
  },
  {
   "cell_type": "code",
   "execution_count": 4,
   "metadata": {
    "execution": {
     "iopub.execute_input": "2020-07-09T22:09:23.261835Z",
     "iopub.status.busy": "2020-07-09T22:09:23.261331Z",
     "iopub.status.idle": "2020-07-09T22:09:23.263229Z",
     "shell.execute_reply": "2020-07-09T22:09:23.263553Z"
    },
    "papermill": {
     "duration": 0.031068,
     "end_time": "2020-07-09T22:09:23.263657",
     "exception": false,
     "start_time": "2020-07-09T22:09:23.232589",
     "status": "completed"
    },
    "tags": [
     "injected-parameters"
    ]
   },
   "outputs": [],
   "source": [
    "# Parameters\n",
    "country = \"senegal\"\n"
   ]
  },
  {
   "cell_type": "code",
   "execution_count": 5,
   "metadata": {
    "execution": {
     "iopub.execute_input": "2020-07-09T22:09:23.320593Z",
     "iopub.status.busy": "2020-07-09T22:09:23.320078Z",
     "iopub.status.idle": "2020-07-09T22:09:27.123484Z",
     "shell.execute_reply": "2020-07-09T22:09:27.122605Z"
    },
    "papermill": {
     "duration": 3.833571,
     "end_time": "2020-07-09T22:09:27.123653",
     "exception": false,
     "start_time": "2020-07-09T22:09:23.290082",
     "status": "completed"
    },
    "tags": []
   },
   "outputs": [],
   "source": [
    "year = year_by_country[country]\n",
    "survey_scenario = build_ceq_survey_scenario(legislation_country = country, year = year)"
   ]
  },
  {
   "cell_type": "markdown",
   "metadata": {
    "papermill": {
     "duration": 0.027049,
     "end_time": "2020-07-09T22:09:27.187440",
     "exception": false,
     "start_time": "2020-07-09T22:09:27.160391",
     "status": "completed"
    },
    "tags": []
   },
   "source": [
    "# Aggegates check"
   ]
  },
  {
   "cell_type": "markdown",
   "metadata": {
    "papermill": {
     "duration": 0.026155,
     "end_time": "2020-07-09T22:09:27.241908",
     "exception": false,
     "start_time": "2020-07-09T22:09:27.215753",
     "status": "completed"
    },
    "tags": []
   },
   "source": [
    "## Income variables"
   ]
  },
  {
   "cell_type": "markdown",
   "metadata": {
    "papermill": {
     "duration": 0.02826,
     "end_time": "2020-07-09T22:09:27.299340",
     "exception": false,
     "start_time": "2020-07-09T22:09:27.271080",
     "status": "completed"
    },
    "tags": []
   },
   "source": [
    "### Disagregated income variables"
   ]
  },
  {
   "cell_type": "code",
   "execution_count": 6,
   "metadata": {
    "execution": {
     "iopub.execute_input": "2020-07-09T22:09:27.381222Z",
     "iopub.status.busy": "2020-07-09T22:09:27.380457Z",
     "iopub.status.idle": "2020-07-09T22:09:27.384156Z",
     "shell.execute_reply": "2020-07-09T22:09:27.383683Z"
    },
    "papermill": {
     "duration": 0.057609,
     "end_time": "2020-07-09T22:09:27.384261",
     "exception": false,
     "start_time": "2020-07-09T22:09:27.326652",
     "status": "completed"
    },
    "tags": []
   },
   "outputs": [
    {
     "data": {
      "text/plain": [
       "{'rev_i_autoconsommation': 'autoconsumption',\n",
       " 'rev_i_autres': 'other_income',\n",
       " 'rev_i_autres_transferts': 'gifts_sales_durables',\n",
       " 'rev_i_loyers_imputes': 'imputed_rent',\n",
       " 'rev_i_transferts_publics': 'direct_transfers',\n",
       " 'rev_i_agricoles': 'revenu_agricole',\n",
       " 'rev_i_autres_revenus_capital': 'autres_revenus_du_capital',\n",
       " 'rev_i_independants_Ntaxe': 'revenu_informel_non_salarie',\n",
       " 'rev_i_independants_taxe': 'revenu_non_salarie',\n",
       " 'rev_i_locatifs': 'revenu_locatif',\n",
       " 'rev_i_pensions': 'pension_retraite',\n",
       " 'rev_i_salaires_formels': 'salaire',\n",
       " 'rev_i_salaires_informels': 'revenu_informel_salarie',\n",
       " 'autres_revenus_du_capital_brut': 'autres_revenus_du_capital_brut',\n",
       " 'pension_retraite_brut': 'pension_retraite_brut',\n",
       " 'revenu_foncier_brut': 'revenu_foncier_brut',\n",
       " 'revenu_non_salarie_brut': 'revenu_non_salarie_brut',\n",
       " 'salaire_brut': 'salaire_brut',\n",
       " 'salaire_super_brut': 'salaire_super_brut'}"
      ]
     },
     "execution_count": 6,
     "metadata": {},
     "output_type": "execute_result"
    }
   ],
   "source": [
    "ceq_by_harmonized_variable = dict()\n",
    "ceq_by_harmonized_variable.update(ceq_input_by_harmonized_variable)\n",
    "ceq_by_harmonized_variable.update(ceq_intermediate_by_harmonized_variable)\n",
    "ceq_by_harmonized_variable.update(non_ceq_input_by_harmonized_variable)\n",
    "ceq_by_harmonized_variable['autres_revenus_du_capital_brut'] = 'autres_revenus_du_capital_brut'\n",
    "ceq_by_harmonized_variable['pension_retraite_brut'] = 'pension_retraite_brut'\n",
    "ceq_by_harmonized_variable['revenu_foncier_brut'] = 'revenu_foncier_brut'\n",
    "ceq_by_harmonized_variable['revenu_non_salarie_brut'] = 'revenu_non_salarie_brut' \n",
    "ceq_by_harmonized_variable['salaire_brut'] = 'salaire_brut'\n",
    "ceq_by_harmonized_variable['salaire_super_brut'] = 'salaire_super_brut'\n",
    "ceq_by_harmonized_variable"
   ]
  },
  {
   "cell_type": "code",
   "execution_count": 7,
   "metadata": {
    "execution": {
     "iopub.execute_input": "2020-07-09T22:09:27.462803Z",
     "iopub.status.busy": "2020-07-09T22:09:27.461571Z",
     "iopub.status.idle": "2020-07-09T22:09:27.678129Z",
     "shell.execute_reply": "2020-07-09T22:09:27.678651Z"
    },
    "papermill": {
     "duration": 0.258174,
     "end_time": "2020-07-09T22:09:27.678809",
     "exception": false,
     "start_time": "2020-07-09T22:09:27.420635",
     "status": "completed"
    },
    "tags": []
   },
   "outputs": [],
   "source": [
    "data = [\n",
    "    (harmonized_variable, openfisca_variable, survey_scenario.compute_aggregate(openfisca_variable, period = year) / 1e9) \n",
    "    for harmonized_variable, openfisca_variable in ceq_by_harmonized_variable.items()\n",
    "    ]"
   ]
  },
  {
   "cell_type": "code",
   "execution_count": 8,
   "metadata": {
    "execution": {
     "iopub.execute_input": "2020-07-09T22:09:27.776123Z",
     "iopub.status.busy": "2020-07-09T22:09:27.775477Z",
     "iopub.status.idle": "2020-07-09T22:09:27.786768Z",
     "shell.execute_reply": "2020-07-09T22:09:27.787551Z"
    },
    "papermill": {
     "duration": 0.065096,
     "end_time": "2020-07-09T22:09:27.787698",
     "exception": false,
     "start_time": "2020-07-09T22:09:27.722602",
     "status": "completed"
    },
    "tags": []
   },
   "outputs": [
    {
     "data": {
      "text/html": [
       "<div>\n",
       "<style scoped>\n",
       "    .dataframe tbody tr th:only-of-type {\n",
       "        vertical-align: middle;\n",
       "    }\n",
       "\n",
       "    .dataframe tbody tr th {\n",
       "        vertical-align: top;\n",
       "    }\n",
       "\n",
       "    .dataframe thead th {\n",
       "        text-align: right;\n",
       "    }\n",
       "</style>\n",
       "<table border=\"1\" class=\"dataframe\">\n",
       "  <thead>\n",
       "    <tr style=\"text-align: right;\">\n",
       "      <th></th>\n",
       "      <th>harmonized</th>\n",
       "      <th>openfisca</th>\n",
       "      <th>aggregate</th>\n",
       "    </tr>\n",
       "  </thead>\n",
       "  <tbody>\n",
       "    <tr>\n",
       "      <th>0</th>\n",
       "      <td>rev_i_autoconsommation</td>\n",
       "      <td>autoconsumption</td>\n",
       "      <td>158</td>\n",
       "    </tr>\n",
       "    <tr>\n",
       "      <th>1</th>\n",
       "      <td>rev_i_autres</td>\n",
       "      <td>other_income</td>\n",
       "      <td>149</td>\n",
       "    </tr>\n",
       "    <tr>\n",
       "      <th>2</th>\n",
       "      <td>rev_i_autres_transferts</td>\n",
       "      <td>gifts_sales_durables</td>\n",
       "      <td>714</td>\n",
       "    </tr>\n",
       "    <tr>\n",
       "      <th>3</th>\n",
       "      <td>rev_i_loyers_imputes</td>\n",
       "      <td>imputed_rent</td>\n",
       "      <td>364</td>\n",
       "    </tr>\n",
       "    <tr>\n",
       "      <th>4</th>\n",
       "      <td>rev_i_transferts_publics</td>\n",
       "      <td>direct_transfers</td>\n",
       "      <td>24</td>\n",
       "    </tr>\n",
       "    <tr>\n",
       "      <th>5</th>\n",
       "      <td>rev_i_agricoles</td>\n",
       "      <td>revenu_agricole</td>\n",
       "      <td>1062</td>\n",
       "    </tr>\n",
       "    <tr>\n",
       "      <th>6</th>\n",
       "      <td>rev_i_autres_revenus_capital</td>\n",
       "      <td>autres_revenus_du_capital</td>\n",
       "      <td>13</td>\n",
       "    </tr>\n",
       "    <tr>\n",
       "      <th>7</th>\n",
       "      <td>rev_i_independants_Ntaxe</td>\n",
       "      <td>revenu_informel_non_salarie</td>\n",
       "      <td>866</td>\n",
       "    </tr>\n",
       "    <tr>\n",
       "      <th>8</th>\n",
       "      <td>rev_i_independants_taxe</td>\n",
       "      <td>revenu_non_salarie</td>\n",
       "      <td>263</td>\n",
       "    </tr>\n",
       "    <tr>\n",
       "      <th>9</th>\n",
       "      <td>rev_i_locatifs</td>\n",
       "      <td>revenu_locatif</td>\n",
       "      <td>54</td>\n",
       "    </tr>\n",
       "    <tr>\n",
       "      <th>10</th>\n",
       "      <td>rev_i_pensions</td>\n",
       "      <td>pension_retraite</td>\n",
       "      <td>58</td>\n",
       "    </tr>\n",
       "    <tr>\n",
       "      <th>11</th>\n",
       "      <td>rev_i_salaires_formels</td>\n",
       "      <td>salaire</td>\n",
       "      <td>618</td>\n",
       "    </tr>\n",
       "    <tr>\n",
       "      <th>12</th>\n",
       "      <td>rev_i_salaires_informels</td>\n",
       "      <td>revenu_informel_salarie</td>\n",
       "      <td>780</td>\n",
       "    </tr>\n",
       "    <tr>\n",
       "      <th>13</th>\n",
       "      <td>autres_revenus_du_capital_brut</td>\n",
       "      <td>autres_revenus_du_capital_brut</td>\n",
       "      <td>14</td>\n",
       "    </tr>\n",
       "    <tr>\n",
       "      <th>14</th>\n",
       "      <td>pension_retraite_brut</td>\n",
       "      <td>pension_retraite_brut</td>\n",
       "      <td>60</td>\n",
       "    </tr>\n",
       "    <tr>\n",
       "      <th>15</th>\n",
       "      <td>revenu_foncier_brut</td>\n",
       "      <td>revenu_foncier_brut</td>\n",
       "      <td>67</td>\n",
       "    </tr>\n",
       "    <tr>\n",
       "      <th>16</th>\n",
       "      <td>revenu_non_salarie_brut</td>\n",
       "      <td>revenu_non_salarie_brut</td>\n",
       "      <td>295</td>\n",
       "    </tr>\n",
       "    <tr>\n",
       "      <th>17</th>\n",
       "      <td>salaire_brut</td>\n",
       "      <td>salaire_brut</td>\n",
       "      <td>876</td>\n",
       "    </tr>\n",
       "    <tr>\n",
       "      <th>18</th>\n",
       "      <td>salaire_super_brut</td>\n",
       "      <td>salaire_super_brut</td>\n",
       "      <td>941</td>\n",
       "    </tr>\n",
       "  </tbody>\n",
       "</table>\n",
       "</div>"
      ],
      "text/plain": [
       "                        harmonized                       openfisca  aggregate\n",
       "0           rev_i_autoconsommation                 autoconsumption        158\n",
       "1                     rev_i_autres                    other_income        149\n",
       "2          rev_i_autres_transferts            gifts_sales_durables        714\n",
       "3             rev_i_loyers_imputes                    imputed_rent        364\n",
       "4         rev_i_transferts_publics                direct_transfers         24\n",
       "5                  rev_i_agricoles                 revenu_agricole       1062\n",
       "6     rev_i_autres_revenus_capital       autres_revenus_du_capital         13\n",
       "7         rev_i_independants_Ntaxe     revenu_informel_non_salarie        866\n",
       "8          rev_i_independants_taxe              revenu_non_salarie        263\n",
       "9                   rev_i_locatifs                  revenu_locatif         54\n",
       "10                  rev_i_pensions                pension_retraite         58\n",
       "11          rev_i_salaires_formels                         salaire        618\n",
       "12        rev_i_salaires_informels         revenu_informel_salarie        780\n",
       "13  autres_revenus_du_capital_brut  autres_revenus_du_capital_brut         14\n",
       "14           pension_retraite_brut           pension_retraite_brut         60\n",
       "15             revenu_foncier_brut             revenu_foncier_brut         67\n",
       "16         revenu_non_salarie_brut         revenu_non_salarie_brut        295\n",
       "17                    salaire_brut                    salaire_brut        876\n",
       "18              salaire_super_brut              salaire_super_brut        941"
      ]
     },
     "execution_count": 8,
     "metadata": {},
     "output_type": "execute_result"
    }
   ],
   "source": [
    "revenus = pd.DataFrame(data, columns = [\"harmonized\", \"openfisca\", \"aggregate\"])\n",
    "revenus.round(0).astype({\"aggregate\": int})"
   ]
  },
  {
   "cell_type": "markdown",
   "metadata": {
    "papermill": {
     "duration": 0.028938,
     "end_time": "2020-07-09T22:09:27.847826",
     "exception": false,
     "start_time": "2020-07-09T22:09:27.818888",
     "status": "completed"
    },
    "tags": []
   },
   "source": [
    "### Agregated income variables"
   ]
  },
  {
   "cell_type": "markdown",
   "metadata": {
    "papermill": {
     "duration": 0.030358,
     "end_time": "2020-07-09T22:09:27.908443",
     "exception": false,
     "start_time": "2020-07-09T22:09:27.878085",
     "status": "completed"
    },
    "tags": []
   },
   "source": [
    "#### CEQ agregated income variables"
   ]
  },
  {
   "cell_type": "code",
   "execution_count": 9,
   "metadata": {
    "execution": {
     "iopub.execute_input": "2020-07-09T22:09:27.967418Z",
     "iopub.status.busy": "2020-07-09T22:09:27.966998Z",
     "iopub.status.idle": "2020-07-09T22:09:27.969410Z",
     "shell.execute_reply": "2020-07-09T22:09:27.969729Z"
    },
    "papermill": {
     "duration": 0.033023,
     "end_time": "2020-07-09T22:09:27.969837",
     "exception": false,
     "start_time": "2020-07-09T22:09:27.936814",
     "status": "completed"
    },
    "tags": []
   },
   "outputs": [],
   "source": [
    "ceq_variables = [\"market_income\", \"market_income_plus_pensions\", \"pensions\", \"contributions_pensions\", \"net_market_income\", \"direct_taxes\", \"other_contributions\", \"contributions_health\", ]"
   ]
  },
  {
   "cell_type": "code",
   "execution_count": 10,
   "metadata": {
    "execution": {
     "iopub.execute_input": "2020-07-09T22:09:28.040660Z",
     "iopub.status.busy": "2020-07-09T22:09:28.039760Z",
     "iopub.status.idle": "2020-07-09T22:09:28.073112Z",
     "shell.execute_reply": "2020-07-09T22:09:28.073666Z"
    },
    "papermill": {
     "duration": 0.06914,
     "end_time": "2020-07-09T22:09:28.073815",
     "exception": false,
     "start_time": "2020-07-09T22:09:28.004675",
     "status": "completed"
    },
    "tags": []
   },
   "outputs": [
    {
     "data": {
      "text/html": [
       "<div>\n",
       "<style scoped>\n",
       "    .dataframe tbody tr th:only-of-type {\n",
       "        vertical-align: middle;\n",
       "    }\n",
       "\n",
       "    .dataframe tbody tr th {\n",
       "        vertical-align: top;\n",
       "    }\n",
       "\n",
       "    .dataframe thead th {\n",
       "        text-align: right;\n",
       "    }\n",
       "</style>\n",
       "<table border=\"1\" class=\"dataframe\">\n",
       "  <thead>\n",
       "    <tr style=\"text-align: right;\">\n",
       "      <th></th>\n",
       "      <th>aggregate</th>\n",
       "    </tr>\n",
       "  </thead>\n",
       "  <tbody>\n",
       "    <tr>\n",
       "      <th>market_income</th>\n",
       "      <td>5410</td>\n",
       "    </tr>\n",
       "    <tr>\n",
       "      <th>market_income_plus_pensions</th>\n",
       "      <td>5399</td>\n",
       "    </tr>\n",
       "    <tr>\n",
       "      <th>pensions</th>\n",
       "      <td>60</td>\n",
       "    </tr>\n",
       "    <tr>\n",
       "      <th>contributions_pensions</th>\n",
       "      <td>70</td>\n",
       "    </tr>\n",
       "    <tr>\n",
       "      <th>net_market_income</th>\n",
       "      <td>5209</td>\n",
       "    </tr>\n",
       "    <tr>\n",
       "      <th>direct_taxes</th>\n",
       "      <td>181</td>\n",
       "    </tr>\n",
       "    <tr>\n",
       "      <th>other_contributions</th>\n",
       "      <td>12</td>\n",
       "    </tr>\n",
       "    <tr>\n",
       "      <th>contributions_health</th>\n",
       "      <td>10</td>\n",
       "    </tr>\n",
       "  </tbody>\n",
       "</table>\n",
       "</div>"
      ],
      "text/plain": [
       "                             aggregate\n",
       "market_income                     5410\n",
       "market_income_plus_pensions       5399\n",
       "pensions                            60\n",
       "contributions_pensions              70\n",
       "net_market_income                 5209\n",
       "direct_taxes                       181\n",
       "other_contributions                 12\n",
       "contributions_health                10"
      ]
     },
     "execution_count": 10,
     "metadata": {},
     "output_type": "execute_result"
    }
   ],
   "source": [
    "ceq_aggregates = pd.DataFrame(\n",
    "    index = ceq_variables,\n",
    "    columns = ['aggregate'],\n",
    "    data = [\n",
    "        survey_scenario.compute_aggregate(ceq_variable, period = year) / 1e9 \n",
    "        for ceq_variable in ceq_variables\n",
    "        ]\n",
    "    )\n",
    "ceq_aggregates.round(0).astype({\"aggregate\": int})"
   ]
  },
  {
   "cell_type": "markdown",
   "metadata": {
    "papermill": {
     "duration": 0.044321,
     "end_time": "2020-07-09T22:09:28.162979",
     "exception": false,
     "start_time": "2020-07-09T22:09:28.118658",
     "status": "completed"
    },
    "tags": []
   },
   "source": [
    "#### Direct check"
   ]
  },
  {
   "cell_type": "code",
   "execution_count": 11,
   "metadata": {
    "execution": {
     "iopub.execute_input": "2020-07-09T22:09:28.233885Z",
     "iopub.status.busy": "2020-07-09T22:09:28.233344Z",
     "iopub.status.idle": "2020-07-09T22:09:28.238671Z",
     "shell.execute_reply": "2020-07-09T22:09:28.239501Z"
    },
    "papermill": {
     "duration": 0.04285,
     "end_time": "2020-07-09T22:09:28.239717",
     "exception": false,
     "start_time": "2020-07-09T22:09:28.196867",
     "status": "completed"
    },
    "tags": []
   },
   "outputs": [],
   "source": [
    "income_components_summed_in_total = list(ceq_by_harmonized_variable.values()) \n",
    "# income_components_summed_in_total.remove(\"revenu_non_salarie_total\")\n",
    "income_components_summed_in_total.remove(\"direct_transfers\")\n",
    "income_components_summed_in_total.remove(\"salaire\")\n",
    "income_components_summed_in_total.remove(\"salaire_brut\")\n",
    "income_components_summed_in_total.remove(\"pension_retraite\")\n",
    "income_components_summed_in_total.remove('autres_revenus_du_capital')\n",
    "income_components_summed_in_total.remove('revenu_locatif')\n",
    "income_components_summed_in_total.remove('revenu_non_salarie') \n",
    "\n",
    "total_income = sum(\n",
    "    survey_scenario.compute_aggregate(income_component, period = survey_scenario.year) \n",
    "    for income_component in income_components_summed_in_total\n",
    "    ) \n",
    "total_income = (\n",
    "    total_income \n",
    "    - survey_scenario.compute_aggregate(\"contributions_pensions\", period = survey_scenario.year)\n",
    "    ) / 1e9\n"
   ]
  },
  {
   "cell_type": "code",
   "execution_count": 12,
   "metadata": {
    "execution": {
     "iopub.execute_input": "2020-07-09T22:09:28.309440Z",
     "iopub.status.busy": "2020-07-09T22:09:28.308284Z",
     "iopub.status.idle": "2020-07-09T22:09:28.311024Z",
     "shell.execute_reply": "2020-07-09T22:09:28.311850Z"
    },
    "papermill": {
     "duration": 0.039503,
     "end_time": "2020-07-09T22:09:28.312086",
     "exception": false,
     "start_time": "2020-07-09T22:09:28.272583",
     "status": "completed"
    },
    "tags": []
   },
   "outputs": [],
   "source": [
    "from numpy.testing import assert_almost_equal\n",
    "assert_almost_equal(ceq_aggregates.loc['market_income_plus_pensions'].values, total_income, decimal = 5) \n",
    "# print('market_income_plus_pensions = {} vs {} = total_income'.format(\n",
    "#         ceq_aggregates.loc['market_income_plus_pensions'].values,\n",
    "#         total_income\n",
    "#         )\n",
    "#     )\n"
   ]
  },
  {
   "cell_type": "markdown",
   "metadata": {
    "papermill": {
     "duration": 0.027301,
     "end_time": "2020-07-09T22:09:28.374688",
     "exception": false,
     "start_time": "2020-07-09T22:09:28.347387",
     "status": "completed"
    },
    "tags": []
   },
   "source": [
    "#### Wages by public/private sector"
   ]
  },
  {
   "cell_type": "code",
   "execution_count": 13,
   "metadata": {
    "execution": {
     "iopub.execute_input": "2020-07-09T22:09:28.436523Z",
     "iopub.status.busy": "2020-07-09T22:09:28.435627Z",
     "iopub.status.idle": "2020-07-09T22:09:28.440670Z",
     "shell.execute_reply": "2020-07-09T22:09:28.441516Z"
    },
    "papermill": {
     "duration": 0.039482,
     "end_time": "2020-07-09T22:09:28.441739",
     "exception": false,
     "start_time": "2020-07-09T22:09:28.402257",
     "status": "completed"
    },
    "tags": []
   },
   "outputs": [
    {
     "data": {
      "text/plain": [
       "'Count : 84224.0'"
      ]
     },
     "execution_count": 13,
     "metadata": {},
     "output_type": "execute_result"
    }
   ],
   "source": [
    "\"Count : {}\".format(round(\n",
    "    survey_scenario.compute_aggregate(\"secteur_public\", period = year)\n",
    "    ))"
   ]
  },
  {
   "cell_type": "code",
   "execution_count": 14,
   "metadata": {
    "execution": {
     "iopub.execute_input": "2020-07-09T22:09:28.514888Z",
     "iopub.status.busy": "2020-07-09T22:09:28.513958Z",
     "iopub.status.idle": "2020-07-09T22:09:28.572484Z",
     "shell.execute_reply": "2020-07-09T22:09:28.573354Z"
    },
    "papermill": {
     "duration": 0.099447,
     "end_time": "2020-07-09T22:09:28.573579",
     "exception": false,
     "start_time": "2020-07-09T22:09:28.474132",
     "status": "completed"
    },
    "tags": []
   },
   "outputs": [
    {
     "data": {
      "text/html": [
       "<div>\n",
       "<style scoped>\n",
       "    .dataframe tbody tr th:only-of-type {\n",
       "        vertical-align: middle;\n",
       "    }\n",
       "\n",
       "    .dataframe tbody tr th {\n",
       "        vertical-align: top;\n",
       "    }\n",
       "\n",
       "    .dataframe thead th {\n",
       "        text-align: right;\n",
       "    }\n",
       "</style>\n",
       "<table border=\"1\" class=\"dataframe\">\n",
       "  <thead>\n",
       "    <tr style=\"text-align: right;\">\n",
       "      <th>secteur_public</th>\n",
       "      <th>False</th>\n",
       "      <th>True</th>\n",
       "    </tr>\n",
       "  </thead>\n",
       "  <tbody>\n",
       "    <tr>\n",
       "      <th>salaire</th>\n",
       "      <td>333</td>\n",
       "      <td>285</td>\n",
       "    </tr>\n",
       "    <tr>\n",
       "      <th>salaire_brut</th>\n",
       "      <td>464</td>\n",
       "      <td>412</td>\n",
       "    </tr>\n",
       "    <tr>\n",
       "      <th>salaire_super_brut</th>\n",
       "      <td>500</td>\n",
       "      <td>441</td>\n",
       "    </tr>\n",
       "  </tbody>\n",
       "</table>\n",
       "</div>"
      ],
      "text/plain": [
       "secteur_public      False  True \n",
       "salaire               333    285\n",
       "salaire_brut          464    412\n",
       "salaire_super_brut    500    441"
      ]
     },
     "execution_count": 14,
     "metadata": {},
     "output_type": "execute_result"
    }
   ],
   "source": [
    "(\n",
    "    survey_scenario.compute_pivot_table(\n",
    "        columns = [\"secteur_public\"], \n",
    "        values = [\"salaire\", \"salaire_brut\", \"salaire_super_brut\"],\n",
    "        aggfunc = \"sum\",\n",
    "        period = year,\n",
    "        concat_axis = 0,\n",
    "        ) / 1e9\n",
    "    ).round(0).astype(int)"
   ]
  },
  {
   "cell_type": "markdown",
   "metadata": {
    "papermill": {
     "duration": 0.028683,
     "end_time": "2020-07-09T22:09:28.640184",
     "exception": false,
     "start_time": "2020-07-09T22:09:28.611501",
     "status": "completed"
    },
    "tags": []
   },
   "source": [
    "## Education variables"
   ]
  },
  {
   "cell_type": "markdown",
   "metadata": {
    "papermill": {
     "duration": 0.028139,
     "end_time": "2020-07-09T22:09:28.697155",
     "exception": false,
     "start_time": "2020-07-09T22:09:28.669016",
     "status": "completed"
    },
    "tags": []
   },
   "source": [
    "### Counts (in millions)"
   ]
  },
  {
   "cell_type": "code",
   "execution_count": 15,
   "metadata": {
    "execution": {
     "iopub.execute_input": "2020-07-09T22:09:28.764641Z",
     "iopub.status.busy": "2020-07-09T22:09:28.764070Z",
     "iopub.status.idle": "2020-07-09T22:09:28.785242Z",
     "shell.execute_reply": "2020-07-09T22:09:28.784201Z"
    },
    "papermill": {
     "duration": 0.058962,
     "end_time": "2020-07-09T22:09:28.785420",
     "exception": false,
     "start_time": "2020-07-09T22:09:28.726458",
     "status": "completed"
    },
    "tags": []
   },
   "outputs": [
    {
     "name": "stdout",
     "output_type": "stream",
     "text": [
      "eleve_enseignement_niveau   -1.0   0.0   1.0   2.0   3.0\n",
      "eleve_enseignement_public                               \n",
      "0.0                        10.61  0.11  0.33  0.18  0.05\n",
      "1.0                         0.01  0.04  1.43  0.84  0.05\n"
     ]
    }
   ],
   "source": [
    "print((survey_scenario.compute_pivot_table(columns = ['eleve_enseignement_niveau'], index = ['eleve_enseignement_public'], aggfunc = 'count', period = survey_scenario.year) / 1e6).round(2))"
   ]
  },
  {
   "cell_type": "code",
   "execution_count": 16,
   "metadata": {
    "execution": {
     "iopub.execute_input": "2020-07-09T22:09:28.856545Z",
     "iopub.status.busy": "2020-07-09T22:09:28.856033Z",
     "iopub.status.idle": "2020-07-09T22:09:28.867647Z",
     "shell.execute_reply": "2020-07-09T22:09:28.868486Z"
    },
    "papermill": {
     "duration": 0.049119,
     "end_time": "2020-07-09T22:09:28.868711",
     "exception": false,
     "start_time": "2020-07-09T22:09:28.819592",
     "status": "completed"
    },
    "tags": []
   },
   "outputs": [
    {
     "name": "stdout",
     "output_type": "stream",
     "text": [
      "In kind education tranfers\n",
      "pre_school_person: 1 billions FCFA\n",
      "pre_school: 1 billions FCFA\n",
      "primary_education_person: 190 billions FCFA\n",
      "primary_education: 190 billions FCFA\n",
      "secondary_education_person: 141 billions FCFA\n",
      "secondary_education: 141 billions FCFA\n",
      "tertiary_education_person: 104 billions FCFA\n",
      "tertiary_education: 104 billions FCFA\n",
      "education_net_transfers: 436 billions FCFA\n"
     ]
    }
   ],
   "source": [
    "variables = [\n",
    "    'pre_school_person',\n",
    "    'pre_school',\n",
    "    'primary_education_person',\n",
    "    'primary_education',\n",
    "    'secondary_education_person',\n",
    "    'secondary_education',\n",
    "    'tertiary_education_person',\n",
    "    'tertiary_education',\n",
    "    'education_net_transfers',\n",
    "    ]\n",
    "print(\"In kind education tranfers\")\n",
    "for variable in variables:\n",
    "    print(\n",
    "        \"{variable}: {aggregate} billions FCFA\".format(\n",
    "            variable = variable,\n",
    "            aggregate = int(round(survey_scenario.compute_aggregate(variable, period = survey_scenario.year) / 1e9))\n",
    "            )\n",
    "        )"
   ]
  },
  {
   "cell_type": "markdown",
   "metadata": {
    "papermill": {
     "duration": 0.03184,
     "end_time": "2020-07-09T22:09:28.937630",
     "exception": false,
     "start_time": "2020-07-09T22:09:28.905790",
     "status": "completed"
    },
    "tags": []
   },
   "source": [
    "## Inflating income and consumption"
   ]
  },
  {
   "cell_type": "code",
   "execution_count": 17,
   "metadata": {
    "execution": {
     "iopub.execute_input": "2020-07-09T22:09:29.015967Z",
     "iopub.status.busy": "2020-07-09T22:09:29.015396Z",
     "iopub.status.idle": "2020-07-09T22:09:33.112537Z",
     "shell.execute_reply": "2020-07-09T22:09:33.113135Z"
    },
    "papermill": {
     "duration": 4.144751,
     "end_time": "2020-07-09T22:09:33.113300",
     "exception": false,
     "start_time": "2020-07-09T22:09:28.968549",
     "status": "completed"
    },
    "tags": []
   },
   "outputs": [
    {
     "name": "stderr",
     "output_type": "stream",
     "text": [
      "/home/benjello/.virtualenvs/ceq/lib/python3.7/site-packages/scipy/optimize/minpack.py:175: RuntimeWarning: The iteration is not making good progress, as measured by the \n",
      "  improvement from the last ten iterations.\n",
      "  warnings.warn(msg, RuntimeWarning)\n"
     ]
    }
   ],
   "source": [
    "inflated_survey_scenario = build_ceq_survey_scenario(\n",
    "    legislation_country = country, \n",
    "    year = year,\n",
    "    inflate = True,\n",
    "    )"
   ]
  },
  {
   "cell_type": "code",
   "execution_count": 18,
   "metadata": {
    "execution": {
     "iopub.execute_input": "2020-07-09T22:09:33.246327Z",
     "iopub.status.busy": "2020-07-09T22:09:33.245763Z",
     "iopub.status.idle": "2020-07-09T22:09:33.249869Z",
     "shell.execute_reply": "2020-07-09T22:09:33.250550Z"
    },
    "papermill": {
     "duration": 0.047413,
     "end_time": "2020-07-09T22:09:33.250739",
     "exception": false,
     "start_time": "2020-07-09T22:09:33.203326",
     "status": "completed"
    },
    "tags": []
   },
   "outputs": [
    {
     "name": "stderr",
     "output_type": "stream",
     "text": [
      "ERROR:root:No traceback has been produced, nothing to debug.\n"
     ]
    }
   ],
   "source": [
    "%debug"
   ]
  },
  {
   "cell_type": "code",
   "execution_count": 19,
   "metadata": {
    "execution": {
     "iopub.execute_input": "2020-07-09T22:09:33.326499Z",
     "iopub.status.busy": "2020-07-09T22:09:33.325986Z",
     "iopub.status.idle": "2020-07-09T22:09:33.385107Z",
     "shell.execute_reply": "2020-07-09T22:09:33.385941Z"
    },
    "papermill": {
     "duration": 0.099787,
     "end_time": "2020-07-09T22:09:33.386162",
     "exception": false,
     "start_time": "2020-07-09T22:09:33.286375",
     "status": "completed"
    },
    "tags": []
   },
   "outputs": [
    {
     "data": {
      "text/plain": [
       "'7595.151 == 7595.150917186541'"
      ]
     },
     "metadata": {},
     "output_type": "display_data"
    }
   ],
   "source": [
    "from openfisca_ceq.tools.data.income_targets import read_target\n",
    "gross_value_added = read_target(country, \"gross_value_added\") / 1e9\n",
    "gross_value_added_computed = sum(inflated_survey_scenario.compute_aggregate(income_variable, period = year) / 1e9\n",
    "    for income_variable in inflated_survey_scenario.income_variables\n",
    "    )\n",
    "display(\"{} == {}\".format(gross_value_added, gross_value_added_computed))"
   ]
  },
  {
   "cell_type": "markdown",
   "metadata": {
    "papermill": {
     "duration": 0.032675,
     "end_time": "2020-07-09T22:09:33.483697",
     "exception": false,
     "start_time": "2020-07-09T22:09:33.451022",
     "status": "completed"
    },
    "tags": []
   },
   "source": [
    "## Tax variables"
   ]
  },
  {
   "cell_type": "markdown",
   "metadata": {
    "papermill": {
     "duration": 0.029735,
     "end_time": "2020-07-09T22:09:33.546771",
     "exception": false,
     "start_time": "2020-07-09T22:09:33.517036",
     "status": "completed"
    },
    "tags": []
   },
   "source": [
    "### Direct taxes variables"
   ]
  },
  {
   "cell_type": "code",
   "execution_count": 20,
   "metadata": {
    "execution": {
     "iopub.execute_input": "2020-07-09T22:09:33.626468Z",
     "iopub.status.busy": "2020-07-09T22:09:33.625147Z",
     "iopub.status.idle": "2020-07-09T22:09:33.753938Z",
     "shell.execute_reply": "2020-07-09T22:09:33.753381Z"
    },
    "papermill": {
     "duration": 0.173457,
     "end_time": "2020-07-09T22:09:33.754061",
     "exception": false,
     "start_time": "2020-07-09T22:09:33.580604",
     "status": "completed"
    },
    "tags": []
   },
   "outputs": [
    {
     "data": {
      "text/html": [
       "<div>\n",
       "<style scoped>\n",
       "    .dataframe tbody tr th:only-of-type {\n",
       "        vertical-align: middle;\n",
       "    }\n",
       "\n",
       "    .dataframe tbody tr th {\n",
       "        vertical-align: top;\n",
       "    }\n",
       "\n",
       "    .dataframe thead th {\n",
       "        text-align: right;\n",
       "    }\n",
       "</style>\n",
       "<table border=\"1\" class=\"dataframe\">\n",
       "  <thead>\n",
       "    <tr style=\"text-align: right;\">\n",
       "      <th></th>\n",
       "      <th>aggregate</th>\n",
       "      <th>inflated_aggregate</th>\n",
       "    </tr>\n",
       "  </thead>\n",
       "  <tbody>\n",
       "    <tr>\n",
       "      <th>contribution_globale_fonciere</th>\n",
       "      <td>0</td>\n",
       "      <td>0.0</td>\n",
       "    </tr>\n",
       "    <tr>\n",
       "      <th>contribution_globale_unique</th>\n",
       "      <td>35</td>\n",
       "      <td>49.0</td>\n",
       "    </tr>\n",
       "    <tr>\n",
       "      <th>droit_progressif_pension_retraite</th>\n",
       "      <td>2</td>\n",
       "      <td>3.0</td>\n",
       "    </tr>\n",
       "    <tr>\n",
       "      <th>droit_progressif_salaire</th>\n",
       "      <td>100</td>\n",
       "      <td>176.0</td>\n",
       "    </tr>\n",
       "    <tr>\n",
       "      <th>droit_progressif</th>\n",
       "      <td>102</td>\n",
       "      <td>179.0</td>\n",
       "    </tr>\n",
       "    <tr>\n",
       "      <th>droit_proportionnel_autres_revenus</th>\n",
       "      <td>15</td>\n",
       "      <td>20.0</td>\n",
       "    </tr>\n",
       "    <tr>\n",
       "      <th>droit_proportionnel_salaire</th>\n",
       "      <td>64</td>\n",
       "      <td>99.0</td>\n",
       "    </tr>\n",
       "    <tr>\n",
       "      <th>droit_proportionnel</th>\n",
       "      <td>79</td>\n",
       "      <td>119.0</td>\n",
       "    </tr>\n",
       "    <tr>\n",
       "      <th>impot_revenus</th>\n",
       "      <td>181</td>\n",
       "      <td>298.0</td>\n",
       "    </tr>\n",
       "  </tbody>\n",
       "</table>\n",
       "</div>"
      ],
      "text/plain": [
       "                                    aggregate  inflated_aggregate\n",
       "contribution_globale_fonciere               0                 0.0\n",
       "contribution_globale_unique                35                49.0\n",
       "droit_progressif_pension_retraite           2                 3.0\n",
       "droit_progressif_salaire                  100               176.0\n",
       "droit_progressif                          102               179.0\n",
       "droit_proportionnel_autres_revenus         15                20.0\n",
       "droit_proportionnel_salaire                64                99.0\n",
       "droit_proportionnel                        79               119.0\n",
       "impot_revenus                             181               298.0"
      ]
     },
     "execution_count": 20,
     "metadata": {},
     "output_type": "execute_result"
    }
   ],
   "source": [
    "from openfisca_ceq.tools.data.tax_targets import detailed_taxes_by_country, build_country_result\n",
    "direct_taxes_variables = detailed_taxes_by_country[country]\n",
    "\n",
    "direct_taxes = pd.concat(\n",
    "    [\n",
    "        pd.DataFrame(\n",
    "            index = direct_taxes_variables,\n",
    "            columns = ['aggregate'],\n",
    "            data = [\n",
    "                survey_scenario.compute_aggregate(variable, period = year) / 1e9 \n",
    "                for variable in direct_taxes_variables\n",
    "                ],\n",
    "            ),\n",
    "        pd.DataFrame(\n",
    "            index = direct_taxes_variables,\n",
    "            columns = ['inflated_aggregate'],\n",
    "            data = [\n",
    "                    inflated_survey_scenario.compute_aggregate(variable, period = year) / 1e9 \n",
    "                for variable in direct_taxes_variables\n",
    "                ],\n",
    "            )\n",
    "        ],\n",
    "    axis = 1\n",
    ")\n",
    "\n",
    "direct_taxes.round().astype({\"aggregate\": int})"
   ]
  },
  {
   "cell_type": "code",
   "execution_count": 21,
   "metadata": {
    "execution": {
     "iopub.execute_input": "2020-07-09T22:09:33.857920Z",
     "iopub.status.busy": "2020-07-09T22:09:33.857188Z",
     "iopub.status.idle": "2020-07-09T22:09:33.972882Z",
     "shell.execute_reply": "2020-07-09T22:09:33.972148Z"
    },
    "papermill": {
     "duration": 0.169324,
     "end_time": "2020-07-09T22:09:33.973013",
     "exception": false,
     "start_time": "2020-07-09T22:09:33.803689",
     "status": "completed"
    },
    "tags": []
   },
   "outputs": [
    {
     "data": {
      "text/html": [
       "<div>\n",
       "<style scoped>\n",
       "    .dataframe tbody tr th:only-of-type {\n",
       "        vertical-align: middle;\n",
       "    }\n",
       "\n",
       "    .dataframe tbody tr th {\n",
       "        vertical-align: top;\n",
       "    }\n",
       "\n",
       "    .dataframe thead tr th {\n",
       "        text-align: left;\n",
       "    }\n",
       "</style>\n",
       "<table border=\"1\" class=\"dataframe\">\n",
       "  <thead>\n",
       "    <tr>\n",
       "      <th></th>\n",
       "      <th colspan=\"3\" halign=\"left\">Senegal</th>\n",
       "    </tr>\n",
       "    <tr>\n",
       "      <th></th>\n",
       "      <th>actual</th>\n",
       "      <th>direct</th>\n",
       "      <th>inflated</th>\n",
       "    </tr>\n",
       "  </thead>\n",
       "  <tbody>\n",
       "    <tr>\n",
       "      <th>Total tax revenue</th>\n",
       "      <td>1430.0</td>\n",
       "      <td>NaN</td>\n",
       "      <td>NaN</td>\n",
       "    </tr>\n",
       "    <tr>\n",
       "      <th>Direct taxes</th>\n",
       "      <td>494.5</td>\n",
       "      <td>180.6</td>\n",
       "      <td>297.5</td>\n",
       "    </tr>\n",
       "    <tr>\n",
       "      <th>Personal Income Taxes</th>\n",
       "      <td>238.1</td>\n",
       "      <td>180.6</td>\n",
       "      <td>297.5</td>\n",
       "    </tr>\n",
       "    <tr>\n",
       "      <th>Social Security Contributions</th>\n",
       "      <td>95.4</td>\n",
       "      <td>NaN</td>\n",
       "      <td>NaN</td>\n",
       "    </tr>\n",
       "    <tr>\n",
       "      <th>Corporate Income Tax</th>\n",
       "      <td>113.9</td>\n",
       "      <td>0.0</td>\n",
       "      <td>0.0</td>\n",
       "    </tr>\n",
       "    <tr>\n",
       "      <th>Other Direct Taxes</th>\n",
       "      <td>47.1</td>\n",
       "      <td>NaN</td>\n",
       "      <td>NaN</td>\n",
       "    </tr>\n",
       "    <tr>\n",
       "      <th>Indirect taxes</th>\n",
       "      <td>935.5</td>\n",
       "      <td>415.0</td>\n",
       "      <td>803.3</td>\n",
       "    </tr>\n",
       "    <tr>\n",
       "      <th>VAT</th>\n",
       "      <td>519.1</td>\n",
       "      <td>342.2</td>\n",
       "      <td>662.3</td>\n",
       "    </tr>\n",
       "    <tr>\n",
       "      <th>Import Taxes</th>\n",
       "      <td>195.2</td>\n",
       "      <td>72.8</td>\n",
       "      <td>140.9</td>\n",
       "    </tr>\n",
       "    <tr>\n",
       "      <th>Excise taxes</th>\n",
       "      <td>79.8</td>\n",
       "      <td>0.0</td>\n",
       "      <td>0.0</td>\n",
       "    </tr>\n",
       "    <tr>\n",
       "      <th>on Oil Derivates</th>\n",
       "      <td>53.8</td>\n",
       "      <td>NaN</td>\n",
       "      <td>NaN</td>\n",
       "    </tr>\n",
       "    <tr>\n",
       "      <th>on alcohol, tabac and other non-oil derivatives</th>\n",
       "      <td>26.0</td>\n",
       "      <td>NaN</td>\n",
       "      <td>NaN</td>\n",
       "    </tr>\n",
       "    <tr>\n",
       "      <th>Other Indirect Taxes</th>\n",
       "      <td>141.4</td>\n",
       "      <td>NaN</td>\n",
       "      <td>NaN</td>\n",
       "    </tr>\n",
       "    <tr>\n",
       "      <th>Share simulated taxes (% of total tax revenue)</th>\n",
       "      <td>NaN</td>\n",
       "      <td>NaN</td>\n",
       "      <td>NaN</td>\n",
       "    </tr>\n",
       "    <tr>\n",
       "      <th>contribution_globale_fonciere</th>\n",
       "      <td>NaN</td>\n",
       "      <td>0.0</td>\n",
       "      <td>0.0</td>\n",
       "    </tr>\n",
       "    <tr>\n",
       "      <th>contribution_globale_unique</th>\n",
       "      <td>NaN</td>\n",
       "      <td>34.6</td>\n",
       "      <td>49.2</td>\n",
       "    </tr>\n",
       "    <tr>\n",
       "      <th>droit_progressif_pension_retraite</th>\n",
       "      <td>NaN</td>\n",
       "      <td>1.5</td>\n",
       "      <td>2.6</td>\n",
       "    </tr>\n",
       "    <tr>\n",
       "      <th>droit_progressif_salaire</th>\n",
       "      <td>NaN</td>\n",
       "      <td>100.2</td>\n",
       "      <td>176.0</td>\n",
       "    </tr>\n",
       "    <tr>\n",
       "      <th>droit_progressif</th>\n",
       "      <td>NaN</td>\n",
       "      <td>101.7</td>\n",
       "      <td>178.7</td>\n",
       "    </tr>\n",
       "    <tr>\n",
       "      <th>droit_proportionnel_autres_revenus</th>\n",
       "      <td>NaN</td>\n",
       "      <td>14.5</td>\n",
       "      <td>20.2</td>\n",
       "    </tr>\n",
       "    <tr>\n",
       "      <th>droit_proportionnel_salaire</th>\n",
       "      <td>NaN</td>\n",
       "      <td>64.3</td>\n",
       "      <td>98.7</td>\n",
       "    </tr>\n",
       "    <tr>\n",
       "      <th>droit_proportionnel</th>\n",
       "      <td>NaN</td>\n",
       "      <td>78.9</td>\n",
       "      <td>118.8</td>\n",
       "    </tr>\n",
       "    <tr>\n",
       "      <th>impot_revenus</th>\n",
       "      <td>NaN</td>\n",
       "      <td>180.6</td>\n",
       "      <td>297.5</td>\n",
       "    </tr>\n",
       "    <tr>\n",
       "      <th>total_ht_imports</th>\n",
       "      <td>NaN</td>\n",
       "      <td>717.4</td>\n",
       "      <td>1388.7</td>\n",
       "    </tr>\n",
       "  </tbody>\n",
       "</table>\n",
       "</div>"
      ],
      "text/plain": [
       "                                                Senegal                \n",
       "                                                 actual direct inflated\n",
       "Total tax revenue                                1430.0    NaN      NaN\n",
       "Direct taxes                                      494.5  180.6    297.5\n",
       "Personal Income Taxes                             238.1  180.6    297.5\n",
       "Social Security Contributions                      95.4    NaN      NaN\n",
       "Corporate Income Tax                              113.9    0.0      0.0\n",
       "Other Direct Taxes                                 47.1    NaN      NaN\n",
       "Indirect taxes                                    935.5  415.0    803.3\n",
       "VAT                                               519.1  342.2    662.3\n",
       "Import Taxes                                      195.2   72.8    140.9\n",
       "Excise taxes                                       79.8    0.0      0.0\n",
       "on Oil Derivates                                   53.8    NaN      NaN\n",
       "on alcohol, tabac and other non-oil derivatives    26.0    NaN      NaN\n",
       "Other Indirect Taxes                              141.4    NaN      NaN\n",
       "Share simulated taxes (% of total tax revenue)      NaN    NaN      NaN\n",
       "contribution_globale_fonciere                       NaN    0.0      0.0\n",
       "contribution_globale_unique                         NaN   34.6     49.2\n",
       "droit_progressif_pension_retraite                   NaN    1.5      2.6\n",
       "droit_progressif_salaire                            NaN  100.2    176.0\n",
       "droit_progressif                                    NaN  101.7    178.7\n",
       "droit_proportionnel_autres_revenus                  NaN   14.5     20.2\n",
       "droit_proportionnel_salaire                         NaN   64.3     98.7\n",
       "droit_proportionnel                                 NaN   78.9    118.8\n",
       "impot_revenus                                       NaN  180.6    297.5\n",
       "total_ht_imports                                    NaN  717.4   1388.7"
      ]
     },
     "execution_count": 21,
     "metadata": {},
     "output_type": "execute_result"
    }
   ],
   "source": [
    "build_country_result(survey_scenario, inflated_survey_scenario, add_country_details = True)"
   ]
  },
  {
   "cell_type": "markdown",
   "metadata": {
    "papermill": {
     "duration": 0.03154,
     "end_time": "2020-07-09T22:09:34.037071",
     "exception": false,
     "start_time": "2020-07-09T22:09:34.005531",
     "status": "completed"
    },
    "tags": []
   },
   "source": [
    "### Indirect tax variables"
   ]
  },
  {
   "cell_type": "code",
   "execution_count": 22,
   "metadata": {
    "execution": {
     "iopub.execute_input": "2020-07-09T22:09:34.110287Z",
     "iopub.status.busy": "2020-07-09T22:09:34.109825Z",
     "iopub.status.idle": "2020-07-09T22:09:34.114284Z",
     "shell.execute_reply": "2020-07-09T22:09:34.114723Z"
    },
    "papermill": {
     "duration": 0.044405,
     "end_time": "2020-07-09T22:09:34.114857",
     "exception": false,
     "start_time": "2020-07-09T22:09:34.070452",
     "status": "completed"
    },
    "tags": []
   },
   "outputs": [
    {
     "data": {
      "text/plain": [
       "['depenses_ht_tva_exonere',\n",
       " 'depenses_ht_tva_taux_normal',\n",
       " 'depenses_ht_tva_taux_reduit',\n",
       " 'tva_taux_normal',\n",
       " 'tva_taux_reduit',\n",
       " 'tva',\n",
       " 'depenses_ht_hd_sd_droits_douane_consommation_finale',\n",
       " 'depenses_ht_hd_sd_droits_douane_consommation_intermediaire',\n",
       " 'depenses_ht_hd_sd_droits_douane_equipements',\n",
       " 'depenses_ht_hd_sd_droits_douane_exonere',\n",
       " 'droits_douane_consommation_finale',\n",
       " 'droits_douane_consommation_intermediaire',\n",
       " 'droits_douane_equipements',\n",
       " 'droits_douane']"
      ]
     },
     "execution_count": 22,
     "metadata": {},
     "output_type": "execute_result"
    }
   ],
   "source": [
    "indirect_tax_variables = [\n",
    "    variable \n",
    "    for tax in indirect_tax_by_country[country]\n",
    "    for variable in survey_scenario.tax_benefit_system.variables.keys() \n",
    "    if tax in variable \n",
    "    ]\n",
    "indirect_tax_variables"
   ]
  },
  {
   "cell_type": "code",
   "execution_count": 23,
   "metadata": {
    "execution": {
     "iopub.execute_input": "2020-07-09T22:09:34.189245Z",
     "iopub.status.busy": "2020-07-09T22:09:34.188230Z",
     "iopub.status.idle": "2020-07-09T22:09:34.207678Z",
     "shell.execute_reply": "2020-07-09T22:09:34.208489Z"
    },
    "papermill": {
     "duration": 0.062585,
     "end_time": "2020-07-09T22:09:34.208751",
     "exception": false,
     "start_time": "2020-07-09T22:09:34.146166",
     "status": "completed"
    },
    "tags": []
   },
   "outputs": [
    {
     "data": {
      "text/html": [
       "<div>\n",
       "<style scoped>\n",
       "    .dataframe tbody tr th:only-of-type {\n",
       "        vertical-align: middle;\n",
       "    }\n",
       "\n",
       "    .dataframe tbody tr th {\n",
       "        vertical-align: top;\n",
       "    }\n",
       "\n",
       "    .dataframe thead th {\n",
       "        text-align: right;\n",
       "    }\n",
       "</style>\n",
       "<table border=\"1\" class=\"dataframe\">\n",
       "  <thead>\n",
       "    <tr style=\"text-align: right;\">\n",
       "      <th></th>\n",
       "      <th>aggregate</th>\n",
       "    </tr>\n",
       "  </thead>\n",
       "  <tbody>\n",
       "    <tr>\n",
       "      <th>depenses_ht_tva_exonere</th>\n",
       "      <td>1158</td>\n",
       "    </tr>\n",
       "    <tr>\n",
       "      <th>depenses_ht_tva_taux_normal</th>\n",
       "      <td>1877</td>\n",
       "    </tr>\n",
       "    <tr>\n",
       "      <th>depenses_ht_tva_taux_reduit</th>\n",
       "      <td>43</td>\n",
       "    </tr>\n",
       "    <tr>\n",
       "      <th>tva_taux_normal</th>\n",
       "      <td>338</td>\n",
       "    </tr>\n",
       "    <tr>\n",
       "      <th>tva_taux_reduit</th>\n",
       "      <td>4</td>\n",
       "    </tr>\n",
       "    <tr>\n",
       "      <th>tva</th>\n",
       "      <td>342</td>\n",
       "    </tr>\n",
       "    <tr>\n",
       "      <th>depenses_ht_hd_sd_droits_douane_consommation_finale</th>\n",
       "      <td>263</td>\n",
       "    </tr>\n",
       "    <tr>\n",
       "      <th>depenses_ht_hd_sd_droits_douane_consommation_intermediaire</th>\n",
       "      <td>83</td>\n",
       "    </tr>\n",
       "    <tr>\n",
       "      <th>depenses_ht_hd_sd_droits_douane_equipements</th>\n",
       "      <td>238</td>\n",
       "    </tr>\n",
       "    <tr>\n",
       "      <th>depenses_ht_hd_sd_droits_douane_exonere</th>\n",
       "      <td>60</td>\n",
       "    </tr>\n",
       "    <tr>\n",
       "      <th>droits_douane_consommation_finale</th>\n",
       "      <td>53</td>\n",
       "    </tr>\n",
       "    <tr>\n",
       "      <th>droits_douane_consommation_intermediaire</th>\n",
       "      <td>8</td>\n",
       "    </tr>\n",
       "    <tr>\n",
       "      <th>droits_douane_equipements</th>\n",
       "      <td>12</td>\n",
       "    </tr>\n",
       "    <tr>\n",
       "      <th>droits_douane</th>\n",
       "      <td>73</td>\n",
       "    </tr>\n",
       "  </tbody>\n",
       "</table>\n",
       "</div>"
      ],
      "text/plain": [
       "                                                    aggregate\n",
       "depenses_ht_tva_exonere                                  1158\n",
       "depenses_ht_tva_taux_normal                              1877\n",
       "depenses_ht_tva_taux_reduit                                43\n",
       "tva_taux_normal                                           338\n",
       "tva_taux_reduit                                             4\n",
       "tva                                                       342\n",
       "depenses_ht_hd_sd_droits_douane_consommation_fi...        263\n",
       "depenses_ht_hd_sd_droits_douane_consommation_in...         83\n",
       "depenses_ht_hd_sd_droits_douane_equipements               238\n",
       "depenses_ht_hd_sd_droits_douane_exonere                    60\n",
       "droits_douane_consommation_finale                          53\n",
       "droits_douane_consommation_intermediaire                    8\n",
       "droits_douane_equipements                                  12\n",
       "droits_douane                                              73"
      ]
     },
     "execution_count": 23,
     "metadata": {},
     "output_type": "execute_result"
    }
   ],
   "source": [
    "taxes_and_tariffs = pd.DataFrame(\n",
    "    index = indirect_tax_variables,\n",
    "    columns = ['aggregate'],\n",
    "    data = [\n",
    "        survey_scenario.compute_aggregate(variable, period = year) / 1e9 \n",
    "        for variable in indirect_tax_variables\n",
    "        ]\n",
    "    )\n",
    "taxes_and_tariffs.round().astype({\"aggregate\": int})"
   ]
  },
  {
   "cell_type": "markdown",
   "metadata": {
    "papermill": {
     "duration": 0.031441,
     "end_time": "2020-07-09T22:09:34.275172",
     "exception": false,
     "start_time": "2020-07-09T22:09:34.243731",
     "status": "completed"
    },
    "tags": []
   },
   "source": [
    "### Verify consumption"
   ]
  },
  {
   "cell_type": "code",
   "execution_count": 24,
   "metadata": {
    "execution": {
     "iopub.execute_input": "2020-07-09T22:09:34.352012Z",
     "iopub.status.busy": "2020-07-09T22:09:34.351399Z",
     "iopub.status.idle": "2020-07-09T22:09:34.359753Z",
     "shell.execute_reply": "2020-07-09T22:09:34.359379Z"
    },
    "papermill": {
     "duration": 0.049586,
     "end_time": "2020-07-09T22:09:34.359838",
     "exception": false,
     "start_time": "2020-07-09T22:09:34.310252",
     "status": "completed"
    },
    "tags": []
   },
   "outputs": [
    {
     "data": {
      "text/plain": [
       "3683.4909059686083"
      ]
     },
     "execution_count": 24,
     "metadata": {},
     "output_type": "execute_result"
    }
   ],
   "source": [
    "consumption = survey_scenario.compute_aggregate('consumption', period = year) / 1e9\n",
    "consumption"
   ]
  },
  {
   "cell_type": "code",
   "execution_count": 25,
   "metadata": {
    "execution": {
     "iopub.execute_input": "2020-07-09T22:09:34.437871Z",
     "iopub.status.busy": "2020-07-09T22:09:34.437300Z",
     "iopub.status.idle": "2020-07-09T22:09:34.441986Z",
     "shell.execute_reply": "2020-07-09T22:09:34.441193Z"
    },
    "papermill": {
     "duration": 0.044839,
     "end_time": "2020-07-09T22:09:34.442140",
     "exception": false,
     "start_time": "2020-07-09T22:09:34.397301",
     "status": "completed"
    },
    "tags": []
   },
   "outputs": [
    {
     "data": {
      "text/plain": [
       "3420.0210034861534"
      ]
     },
     "execution_count": 25,
     "metadata": {},
     "output_type": "execute_result"
    }
   ],
   "source": [
    "# assert consumption == \n",
    "sum(taxes_and_tariffs['aggregate'][\n",
    "    taxes_and_tariffs.index.str.contains('tva_')\n",
    "    ])"
   ]
  },
  {
   "cell_type": "code",
   "execution_count": 26,
   "metadata": {
    "execution": {
     "iopub.execute_input": "2020-07-09T22:09:34.520195Z",
     "iopub.status.busy": "2020-07-09T22:09:34.519707Z",
     "iopub.status.idle": "2020-07-09T22:09:34.535077Z",
     "shell.execute_reply": "2020-07-09T22:09:34.535909Z"
    },
    "papermill": {
     "duration": 0.056876,
     "end_time": "2020-07-09T22:09:34.536135",
     "exception": false,
     "start_time": "2020-07-09T22:09:34.479259",
     "status": "completed"
    },
    "tags": []
   },
   "outputs": [
    {
     "data": {
      "text/plain": [
       "3420.0209488082546"
      ]
     },
     "execution_count": 26,
     "metadata": {},
     "output_type": "execute_result"
    }
   ],
   "source": [
    "# assert consumption == \n",
    "(\n",
    "    sum(\n",
    "        survey_scenario.compute_aggregate(variable, period = year)\n",
    "        for variable in survey_scenario.tax_benefit_system.variables\n",
    "        if \"depenses_ht_hd_poste\" in variable \n",
    "        ) \n",
    "    + survey_scenario.compute_aggregate(\"droits_douane\", period = year)\n",
    "    + survey_scenario.compute_aggregate(\"tva\", period = year)\n",
    "    ) / 1e9"
   ]
  },
  {
   "cell_type": "markdown",
   "metadata": {
    "papermill": {
     "duration": 0.036233,
     "end_time": "2020-07-09T22:09:34.615563",
     "exception": false,
     "start_time": "2020-07-09T22:09:34.579330",
     "status": "completed"
    },
    "tags": []
   },
   "source": [
    "# Inflate incomes   "
   ]
  },
  {
   "cell_type": "markdown",
   "metadata": {
    "papermill": {
     "duration": 0.033867,
     "end_time": "2020-07-09T22:09:34.688021",
     "exception": false,
     "start_time": "2020-07-09T22:09:34.654154",
     "status": "completed"
    },
    "tags": []
   },
   "source": [
    "## Income variables"
   ]
  },
  {
   "cell_type": "code",
   "execution_count": 27,
   "metadata": {
    "execution": {
     "iopub.execute_input": "2020-07-09T22:09:34.769955Z",
     "iopub.status.busy": "2020-07-09T22:09:34.768965Z",
     "iopub.status.idle": "2020-07-09T22:09:34.772860Z",
     "shell.execute_reply": "2020-07-09T22:09:34.772080Z"
    },
    "papermill": {
     "duration": 0.050914,
     "end_time": "2020-07-09T22:09:34.773156",
     "exception": false,
     "start_time": "2020-07-09T22:09:34.722242",
     "status": "completed"
    },
    "tags": []
   },
   "outputs": [],
   "source": [
    "income_variables = [\n",
    "    'autoconsumption',\n",
    "    'other_income',\n",
    "    'gifts_sales_durables',\n",
    "    'imputed_rent',\n",
    "    'revenu_agricole',\n",
    "    'autres_revenus_du_capital',\n",
    "    'revenu_informel_non_salarie',\n",
    "    'revenu_non_salarie',\n",
    "    'revenu_locatif',\n",
    "    'pension_retraite',\n",
    "    'salaire_super_brut',\n",
    "    ]"
   ]
  },
  {
   "cell_type": "code",
   "execution_count": 28,
   "metadata": {
    "execution": {
     "iopub.execute_input": "2020-07-09T22:09:34.852970Z",
     "iopub.status.busy": "2020-07-09T22:09:34.852200Z",
     "iopub.status.idle": "2020-07-09T22:09:34.861658Z",
     "shell.execute_reply": "2020-07-09T22:09:34.862580Z"
    },
    "papermill": {
     "duration": 0.049792,
     "end_time": "2020-07-09T22:09:34.862827",
     "exception": false,
     "start_time": "2020-07-09T22:09:34.813035",
     "status": "completed"
    },
    "tags": []
   },
   "outputs": [
    {
     "data": {
      "text/plain": [
       "4641.846993890306"
      ]
     },
     "execution_count": 28,
     "metadata": {},
     "output_type": "execute_result"
    }
   ],
   "source": [
    "sum(\n",
    "    survey_scenario.compute_aggregate(income_variable, period = year)\n",
    "    for income_variable in income_variables\n",
    "    ) / 1e9"
   ]
  },
  {
   "cell_type": "code",
   "execution_count": null,
   "metadata": {
    "papermill": {
     "duration": 0.033242,
     "end_time": "2020-07-09T22:09:34.933646",
     "exception": false,
     "start_time": "2020-07-09T22:09:34.900404",
     "status": "completed"
    },
    "tags": []
   },
   "outputs": [],
   "source": []
  },
  {
   "cell_type": "code",
   "execution_count": 29,
   "metadata": {
    "execution": {
     "iopub.execute_input": "2020-07-09T22:09:35.007117Z",
     "iopub.status.busy": "2020-07-09T22:09:35.006538Z",
     "iopub.status.idle": "2020-07-09T22:09:35.016493Z",
     "shell.execute_reply": "2020-07-09T22:09:35.017488Z"
    },
    "papermill": {
     "duration": 0.050673,
     "end_time": "2020-07-09T22:09:35.017722",
     "exception": false,
     "start_time": "2020-07-09T22:09:34.967049",
     "status": "completed"
    },
    "tags": []
   },
   "outputs": [
    {
     "data": {
      "text/plain": [
       "6294.98481673941"
      ]
     },
     "execution_count": 29,
     "metadata": {},
     "output_type": "execute_result"
    }
   ],
   "source": [
    "sum(\n",
    "    inflated_survey_scenario.compute_aggregate(income_variable, period = year)\n",
    "    for income_variable in income_variables\n",
    "    ) / 1e9"
   ]
  },
  {
   "cell_type": "markdown",
   "metadata": {
    "papermill": {
     "duration": 0.034497,
     "end_time": "2020-07-09T22:09:35.093142",
     "exception": false,
     "start_time": "2020-07-09T22:09:35.058645",
     "status": "completed"
    },
    "tags": []
   },
   "source": [
    "# Indicators"
   ]
  },
  {
   "cell_type": "code",
   "execution_count": 30,
   "metadata": {
    "execution": {
     "iopub.execute_input": "2020-07-09T22:09:35.168511Z",
     "iopub.status.busy": "2020-07-09T22:09:35.167351Z",
     "iopub.status.idle": "2020-07-09T22:09:35.253868Z",
     "shell.execute_reply": "2020-07-09T22:09:35.252806Z"
    },
    "papermill": {
     "duration": 0.127003,
     "end_time": "2020-07-09T22:09:35.254053",
     "exception": false,
     "start_time": "2020-07-09T22:09:35.127050",
     "status": "completed"
    },
    "tags": []
   },
   "outputs": [
    {
     "data": {
      "text/html": [
       "<div>\n",
       "<style scoped>\n",
       "    .dataframe tbody tr th:only-of-type {\n",
       "        vertical-align: middle;\n",
       "    }\n",
       "\n",
       "    .dataframe tbody tr th {\n",
       "        vertical-align: top;\n",
       "    }\n",
       "\n",
       "    .dataframe thead th {\n",
       "        text-align: right;\n",
       "    }\n",
       "</style>\n",
       "<table border=\"1\" class=\"dataframe\">\n",
       "  <thead>\n",
       "    <tr style=\"text-align: right;\">\n",
       "      <th></th>\n",
       "      <th>market_income</th>\n",
       "      <th>market_income_plus_pensions</th>\n",
       "      <th>gross_income</th>\n",
       "      <th>disposable_income</th>\n",
       "      <th>consumable_income</th>\n",
       "      <th>final_income</th>\n",
       "    </tr>\n",
       "  </thead>\n",
       "  <tbody>\n",
       "    <tr>\n",
       "      <th>Gini</th>\n",
       "      <td>0.56</td>\n",
       "      <td>0.56</td>\n",
       "      <td>0.55</td>\n",
       "      <td>0.54</td>\n",
       "      <td>0.57</td>\n",
       "      <td>0.53</td>\n",
       "    </tr>\n",
       "    <tr>\n",
       "      <th>Bottom 40 %</th>\n",
       "      <td>0.10</td>\n",
       "      <td>0.10</td>\n",
       "      <td>0.10</td>\n",
       "      <td>0.10</td>\n",
       "      <td>0.09</td>\n",
       "      <td>0.11</td>\n",
       "    </tr>\n",
       "    <tr>\n",
       "      <th>Top 10 %</th>\n",
       "      <td>0.44</td>\n",
       "      <td>0.44</td>\n",
       "      <td>0.44</td>\n",
       "      <td>0.42</td>\n",
       "      <td>0.44</td>\n",
       "      <td>0.42</td>\n",
       "    </tr>\n",
       "  </tbody>\n",
       "</table>\n",
       "</div>"
      ],
      "text/plain": [
       "             market_income  market_income_plus_pensions  gross_income  \\\n",
       "Gini                  0.56                         0.56          0.55   \n",
       "Bottom 40 %           0.10                         0.10          0.10   \n",
       "Top 10 %              0.44                         0.44          0.44   \n",
       "\n",
       "             disposable_income  consumable_income  final_income  \n",
       "Gini                      0.54               0.57          0.53  \n",
       "Bottom 40 %               0.10               0.09          0.11  \n",
       "Top 10 %                  0.42               0.44          0.42  "
      ]
     },
     "metadata": {},
     "output_type": "display_data"
    }
   ],
   "source": [
    "from openfisca_survey_manager.statshelpers import lorenz\n",
    "from openfisca_ceq.tools.results.inequality import inequality_table\n",
    "display(inequality_table(survey_scenario))"
   ]
  },
  {
   "cell_type": "code",
   "execution_count": 31,
   "metadata": {
    "execution": {
     "iopub.execute_input": "2020-07-09T22:09:35.340259Z",
     "iopub.status.busy": "2020-07-09T22:09:35.339746Z",
     "iopub.status.idle": "2020-07-09T22:09:35.346540Z",
     "shell.execute_reply": "2020-07-09T22:09:35.345798Z"
    },
    "papermill": {
     "duration": 0.049656,
     "end_time": "2020-07-09T22:09:35.346693",
     "exception": false,
     "start_time": "2020-07-09T22:09:35.297037",
     "status": "completed"
    },
    "tags": []
   },
   "outputs": [
    {
     "data": {
      "text/plain": [
       "414.9883368574343"
      ]
     },
     "execution_count": 31,
     "metadata": {},
     "output_type": "execute_result"
    }
   ],
   "source": [
    "survey_scenario.compute_aggregate(\"impots_indirects\", period = year) / 1e9"
   ]
  },
  {
   "cell_type": "code",
   "execution_count": 32,
   "metadata": {
    "execution": {
     "iopub.execute_input": "2020-07-09T22:09:35.427706Z",
     "iopub.status.busy": "2020-07-09T22:09:35.426836Z",
     "iopub.status.idle": "2020-07-09T22:09:35.431795Z",
     "shell.execute_reply": "2020-07-09T22:09:35.432582Z"
    },
    "papermill": {
     "duration": 0.047713,
     "end_time": "2020-07-09T22:09:35.432800",
     "exception": false,
     "start_time": "2020-07-09T22:09:35.385087",
     "status": "completed"
    },
    "tags": []
   },
   "outputs": [
    {
     "data": {
      "text/plain": [
       "180.56767149911866"
      ]
     },
     "execution_count": 32,
     "metadata": {},
     "output_type": "execute_result"
    }
   ],
   "source": [
    "survey_scenario.compute_aggregate(\"direct_taxes\", period = year) / 1e9"
   ]
  },
  {
   "cell_type": "code",
   "execution_count": 33,
   "metadata": {
    "execution": {
     "iopub.execute_input": "2020-07-09T22:09:35.509961Z",
     "iopub.status.busy": "2020-07-09T22:09:35.509285Z",
     "iopub.status.idle": "2020-07-09T22:09:35.515808Z",
     "shell.execute_reply": "2020-07-09T22:09:35.514875Z"
    },
    "papermill": {
     "duration": 0.046123,
     "end_time": "2020-07-09T22:09:35.515973",
     "exception": false,
     "start_time": "2020-07-09T22:09:35.469850",
     "status": "completed"
    },
    "tags": []
   },
   "outputs": [
    {
     "data": {
      "text/plain": [
       "180.56767149911866"
      ]
     },
     "execution_count": 33,
     "metadata": {},
     "output_type": "execute_result"
    }
   ],
   "source": [
    "survey_scenario.compute_aggregate(\"personal_income_tax\", period = year) / 1e9"
   ]
  },
  {
   "cell_type": "code",
   "execution_count": 34,
   "metadata": {
    "execution": {
     "iopub.execute_input": "2020-07-09T22:09:35.601401Z",
     "iopub.status.busy": "2020-07-09T22:09:35.600769Z",
     "iopub.status.idle": "2020-07-09T22:09:35.604653Z",
     "shell.execute_reply": "2020-07-09T22:09:35.603848Z"
    },
    "papermill": {
     "duration": 0.050126,
     "end_time": "2020-07-09T22:09:35.604834",
     "exception": false,
     "start_time": "2020-07-09T22:09:35.554708",
     "status": "completed"
    },
    "tags": []
   },
   "outputs": [],
   "source": [
    "from openfisca_ceq import list_variables_from_directory"
   ]
  },
  {
   "cell_type": "code",
   "execution_count": 35,
   "metadata": {
    "execution": {
     "iopub.execute_input": "2020-07-09T22:09:35.690292Z",
     "iopub.status.busy": "2020-07-09T22:09:35.689852Z",
     "iopub.status.idle": "2020-07-09T22:09:35.858497Z",
     "shell.execute_reply": "2020-07-09T22:09:35.859310Z"
    },
    "papermill": {
     "duration": 0.21526,
     "end_time": "2020-07-09T22:09:35.859527",
     "exception": false,
     "start_time": "2020-07-09T22:09:35.644267",
     "status": "completed"
    },
    "tags": []
   },
   "outputs": [
    {
     "data": {
      "text/plain": [
       "['agricultural_inputs_subsidies',\n",
       " 'alimony',\n",
       " 'corporate_income_tax',\n",
       " 'electricity_subsidies',\n",
       " 'employee_contributions_health',\n",
       " 'employee_other_contributions',\n",
       " 'excise_taxes',\n",
       " 'food_subsidies',\n",
       " 'fuel_subsidies',\n",
       " 'indirect_subsidies',\n",
       " 'other_taxes',\n",
       " 'payroll_tax',\n",
       " 'property_tax',\n",
       " 'sales_tax',\n",
       " 'self_employed_contributions_health',\n",
       " 'self_employed_contributions_pensions',\n",
       " 'self_employed_other_contributions']"
      ]
     },
     "execution_count": 35,
     "metadata": {},
     "output_type": "execute_result"
    }
   ],
   "source": [
    "ceq_variables = sorted(list_variables_from_directory(survey_scenario.tax_benefit_system))\n",
    "[\n",
    "    ceq_variable\n",
    "    for ceq_variable in ceq_variables\n",
    "    if survey_scenario.compute_aggregate(ceq_variable, period = year) == 0\n",
    "    ]"
   ]
  },
  {
   "cell_type": "code",
   "execution_count": 36,
   "metadata": {
    "execution": {
     "iopub.execute_input": "2020-07-09T22:09:35.948833Z",
     "iopub.status.busy": "2020-07-09T22:09:35.947328Z",
     "iopub.status.idle": "2020-07-09T22:09:36.062716Z",
     "shell.execute_reply": "2020-07-09T22:09:36.061670Z"
    },
    "papermill": {
     "duration": 0.160482,
     "end_time": "2020-07-09T22:09:36.062901",
     "exception": false,
     "start_time": "2020-07-09T22:09:35.902419",
     "status": "completed"
    },
    "tags": []
   },
   "outputs": [
    {
     "data": {
      "text/plain": [
       "[<matplotlib.lines.Line2D at 0x7f445153f690>]"
      ]
     },
     "execution_count": 36,
     "metadata": {},
     "output_type": "execute_result"
    },
    {
     "data": {
      "image/png": "[encoded data removed]",
      "text/plain": [
       "<Figure size 432x288 with 1 Axes>"
      ]
     },
     "metadata": {
      "needs_background": "light"
     },
     "output_type": "display_data"
    }
   ],
   "source": [
    "variable = \"market_income\"\n",
    "nb_persons = survey_scenario.calculate_variable(\"number_of_people_per_household\", period = year)\n",
    "weights = survey_scenario.calculate_variable(\"household_weight\", period = year) * nb_persons\n",
    "\n",
    "y, x = lorenz(survey_scenario.calculate_variable(variable, period = year) / nb_persons, weights = weights)\n",
    "plt.plot(x, y)"
   ]
  },
  {
   "cell_type": "code",
   "execution_count": 37,
   "metadata": {
    "execution": {
     "iopub.execute_input": "2020-07-09T22:09:36.149217Z",
     "iopub.status.busy": "2020-07-09T22:09:36.148048Z",
     "iopub.status.idle": "2020-07-09T22:09:36.153786Z",
     "shell.execute_reply": "2020-07-09T22:09:36.154486Z"
    },
    "papermill": {
     "duration": 0.049005,
     "end_time": "2020-07-09T22:09:36.154699",
     "exception": false,
     "start_time": "2020-07-09T22:09:36.105694",
     "status": "completed"
    },
    "tags": []
   },
   "outputs": [
    {
     "data": {
      "text/plain": [
       "23.617592066947427"
      ]
     },
     "execution_count": 37,
     "metadata": {},
     "output_type": "execute_result"
    }
   ],
   "source": [
    "survey_scenario.compute_aggregate('direct_transfers', period = year) / 1e9"
   ]
  },
  {
   "cell_type": "code",
   "execution_count": 38,
   "metadata": {
    "execution": {
     "iopub.execute_input": "2020-07-09T22:09:36.237096Z",
     "iopub.status.busy": "2020-07-09T22:09:36.232635Z",
     "iopub.status.idle": "2020-07-09T22:09:36.241429Z",
     "shell.execute_reply": "2020-07-09T22:09:36.242131Z"
    },
    "papermill": {
     "duration": 0.049285,
     "end_time": "2020-07-09T22:09:36.242327",
     "exception": false,
     "start_time": "2020-07-09T22:09:36.193042",
     "status": "completed"
    },
    "tags": []
   },
   "outputs": [
    {
     "data": {
      "text/plain": [
       "['agricultural_inputs_subsidies',\n",
       " 'alimony',\n",
       " 'all_income_excluding_transfers',\n",
       " 'autoconsumption',\n",
       " 'consumable_income',\n",
       " 'contributions_health',\n",
       " 'contributions_pensions',\n",
       " 'corporate_income_tax',\n",
       " 'customs_duties',\n",
       " 'decile_consumable_income_per_capita',\n",
       " 'decile_disposable_income_per_capita',\n",
       " 'decile_final_income_per_capita',\n",
       " 'decile_gross_income_per_capita',\n",
       " 'decile_market_income_per_capita',\n",
       " 'decile_market_income_plus_pensions_per_capita',\n",
       " 'decile_survey_income_per_capita',\n",
       " 'direct_taxes',\n",
       " 'disposable_income',\n",
       " 'electricity_subsidies',\n",
       " 'employee_contributions_health',\n",
       " 'employee_contributions_pensions',\n",
       " 'employee_other_contributions',\n",
       " 'employer_contributions_health',\n",
       " 'employer_contributions_pensions',\n",
       " 'employer_other_contributions',\n",
       " 'excise_taxes',\n",
       " 'final_income',\n",
       " 'food_subsidies',\n",
       " 'fuel_subsidies',\n",
       " 'gifts_sales_durables',\n",
       " 'gross_income',\n",
       " 'imputed_rent',\n",
       " 'indirect_subsidies',\n",
       " 'indirect_taxes',\n",
       " 'market_income',\n",
       " 'market_income_plus_pensions',\n",
       " 'net_market_income',\n",
       " 'nontaxable_income',\n",
       " 'other_contributions',\n",
       " 'other_income',\n",
       " 'other_taxes',\n",
       " 'payroll_tax',\n",
       " 'pensions',\n",
       " 'personal_income_tax',\n",
       " 'property_tax',\n",
       " 'sales_tax',\n",
       " 'self_employed_contributions_health',\n",
       " 'self_employed_contributions_pensions',\n",
       " 'self_employed_other_contributions',\n",
       " 'taxable_income',\n",
       " 'value_added_tax']"
      ]
     },
     "execution_count": 38,
     "metadata": {},
     "output_type": "execute_result"
    }
   ],
   "source": [
    "ceq_variables"
   ]
  },
  {
   "cell_type": "code",
   "execution_count": 39,
   "metadata": {
    "execution": {
     "iopub.execute_input": "2020-07-09T22:09:36.326561Z",
     "iopub.status.busy": "2020-07-09T22:09:36.325022Z",
     "iopub.status.idle": "2020-07-09T22:09:36.331101Z",
     "shell.execute_reply": "2020-07-09T22:09:36.331903Z"
    },
    "papermill": {
     "duration": 0.050396,
     "end_time": "2020-07-09T22:09:36.332148",
     "exception": false,
     "start_time": "2020-07-09T22:09:36.281752",
     "status": "completed"
    },
    "tags": []
   },
   "outputs": [
    {
     "data": {
      "text/plain": [
       "72801363171.01367"
      ]
     },
     "execution_count": 39,
     "metadata": {},
     "output_type": "execute_result"
    }
   ],
   "source": [
    "survey_scenario.compute_aggregate('customs_duties', period = year) "
   ]
  },
  {
   "cell_type": "code",
   "execution_count": 40,
   "metadata": {
    "execution": {
     "iopub.execute_input": "2020-07-09T22:09:36.422798Z",
     "iopub.status.busy": "2020-07-09T22:09:36.422248Z",
     "iopub.status.idle": "2020-07-09T22:09:40.642340Z",
     "shell.execute_reply": "2020-07-09T22:09:40.642842Z"
    },
    "papermill": {
     "duration": 4.265827,
     "end_time": "2020-07-09T22:09:40.642987",
     "exception": false,
     "start_time": "2020-07-09T22:09:36.377160",
     "status": "completed"
    },
    "tags": []
   },
   "outputs": [
    {
     "name": "stderr",
     "output_type": "stream",
     "text": [
      "/home/benjello/.virtualenvs/ceq/lib/python3.7/site-packages/scipy/optimize/minpack.py:175: RuntimeWarning: The iteration is not making good progress, as measured by the \n",
      "  improvement from the last ten iterations.\n",
      "  warnings.warn(msg, RuntimeWarning)\n"
     ]
    }
   ],
   "source": [
    "inflated_survey_scenario = build_ceq_survey_scenario(legislation_country = country, year = year, inflate = True)"
   ]
  },
  {
   "cell_type": "code",
   "execution_count": 41,
   "metadata": {
    "execution": {
     "iopub.execute_input": "2020-07-09T22:09:40.757555Z",
     "iopub.status.busy": "2020-07-09T22:09:40.756924Z",
     "iopub.status.idle": "2020-07-09T22:09:40.759699Z",
     "shell.execute_reply": "2020-07-09T22:09:40.759227Z"
    },
    "papermill": {
     "duration": 0.054335,
     "end_time": "2020-07-09T22:09:40.759801",
     "exception": false,
     "start_time": "2020-07-09T22:09:40.705466",
     "status": "completed"
    },
    "tags": []
   },
   "outputs": [
    {
     "data": {
      "text/plain": [
       "['poste_10_1_1_1',\n",
       " 'poste_11_1_1_1_1',\n",
       " 'poste_12_1_3_item_1',\n",
       " 'poste_12_1_3_item_2',\n",
       " 'poste_12_3_1_1',\n",
       " 'poste_12_7_1_2_1',\n",
       " 'poste_12_7_1_item_1',\n",
       " 'poste_12_7_1_item_2',\n",
       " 'poste_1_1_1_1_1_item_1',\n",
       " 'poste_1_1_1_1_1_item_2',\n",
       " 'poste_1_1_1_4_1_item_1',\n",
       " 'poste_1_1_1_4_1_item_2',\n",
       " 'poste_1_1_1_4_1_item_3',\n",
       " 'poste_1_1_1_4_1_item_4',\n",
       " 'poste_1_1_1_4_1_item_5',\n",
       " 'poste_1_1_1_4_1_item_6',\n",
       " 'poste_1_1_1_4_1_item_7',\n",
       " 'poste_1_1_1_4_3_item_1',\n",
       " 'poste_1_1_1_4_3_item_2',\n",
       " 'poste_1_1_1_4_3_item_3',\n",
       " 'poste_1_1_2_item_1',\n",
       " 'poste_1_1_2_item_2',\n",
       " 'poste_1_1_2_item_3',\n",
       " 'poste_1_1_2_item_4',\n",
       " 'poste_1_1_2_item_5',\n",
       " 'poste_1_1_2_item_6',\n",
       " 'poste_1_1_3_item_1',\n",
       " 'poste_1_1_3_item_2',\n",
       " 'poste_1_1_3_item_3',\n",
       " 'poste_1_1_4_item_1',\n",
       " 'poste_1_1_4_item_2',\n",
       " 'poste_1_1_4_item_3',\n",
       " 'poste_1_1_4_item_4',\n",
       " 'poste_1_1_5_item_1',\n",
       " 'poste_1_1_5_item_2',\n",
       " 'poste_1_1_5_item_3',\n",
       " 'poste_1_1_5_item_4',\n",
       " 'poste_1_1_6',\n",
       " 'poste_1_1_7_item_1',\n",
       " 'poste_1_1_7_item_2',\n",
       " 'poste_1_1_7_item_3',\n",
       " 'poste_1_1_7_item_4',\n",
       " 'poste_1_1_7_item_5',\n",
       " 'poste_1_1_7_item_6',\n",
       " 'poste_1_1_7_item_7',\n",
       " 'poste_1_1_8_item_1',\n",
       " 'poste_1_1_8_item_2',\n",
       " 'poste_1_1_8_item_3',\n",
       " 'poste_1_1_9_item_1',\n",
       " 'poste_1_1_9_item_2',\n",
       " 'poste_1_1_9_item_3',\n",
       " 'poste_1_1_9_item_4',\n",
       " 'poste_1_2_item_1',\n",
       " 'poste_1_2_item_2',\n",
       " 'poste_1_2_item_3',\n",
       " 'poste_1_2_item_4',\n",
       " 'poste_1_2_item_5',\n",
       " 'poste_1_2_item_6',\n",
       " 'poste_2_1',\n",
       " 'poste_2_2',\n",
       " 'poste_3_1_2_item_1',\n",
       " 'poste_3_1_2_item_2',\n",
       " 'poste_3_1_2_item_3',\n",
       " 'poste_3_1_2_item_4',\n",
       " 'poste_3_2_1',\n",
       " 'poste_4_1_1_item_1',\n",
       " 'poste_4_1_1_item_2',\n",
       " 'poste_4_3',\n",
       " 'poste_4_3_2_2_1_item_1',\n",
       " 'poste_4_3_2_2_1_item_2',\n",
       " 'poste_4_4_1_1_1_item_1',\n",
       " 'poste_4_4_1_1_1_item_2',\n",
       " 'poste_4_4_1_1_1_item_3',\n",
       " 'poste_4_4_1_2_1',\n",
       " 'poste_4_5_1_1_1_item_1',\n",
       " 'poste_4_5_1_1_1_item_2',\n",
       " 'poste_4_5_2_1_1',\n",
       " 'poste_4_5_3_1_1',\n",
       " 'poste_4_5_4_1_1_item_1',\n",
       " 'poste_4_5_4_1_1_item_2',\n",
       " 'poste_5_1',\n",
       " 'poste_5_5_1_item_1',\n",
       " 'poste_5_5_1_item_2',\n",
       " 'poste_5_5_1_item_3',\n",
       " 'poste_5_6_2_1_1',\n",
       " 'poste_6_1_1_item_1',\n",
       " 'poste_6_1_1_item_2',\n",
       " 'poste_6_1_1_item_3',\n",
       " 'poste_6_2_1_item_1',\n",
       " 'poste_6_2_1_item_2',\n",
       " 'poste_6_2_1_item_3',\n",
       " 'poste_6_2_1_item_4',\n",
       " 'poste_6_2_1_item_5',\n",
       " 'poste_6_2_1_item_6',\n",
       " 'poste_7_1_1',\n",
       " 'poste_7_2_2',\n",
       " 'poste_7_2_3_item_1',\n",
       " 'poste_7_2_3_item_2',\n",
       " 'poste_7_3_2_item_1',\n",
       " 'poste_7_3_2_item_2',\n",
       " 'poste_8_1_2_2_1_item_1',\n",
       " 'poste_8_1_2_2_1_item_2',\n",
       " 'poste_8_1_2_2_1_item_3',\n",
       " 'poste_8_1_2_2_1_item_4',\n",
       " 'poste_8_1_2_2_1_item_5',\n",
       " 'poste_9_4',\n",
       " 'poste_9_4_2_3_1',\n",
       " 'poste_9_5_1_1_3',\n",
       " 'poste_9_5_3_2_2']"
      ]
     },
     "execution_count": 41,
     "metadata": {},
     "output_type": "execute_result"
    }
   ],
   "source": [
    "sorted([\n",
    "    variable \n",
    "    for variable in survey_scenario.tax_benefit_system.variables \n",
    "    if variable.startswith('poste_')\n",
    "    ])"
   ]
  },
  {
   "cell_type": "code",
   "execution_count": 42,
   "metadata": {
    "execution": {
     "iopub.execute_input": "2020-07-09T22:09:40.846163Z",
     "iopub.status.busy": "2020-07-09T22:09:40.841829Z",
     "iopub.status.idle": "2020-07-09T22:09:40.849619Z",
     "shell.execute_reply": "2020-07-09T22:09:40.849160Z"
    },
    "papermill": {
     "duration": 0.048622,
     "end_time": "2020-07-09T22:09:40.849706",
     "exception": false,
     "start_time": "2020-07-09T22:09:40.801084",
     "status": "completed"
    },
    "tags": []
   },
   "outputs": [
    {
     "data": {
      "text/plain": [
       "414988336857.4343"
      ]
     },
     "execution_count": 42,
     "metadata": {},
     "output_type": "execute_result"
    }
   ],
   "source": [
    "survey_scenario.compute_aggregate('indirect_taxes', period = year)"
   ]
  },
  {
   "cell_type": "markdown",
   "metadata": {
    "papermill": {
     "duration": 0.038867,
     "end_time": "2020-07-09T22:09:40.934629",
     "exception": false,
     "start_time": "2020-07-09T22:09:40.895762",
     "status": "completed"
    },
    "tags": []
   },
   "source": [
    "Direct taxes"
   ]
  },
  {
   "cell_type": "code",
   "execution_count": null,
   "metadata": {
    "papermill": {
     "duration": 0.038561,
     "end_time": "2020-07-09T22:09:41.013809",
     "exception": false,
     "start_time": "2020-07-09T22:09:40.975248",
     "status": "completed"
    },
    "tags": []
   },
   "outputs": [],
   "source": []
  },
  {
   "cell_type": "code",
   "execution_count": null,
   "metadata": {
    "papermill": {
     "duration": 0.039358,
     "end_time": "2020-07-09T22:09:41.092023",
     "exception": false,
     "start_time": "2020-07-09T22:09:41.052665",
     "status": "completed"
    },
    "tags": []
   },
   "outputs": [],
   "source": []
  }
 ],
 "metadata": {
  "kernelspec": {
   "display_name": "Python 3",
   "language": "python",
   "name": "python3"
  },
  "language_info": {
   "codemirror_mode": {
    "name": "ipython",
    "version": 3
   },
   "file_extension": ".py",
   "mimetype": "text/x-python",
   "name": "python",
   "nbconvert_exporter": "python",
   "pygments_lexer": "ipython3",
   "version": "3.7.8"
  },
  "papermill": {
   "duration": 20.267321,
   "end_time": "2020-07-09T22:09:41.647555",
   "environment_variables": {},
   "exception": null,
   "input_path": "notebooks/test.ipynb",
   "output_path": "notebooks/senegal.ipynb",
   "parameters": {
    "country": "senegal"
   },
   "start_time": "2020-07-09T22:09:21.380234",
   "version": "2.1.2"
  }
 },
 "nbformat": 4,
 "nbformat_minor": 4
}