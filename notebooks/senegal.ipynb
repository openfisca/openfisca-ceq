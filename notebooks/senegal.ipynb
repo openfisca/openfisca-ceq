{
 "cells": [
  {
   "cell_type": "code",
   "execution_count": 1,
   "metadata": {
    "papermill": {
     "duration": 0.031729,
     "end_time": "2020-05-05T17:15:05.489806",
     "exception": false,
     "start_time": "2020-05-05T17:15:05.458077",
     "status": "completed"
    },
    "tags": []
   },
   "outputs": [],
   "source": [
    "# !pip install -U git+https://github.com/openfisca/openfisca-ceq.git@master#egg=OpenFisca-CEQ\n",
    "# !pip install -U git+https://github.com/openfisca/openfisca-senegal.git@ceq#egg=OpenFisca-Senegal\n",
    "# !pip install -U git+https://github.com/openfisca/openfisca-mali.git@master#egg=OpenFisca-Mali\n",
    "# !pip install -U git+https://github.com/openfisca/openfisca-cote-d-ivoire.git@master#egg=OpenFisca-COTE-D-IVOIRE"
   ]
  },
  {
   "cell_type": "code",
   "execution_count": 2,
   "metadata": {
    "papermill": {
     "duration": 0.598895,
     "end_time": "2020-05-05T17:15:06.108606",
     "exception": false,
     "start_time": "2020-05-05T17:15:05.509711",
     "status": "completed"
    },
    "tags": []
   },
   "outputs": [],
   "source": [
    "from matplotlib import pyplot as plt\n",
    "%matplotlib inline\n",
    "import pandas as pd\n",
    "from openfisca_ceq.tools.survey_scenario import build_ceq_survey_scenario\n",
    "from openfisca_ceq.tools.indirect_taxation.tax_benefit_system_indirect_taxation_completion import indirect_tax_by_country\n",
    "from openfisca_ceq.tools.data import year_by_country\n",
    "from openfisca_ceq.tools.data_ceq_correspondence import (\n",
    "    ceq_input_by_harmonized_variable,\n",
    "    ceq_intermediate_by_harmonized_variable,\n",
    "    non_ceq_input_by_harmonized_variable,\n",
    "    )"
   ]
  },
  {
   "cell_type": "markdown",
   "metadata": {
    "papermill": {
     "duration": 0.016609,
     "end_time": "2020-05-05T17:15:06.145107",
     "exception": false,
     "start_time": "2020-05-05T17:15:06.128498",
     "status": "completed"
    },
    "tags": []
   },
   "source": [
    "# Build country scenario"
   ]
  },
  {
   "cell_type": "markdown",
   "metadata": {
    "papermill": {
     "duration": 0.016731,
     "end_time": "2020-05-05T17:15:06.179053",
     "exception": false,
     "start_time": "2020-05-05T17:15:06.162322",
     "status": "completed"
    },
    "tags": []
   },
   "source": [
    "## Country selection"
   ]
  },
  {
   "cell_type": "code",
   "execution_count": 3,
   "metadata": {
    "papermill": {
     "duration": 0.022514,
     "end_time": "2020-05-05T17:15:06.218156",
     "exception": false,
     "start_time": "2020-05-05T17:15:06.195642",
     "status": "completed"
    },
    "tags": [
     "parameters"
    ]
   },
   "outputs": [],
   "source": [
    "country = \"cote_d_ivoire\""
   ]
  },
  {
   "cell_type": "code",
   "execution_count": 4,
   "metadata": {
    "papermill": {
     "duration": 0.022801,
     "end_time": "2020-05-05T17:15:06.259468",
     "exception": false,
     "start_time": "2020-05-05T17:15:06.236667",
     "status": "completed"
    },
    "tags": [
     "injected-parameters"
    ]
   },
   "outputs": [],
   "source": [
    "# Parameters\n",
    "country = \"senegal\"\n"
   ]
  },
  {
   "cell_type": "code",
   "execution_count": 5,
   "metadata": {
    "papermill": {
     "duration": 4.551129,
     "end_time": "2020-05-05T17:15:10.829125",
     "exception": false,
     "start_time": "2020-05-05T17:15:06.277996",
     "status": "completed"
    },
    "tags": []
   },
   "outputs": [],
   "source": [
    "year = year_by_country[country]\n",
    "survey_scenario = build_ceq_survey_scenario(legislation_country = country, year = year)"
   ]
  },
  {
   "cell_type": "markdown",
   "metadata": {
    "papermill": {
     "duration": 0.017079,
     "end_time": "2020-05-05T17:15:10.865709",
     "exception": false,
     "start_time": "2020-05-05T17:15:10.848630",
     "status": "completed"
    },
    "tags": []
   },
   "source": [
    "# Aggegates check"
   ]
  },
  {
   "cell_type": "markdown",
   "metadata": {
    "papermill": {
     "duration": 0.016914,
     "end_time": "2020-05-05T17:15:10.900187",
     "exception": false,
     "start_time": "2020-05-05T17:15:10.883273",
     "status": "completed"
    },
    "tags": []
   },
   "source": [
    "## Income variables"
   ]
  },
  {
   "cell_type": "markdown",
   "metadata": {
    "papermill": {
     "duration": 0.016683,
     "end_time": "2020-05-05T17:15:10.934185",
     "exception": false,
     "start_time": "2020-05-05T17:15:10.917502",
     "status": "completed"
    },
    "tags": []
   },
   "source": [
    "### Disagregated income variables"
   ]
  },
  {
   "cell_type": "code",
   "execution_count": 6,
   "metadata": {
    "papermill": {
     "duration": 0.027069,
     "end_time": "2020-05-05T17:15:10.978556",
     "exception": false,
     "start_time": "2020-05-05T17:15:10.951487",
     "status": "completed"
    },
    "tags": []
   },
   "outputs": [
    {
     "data": {
      "text/plain": [
       "{'rev_i_autoconsommation': 'autoconsumption',\n",
       " 'rev_i_autres': 'other_income',\n",
       " 'rev_i_autres_transferts': 'gifts_sales_durables',\n",
       " 'rev_i_loyers_imputes': 'imputed_rent',\n",
       " 'rev_i_transferts_publics': 'direct_transfers',\n",
       " 'rev_i_agricoles': 'revenu_agricole',\n",
       " 'rev_i_autres_revenus_capital': 'autres_revenus_du_capital',\n",
       " 'rev_i_independants_Ntaxe': 'revenu_informel_non_salarie',\n",
       " 'rev_i_independants_taxe': 'revenu_non_salarie',\n",
       " 'rev_i_independants': 'revenu_non_salarie_total',\n",
       " 'rev_i_locatifs': 'revenu_locatif',\n",
       " 'rev_i_pensions': 'pension_retraite',\n",
       " 'rev_i_salaires_formels': 'salaire',\n",
       " 'rev_i_salaires_informels': 'revenu_informel_salarie',\n",
       " 'salaire_brut': 'salaire_brut',\n",
       " 'salaire_super_brut': 'salaire_super_brut'}"
      ]
     },
     "execution_count": 6,
     "metadata": {},
     "output_type": "execute_result"
    }
   ],
   "source": [
    "ceq_by_harmonized_variable = dict()\n",
    "ceq_by_harmonized_variable.update(ceq_input_by_harmonized_variable)\n",
    "ceq_by_harmonized_variable.update(ceq_intermediate_by_harmonized_variable)\n",
    "ceq_by_harmonized_variable.update(non_ceq_input_by_harmonized_variable)\n",
    "ceq_by_harmonized_variable['salaire_brut'] = 'salaire_brut'\n",
    "ceq_by_harmonized_variable['salaire_super_brut'] = 'salaire_super_brut'\n",
    "ceq_by_harmonized_variable"
   ]
  },
  {
   "cell_type": "code",
   "execution_count": 7,
   "metadata": {
    "papermill": {
     "duration": 0.081205,
     "end_time": "2020-05-05T17:15:11.079509",
     "exception": false,
     "start_time": "2020-05-05T17:15:10.998304",
     "status": "completed"
    },
    "tags": []
   },
   "outputs": [],
   "source": [
    "data = [\n",
    "    (harmonized_variable, openfisca_variable, survey_scenario.compute_aggregate(openfisca_variable, period = year) / 1e9) \n",
    "    for harmonized_variable, openfisca_variable in ceq_by_harmonized_variable.items()\n",
    "    ]"
   ]
  },
  {
   "cell_type": "code",
   "execution_count": 8,
   "metadata": {
    "papermill": {
     "duration": 0.07575,
     "end_time": "2020-05-05T17:15:11.200980",
     "exception": false,
     "start_time": "2020-05-05T17:15:11.125230",
     "status": "completed"
    },
    "tags": []
   },
   "outputs": [
    {
     "data": {
      "text/html": [
       "<div>\n",
       "<style scoped>\n",
       "    .dataframe tbody tr th:only-of-type {\n",
       "        vertical-align: middle;\n",
       "    }\n",
       "\n",
       "    .dataframe tbody tr th {\n",
       "        vertical-align: top;\n",
       "    }\n",
       "\n",
       "    .dataframe thead th {\n",
       "        text-align: right;\n",
       "    }\n",
       "</style>\n",
       "<table border=\"1\" class=\"dataframe\">\n",
       "  <thead>\n",
       "    <tr style=\"text-align: right;\">\n",
       "      <th></th>\n",
       "      <th>harmonized</th>\n",
       "      <th>openfisca</th>\n",
       "      <th>aggregate</th>\n",
       "    </tr>\n",
       "  </thead>\n",
       "  <tbody>\n",
       "    <tr>\n",
       "      <th>0</th>\n",
       "      <td>rev_i_autoconsommation</td>\n",
       "      <td>autoconsumption</td>\n",
       "      <td>157</td>\n",
       "    </tr>\n",
       "    <tr>\n",
       "      <th>1</th>\n",
       "      <td>rev_i_autres</td>\n",
       "      <td>other_income</td>\n",
       "      <td>148</td>\n",
       "    </tr>\n",
       "    <tr>\n",
       "      <th>2</th>\n",
       "      <td>rev_i_autres_transferts</td>\n",
       "      <td>gifts_sales_durables</td>\n",
       "      <td>644</td>\n",
       "    </tr>\n",
       "    <tr>\n",
       "      <th>3</th>\n",
       "      <td>rev_i_loyers_imputes</td>\n",
       "      <td>imputed_rent</td>\n",
       "      <td>327</td>\n",
       "    </tr>\n",
       "    <tr>\n",
       "      <th>4</th>\n",
       "      <td>rev_i_transferts_publics</td>\n",
       "      <td>direct_transfers</td>\n",
       "      <td>10</td>\n",
       "    </tr>\n",
       "    <tr>\n",
       "      <th>5</th>\n",
       "      <td>rev_i_agricoles</td>\n",
       "      <td>revenu_agricole</td>\n",
       "      <td>937</td>\n",
       "    </tr>\n",
       "    <tr>\n",
       "      <th>6</th>\n",
       "      <td>rev_i_autres_revenus_capital</td>\n",
       "      <td>autres_revenus_du_capital</td>\n",
       "      <td>13</td>\n",
       "    </tr>\n",
       "    <tr>\n",
       "      <th>7</th>\n",
       "      <td>rev_i_independants_Ntaxe</td>\n",
       "      <td>revenu_informel_non_salarie</td>\n",
       "      <td>828</td>\n",
       "    </tr>\n",
       "    <tr>\n",
       "      <th>8</th>\n",
       "      <td>rev_i_independants_taxe</td>\n",
       "      <td>revenu_non_salarie</td>\n",
       "      <td>264</td>\n",
       "    </tr>\n",
       "    <tr>\n",
       "      <th>9</th>\n",
       "      <td>rev_i_independants</td>\n",
       "      <td>revenu_non_salarie_total</td>\n",
       "      <td>1092</td>\n",
       "    </tr>\n",
       "    <tr>\n",
       "      <th>10</th>\n",
       "      <td>rev_i_locatifs</td>\n",
       "      <td>revenu_locatif</td>\n",
       "      <td>54</td>\n",
       "    </tr>\n",
       "    <tr>\n",
       "      <th>11</th>\n",
       "      <td>rev_i_pensions</td>\n",
       "      <td>pension_retraite</td>\n",
       "      <td>58</td>\n",
       "    </tr>\n",
       "    <tr>\n",
       "      <th>12</th>\n",
       "      <td>rev_i_salaires_formels</td>\n",
       "      <td>salaire</td>\n",
       "      <td>567</td>\n",
       "    </tr>\n",
       "    <tr>\n",
       "      <th>13</th>\n",
       "      <td>rev_i_salaires_informels</td>\n",
       "      <td>revenu_informel_salarie</td>\n",
       "      <td>663</td>\n",
       "    </tr>\n",
       "    <tr>\n",
       "      <th>14</th>\n",
       "      <td>salaire_brut</td>\n",
       "      <td>salaire_brut</td>\n",
       "      <td>782</td>\n",
       "    </tr>\n",
       "    <tr>\n",
       "      <th>15</th>\n",
       "      <td>salaire_super_brut</td>\n",
       "      <td>salaire_super_brut</td>\n",
       "      <td>847</td>\n",
       "    </tr>\n",
       "  </tbody>\n",
       "</table>\n",
       "</div>"
      ],
      "text/plain": [
       "                      harmonized                    openfisca  aggregate\n",
       "0         rev_i_autoconsommation              autoconsumption        157\n",
       "1                   rev_i_autres                 other_income        148\n",
       "2        rev_i_autres_transferts         gifts_sales_durables        644\n",
       "3           rev_i_loyers_imputes                 imputed_rent        327\n",
       "4       rev_i_transferts_publics             direct_transfers         10\n",
       "5                rev_i_agricoles              revenu_agricole        937\n",
       "6   rev_i_autres_revenus_capital    autres_revenus_du_capital         13\n",
       "7       rev_i_independants_Ntaxe  revenu_informel_non_salarie        828\n",
       "8        rev_i_independants_taxe           revenu_non_salarie        264\n",
       "9             rev_i_independants     revenu_non_salarie_total       1092\n",
       "10                rev_i_locatifs               revenu_locatif         54\n",
       "11                rev_i_pensions             pension_retraite         58\n",
       "12        rev_i_salaires_formels                      salaire        567\n",
       "13      rev_i_salaires_informels      revenu_informel_salarie        663\n",
       "14                  salaire_brut                 salaire_brut        782\n",
       "15            salaire_super_brut           salaire_super_brut        847"
      ]
     },
     "execution_count": 8,
     "metadata": {},
     "output_type": "execute_result"
    }
   ],
   "source": [
    "revenus = pd.DataFrame(data, columns = [\"harmonized\", \"openfisca\", \"aggregate\"])\n",
    "revenus.round(0).astype({\"aggregate\": int})"
   ]
  },
  {
   "cell_type": "markdown",
   "metadata": {
    "papermill": {
     "duration": 0.017219,
     "end_time": "2020-05-05T17:15:11.236001",
     "exception": false,
     "start_time": "2020-05-05T17:15:11.218782",
     "status": "completed"
    },
    "tags": []
   },
   "source": [
    "### Agregated income variables"
   ]
  },
  {
   "cell_type": "markdown",
   "metadata": {
    "papermill": {
     "duration": 0.047489,
     "end_time": "2020-05-05T17:15:11.301014",
     "exception": false,
     "start_time": "2020-05-05T17:15:11.253525",
     "status": "completed"
    },
    "tags": []
   },
   "source": [
    "#### CEQ agregated income variables"
   ]
  },
  {
   "cell_type": "code",
   "execution_count": 9,
   "metadata": {
    "papermill": {
     "duration": 0.033191,
     "end_time": "2020-05-05T17:15:11.374157",
     "exception": false,
     "start_time": "2020-05-05T17:15:11.340966",
     "status": "completed"
    },
    "tags": []
   },
   "outputs": [],
   "source": [
    "ceq_variables = [\"market_income\", \"market_income_plus_pensions\", \"pensions\", \"contributions_pensions\", \"net_market_income\", \"direct_taxes\", \"other_contributions\", \"contributions_health\", ]"
   ]
  },
  {
   "cell_type": "code",
   "execution_count": 10,
   "metadata": {
    "papermill": {
     "duration": 0.207414,
     "end_time": "2020-05-05T17:15:11.602423",
     "exception": false,
     "start_time": "2020-05-05T17:15:11.395009",
     "status": "completed"
    },
    "tags": []
   },
   "outputs": [
    {
     "data": {
      "text/html": [
       "<div>\n",
       "<style scoped>\n",
       "    .dataframe tbody tr th:only-of-type {\n",
       "        vertical-align: middle;\n",
       "    }\n",
       "\n",
       "    .dataframe tbody tr th {\n",
       "        vertical-align: top;\n",
       "    }\n",
       "\n",
       "    .dataframe thead th {\n",
       "        text-align: right;\n",
       "    }\n",
       "</style>\n",
       "<table border=\"1\" class=\"dataframe\">\n",
       "  <thead>\n",
       "    <tr style=\"text-align: right;\">\n",
       "      <th></th>\n",
       "      <th>aggregate</th>\n",
       "    </tr>\n",
       "  </thead>\n",
       "  <tbody>\n",
       "    <tr>\n",
       "      <th>market_income</th>\n",
       "      <td>4883</td>\n",
       "    </tr>\n",
       "    <tr>\n",
       "      <th>market_income_plus_pensions</th>\n",
       "      <td>4870</td>\n",
       "    </tr>\n",
       "    <tr>\n",
       "      <th>pensions</th>\n",
       "      <td>58</td>\n",
       "    </tr>\n",
       "    <tr>\n",
       "      <th>contributions_pensions</th>\n",
       "      <td>71</td>\n",
       "    </tr>\n",
       "    <tr>\n",
       "      <th>net_market_income</th>\n",
       "      <td>4718</td>\n",
       "    </tr>\n",
       "    <tr>\n",
       "      <th>direct_taxes</th>\n",
       "      <td>143</td>\n",
       "    </tr>\n",
       "    <tr>\n",
       "      <th>other_contributions</th>\n",
       "      <td>12</td>\n",
       "    </tr>\n",
       "    <tr>\n",
       "      <th>contributions_health</th>\n",
       "      <td>10</td>\n",
       "    </tr>\n",
       "  </tbody>\n",
       "</table>\n",
       "</div>"
      ],
      "text/plain": [
       "                             aggregate\n",
       "market_income                     4883\n",
       "market_income_plus_pensions       4870\n",
       "pensions                            58\n",
       "contributions_pensions              71\n",
       "net_market_income                 4718\n",
       "direct_taxes                       143\n",
       "other_contributions                 12\n",
       "contributions_health                10"
      ]
     },
     "execution_count": 10,
     "metadata": {},
     "output_type": "execute_result"
    }
   ],
   "source": [
    "ceq_aggregates = pd.DataFrame(\n",
    "    index = ceq_variables,\n",
    "    columns = ['aggregate'],\n",
    "    data = [\n",
    "        survey_scenario.compute_aggregate(ceq_variable, period = year) / 1e9 \n",
    "        for ceq_variable in ceq_variables\n",
    "        ]\n",
    "    )\n",
    "ceq_aggregates.round(0).astype({\"aggregate\": int})"
   ]
  },
  {
   "cell_type": "markdown",
   "metadata": {
    "papermill": {
     "duration": 0.046506,
     "end_time": "2020-05-05T17:15:11.695751",
     "exception": false,
     "start_time": "2020-05-05T17:15:11.649245",
     "status": "completed"
    },
    "tags": []
   },
   "source": [
    "#### Direct check"
   ]
  },
  {
   "cell_type": "code",
   "execution_count": 11,
   "metadata": {
    "papermill": {
     "duration": 0.028152,
     "end_time": "2020-05-05T17:15:11.744719",
     "exception": false,
     "start_time": "2020-05-05T17:15:11.716567",
     "status": "completed"
    },
    "tags": []
   },
   "outputs": [],
   "source": [
    "income_components_summed_in_total = list(ceq_by_harmonized_variable.values()) \n",
    "income_components_summed_in_total.remove(\"revenu_non_salarie_total\")\n",
    "income_components_summed_in_total.remove(\"direct_transfers\")\n",
    "income_components_summed_in_total.remove(\"salaire\")\n",
    "income_components_summed_in_total.remove(\"salaire_brut\")\n",
    "total_income = sum(\n",
    "    survey_scenario.compute_aggregate(income_component, period = survey_scenario.year) \n",
    "    for income_component in income_components_summed_in_total\n",
    "    ) \n",
    "total_income = (\n",
    "    total_income \n",
    "    - survey_scenario.compute_aggregate(\"contributions_pensions\", period = survey_scenario.year)\n",
    "    )/ 1e9\n"
   ]
  },
  {
   "cell_type": "code",
   "execution_count": 12,
   "metadata": {
    "papermill": {
     "duration": 0.024216,
     "end_time": "2020-05-05T17:15:11.789406",
     "exception": false,
     "start_time": "2020-05-05T17:15:11.765190",
     "status": "completed"
    },
    "tags": []
   },
   "outputs": [],
   "source": [
    "from numpy.testing import assert_almost_equal\n",
    "assert_almost_equal(ceq_aggregates.loc['market_income_plus_pensions'].values, total_income, decimal = 5) \n",
    "# print('market_income_plus_pensions = {} vs {} = total_income'.format(\n",
    "#         ceq_aggregates.loc['market_income_plus_pensions'].values,\n",
    "#         total_income\n",
    "#         )\n",
    "#     )\n"
   ]
  },
  {
   "cell_type": "markdown",
   "metadata": {
    "papermill": {
     "duration": 0.017216,
     "end_time": "2020-05-05T17:15:11.825357",
     "exception": false,
     "start_time": "2020-05-05T17:15:11.808141",
     "status": "completed"
    },
    "tags": []
   },
   "source": [
    "#### Wages by public/private sector"
   ]
  },
  {
   "cell_type": "code",
   "execution_count": 13,
   "metadata": {
    "papermill": {
     "duration": 0.025583,
     "end_time": "2020-05-05T17:15:11.868695",
     "exception": false,
     "start_time": "2020-05-05T17:15:11.843112",
     "status": "completed"
    },
    "tags": []
   },
   "outputs": [
    {
     "data": {
      "text/plain": [
       "'Count : 84224.0'"
      ]
     },
     "execution_count": 13,
     "metadata": {},
     "output_type": "execute_result"
    }
   ],
   "source": [
    "\"Count : {}\".format(round(\n",
    "    survey_scenario.compute_aggregate(\"secteur_public\", period = year)\n",
    "    ))"
   ]
  },
  {
   "cell_type": "code",
   "execution_count": 14,
   "metadata": {
    "papermill": {
     "duration": 0.071919,
     "end_time": "2020-05-05T17:15:11.961980",
     "exception": false,
     "start_time": "2020-05-05T17:15:11.890061",
     "status": "completed"
    },
    "tags": []
   },
   "outputs": [
    {
     "data": {
      "text/html": [
       "<div>\n",
       "<style scoped>\n",
       "    .dataframe tbody tr th:only-of-type {\n",
       "        vertical-align: middle;\n",
       "    }\n",
       "\n",
       "    .dataframe tbody tr th {\n",
       "        vertical-align: top;\n",
       "    }\n",
       "\n",
       "    .dataframe thead th {\n",
       "        text-align: right;\n",
       "    }\n",
       "</style>\n",
       "<table border=\"1\" class=\"dataframe\">\n",
       "  <thead>\n",
       "    <tr style=\"text-align: right;\">\n",
       "      <th>secteur_public</th>\n",
       "      <th>False</th>\n",
       "      <th>True</th>\n",
       "    </tr>\n",
       "  </thead>\n",
       "  <tbody>\n",
       "    <tr>\n",
       "      <th>salaire</th>\n",
       "      <td>324</td>\n",
       "      <td>243</td>\n",
       "    </tr>\n",
       "    <tr>\n",
       "      <th>salaire_brut</th>\n",
       "      <td>446</td>\n",
       "      <td>337</td>\n",
       "    </tr>\n",
       "    <tr>\n",
       "      <th>salaire_super_brut</th>\n",
       "      <td>483</td>\n",
       "      <td>365</td>\n",
       "    </tr>\n",
       "  </tbody>\n",
       "</table>\n",
       "</div>"
      ],
      "text/plain": [
       "secteur_public      False  True \n",
       "salaire               324    243\n",
       "salaire_brut          446    337\n",
       "salaire_super_brut    483    365"
      ]
     },
     "execution_count": 14,
     "metadata": {},
     "output_type": "execute_result"
    }
   ],
   "source": [
    "(\n",
    "    survey_scenario.compute_pivot_table(\n",
    "        columns = [\"secteur_public\"], \n",
    "        values = [\"salaire\", \"salaire_brut\", \"salaire_super_brut\"],\n",
    "        aggfunc = \"sum\",\n",
    "        period = year,\n",
    "        concat_axis = 0,\n",
    "        ) / 1e9\n",
    "    ).round(0).astype(int)"
   ]
  },
  {
   "cell_type": "markdown",
   "metadata": {
    "papermill": {
     "duration": 0.018183,
     "end_time": "2020-05-05T17:15:12.000541",
     "exception": false,
     "start_time": "2020-05-05T17:15:11.982358",
     "status": "completed"
    },
    "tags": []
   },
   "source": [
    "## Education variables"
   ]
  },
  {
   "cell_type": "markdown",
   "metadata": {
    "papermill": {
     "duration": 0.018108,
     "end_time": "2020-05-05T17:15:12.037407",
     "exception": false,
     "start_time": "2020-05-05T17:15:12.019299",
     "status": "completed"
    },
    "tags": []
   },
   "source": [
    "### Counts (in millions)"
   ]
  },
  {
   "cell_type": "code",
   "execution_count": 15,
   "metadata": {
    "papermill": {
     "duration": 0.042701,
     "end_time": "2020-05-05T17:15:12.098118",
     "exception": false,
     "start_time": "2020-05-05T17:15:12.055417",
     "status": "completed"
    },
    "tags": []
   },
   "outputs": [
    {
     "name": "stdout",
     "output_type": "stream",
     "text": [
      "eleve_enseignement_niveau   -1.0   0.0   1.0   2.0   3.0\n",
      "eleve_enseignement_public                               \n",
      "0.0                        10.61  0.11  0.33  0.18  0.05\n",
      "1.0                         0.01  0.04  1.43  0.84  0.05\n"
     ]
    }
   ],
   "source": [
    "print((survey_scenario.compute_pivot_table(columns = ['eleve_enseignement_niveau'], index = ['eleve_enseignement_public'], aggfunc = 'count', period = survey_scenario.year) / 1e6).round(2))"
   ]
  },
  {
   "cell_type": "code",
   "execution_count": 16,
   "metadata": {
    "papermill": {
     "duration": 0.035054,
     "end_time": "2020-05-05T17:15:12.153133",
     "exception": false,
     "start_time": "2020-05-05T17:15:12.118079",
     "status": "completed"
    },
    "tags": []
   },
   "outputs": [
    {
     "name": "stdout",
     "output_type": "stream",
     "text": [
      "In kind education tranfers\n",
      "pre_school_person: 1 billions FCFA\n",
      "pre_school: 1 billions FCFA\n",
      "primary_education_person: 190 billions FCFA\n",
      "primary_education: 190 billions FCFA\n",
      "secondary_education_person: 141 billions FCFA\n",
      "secondary_education: 141 billions FCFA\n",
      "tertiary_education_person: 104 billions FCFA\n",
      "tertiary_education: 104 billions FCFA\n",
      "education_net_transfers: 436 billions FCFA\n"
     ]
    }
   ],
   "source": [
    "variables = [\n",
    "    'pre_school_person',\n",
    "    'pre_school',\n",
    "    'primary_education_person',\n",
    "    'primary_education',\n",
    "    'secondary_education_person',\n",
    "    'secondary_education',\n",
    "    'tertiary_education_person',\n",
    "    'tertiary_education',\n",
    "    'education_net_transfers',\n",
    "    ]\n",
    "print(\"In kind education tranfers\")\n",
    "for variable in variables:\n",
    "    print(\n",
    "        \"{variable}: {aggregate} billions FCFA\".format(\n",
    "            variable = variable,\n",
    "            aggregate = int(round(survey_scenario.compute_aggregate(variable, period = survey_scenario.year) / 1e9))\n",
    "            )\n",
    "        )"
   ]
  },
  {
   "cell_type": "markdown",
   "metadata": {
    "papermill": {
     "duration": 0.018505,
     "end_time": "2020-05-05T17:15:12.192700",
     "exception": false,
     "start_time": "2020-05-05T17:15:12.174195",
     "status": "completed"
    },
    "tags": []
   },
   "source": [
    "## Tax variables"
   ]
  },
  {
   "cell_type": "markdown",
   "metadata": {
    "papermill": {
     "duration": 0.018235,
     "end_time": "2020-05-05T17:15:12.229665",
     "exception": false,
     "start_time": "2020-05-05T17:15:12.211430",
     "status": "completed"
    },
    "tags": []
   },
   "source": [
    "### Indirect tax variables"
   ]
  },
  {
   "cell_type": "code",
   "execution_count": 17,
   "metadata": {
    "papermill": {
     "duration": 0.027162,
     "end_time": "2020-05-05T17:15:12.275552",
     "exception": false,
     "start_time": "2020-05-05T17:15:12.248390",
     "status": "completed"
    },
    "tags": []
   },
   "outputs": [
    {
     "data": {
      "text/plain": [
       "['depenses_ht_tva_exonere',\n",
       " 'depenses_ht_tva_taux_normal',\n",
       " 'tva_taux_normal',\n",
       " 'tva',\n",
       " 'depenses_ht_hd_sd_droits_douane_consommation_finale',\n",
       " 'depenses_ht_hd_sd_droits_douane_consommation_intermediaire',\n",
       " 'depenses_ht_hd_sd_droits_douane_equipements',\n",
       " 'depenses_ht_hd_sd_droits_douane_exonere',\n",
       " 'droits_douane_consommation_finale',\n",
       " 'droits_douane_consommation_intermediaire',\n",
       " 'droits_douane_equipements',\n",
       " 'droits_douane']"
      ]
     },
     "execution_count": 17,
     "metadata": {},
     "output_type": "execute_result"
    }
   ],
   "source": [
    "indirect_tax_variables = [\n",
    "    variable \n",
    "    for tax in indirect_tax_by_country[country]\n",
    "    for variable in survey_scenario.tax_benefit_system.variables.keys() \n",
    "    if tax in variable \n",
    "    ]\n",
    "indirect_tax_variables"
   ]
  },
  {
   "cell_type": "code",
   "execution_count": 18,
   "metadata": {
    "papermill": {
     "duration": 0.06941,
     "end_time": "2020-05-05T17:15:12.365257",
     "exception": false,
     "start_time": "2020-05-05T17:15:12.295847",
     "status": "completed"
    },
    "tags": []
   },
   "outputs": [
    {
     "data": {
      "text/html": [
       "<div>\n",
       "<style scoped>\n",
       "    .dataframe tbody tr th:only-of-type {\n",
       "        vertical-align: middle;\n",
       "    }\n",
       "\n",
       "    .dataframe tbody tr th {\n",
       "        vertical-align: top;\n",
       "    }\n",
       "\n",
       "    .dataframe thead th {\n",
       "        text-align: right;\n",
       "    }\n",
       "</style>\n",
       "<table border=\"1\" class=\"dataframe\">\n",
       "  <thead>\n",
       "    <tr style=\"text-align: right;\">\n",
       "      <th></th>\n",
       "      <th>aggregate</th>\n",
       "    </tr>\n",
       "  </thead>\n",
       "  <tbody>\n",
       "    <tr>\n",
       "      <th>depenses_ht_tva_exonere</th>\n",
       "      <td>1526</td>\n",
       "    </tr>\n",
       "    <tr>\n",
       "      <th>depenses_ht_tva_taux_normal</th>\n",
       "      <td>1853</td>\n",
       "    </tr>\n",
       "    <tr>\n",
       "      <th>tva_taux_normal</th>\n",
       "      <td>334</td>\n",
       "    </tr>\n",
       "    <tr>\n",
       "      <th>tva</th>\n",
       "      <td>334</td>\n",
       "    </tr>\n",
       "    <tr>\n",
       "      <th>depenses_ht_hd_sd_droits_douane_consommation_finale</th>\n",
       "      <td>335</td>\n",
       "    </tr>\n",
       "    <tr>\n",
       "      <th>depenses_ht_hd_sd_droits_douane_consommation_intermediaire</th>\n",
       "      <td>51</td>\n",
       "    </tr>\n",
       "    <tr>\n",
       "      <th>depenses_ht_hd_sd_droits_douane_equipements</th>\n",
       "      <td>98</td>\n",
       "    </tr>\n",
       "    <tr>\n",
       "      <th>depenses_ht_hd_sd_droits_douane_exonere</th>\n",
       "      <td>64</td>\n",
       "    </tr>\n",
       "    <tr>\n",
       "      <th>droits_douane_consommation_finale</th>\n",
       "      <td>67</td>\n",
       "    </tr>\n",
       "    <tr>\n",
       "      <th>droits_douane_consommation_intermediaire</th>\n",
       "      <td>5</td>\n",
       "    </tr>\n",
       "    <tr>\n",
       "      <th>droits_douane_equipements</th>\n",
       "      <td>5</td>\n",
       "    </tr>\n",
       "    <tr>\n",
       "      <th>droits_douane</th>\n",
       "      <td>77</td>\n",
       "    </tr>\n",
       "  </tbody>\n",
       "</table>\n",
       "</div>"
      ],
      "text/plain": [
       "                                                    aggregate\n",
       "depenses_ht_tva_exonere                                  1526\n",
       "depenses_ht_tva_taux_normal                              1853\n",
       "tva_taux_normal                                           334\n",
       "tva                                                       334\n",
       "depenses_ht_hd_sd_droits_douane_consommation_fi...        335\n",
       "depenses_ht_hd_sd_droits_douane_consommation_in...         51\n",
       "depenses_ht_hd_sd_droits_douane_equipements                98\n",
       "depenses_ht_hd_sd_droits_douane_exonere                    64\n",
       "droits_douane_consommation_finale                          67\n",
       "droits_douane_consommation_intermediaire                    5\n",
       "droits_douane_equipements                                   5\n",
       "droits_douane                                              77"
      ]
     },
     "execution_count": 18,
     "metadata": {},
     "output_type": "execute_result"
    }
   ],
   "source": [
    "taxes_and_tariffs = pd.DataFrame(\n",
    "    index = indirect_tax_variables,\n",
    "    columns = ['aggregate'],\n",
    "    data = [\n",
    "        survey_scenario.compute_aggregate(variable, period = year) / 1e9 \n",
    "        for variable in indirect_tax_variables\n",
    "        ]\n",
    "    )\n",
    "taxes_and_tariffs.round().astype({\"aggregate\": int})"
   ]
  },
  {
   "cell_type": "markdown",
   "metadata": {
    "papermill": {
     "duration": 0.01942,
     "end_time": "2020-05-05T17:15:12.406345",
     "exception": false,
     "start_time": "2020-05-05T17:15:12.386925",
     "status": "completed"
    },
    "tags": []
   },
   "source": [
    "### Verify consumption"
   ]
  },
  {
   "cell_type": "code",
   "execution_count": 19,
   "metadata": {
    "papermill": {
     "duration": 0.029761,
     "end_time": "2020-05-05T17:15:12.455576",
     "exception": false,
     "start_time": "2020-05-05T17:15:12.425815",
     "status": "completed"
    },
    "tags": []
   },
   "outputs": [
    {
     "data": {
      "text/plain": [
       "3975.5231230319123"
      ]
     },
     "execution_count": 19,
     "metadata": {},
     "output_type": "execute_result"
    }
   ],
   "source": [
    "consumption = survey_scenario.compute_aggregate('consumption', period = year) / 1e9\n",
    "consumption"
   ]
  },
  {
   "cell_type": "code",
   "execution_count": 20,
   "metadata": {
    "papermill": {
     "duration": 0.027434,
     "end_time": "2020-05-05T17:15:12.504114",
     "exception": false,
     "start_time": "2020-05-05T17:15:12.476680",
     "status": "completed"
    },
    "tags": []
   },
   "outputs": [
    {
     "data": {
      "text/plain": [
       "3712.053212390204"
      ]
     },
     "execution_count": 20,
     "metadata": {},
     "output_type": "execute_result"
    }
   ],
   "source": [
    "# assert consumption == \n",
    "sum(taxes_and_tariffs['aggregate'][\n",
    "    taxes_and_tariffs.index.str.contains('tva_')\n",
    "    ])"
   ]
  },
  {
   "cell_type": "code",
   "execution_count": 21,
   "metadata": {
    "papermill": {
     "duration": 0.040453,
     "end_time": "2020-05-05T17:15:12.565504",
     "exception": false,
     "start_time": "2020-05-05T17:15:12.525051",
     "status": "completed"
    },
    "tags": []
   },
   "outputs": [
    {
     "data": {
      "text/plain": [
       "3712.053151153752"
      ]
     },
     "execution_count": 21,
     "metadata": {},
     "output_type": "execute_result"
    }
   ],
   "source": [
    "# assert consumption == \n",
    "(\n",
    "    sum(\n",
    "        survey_scenario.compute_aggregate(variable, period = year)\n",
    "        for variable in survey_scenario.tax_benefit_system.variables\n",
    "        if \"depenses_ht_hd_poste\" in variable \n",
    "        ) \n",
    "    + survey_scenario.compute_aggregate(\"droits_douane\", period = year)\n",
    "    + survey_scenario.compute_aggregate(\"tva\", period = year)\n",
    "    ) / 1e9"
   ]
  },
  {
   "cell_type": "markdown",
   "metadata": {
    "papermill": {
     "duration": 0.019556,
     "end_time": "2020-05-05T17:15:12.607603",
     "exception": false,
     "start_time": "2020-05-05T17:15:12.588047",
     "status": "completed"
    },
    "tags": []
   },
   "source": [
    "# Inflate incomes   "
   ]
  },
  {
   "cell_type": "markdown",
   "metadata": {
    "papermill": {
     "duration": 0.02002,
     "end_time": "2020-05-05T17:15:12.647813",
     "exception": false,
     "start_time": "2020-05-05T17:15:12.627793",
     "status": "completed"
    },
    "tags": []
   },
   "source": [
    "## Income variables"
   ]
  },
  {
   "cell_type": "code",
   "execution_count": 22,
   "metadata": {
    "papermill": {
     "duration": 0.02566,
     "end_time": "2020-05-05T17:15:12.693817",
     "exception": false,
     "start_time": "2020-05-05T17:15:12.668157",
     "status": "completed"
    },
    "tags": []
   },
   "outputs": [],
   "source": [
    "income_variables = [\n",
    "    'autoconsumption',\n",
    "    'other_income',\n",
    "    'gifts_sales_durables',\n",
    "    'imputed_rent',\n",
    "    'revenu_agricole',\n",
    "    'autres_revenus_du_capital',\n",
    "    'revenu_informel_non_salarie',\n",
    "    'revenu_non_salarie',\n",
    "    'revenu_locatif',\n",
    "    'pension_retraite',\n",
    "    'salaire_super_brut',\n",
    "    ]"
   ]
  },
  {
   "cell_type": "code",
   "execution_count": 23,
   "metadata": {
    "papermill": {
     "duration": 0.029758,
     "end_time": "2020-05-05T17:15:12.743938",
     "exception": false,
     "start_time": "2020-05-05T17:15:12.714180",
     "status": "completed"
    },
    "tags": []
   },
   "outputs": [
    {
     "data": {
      "text/plain": [
       "4278.090574075829"
      ]
     },
     "execution_count": 23,
     "metadata": {},
     "output_type": "execute_result"
    }
   ],
   "source": [
    "sum(\n",
    "    survey_scenario.compute_aggregate(income_variable, period = year)\n",
    "    for income_variable in income_variables\n",
    "    ) / 1e9"
   ]
  },
  {
   "cell_type": "code",
   "execution_count": 24,
   "metadata": {
    "papermill": {
     "duration": 0.025729,
     "end_time": "2020-05-05T17:15:12.791925",
     "exception": false,
     "start_time": "2020-05-05T17:15:12.766196",
     "status": "completed"
    },
    "tags": []
   },
   "outputs": [],
   "source": [
    "# inflated_survey_scenario = build_ceq_survey_scenario(\n",
    "#     legislation_country = country, \n",
    "#     year = year,\n",
    "#     inflate = True,\n",
    "#     income_variables = income_variables\n",
    "#     )"
   ]
  },
  {
   "cell_type": "code",
   "execution_count": 25,
   "metadata": {
    "papermill": {
     "duration": 0.026201,
     "end_time": "2020-05-05T17:15:12.840756",
     "exception": false,
     "start_time": "2020-05-05T17:15:12.814555",
     "status": "completed"
    },
    "tags": []
   },
   "outputs": [],
   "source": [
    "# sum(\n",
    "#     inflated_survey_scenario.compute_aggregate(income_variable, period = year)\n",
    "#     for income_variable in income_variables\n",
    "#     ) / 1e9"
   ]
  },
  {
   "cell_type": "markdown",
   "metadata": {
    "papermill": {
     "duration": 0.019829,
     "end_time": "2020-05-05T17:15:12.882509",
     "exception": false,
     "start_time": "2020-05-05T17:15:12.862680",
     "status": "completed"
    },
    "tags": []
   },
   "source": [
    "# Indicators"
   ]
  },
  {
   "cell_type": "code",
   "execution_count": 26,
   "metadata": {
    "papermill": {
     "duration": 0.103431,
     "end_time": "2020-05-05T17:15:13.006263",
     "exception": false,
     "start_time": "2020-05-05T17:15:12.902832",
     "status": "completed"
    },
    "tags": []
   },
   "outputs": [
    {
     "data": {
      "text/html": [
       "<div>\n",
       "<style scoped>\n",
       "    .dataframe tbody tr th:only-of-type {\n",
       "        vertical-align: middle;\n",
       "    }\n",
       "\n",
       "    .dataframe tbody tr th {\n",
       "        vertical-align: top;\n",
       "    }\n",
       "\n",
       "    .dataframe thead th {\n",
       "        text-align: right;\n",
       "    }\n",
       "</style>\n",
       "<table border=\"1\" class=\"dataframe\">\n",
       "  <thead>\n",
       "    <tr style=\"text-align: right;\">\n",
       "      <th></th>\n",
       "      <th>market_income</th>\n",
       "      <th>market_income_plus_pensions</th>\n",
       "      <th>gross_income</th>\n",
       "      <th>disposable_income</th>\n",
       "      <th>consumable_income</th>\n",
       "      <th>final_income</th>\n",
       "    </tr>\n",
       "  </thead>\n",
       "  <tbody>\n",
       "    <tr>\n",
       "      <th>Gini</th>\n",
       "      <td>0.53</td>\n",
       "      <td>0.53</td>\n",
       "      <td>0.53</td>\n",
       "      <td>0.52</td>\n",
       "      <td>0.54</td>\n",
       "      <td>0.52</td>\n",
       "    </tr>\n",
       "    <tr>\n",
       "      <th>Bottom 40 %</th>\n",
       "      <td>0.10</td>\n",
       "      <td>0.10</td>\n",
       "      <td>0.10</td>\n",
       "      <td>0.10</td>\n",
       "      <td>0.09</td>\n",
       "      <td>0.10</td>\n",
       "    </tr>\n",
       "    <tr>\n",
       "      <th>Top 10 %</th>\n",
       "      <td>0.38</td>\n",
       "      <td>0.38</td>\n",
       "      <td>0.38</td>\n",
       "      <td>0.37</td>\n",
       "      <td>0.39</td>\n",
       "      <td>0.37</td>\n",
       "    </tr>\n",
       "  </tbody>\n",
       "</table>\n",
       "</div>"
      ],
      "text/plain": [
       "             market_income  market_income_plus_pensions  gross_income  \\\n",
       "Gini                  0.53                         0.53          0.53   \n",
       "Bottom 40 %           0.10                         0.10          0.10   \n",
       "Top 10 %              0.38                         0.38          0.38   \n",
       "\n",
       "             disposable_income  consumable_income  final_income  \n",
       "Gini                      0.52               0.54          0.52  \n",
       "Bottom 40 %               0.10               0.09          0.10  \n",
       "Top 10 %                  0.37               0.39          0.37  "
      ]
     },
     "execution_count": 26,
     "metadata": {},
     "output_type": "execute_result"
    }
   ],
   "source": [
    "from openfisca_survey_manager.statshelpers import gini, bottom_share, top_share, lorenz\n",
    "variables = [\n",
    "    \"market_income\", \n",
    "    \"market_income_plus_pensions\",\n",
    "    \"gross_income\",\n",
    "    \"disposable_income\",\n",
    "    \"consumable_income\", \n",
    "    \"final_income\",\n",
    "    ]\n",
    "variable = \"market_income\"\n",
    "weights = survey_scenario.calculate_variable(\"household_weight\", period = year)\n",
    "BOTTOM_SHARE = .4\n",
    "TOP_SHARE = .1\n",
    "pd.DataFrame.from_dict(\n",
    "    dict([\n",
    "        (\n",
    "            variable, \n",
    "            {\n",
    "                \"Gini\": gini(survey_scenario.calculate_variable(variable, period = year), weights),\n",
    "                \"Bottom 40 %\": bottom_share(survey_scenario.calculate_variable(variable, period = year), BOTTOM_SHARE, weights = weights),\n",
    "                \"Top 10 %\": top_share(survey_scenario.calculate_variable(variable, period = year), TOP_SHARE, weights = weights),\n",
    "                }\n",
    "            ) \n",
    "        for variable in variables\n",
    "        ])\n",
    "    ).round(2)"
   ]
  },
  {
   "cell_type": "code",
   "execution_count": 27,
   "metadata": {
    "papermill": {
     "duration": 0.028852,
     "end_time": "2020-05-05T17:15:13.057161",
     "exception": false,
     "start_time": "2020-05-05T17:15:13.028309",
     "status": "completed"
    },
    "tags": []
   },
   "outputs": [
    {
     "data": {
      "text/plain": [
       "410.55225247829554"
      ]
     },
     "execution_count": 27,
     "metadata": {},
     "output_type": "execute_result"
    }
   ],
   "source": [
    "survey_scenario.compute_aggregate(\"impots_indirects\", period = year) / 1e9"
   ]
  },
  {
   "cell_type": "code",
   "execution_count": 28,
   "metadata": {
    "papermill": {
     "duration": 0.028096,
     "end_time": "2020-05-05T17:15:13.107607",
     "exception": false,
     "start_time": "2020-05-05T17:15:13.079511",
     "status": "completed"
    },
    "tags": []
   },
   "outputs": [
    {
     "data": {
      "text/plain": [
       "142.77685950326898"
      ]
     },
     "execution_count": 28,
     "metadata": {},
     "output_type": "execute_result"
    }
   ],
   "source": [
    "survey_scenario.compute_aggregate(\"direct_taxes\", period = year) / 1e9"
   ]
  },
  {
   "cell_type": "code",
   "execution_count": 29,
   "metadata": {
    "papermill": {
     "duration": 0.028743,
     "end_time": "2020-05-05T17:15:13.158277",
     "exception": false,
     "start_time": "2020-05-05T17:15:13.129534",
     "status": "completed"
    },
    "tags": []
   },
   "outputs": [
    {
     "data": {
      "text/plain": [
       "142.77685950326898"
      ]
     },
     "execution_count": 29,
     "metadata": {},
     "output_type": "execute_result"
    }
   ],
   "source": [
    "survey_scenario.compute_aggregate(\"personal_income_tax\", period = year) / 1e9"
   ]
  },
  {
   "cell_type": "code",
   "execution_count": 30,
   "metadata": {
    "papermill": {
     "duration": 0.026678,
     "end_time": "2020-05-05T17:15:13.208758",
     "exception": false,
     "start_time": "2020-05-05T17:15:13.182080",
     "status": "completed"
    },
    "tags": []
   },
   "outputs": [],
   "source": [
    "from openfisca_ceq import list_variables_from_directory"
   ]
  },
  {
   "cell_type": "code",
   "execution_count": 31,
   "metadata": {
    "papermill": {
     "duration": 0.035977,
     "end_time": "2020-05-05T17:15:13.267833",
     "exception": false,
     "start_time": "2020-05-05T17:15:13.231856",
     "status": "completed"
    },
    "tags": []
   },
   "outputs": [
    {
     "data": {
      "text/plain": [
       "['agricultural_inputs_subsidies',\n",
       " 'alimony',\n",
       " 'corporate_income_tax',\n",
       " 'electricity_subsidies',\n",
       " 'employee_contributions_health',\n",
       " 'employee_other_contributions',\n",
       " 'excise_taxes',\n",
       " 'food_subsidies',\n",
       " 'fuel_subsidies',\n",
       " 'indirect_subsidies',\n",
       " 'other_taxes',\n",
       " 'payroll_tax',\n",
       " 'property_tax',\n",
       " 'sales_tax',\n",
       " 'self_employed_contributions_health',\n",
       " 'self_employed_contributions_pensions',\n",
       " 'self_employed_other_contributions']"
      ]
     },
     "execution_count": 31,
     "metadata": {},
     "output_type": "execute_result"
    }
   ],
   "source": [
    "ceq_variables = sorted(list_variables_from_directory(survey_scenario.tax_benefit_system))\n",
    "[\n",
    "    ceq_variable\n",
    "    for ceq_variable in ceq_variables\n",
    "    if survey_scenario.compute_aggregate(ceq_variable, period = year) == 0\n",
    "    ]"
   ]
  },
  {
   "cell_type": "code",
   "execution_count": 32,
   "metadata": {
    "papermill": {
     "duration": 0.168704,
     "end_time": "2020-05-05T17:15:13.461075",
     "exception": false,
     "start_time": "2020-05-05T17:15:13.292371",
     "status": "completed"
    },
    "tags": []
   },
   "outputs": [
    {
     "data": {
      "text/plain": [
       "[<matplotlib.lines.Line2D at 0x7f70b07000b8>]"
      ]
     },
     "execution_count": 32,
     "metadata": {},
     "output_type": "execute_result"
    },
    {
     "data": {
      "image/png": "[encoded data removed]",
      "text/plain": [
       "<Figure size 432x288 with 1 Axes>"
      ]
     },
     "metadata": {
      "needs_background": "light"
     },
     "output_type": "display_data"
    }
   ],
   "source": [
    "variable = \"market_income\"\n",
    "y, x = lorenz(survey_scenario.calculate_variable(variable, period = year), weights = weights)\n",
    "plt.plot(x, y)"
   ]
  },
  {
   "cell_type": "code",
   "execution_count": 33,
   "metadata": {
    "papermill": {
     "duration": 0.029662,
     "end_time": "2020-05-05T17:15:13.517314",
     "exception": false,
     "start_time": "2020-05-05T17:15:13.487652",
     "status": "completed"
    },
    "tags": []
   },
   "outputs": [
    {
     "data": {
      "text/plain": [
       "9.702591178131149"
      ]
     },
     "execution_count": 33,
     "metadata": {},
     "output_type": "execute_result"
    }
   ],
   "source": [
    "survey_scenario.compute_aggregate('direct_transfers', period = year) / 1e9"
   ]
  },
  {
   "cell_type": "code",
   "execution_count": 34,
   "metadata": {
    "papermill": {
     "duration": 0.02991,
     "end_time": "2020-05-05T17:15:13.572334",
     "exception": false,
     "start_time": "2020-05-05T17:15:13.542424",
     "status": "completed"
    },
    "tags": []
   },
   "outputs": [
    {
     "data": {
      "text/plain": [
       "['agricultural_inputs_subsidies',\n",
       " 'alimony',\n",
       " 'all_income_excluding_transfers',\n",
       " 'autoconsumption',\n",
       " 'consumable_income',\n",
       " 'contributions_health',\n",
       " 'contributions_pensions',\n",
       " 'corporate_income_tax',\n",
       " 'customs_duties',\n",
       " 'direct_taxes',\n",
       " 'disposable_income',\n",
       " 'electricity_subsidies',\n",
       " 'employee_contributions_health',\n",
       " 'employee_contributions_pensions',\n",
       " 'employee_other_contributions',\n",
       " 'employer_contributions_health',\n",
       " 'employer_contributions_pensions',\n",
       " 'employer_other_contributions',\n",
       " 'excise_taxes',\n",
       " 'final_income',\n",
       " 'food_subsidies',\n",
       " 'fuel_subsidies',\n",
       " 'gifts_sales_durables',\n",
       " 'gross_income',\n",
       " 'imputed_rent',\n",
       " 'indirect_subsidies',\n",
       " 'indirect_taxes',\n",
       " 'market_income',\n",
       " 'market_income_plus_pensions',\n",
       " 'net_market_income',\n",
       " 'nontaxable_income',\n",
       " 'other_contributions',\n",
       " 'other_income',\n",
       " 'other_taxes',\n",
       " 'payroll_tax',\n",
       " 'pensions',\n",
       " 'personal_income_tax',\n",
       " 'property_tax',\n",
       " 'sales_tax',\n",
       " 'self_employed_contributions_health',\n",
       " 'self_employed_contributions_pensions',\n",
       " 'self_employed_other_contributions',\n",
       " 'taxable_income',\n",
       " 'value_added_tax']"
      ]
     },
     "execution_count": 34,
     "metadata": {},
     "output_type": "execute_result"
    }
   ],
   "source": [
    "ceq_variables"
   ]
  },
  {
   "cell_type": "code",
   "execution_count": null,
   "metadata": {
    "papermill": {
     "duration": 0.022238,
     "end_time": "2020-05-05T17:15:13.618682",
     "exception": false,
     "start_time": "2020-05-05T17:15:13.596444",
     "status": "completed"
    },
    "tags": []
   },
   "outputs": [],
   "source": []
  }
 ],
 "metadata": {
  "kernelspec": {
   "display_name": "Python 3",
   "language": "python",
   "name": "python3"
  },
  "language_info": {
   "codemirror_mode": {
    "name": "ipython",
    "version": 3
   },
   "file_extension": ".py",
   "mimetype": "text/x-python",
   "name": "python",
   "nbconvert_exporter": "python",
   "pygments_lexer": "ipython3",
   "version": "3.7.3"
  },
  "papermill": {
   "duration": 8.772701,
   "end_time": "2020-05-05T17:15:13.645754",
   "environment_variables": {},
   "exception": null,
   "input_path": "notebooks/test.ipynb",
   "output_path": "notebooks/senegal.ipynb",
   "parameters": {
    "country": "senegal"
   },
   "start_time": "2020-05-05T17:15:04.873053",
   "version": "2.0.0"
  }
 },
 "nbformat": 4,
 "nbformat_minor": 4
}