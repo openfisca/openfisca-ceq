{
 "cells": [
  {
   "cell_type": "code",
   "execution_count": 1,
   "metadata": {
    "execution": {
     "iopub.execute_input": "2020-07-08T20:44:05.127163Z",
     "iopub.status.busy": "2020-07-08T20:44:05.126545Z",
     "iopub.status.idle": "2020-07-08T20:44:05.129671Z",
     "shell.execute_reply": "2020-07-08T20:44:05.130147Z"
    },
    "papermill": {
     "duration": 0.050765,
     "end_time": "2020-07-08T20:44:05.130307",
     "exception": false,
     "start_time": "2020-07-08T20:44:05.079542",
     "status": "completed"
    },
    "tags": []
   },
   "outputs": [],
   "source": [
    "# !pip install -U git+https://github.com/openfisca/openfisca-ceq.git@master#egg=OpenFisca-CEQ\n",
    "# !pip install -U git+https://github.com/openfisca/openfisca-senegal.git@ceq#egg=OpenFisca-Senegal\n",
    "# !pip install -U git+https://github.com/openfisca/openfisca-mali.git@master#egg=OpenFisca-Mali\n",
    "# !pip install -U git+https://github.com/openfisca/openfisca-cote-d-ivoire.git@master#egg=OpenFisca-COTE-D-IVOIRE"
   ]
  },
  {
   "cell_type": "code",
   "execution_count": 2,
   "metadata": {
    "execution": {
     "iopub.execute_input": "2020-07-08T20:44:05.207834Z",
     "iopub.status.busy": "2020-07-08T20:44:05.206617Z",
     "iopub.status.idle": "2020-07-08T20:44:05.962583Z",
     "shell.execute_reply": "2020-07-08T20:44:05.961061Z"
    },
    "papermill": {
     "duration": 0.797877,
     "end_time": "2020-07-08T20:44:05.962859",
     "exception": false,
     "start_time": "2020-07-08T20:44:05.164982",
     "status": "completed"
    },
    "tags": []
   },
   "outputs": [],
   "source": [
    "from matplotlib import pyplot as plt\n",
    "%matplotlib inline\n",
    "import pandas as pd\n",
    "from openfisca_ceq.tools.survey_scenario import build_ceq_survey_scenario\n",
    "from openfisca_ceq.tools.indirect_taxation.tax_benefit_system_indirect_taxation_completion import indirect_tax_by_country\n",
    "from openfisca_ceq.tools.data import year_by_country\n",
    "from openfisca_ceq.tools.data_ceq_correspondence import (\n",
    "    ceq_input_by_harmonized_variable,\n",
    "    ceq_intermediate_by_harmonized_variable,\n",
    "    non_ceq_input_by_harmonized_variable,\n",
    "    )"
   ]
  },
  {
   "cell_type": "markdown",
   "metadata": {
    "papermill": {
     "duration": 0.026422,
     "end_time": "2020-07-08T20:44:06.023182",
     "exception": false,
     "start_time": "2020-07-08T20:44:05.996760",
     "status": "completed"
    },
    "tags": []
   },
   "source": [
    "# Build country scenario"
   ]
  },
  {
   "cell_type": "markdown",
   "metadata": {
    "papermill": {
     "duration": 0.026374,
     "end_time": "2020-07-08T20:44:06.079154",
     "exception": false,
     "start_time": "2020-07-08T20:44:06.052780",
     "status": "completed"
    },
    "tags": []
   },
   "source": [
    "## Country selection"
   ]
  },
  {
   "cell_type": "code",
   "execution_count": 3,
   "metadata": {
    "execution": {
     "iopub.execute_input": "2020-07-08T20:44:06.139537Z",
     "iopub.status.busy": "2020-07-08T20:44:06.138959Z",
     "iopub.status.idle": "2020-07-08T20:44:06.142266Z",
     "shell.execute_reply": "2020-07-08T20:44:06.143330Z"
    },
    "papermill": {
     "duration": 0.036131,
     "end_time": "2020-07-08T20:44:06.143641",
     "exception": false,
     "start_time": "2020-07-08T20:44:06.107510",
     "status": "completed"
    },
    "tags": [
     "parameters"
    ]
   },
   "outputs": [],
   "source": [
    "country = \"mali\""
   ]
  },
  {
   "cell_type": "code",
   "execution_count": 4,
   "metadata": {
    "execution": {
     "iopub.execute_input": "2020-07-08T20:44:06.216710Z",
     "iopub.status.busy": "2020-07-08T20:44:06.215661Z",
     "iopub.status.idle": "2020-07-08T20:44:06.217788Z",
     "shell.execute_reply": "2020-07-08T20:44:06.218585Z"
    },
    "papermill": {
     "duration": 0.038921,
     "end_time": "2020-07-08T20:44:06.218795",
     "exception": false,
     "start_time": "2020-07-08T20:44:06.179874",
     "status": "completed"
    },
    "tags": [
     "injected-parameters"
    ]
   },
   "outputs": [],
   "source": [
    "# Parameters\n",
    "country = \"senegal\"\n"
   ]
  },
  {
   "cell_type": "code",
   "execution_count": 5,
   "metadata": {
    "execution": {
     "iopub.execute_input": "2020-07-08T20:44:06.292730Z",
     "iopub.status.busy": "2020-07-08T20:44:06.291680Z",
     "iopub.status.idle": "2020-07-08T20:44:10.851137Z",
     "shell.execute_reply": "2020-07-08T20:44:10.851991Z"
    },
    "papermill": {
     "duration": 4.600093,
     "end_time": "2020-07-08T20:44:10.852249",
     "exception": false,
     "start_time": "2020-07-08T20:44:06.252156",
     "status": "completed"
    },
    "tags": []
   },
   "outputs": [],
   "source": [
    "year = year_by_country[country]\n",
    "survey_scenario = build_ceq_survey_scenario(legislation_country = country, year = year)"
   ]
  },
  {
   "cell_type": "markdown",
   "metadata": {
    "papermill": {
     "duration": 0.027061,
     "end_time": "2020-07-08T20:44:10.918640",
     "exception": false,
     "start_time": "2020-07-08T20:44:10.891579",
     "status": "completed"
    },
    "tags": []
   },
   "source": [
    "# Aggegates check"
   ]
  },
  {
   "cell_type": "markdown",
   "metadata": {
    "papermill": {
     "duration": 0.02874,
     "end_time": "2020-07-08T20:44:10.974295",
     "exception": false,
     "start_time": "2020-07-08T20:44:10.945555",
     "status": "completed"
    },
    "tags": []
   },
   "source": [
    "## Income variables"
   ]
  },
  {
   "cell_type": "markdown",
   "metadata": {
    "papermill": {
     "duration": 0.027417,
     "end_time": "2020-07-08T20:44:11.031492",
     "exception": false,
     "start_time": "2020-07-08T20:44:11.004075",
     "status": "completed"
    },
    "tags": []
   },
   "source": [
    "### Disagregated income variables"
   ]
  },
  {
   "cell_type": "code",
   "execution_count": 6,
   "metadata": {
    "execution": {
     "iopub.execute_input": "2020-07-08T20:44:11.099753Z",
     "iopub.status.busy": "2020-07-08T20:44:11.098711Z",
     "iopub.status.idle": "2020-07-08T20:44:11.102668Z",
     "shell.execute_reply": "2020-07-08T20:44:11.103503Z"
    },
    "papermill": {
     "duration": 0.044642,
     "end_time": "2020-07-08T20:44:11.103703",
     "exception": false,
     "start_time": "2020-07-08T20:44:11.059061",
     "status": "completed"
    },
    "tags": []
   },
   "outputs": [
    {
     "data": {
      "text/plain": [
       "{'rev_i_autoconsommation': 'autoconsumption',\n",
       " 'rev_i_autres': 'other_income',\n",
       " 'rev_i_autres_transferts': 'gifts_sales_durables',\n",
       " 'rev_i_loyers_imputes': 'imputed_rent',\n",
       " 'rev_i_transferts_publics': 'direct_transfers',\n",
       " 'rev_i_agricoles': 'revenu_agricole',\n",
       " 'rev_i_autres_revenus_capital': 'autres_revenus_du_capital',\n",
       " 'rev_i_independants_Ntaxe': 'revenu_informel_non_salarie',\n",
       " 'rev_i_independants_taxe': 'revenu_non_salarie',\n",
       " 'rev_i_locatifs': 'revenu_locatif',\n",
       " 'rev_i_pensions': 'pension_retraite',\n",
       " 'rev_i_salaires_formels': 'salaire',\n",
       " 'rev_i_salaires_informels': 'revenu_informel_salarie',\n",
       " 'autres_revenus_du_capital_brut': 'autres_revenus_du_capital_brut',\n",
       " 'pension_retraite_brut': 'pension_retraite_brut',\n",
       " 'revenu_foncier_brut': 'revenu_foncier_brut',\n",
       " 'revenu_non_salarie_brut': 'revenu_non_salarie_brut',\n",
       " 'salaire_brut': 'salaire_brut',\n",
       " 'salaire_super_brut': 'salaire_super_brut'}"
      ]
     },
     "execution_count": 6,
     "metadata": {},
     "output_type": "execute_result"
    }
   ],
   "source": [
    "ceq_by_harmonized_variable = dict()\n",
    "ceq_by_harmonized_variable.update(ceq_input_by_harmonized_variable)\n",
    "ceq_by_harmonized_variable.update(ceq_intermediate_by_harmonized_variable)\n",
    "ceq_by_harmonized_variable.update(non_ceq_input_by_harmonized_variable)\n",
    "ceq_by_harmonized_variable['autres_revenus_du_capital_brut'] = 'autres_revenus_du_capital_brut'\n",
    "ceq_by_harmonized_variable['pension_retraite_brut'] = 'pension_retraite_brut'\n",
    "ceq_by_harmonized_variable['revenu_foncier_brut'] = 'revenu_foncier_brut'\n",
    "ceq_by_harmonized_variable['revenu_non_salarie_brut'] = 'revenu_non_salarie_brut' \n",
    "ceq_by_harmonized_variable['salaire_brut'] = 'salaire_brut'\n",
    "ceq_by_harmonized_variable['salaire_super_brut'] = 'salaire_super_brut'\n",
    "ceq_by_harmonized_variable"
   ]
  },
  {
   "cell_type": "code",
   "execution_count": 7,
   "metadata": {
    "execution": {
     "iopub.execute_input": "2020-07-08T20:44:11.169676Z",
     "iopub.status.busy": "2020-07-08T20:44:11.168453Z",
     "iopub.status.idle": "2020-07-08T20:44:11.363318Z",
     "shell.execute_reply": "2020-07-08T20:44:11.363851Z"
    },
    "papermill": {
     "duration": 0.230565,
     "end_time": "2020-07-08T20:44:11.364000",
     "exception": false,
     "start_time": "2020-07-08T20:44:11.133435",
     "status": "completed"
    },
    "tags": []
   },
   "outputs": [],
   "source": [
    "data = [\n",
    "    (harmonized_variable, openfisca_variable, survey_scenario.compute_aggregate(openfisca_variable, period = year) / 1e9) \n",
    "    for harmonized_variable, openfisca_variable in ceq_by_harmonized_variable.items()\n",
    "    ]"
   ]
  },
  {
   "cell_type": "code",
   "execution_count": 8,
   "metadata": {
    "execution": {
     "iopub.execute_input": "2020-07-08T20:44:11.461315Z",
     "iopub.status.busy": "2020-07-08T20:44:11.460581Z",
     "iopub.status.idle": "2020-07-08T20:44:11.475599Z",
     "shell.execute_reply": "2020-07-08T20:44:11.476433Z"
    },
    "papermill": {
     "duration": 0.067878,
     "end_time": "2020-07-08T20:44:11.476589",
     "exception": false,
     "start_time": "2020-07-08T20:44:11.408711",
     "status": "completed"
    },
    "tags": []
   },
   "outputs": [
    {
     "data": {
      "text/html": [
       "<div>\n",
       "<style scoped>\n",
       "    .dataframe tbody tr th:only-of-type {\n",
       "        vertical-align: middle;\n",
       "    }\n",
       "\n",
       "    .dataframe tbody tr th {\n",
       "        vertical-align: top;\n",
       "    }\n",
       "\n",
       "    .dataframe thead th {\n",
       "        text-align: right;\n",
       "    }\n",
       "</style>\n",
       "<table border=\"1\" class=\"dataframe\">\n",
       "  <thead>\n",
       "    <tr style=\"text-align: right;\">\n",
       "      <th></th>\n",
       "      <th>harmonized</th>\n",
       "      <th>openfisca</th>\n",
       "      <th>aggregate</th>\n",
       "    </tr>\n",
       "  </thead>\n",
       "  <tbody>\n",
       "    <tr>\n",
       "      <th>0</th>\n",
       "      <td>rev_i_autoconsommation</td>\n",
       "      <td>autoconsumption</td>\n",
       "      <td>158</td>\n",
       "    </tr>\n",
       "    <tr>\n",
       "      <th>1</th>\n",
       "      <td>rev_i_autres</td>\n",
       "      <td>other_income</td>\n",
       "      <td>149</td>\n",
       "    </tr>\n",
       "    <tr>\n",
       "      <th>2</th>\n",
       "      <td>rev_i_autres_transferts</td>\n",
       "      <td>gifts_sales_durables</td>\n",
       "      <td>714</td>\n",
       "    </tr>\n",
       "    <tr>\n",
       "      <th>3</th>\n",
       "      <td>rev_i_loyers_imputes</td>\n",
       "      <td>imputed_rent</td>\n",
       "      <td>364</td>\n",
       "    </tr>\n",
       "    <tr>\n",
       "      <th>4</th>\n",
       "      <td>rev_i_transferts_publics</td>\n",
       "      <td>direct_transfers</td>\n",
       "      <td>24</td>\n",
       "    </tr>\n",
       "    <tr>\n",
       "      <th>5</th>\n",
       "      <td>rev_i_agricoles</td>\n",
       "      <td>revenu_agricole</td>\n",
       "      <td>1062</td>\n",
       "    </tr>\n",
       "    <tr>\n",
       "      <th>6</th>\n",
       "      <td>rev_i_autres_revenus_capital</td>\n",
       "      <td>autres_revenus_du_capital</td>\n",
       "      <td>13</td>\n",
       "    </tr>\n",
       "    <tr>\n",
       "      <th>7</th>\n",
       "      <td>rev_i_independants_Ntaxe</td>\n",
       "      <td>revenu_informel_non_salarie</td>\n",
       "      <td>866</td>\n",
       "    </tr>\n",
       "    <tr>\n",
       "      <th>8</th>\n",
       "      <td>rev_i_independants_taxe</td>\n",
       "      <td>revenu_non_salarie</td>\n",
       "      <td>263</td>\n",
       "    </tr>\n",
       "    <tr>\n",
       "      <th>9</th>\n",
       "      <td>rev_i_locatifs</td>\n",
       "      <td>revenu_locatif</td>\n",
       "      <td>54</td>\n",
       "    </tr>\n",
       "    <tr>\n",
       "      <th>10</th>\n",
       "      <td>rev_i_pensions</td>\n",
       "      <td>pension_retraite</td>\n",
       "      <td>58</td>\n",
       "    </tr>\n",
       "    <tr>\n",
       "      <th>11</th>\n",
       "      <td>rev_i_salaires_formels</td>\n",
       "      <td>salaire</td>\n",
       "      <td>618</td>\n",
       "    </tr>\n",
       "    <tr>\n",
       "      <th>12</th>\n",
       "      <td>rev_i_salaires_informels</td>\n",
       "      <td>revenu_informel_salarie</td>\n",
       "      <td>780</td>\n",
       "    </tr>\n",
       "    <tr>\n",
       "      <th>13</th>\n",
       "      <td>autres_revenus_du_capital_brut</td>\n",
       "      <td>autres_revenus_du_capital_brut</td>\n",
       "      <td>14</td>\n",
       "    </tr>\n",
       "    <tr>\n",
       "      <th>14</th>\n",
       "      <td>pension_retraite_brut</td>\n",
       "      <td>pension_retraite_brut</td>\n",
       "      <td>60</td>\n",
       "    </tr>\n",
       "    <tr>\n",
       "      <th>15</th>\n",
       "      <td>revenu_foncier_brut</td>\n",
       "      <td>revenu_foncier_brut</td>\n",
       "      <td>67</td>\n",
       "    </tr>\n",
       "    <tr>\n",
       "      <th>16</th>\n",
       "      <td>revenu_non_salarie_brut</td>\n",
       "      <td>revenu_non_salarie_brut</td>\n",
       "      <td>295</td>\n",
       "    </tr>\n",
       "    <tr>\n",
       "      <th>17</th>\n",
       "      <td>salaire_brut</td>\n",
       "      <td>salaire_brut</td>\n",
       "      <td>876</td>\n",
       "    </tr>\n",
       "    <tr>\n",
       "      <th>18</th>\n",
       "      <td>salaire_super_brut</td>\n",
       "      <td>salaire_super_brut</td>\n",
       "      <td>941</td>\n",
       "    </tr>\n",
       "  </tbody>\n",
       "</table>\n",
       "</div>"
      ],
      "text/plain": [
       "                        harmonized                       openfisca  aggregate\n",
       "0           rev_i_autoconsommation                 autoconsumption        158\n",
       "1                     rev_i_autres                    other_income        149\n",
       "2          rev_i_autres_transferts            gifts_sales_durables        714\n",
       "3             rev_i_loyers_imputes                    imputed_rent        364\n",
       "4         rev_i_transferts_publics                direct_transfers         24\n",
       "5                  rev_i_agricoles                 revenu_agricole       1062\n",
       "6     rev_i_autres_revenus_capital       autres_revenus_du_capital         13\n",
       "7         rev_i_independants_Ntaxe     revenu_informel_non_salarie        866\n",
       "8          rev_i_independants_taxe              revenu_non_salarie        263\n",
       "9                   rev_i_locatifs                  revenu_locatif         54\n",
       "10                  rev_i_pensions                pension_retraite         58\n",
       "11          rev_i_salaires_formels                         salaire        618\n",
       "12        rev_i_salaires_informels         revenu_informel_salarie        780\n",
       "13  autres_revenus_du_capital_brut  autres_revenus_du_capital_brut         14\n",
       "14           pension_retraite_brut           pension_retraite_brut         60\n",
       "15             revenu_foncier_brut             revenu_foncier_brut         67\n",
       "16         revenu_non_salarie_brut         revenu_non_salarie_brut        295\n",
       "17                    salaire_brut                    salaire_brut        876\n",
       "18              salaire_super_brut              salaire_super_brut        941"
      ]
     },
     "execution_count": 8,
     "metadata": {},
     "output_type": "execute_result"
    }
   ],
   "source": [
    "revenus = pd.DataFrame(data, columns = [\"harmonized\", \"openfisca\", \"aggregate\"])\n",
    "revenus.round(0).astype({\"aggregate\": int})"
   ]
  },
  {
   "cell_type": "markdown",
   "metadata": {
    "papermill": {
     "duration": 0.028784,
     "end_time": "2020-07-08T20:44:11.535256",
     "exception": false,
     "start_time": "2020-07-08T20:44:11.506472",
     "status": "completed"
    },
    "tags": []
   },
   "source": [
    "### Agregated income variables"
   ]
  },
  {
   "cell_type": "markdown",
   "metadata": {
    "papermill": {
     "duration": 0.029729,
     "end_time": "2020-07-08T20:44:11.595444",
     "exception": false,
     "start_time": "2020-07-08T20:44:11.565715",
     "status": "completed"
    },
    "tags": []
   },
   "source": [
    "#### CEQ agregated income variables"
   ]
  },
  {
   "cell_type": "code",
   "execution_count": 9,
   "metadata": {
    "execution": {
     "iopub.execute_input": "2020-07-08T20:44:11.663212Z",
     "iopub.status.busy": "2020-07-08T20:44:11.662060Z",
     "iopub.status.idle": "2020-07-08T20:44:11.664278Z",
     "shell.execute_reply": "2020-07-08T20:44:11.665059Z"
    },
    "papermill": {
     "duration": 0.041921,
     "end_time": "2020-07-08T20:44:11.665272",
     "exception": false,
     "start_time": "2020-07-08T20:44:11.623351",
     "status": "completed"
    },
    "tags": []
   },
   "outputs": [],
   "source": [
    "ceq_variables = [\"market_income\", \"market_income_plus_pensions\", \"pensions\", \"contributions_pensions\", \"net_market_income\", \"direct_taxes\", \"other_contributions\", \"contributions_health\", ]"
   ]
  },
  {
   "cell_type": "code",
   "execution_count": 10,
   "metadata": {
    "execution": {
     "iopub.execute_input": "2020-07-08T20:44:11.743443Z",
     "iopub.status.busy": "2020-07-08T20:44:11.736889Z",
     "iopub.status.idle": "2020-07-08T20:44:11.784245Z",
     "shell.execute_reply": "2020-07-08T20:44:11.784763Z"
    },
    "papermill": {
     "duration": 0.079429,
     "end_time": "2020-07-08T20:44:11.784925",
     "exception": false,
     "start_time": "2020-07-08T20:44:11.705496",
     "status": "completed"
    },
    "tags": []
   },
   "outputs": [
    {
     "data": {
      "text/html": [
       "<div>\n",
       "<style scoped>\n",
       "    .dataframe tbody tr th:only-of-type {\n",
       "        vertical-align: middle;\n",
       "    }\n",
       "\n",
       "    .dataframe tbody tr th {\n",
       "        vertical-align: top;\n",
       "    }\n",
       "\n",
       "    .dataframe thead th {\n",
       "        text-align: right;\n",
       "    }\n",
       "</style>\n",
       "<table border=\"1\" class=\"dataframe\">\n",
       "  <thead>\n",
       "    <tr style=\"text-align: right;\">\n",
       "      <th></th>\n",
       "      <th>aggregate</th>\n",
       "    </tr>\n",
       "  </thead>\n",
       "  <tbody>\n",
       "    <tr>\n",
       "      <th>market_income</th>\n",
       "      <td>5410</td>\n",
       "    </tr>\n",
       "    <tr>\n",
       "      <th>market_income_plus_pensions</th>\n",
       "      <td>5399</td>\n",
       "    </tr>\n",
       "    <tr>\n",
       "      <th>pensions</th>\n",
       "      <td>60</td>\n",
       "    </tr>\n",
       "    <tr>\n",
       "      <th>contributions_pensions</th>\n",
       "      <td>70</td>\n",
       "    </tr>\n",
       "    <tr>\n",
       "      <th>net_market_income</th>\n",
       "      <td>5209</td>\n",
       "    </tr>\n",
       "    <tr>\n",
       "      <th>direct_taxes</th>\n",
       "      <td>181</td>\n",
       "    </tr>\n",
       "    <tr>\n",
       "      <th>other_contributions</th>\n",
       "      <td>12</td>\n",
       "    </tr>\n",
       "    <tr>\n",
       "      <th>contributions_health</th>\n",
       "      <td>10</td>\n",
       "    </tr>\n",
       "  </tbody>\n",
       "</table>\n",
       "</div>"
      ],
      "text/plain": [
       "                             aggregate\n",
       "market_income                     5410\n",
       "market_income_plus_pensions       5399\n",
       "pensions                            60\n",
       "contributions_pensions              70\n",
       "net_market_income                 5209\n",
       "direct_taxes                       181\n",
       "other_contributions                 12\n",
       "contributions_health                10"
      ]
     },
     "execution_count": 10,
     "metadata": {},
     "output_type": "execute_result"
    }
   ],
   "source": [
    "ceq_aggregates = pd.DataFrame(\n",
    "    index = ceq_variables,\n",
    "    columns = ['aggregate'],\n",
    "    data = [\n",
    "        survey_scenario.compute_aggregate(ceq_variable, period = year) / 1e9 \n",
    "        for ceq_variable in ceq_variables\n",
    "        ]\n",
    "    )\n",
    "ceq_aggregates.round(0).astype({\"aggregate\": int})"
   ]
  },
  {
   "cell_type": "markdown",
   "metadata": {
    "papermill": {
     "duration": 0.046087,
     "end_time": "2020-07-08T20:44:11.877370",
     "exception": false,
     "start_time": "2020-07-08T20:44:11.831283",
     "status": "completed"
    },
    "tags": []
   },
   "source": [
    "#### Direct check"
   ]
  },
  {
   "cell_type": "code",
   "execution_count": 11,
   "metadata": {
    "execution": {
     "iopub.execute_input": "2020-07-08T20:44:11.950809Z",
     "iopub.status.busy": "2020-07-08T20:44:11.949369Z",
     "iopub.status.idle": "2020-07-08T20:44:11.954828Z",
     "shell.execute_reply": "2020-07-08T20:44:11.953813Z"
    },
    "papermill": {
     "duration": 0.045787,
     "end_time": "2020-07-08T20:44:11.955026",
     "exception": false,
     "start_time": "2020-07-08T20:44:11.909239",
     "status": "completed"
    },
    "tags": []
   },
   "outputs": [],
   "source": [
    "income_components_summed_in_total = list(ceq_by_harmonized_variable.values()) \n",
    "# income_components_summed_in_total.remove(\"revenu_non_salarie_total\")\n",
    "income_components_summed_in_total.remove(\"direct_transfers\")\n",
    "income_components_summed_in_total.remove(\"salaire\")\n",
    "income_components_summed_in_total.remove(\"salaire_brut\")\n",
    "income_components_summed_in_total.remove(\"pension_retraite\")\n",
    "income_components_summed_in_total.remove('autres_revenus_du_capital')\n",
    "income_components_summed_in_total.remove('revenu_locatif')\n",
    "income_components_summed_in_total.remove('revenu_non_salarie') \n",
    "\n",
    "total_income = sum(\n",
    "    survey_scenario.compute_aggregate(income_component, period = survey_scenario.year) \n",
    "    for income_component in income_components_summed_in_total\n",
    "    ) \n",
    "total_income = (\n",
    "    total_income \n",
    "    - survey_scenario.compute_aggregate(\"contributions_pensions\", period = survey_scenario.year)\n",
    "    ) / 1e9\n"
   ]
  },
  {
   "cell_type": "code",
   "execution_count": 12,
   "metadata": {
    "execution": {
     "iopub.execute_input": "2020-07-08T20:44:12.033051Z",
     "iopub.status.busy": "2020-07-08T20:44:12.032449Z",
     "iopub.status.idle": "2020-07-08T20:44:12.034799Z",
     "shell.execute_reply": "2020-07-08T20:44:12.034422Z"
    },
    "papermill": {
     "duration": 0.042809,
     "end_time": "2020-07-08T20:44:12.034880",
     "exception": false,
     "start_time": "2020-07-08T20:44:11.992071",
     "status": "completed"
    },
    "tags": []
   },
   "outputs": [],
   "source": [
    "from numpy.testing import assert_almost_equal\n",
    "assert_almost_equal(ceq_aggregates.loc['market_income_plus_pensions'].values, total_income, decimal = 5) \n",
    "# print('market_income_plus_pensions = {} vs {} = total_income'.format(\n",
    "#         ceq_aggregates.loc['market_income_plus_pensions'].values,\n",
    "#         total_income\n",
    "#         )\n",
    "#     )\n"
   ]
  },
  {
   "cell_type": "markdown",
   "metadata": {
    "papermill": {
     "duration": 0.032264,
     "end_time": "2020-07-08T20:44:12.100453",
     "exception": false,
     "start_time": "2020-07-08T20:44:12.068189",
     "status": "completed"
    },
    "tags": []
   },
   "source": [
    "#### Wages by public/private sector"
   ]
  },
  {
   "cell_type": "code",
   "execution_count": 13,
   "metadata": {
    "execution": {
     "iopub.execute_input": "2020-07-08T20:44:12.171268Z",
     "iopub.status.busy": "2020-07-08T20:44:12.170654Z",
     "iopub.status.idle": "2020-07-08T20:44:12.176288Z",
     "shell.execute_reply": "2020-07-08T20:44:12.176756Z"
    },
    "papermill": {
     "duration": 0.044388,
     "end_time": "2020-07-08T20:44:12.176900",
     "exception": false,
     "start_time": "2020-07-08T20:44:12.132512",
     "status": "completed"
    },
    "tags": []
   },
   "outputs": [
    {
     "data": {
      "text/plain": [
       "'Count : 84224.0'"
      ]
     },
     "execution_count": 13,
     "metadata": {},
     "output_type": "execute_result"
    }
   ],
   "source": [
    "\"Count : {}\".format(round(\n",
    "    survey_scenario.compute_aggregate(\"secteur_public\", period = year)\n",
    "    ))"
   ]
  },
  {
   "cell_type": "code",
   "execution_count": 14,
   "metadata": {
    "execution": {
     "iopub.execute_input": "2020-07-08T20:44:12.249799Z",
     "iopub.status.busy": "2020-07-08T20:44:12.249257Z",
     "iopub.status.idle": "2020-07-08T20:44:12.316120Z",
     "shell.execute_reply": "2020-07-08T20:44:12.317035Z"
    },
    "papermill": {
     "duration": 0.105994,
     "end_time": "2020-07-08T20:44:12.317281",
     "exception": false,
     "start_time": "2020-07-08T20:44:12.211287",
     "status": "completed"
    },
    "tags": []
   },
   "outputs": [
    {
     "data": {
      "text/html": [
       "<div>\n",
       "<style scoped>\n",
       "    .dataframe tbody tr th:only-of-type {\n",
       "        vertical-align: middle;\n",
       "    }\n",
       "\n",
       "    .dataframe tbody tr th {\n",
       "        vertical-align: top;\n",
       "    }\n",
       "\n",
       "    .dataframe thead th {\n",
       "        text-align: right;\n",
       "    }\n",
       "</style>\n",
       "<table border=\"1\" class=\"dataframe\">\n",
       "  <thead>\n",
       "    <tr style=\"text-align: right;\">\n",
       "      <th>secteur_public</th>\n",
       "      <th>False</th>\n",
       "      <th>True</th>\n",
       "    </tr>\n",
       "  </thead>\n",
       "  <tbody>\n",
       "    <tr>\n",
       "      <th>salaire</th>\n",
       "      <td>333</td>\n",
       "      <td>285</td>\n",
       "    </tr>\n",
       "    <tr>\n",
       "      <th>salaire_brut</th>\n",
       "      <td>464</td>\n",
       "      <td>412</td>\n",
       "    </tr>\n",
       "    <tr>\n",
       "      <th>salaire_super_brut</th>\n",
       "      <td>500</td>\n",
       "      <td>441</td>\n",
       "    </tr>\n",
       "  </tbody>\n",
       "</table>\n",
       "</div>"
      ],
      "text/plain": [
       "secteur_public      False  True \n",
       "salaire               333    285\n",
       "salaire_brut          464    412\n",
       "salaire_super_brut    500    441"
      ]
     },
     "execution_count": 14,
     "metadata": {},
     "output_type": "execute_result"
    }
   ],
   "source": [
    "(\n",
    "    survey_scenario.compute_pivot_table(\n",
    "        columns = [\"secteur_public\"], \n",
    "        values = [\"salaire\", \"salaire_brut\", \"salaire_super_brut\"],\n",
    "        aggfunc = \"sum\",\n",
    "        period = year,\n",
    "        concat_axis = 0,\n",
    "        ) / 1e9\n",
    "    ).round(0).astype(int)"
   ]
  },
  {
   "cell_type": "markdown",
   "metadata": {
    "papermill": {
     "duration": 0.031357,
     "end_time": "2020-07-08T20:44:12.389564",
     "exception": false,
     "start_time": "2020-07-08T20:44:12.358207",
     "status": "completed"
    },
    "tags": []
   },
   "source": [
    "## Education variables"
   ]
  },
  {
   "cell_type": "markdown",
   "metadata": {
    "papermill": {
     "duration": 0.028922,
     "end_time": "2020-07-08T20:44:12.450691",
     "exception": false,
     "start_time": "2020-07-08T20:44:12.421769",
     "status": "completed"
    },
    "tags": []
   },
   "source": [
    "### Counts (in millions)"
   ]
  },
  {
   "cell_type": "code",
   "execution_count": 15,
   "metadata": {
    "execution": {
     "iopub.execute_input": "2020-07-08T20:44:12.521177Z",
     "iopub.status.busy": "2020-07-08T20:44:12.520601Z",
     "iopub.status.idle": "2020-07-08T20:44:12.545215Z",
     "shell.execute_reply": "2020-07-08T20:44:12.546497Z"
    },
    "papermill": {
     "duration": 0.066296,
     "end_time": "2020-07-08T20:44:12.546801",
     "exception": false,
     "start_time": "2020-07-08T20:44:12.480505",
     "status": "completed"
    },
    "tags": []
   },
   "outputs": [
    {
     "name": "stdout",
     "output_type": "stream",
     "text": [
      "eleve_enseignement_niveau   -1.0   0.0   1.0   2.0   3.0\n",
      "eleve_enseignement_public                               \n",
      "0.0                        10.61  0.11  0.33  0.18  0.05\n",
      "1.0                         0.01  0.04  1.43  0.84  0.05\n"
     ]
    }
   ],
   "source": [
    "print((survey_scenario.compute_pivot_table(columns = ['eleve_enseignement_niveau'], index = ['eleve_enseignement_public'], aggfunc = 'count', period = survey_scenario.year) / 1e6).round(2))"
   ]
  },
  {
   "cell_type": "code",
   "execution_count": 16,
   "metadata": {
    "execution": {
     "iopub.execute_input": "2020-07-08T20:44:12.622656Z",
     "iopub.status.busy": "2020-07-08T20:44:12.621560Z",
     "iopub.status.idle": "2020-07-08T20:44:12.632335Z",
     "shell.execute_reply": "2020-07-08T20:44:12.633367Z"
    },
    "papermill": {
     "duration": 0.053827,
     "end_time": "2020-07-08T20:44:12.633627",
     "exception": false,
     "start_time": "2020-07-08T20:44:12.579800",
     "status": "completed"
    },
    "tags": []
   },
   "outputs": [
    {
     "name": "stdout",
     "output_type": "stream",
     "text": [
      "In kind education tranfers\n",
      "pre_school_person: 1 billions FCFA\n",
      "pre_school: 1 billions FCFA\n",
      "primary_education_person: 190 billions FCFA\n",
      "primary_education: 190 billions FCFA\n",
      "secondary_education_person: 141 billions FCFA\n",
      "secondary_education: 141 billions FCFA\n",
      "tertiary_education_person: 104 billions FCFA\n",
      "tertiary_education: 104 billions FCFA\n",
      "education_net_transfers: 436 billions FCFA\n"
     ]
    }
   ],
   "source": [
    "variables = [\n",
    "    'pre_school_person',\n",
    "    'pre_school',\n",
    "    'primary_education_person',\n",
    "    'primary_education',\n",
    "    'secondary_education_person',\n",
    "    'secondary_education',\n",
    "    'tertiary_education_person',\n",
    "    'tertiary_education',\n",
    "    'education_net_transfers',\n",
    "    ]\n",
    "print(\"In kind education tranfers\")\n",
    "for variable in variables:\n",
    "    print(\n",
    "        \"{variable}: {aggregate} billions FCFA\".format(\n",
    "            variable = variable,\n",
    "            aggregate = int(round(survey_scenario.compute_aggregate(variable, period = survey_scenario.year) / 1e9))\n",
    "            )\n",
    "        )"
   ]
  },
  {
   "cell_type": "markdown",
   "metadata": {
    "papermill": {
     "duration": 0.033059,
     "end_time": "2020-07-08T20:44:12.703582",
     "exception": false,
     "start_time": "2020-07-08T20:44:12.670523",
     "status": "completed"
    },
    "tags": []
   },
   "source": [
    "## Inflating income and consumption"
   ]
  },
  {
   "cell_type": "code",
   "execution_count": 17,
   "metadata": {
    "execution": {
     "iopub.execute_input": "2020-07-08T20:44:12.778104Z",
     "iopub.status.busy": "2020-07-08T20:44:12.777294Z",
     "iopub.status.idle": "2020-07-08T20:44:17.603934Z",
     "shell.execute_reply": "2020-07-08T20:44:17.604704Z"
    },
    "papermill": {
     "duration": 4.867962,
     "end_time": "2020-07-08T20:44:17.604855",
     "exception": false,
     "start_time": "2020-07-08T20:44:12.736893",
     "status": "completed"
    },
    "tags": []
   },
   "outputs": [
    {
     "name": "stderr",
     "output_type": "stream",
     "text": [
      "/home/benjello/.virtualenvs/ceq/lib/python3.7/site-packages/scipy/optimize/minpack.py:175: RuntimeWarning: The iteration is not making good progress, as measured by the \n",
      "  improvement from the last ten iterations.\n",
      "  warnings.warn(msg, RuntimeWarning)\n"
     ]
    }
   ],
   "source": [
    "inflated_survey_scenario = build_ceq_survey_scenario(\n",
    "    legislation_country = country, \n",
    "    year = year,\n",
    "    inflate = True,\n",
    "    )"
   ]
  },
  {
   "cell_type": "code",
   "execution_count": 18,
   "metadata": {
    "execution": {
     "iopub.execute_input": "2020-07-08T20:44:17.693459Z",
     "iopub.status.busy": "2020-07-08T20:44:17.691934Z",
     "iopub.status.idle": "2020-07-08T20:44:17.696344Z",
     "shell.execute_reply": "2020-07-08T20:44:17.697289Z"
    },
    "papermill": {
     "duration": 0.044101,
     "end_time": "2020-07-08T20:44:17.697538",
     "exception": false,
     "start_time": "2020-07-08T20:44:17.653437",
     "status": "completed"
    },
    "tags": []
   },
   "outputs": [
    {
     "name": "stderr",
     "output_type": "stream",
     "text": [
      "ERROR:root:No traceback has been produced, nothing to debug.\n"
     ]
    }
   ],
   "source": [
    "%debug"
   ]
  },
  {
   "cell_type": "code",
   "execution_count": 19,
   "metadata": {
    "execution": {
     "iopub.execute_input": "2020-07-08T20:44:17.786612Z",
     "iopub.status.busy": "2020-07-08T20:44:17.785740Z",
     "iopub.status.idle": "2020-07-08T20:44:17.860081Z",
     "shell.execute_reply": "2020-07-08T20:44:17.861073Z"
    },
    "papermill": {
     "duration": 0.127126,
     "end_time": "2020-07-08T20:44:17.861400",
     "exception": false,
     "start_time": "2020-07-08T20:44:17.734274",
     "status": "completed"
    },
    "tags": []
   },
   "outputs": [
    {
     "data": {
      "text/plain": [
       "'7595.151 == 7595.150917186541'"
      ]
     },
     "metadata": {},
     "output_type": "display_data"
    }
   ],
   "source": [
    "from openfisca_ceq.tools.data.income_targets import read_target\n",
    "gross_value_added = read_target(country, \"gross_value_added\") / 1e9\n",
    "gross_value_added_computed = sum(inflated_survey_scenario.compute_aggregate(income_variable, period = year) / 1e9\n",
    "    for income_variable in inflated_survey_scenario.income_variables\n",
    "    )\n",
    "display(\"{} == {}\".format(gross_value_added, gross_value_added_computed))"
   ]
  },
  {
   "cell_type": "markdown",
   "metadata": {
    "papermill": {
     "duration": 0.034943,
     "end_time": "2020-07-08T20:44:17.960379",
     "exception": false,
     "start_time": "2020-07-08T20:44:17.925436",
     "status": "completed"
    },
    "tags": []
   },
   "source": [
    "## Tax variables"
   ]
  },
  {
   "cell_type": "markdown",
   "metadata": {
    "papermill": {
     "duration": 0.034987,
     "end_time": "2020-07-08T20:44:18.029487",
     "exception": false,
     "start_time": "2020-07-08T20:44:17.994500",
     "status": "completed"
    },
    "tags": []
   },
   "source": [
    "### Direct taxes variables"
   ]
  },
  {
   "cell_type": "code",
   "execution_count": 20,
   "metadata": {
    "execution": {
     "iopub.execute_input": "2020-07-08T20:44:18.114608Z",
     "iopub.status.busy": "2020-07-08T20:44:18.113137Z",
     "iopub.status.idle": "2020-07-08T20:44:18.251251Z",
     "shell.execute_reply": "2020-07-08T20:44:18.251958Z"
    },
    "papermill": {
     "duration": 0.187227,
     "end_time": "2020-07-08T20:44:18.252107",
     "exception": false,
     "start_time": "2020-07-08T20:44:18.064880",
     "status": "completed"
    },
    "tags": []
   },
   "outputs": [
    {
     "data": {
      "text/html": [
       "<div>\n",
       "<style scoped>\n",
       "    .dataframe tbody tr th:only-of-type {\n",
       "        vertical-align: middle;\n",
       "    }\n",
       "\n",
       "    .dataframe tbody tr th {\n",
       "        vertical-align: top;\n",
       "    }\n",
       "\n",
       "    .dataframe thead th {\n",
       "        text-align: right;\n",
       "    }\n",
       "</style>\n",
       "<table border=\"1\" class=\"dataframe\">\n",
       "  <thead>\n",
       "    <tr style=\"text-align: right;\">\n",
       "      <th></th>\n",
       "      <th>aggregate</th>\n",
       "      <th>inflated_aggregate</th>\n",
       "    </tr>\n",
       "  </thead>\n",
       "  <tbody>\n",
       "    <tr>\n",
       "      <th>contribution_globale_fonciere</th>\n",
       "      <td>0</td>\n",
       "      <td>0.0</td>\n",
       "    </tr>\n",
       "    <tr>\n",
       "      <th>contribution_globale_unique</th>\n",
       "      <td>35</td>\n",
       "      <td>49.0</td>\n",
       "    </tr>\n",
       "    <tr>\n",
       "      <th>droit_progressif_pension_retraite</th>\n",
       "      <td>2</td>\n",
       "      <td>3.0</td>\n",
       "    </tr>\n",
       "    <tr>\n",
       "      <th>droit_progressif_salaire</th>\n",
       "      <td>100</td>\n",
       "      <td>176.0</td>\n",
       "    </tr>\n",
       "    <tr>\n",
       "      <th>droit_progressif</th>\n",
       "      <td>102</td>\n",
       "      <td>179.0</td>\n",
       "    </tr>\n",
       "    <tr>\n",
       "      <th>droit_proportionnel_autres_revenus</th>\n",
       "      <td>15</td>\n",
       "      <td>20.0</td>\n",
       "    </tr>\n",
       "    <tr>\n",
       "      <th>droit_proportionnel_salaire</th>\n",
       "      <td>64</td>\n",
       "      <td>99.0</td>\n",
       "    </tr>\n",
       "    <tr>\n",
       "      <th>droit_proportionnel</th>\n",
       "      <td>79</td>\n",
       "      <td>119.0</td>\n",
       "    </tr>\n",
       "    <tr>\n",
       "      <th>impot_revenus</th>\n",
       "      <td>181</td>\n",
       "      <td>298.0</td>\n",
       "    </tr>\n",
       "  </tbody>\n",
       "</table>\n",
       "</div>"
      ],
      "text/plain": [
       "                                    aggregate  inflated_aggregate\n",
       "contribution_globale_fonciere               0                 0.0\n",
       "contribution_globale_unique                35                49.0\n",
       "droit_progressif_pension_retraite           2                 3.0\n",
       "droit_progressif_salaire                  100               176.0\n",
       "droit_progressif                          102               179.0\n",
       "droit_proportionnel_autres_revenus         15                20.0\n",
       "droit_proportionnel_salaire                64                99.0\n",
       "droit_proportionnel                        79               119.0\n",
       "impot_revenus                             181               298.0"
      ]
     },
     "execution_count": 20,
     "metadata": {},
     "output_type": "execute_result"
    }
   ],
   "source": [
    "from openfisca_ceq.tools.data.tax_targets import detailed_taxes_by_country, build_country_result\n",
    "direct_taxes_variables = detailed_taxes_by_country[country]\n",
    "\n",
    "direct_taxes = pd.concat(\n",
    "    [\n",
    "        pd.DataFrame(\n",
    "            index = direct_taxes_variables,\n",
    "            columns = ['aggregate'],\n",
    "            data = [\n",
    "                survey_scenario.compute_aggregate(variable, period = year) / 1e9 \n",
    "                for variable in direct_taxes_variables\n",
    "                ],\n",
    "            ),\n",
    "        pd.DataFrame(\n",
    "            index = direct_taxes_variables,\n",
    "            columns = ['inflated_aggregate'],\n",
    "            data = [\n",
    "                    inflated_survey_scenario.compute_aggregate(variable, period = year) / 1e9 \n",
    "                for variable in direct_taxes_variables\n",
    "                ],\n",
    "            )\n",
    "        ],\n",
    "    axis = 1\n",
    ")\n",
    "\n",
    "direct_taxes.round().astype({\"aggregate\": int})"
   ]
  },
  {
   "cell_type": "code",
   "execution_count": 21,
   "metadata": {
    "execution": {
     "iopub.execute_input": "2020-07-08T20:44:18.360755Z",
     "iopub.status.busy": "2020-07-08T20:44:18.357932Z",
     "iopub.status.idle": "2020-07-08T20:44:18.527485Z",
     "shell.execute_reply": "2020-07-08T20:44:18.528622Z"
    },
    "papermill": {
     "duration": 0.224095,
     "end_time": "2020-07-08T20:44:18.528940",
     "exception": false,
     "start_time": "2020-07-08T20:44:18.304845",
     "status": "completed"
    },
    "tags": []
   },
   "outputs": [
    {
     "data": {
      "text/html": [
       "<div>\n",
       "<style scoped>\n",
       "    .dataframe tbody tr th:only-of-type {\n",
       "        vertical-align: middle;\n",
       "    }\n",
       "\n",
       "    .dataframe tbody tr th {\n",
       "        vertical-align: top;\n",
       "    }\n",
       "\n",
       "    .dataframe thead tr th {\n",
       "        text-align: left;\n",
       "    }\n",
       "</style>\n",
       "<table border=\"1\" class=\"dataframe\">\n",
       "  <thead>\n",
       "    <tr>\n",
       "      <th></th>\n",
       "      <th colspan=\"3\" halign=\"left\">Senegal</th>\n",
       "    </tr>\n",
       "    <tr>\n",
       "      <th></th>\n",
       "      <th>actual</th>\n",
       "      <th>direct</th>\n",
       "      <th>inflated</th>\n",
       "    </tr>\n",
       "  </thead>\n",
       "  <tbody>\n",
       "    <tr>\n",
       "      <th>Total tax revenue</th>\n",
       "      <td>1430.0</td>\n",
       "      <td>NaN</td>\n",
       "      <td>NaN</td>\n",
       "    </tr>\n",
       "    <tr>\n",
       "      <th>Direct taxes</th>\n",
       "      <td>494.5</td>\n",
       "      <td>180.6</td>\n",
       "      <td>297.5</td>\n",
       "    </tr>\n",
       "    <tr>\n",
       "      <th>Personal Income Taxes</th>\n",
       "      <td>238.1</td>\n",
       "      <td>180.6</td>\n",
       "      <td>297.5</td>\n",
       "    </tr>\n",
       "    <tr>\n",
       "      <th>Social Security Contributions</th>\n",
       "      <td>95.4</td>\n",
       "      <td>NaN</td>\n",
       "      <td>NaN</td>\n",
       "    </tr>\n",
       "    <tr>\n",
       "      <th>Corporate Income Tax</th>\n",
       "      <td>113.9</td>\n",
       "      <td>0.0</td>\n",
       "      <td>0.0</td>\n",
       "    </tr>\n",
       "    <tr>\n",
       "      <th>Other Direct Taxes</th>\n",
       "      <td>47.1</td>\n",
       "      <td>NaN</td>\n",
       "      <td>NaN</td>\n",
       "    </tr>\n",
       "    <tr>\n",
       "      <th>Indirect taxes</th>\n",
       "      <td>935.5</td>\n",
       "      <td>421.6</td>\n",
       "      <td>756.1</td>\n",
       "    </tr>\n",
       "    <tr>\n",
       "      <th>VAT</th>\n",
       "      <td>519.1</td>\n",
       "      <td>326.5</td>\n",
       "      <td>585.6</td>\n",
       "    </tr>\n",
       "    <tr>\n",
       "      <th>Import Taxes</th>\n",
       "      <td>195.2</td>\n",
       "      <td>95.1</td>\n",
       "      <td>170.6</td>\n",
       "    </tr>\n",
       "    <tr>\n",
       "      <th>Excise taxes</th>\n",
       "      <td>79.8</td>\n",
       "      <td>0.0</td>\n",
       "      <td>0.0</td>\n",
       "    </tr>\n",
       "    <tr>\n",
       "      <th>on Oil Derivates</th>\n",
       "      <td>53.8</td>\n",
       "      <td>NaN</td>\n",
       "      <td>NaN</td>\n",
       "    </tr>\n",
       "    <tr>\n",
       "      <th>on alcohol, tabac and other non-oil derivatives</th>\n",
       "      <td>26.0</td>\n",
       "      <td>NaN</td>\n",
       "      <td>NaN</td>\n",
       "    </tr>\n",
       "    <tr>\n",
       "      <th>Other Indirect Taxes</th>\n",
       "      <td>141.4</td>\n",
       "      <td>NaN</td>\n",
       "      <td>NaN</td>\n",
       "    </tr>\n",
       "    <tr>\n",
       "      <th>Share simulated taxes (% of total tax revenue)</th>\n",
       "      <td>NaN</td>\n",
       "      <td>NaN</td>\n",
       "      <td>NaN</td>\n",
       "    </tr>\n",
       "    <tr>\n",
       "      <th>contribution_globale_fonciere</th>\n",
       "      <td>NaN</td>\n",
       "      <td>0.0</td>\n",
       "      <td>0.0</td>\n",
       "    </tr>\n",
       "    <tr>\n",
       "      <th>contribution_globale_unique</th>\n",
       "      <td>NaN</td>\n",
       "      <td>34.6</td>\n",
       "      <td>49.2</td>\n",
       "    </tr>\n",
       "    <tr>\n",
       "      <th>droit_progressif_pension_retraite</th>\n",
       "      <td>NaN</td>\n",
       "      <td>1.5</td>\n",
       "      <td>2.6</td>\n",
       "    </tr>\n",
       "    <tr>\n",
       "      <th>droit_progressif_salaire</th>\n",
       "      <td>NaN</td>\n",
       "      <td>100.2</td>\n",
       "      <td>176.0</td>\n",
       "    </tr>\n",
       "    <tr>\n",
       "      <th>droit_progressif</th>\n",
       "      <td>NaN</td>\n",
       "      <td>101.7</td>\n",
       "      <td>178.7</td>\n",
       "    </tr>\n",
       "    <tr>\n",
       "      <th>droit_proportionnel_autres_revenus</th>\n",
       "      <td>NaN</td>\n",
       "      <td>14.5</td>\n",
       "      <td>20.2</td>\n",
       "    </tr>\n",
       "    <tr>\n",
       "      <th>droit_proportionnel_salaire</th>\n",
       "      <td>NaN</td>\n",
       "      <td>64.3</td>\n",
       "      <td>98.7</td>\n",
       "    </tr>\n",
       "    <tr>\n",
       "      <th>droit_proportionnel</th>\n",
       "      <td>NaN</td>\n",
       "      <td>78.9</td>\n",
       "      <td>118.8</td>\n",
       "    </tr>\n",
       "    <tr>\n",
       "      <th>impot_revenus</th>\n",
       "      <td>NaN</td>\n",
       "      <td>180.6</td>\n",
       "      <td>297.5</td>\n",
       "    </tr>\n",
       "    <tr>\n",
       "      <th>total_ht_imports</th>\n",
       "      <td>NaN</td>\n",
       "      <td>920.4</td>\n",
       "      <td>1650.7</td>\n",
       "    </tr>\n",
       "  </tbody>\n",
       "</table>\n",
       "</div>"
      ],
      "text/plain": [
       "                                                Senegal                \n",
       "                                                 actual direct inflated\n",
       "Total tax revenue                                1430.0    NaN      NaN\n",
       "Direct taxes                                      494.5  180.6    297.5\n",
       "Personal Income Taxes                             238.1  180.6    297.5\n",
       "Social Security Contributions                      95.4    NaN      NaN\n",
       "Corporate Income Tax                              113.9    0.0      0.0\n",
       "Other Direct Taxes                                 47.1    NaN      NaN\n",
       "Indirect taxes                                    935.5  421.6    756.1\n",
       "VAT                                               519.1  326.5    585.6\n",
       "Import Taxes                                      195.2   95.1    170.6\n",
       "Excise taxes                                       79.8    0.0      0.0\n",
       "on Oil Derivates                                   53.8    NaN      NaN\n",
       "on alcohol, tabac and other non-oil derivatives    26.0    NaN      NaN\n",
       "Other Indirect Taxes                              141.4    NaN      NaN\n",
       "Share simulated taxes (% of total tax revenue)      NaN    NaN      NaN\n",
       "contribution_globale_fonciere                       NaN    0.0      0.0\n",
       "contribution_globale_unique                         NaN   34.6     49.2\n",
       "droit_progressif_pension_retraite                   NaN    1.5      2.6\n",
       "droit_progressif_salaire                            NaN  100.2    176.0\n",
       "droit_progressif                                    NaN  101.7    178.7\n",
       "droit_proportionnel_autres_revenus                  NaN   14.5     20.2\n",
       "droit_proportionnel_salaire                         NaN   64.3     98.7\n",
       "droit_proportionnel                                 NaN   78.9    118.8\n",
       "impot_revenus                                       NaN  180.6    297.5\n",
       "total_ht_imports                                    NaN  920.4   1650.7"
      ]
     },
     "execution_count": 21,
     "metadata": {},
     "output_type": "execute_result"
    }
   ],
   "source": [
    "build_country_result(survey_scenario, inflated_survey_scenario, add_country_details = True)"
   ]
  },
  {
   "cell_type": "markdown",
   "metadata": {
    "papermill": {
     "duration": 0.036214,
     "end_time": "2020-07-08T20:44:18.604098",
     "exception": false,
     "start_time": "2020-07-08T20:44:18.567884",
     "status": "completed"
    },
    "tags": []
   },
   "source": [
    "### Indirect tax variables"
   ]
  },
  {
   "cell_type": "code",
   "execution_count": 22,
   "metadata": {
    "execution": {
     "iopub.execute_input": "2020-07-08T20:44:18.697530Z",
     "iopub.status.busy": "2020-07-08T20:44:18.695551Z",
     "iopub.status.idle": "2020-07-08T20:44:18.700989Z",
     "shell.execute_reply": "2020-07-08T20:44:18.701709Z"
    },
    "papermill": {
     "duration": 0.061294,
     "end_time": "2020-07-08T20:44:18.701889",
     "exception": false,
     "start_time": "2020-07-08T20:44:18.640595",
     "status": "completed"
    },
    "tags": []
   },
   "outputs": [
    {
     "data": {
      "text/plain": [
       "['depenses_ht_tva_exonere',\n",
       " 'depenses_ht_tva_taux_normal',\n",
       " 'depenses_ht_tva_taux_reduit',\n",
       " 'tva_taux_normal',\n",
       " 'tva_taux_reduit',\n",
       " 'tva',\n",
       " 'depenses_ht_hd_sd_droits_douane_consommation_finale',\n",
       " 'depenses_ht_hd_sd_droits_douane_consommation_intermediaire',\n",
       " 'depenses_ht_hd_sd_droits_douane_equipements',\n",
       " 'depenses_ht_hd_sd_droits_douane_exonere',\n",
       " 'droits_douane_consommation_finale',\n",
       " 'droits_douane_consommation_intermediaire',\n",
       " 'droits_douane_equipements',\n",
       " 'droits_douane']"
      ]
     },
     "execution_count": 22,
     "metadata": {},
     "output_type": "execute_result"
    }
   ],
   "source": [
    "indirect_tax_variables = [\n",
    "    variable \n",
    "    for tax in indirect_tax_by_country[country]\n",
    "    for variable in survey_scenario.tax_benefit_system.variables.keys() \n",
    "    if tax in variable \n",
    "    ]\n",
    "indirect_tax_variables"
   ]
  },
  {
   "cell_type": "code",
   "execution_count": 23,
   "metadata": {
    "execution": {
     "iopub.execute_input": "2020-07-08T20:44:18.807617Z",
     "iopub.status.busy": "2020-07-08T20:44:18.806768Z",
     "iopub.status.idle": "2020-07-08T20:44:18.825761Z",
     "shell.execute_reply": "2020-07-08T20:44:18.826883Z"
    },
    "papermill": {
     "duration": 0.07773,
     "end_time": "2020-07-08T20:44:18.827172",
     "exception": false,
     "start_time": "2020-07-08T20:44:18.749442",
     "status": "completed"
    },
    "tags": []
   },
   "outputs": [
    {
     "data": {
      "text/html": [
       "<div>\n",
       "<style scoped>\n",
       "    .dataframe tbody tr th:only-of-type {\n",
       "        vertical-align: middle;\n",
       "    }\n",
       "\n",
       "    .dataframe tbody tr th {\n",
       "        vertical-align: top;\n",
       "    }\n",
       "\n",
       "    .dataframe thead th {\n",
       "        text-align: right;\n",
       "    }\n",
       "</style>\n",
       "<table border=\"1\" class=\"dataframe\">\n",
       "  <thead>\n",
       "    <tr style=\"text-align: right;\">\n",
       "      <th></th>\n",
       "      <th>aggregate</th>\n",
       "    </tr>\n",
       "  </thead>\n",
       "  <tbody>\n",
       "    <tr>\n",
       "      <th>depenses_ht_tva_exonere</th>\n",
       "      <td>1552</td>\n",
       "    </tr>\n",
       "    <tr>\n",
       "      <th>depenses_ht_tva_taux_normal</th>\n",
       "      <td>1790</td>\n",
       "    </tr>\n",
       "    <tr>\n",
       "      <th>depenses_ht_tva_taux_reduit</th>\n",
       "      <td>43</td>\n",
       "    </tr>\n",
       "    <tr>\n",
       "      <th>tva_taux_normal</th>\n",
       "      <td>322</td>\n",
       "    </tr>\n",
       "    <tr>\n",
       "      <th>tva_taux_reduit</th>\n",
       "      <td>4</td>\n",
       "    </tr>\n",
       "    <tr>\n",
       "      <th>tva</th>\n",
       "      <td>327</td>\n",
       "    </tr>\n",
       "    <tr>\n",
       "      <th>depenses_ht_hd_sd_droits_douane_consommation_finale</th>\n",
       "      <td>363</td>\n",
       "    </tr>\n",
       "    <tr>\n",
       "      <th>depenses_ht_hd_sd_droits_douane_consommation_intermediaire</th>\n",
       "      <td>51</td>\n",
       "    </tr>\n",
       "    <tr>\n",
       "      <th>depenses_ht_hd_sd_droits_douane_equipements</th>\n",
       "      <td>347</td>\n",
       "    </tr>\n",
       "    <tr>\n",
       "      <th>depenses_ht_hd_sd_droits_douane_exonere</th>\n",
       "      <td>64</td>\n",
       "    </tr>\n",
       "    <tr>\n",
       "      <th>droits_douane_consommation_finale</th>\n",
       "      <td>73</td>\n",
       "    </tr>\n",
       "    <tr>\n",
       "      <th>droits_douane_consommation_intermediaire</th>\n",
       "      <td>5</td>\n",
       "    </tr>\n",
       "    <tr>\n",
       "      <th>droits_douane_equipements</th>\n",
       "      <td>17</td>\n",
       "    </tr>\n",
       "    <tr>\n",
       "      <th>droits_douane</th>\n",
       "      <td>95</td>\n",
       "    </tr>\n",
       "  </tbody>\n",
       "</table>\n",
       "</div>"
      ],
      "text/plain": [
       "                                                    aggregate\n",
       "depenses_ht_tva_exonere                                  1552\n",
       "depenses_ht_tva_taux_normal                              1790\n",
       "depenses_ht_tva_taux_reduit                                43\n",
       "tva_taux_normal                                           322\n",
       "tva_taux_reduit                                             4\n",
       "tva                                                       327\n",
       "depenses_ht_hd_sd_droits_douane_consommation_fi...        363\n",
       "depenses_ht_hd_sd_droits_douane_consommation_in...         51\n",
       "depenses_ht_hd_sd_droits_douane_equipements               347\n",
       "depenses_ht_hd_sd_droits_douane_exonere                    64\n",
       "droits_douane_consommation_finale                          73\n",
       "droits_douane_consommation_intermediaire                    5\n",
       "droits_douane_equipements                                  17\n",
       "droits_douane                                              95"
      ]
     },
     "execution_count": 23,
     "metadata": {},
     "output_type": "execute_result"
    }
   ],
   "source": [
    "taxes_and_tariffs = pd.DataFrame(\n",
    "    index = indirect_tax_variables,\n",
    "    columns = ['aggregate'],\n",
    "    data = [\n",
    "        survey_scenario.compute_aggregate(variable, period = year) / 1e9 \n",
    "        for variable in indirect_tax_variables\n",
    "        ]\n",
    "    )\n",
    "taxes_and_tariffs.round().astype({\"aggregate\": int})"
   ]
  },
  {
   "cell_type": "markdown",
   "metadata": {
    "papermill": {
     "duration": 0.037758,
     "end_time": "2020-07-08T20:44:18.910042",
     "exception": false,
     "start_time": "2020-07-08T20:44:18.872284",
     "status": "completed"
    },
    "tags": []
   },
   "source": [
    "### Verify consumption"
   ]
  },
  {
   "cell_type": "code",
   "execution_count": 24,
   "metadata": {
    "execution": {
     "iopub.execute_input": "2020-07-08T20:44:18.993460Z",
     "iopub.status.busy": "2020-07-08T20:44:18.991959Z",
     "iopub.status.idle": "2020-07-08T20:44:19.005506Z",
     "shell.execute_reply": "2020-07-08T20:44:19.004613Z"
    },
    "papermill": {
     "duration": 0.057353,
     "end_time": "2020-07-08T20:44:19.005686",
     "exception": false,
     "start_time": "2020-07-08T20:44:18.948333",
     "status": "completed"
    },
    "tags": []
   },
   "outputs": [
    {
     "data": {
      "text/plain": [
       "3975.5231230319123"
      ]
     },
     "execution_count": 24,
     "metadata": {},
     "output_type": "execute_result"
    }
   ],
   "source": [
    "consumption = survey_scenario.compute_aggregate('consumption', period = year) / 1e9\n",
    "consumption"
   ]
  },
  {
   "cell_type": "code",
   "execution_count": 25,
   "metadata": {
    "execution": {
     "iopub.execute_input": "2020-07-08T20:44:19.086089Z",
     "iopub.status.busy": "2020-07-08T20:44:19.085539Z",
     "iopub.status.idle": "2020-07-08T20:44:19.089884Z",
     "shell.execute_reply": "2020-07-08T20:44:19.090409Z"
    },
    "papermill": {
     "duration": 0.048966,
     "end_time": "2020-07-08T20:44:19.090559",
     "exception": false,
     "start_time": "2020-07-08T20:44:19.041593",
     "status": "completed"
    },
    "tags": []
   },
   "outputs": [
    {
     "data": {
      "text/plain": [
       "3712.053203744014"
      ]
     },
     "execution_count": 25,
     "metadata": {},
     "output_type": "execute_result"
    }
   ],
   "source": [
    "# assert consumption == \n",
    "sum(taxes_and_tariffs['aggregate'][\n",
    "    taxes_and_tariffs.index.str.contains('tva_')\n",
    "    ])"
   ]
  },
  {
   "cell_type": "code",
   "execution_count": 26,
   "metadata": {
    "execution": {
     "iopub.execute_input": "2020-07-08T20:44:19.167633Z",
     "iopub.status.busy": "2020-07-08T20:44:19.166456Z",
     "iopub.status.idle": "2020-07-08T20:44:19.189535Z",
     "shell.execute_reply": "2020-07-08T20:44:19.188601Z"
    },
    "papermill": {
     "duration": 0.064754,
     "end_time": "2020-07-08T20:44:19.189731",
     "exception": false,
     "start_time": "2020-07-08T20:44:19.124977",
     "status": "completed"
    },
    "tags": []
   },
   "outputs": [
    {
     "data": {
      "text/plain": [
       "3712.053157371868"
      ]
     },
     "execution_count": 26,
     "metadata": {},
     "output_type": "execute_result"
    }
   ],
   "source": [
    "# assert consumption == \n",
    "(\n",
    "    sum(\n",
    "        survey_scenario.compute_aggregate(variable, period = year)\n",
    "        for variable in survey_scenario.tax_benefit_system.variables\n",
    "        if \"depenses_ht_hd_poste\" in variable \n",
    "        ) \n",
    "    + survey_scenario.compute_aggregate(\"droits_douane\", period = year)\n",
    "    + survey_scenario.compute_aggregate(\"tva\", period = year)\n",
    "    ) / 1e9"
   ]
  },
  {
   "cell_type": "markdown",
   "metadata": {
    "papermill": {
     "duration": 0.039201,
     "end_time": "2020-07-08T20:44:19.273906",
     "exception": false,
     "start_time": "2020-07-08T20:44:19.234705",
     "status": "completed"
    },
    "tags": []
   },
   "source": [
    "# Inflate incomes   "
   ]
  },
  {
   "cell_type": "markdown",
   "metadata": {
    "papermill": {
     "duration": 0.041377,
     "end_time": "2020-07-08T20:44:19.356824",
     "exception": false,
     "start_time": "2020-07-08T20:44:19.315447",
     "status": "completed"
    },
    "tags": []
   },
   "source": [
    "## Income variables"
   ]
  },
  {
   "cell_type": "code",
   "execution_count": 27,
   "metadata": {
    "execution": {
     "iopub.execute_input": "2020-07-08T20:44:19.448075Z",
     "iopub.status.busy": "2020-07-08T20:44:19.446675Z",
     "iopub.status.idle": "2020-07-08T20:44:19.449752Z",
     "shell.execute_reply": "2020-07-08T20:44:19.451174Z"
    },
    "papermill": {
     "duration": 0.053437,
     "end_time": "2020-07-08T20:44:19.451380",
     "exception": false,
     "start_time": "2020-07-08T20:44:19.397943",
     "status": "completed"
    },
    "tags": []
   },
   "outputs": [],
   "source": [
    "income_variables = [\n",
    "    'autoconsumption',\n",
    "    'other_income',\n",
    "    'gifts_sales_durables',\n",
    "    'imputed_rent',\n",
    "    'revenu_agricole',\n",
    "    'autres_revenus_du_capital',\n",
    "    'revenu_informel_non_salarie',\n",
    "    'revenu_non_salarie',\n",
    "    'revenu_locatif',\n",
    "    'pension_retraite',\n",
    "    'salaire_super_brut',\n",
    "    ]"
   ]
  },
  {
   "cell_type": "code",
   "execution_count": 28,
   "metadata": {
    "execution": {
     "iopub.execute_input": "2020-07-08T20:44:19.535646Z",
     "iopub.status.busy": "2020-07-08T20:44:19.534820Z",
     "iopub.status.idle": "2020-07-08T20:44:19.544496Z",
     "shell.execute_reply": "2020-07-08T20:44:19.543624Z"
    },
    "papermill": {
     "duration": 0.05424,
     "end_time": "2020-07-08T20:44:19.544673",
     "exception": false,
     "start_time": "2020-07-08T20:44:19.490433",
     "status": "completed"
    },
    "tags": []
   },
   "outputs": [
    {
     "data": {
      "text/plain": [
       "4641.846993890306"
      ]
     },
     "execution_count": 28,
     "metadata": {},
     "output_type": "execute_result"
    }
   ],
   "source": [
    "sum(\n",
    "    survey_scenario.compute_aggregate(income_variable, period = year)\n",
    "    for income_variable in income_variables\n",
    "    ) / 1e9"
   ]
  },
  {
   "cell_type": "code",
   "execution_count": null,
   "metadata": {
    "papermill": {
     "duration": 0.040262,
     "end_time": "2020-07-08T20:44:19.628781",
     "exception": false,
     "start_time": "2020-07-08T20:44:19.588519",
     "status": "completed"
    },
    "tags": []
   },
   "outputs": [],
   "source": []
  },
  {
   "cell_type": "code",
   "execution_count": 29,
   "metadata": {
    "execution": {
     "iopub.execute_input": "2020-07-08T20:44:19.710455Z",
     "iopub.status.busy": "2020-07-08T20:44:19.709817Z",
     "iopub.status.idle": "2020-07-08T20:44:19.720931Z",
     "shell.execute_reply": "2020-07-08T20:44:19.721756Z"
    },
    "papermill": {
     "duration": 0.054104,
     "end_time": "2020-07-08T20:44:19.721993",
     "exception": false,
     "start_time": "2020-07-08T20:44:19.667889",
     "status": "completed"
    },
    "tags": []
   },
   "outputs": [
    {
     "data": {
      "text/plain": [
       "6294.98481673941"
      ]
     },
     "execution_count": 29,
     "metadata": {},
     "output_type": "execute_result"
    }
   ],
   "source": [
    "sum(\n",
    "    inflated_survey_scenario.compute_aggregate(income_variable, period = year)\n",
    "    for income_variable in income_variables\n",
    "    ) / 1e9"
   ]
  },
  {
   "cell_type": "markdown",
   "metadata": {
    "papermill": {
     "duration": 0.036736,
     "end_time": "2020-07-08T20:44:19.808682",
     "exception": false,
     "start_time": "2020-07-08T20:44:19.771946",
     "status": "completed"
    },
    "tags": []
   },
   "source": [
    "# Indicators"
   ]
  },
  {
   "cell_type": "code",
   "execution_count": 30,
   "metadata": {
    "execution": {
     "iopub.execute_input": "2020-07-08T20:44:19.897685Z",
     "iopub.status.busy": "2020-07-08T20:44:19.896627Z",
     "iopub.status.idle": "2020-07-08T20:44:19.990709Z",
     "shell.execute_reply": "2020-07-08T20:44:19.991868Z"
    },
    "papermill": {
     "duration": 0.137645,
     "end_time": "2020-07-08T20:44:19.992149",
     "exception": false,
     "start_time": "2020-07-08T20:44:19.854504",
     "status": "completed"
    },
    "tags": []
   },
   "outputs": [
    {
     "data": {
      "text/html": [
       "<div>\n",
       "<style scoped>\n",
       "    .dataframe tbody tr th:only-of-type {\n",
       "        vertical-align: middle;\n",
       "    }\n",
       "\n",
       "    .dataframe tbody tr th {\n",
       "        vertical-align: top;\n",
       "    }\n",
       "\n",
       "    .dataframe thead th {\n",
       "        text-align: right;\n",
       "    }\n",
       "</style>\n",
       "<table border=\"1\" class=\"dataframe\">\n",
       "  <thead>\n",
       "    <tr style=\"text-align: right;\">\n",
       "      <th></th>\n",
       "      <th>market_income</th>\n",
       "      <th>market_income_plus_pensions</th>\n",
       "      <th>gross_income</th>\n",
       "      <th>disposable_income</th>\n",
       "      <th>consumable_income</th>\n",
       "      <th>final_income</th>\n",
       "    </tr>\n",
       "  </thead>\n",
       "  <tbody>\n",
       "    <tr>\n",
       "      <th>Gini</th>\n",
       "      <td>0.56</td>\n",
       "      <td>0.56</td>\n",
       "      <td>0.55</td>\n",
       "      <td>0.54</td>\n",
       "      <td>0.56</td>\n",
       "      <td>0.53</td>\n",
       "    </tr>\n",
       "    <tr>\n",
       "      <th>Bottom 40 %</th>\n",
       "      <td>0.10</td>\n",
       "      <td>0.10</td>\n",
       "      <td>0.10</td>\n",
       "      <td>0.10</td>\n",
       "      <td>0.09</td>\n",
       "      <td>0.11</td>\n",
       "    </tr>\n",
       "    <tr>\n",
       "      <th>Top 10 %</th>\n",
       "      <td>0.44</td>\n",
       "      <td>0.44</td>\n",
       "      <td>0.44</td>\n",
       "      <td>0.42</td>\n",
       "      <td>0.44</td>\n",
       "      <td>0.42</td>\n",
       "    </tr>\n",
       "  </tbody>\n",
       "</table>\n",
       "</div>"
      ],
      "text/plain": [
       "             market_income  market_income_plus_pensions  gross_income  \\\n",
       "Gini                  0.56                         0.56          0.55   \n",
       "Bottom 40 %           0.10                         0.10          0.10   \n",
       "Top 10 %              0.44                         0.44          0.44   \n",
       "\n",
       "             disposable_income  consumable_income  final_income  \n",
       "Gini                      0.54               0.56          0.53  \n",
       "Bottom 40 %               0.10               0.09          0.11  \n",
       "Top 10 %                  0.42               0.44          0.42  "
      ]
     },
     "metadata": {},
     "output_type": "display_data"
    }
   ],
   "source": [
    "from openfisca_survey_manager.statshelpers import lorenz\n",
    "from openfisca_ceq.tools.results.inequality import inequality_table\n",
    "display(inequality_table(survey_scenario))"
   ]
  },
  {
   "cell_type": "code",
   "execution_count": 31,
   "metadata": {
    "execution": {
     "iopub.execute_input": "2020-07-08T20:44:20.081499Z",
     "iopub.status.busy": "2020-07-08T20:44:20.080300Z",
     "iopub.status.idle": "2020-07-08T20:44:20.089950Z",
     "shell.execute_reply": "2020-07-08T20:44:20.088705Z"
    },
    "papermill": {
     "duration": 0.054475,
     "end_time": "2020-07-08T20:44:20.090257",
     "exception": false,
     "start_time": "2020-07-08T20:44:20.035782",
     "status": "completed"
    },
    "tags": []
   },
   "outputs": [
    {
     "data": {
      "text/plain": [
       "421.6203539343905"
      ]
     },
     "execution_count": 31,
     "metadata": {},
     "output_type": "execute_result"
    }
   ],
   "source": [
    "survey_scenario.compute_aggregate(\"impots_indirects\", period = year) / 1e9"
   ]
  },
  {
   "cell_type": "code",
   "execution_count": 32,
   "metadata": {
    "execution": {
     "iopub.execute_input": "2020-07-08T20:44:20.180284Z",
     "iopub.status.busy": "2020-07-08T20:44:20.178790Z",
     "iopub.status.idle": "2020-07-08T20:44:20.186756Z",
     "shell.execute_reply": "2020-07-08T20:44:20.185596Z"
    },
    "papermill": {
     "duration": 0.051993,
     "end_time": "2020-07-08T20:44:20.186973",
     "exception": false,
     "start_time": "2020-07-08T20:44:20.134980",
     "status": "completed"
    },
    "tags": []
   },
   "outputs": [
    {
     "data": {
      "text/plain": [
       "180.56767149911866"
      ]
     },
     "execution_count": 32,
     "metadata": {},
     "output_type": "execute_result"
    }
   ],
   "source": [
    "survey_scenario.compute_aggregate(\"direct_taxes\", period = year) / 1e9"
   ]
  },
  {
   "cell_type": "code",
   "execution_count": 33,
   "metadata": {
    "execution": {
     "iopub.execute_input": "2020-07-08T20:44:20.268822Z",
     "iopub.status.busy": "2020-07-08T20:44:20.268249Z",
     "iopub.status.idle": "2020-07-08T20:44:20.271551Z",
     "shell.execute_reply": "2020-07-08T20:44:20.271132Z"
    },
    "papermill": {
     "duration": 0.047763,
     "end_time": "2020-07-08T20:44:20.271643",
     "exception": false,
     "start_time": "2020-07-08T20:44:20.223880",
     "status": "completed"
    },
    "tags": []
   },
   "outputs": [
    {
     "data": {
      "text/plain": [
       "180.56767149911866"
      ]
     },
     "execution_count": 33,
     "metadata": {},
     "output_type": "execute_result"
    }
   ],
   "source": [
    "survey_scenario.compute_aggregate(\"personal_income_tax\", period = year) / 1e9"
   ]
  },
  {
   "cell_type": "code",
   "execution_count": 34,
   "metadata": {
    "execution": {
     "iopub.execute_input": "2020-07-08T20:44:20.348395Z",
     "iopub.status.busy": "2020-07-08T20:44:20.347832Z",
     "iopub.status.idle": "2020-07-08T20:44:20.349828Z",
     "shell.execute_reply": "2020-07-08T20:44:20.350169Z"
    },
    "papermill": {
     "duration": 0.041925,
     "end_time": "2020-07-08T20:44:20.350277",
     "exception": false,
     "start_time": "2020-07-08T20:44:20.308352",
     "status": "completed"
    },
    "tags": []
   },
   "outputs": [],
   "source": [
    "from openfisca_ceq import list_variables_from_directory"
   ]
  },
  {
   "cell_type": "code",
   "execution_count": 35,
   "metadata": {
    "execution": {
     "iopub.execute_input": "2020-07-08T20:44:20.435306Z",
     "iopub.status.busy": "2020-07-08T20:44:20.434877Z",
     "iopub.status.idle": "2020-07-08T20:44:20.626318Z",
     "shell.execute_reply": "2020-07-08T20:44:20.625271Z"
    },
    "papermill": {
     "duration": 0.235777,
     "end_time": "2020-07-08T20:44:20.626558",
     "exception": false,
     "start_time": "2020-07-08T20:44:20.390781",
     "status": "completed"
    },
    "tags": []
   },
   "outputs": [
    {
     "data": {
      "text/plain": [
       "['agricultural_inputs_subsidies',\n",
       " 'alimony',\n",
       " 'corporate_income_tax',\n",
       " 'electricity_subsidies',\n",
       " 'employee_contributions_health',\n",
       " 'employee_other_contributions',\n",
       " 'excise_taxes',\n",
       " 'food_subsidies',\n",
       " 'fuel_subsidies',\n",
       " 'indirect_subsidies',\n",
       " 'other_taxes',\n",
       " 'payroll_tax',\n",
       " 'property_tax',\n",
       " 'sales_tax',\n",
       " 'self_employed_contributions_health',\n",
       " 'self_employed_contributions_pensions',\n",
       " 'self_employed_other_contributions']"
      ]
     },
     "execution_count": 35,
     "metadata": {},
     "output_type": "execute_result"
    }
   ],
   "source": [
    "ceq_variables = sorted(list_variables_from_directory(survey_scenario.tax_benefit_system))\n",
    "[\n",
    "    ceq_variable\n",
    "    for ceq_variable in ceq_variables\n",
    "    if survey_scenario.compute_aggregate(ceq_variable, period = year) == 0\n",
    "    ]"
   ]
  },
  {
   "cell_type": "code",
   "execution_count": 36,
   "metadata": {
    "execution": {
     "iopub.execute_input": "2020-07-08T20:44:20.723445Z",
     "iopub.status.busy": "2020-07-08T20:44:20.722157Z",
     "iopub.status.idle": "2020-07-08T20:44:20.860492Z",
     "shell.execute_reply": "2020-07-08T20:44:20.860038Z"
    },
    "papermill": {
     "duration": 0.184259,
     "end_time": "2020-07-08T20:44:20.860587",
     "exception": false,
     "start_time": "2020-07-08T20:44:20.676328",
     "status": "completed"
    },
    "tags": []
   },
   "outputs": [
    {
     "data": {
      "text/plain": [
       "[<matplotlib.lines.Line2D at 0x7f8334d07f10>]"
      ]
     },
     "execution_count": 36,
     "metadata": {},
     "output_type": "execute_result"
    },
    {
     "data": {
      "image/png": "[encoded data removed]",
      "text/plain": [
       "<Figure size 432x288 with 1 Axes>"
      ]
     },
     "metadata": {
      "needs_background": "light"
     },
     "output_type": "display_data"
    }
   ],
   "source": [
    "variable = \"market_income\"\n",
    "nb_persons = survey_scenario.calculate_variable(\"number_of_people_per_household\", period = year)\n",
    "weights = survey_scenario.calculate_variable(\"household_weight\", period = year) * nb_persons\n",
    "\n",
    "y, x = lorenz(survey_scenario.calculate_variable(variable, period = year) / nb_persons, weights = weights)\n",
    "plt.plot(x, y)"
   ]
  },
  {
   "cell_type": "code",
   "execution_count": 37,
   "metadata": {
    "execution": {
     "iopub.execute_input": "2020-07-08T20:44:20.946351Z",
     "iopub.status.busy": "2020-07-08T20:44:20.945765Z",
     "iopub.status.idle": "2020-07-08T20:44:20.949330Z",
     "shell.execute_reply": "2020-07-08T20:44:20.948917Z"
    },
    "papermill": {
     "duration": 0.046483,
     "end_time": "2020-07-08T20:44:20.949421",
     "exception": false,
     "start_time": "2020-07-08T20:44:20.902938",
     "status": "completed"
    },
    "tags": []
   },
   "outputs": [
    {
     "data": {
      "text/plain": [
       "23.617592066947427"
      ]
     },
     "execution_count": 37,
     "metadata": {},
     "output_type": "execute_result"
    }
   ],
   "source": [
    "survey_scenario.compute_aggregate('direct_transfers', period = year) / 1e9"
   ]
  },
  {
   "cell_type": "code",
   "execution_count": 38,
   "metadata": {
    "execution": {
     "iopub.execute_input": "2020-07-08T20:44:21.033544Z",
     "iopub.status.busy": "2020-07-08T20:44:21.032973Z",
     "iopub.status.idle": "2020-07-08T20:44:21.036029Z",
     "shell.execute_reply": "2020-07-08T20:44:21.036369Z"
    },
    "papermill": {
     "duration": 0.047458,
     "end_time": "2020-07-08T20:44:21.036478",
     "exception": false,
     "start_time": "2020-07-08T20:44:20.989020",
     "status": "completed"
    },
    "tags": []
   },
   "outputs": [
    {
     "data": {
      "text/plain": [
       "['agricultural_inputs_subsidies',\n",
       " 'alimony',\n",
       " 'all_income_excluding_transfers',\n",
       " 'autoconsumption',\n",
       " 'consumable_income',\n",
       " 'contributions_health',\n",
       " 'contributions_pensions',\n",
       " 'corporate_income_tax',\n",
       " 'customs_duties',\n",
       " 'decile_consumable_income_per_capita',\n",
       " 'decile_disposable_income_per_capita',\n",
       " 'decile_final_income_per_capita',\n",
       " 'decile_gross_income_per_capita',\n",
       " 'decile_market_income_per_capita',\n",
       " 'decile_market_income_plus_pensions_per_capita',\n",
       " 'decile_survey_income_per_capita',\n",
       " 'direct_taxes',\n",
       " 'disposable_income',\n",
       " 'electricity_subsidies',\n",
       " 'employee_contributions_health',\n",
       " 'employee_contributions_pensions',\n",
       " 'employee_other_contributions',\n",
       " 'employer_contributions_health',\n",
       " 'employer_contributions_pensions',\n",
       " 'employer_other_contributions',\n",
       " 'excise_taxes',\n",
       " 'final_income',\n",
       " 'food_subsidies',\n",
       " 'fuel_subsidies',\n",
       " 'gifts_sales_durables',\n",
       " 'gross_income',\n",
       " 'imputed_rent',\n",
       " 'indirect_subsidies',\n",
       " 'indirect_taxes',\n",
       " 'market_income',\n",
       " 'market_income_plus_pensions',\n",
       " 'net_market_income',\n",
       " 'nontaxable_income',\n",
       " 'other_contributions',\n",
       " 'other_income',\n",
       " 'other_taxes',\n",
       " 'payroll_tax',\n",
       " 'pensions',\n",
       " 'personal_income_tax',\n",
       " 'property_tax',\n",
       " 'sales_tax',\n",
       " 'self_employed_contributions_health',\n",
       " 'self_employed_contributions_pensions',\n",
       " 'self_employed_other_contributions',\n",
       " 'taxable_income',\n",
       " 'value_added_tax']"
      ]
     },
     "execution_count": 38,
     "metadata": {},
     "output_type": "execute_result"
    }
   ],
   "source": [
    "ceq_variables"
   ]
  },
  {
   "cell_type": "code",
   "execution_count": 39,
   "metadata": {
    "execution": {
     "iopub.execute_input": "2020-07-08T20:44:21.131698Z",
     "iopub.status.busy": "2020-07-08T20:44:21.131139Z",
     "iopub.status.idle": "2020-07-08T20:44:21.135291Z",
     "shell.execute_reply": "2020-07-08T20:44:21.134832Z"
    },
    "papermill": {
     "duration": 0.050972,
     "end_time": "2020-07-08T20:44:21.135396",
     "exception": false,
     "start_time": "2020-07-08T20:44:21.084424",
     "status": "completed"
    },
    "tags": []
   },
   "outputs": [
    {
     "data": {
      "text/plain": [
       "95100801291.52759"
      ]
     },
     "execution_count": 39,
     "metadata": {},
     "output_type": "execute_result"
    }
   ],
   "source": [
    "survey_scenario.compute_aggregate('customs_duties', period = year) "
   ]
  },
  {
   "cell_type": "code",
   "execution_count": 40,
   "metadata": {
    "execution": {
     "iopub.execute_input": "2020-07-08T20:44:21.242441Z",
     "iopub.status.busy": "2020-07-08T20:44:21.241433Z",
     "iopub.status.idle": "2020-07-08T20:44:25.731286Z",
     "shell.execute_reply": "2020-07-08T20:44:25.731990Z"
    },
    "papermill": {
     "duration": 4.554018,
     "end_time": "2020-07-08T20:44:25.732138",
     "exception": false,
     "start_time": "2020-07-08T20:44:21.178120",
     "status": "completed"
    },
    "tags": []
   },
   "outputs": [
    {
     "name": "stderr",
     "output_type": "stream",
     "text": [
      "/home/benjello/.virtualenvs/ceq/lib/python3.7/site-packages/scipy/optimize/minpack.py:175: RuntimeWarning: The iteration is not making good progress, as measured by the \n",
      "  improvement from the last ten iterations.\n",
      "  warnings.warn(msg, RuntimeWarning)\n"
     ]
    }
   ],
   "source": [
    "inflated_survey_scenario = build_ceq_survey_scenario(legislation_country = country, year = year, inflate = True)"
   ]
  },
  {
   "cell_type": "code",
   "execution_count": 41,
   "metadata": {
    "execution": {
     "iopub.execute_input": "2020-07-08T20:44:25.849740Z",
     "iopub.status.busy": "2020-07-08T20:44:25.848909Z",
     "iopub.status.idle": "2020-07-08T20:44:25.851570Z",
     "shell.execute_reply": "2020-07-08T20:44:25.852047Z"
    },
    "papermill": {
     "duration": 0.059505,
     "end_time": "2020-07-08T20:44:25.852186",
     "exception": false,
     "start_time": "2020-07-08T20:44:25.792681",
     "status": "completed"
    },
    "tags": []
   },
   "outputs": [
    {
     "data": {
      "text/plain": [
       "['poste_10_1_1_1',\n",
       " 'poste_11_1_1_1_1',\n",
       " 'poste_12_1_3_item_1',\n",
       " 'poste_12_1_3_item_2',\n",
       " 'poste_12_3_1_1_item_1',\n",
       " 'poste_12_3_1_1_item_2',\n",
       " 'poste_12_7_1_2_1',\n",
       " 'poste_12_7_1_item_1',\n",
       " 'poste_12_7_1_item_2',\n",
       " 'poste_1_1_1_1_1_item_1',\n",
       " 'poste_1_1_1_1_1_item_2',\n",
       " 'poste_1_1_1_4_1_item_1',\n",
       " 'poste_1_1_1_4_1_item_2',\n",
       " 'poste_1_1_1_4_1_item_3',\n",
       " 'poste_1_1_1_4_1_item_4',\n",
       " 'poste_1_1_1_4_1_item_5',\n",
       " 'poste_1_1_1_4_1_item_6',\n",
       " 'poste_1_1_1_4_1_item_7',\n",
       " 'poste_1_1_1_4_3_item_1',\n",
       " 'poste_1_1_1_4_3_item_2',\n",
       " 'poste_1_1_1_4_3_item_3',\n",
       " 'poste_1_1_2_item_1',\n",
       " 'poste_1_1_2_item_2',\n",
       " 'poste_1_1_2_item_3',\n",
       " 'poste_1_1_2_item_4',\n",
       " 'poste_1_1_2_item_5',\n",
       " 'poste_1_1_2_item_6',\n",
       " 'poste_1_1_3_item_1',\n",
       " 'poste_1_1_3_item_2',\n",
       " 'poste_1_1_3_item_3',\n",
       " 'poste_1_1_4_item_1',\n",
       " 'poste_1_1_4_item_2',\n",
       " 'poste_1_1_4_item_3',\n",
       " 'poste_1_1_4_item_4',\n",
       " 'poste_1_1_5_item_1',\n",
       " 'poste_1_1_5_item_2',\n",
       " 'poste_1_1_5_item_3',\n",
       " 'poste_1_1_5_item_4',\n",
       " 'poste_1_1_6',\n",
       " 'poste_1_1_7_item_1',\n",
       " 'poste_1_1_7_item_2',\n",
       " 'poste_1_1_7_item_3',\n",
       " 'poste_1_1_7_item_4',\n",
       " 'poste_1_1_7_item_5',\n",
       " 'poste_1_1_7_item_6',\n",
       " 'poste_1_1_7_item_7',\n",
       " 'poste_1_1_8_item_1',\n",
       " 'poste_1_1_8_item_2',\n",
       " 'poste_1_1_8_item_3',\n",
       " 'poste_1_1_9_item_1',\n",
       " 'poste_1_1_9_item_2',\n",
       " 'poste_1_1_9_item_3',\n",
       " 'poste_1_1_9_item_4',\n",
       " 'poste_1_2_item_1',\n",
       " 'poste_1_2_item_2',\n",
       " 'poste_1_2_item_3',\n",
       " 'poste_1_2_item_4',\n",
       " 'poste_1_2_item_5',\n",
       " 'poste_1_2_item_6',\n",
       " 'poste_2_1',\n",
       " 'poste_2_2',\n",
       " 'poste_3_1_2_item_1',\n",
       " 'poste_3_1_2_item_2',\n",
       " 'poste_3_1_2_item_3',\n",
       " 'poste_3_1_2_item_4',\n",
       " 'poste_3_2_1',\n",
       " 'poste_4_1_1_item_1',\n",
       " 'poste_4_1_1_item_2',\n",
       " 'poste_4_3',\n",
       " 'poste_4_3_1_1_2_item_1',\n",
       " 'poste_4_3_1_1_2_item_2',\n",
       " 'poste_4_3_2_2_1_item_1',\n",
       " 'poste_4_3_2_2_1_item_2',\n",
       " 'poste_4_4_1_1_1_item_1',\n",
       " 'poste_4_4_1_1_1_item_2',\n",
       " 'poste_4_4_1_1_1_item_3',\n",
       " 'poste_4_4_1_2_1',\n",
       " 'poste_4_5_1_1_1_item_1',\n",
       " 'poste_4_5_1_1_1_item_2',\n",
       " 'poste_4_5_2_1_1_item_1',\n",
       " 'poste_4_5_2_1_1_item_2',\n",
       " 'poste_4_5_2_1_1_item_3',\n",
       " 'poste_4_5_2_1_1_item_4',\n",
       " 'poste_4_5_3_1_1',\n",
       " 'poste_4_5_4_1_1_item_1',\n",
       " 'poste_4_5_4_1_1_item_2',\n",
       " 'poste_5_1_item_1',\n",
       " 'poste_5_1_item_10',\n",
       " 'poste_5_1_item_11',\n",
       " 'poste_5_1_item_2',\n",
       " 'poste_5_1_item_3',\n",
       " 'poste_5_1_item_4',\n",
       " 'poste_5_1_item_5',\n",
       " 'poste_5_1_item_6',\n",
       " 'poste_5_1_item_7',\n",
       " 'poste_5_1_item_8',\n",
       " 'poste_5_1_item_9',\n",
       " 'poste_5_2_item_1',\n",
       " 'poste_5_2_item_2',\n",
       " 'poste_5_2_item_3',\n",
       " 'poste_5_3_1_item_1',\n",
       " 'poste_5_3_1_item_10',\n",
       " 'poste_5_3_1_item_11',\n",
       " 'poste_5_3_1_item_2',\n",
       " 'poste_5_3_1_item_3',\n",
       " 'poste_5_3_1_item_4',\n",
       " 'poste_5_3_1_item_5',\n",
       " 'poste_5_3_1_item_6',\n",
       " 'poste_5_3_1_item_7',\n",
       " 'poste_5_3_1_item_8',\n",
       " 'poste_5_3_1_item_9',\n",
       " 'poste_5_3_2_item_1',\n",
       " 'poste_5_3_2_item_2',\n",
       " 'poste_5_5_1_1_1',\n",
       " 'poste_5_5_1_item_1',\n",
       " 'poste_5_5_1_item_10',\n",
       " 'poste_5_5_1_item_11',\n",
       " 'poste_5_5_1_item_12',\n",
       " 'poste_5_5_1_item_13',\n",
       " 'poste_5_5_1_item_2',\n",
       " 'poste_5_5_1_item_3',\n",
       " 'poste_5_5_1_item_4',\n",
       " 'poste_5_5_1_item_5',\n",
       " 'poste_5_5_1_item_6',\n",
       " 'poste_5_5_1_item_7',\n",
       " 'poste_5_5_1_item_8',\n",
       " 'poste_5_5_1_item_9',\n",
       " 'poste_5_6_2_1_1',\n",
       " 'poste_6_1_1_item_1',\n",
       " 'poste_6_1_1_item_2',\n",
       " 'poste_6_1_1_item_3',\n",
       " 'poste_6_2_1_item_1',\n",
       " 'poste_6_2_1_item_2',\n",
       " 'poste_6_2_1_item_3',\n",
       " 'poste_6_2_1_item_4',\n",
       " 'poste_6_2_1_item_5',\n",
       " 'poste_6_2_1_item_6',\n",
       " 'poste_7_1_1_item_1',\n",
       " 'poste_7_1_1_item_2',\n",
       " 'poste_7_1_1_item_3',\n",
       " 'poste_7_1_2_item_1',\n",
       " 'poste_7_1_2_item_2',\n",
       " 'poste_7_2_2',\n",
       " 'poste_7_2_3_item_1',\n",
       " 'poste_7_2_3_item_2',\n",
       " 'poste_7_3_2_item_1',\n",
       " 'poste_7_3_2_item_2',\n",
       " 'poste_8_1_2_1_1_item_1',\n",
       " 'poste_8_1_2_1_1_item_2',\n",
       " 'poste_8_1_2_2_1_item_1',\n",
       " 'poste_8_1_2_2_1_item_2',\n",
       " 'poste_8_1_2_2_1_item_3',\n",
       " 'poste_8_1_2_2_1_item_4',\n",
       " 'poste_8_1_2_2_1_item_5',\n",
       " 'poste_9_1_1_1_2',\n",
       " 'poste_9_1_1_1_3',\n",
       " 'poste_9_1_1_1_4',\n",
       " 'poste_9_1_3_1_1',\n",
       " 'poste_9_2_1_1_2',\n",
       " 'poste_9_4',\n",
       " 'poste_9_4_2_3_1_item_1',\n",
       " 'poste_9_4_2_3_1_item_2',\n",
       " 'poste_9_5_1_1_3',\n",
       " 'poste_9_5_3_2_2']"
      ]
     },
     "execution_count": 41,
     "metadata": {},
     "output_type": "execute_result"
    }
   ],
   "source": [
    "sorted([\n",
    "    variable \n",
    "    for variable in survey_scenario.tax_benefit_system.variables \n",
    "    if variable.startswith('poste_')\n",
    "    ])"
   ]
  },
  {
   "cell_type": "code",
   "execution_count": 42,
   "metadata": {
    "execution": {
     "iopub.execute_input": "2020-07-08T20:44:25.955241Z",
     "iopub.status.busy": "2020-07-08T20:44:25.953919Z",
     "iopub.status.idle": "2020-07-08T20:44:25.959219Z",
     "shell.execute_reply": "2020-07-08T20:44:25.959774Z"
    },
    "papermill": {
     "duration": 0.060445,
     "end_time": "2020-07-08T20:44:25.959939",
     "exception": false,
     "start_time": "2020-07-08T20:44:25.899494",
     "status": "completed"
    },
    "tags": []
   },
   "outputs": [
    {
     "data": {
      "text/plain": [
       "421620353934.3905"
      ]
     },
     "execution_count": 42,
     "metadata": {},
     "output_type": "execute_result"
    }
   ],
   "source": [
    "survey_scenario.compute_aggregate('indirect_taxes', period = year)"
   ]
  },
  {
   "cell_type": "markdown",
   "metadata": {
    "papermill": {
     "duration": 0.044289,
     "end_time": "2020-07-08T20:44:26.052606",
     "exception": false,
     "start_time": "2020-07-08T20:44:26.008317",
     "status": "completed"
    },
    "tags": []
   },
   "source": [
    "Direct taxes"
   ]
  },
  {
   "cell_type": "code",
   "execution_count": null,
   "metadata": {
    "papermill": {
     "duration": 0.039018,
     "end_time": "2020-07-08T20:44:26.134090",
     "exception": false,
     "start_time": "2020-07-08T20:44:26.095072",
     "status": "completed"
    },
    "tags": []
   },
   "outputs": [],
   "source": []
  },
  {
   "cell_type": "code",
   "execution_count": null,
   "metadata": {
    "papermill": {
     "duration": 0.038829,
     "end_time": "2020-07-08T20:44:26.211683",
     "exception": false,
     "start_time": "2020-07-08T20:44:26.172854",
     "status": "completed"
    },
    "tags": []
   },
   "outputs": [],
   "source": []
  }
 ],
 "metadata": {
  "kernelspec": {
   "display_name": "Python 3",
   "language": "python",
   "name": "python3"
  },
  "language_info": {
   "codemirror_mode": {
    "name": "ipython",
    "version": 3
   },
   "file_extension": ".py",
   "mimetype": "text/x-python",
   "name": "python",
   "nbconvert_exporter": "python",
   "pygments_lexer": "ipython3",
   "version": "3.7.8"
  },
  "papermill": {
   "duration": 23.304246,
   "end_time": "2020-07-08T20:44:27.490942",
   "environment_variables": {},
   "exception": null,
   "input_path": "notebooks/test.ipynb",
   "output_path": "notebooks/senegal.ipynb",
   "parameters": {
    "country": "senegal"
   },
   "start_time": "2020-07-08T20:44:04.186696",
   "version": "2.1.2"
  }
 },
 "nbformat": 4,
 "nbformat_minor": 4
}