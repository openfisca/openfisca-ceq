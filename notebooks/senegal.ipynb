{
 "cells": [
  {
   "cell_type": "code",
   "execution_count": 1,
   "metadata": {
    "execution": {
     "iopub.execute_input": "2020-07-09T14:48:49.907276Z",
     "iopub.status.busy": "2020-07-09T14:48:49.906718Z",
     "iopub.status.idle": "2020-07-09T14:48:49.909149Z",
     "shell.execute_reply": "2020-07-09T14:48:49.908730Z"
    },
    "papermill": {
     "duration": 0.037528,
     "end_time": "2020-07-09T14:48:49.909234",
     "exception": false,
     "start_time": "2020-07-09T14:48:49.871706",
     "status": "completed"
    },
    "tags": []
   },
   "outputs": [],
   "source": [
    "# !pip install -U git+https://github.com/openfisca/openfisca-ceq.git@master#egg=OpenFisca-CEQ\n",
    "# !pip install -U git+https://github.com/openfisca/openfisca-senegal.git@ceq#egg=OpenFisca-Senegal\n",
    "# !pip install -U git+https://github.com/openfisca/openfisca-mali.git@master#egg=OpenFisca-Mali\n",
    "# !pip install -U git+https://github.com/openfisca/openfisca-cote-d-ivoire.git@master#egg=OpenFisca-COTE-D-IVOIRE"
   ]
  },
  {
   "cell_type": "code",
   "execution_count": 2,
   "metadata": {
    "execution": {
     "iopub.execute_input": "2020-07-09T14:48:49.966302Z",
     "iopub.status.busy": "2020-07-09T14:48:49.965554Z",
     "iopub.status.idle": "2020-07-09T14:48:50.666724Z",
     "shell.execute_reply": "2020-07-09T14:48:50.667505Z"
    },
    "papermill": {
     "duration": 0.732669,
     "end_time": "2020-07-09T14:48:50.667718",
     "exception": false,
     "start_time": "2020-07-09T14:48:49.935049",
     "status": "completed"
    },
    "tags": []
   },
   "outputs": [],
   "source": [
    "from matplotlib import pyplot as plt\n",
    "%matplotlib inline\n",
    "import pandas as pd\n",
    "from openfisca_ceq.tools.survey_scenario import build_ceq_survey_scenario\n",
    "from openfisca_ceq.tools.indirect_taxation.tax_benefit_system_indirect_taxation_completion import indirect_tax_by_country\n",
    "from openfisca_ceq.tools.data import year_by_country\n",
    "from openfisca_ceq.tools.data_ceq_correspondence import (\n",
    "    ceq_input_by_harmonized_variable,\n",
    "    ceq_intermediate_by_harmonized_variable,\n",
    "    non_ceq_input_by_harmonized_variable,\n",
    "    )"
   ]
  },
  {
   "cell_type": "markdown",
   "metadata": {
    "papermill": {
     "duration": 0.025838,
     "end_time": "2020-07-09T14:48:50.730835",
     "exception": false,
     "start_time": "2020-07-09T14:48:50.704997",
     "status": "completed"
    },
    "tags": []
   },
   "source": [
    "# Build country scenario"
   ]
  },
  {
   "cell_type": "markdown",
   "metadata": {
    "papermill": {
     "duration": 0.025707,
     "end_time": "2020-07-09T14:48:50.783037",
     "exception": false,
     "start_time": "2020-07-09T14:48:50.757330",
     "status": "completed"
    },
    "tags": []
   },
   "source": [
    "## Country selection"
   ]
  },
  {
   "cell_type": "code",
   "execution_count": 3,
   "metadata": {
    "execution": {
     "iopub.execute_input": "2020-07-09T14:48:50.842021Z",
     "iopub.status.busy": "2020-07-09T14:48:50.840720Z",
     "iopub.status.idle": "2020-07-09T14:48:50.843226Z",
     "shell.execute_reply": "2020-07-09T14:48:50.843710Z"
    },
    "papermill": {
     "duration": 0.034876,
     "end_time": "2020-07-09T14:48:50.843859",
     "exception": false,
     "start_time": "2020-07-09T14:48:50.808983",
     "status": "completed"
    },
    "tags": [
     "parameters"
    ]
   },
   "outputs": [],
   "source": [
    "country = \"mali\""
   ]
  },
  {
   "cell_type": "code",
   "execution_count": 4,
   "metadata": {
    "execution": {
     "iopub.execute_input": "2020-07-09T14:48:50.901689Z",
     "iopub.status.busy": "2020-07-09T14:48:50.900734Z",
     "iopub.status.idle": "2020-07-09T14:48:50.905175Z",
     "shell.execute_reply": "2020-07-09T14:48:50.904271Z"
    },
    "papermill": {
     "duration": 0.035187,
     "end_time": "2020-07-09T14:48:50.905348",
     "exception": false,
     "start_time": "2020-07-09T14:48:50.870161",
     "status": "completed"
    },
    "tags": [
     "injected-parameters"
    ]
   },
   "outputs": [],
   "source": [
    "# Parameters\n",
    "country = \"senegal\"\n"
   ]
  },
  {
   "cell_type": "code",
   "execution_count": 5,
   "metadata": {
    "execution": {
     "iopub.execute_input": "2020-07-09T14:48:50.967687Z",
     "iopub.status.busy": "2020-07-09T14:48:50.966397Z",
     "iopub.status.idle": "2020-07-09T14:48:54.783450Z",
     "shell.execute_reply": "2020-07-09T14:48:54.784192Z"
    },
    "papermill": {
     "duration": 3.85046,
     "end_time": "2020-07-09T14:48:54.784403",
     "exception": false,
     "start_time": "2020-07-09T14:48:50.933943",
     "status": "completed"
    },
    "tags": []
   },
   "outputs": [],
   "source": [
    "year = year_by_country[country]\n",
    "survey_scenario = build_ceq_survey_scenario(legislation_country = country, year = year)"
   ]
  },
  {
   "cell_type": "markdown",
   "metadata": {
    "papermill": {
     "duration": 0.0256,
     "end_time": "2020-07-09T14:48:54.841345",
     "exception": false,
     "start_time": "2020-07-09T14:48:54.815745",
     "status": "completed"
    },
    "tags": []
   },
   "source": [
    "# Aggegates check"
   ]
  },
  {
   "cell_type": "markdown",
   "metadata": {
    "papermill": {
     "duration": 0.025687,
     "end_time": "2020-07-09T14:48:54.893353",
     "exception": false,
     "start_time": "2020-07-09T14:48:54.867666",
     "status": "completed"
    },
    "tags": []
   },
   "source": [
    "## Income variables"
   ]
  },
  {
   "cell_type": "markdown",
   "metadata": {
    "papermill": {
     "duration": 0.025746,
     "end_time": "2020-07-09T14:48:54.945314",
     "exception": false,
     "start_time": "2020-07-09T14:48:54.919568",
     "status": "completed"
    },
    "tags": []
   },
   "source": [
    "### Disagregated income variables"
   ]
  },
  {
   "cell_type": "code",
   "execution_count": 6,
   "metadata": {
    "execution": {
     "iopub.execute_input": "2020-07-09T14:48:55.012272Z",
     "iopub.status.busy": "2020-07-09T14:48:55.011279Z",
     "iopub.status.idle": "2020-07-09T14:48:55.015051Z",
     "shell.execute_reply": "2020-07-09T14:48:55.015946Z"
    },
    "papermill": {
     "duration": 0.044611,
     "end_time": "2020-07-09T14:48:55.016221",
     "exception": false,
     "start_time": "2020-07-09T14:48:54.971610",
     "status": "completed"
    },
    "tags": []
   },
   "outputs": [
    {
     "data": {
      "text/plain": [
       "{'rev_i_autoconsommation': 'autoconsumption',\n",
       " 'rev_i_autres': 'other_income',\n",
       " 'rev_i_autres_transferts': 'gifts_sales_durables',\n",
       " 'rev_i_loyers_imputes': 'imputed_rent',\n",
       " 'rev_i_transferts_publics': 'direct_transfers',\n",
       " 'rev_i_agricoles': 'revenu_agricole',\n",
       " 'rev_i_autres_revenus_capital': 'autres_revenus_du_capital',\n",
       " 'rev_i_independants_Ntaxe': 'revenu_informel_non_salarie',\n",
       " 'rev_i_independants_taxe': 'revenu_non_salarie',\n",
       " 'rev_i_locatifs': 'revenu_locatif',\n",
       " 'rev_i_pensions': 'pension_retraite',\n",
       " 'rev_i_salaires_formels': 'salaire',\n",
       " 'rev_i_salaires_informels': 'revenu_informel_salarie',\n",
       " 'autres_revenus_du_capital_brut': 'autres_revenus_du_capital_brut',\n",
       " 'pension_retraite_brut': 'pension_retraite_brut',\n",
       " 'revenu_foncier_brut': 'revenu_foncier_brut',\n",
       " 'revenu_non_salarie_brut': 'revenu_non_salarie_brut',\n",
       " 'salaire_brut': 'salaire_brut',\n",
       " 'salaire_super_brut': 'salaire_super_brut'}"
      ]
     },
     "execution_count": 6,
     "metadata": {},
     "output_type": "execute_result"
    }
   ],
   "source": [
    "ceq_by_harmonized_variable = dict()\n",
    "ceq_by_harmonized_variable.update(ceq_input_by_harmonized_variable)\n",
    "ceq_by_harmonized_variable.update(ceq_intermediate_by_harmonized_variable)\n",
    "ceq_by_harmonized_variable.update(non_ceq_input_by_harmonized_variable)\n",
    "ceq_by_harmonized_variable['autres_revenus_du_capital_brut'] = 'autres_revenus_du_capital_brut'\n",
    "ceq_by_harmonized_variable['pension_retraite_brut'] = 'pension_retraite_brut'\n",
    "ceq_by_harmonized_variable['revenu_foncier_brut'] = 'revenu_foncier_brut'\n",
    "ceq_by_harmonized_variable['revenu_non_salarie_brut'] = 'revenu_non_salarie_brut' \n",
    "ceq_by_harmonized_variable['salaire_brut'] = 'salaire_brut'\n",
    "ceq_by_harmonized_variable['salaire_super_brut'] = 'salaire_super_brut'\n",
    "ceq_by_harmonized_variable"
   ]
  },
  {
   "cell_type": "code",
   "execution_count": 7,
   "metadata": {
    "execution": {
     "iopub.execute_input": "2020-07-09T14:48:55.081067Z",
     "iopub.status.busy": "2020-07-09T14:48:55.079938Z",
     "iopub.status.idle": "2020-07-09T14:48:55.252344Z",
     "shell.execute_reply": "2020-07-09T14:48:55.252870Z"
    },
    "papermill": {
     "duration": 0.206658,
     "end_time": "2020-07-09T14:48:55.253019",
     "exception": false,
     "start_time": "2020-07-09T14:48:55.046361",
     "status": "completed"
    },
    "tags": []
   },
   "outputs": [],
   "source": [
    "data = [\n",
    "    (harmonized_variable, openfisca_variable, survey_scenario.compute_aggregate(openfisca_variable, period = year) / 1e9) \n",
    "    for harmonized_variable, openfisca_variable in ceq_by_harmonized_variable.items()\n",
    "    ]"
   ]
  },
  {
   "cell_type": "code",
   "execution_count": 8,
   "metadata": {
    "execution": {
     "iopub.execute_input": "2020-07-09T14:48:55.349450Z",
     "iopub.status.busy": "2020-07-09T14:48:55.348794Z",
     "iopub.status.idle": "2020-07-09T14:48:55.359643Z",
     "shell.execute_reply": "2020-07-09T14:48:55.360410Z"
    },
    "papermill": {
     "duration": 0.064402,
     "end_time": "2020-07-09T14:48:55.360556",
     "exception": false,
     "start_time": "2020-07-09T14:48:55.296154",
     "status": "completed"
    },
    "tags": []
   },
   "outputs": [
    {
     "data": {
      "text/html": [
       "<div>\n",
       "<style scoped>\n",
       "    .dataframe tbody tr th:only-of-type {\n",
       "        vertical-align: middle;\n",
       "    }\n",
       "\n",
       "    .dataframe tbody tr th {\n",
       "        vertical-align: top;\n",
       "    }\n",
       "\n",
       "    .dataframe thead th {\n",
       "        text-align: right;\n",
       "    }\n",
       "</style>\n",
       "<table border=\"1\" class=\"dataframe\">\n",
       "  <thead>\n",
       "    <tr style=\"text-align: right;\">\n",
       "      <th></th>\n",
       "      <th>harmonized</th>\n",
       "      <th>openfisca</th>\n",
       "      <th>aggregate</th>\n",
       "    </tr>\n",
       "  </thead>\n",
       "  <tbody>\n",
       "    <tr>\n",
       "      <th>0</th>\n",
       "      <td>rev_i_autoconsommation</td>\n",
       "      <td>autoconsumption</td>\n",
       "      <td>158</td>\n",
       "    </tr>\n",
       "    <tr>\n",
       "      <th>1</th>\n",
       "      <td>rev_i_autres</td>\n",
       "      <td>other_income</td>\n",
       "      <td>149</td>\n",
       "    </tr>\n",
       "    <tr>\n",
       "      <th>2</th>\n",
       "      <td>rev_i_autres_transferts</td>\n",
       "      <td>gifts_sales_durables</td>\n",
       "      <td>714</td>\n",
       "    </tr>\n",
       "    <tr>\n",
       "      <th>3</th>\n",
       "      <td>rev_i_loyers_imputes</td>\n",
       "      <td>imputed_rent</td>\n",
       "      <td>364</td>\n",
       "    </tr>\n",
       "    <tr>\n",
       "      <th>4</th>\n",
       "      <td>rev_i_transferts_publics</td>\n",
       "      <td>direct_transfers</td>\n",
       "      <td>24</td>\n",
       "    </tr>\n",
       "    <tr>\n",
       "      <th>5</th>\n",
       "      <td>rev_i_agricoles</td>\n",
       "      <td>revenu_agricole</td>\n",
       "      <td>1062</td>\n",
       "    </tr>\n",
       "    <tr>\n",
       "      <th>6</th>\n",
       "      <td>rev_i_autres_revenus_capital</td>\n",
       "      <td>autres_revenus_du_capital</td>\n",
       "      <td>13</td>\n",
       "    </tr>\n",
       "    <tr>\n",
       "      <th>7</th>\n",
       "      <td>rev_i_independants_Ntaxe</td>\n",
       "      <td>revenu_informel_non_salarie</td>\n",
       "      <td>866</td>\n",
       "    </tr>\n",
       "    <tr>\n",
       "      <th>8</th>\n",
       "      <td>rev_i_independants_taxe</td>\n",
       "      <td>revenu_non_salarie</td>\n",
       "      <td>263</td>\n",
       "    </tr>\n",
       "    <tr>\n",
       "      <th>9</th>\n",
       "      <td>rev_i_locatifs</td>\n",
       "      <td>revenu_locatif</td>\n",
       "      <td>54</td>\n",
       "    </tr>\n",
       "    <tr>\n",
       "      <th>10</th>\n",
       "      <td>rev_i_pensions</td>\n",
       "      <td>pension_retraite</td>\n",
       "      <td>58</td>\n",
       "    </tr>\n",
       "    <tr>\n",
       "      <th>11</th>\n",
       "      <td>rev_i_salaires_formels</td>\n",
       "      <td>salaire</td>\n",
       "      <td>618</td>\n",
       "    </tr>\n",
       "    <tr>\n",
       "      <th>12</th>\n",
       "      <td>rev_i_salaires_informels</td>\n",
       "      <td>revenu_informel_salarie</td>\n",
       "      <td>780</td>\n",
       "    </tr>\n",
       "    <tr>\n",
       "      <th>13</th>\n",
       "      <td>autres_revenus_du_capital_brut</td>\n",
       "      <td>autres_revenus_du_capital_brut</td>\n",
       "      <td>14</td>\n",
       "    </tr>\n",
       "    <tr>\n",
       "      <th>14</th>\n",
       "      <td>pension_retraite_brut</td>\n",
       "      <td>pension_retraite_brut</td>\n",
       "      <td>60</td>\n",
       "    </tr>\n",
       "    <tr>\n",
       "      <th>15</th>\n",
       "      <td>revenu_foncier_brut</td>\n",
       "      <td>revenu_foncier_brut</td>\n",
       "      <td>67</td>\n",
       "    </tr>\n",
       "    <tr>\n",
       "      <th>16</th>\n",
       "      <td>revenu_non_salarie_brut</td>\n",
       "      <td>revenu_non_salarie_brut</td>\n",
       "      <td>295</td>\n",
       "    </tr>\n",
       "    <tr>\n",
       "      <th>17</th>\n",
       "      <td>salaire_brut</td>\n",
       "      <td>salaire_brut</td>\n",
       "      <td>876</td>\n",
       "    </tr>\n",
       "    <tr>\n",
       "      <th>18</th>\n",
       "      <td>salaire_super_brut</td>\n",
       "      <td>salaire_super_brut</td>\n",
       "      <td>941</td>\n",
       "    </tr>\n",
       "  </tbody>\n",
       "</table>\n",
       "</div>"
      ],
      "text/plain": [
       "                        harmonized                       openfisca  aggregate\n",
       "0           rev_i_autoconsommation                 autoconsumption        158\n",
       "1                     rev_i_autres                    other_income        149\n",
       "2          rev_i_autres_transferts            gifts_sales_durables        714\n",
       "3             rev_i_loyers_imputes                    imputed_rent        364\n",
       "4         rev_i_transferts_publics                direct_transfers         24\n",
       "5                  rev_i_agricoles                 revenu_agricole       1062\n",
       "6     rev_i_autres_revenus_capital       autres_revenus_du_capital         13\n",
       "7         rev_i_independants_Ntaxe     revenu_informel_non_salarie        866\n",
       "8          rev_i_independants_taxe              revenu_non_salarie        263\n",
       "9                   rev_i_locatifs                  revenu_locatif         54\n",
       "10                  rev_i_pensions                pension_retraite         58\n",
       "11          rev_i_salaires_formels                         salaire        618\n",
       "12        rev_i_salaires_informels         revenu_informel_salarie        780\n",
       "13  autres_revenus_du_capital_brut  autres_revenus_du_capital_brut         14\n",
       "14           pension_retraite_brut           pension_retraite_brut         60\n",
       "15             revenu_foncier_brut             revenu_foncier_brut         67\n",
       "16         revenu_non_salarie_brut         revenu_non_salarie_brut        295\n",
       "17                    salaire_brut                    salaire_brut        876\n",
       "18              salaire_super_brut              salaire_super_brut        941"
      ]
     },
     "execution_count": 8,
     "metadata": {},
     "output_type": "execute_result"
    }
   ],
   "source": [
    "revenus = pd.DataFrame(data, columns = [\"harmonized\", \"openfisca\", \"aggregate\"])\n",
    "revenus.round(0).astype({\"aggregate\": int})"
   ]
  },
  {
   "cell_type": "markdown",
   "metadata": {
    "papermill": {
     "duration": 0.027953,
     "end_time": "2020-07-09T14:48:55.418952",
     "exception": false,
     "start_time": "2020-07-09T14:48:55.390999",
     "status": "completed"
    },
    "tags": []
   },
   "source": [
    "### Agregated income variables"
   ]
  },
  {
   "cell_type": "markdown",
   "metadata": {
    "papermill": {
     "duration": 0.028908,
     "end_time": "2020-07-09T14:48:55.475206",
     "exception": false,
     "start_time": "2020-07-09T14:48:55.446298",
     "status": "completed"
    },
    "tags": []
   },
   "source": [
    "#### CEQ agregated income variables"
   ]
  },
  {
   "cell_type": "code",
   "execution_count": 9,
   "metadata": {
    "execution": {
     "iopub.execute_input": "2020-07-09T14:48:55.533947Z",
     "iopub.status.busy": "2020-07-09T14:48:55.532974Z",
     "iopub.status.idle": "2020-07-09T14:48:55.535042Z",
     "shell.execute_reply": "2020-07-09T14:48:55.535831Z"
    },
    "papermill": {
     "duration": 0.033731,
     "end_time": "2020-07-09T14:48:55.536043",
     "exception": false,
     "start_time": "2020-07-09T14:48:55.502312",
     "status": "completed"
    },
    "tags": []
   },
   "outputs": [],
   "source": [
    "ceq_variables = [\"market_income\", \"market_income_plus_pensions\", \"pensions\", \"contributions_pensions\", \"net_market_income\", \"direct_taxes\", \"other_contributions\", \"contributions_health\", ]"
   ]
  },
  {
   "cell_type": "code",
   "execution_count": 10,
   "metadata": {
    "execution": {
     "iopub.execute_input": "2020-07-09T14:48:55.606097Z",
     "iopub.status.busy": "2020-07-09T14:48:55.605632Z",
     "iopub.status.idle": "2020-07-09T14:48:55.640207Z",
     "shell.execute_reply": "2020-07-09T14:48:55.640989Z"
    },
    "papermill": {
     "duration": 0.07201,
     "end_time": "2020-07-09T14:48:55.641145",
     "exception": false,
     "start_time": "2020-07-09T14:48:55.569135",
     "status": "completed"
    },
    "tags": []
   },
   "outputs": [
    {
     "data": {
      "text/html": [
       "<div>\n",
       "<style scoped>\n",
       "    .dataframe tbody tr th:only-of-type {\n",
       "        vertical-align: middle;\n",
       "    }\n",
       "\n",
       "    .dataframe tbody tr th {\n",
       "        vertical-align: top;\n",
       "    }\n",
       "\n",
       "    .dataframe thead th {\n",
       "        text-align: right;\n",
       "    }\n",
       "</style>\n",
       "<table border=\"1\" class=\"dataframe\">\n",
       "  <thead>\n",
       "    <tr style=\"text-align: right;\">\n",
       "      <th></th>\n",
       "      <th>aggregate</th>\n",
       "    </tr>\n",
       "  </thead>\n",
       "  <tbody>\n",
       "    <tr>\n",
       "      <th>market_income</th>\n",
       "      <td>5410</td>\n",
       "    </tr>\n",
       "    <tr>\n",
       "      <th>market_income_plus_pensions</th>\n",
       "      <td>5399</td>\n",
       "    </tr>\n",
       "    <tr>\n",
       "      <th>pensions</th>\n",
       "      <td>60</td>\n",
       "    </tr>\n",
       "    <tr>\n",
       "      <th>contributions_pensions</th>\n",
       "      <td>70</td>\n",
       "    </tr>\n",
       "    <tr>\n",
       "      <th>net_market_income</th>\n",
       "      <td>5209</td>\n",
       "    </tr>\n",
       "    <tr>\n",
       "      <th>direct_taxes</th>\n",
       "      <td>181</td>\n",
       "    </tr>\n",
       "    <tr>\n",
       "      <th>other_contributions</th>\n",
       "      <td>12</td>\n",
       "    </tr>\n",
       "    <tr>\n",
       "      <th>contributions_health</th>\n",
       "      <td>10</td>\n",
       "    </tr>\n",
       "  </tbody>\n",
       "</table>\n",
       "</div>"
      ],
      "text/plain": [
       "                             aggregate\n",
       "market_income                     5410\n",
       "market_income_plus_pensions       5399\n",
       "pensions                            60\n",
       "contributions_pensions              70\n",
       "net_market_income                 5209\n",
       "direct_taxes                       181\n",
       "other_contributions                 12\n",
       "contributions_health                10"
      ]
     },
     "execution_count": 10,
     "metadata": {},
     "output_type": "execute_result"
    }
   ],
   "source": [
    "ceq_aggregates = pd.DataFrame(\n",
    "    index = ceq_variables,\n",
    "    columns = ['aggregate'],\n",
    "    data = [\n",
    "        survey_scenario.compute_aggregate(ceq_variable, period = year) / 1e9 \n",
    "        for ceq_variable in ceq_variables\n",
    "        ]\n",
    "    )\n",
    "ceq_aggregates.round(0).astype({\"aggregate\": int})"
   ]
  },
  {
   "cell_type": "markdown",
   "metadata": {
    "papermill": {
     "duration": 0.044765,
     "end_time": "2020-07-09T14:48:55.730805",
     "exception": false,
     "start_time": "2020-07-09T14:48:55.686040",
     "status": "completed"
    },
    "tags": []
   },
   "source": [
    "#### Direct check"
   ]
  },
  {
   "cell_type": "code",
   "execution_count": 11,
   "metadata": {
    "execution": {
     "iopub.execute_input": "2020-07-09T14:48:55.822714Z",
     "iopub.status.busy": "2020-07-09T14:48:55.821396Z",
     "iopub.status.idle": "2020-07-09T14:48:55.825516Z",
     "shell.execute_reply": "2020-07-09T14:48:55.826466Z"
    },
    "papermill": {
     "duration": 0.051163,
     "end_time": "2020-07-09T14:48:55.826726",
     "exception": false,
     "start_time": "2020-07-09T14:48:55.775563",
     "status": "completed"
    },
    "tags": []
   },
   "outputs": [],
   "source": [
    "income_components_summed_in_total = list(ceq_by_harmonized_variable.values()) \n",
    "# income_components_summed_in_total.remove(\"revenu_non_salarie_total\")\n",
    "income_components_summed_in_total.remove(\"direct_transfers\")\n",
    "income_components_summed_in_total.remove(\"salaire\")\n",
    "income_components_summed_in_total.remove(\"salaire_brut\")\n",
    "income_components_summed_in_total.remove(\"pension_retraite\")\n",
    "income_components_summed_in_total.remove('autres_revenus_du_capital')\n",
    "income_components_summed_in_total.remove('revenu_locatif')\n",
    "income_components_summed_in_total.remove('revenu_non_salarie') \n",
    "\n",
    "total_income = sum(\n",
    "    survey_scenario.compute_aggregate(income_component, period = survey_scenario.year) \n",
    "    for income_component in income_components_summed_in_total\n",
    "    ) \n",
    "total_income = (\n",
    "    total_income \n",
    "    - survey_scenario.compute_aggregate(\"contributions_pensions\", period = survey_scenario.year)\n",
    "    ) / 1e9\n"
   ]
  },
  {
   "cell_type": "code",
   "execution_count": 12,
   "metadata": {
    "execution": {
     "iopub.execute_input": "2020-07-09T14:48:55.901957Z",
     "iopub.status.busy": "2020-07-09T14:48:55.901431Z",
     "iopub.status.idle": "2020-07-09T14:48:55.904601Z",
     "shell.execute_reply": "2020-07-09T14:48:55.905436Z"
    },
    "papermill": {
     "duration": 0.04169,
     "end_time": "2020-07-09T14:48:55.905657",
     "exception": false,
     "start_time": "2020-07-09T14:48:55.863967",
     "status": "completed"
    },
    "tags": []
   },
   "outputs": [],
   "source": [
    "from numpy.testing import assert_almost_equal\n",
    "assert_almost_equal(ceq_aggregates.loc['market_income_plus_pensions'].values, total_income, decimal = 5) \n",
    "# print('market_income_plus_pensions = {} vs {} = total_income'.format(\n",
    "#         ceq_aggregates.loc['market_income_plus_pensions'].values,\n",
    "#         total_income\n",
    "#         )\n",
    "#     )\n"
   ]
  },
  {
   "cell_type": "markdown",
   "metadata": {
    "papermill": {
     "duration": 0.030808,
     "end_time": "2020-07-09T14:48:55.971441",
     "exception": false,
     "start_time": "2020-07-09T14:48:55.940633",
     "status": "completed"
    },
    "tags": []
   },
   "source": [
    "#### Wages by public/private sector"
   ]
  },
  {
   "cell_type": "code",
   "execution_count": 13,
   "metadata": {
    "execution": {
     "iopub.execute_input": "2020-07-09T14:48:56.037288Z",
     "iopub.status.busy": "2020-07-09T14:48:56.036756Z",
     "iopub.status.idle": "2020-07-09T14:48:56.043048Z",
     "shell.execute_reply": "2020-07-09T14:48:56.042098Z"
    },
    "papermill": {
     "duration": 0.042123,
     "end_time": "2020-07-09T14:48:56.043220",
     "exception": false,
     "start_time": "2020-07-09T14:48:56.001097",
     "status": "completed"
    },
    "tags": []
   },
   "outputs": [
    {
     "data": {
      "text/plain": [
       "'Count : 84224.0'"
      ]
     },
     "execution_count": 13,
     "metadata": {},
     "output_type": "execute_result"
    }
   ],
   "source": [
    "\"Count : {}\".format(round(\n",
    "    survey_scenario.compute_aggregate(\"secteur_public\", period = year)\n",
    "    ))"
   ]
  },
  {
   "cell_type": "code",
   "execution_count": 14,
   "metadata": {
    "execution": {
     "iopub.execute_input": "2020-07-09T14:48:56.116259Z",
     "iopub.status.busy": "2020-07-09T14:48:56.115756Z",
     "iopub.status.idle": "2020-07-09T14:48:56.182240Z",
     "shell.execute_reply": "2020-07-09T14:48:56.182569Z"
    },
    "papermill": {
     "duration": 0.104159,
     "end_time": "2020-07-09T14:48:56.182676",
     "exception": false,
     "start_time": "2020-07-09T14:48:56.078517",
     "status": "completed"
    },
    "tags": []
   },
   "outputs": [
    {
     "data": {
      "text/html": [
       "<div>\n",
       "<style scoped>\n",
       "    .dataframe tbody tr th:only-of-type {\n",
       "        vertical-align: middle;\n",
       "    }\n",
       "\n",
       "    .dataframe tbody tr th {\n",
       "        vertical-align: top;\n",
       "    }\n",
       "\n",
       "    .dataframe thead th {\n",
       "        text-align: right;\n",
       "    }\n",
       "</style>\n",
       "<table border=\"1\" class=\"dataframe\">\n",
       "  <thead>\n",
       "    <tr style=\"text-align: right;\">\n",
       "      <th>secteur_public</th>\n",
       "      <th>False</th>\n",
       "      <th>True</th>\n",
       "    </tr>\n",
       "  </thead>\n",
       "  <tbody>\n",
       "    <tr>\n",
       "      <th>salaire</th>\n",
       "      <td>333</td>\n",
       "      <td>285</td>\n",
       "    </tr>\n",
       "    <tr>\n",
       "      <th>salaire_brut</th>\n",
       "      <td>464</td>\n",
       "      <td>412</td>\n",
       "    </tr>\n",
       "    <tr>\n",
       "      <th>salaire_super_brut</th>\n",
       "      <td>500</td>\n",
       "      <td>441</td>\n",
       "    </tr>\n",
       "  </tbody>\n",
       "</table>\n",
       "</div>"
      ],
      "text/plain": [
       "secteur_public      False  True \n",
       "salaire               333    285\n",
       "salaire_brut          464    412\n",
       "salaire_super_brut    500    441"
      ]
     },
     "execution_count": 14,
     "metadata": {},
     "output_type": "execute_result"
    }
   ],
   "source": [
    "(\n",
    "    survey_scenario.compute_pivot_table(\n",
    "        columns = [\"secteur_public\"], \n",
    "        values = [\"salaire\", \"salaire_brut\", \"salaire_super_brut\"],\n",
    "        aggfunc = \"sum\",\n",
    "        period = year,\n",
    "        concat_axis = 0,\n",
    "        ) / 1e9\n",
    "    ).round(0).astype(int)"
   ]
  },
  {
   "cell_type": "markdown",
   "metadata": {
    "papermill": {
     "duration": 0.03666,
     "end_time": "2020-07-09T14:48:56.247619",
     "exception": false,
     "start_time": "2020-07-09T14:48:56.210959",
     "status": "completed"
    },
    "tags": []
   },
   "source": [
    "## Education variables"
   ]
  },
  {
   "cell_type": "markdown",
   "metadata": {
    "papermill": {
     "duration": 0.0288,
     "end_time": "2020-07-09T14:48:56.306807",
     "exception": false,
     "start_time": "2020-07-09T14:48:56.278007",
     "status": "completed"
    },
    "tags": []
   },
   "source": [
    "### Counts (in millions)"
   ]
  },
  {
   "cell_type": "code",
   "execution_count": 15,
   "metadata": {
    "execution": {
     "iopub.execute_input": "2020-07-09T14:48:56.372294Z",
     "iopub.status.busy": "2020-07-09T14:48:56.371497Z",
     "iopub.status.idle": "2020-07-09T14:48:56.406163Z",
     "shell.execute_reply": "2020-07-09T14:48:56.406979Z"
    },
    "papermill": {
     "duration": 0.072041,
     "end_time": "2020-07-09T14:48:56.407204",
     "exception": false,
     "start_time": "2020-07-09T14:48:56.335163",
     "status": "completed"
    },
    "tags": []
   },
   "outputs": [
    {
     "name": "stdout",
     "output_type": "stream",
     "text": [
      "eleve_enseignement_niveau   -1.0   0.0   1.0   2.0   3.0\n",
      "eleve_enseignement_public                               \n",
      "0.0                        10.61  0.11  0.33  0.18  0.05\n",
      "1.0                         0.01  0.04  1.43  0.84  0.05\n"
     ]
    }
   ],
   "source": [
    "print((survey_scenario.compute_pivot_table(columns = ['eleve_enseignement_niveau'], index = ['eleve_enseignement_public'], aggfunc = 'count', period = survey_scenario.year) / 1e6).round(2))"
   ]
  },
  {
   "cell_type": "code",
   "execution_count": 16,
   "metadata": {
    "execution": {
     "iopub.execute_input": "2020-07-09T14:48:56.484539Z",
     "iopub.status.busy": "2020-07-09T14:48:56.482439Z",
     "iopub.status.idle": "2020-07-09T14:48:56.499330Z",
     "shell.execute_reply": "2020-07-09T14:48:56.500156Z"
    },
    "papermill": {
     "duration": 0.055034,
     "end_time": "2020-07-09T14:48:56.500382",
     "exception": false,
     "start_time": "2020-07-09T14:48:56.445348",
     "status": "completed"
    },
    "tags": []
   },
   "outputs": [
    {
     "name": "stdout",
     "output_type": "stream",
     "text": [
      "In kind education tranfers\n",
      "pre_school_person: 1 billions FCFA\n",
      "pre_school: 1 billions FCFA\n",
      "primary_education_person: 190 billions FCFA\n",
      "primary_education: 190 billions FCFA\n",
      "secondary_education_person: 141 billions FCFA\n",
      "secondary_education: 141 billions FCFA\n",
      "tertiary_education_person: 104 billions FCFA\n",
      "tertiary_education: 104 billions FCFA\n",
      "education_net_transfers: 436 billions FCFA\n"
     ]
    }
   ],
   "source": [
    "variables = [\n",
    "    'pre_school_person',\n",
    "    'pre_school',\n",
    "    'primary_education_person',\n",
    "    'primary_education',\n",
    "    'secondary_education_person',\n",
    "    'secondary_education',\n",
    "    'tertiary_education_person',\n",
    "    'tertiary_education',\n",
    "    'education_net_transfers',\n",
    "    ]\n",
    "print(\"In kind education tranfers\")\n",
    "for variable in variables:\n",
    "    print(\n",
    "        \"{variable}: {aggregate} billions FCFA\".format(\n",
    "            variable = variable,\n",
    "            aggregate = int(round(survey_scenario.compute_aggregate(variable, period = survey_scenario.year) / 1e9))\n",
    "            )\n",
    "        )"
   ]
  },
  {
   "cell_type": "markdown",
   "metadata": {
    "papermill": {
     "duration": 0.028904,
     "end_time": "2020-07-09T14:48:56.564998",
     "exception": false,
     "start_time": "2020-07-09T14:48:56.536094",
     "status": "completed"
    },
    "tags": []
   },
   "source": [
    "## Inflating income and consumption"
   ]
  },
  {
   "cell_type": "code",
   "execution_count": 17,
   "metadata": {
    "execution": {
     "iopub.execute_input": "2020-07-09T14:48:56.630893Z",
     "iopub.status.busy": "2020-07-09T14:48:56.629800Z",
     "iopub.status.idle": "2020-07-09T14:49:00.822429Z",
     "shell.execute_reply": "2020-07-09T14:49:00.822963Z"
    },
    "papermill": {
     "duration": 4.228157,
     "end_time": "2020-07-09T14:49:00.823111",
     "exception": false,
     "start_time": "2020-07-09T14:48:56.594954",
     "status": "completed"
    },
    "tags": []
   },
   "outputs": [
    {
     "name": "stderr",
     "output_type": "stream",
     "text": [
      "/home/benjello/.virtualenvs/ceq/lib/python3.7/site-packages/scipy/optimize/minpack.py:175: RuntimeWarning: The iteration is not making good progress, as measured by the \n",
      "  improvement from the last ten iterations.\n",
      "  warnings.warn(msg, RuntimeWarning)\n"
     ]
    }
   ],
   "source": [
    "inflated_survey_scenario = build_ceq_survey_scenario(\n",
    "    legislation_country = country, \n",
    "    year = year,\n",
    "    inflate = True,\n",
    "    )"
   ]
  },
  {
   "cell_type": "code",
   "execution_count": 18,
   "metadata": {
    "execution": {
     "iopub.execute_input": "2020-07-09T14:49:00.917990Z",
     "iopub.status.busy": "2020-07-09T14:49:00.916867Z",
     "iopub.status.idle": "2020-07-09T14:49:00.921021Z",
     "shell.execute_reply": "2020-07-09T14:49:00.921778Z"
    },
    "papermill": {
     "duration": 0.05122,
     "end_time": "2020-07-09T14:49:00.921999",
     "exception": false,
     "start_time": "2020-07-09T14:49:00.870779",
     "status": "completed"
    },
    "tags": []
   },
   "outputs": [
    {
     "name": "stderr",
     "output_type": "stream",
     "text": [
      "ERROR:root:No traceback has been produced, nothing to debug.\n"
     ]
    }
   ],
   "source": [
    "%debug"
   ]
  },
  {
   "cell_type": "code",
   "execution_count": 19,
   "metadata": {
    "execution": {
     "iopub.execute_input": "2020-07-09T14:49:01.007061Z",
     "iopub.status.busy": "2020-07-09T14:49:01.006335Z",
     "iopub.status.idle": "2020-07-09T14:49:01.074452Z",
     "shell.execute_reply": "2020-07-09T14:49:01.074835Z"
    },
    "papermill": {
     "duration": 0.107189,
     "end_time": "2020-07-09T14:49:01.074954",
     "exception": false,
     "start_time": "2020-07-09T14:49:00.967765",
     "status": "completed"
    },
    "tags": []
   },
   "outputs": [
    {
     "data": {
      "text/plain": [
       "'7595.151 == 7595.150917186541'"
      ]
     },
     "metadata": {},
     "output_type": "display_data"
    }
   ],
   "source": [
    "from openfisca_ceq.tools.data.income_targets import read_target\n",
    "gross_value_added = read_target(country, \"gross_value_added\") / 1e9\n",
    "gross_value_added_computed = sum(inflated_survey_scenario.compute_aggregate(income_variable, period = year) / 1e9\n",
    "    for income_variable in inflated_survey_scenario.income_variables\n",
    "    )\n",
    "display(\"{} == {}\".format(gross_value_added, gross_value_added_computed))"
   ]
  },
  {
   "cell_type": "markdown",
   "metadata": {
    "papermill": {
     "duration": 0.035597,
     "end_time": "2020-07-09T14:49:01.169834",
     "exception": false,
     "start_time": "2020-07-09T14:49:01.134237",
     "status": "completed"
    },
    "tags": []
   },
   "source": [
    "## Tax variables"
   ]
  },
  {
   "cell_type": "markdown",
   "metadata": {
    "papermill": {
     "duration": 0.037186,
     "end_time": "2020-07-09T14:49:01.241729",
     "exception": false,
     "start_time": "2020-07-09T14:49:01.204543",
     "status": "completed"
    },
    "tags": []
   },
   "source": [
    "### Direct taxes variables"
   ]
  },
  {
   "cell_type": "code",
   "execution_count": 20,
   "metadata": {
    "execution": {
     "iopub.execute_input": "2020-07-09T14:49:01.322670Z",
     "iopub.status.busy": "2020-07-09T14:49:01.320215Z",
     "iopub.status.idle": "2020-07-09T14:49:01.453483Z",
     "shell.execute_reply": "2020-07-09T14:49:01.453987Z"
    },
    "papermill": {
     "duration": 0.176946,
     "end_time": "2020-07-09T14:49:01.454132",
     "exception": false,
     "start_time": "2020-07-09T14:49:01.277186",
     "status": "completed"
    },
    "tags": []
   },
   "outputs": [
    {
     "data": {
      "text/html": [
       "<div>\n",
       "<style scoped>\n",
       "    .dataframe tbody tr th:only-of-type {\n",
       "        vertical-align: middle;\n",
       "    }\n",
       "\n",
       "    .dataframe tbody tr th {\n",
       "        vertical-align: top;\n",
       "    }\n",
       "\n",
       "    .dataframe thead th {\n",
       "        text-align: right;\n",
       "    }\n",
       "</style>\n",
       "<table border=\"1\" class=\"dataframe\">\n",
       "  <thead>\n",
       "    <tr style=\"text-align: right;\">\n",
       "      <th></th>\n",
       "      <th>aggregate</th>\n",
       "      <th>inflated_aggregate</th>\n",
       "    </tr>\n",
       "  </thead>\n",
       "  <tbody>\n",
       "    <tr>\n",
       "      <th>contribution_globale_fonciere</th>\n",
       "      <td>0</td>\n",
       "      <td>0.0</td>\n",
       "    </tr>\n",
       "    <tr>\n",
       "      <th>contribution_globale_unique</th>\n",
       "      <td>35</td>\n",
       "      <td>49.0</td>\n",
       "    </tr>\n",
       "    <tr>\n",
       "      <th>droit_progressif_pension_retraite</th>\n",
       "      <td>2</td>\n",
       "      <td>3.0</td>\n",
       "    </tr>\n",
       "    <tr>\n",
       "      <th>droit_progressif_salaire</th>\n",
       "      <td>100</td>\n",
       "      <td>176.0</td>\n",
       "    </tr>\n",
       "    <tr>\n",
       "      <th>droit_progressif</th>\n",
       "      <td>102</td>\n",
       "      <td>179.0</td>\n",
       "    </tr>\n",
       "    <tr>\n",
       "      <th>droit_proportionnel_autres_revenus</th>\n",
       "      <td>15</td>\n",
       "      <td>20.0</td>\n",
       "    </tr>\n",
       "    <tr>\n",
       "      <th>droit_proportionnel_salaire</th>\n",
       "      <td>64</td>\n",
       "      <td>99.0</td>\n",
       "    </tr>\n",
       "    <tr>\n",
       "      <th>droit_proportionnel</th>\n",
       "      <td>79</td>\n",
       "      <td>119.0</td>\n",
       "    </tr>\n",
       "    <tr>\n",
       "      <th>impot_revenus</th>\n",
       "      <td>181</td>\n",
       "      <td>298.0</td>\n",
       "    </tr>\n",
       "  </tbody>\n",
       "</table>\n",
       "</div>"
      ],
      "text/plain": [
       "                                    aggregate  inflated_aggregate\n",
       "contribution_globale_fonciere               0                 0.0\n",
       "contribution_globale_unique                35                49.0\n",
       "droit_progressif_pension_retraite           2                 3.0\n",
       "droit_progressif_salaire                  100               176.0\n",
       "droit_progressif                          102               179.0\n",
       "droit_proportionnel_autres_revenus         15                20.0\n",
       "droit_proportionnel_salaire                64                99.0\n",
       "droit_proportionnel                        79               119.0\n",
       "impot_revenus                             181               298.0"
      ]
     },
     "execution_count": 20,
     "metadata": {},
     "output_type": "execute_result"
    }
   ],
   "source": [
    "from openfisca_ceq.tools.data.tax_targets import detailed_taxes_by_country, build_country_result\n",
    "direct_taxes_variables = detailed_taxes_by_country[country]\n",
    "\n",
    "direct_taxes = pd.concat(\n",
    "    [\n",
    "        pd.DataFrame(\n",
    "            index = direct_taxes_variables,\n",
    "            columns = ['aggregate'],\n",
    "            data = [\n",
    "                survey_scenario.compute_aggregate(variable, period = year) / 1e9 \n",
    "                for variable in direct_taxes_variables\n",
    "                ],\n",
    "            ),\n",
    "        pd.DataFrame(\n",
    "            index = direct_taxes_variables,\n",
    "            columns = ['inflated_aggregate'],\n",
    "            data = [\n",
    "                    inflated_survey_scenario.compute_aggregate(variable, period = year) / 1e9 \n",
    "                for variable in direct_taxes_variables\n",
    "                ],\n",
    "            )\n",
    "        ],\n",
    "    axis = 1\n",
    ")\n",
    "\n",
    "direct_taxes.round().astype({\"aggregate\": int})"
   ]
  },
  {
   "cell_type": "code",
   "execution_count": 21,
   "metadata": {
    "execution": {
     "iopub.execute_input": "2020-07-09T14:49:01.557475Z",
     "iopub.status.busy": "2020-07-09T14:49:01.556908Z",
     "iopub.status.idle": "2020-07-09T14:49:01.672209Z",
     "shell.execute_reply": "2020-07-09T14:49:01.673113Z"
    },
    "papermill": {
     "duration": 0.170284,
     "end_time": "2020-07-09T14:49:01.673376",
     "exception": false,
     "start_time": "2020-07-09T14:49:01.503092",
     "status": "completed"
    },
    "tags": []
   },
   "outputs": [
    {
     "data": {
      "text/html": [
       "<div>\n",
       "<style scoped>\n",
       "    .dataframe tbody tr th:only-of-type {\n",
       "        vertical-align: middle;\n",
       "    }\n",
       "\n",
       "    .dataframe tbody tr th {\n",
       "        vertical-align: top;\n",
       "    }\n",
       "\n",
       "    .dataframe thead tr th {\n",
       "        text-align: left;\n",
       "    }\n",
       "</style>\n",
       "<table border=\"1\" class=\"dataframe\">\n",
       "  <thead>\n",
       "    <tr>\n",
       "      <th></th>\n",
       "      <th colspan=\"3\" halign=\"left\">Senegal</th>\n",
       "    </tr>\n",
       "    <tr>\n",
       "      <th></th>\n",
       "      <th>actual</th>\n",
       "      <th>direct</th>\n",
       "      <th>inflated</th>\n",
       "    </tr>\n",
       "  </thead>\n",
       "  <tbody>\n",
       "    <tr>\n",
       "      <th>Total tax revenue</th>\n",
       "      <td>1430.0</td>\n",
       "      <td>NaN</td>\n",
       "      <td>NaN</td>\n",
       "    </tr>\n",
       "    <tr>\n",
       "      <th>Direct taxes</th>\n",
       "      <td>494.5</td>\n",
       "      <td>180.6</td>\n",
       "      <td>297.5</td>\n",
       "    </tr>\n",
       "    <tr>\n",
       "      <th>Personal Income Taxes</th>\n",
       "      <td>238.1</td>\n",
       "      <td>180.6</td>\n",
       "      <td>297.5</td>\n",
       "    </tr>\n",
       "    <tr>\n",
       "      <th>Social Security Contributions</th>\n",
       "      <td>95.4</td>\n",
       "      <td>NaN</td>\n",
       "      <td>NaN</td>\n",
       "    </tr>\n",
       "    <tr>\n",
       "      <th>Corporate Income Tax</th>\n",
       "      <td>113.9</td>\n",
       "      <td>0.0</td>\n",
       "      <td>0.0</td>\n",
       "    </tr>\n",
       "    <tr>\n",
       "      <th>Other Direct Taxes</th>\n",
       "      <td>47.1</td>\n",
       "      <td>NaN</td>\n",
       "      <td>NaN</td>\n",
       "    </tr>\n",
       "    <tr>\n",
       "      <th>Indirect taxes</th>\n",
       "      <td>935.5</td>\n",
       "      <td>415.0</td>\n",
       "      <td>803.3</td>\n",
       "    </tr>\n",
       "    <tr>\n",
       "      <th>VAT</th>\n",
       "      <td>519.1</td>\n",
       "      <td>342.2</td>\n",
       "      <td>662.3</td>\n",
       "    </tr>\n",
       "    <tr>\n",
       "      <th>Import Taxes</th>\n",
       "      <td>195.2</td>\n",
       "      <td>72.8</td>\n",
       "      <td>140.9</td>\n",
       "    </tr>\n",
       "    <tr>\n",
       "      <th>Excise taxes</th>\n",
       "      <td>79.8</td>\n",
       "      <td>0.0</td>\n",
       "      <td>0.0</td>\n",
       "    </tr>\n",
       "    <tr>\n",
       "      <th>on Oil Derivates</th>\n",
       "      <td>53.8</td>\n",
       "      <td>NaN</td>\n",
       "      <td>NaN</td>\n",
       "    </tr>\n",
       "    <tr>\n",
       "      <th>on alcohol, tabac and other non-oil derivatives</th>\n",
       "      <td>26.0</td>\n",
       "      <td>NaN</td>\n",
       "      <td>NaN</td>\n",
       "    </tr>\n",
       "    <tr>\n",
       "      <th>Other Indirect Taxes</th>\n",
       "      <td>141.4</td>\n",
       "      <td>NaN</td>\n",
       "      <td>NaN</td>\n",
       "    </tr>\n",
       "    <tr>\n",
       "      <th>Share simulated taxes (% of total tax revenue)</th>\n",
       "      <td>NaN</td>\n",
       "      <td>NaN</td>\n",
       "      <td>NaN</td>\n",
       "    </tr>\n",
       "    <tr>\n",
       "      <th>contribution_globale_fonciere</th>\n",
       "      <td>NaN</td>\n",
       "      <td>0.0</td>\n",
       "      <td>0.0</td>\n",
       "    </tr>\n",
       "    <tr>\n",
       "      <th>contribution_globale_unique</th>\n",
       "      <td>NaN</td>\n",
       "      <td>34.6</td>\n",
       "      <td>49.2</td>\n",
       "    </tr>\n",
       "    <tr>\n",
       "      <th>droit_progressif_pension_retraite</th>\n",
       "      <td>NaN</td>\n",
       "      <td>1.5</td>\n",
       "      <td>2.6</td>\n",
       "    </tr>\n",
       "    <tr>\n",
       "      <th>droit_progressif_salaire</th>\n",
       "      <td>NaN</td>\n",
       "      <td>100.2</td>\n",
       "      <td>176.0</td>\n",
       "    </tr>\n",
       "    <tr>\n",
       "      <th>droit_progressif</th>\n",
       "      <td>NaN</td>\n",
       "      <td>101.7</td>\n",
       "      <td>178.7</td>\n",
       "    </tr>\n",
       "    <tr>\n",
       "      <th>droit_proportionnel_autres_revenus</th>\n",
       "      <td>NaN</td>\n",
       "      <td>14.5</td>\n",
       "      <td>20.2</td>\n",
       "    </tr>\n",
       "    <tr>\n",
       "      <th>droit_proportionnel_salaire</th>\n",
       "      <td>NaN</td>\n",
       "      <td>64.3</td>\n",
       "      <td>98.7</td>\n",
       "    </tr>\n",
       "    <tr>\n",
       "      <th>droit_proportionnel</th>\n",
       "      <td>NaN</td>\n",
       "      <td>78.9</td>\n",
       "      <td>118.8</td>\n",
       "    </tr>\n",
       "    <tr>\n",
       "      <th>impot_revenus</th>\n",
       "      <td>NaN</td>\n",
       "      <td>180.6</td>\n",
       "      <td>297.5</td>\n",
       "    </tr>\n",
       "    <tr>\n",
       "      <th>total_ht_imports</th>\n",
       "      <td>NaN</td>\n",
       "      <td>717.4</td>\n",
       "      <td>1388.7</td>\n",
       "    </tr>\n",
       "  </tbody>\n",
       "</table>\n",
       "</div>"
      ],
      "text/plain": [
       "                                                Senegal                \n",
       "                                                 actual direct inflated\n",
       "Total tax revenue                                1430.0    NaN      NaN\n",
       "Direct taxes                                      494.5  180.6    297.5\n",
       "Personal Income Taxes                             238.1  180.6    297.5\n",
       "Social Security Contributions                      95.4    NaN      NaN\n",
       "Corporate Income Tax                              113.9    0.0      0.0\n",
       "Other Direct Taxes                                 47.1    NaN      NaN\n",
       "Indirect taxes                                    935.5  415.0    803.3\n",
       "VAT                                               519.1  342.2    662.3\n",
       "Import Taxes                                      195.2   72.8    140.9\n",
       "Excise taxes                                       79.8    0.0      0.0\n",
       "on Oil Derivates                                   53.8    NaN      NaN\n",
       "on alcohol, tabac and other non-oil derivatives    26.0    NaN      NaN\n",
       "Other Indirect Taxes                              141.4    NaN      NaN\n",
       "Share simulated taxes (% of total tax revenue)      NaN    NaN      NaN\n",
       "contribution_globale_fonciere                       NaN    0.0      0.0\n",
       "contribution_globale_unique                         NaN   34.6     49.2\n",
       "droit_progressif_pension_retraite                   NaN    1.5      2.6\n",
       "droit_progressif_salaire                            NaN  100.2    176.0\n",
       "droit_progressif                                    NaN  101.7    178.7\n",
       "droit_proportionnel_autres_revenus                  NaN   14.5     20.2\n",
       "droit_proportionnel_salaire                         NaN   64.3     98.7\n",
       "droit_proportionnel                                 NaN   78.9    118.8\n",
       "impot_revenus                                       NaN  180.6    297.5\n",
       "total_ht_imports                                    NaN  717.4   1388.7"
      ]
     },
     "execution_count": 21,
     "metadata": {},
     "output_type": "execute_result"
    }
   ],
   "source": [
    "build_country_result(survey_scenario, inflated_survey_scenario, add_country_details = True)"
   ]
  },
  {
   "cell_type": "markdown",
   "metadata": {
    "papermill": {
     "duration": 0.03151,
     "end_time": "2020-07-09T14:49:01.744695",
     "exception": false,
     "start_time": "2020-07-09T14:49:01.713185",
     "status": "completed"
    },
    "tags": []
   },
   "source": [
    "### Indirect tax variables"
   ]
  },
  {
   "cell_type": "code",
   "execution_count": 22,
   "metadata": {
    "execution": {
     "iopub.execute_input": "2020-07-09T14:49:01.817893Z",
     "iopub.status.busy": "2020-07-09T14:49:01.816924Z",
     "iopub.status.idle": "2020-07-09T14:49:01.821283Z",
     "shell.execute_reply": "2020-07-09T14:49:01.820425Z"
    },
    "papermill": {
     "duration": 0.044308,
     "end_time": "2020-07-09T14:49:01.821456",
     "exception": false,
     "start_time": "2020-07-09T14:49:01.777148",
     "status": "completed"
    },
    "tags": []
   },
   "outputs": [
    {
     "data": {
      "text/plain": [
       "['depenses_ht_tva_exonere',\n",
       " 'depenses_ht_tva_taux_normal',\n",
       " 'depenses_ht_tva_taux_reduit',\n",
       " 'tva_taux_normal',\n",
       " 'tva_taux_reduit',\n",
       " 'tva',\n",
       " 'depenses_ht_hd_sd_droits_douane_consommation_finale',\n",
       " 'depenses_ht_hd_sd_droits_douane_consommation_intermediaire',\n",
       " 'depenses_ht_hd_sd_droits_douane_equipements',\n",
       " 'depenses_ht_hd_sd_droits_douane_exonere',\n",
       " 'droits_douane_consommation_finale',\n",
       " 'droits_douane_consommation_intermediaire',\n",
       " 'droits_douane_equipements',\n",
       " 'droits_douane']"
      ]
     },
     "execution_count": 22,
     "metadata": {},
     "output_type": "execute_result"
    }
   ],
   "source": [
    "indirect_tax_variables = [\n",
    "    variable \n",
    "    for tax in indirect_tax_by_country[country]\n",
    "    for variable in survey_scenario.tax_benefit_system.variables.keys() \n",
    "    if tax in variable \n",
    "    ]\n",
    "indirect_tax_variables"
   ]
  },
  {
   "cell_type": "code",
   "execution_count": 23,
   "metadata": {
    "execution": {
     "iopub.execute_input": "2020-07-09T14:49:01.898631Z",
     "iopub.status.busy": "2020-07-09T14:49:01.897708Z",
     "iopub.status.idle": "2020-07-09T14:49:01.917590Z",
     "shell.execute_reply": "2020-07-09T14:49:01.918436Z"
    },
    "papermill": {
     "duration": 0.062608,
     "end_time": "2020-07-09T14:49:01.918673",
     "exception": false,
     "start_time": "2020-07-09T14:49:01.856065",
     "status": "completed"
    },
    "tags": []
   },
   "outputs": [
    {
     "data": {
      "text/html": [
       "<div>\n",
       "<style scoped>\n",
       "    .dataframe tbody tr th:only-of-type {\n",
       "        vertical-align: middle;\n",
       "    }\n",
       "\n",
       "    .dataframe tbody tr th {\n",
       "        vertical-align: top;\n",
       "    }\n",
       "\n",
       "    .dataframe thead th {\n",
       "        text-align: right;\n",
       "    }\n",
       "</style>\n",
       "<table border=\"1\" class=\"dataframe\">\n",
       "  <thead>\n",
       "    <tr style=\"text-align: right;\">\n",
       "      <th></th>\n",
       "      <th>aggregate</th>\n",
       "    </tr>\n",
       "  </thead>\n",
       "  <tbody>\n",
       "    <tr>\n",
       "      <th>depenses_ht_tva_exonere</th>\n",
       "      <td>1158</td>\n",
       "    </tr>\n",
       "    <tr>\n",
       "      <th>depenses_ht_tva_taux_normal</th>\n",
       "      <td>1877</td>\n",
       "    </tr>\n",
       "    <tr>\n",
       "      <th>depenses_ht_tva_taux_reduit</th>\n",
       "      <td>43</td>\n",
       "    </tr>\n",
       "    <tr>\n",
       "      <th>tva_taux_normal</th>\n",
       "      <td>338</td>\n",
       "    </tr>\n",
       "    <tr>\n",
       "      <th>tva_taux_reduit</th>\n",
       "      <td>4</td>\n",
       "    </tr>\n",
       "    <tr>\n",
       "      <th>tva</th>\n",
       "      <td>342</td>\n",
       "    </tr>\n",
       "    <tr>\n",
       "      <th>depenses_ht_hd_sd_droits_douane_consommation_finale</th>\n",
       "      <td>263</td>\n",
       "    </tr>\n",
       "    <tr>\n",
       "      <th>depenses_ht_hd_sd_droits_douane_consommation_intermediaire</th>\n",
       "      <td>83</td>\n",
       "    </tr>\n",
       "    <tr>\n",
       "      <th>depenses_ht_hd_sd_droits_douane_equipements</th>\n",
       "      <td>238</td>\n",
       "    </tr>\n",
       "    <tr>\n",
       "      <th>depenses_ht_hd_sd_droits_douane_exonere</th>\n",
       "      <td>60</td>\n",
       "    </tr>\n",
       "    <tr>\n",
       "      <th>droits_douane_consommation_finale</th>\n",
       "      <td>53</td>\n",
       "    </tr>\n",
       "    <tr>\n",
       "      <th>droits_douane_consommation_intermediaire</th>\n",
       "      <td>8</td>\n",
       "    </tr>\n",
       "    <tr>\n",
       "      <th>droits_douane_equipements</th>\n",
       "      <td>12</td>\n",
       "    </tr>\n",
       "    <tr>\n",
       "      <th>droits_douane</th>\n",
       "      <td>73</td>\n",
       "    </tr>\n",
       "  </tbody>\n",
       "</table>\n",
       "</div>"
      ],
      "text/plain": [
       "                                                    aggregate\n",
       "depenses_ht_tva_exonere                                  1158\n",
       "depenses_ht_tva_taux_normal                              1877\n",
       "depenses_ht_tva_taux_reduit                                43\n",
       "tva_taux_normal                                           338\n",
       "tva_taux_reduit                                             4\n",
       "tva                                                       342\n",
       "depenses_ht_hd_sd_droits_douane_consommation_fi...        263\n",
       "depenses_ht_hd_sd_droits_douane_consommation_in...         83\n",
       "depenses_ht_hd_sd_droits_douane_equipements               238\n",
       "depenses_ht_hd_sd_droits_douane_exonere                    60\n",
       "droits_douane_consommation_finale                          53\n",
       "droits_douane_consommation_intermediaire                    8\n",
       "droits_douane_equipements                                  12\n",
       "droits_douane                                              73"
      ]
     },
     "execution_count": 23,
     "metadata": {},
     "output_type": "execute_result"
    }
   ],
   "source": [
    "taxes_and_tariffs = pd.DataFrame(\n",
    "    index = indirect_tax_variables,\n",
    "    columns = ['aggregate'],\n",
    "    data = [\n",
    "        survey_scenario.compute_aggregate(variable, period = year) / 1e9 \n",
    "        for variable in indirect_tax_variables\n",
    "        ]\n",
    "    )\n",
    "taxes_and_tariffs.round().astype({\"aggregate\": int})"
   ]
  },
  {
   "cell_type": "markdown",
   "metadata": {
    "papermill": {
     "duration": 0.03268,
     "end_time": "2020-07-09T14:49:01.988460",
     "exception": false,
     "start_time": "2020-07-09T14:49:01.955780",
     "status": "completed"
    },
    "tags": []
   },
   "source": [
    "### Verify consumption"
   ]
  },
  {
   "cell_type": "code",
   "execution_count": 24,
   "metadata": {
    "execution": {
     "iopub.execute_input": "2020-07-09T14:49:02.061151Z",
     "iopub.status.busy": "2020-07-09T14:49:02.060538Z",
     "iopub.status.idle": "2020-07-09T14:49:02.070891Z",
     "shell.execute_reply": "2020-07-09T14:49:02.071996Z"
    },
    "papermill": {
     "duration": 0.050896,
     "end_time": "2020-07-09T14:49:02.072245",
     "exception": false,
     "start_time": "2020-07-09T14:49:02.021349",
     "status": "completed"
    },
    "tags": []
   },
   "outputs": [
    {
     "data": {
      "text/plain": [
       "3683.4909059686083"
      ]
     },
     "execution_count": 24,
     "metadata": {},
     "output_type": "execute_result"
    }
   ],
   "source": [
    "consumption = survey_scenario.compute_aggregate('consumption', period = year) / 1e9\n",
    "consumption"
   ]
  },
  {
   "cell_type": "code",
   "execution_count": 25,
   "metadata": {
    "execution": {
     "iopub.execute_input": "2020-07-09T14:49:02.149126Z",
     "iopub.status.busy": "2020-07-09T14:49:02.148636Z",
     "iopub.status.idle": "2020-07-09T14:49:02.153250Z",
     "shell.execute_reply": "2020-07-09T14:49:02.154051Z"
    },
    "papermill": {
     "duration": 0.04676,
     "end_time": "2020-07-09T14:49:02.154277",
     "exception": false,
     "start_time": "2020-07-09T14:49:02.107517",
     "status": "completed"
    },
    "tags": []
   },
   "outputs": [
    {
     "data": {
      "text/plain": [
       "3420.0210034861534"
      ]
     },
     "execution_count": 25,
     "metadata": {},
     "output_type": "execute_result"
    }
   ],
   "source": [
    "# assert consumption == \n",
    "sum(taxes_and_tariffs['aggregate'][\n",
    "    taxes_and_tariffs.index.str.contains('tva_')\n",
    "    ])"
   ]
  },
  {
   "cell_type": "code",
   "execution_count": 26,
   "metadata": {
    "execution": {
     "iopub.execute_input": "2020-07-09T14:49:02.235665Z",
     "iopub.status.busy": "2020-07-09T14:49:02.234427Z",
     "iopub.status.idle": "2020-07-09T14:49:02.249627Z",
     "shell.execute_reply": "2020-07-09T14:49:02.250612Z"
    },
    "papermill": {
     "duration": 0.059435,
     "end_time": "2020-07-09T14:49:02.250866",
     "exception": false,
     "start_time": "2020-07-09T14:49:02.191431",
     "status": "completed"
    },
    "tags": []
   },
   "outputs": [
    {
     "data": {
      "text/plain": [
       "3420.0209488082546"
      ]
     },
     "execution_count": 26,
     "metadata": {},
     "output_type": "execute_result"
    }
   ],
   "source": [
    "# assert consumption == \n",
    "(\n",
    "    sum(\n",
    "        survey_scenario.compute_aggregate(variable, period = year)\n",
    "        for variable in survey_scenario.tax_benefit_system.variables\n",
    "        if \"depenses_ht_hd_poste\" in variable \n",
    "        ) \n",
    "    + survey_scenario.compute_aggregate(\"droits_douane\", period = year)\n",
    "    + survey_scenario.compute_aggregate(\"tva\", period = year)\n",
    "    ) / 1e9"
   ]
  },
  {
   "cell_type": "markdown",
   "metadata": {
    "papermill": {
     "duration": 0.033773,
     "end_time": "2020-07-09T14:49:02.324822",
     "exception": false,
     "start_time": "2020-07-09T14:49:02.291049",
     "status": "completed"
    },
    "tags": []
   },
   "source": [
    "# Inflate incomes   "
   ]
  },
  {
   "cell_type": "markdown",
   "metadata": {
    "papermill": {
     "duration": 0.032884,
     "end_time": "2020-07-09T14:49:02.390831",
     "exception": false,
     "start_time": "2020-07-09T14:49:02.357947",
     "status": "completed"
    },
    "tags": []
   },
   "source": [
    "## Income variables"
   ]
  },
  {
   "cell_type": "code",
   "execution_count": 27,
   "metadata": {
    "execution": {
     "iopub.execute_input": "2020-07-09T14:49:02.463477Z",
     "iopub.status.busy": "2020-07-09T14:49:02.462942Z",
     "iopub.status.idle": "2020-07-09T14:49:02.464934Z",
     "shell.execute_reply": "2020-07-09T14:49:02.465376Z"
    },
    "papermill": {
     "duration": 0.041253,
     "end_time": "2020-07-09T14:49:02.465605",
     "exception": false,
     "start_time": "2020-07-09T14:49:02.424352",
     "status": "completed"
    },
    "tags": []
   },
   "outputs": [],
   "source": [
    "income_variables = [\n",
    "    'autoconsumption',\n",
    "    'other_income',\n",
    "    'gifts_sales_durables',\n",
    "    'imputed_rent',\n",
    "    'revenu_agricole',\n",
    "    'autres_revenus_du_capital',\n",
    "    'revenu_informel_non_salarie',\n",
    "    'revenu_non_salarie',\n",
    "    'revenu_locatif',\n",
    "    'pension_retraite',\n",
    "    'salaire_super_brut',\n",
    "    ]"
   ]
  },
  {
   "cell_type": "code",
   "execution_count": 28,
   "metadata": {
    "execution": {
     "iopub.execute_input": "2020-07-09T14:49:02.546604Z",
     "iopub.status.busy": "2020-07-09T14:49:02.545944Z",
     "iopub.status.idle": "2020-07-09T14:49:02.553613Z",
     "shell.execute_reply": "2020-07-09T14:49:02.554137Z"
    },
    "papermill": {
     "duration": 0.049161,
     "end_time": "2020-07-09T14:49:02.554386",
     "exception": false,
     "start_time": "2020-07-09T14:49:02.505225",
     "status": "completed"
    },
    "tags": []
   },
   "outputs": [
    {
     "data": {
      "text/plain": [
       "4641.846993890306"
      ]
     },
     "execution_count": 28,
     "metadata": {},
     "output_type": "execute_result"
    }
   ],
   "source": [
    "sum(\n",
    "    survey_scenario.compute_aggregate(income_variable, period = year)\n",
    "    for income_variable in income_variables\n",
    "    ) / 1e9"
   ]
  },
  {
   "cell_type": "code",
   "execution_count": null,
   "metadata": {
    "papermill": {
     "duration": 0.034363,
     "end_time": "2020-07-09T14:49:02.629123",
     "exception": false,
     "start_time": "2020-07-09T14:49:02.594760",
     "status": "completed"
    },
    "tags": []
   },
   "outputs": [],
   "source": []
  },
  {
   "cell_type": "code",
   "execution_count": 29,
   "metadata": {
    "execution": {
     "iopub.execute_input": "2020-07-09T14:49:02.705882Z",
     "iopub.status.busy": "2020-07-09T14:49:02.705105Z",
     "iopub.status.idle": "2020-07-09T14:49:02.716070Z",
     "shell.execute_reply": "2020-07-09T14:49:02.717076Z"
    },
    "papermill": {
     "duration": 0.053181,
     "end_time": "2020-07-09T14:49:02.717342",
     "exception": false,
     "start_time": "2020-07-09T14:49:02.664161",
     "status": "completed"
    },
    "tags": []
   },
   "outputs": [
    {
     "data": {
      "text/plain": [
       "6294.98481673941"
      ]
     },
     "execution_count": 29,
     "metadata": {},
     "output_type": "execute_result"
    }
   ],
   "source": [
    "sum(\n",
    "    inflated_survey_scenario.compute_aggregate(income_variable, period = year)\n",
    "    for income_variable in income_variables\n",
    "    ) / 1e9"
   ]
  },
  {
   "cell_type": "markdown",
   "metadata": {
    "papermill": {
     "duration": 0.036917,
     "end_time": "2020-07-09T14:49:02.794979",
     "exception": false,
     "start_time": "2020-07-09T14:49:02.758062",
     "status": "completed"
    },
    "tags": []
   },
   "source": [
    "# Indicators"
   ]
  },
  {
   "cell_type": "code",
   "execution_count": 30,
   "metadata": {
    "execution": {
     "iopub.execute_input": "2020-07-09T14:49:02.875339Z",
     "iopub.status.busy": "2020-07-09T14:49:02.874788Z",
     "iopub.status.idle": "2020-07-09T14:49:02.963533Z",
     "shell.execute_reply": "2020-07-09T14:49:02.964381Z"
    },
    "papermill": {
     "duration": 0.132648,
     "end_time": "2020-07-09T14:49:02.964631",
     "exception": false,
     "start_time": "2020-07-09T14:49:02.831983",
     "status": "completed"
    },
    "tags": []
   },
   "outputs": [
    {
     "data": {
      "text/html": [
       "<div>\n",
       "<style scoped>\n",
       "    .dataframe tbody tr th:only-of-type {\n",
       "        vertical-align: middle;\n",
       "    }\n",
       "\n",
       "    .dataframe tbody tr th {\n",
       "        vertical-align: top;\n",
       "    }\n",
       "\n",
       "    .dataframe thead th {\n",
       "        text-align: right;\n",
       "    }\n",
       "</style>\n",
       "<table border=\"1\" class=\"dataframe\">\n",
       "  <thead>\n",
       "    <tr style=\"text-align: right;\">\n",
       "      <th></th>\n",
       "      <th>market_income</th>\n",
       "      <th>market_income_plus_pensions</th>\n",
       "      <th>gross_income</th>\n",
       "      <th>disposable_income</th>\n",
       "      <th>consumable_income</th>\n",
       "      <th>final_income</th>\n",
       "    </tr>\n",
       "  </thead>\n",
       "  <tbody>\n",
       "    <tr>\n",
       "      <th>Gini</th>\n",
       "      <td>0.56</td>\n",
       "      <td>0.56</td>\n",
       "      <td>0.55</td>\n",
       "      <td>0.54</td>\n",
       "      <td>0.57</td>\n",
       "      <td>0.53</td>\n",
       "    </tr>\n",
       "    <tr>\n",
       "      <th>Bottom 40 %</th>\n",
       "      <td>0.10</td>\n",
       "      <td>0.10</td>\n",
       "      <td>0.10</td>\n",
       "      <td>0.10</td>\n",
       "      <td>0.09</td>\n",
       "      <td>0.11</td>\n",
       "    </tr>\n",
       "    <tr>\n",
       "      <th>Top 10 %</th>\n",
       "      <td>0.44</td>\n",
       "      <td>0.44</td>\n",
       "      <td>0.44</td>\n",
       "      <td>0.42</td>\n",
       "      <td>0.44</td>\n",
       "      <td>0.42</td>\n",
       "    </tr>\n",
       "  </tbody>\n",
       "</table>\n",
       "</div>"
      ],
      "text/plain": [
       "             market_income  market_income_plus_pensions  gross_income  \\\n",
       "Gini                  0.56                         0.56          0.55   \n",
       "Bottom 40 %           0.10                         0.10          0.10   \n",
       "Top 10 %              0.44                         0.44          0.44   \n",
       "\n",
       "             disposable_income  consumable_income  final_income  \n",
       "Gini                      0.54               0.57          0.53  \n",
       "Bottom 40 %               0.10               0.09          0.11  \n",
       "Top 10 %                  0.42               0.44          0.42  "
      ]
     },
     "metadata": {},
     "output_type": "display_data"
    }
   ],
   "source": [
    "from openfisca_survey_manager.statshelpers import lorenz\n",
    "from openfisca_ceq.tools.results.inequality import inequality_table\n",
    "display(inequality_table(survey_scenario))"
   ]
  },
  {
   "cell_type": "code",
   "execution_count": 31,
   "metadata": {
    "execution": {
     "iopub.execute_input": "2020-07-09T14:49:03.045718Z",
     "iopub.status.busy": "2020-07-09T14:49:03.045195Z",
     "iopub.status.idle": "2020-07-09T14:49:03.050905Z",
     "shell.execute_reply": "2020-07-09T14:49:03.050537Z"
    },
    "papermill": {
     "duration": 0.046556,
     "end_time": "2020-07-09T14:49:03.050989",
     "exception": false,
     "start_time": "2020-07-09T14:49:03.004433",
     "status": "completed"
    },
    "tags": []
   },
   "outputs": [
    {
     "data": {
      "text/plain": [
       "414.9883368574343"
      ]
     },
     "execution_count": 31,
     "metadata": {},
     "output_type": "execute_result"
    }
   ],
   "source": [
    "survey_scenario.compute_aggregate(\"impots_indirects\", period = year) / 1e9"
   ]
  },
  {
   "cell_type": "code",
   "execution_count": 32,
   "metadata": {
    "execution": {
     "iopub.execute_input": "2020-07-09T14:49:03.137423Z",
     "iopub.status.busy": "2020-07-09T14:49:03.136795Z",
     "iopub.status.idle": "2020-07-09T14:49:03.141959Z",
     "shell.execute_reply": "2020-07-09T14:49:03.142423Z"
    },
    "papermill": {
     "duration": 0.050811,
     "end_time": "2020-07-09T14:49:03.142555",
     "exception": false,
     "start_time": "2020-07-09T14:49:03.091744",
     "status": "completed"
    },
    "tags": []
   },
   "outputs": [
    {
     "data": {
      "text/plain": [
       "180.56767149911866"
      ]
     },
     "execution_count": 32,
     "metadata": {},
     "output_type": "execute_result"
    }
   ],
   "source": [
    "survey_scenario.compute_aggregate(\"direct_taxes\", period = year) / 1e9"
   ]
  },
  {
   "cell_type": "code",
   "execution_count": 33,
   "metadata": {
    "execution": {
     "iopub.execute_input": "2020-07-09T14:49:03.227367Z",
     "iopub.status.busy": "2020-07-09T14:49:03.226790Z",
     "iopub.status.idle": "2020-07-09T14:49:03.233127Z",
     "shell.execute_reply": "2020-07-09T14:49:03.233638Z"
    },
    "papermill": {
     "duration": 0.047864,
     "end_time": "2020-07-09T14:49:03.233783",
     "exception": false,
     "start_time": "2020-07-09T14:49:03.185919",
     "status": "completed"
    },
    "tags": []
   },
   "outputs": [
    {
     "data": {
      "text/plain": [
       "180.56767149911866"
      ]
     },
     "execution_count": 33,
     "metadata": {},
     "output_type": "execute_result"
    }
   ],
   "source": [
    "survey_scenario.compute_aggregate(\"personal_income_tax\", period = year) / 1e9"
   ]
  },
  {
   "cell_type": "code",
   "execution_count": 34,
   "metadata": {
    "execution": {
     "iopub.execute_input": "2020-07-09T14:49:03.310841Z",
     "iopub.status.busy": "2020-07-09T14:49:03.309733Z",
     "iopub.status.idle": "2020-07-09T14:49:03.312001Z",
     "shell.execute_reply": "2020-07-09T14:49:03.312879Z"
    },
    "papermill": {
     "duration": 0.042884,
     "end_time": "2020-07-09T14:49:03.313121",
     "exception": false,
     "start_time": "2020-07-09T14:49:03.270237",
     "status": "completed"
    },
    "tags": []
   },
   "outputs": [],
   "source": [
    "from openfisca_ceq import list_variables_from_directory"
   ]
  },
  {
   "cell_type": "code",
   "execution_count": 35,
   "metadata": {
    "execution": {
     "iopub.execute_input": "2020-07-09T14:49:03.405549Z",
     "iopub.status.busy": "2020-07-09T14:49:03.405077Z",
     "iopub.status.idle": "2020-07-09T14:49:03.578889Z",
     "shell.execute_reply": "2020-07-09T14:49:03.579733Z"
    },
    "papermill": {
     "duration": 0.21821,
     "end_time": "2020-07-09T14:49:03.579969",
     "exception": false,
     "start_time": "2020-07-09T14:49:03.361759",
     "status": "completed"
    },
    "tags": []
   },
   "outputs": [
    {
     "data": {
      "text/plain": [
       "['agricultural_inputs_subsidies',\n",
       " 'alimony',\n",
       " 'corporate_income_tax',\n",
       " 'electricity_subsidies',\n",
       " 'employee_contributions_health',\n",
       " 'employee_other_contributions',\n",
       " 'excise_taxes',\n",
       " 'food_subsidies',\n",
       " 'fuel_subsidies',\n",
       " 'indirect_subsidies',\n",
       " 'other_taxes',\n",
       " 'payroll_tax',\n",
       " 'property_tax',\n",
       " 'sales_tax',\n",
       " 'self_employed_contributions_health',\n",
       " 'self_employed_contributions_pensions',\n",
       " 'self_employed_other_contributions']"
      ]
     },
     "execution_count": 35,
     "metadata": {},
     "output_type": "execute_result"
    }
   ],
   "source": [
    "ceq_variables = sorted(list_variables_from_directory(survey_scenario.tax_benefit_system))\n",
    "[\n",
    "    ceq_variable\n",
    "    for ceq_variable in ceq_variables\n",
    "    if survey_scenario.compute_aggregate(ceq_variable, period = year) == 0\n",
    "    ]"
   ]
  },
  {
   "cell_type": "code",
   "execution_count": 36,
   "metadata": {
    "execution": {
     "iopub.execute_input": "2020-07-09T14:49:03.669921Z",
     "iopub.status.busy": "2020-07-09T14:49:03.668992Z",
     "iopub.status.idle": "2020-07-09T14:49:03.789921Z",
     "shell.execute_reply": "2020-07-09T14:49:03.790741Z"
    },
    "papermill": {
     "duration": 0.168869,
     "end_time": "2020-07-09T14:49:03.790963",
     "exception": false,
     "start_time": "2020-07-09T14:49:03.622094",
     "status": "completed"
    },
    "tags": []
   },
   "outputs": [
    {
     "data": {
      "text/plain": [
       "[<matplotlib.lines.Line2D at 0x7f69fdd4fb10>]"
      ]
     },
     "execution_count": 36,
     "metadata": {},
     "output_type": "execute_result"
    },
    {
     "data": {
      "image/png": "[encoded data removed]",
      "text/plain": [
       "<Figure size 432x288 with 1 Axes>"
      ]
     },
     "metadata": {
      "needs_background": "light"
     },
     "output_type": "display_data"
    }
   ],
   "source": [
    "variable = \"market_income\"\n",
    "nb_persons = survey_scenario.calculate_variable(\"number_of_people_per_household\", period = year)\n",
    "weights = survey_scenario.calculate_variable(\"household_weight\", period = year) * nb_persons\n",
    "\n",
    "y, x = lorenz(survey_scenario.calculate_variable(variable, period = year) / nb_persons, weights = weights)\n",
    "plt.plot(x, y)"
   ]
  },
  {
   "cell_type": "code",
   "execution_count": 37,
   "metadata": {
    "execution": {
     "iopub.execute_input": "2020-07-09T14:49:03.882734Z",
     "iopub.status.busy": "2020-07-09T14:49:03.881488Z",
     "iopub.status.idle": "2020-07-09T14:49:03.887984Z",
     "shell.execute_reply": "2020-07-09T14:49:03.888955Z"
    },
    "papermill": {
     "duration": 0.054484,
     "end_time": "2020-07-09T14:49:03.889207",
     "exception": false,
     "start_time": "2020-07-09T14:49:03.834723",
     "status": "completed"
    },
    "tags": []
   },
   "outputs": [
    {
     "data": {
      "text/plain": [
       "23.617592066947427"
      ]
     },
     "execution_count": 37,
     "metadata": {},
     "output_type": "execute_result"
    }
   ],
   "source": [
    "survey_scenario.compute_aggregate('direct_transfers', period = year) / 1e9"
   ]
  },
  {
   "cell_type": "code",
   "execution_count": 38,
   "metadata": {
    "execution": {
     "iopub.execute_input": "2020-07-09T14:49:03.986428Z",
     "iopub.status.busy": "2020-07-09T14:49:03.985813Z",
     "iopub.status.idle": "2020-07-09T14:49:03.989056Z",
     "shell.execute_reply": "2020-07-09T14:49:03.989475Z"
    },
    "papermill": {
     "duration": 0.051803,
     "end_time": "2020-07-09T14:49:03.989726",
     "exception": false,
     "start_time": "2020-07-09T14:49:03.937923",
     "status": "completed"
    },
    "tags": []
   },
   "outputs": [
    {
     "data": {
      "text/plain": [
       "['agricultural_inputs_subsidies',\n",
       " 'alimony',\n",
       " 'all_income_excluding_transfers',\n",
       " 'autoconsumption',\n",
       " 'consumable_income',\n",
       " 'contributions_health',\n",
       " 'contributions_pensions',\n",
       " 'corporate_income_tax',\n",
       " 'customs_duties',\n",
       " 'decile_consumable_income_per_capita',\n",
       " 'decile_disposable_income_per_capita',\n",
       " 'decile_final_income_per_capita',\n",
       " 'decile_gross_income_per_capita',\n",
       " 'decile_market_income_per_capita',\n",
       " 'decile_market_income_plus_pensions_per_capita',\n",
       " 'decile_survey_income_per_capita',\n",
       " 'direct_taxes',\n",
       " 'disposable_income',\n",
       " 'electricity_subsidies',\n",
       " 'employee_contributions_health',\n",
       " 'employee_contributions_pensions',\n",
       " 'employee_other_contributions',\n",
       " 'employer_contributions_health',\n",
       " 'employer_contributions_pensions',\n",
       " 'employer_other_contributions',\n",
       " 'excise_taxes',\n",
       " 'final_income',\n",
       " 'food_subsidies',\n",
       " 'fuel_subsidies',\n",
       " 'gifts_sales_durables',\n",
       " 'gross_income',\n",
       " 'imputed_rent',\n",
       " 'indirect_subsidies',\n",
       " 'indirect_taxes',\n",
       " 'market_income',\n",
       " 'market_income_plus_pensions',\n",
       " 'net_market_income',\n",
       " 'nontaxable_income',\n",
       " 'other_contributions',\n",
       " 'other_income',\n",
       " 'other_taxes',\n",
       " 'payroll_tax',\n",
       " 'pensions',\n",
       " 'personal_income_tax',\n",
       " 'property_tax',\n",
       " 'sales_tax',\n",
       " 'self_employed_contributions_health',\n",
       " 'self_employed_contributions_pensions',\n",
       " 'self_employed_other_contributions',\n",
       " 'taxable_income',\n",
       " 'value_added_tax']"
      ]
     },
     "execution_count": 38,
     "metadata": {},
     "output_type": "execute_result"
    }
   ],
   "source": [
    "ceq_variables"
   ]
  },
  {
   "cell_type": "code",
   "execution_count": 39,
   "metadata": {
    "execution": {
     "iopub.execute_input": "2020-07-09T14:49:04.082003Z",
     "iopub.status.busy": "2020-07-09T14:49:04.081453Z",
     "iopub.status.idle": "2020-07-09T14:49:04.086032Z",
     "shell.execute_reply": "2020-07-09T14:49:04.086400Z"
    },
    "papermill": {
     "duration": 0.047954,
     "end_time": "2020-07-09T14:49:04.086519",
     "exception": false,
     "start_time": "2020-07-09T14:49:04.038565",
     "status": "completed"
    },
    "tags": []
   },
   "outputs": [
    {
     "data": {
      "text/plain": [
       "72801363171.01367"
      ]
     },
     "execution_count": 39,
     "metadata": {},
     "output_type": "execute_result"
    }
   ],
   "source": [
    "survey_scenario.compute_aggregate('customs_duties', period = year) "
   ]
  },
  {
   "cell_type": "code",
   "execution_count": 40,
   "metadata": {
    "execution": {
     "iopub.execute_input": "2020-07-09T14:49:04.175654Z",
     "iopub.status.busy": "2020-07-09T14:49:04.173616Z",
     "iopub.status.idle": "2020-07-09T14:49:08.415785Z",
     "shell.execute_reply": "2020-07-09T14:49:08.416313Z"
    },
    "papermill": {
     "duration": 4.283851,
     "end_time": "2020-07-09T14:49:08.416457",
     "exception": false,
     "start_time": "2020-07-09T14:49:04.132606",
     "status": "completed"
    },
    "tags": []
   },
   "outputs": [
    {
     "name": "stderr",
     "output_type": "stream",
     "text": [
      "/home/benjello/.virtualenvs/ceq/lib/python3.7/site-packages/scipy/optimize/minpack.py:175: RuntimeWarning: The iteration is not making good progress, as measured by the \n",
      "  improvement from the last ten iterations.\n",
      "  warnings.warn(msg, RuntimeWarning)\n"
     ]
    }
   ],
   "source": [
    "inflated_survey_scenario = build_ceq_survey_scenario(legislation_country = country, year = year, inflate = True)"
   ]
  },
  {
   "cell_type": "code",
   "execution_count": 41,
   "metadata": {
    "execution": {
     "iopub.execute_input": "2020-07-09T14:49:08.541504Z",
     "iopub.status.busy": "2020-07-09T14:49:08.540439Z",
     "iopub.status.idle": "2020-07-09T14:49:08.544736Z",
     "shell.execute_reply": "2020-07-09T14:49:08.545514Z"
    },
    "papermill": {
     "duration": 0.066963,
     "end_time": "2020-07-09T14:49:08.545737",
     "exception": false,
     "start_time": "2020-07-09T14:49:08.478774",
     "status": "completed"
    },
    "tags": []
   },
   "outputs": [
    {
     "data": {
      "text/plain": [
       "['poste_10_1_1_1',\n",
       " 'poste_11_1_1_1_1',\n",
       " 'poste_12_1_3_item_1',\n",
       " 'poste_12_1_3_item_2',\n",
       " 'poste_12_3_1_1',\n",
       " 'poste_12_7_1_2_1',\n",
       " 'poste_12_7_1_item_1',\n",
       " 'poste_12_7_1_item_2',\n",
       " 'poste_1_1_1_1_1_item_1',\n",
       " 'poste_1_1_1_1_1_item_2',\n",
       " 'poste_1_1_1_4_1_item_1',\n",
       " 'poste_1_1_1_4_1_item_2',\n",
       " 'poste_1_1_1_4_1_item_3',\n",
       " 'poste_1_1_1_4_1_item_4',\n",
       " 'poste_1_1_1_4_1_item_5',\n",
       " 'poste_1_1_1_4_1_item_6',\n",
       " 'poste_1_1_1_4_1_item_7',\n",
       " 'poste_1_1_1_4_3_item_1',\n",
       " 'poste_1_1_1_4_3_item_2',\n",
       " 'poste_1_1_1_4_3_item_3',\n",
       " 'poste_1_1_2_item_1',\n",
       " 'poste_1_1_2_item_2',\n",
       " 'poste_1_1_2_item_3',\n",
       " 'poste_1_1_2_item_4',\n",
       " 'poste_1_1_2_item_5',\n",
       " 'poste_1_1_2_item_6',\n",
       " 'poste_1_1_3_item_1',\n",
       " 'poste_1_1_3_item_2',\n",
       " 'poste_1_1_3_item_3',\n",
       " 'poste_1_1_4_item_1',\n",
       " 'poste_1_1_4_item_2',\n",
       " 'poste_1_1_4_item_3',\n",
       " 'poste_1_1_4_item_4',\n",
       " 'poste_1_1_5_item_1',\n",
       " 'poste_1_1_5_item_2',\n",
       " 'poste_1_1_5_item_3',\n",
       " 'poste_1_1_5_item_4',\n",
       " 'poste_1_1_6',\n",
       " 'poste_1_1_7_item_1',\n",
       " 'poste_1_1_7_item_2',\n",
       " 'poste_1_1_7_item_3',\n",
       " 'poste_1_1_7_item_4',\n",
       " 'poste_1_1_7_item_5',\n",
       " 'poste_1_1_7_item_6',\n",
       " 'poste_1_1_7_item_7',\n",
       " 'poste_1_1_8_item_1',\n",
       " 'poste_1_1_8_item_2',\n",
       " 'poste_1_1_8_item_3',\n",
       " 'poste_1_1_9_item_1',\n",
       " 'poste_1_1_9_item_2',\n",
       " 'poste_1_1_9_item_3',\n",
       " 'poste_1_1_9_item_4',\n",
       " 'poste_1_2_item_1',\n",
       " 'poste_1_2_item_2',\n",
       " 'poste_1_2_item_3',\n",
       " 'poste_1_2_item_4',\n",
       " 'poste_1_2_item_5',\n",
       " 'poste_1_2_item_6',\n",
       " 'poste_2_1',\n",
       " 'poste_2_2',\n",
       " 'poste_3_1_2_item_1',\n",
       " 'poste_3_1_2_item_2',\n",
       " 'poste_3_1_2_item_3',\n",
       " 'poste_3_1_2_item_4',\n",
       " 'poste_3_2_1',\n",
       " 'poste_4_1_1_item_1',\n",
       " 'poste_4_1_1_item_2',\n",
       " 'poste_4_3',\n",
       " 'poste_4_3_2_2_1_item_1',\n",
       " 'poste_4_3_2_2_1_item_2',\n",
       " 'poste_4_4_1_1_1_item_1',\n",
       " 'poste_4_4_1_1_1_item_2',\n",
       " 'poste_4_4_1_1_1_item_3',\n",
       " 'poste_4_4_1_2_1',\n",
       " 'poste_4_5_1_1_1_item_1',\n",
       " 'poste_4_5_1_1_1_item_2',\n",
       " 'poste_4_5_2_1_1',\n",
       " 'poste_4_5_3_1_1',\n",
       " 'poste_4_5_4_1_1_item_1',\n",
       " 'poste_4_5_4_1_1_item_2',\n",
       " 'poste_5_1',\n",
       " 'poste_5_5_1_item_1',\n",
       " 'poste_5_5_1_item_2',\n",
       " 'poste_5_5_1_item_3',\n",
       " 'poste_5_6_2_1_1',\n",
       " 'poste_6_1_1_item_1',\n",
       " 'poste_6_1_1_item_2',\n",
       " 'poste_6_1_1_item_3',\n",
       " 'poste_6_2_1_item_1',\n",
       " 'poste_6_2_1_item_2',\n",
       " 'poste_6_2_1_item_3',\n",
       " 'poste_6_2_1_item_4',\n",
       " 'poste_6_2_1_item_5',\n",
       " 'poste_6_2_1_item_6',\n",
       " 'poste_7_1_1',\n",
       " 'poste_7_2_2',\n",
       " 'poste_7_2_3_item_1',\n",
       " 'poste_7_2_3_item_2',\n",
       " 'poste_7_3_2_item_1',\n",
       " 'poste_7_3_2_item_2',\n",
       " 'poste_8_1_2_2_1_item_1',\n",
       " 'poste_8_1_2_2_1_item_2',\n",
       " 'poste_8_1_2_2_1_item_3',\n",
       " 'poste_8_1_2_2_1_item_4',\n",
       " 'poste_8_1_2_2_1_item_5',\n",
       " 'poste_9_4',\n",
       " 'poste_9_4_2_3_1',\n",
       " 'poste_9_5_1_1_3',\n",
       " 'poste_9_5_3_2_2']"
      ]
     },
     "execution_count": 41,
     "metadata": {},
     "output_type": "execute_result"
    }
   ],
   "source": [
    "sorted([\n",
    "    variable \n",
    "    for variable in survey_scenario.tax_benefit_system.variables \n",
    "    if variable.startswith('poste_')\n",
    "    ])"
   ]
  },
  {
   "cell_type": "code",
   "execution_count": 42,
   "metadata": {
    "execution": {
     "iopub.execute_input": "2020-07-09T14:49:08.641530Z",
     "iopub.status.busy": "2020-07-09T14:49:08.640896Z",
     "iopub.status.idle": "2020-07-09T14:49:08.646212Z",
     "shell.execute_reply": "2020-07-09T14:49:08.647043Z"
    },
    "papermill": {
     "duration": 0.056817,
     "end_time": "2020-07-09T14:49:08.647269",
     "exception": false,
     "start_time": "2020-07-09T14:49:08.590452",
     "status": "completed"
    },
    "tags": []
   },
   "outputs": [
    {
     "data": {
      "text/plain": [
       "414988336857.4343"
      ]
     },
     "execution_count": 42,
     "metadata": {},
     "output_type": "execute_result"
    }
   ],
   "source": [
    "survey_scenario.compute_aggregate('indirect_taxes', period = year)"
   ]
  },
  {
   "cell_type": "markdown",
   "metadata": {
    "papermill": {
     "duration": 0.043163,
     "end_time": "2020-07-09T14:49:08.739426",
     "exception": false,
     "start_time": "2020-07-09T14:49:08.696263",
     "status": "completed"
    },
    "tags": []
   },
   "source": [
    "Direct taxes"
   ]
  },
  {
   "cell_type": "code",
   "execution_count": null,
   "metadata": {
    "papermill": {
     "duration": 0.043078,
     "end_time": "2020-07-09T14:49:08.827984",
     "exception": false,
     "start_time": "2020-07-09T14:49:08.784906",
     "status": "completed"
    },
    "tags": []
   },
   "outputs": [],
   "source": []
  },
  {
   "cell_type": "code",
   "execution_count": null,
   "metadata": {
    "papermill": {
     "duration": 0.042702,
     "end_time": "2020-07-09T14:49:08.913646",
     "exception": false,
     "start_time": "2020-07-09T14:49:08.870944",
     "status": "completed"
    },
    "tags": []
   },
   "outputs": [],
   "source": []
  }
 ],
 "metadata": {
  "kernelspec": {
   "display_name": "Python 3",
   "language": "python",
   "name": "python3"
  },
  "language_info": {
   "codemirror_mode": {
    "name": "ipython",
    "version": 3
   },
   "file_extension": ".py",
   "mimetype": "text/x-python",
   "name": "python",
   "nbconvert_exporter": "python",
   "pygments_lexer": "ipython3",
   "version": "3.7.8"
  },
  "papermill": {
   "duration": 21.291006,
   "end_time": "2020-07-09T14:49:10.334554",
   "environment_variables": {},
   "exception": null,
   "input_path": "notebooks/test.ipynb",
   "output_path": "notebooks/senegal.ipynb",
   "parameters": {
    "country": "senegal"
   },
   "start_time": "2020-07-09T14:48:49.043548",
   "version": "2.1.2"
  }
 },
 "nbformat": 4,
 "nbformat_minor": 4
}