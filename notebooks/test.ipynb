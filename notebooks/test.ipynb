{
 "cells": [
  {
   "cell_type": "code",
   "execution_count": 1,
   "metadata": {},
   "outputs": [],
   "source": [
    "from openfisca_ceq.tools.survey_scenario import build_ceq_survey_scenario\n",
    "from openfisca_ceq.tools.data import year_by_country"
   ]
  },
  {
   "cell_type": "code",
   "execution_count": 2,
   "metadata": {},
   "outputs": [],
   "source": [
    "country = \"senegal\"\n",
    "year = year_by_country[country]"
   ]
  },
  {
   "cell_type": "code",
   "execution_count": 3,
   "metadata": {},
   "outputs": [
    {
     "name": "stdout",
     "output_type": "stream",
     "text": [
      "For country senegal: 55016 persons and 5953 households\n"
     ]
    }
   ],
   "source": [
    "survey_scenario = build_ceq_survey_scenario(legislation_country = country, year = year)"
   ]
  },
  {
   "cell_type": "code",
   "execution_count": 12,
   "metadata": {},
   "outputs": [
    {
     "data": {
      "text/plain": [
       "6292907.0"
      ]
     },
     "execution_count": 12,
     "metadata": {},
     "output_type": "execute_result"
    }
   ],
   "source": [
    "survey_scenario.compute_aggregate('poste_2_1', period = year)"
   ]
  },
  {
   "cell_type": "code",
   "execution_count": 11,
   "metadata": {},
   "outputs": [
    {
     "data": {
      "text/plain": [
       "['poste_7_1_1_item_3',\n",
       " 'poste_1_1_1_4_1_item_5',\n",
       " 'poste_1_1_7_item_5',\n",
       " 'poste_5_5_1_item_11',\n",
       " 'poste_1_1_5_item_4',\n",
       " 'poste_8_1_2_2_1_item_5',\n",
       " 'poste_2_1',\n",
       " 'poste_1_2_item_1',\n",
       " 'poste_5_1_item_7',\n",
       " 'poste_3_1_2_item_4',\n",
       " 'poste_1_2_item_4',\n",
       " 'poste_5_5_1_item_9',\n",
       " 'poste_1_1_1_1_1_item_2',\n",
       " 'poste_1_1_3_item_1',\n",
       " 'poste_4_5_3_1_1',\n",
       " 'poste_5_3_1_item_6',\n",
       " 'poste_12_3_1_1_item_1',\n",
       " 'poste_5_2_item_1',\n",
       " 'poste_8_1_2_2_1_item_4',\n",
       " 'poste_1_2_item_6',\n",
       " 'poste_1_1_8_item_2',\n",
       " 'poste_5_3_1_item_10',\n",
       " 'poste_5_5_1_item_1',\n",
       " 'poste_9_1_1_1_3',\n",
       " 'poste_4_1_1_item_1',\n",
       " 'poste_1_1_6',\n",
       " 'poste_7_2_3_item_2',\n",
       " 'poste_9_5_1_1_3',\n",
       " 'poste_3_1_2_item_2',\n",
       " 'poste_5_1_item_11',\n",
       " 'poste_12_7_1_item_2',\n",
       " 'poste_5_1_item_1',\n",
       " 'poste_1_1_9_item_1',\n",
       " 'poste_1_2_item_5',\n",
       " 'poste_5_3_1_item_1',\n",
       " 'poste_7_1_2_item_1',\n",
       " 'poste_12_7_1_2_1',\n",
       " 'poste_6_2_1_item_5',\n",
       " 'poste_6_2_1_item_1',\n",
       " 'poste_9_1_3_1_1',\n",
       " 'poste_5_3_1_item_4',\n",
       " 'poste_11_1_1_1_1',\n",
       " 'poste_5_3_2_item_2',\n",
       " 'poste_5_5_1_item_12',\n",
       " 'poste_12_3_1_1_item_2',\n",
       " 'poste_1_1_2_item_6',\n",
       " 'poste_4_5_4_1_1_item_2',\n",
       " 'poste_6_1_1_item_1',\n",
       " 'poste_1_1_8_item_3',\n",
       " 'poste_1_1_2_item_3',\n",
       " 'poste_7_1_1_item_1',\n",
       " 'poste_1_1_5_item_3',\n",
       " 'poste_8_1_2_1_1_item_1',\n",
       " 'poste_5_3_1_item_2',\n",
       " 'poste_1_1_1_4_1_item_7',\n",
       " 'poste_5_6_2_1_1',\n",
       " 'poste_12_1_3_item_1',\n",
       " 'poste_12_7_1_item_1',\n",
       " 'poste_4_1_1_item_2',\n",
       " 'poste_4_5_2_1_1_item_2',\n",
       " 'poste_5_3_1_item_7',\n",
       " 'poste_9_1_1_1_2',\n",
       " 'poste_8_1_2_2_1_item_3',\n",
       " 'poste_6_2_1_item_2',\n",
       " 'poste_5_3_1_item_9',\n",
       " 'poste_5_5_1_1_1',\n",
       " 'poste_12_1_3_item_2',\n",
       " 'poste_1_1_9_item_3',\n",
       " 'poste_1_1_2_item_5',\n",
       " 'poste_4_3_1_1_2_item_1',\n",
       " 'poste_4_5_4_1_1_item_1',\n",
       " 'poste_1_1_4_item_3',\n",
       " 'poste_5_2_item_3',\n",
       " 'poste_9_4',\n",
       " 'poste_5_2_item_2',\n",
       " 'poste_5_1_item_10',\n",
       " 'poste_3_1_2_item_3',\n",
       " 'poste_1_1_4_item_4',\n",
       " 'poste_4_3',\n",
       " 'poste_4_5_2_1_1_item_1',\n",
       " 'poste_5_1_item_2',\n",
       " 'poste_5_5_1_item_6',\n",
       " 'poste_9_4_2_3_1_item_2',\n",
       " 'poste_1_1_1_4_3_item_1',\n",
       " 'poste_4_4_1_1_1_item_3',\n",
       " 'poste_1_1_3_item_2',\n",
       " 'poste_1_1_4_item_2',\n",
       " 'poste_9_2_1_1_2',\n",
       " 'poste_5_5_1_item_5',\n",
       " 'poste_3_2_1',\n",
       " 'poste_6_1_1_item_3',\n",
       " 'poste_1_1_2_item_1',\n",
       " 'poste_1_1_2_item_4',\n",
       " 'poste_9_1_1_1_4',\n",
       " 'poste_8_1_2_2_1_item_1',\n",
       " 'poste_1_2_item_3',\n",
       " 'poste_5_5_1_item_13',\n",
       " 'poste_6_2_1_item_6',\n",
       " 'poste_1_1_9_item_4',\n",
       " 'poste_5_5_1_item_2',\n",
       " 'poste_5_1_item_5',\n",
       " 'poste_3_1_2_item_1',\n",
       " 'poste_9_4_2_3_1_item_1',\n",
       " 'poste_10_1_1_1',\n",
       " 'poste_7_1_1_item_2',\n",
       " 'poste_1_1_1_1_1_item_1',\n",
       " 'poste_1_1_7_item_6',\n",
       " 'poste_1_1_2_item_2',\n",
       " 'poste_4_5_2_1_1_item_3',\n",
       " 'poste_1_1_7_item_3',\n",
       " 'poste_1_1_1_4_3_item_2',\n",
       " 'poste_4_5_1_1_1_item_2',\n",
       " 'poste_5_3_1_item_5',\n",
       " 'poste_5_5_1_item_10',\n",
       " 'poste_4_5_2_1_1_item_4',\n",
       " 'poste_6_2_1_item_4',\n",
       " 'poste_5_3_2_item_1',\n",
       " 'poste_4_3_2_2_1_item_2',\n",
       " 'poste_1_1_1_4_3_item_3',\n",
       " 'poste_5_1_item_8',\n",
       " 'poste_5_3_1_item_8',\n",
       " 'poste_1_1_7_item_1',\n",
       " 'poste_1_1_7_item_7',\n",
       " 'poste_7_3_2_item_2',\n",
       " 'poste_1_1_1_4_1_item_6',\n",
       " 'poste_2_2',\n",
       " 'poste_5_3_1_item_3',\n",
       " 'poste_1_1_7_item_4',\n",
       " 'poste_5_1_item_4',\n",
       " 'poste_4_4_1_1_1_item_2',\n",
       " 'poste_1_1_3_item_3',\n",
       " 'poste_7_2_2',\n",
       " 'poste_9_5_3_2_2',\n",
       " 'poste_5_5_1_item_4',\n",
       " 'poste_1_1_4_item_1',\n",
       " 'poste_4_3_2_2_1_item_1',\n",
       " 'poste_1_1_5_item_1',\n",
       " 'poste_1_2_item_2',\n",
       " 'poste_5_1_item_6',\n",
       " 'poste_8_1_2_1_1_item_2',\n",
       " 'poste_5_1_item_3',\n",
       " 'poste_5_5_1_item_8',\n",
       " 'poste_1_1_1_4_1_item_3',\n",
       " 'poste_1_1_1_4_1_item_4',\n",
       " 'poste_6_1_1_item_2',\n",
       " 'poste_4_4_1_1_1_item_1',\n",
       " 'poste_7_2_3_item_1',\n",
       " 'poste_5_5_1_item_3',\n",
       " 'poste_1_1_8_item_1',\n",
       " 'poste_1_1_1_4_1_item_2',\n",
       " 'poste_7_1_2_item_2',\n",
       " 'poste_4_3_1_1_2_item_2',\n",
       " 'poste_1_1_1_4_1_item_1',\n",
       " 'poste_5_3_1_item_11',\n",
       " 'poste_5_1_item_9',\n",
       " 'poste_6_2_1_item_3',\n",
       " 'poste_7_3_2_item_1',\n",
       " 'poste_4_5_1_1_1_item_1',\n",
       " 'poste_1_1_5_item_2',\n",
       " 'poste_8_1_2_2_1_item_2',\n",
       " 'poste_4_4_1_2_1',\n",
       " 'poste_1_1_9_item_2',\n",
       " 'poste_5_5_1_item_7',\n",
       " 'poste_1_1_7_item_2']"
      ]
     },
     "execution_count": 11,
     "metadata": {},
     "output_type": "execute_result"
    }
   ],
   "source": [
    "survey_scenario.used_as_input_variables"
   ]
  },
  {
   "cell_type": "code",
   "execution_count": null,
   "metadata": {},
   "outputs": [],
   "source": []
  }
 ],
 "metadata": {
  "kernelspec": {
   "display_name": "Python 3",
   "language": "python",
   "name": "python3"
  },
  "language_info": {
   "codemirror_mode": {
    "name": "ipython",
    "version": 3
   },
   "file_extension": ".py",
   "mimetype": "text/x-python",
   "name": "python",
   "nbconvert_exporter": "python",
   "pygments_lexer": "ipython3",
   "version": "3.7.3"
  }
 },
 "nbformat": 4,
 "nbformat_minor": 4
}
