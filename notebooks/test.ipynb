{
 "cells": [
  {
   "cell_type": "code",
   "execution_count": 1,
   "metadata": {},
   "outputs": [],
   "source": [
    "import pandas as pd\n",
    "from openfisca_ceq.tools.survey_scenario import build_ceq_survey_scenario\n",
    "from openfisca_ceq.tools.data import year_by_country\n",
    "from openfisca_ceq.tools.data_ceq_correspondence import (\n",
    "    ceq_input_by_harmonized_variable,\n",
    "    ceq_intermediate_by_harmonized_variable,\n",
    "    non_ceq_input_by_harmonized_variable,\n",
    "    )"
   ]
  },
  {
   "cell_type": "markdown",
   "metadata": {},
   "source": [
    "# Build country scenario"
   ]
  },
  {
   "cell_type": "markdown",
   "metadata": {},
   "source": [
    "## Country selection"
   ]
  },
  {
   "cell_type": "code",
   "execution_count": 2,
   "metadata": {},
   "outputs": [],
   "source": [
    "country = \"senegal\"\n",
    "year = year_by_country[country]"
   ]
  },
  {
   "cell_type": "code",
   "execution_count": 3,
   "metadata": {},
   "outputs": [],
   "source": [
    "survey_scenario = build_ceq_survey_scenario(legislation_country = country, year = year)"
   ]
  },
  {
   "cell_type": "markdown",
   "metadata": {},
   "source": [
    "## Some examples"
   ]
  },
  {
   "cell_type": "code",
   "execution_count": 4,
   "metadata": {},
   "outputs": [
    {
     "data": {
      "text/plain": [
       "1135.8330613126088"
      ]
     },
     "execution_count": 4,
     "metadata": {},
     "output_type": "execute_result"
    }
   ],
   "source": [
    "variable = 'revenu_agricole'\n",
    "survey_scenario.compute_aggregate(variable, period = year) / 1e9"
   ]
  },
  {
   "cell_type": "code",
   "execution_count": 5,
   "metadata": {},
   "outputs": [],
   "source": [
    "# sorted(survey_scenario.used_as_input_variables)"
   ]
  },
  {
   "cell_type": "markdown",
   "metadata": {},
   "source": [
    "# Aggegates check"
   ]
  },
  {
   "cell_type": "markdown",
   "metadata": {},
   "source": [
    "## Income variables"
   ]
  },
  {
   "cell_type": "code",
   "execution_count": 6,
   "metadata": {},
   "outputs": [
    {
     "data": {
      "text/plain": [
       "{'rev_i_autoconsommation': 'autoconsumption',\n",
       " 'rev_i_autres_transferts': 'other_income',\n",
       " 'rev_i_loyers_imputes': 'imputed_rent',\n",
       " 'rev_i_transferts_publics': 'direct_transfers',\n",
       " 'rev_i_agricoles': 'revenu_agricole',\n",
       " 'rev_i_autres_revenus_capital': 'autres_revenus_du_capital',\n",
       " 'rev_i_independants_Ntaxe': 'revenu_informel_non_salarie',\n",
       " 'rev_i_independants_taxe': 'revenu_non_salarie',\n",
       " 'rev_i_independants': 'revenu_non_salarie_total',\n",
       " 'rev_i_locatifs': 'revenu_locatif',\n",
       " 'rev_i_pensions': 'pension_retraite',\n",
       " 'rev_i_salaires_formels': 'salaire',\n",
       " 'rev_i_salaires_informels': 'revenu_informel_salarie'}"
      ]
     },
     "execution_count": 6,
     "metadata": {},
     "output_type": "execute_result"
    }
   ],
   "source": [
    "ceq_by_harmonized_variable = dict()\n",
    "ceq_by_harmonized_variable.update(ceq_input_by_harmonized_variable)\n",
    "ceq_by_harmonized_variable.update(ceq_intermediate_by_harmonized_variable)\n",
    "ceq_by_harmonized_variable.update(non_ceq_input_by_harmonized_variable)\n",
    "ceq_by_harmonized_variable"
   ]
  },
  {
   "cell_type": "code",
   "execution_count": 7,
   "metadata": {},
   "outputs": [],
   "source": [
    "data = [\n",
    "    (harmonized_variable, openfisca_variable, survey_scenario.compute_aggregate(openfisca_variable, period = year) / 1e9) \n",
    "    for harmonized_variable, openfisca_variable in ceq_by_harmonized_variable.items()\n",
    "    ]"
   ]
  },
  {
   "cell_type": "code",
   "execution_count": 8,
   "metadata": {},
   "outputs": [
    {
     "data": {
      "text/html": [
       "<div>\n",
       "<style scoped>\n",
       "    .dataframe tbody tr th:only-of-type {\n",
       "        vertical-align: middle;\n",
       "    }\n",
       "\n",
       "    .dataframe tbody tr th {\n",
       "        vertical-align: top;\n",
       "    }\n",
       "\n",
       "    .dataframe thead th {\n",
       "        text-align: right;\n",
       "    }\n",
       "</style>\n",
       "<table border=\"1\" class=\"dataframe\">\n",
       "  <thead>\n",
       "    <tr style=\"text-align: right;\">\n",
       "      <th></th>\n",
       "      <th>harmonized</th>\n",
       "      <th>openfisca</th>\n",
       "      <th>aggregate</th>\n",
       "    </tr>\n",
       "  </thead>\n",
       "  <tbody>\n",
       "    <tr>\n",
       "      <th>0</th>\n",
       "      <td>rev_i_autoconsommation</td>\n",
       "      <td>autoconsumption</td>\n",
       "      <td>177.612081</td>\n",
       "    </tr>\n",
       "    <tr>\n",
       "      <th>1</th>\n",
       "      <td>rev_i_autres_transferts</td>\n",
       "      <td>other_income</td>\n",
       "      <td>709.058628</td>\n",
       "    </tr>\n",
       "    <tr>\n",
       "      <th>2</th>\n",
       "      <td>rev_i_loyers_imputes</td>\n",
       "      <td>imputed_rent</td>\n",
       "      <td>370.875139</td>\n",
       "    </tr>\n",
       "    <tr>\n",
       "      <th>3</th>\n",
       "      <td>rev_i_transferts_publics</td>\n",
       "      <td>direct_transfers</td>\n",
       "      <td>23.649953</td>\n",
       "    </tr>\n",
       "    <tr>\n",
       "      <th>4</th>\n",
       "      <td>rev_i_agricoles</td>\n",
       "      <td>revenu_agricole</td>\n",
       "      <td>1135.833061</td>\n",
       "    </tr>\n",
       "    <tr>\n",
       "      <th>5</th>\n",
       "      <td>rev_i_autres_revenus_capital</td>\n",
       "      <td>autres_revenus_du_capital</td>\n",
       "      <td>13.176570</td>\n",
       "    </tr>\n",
       "    <tr>\n",
       "      <th>6</th>\n",
       "      <td>rev_i_independants_Ntaxe</td>\n",
       "      <td>revenu_informel_non_salarie</td>\n",
       "      <td>879.749895</td>\n",
       "    </tr>\n",
       "    <tr>\n",
       "      <th>7</th>\n",
       "      <td>rev_i_independants_taxe</td>\n",
       "      <td>revenu_non_salarie</td>\n",
       "      <td>263.300259</td>\n",
       "    </tr>\n",
       "    <tr>\n",
       "      <th>8</th>\n",
       "      <td>rev_i_independants</td>\n",
       "      <td>revenu_non_salarie_total</td>\n",
       "      <td>1143.050154</td>\n",
       "    </tr>\n",
       "    <tr>\n",
       "      <th>9</th>\n",
       "      <td>rev_i_locatifs</td>\n",
       "      <td>revenu_locatif</td>\n",
       "      <td>53.507361</td>\n",
       "    </tr>\n",
       "    <tr>\n",
       "      <th>10</th>\n",
       "      <td>rev_i_pensions</td>\n",
       "      <td>pension_retraite</td>\n",
       "      <td>58.115934</td>\n",
       "    </tr>\n",
       "    <tr>\n",
       "      <th>11</th>\n",
       "      <td>rev_i_salaires_formels</td>\n",
       "      <td>salaire</td>\n",
       "      <td>617.990184</td>\n",
       "    </tr>\n",
       "    <tr>\n",
       "      <th>12</th>\n",
       "      <td>rev_i_salaires_informels</td>\n",
       "      <td>revenu_informel_salarie</td>\n",
       "      <td>767.218408</td>\n",
       "    </tr>\n",
       "  </tbody>\n",
       "</table>\n",
       "</div>"
      ],
      "text/plain": [
       "                      harmonized                    openfisca    aggregate\n",
       "0         rev_i_autoconsommation              autoconsumption   177.612081\n",
       "1        rev_i_autres_transferts                 other_income   709.058628\n",
       "2           rev_i_loyers_imputes                 imputed_rent   370.875139\n",
       "3       rev_i_transferts_publics             direct_transfers    23.649953\n",
       "4                rev_i_agricoles              revenu_agricole  1135.833061\n",
       "5   rev_i_autres_revenus_capital    autres_revenus_du_capital    13.176570\n",
       "6       rev_i_independants_Ntaxe  revenu_informel_non_salarie   879.749895\n",
       "7        rev_i_independants_taxe           revenu_non_salarie   263.300259\n",
       "8             rev_i_independants     revenu_non_salarie_total  1143.050154\n",
       "9                 rev_i_locatifs               revenu_locatif    53.507361\n",
       "10                rev_i_pensions             pension_retraite    58.115934\n",
       "11        rev_i_salaires_formels                      salaire   617.990184\n",
       "12      rev_i_salaires_informels      revenu_informel_salarie   767.218408"
      ]
     },
     "execution_count": 8,
     "metadata": {},
     "output_type": "execute_result"
    }
   ],
   "source": [
    "pd.DataFrame(data, columns = [\"harmonized\", \"openfisca\", \"aggregate\"])"
   ]
  },
  {
   "cell_type": "markdown",
   "metadata": {},
   "source": [
    "## Education variables"
   ]
  },
  {
   "cell_type": "code",
   "execution_count": 9,
   "metadata": {},
   "outputs": [
    {
     "name": "stdout",
     "output_type": "stream",
     "text": [
      "eleve_enseignement_niveau   -1.0   0.0   1.0   2.0   3.0\n",
      "eleve_enseignement_public                               \n",
      "0.0                        10.61  0.11  0.33  0.18  0.05\n",
      "1.0                         0.01  0.04  1.43  0.84  0.05\n"
     ]
    }
   ],
   "source": [
    "## Counts (in millions)\")\n",
    "print((survey_scenario.compute_pivot_table(columns = ['eleve_enseignement_niveau'], index = ['eleve_enseignement_public'], aggfunc = 'count', period = survey_scenario.year) / 1e6).round(2))"
   ]
  },
  {
   "cell_type": "code",
   "execution_count": 10,
   "metadata": {},
   "outputs": [
    {
     "name": "stdout",
     "output_type": "stream",
     "text": [
      "In kind education tranfers\n",
      "pre_school_person: 1 billions FCFA\n",
      "pre_school: 1 billions FCFA\n",
      "primary_education_person: 190 billions FCFA\n",
      "primary_education: 190 billions FCFA\n",
      "secondary_education_person: 141 billions FCFA\n",
      "secondary_education: 141 billions FCFA\n",
      "tertiary_education_person: 104 billions FCFA\n",
      "tertiary_education: 104 billions FCFA\n",
      "education_net_transfers: 436 billions FCFA\n"
     ]
    }
   ],
   "source": [
    "variables = [\n",
    "    'pre_school_person',\n",
    "    'pre_school',\n",
    "    'primary_education_person',\n",
    "    'primary_education',\n",
    "    'secondary_education_person',\n",
    "    'secondary_education',\n",
    "    'tertiary_education_person',\n",
    "    'tertiary_education',\n",
    "    'education_net_transfers',\n",
    "    ]\n",
    "print(\"In kind education tranfers\")\n",
    "for variable in variables:\n",
    "    print(\n",
    "        \"{variable}: {aggregate} billions FCFA\".format(\n",
    "            variable = variable,\n",
    "            aggregate = int(round(survey_scenario.compute_aggregate(variable, period = survey_scenario.year) / 1e9))\n",
    "            )\n",
    "        )"
   ]
  },
  {
   "cell_type": "markdown",
   "metadata": {},
   "source": [
    "## Tax variables"
   ]
  },
  {
   "cell_type": "code",
   "execution_count": 11,
   "metadata": {},
   "outputs": [
    {
     "data": {
      "text/plain": [
       "329.7676152754563"
      ]
     },
     "execution_count": 11,
     "metadata": {},
     "output_type": "execute_result"
    }
   ],
   "source": [
    "survey_scenario.compute_aggregate('tva_taux_normal', period = survey_scenario.year) / 1e9"
   ]
  },
  {
   "cell_type": "code",
   "execution_count": 12,
   "metadata": {},
   "outputs": [
    {
     "data": {
      "text/plain": [
       "1832.0422343977764"
      ]
     },
     "execution_count": 12,
     "metadata": {},
     "output_type": "execute_result"
    }
   ],
   "source": [
    "survey_scenario.compute_aggregate('depenses_ht_tva_taux_normal', period = survey_scenario.year) / 1e9"
   ]
  },
  {
   "cell_type": "code",
   "execution_count": 13,
   "metadata": {},
   "outputs": [
    {
     "data": {
      "text/plain": [
       "329.7676152754563"
      ]
     },
     "execution_count": 13,
     "metadata": {},
     "output_type": "execute_result"
    }
   ],
   "source": [
    "survey_scenario.compute_aggregate('tva', period = survey_scenario.year) / 1e9"
   ]
  },
  {
   "cell_type": "code",
   "execution_count": 14,
   "metadata": {},
   "outputs": [
    {
     "data": {
      "text/plain": [
       "dict_keys(['household_weight', 'person_weight', 'age', 'date_naissance', 'est_celibataire', 'est_divorce', 'est_marie', 'est_veuf', 'nombre_enfants', 'statut_marital', 'benefices_non_salarie', 'conjoint_a_des_revenus', 'pension_retraite', 'salaire', 'impots_indirects', 'impot_avant_reduction_famille', 'impot_revenus', 'nombre_de_parts', 'reduction_impots_pour_charge_famille', 'contributions_health', 'contributions_pensions', 'employee_contributions_health', 'employee_contributions_pensions', 'employee_other_contributions', 'employer_contributions_health', 'employer_contributions_pensions', 'employer_other_contributions', 'other_contributions', 'self_employed_contributions_health', 'self_employed_contributions_pensions', 'self_employed_other_contributions', 'agricultural_inputs_subsidies', 'electricity_subsidies', 'food_subsidies', 'fuel_subsidies', 'indirect_subsidies', 'corporate_income_tax', 'customs_duties', 'direct_taxes', 'excise_taxes', 'other_taxes', 'payroll_tax', 'personal_income_tax', 'property_tax', 'sales_tax', 'value_added_tax', 'alimony', 'autoconsumption', 'consumable_income', 'disposable_income', 'final_income', 'gifts_sales_durables', 'gross_income', 'imputed_rent', 'market_income', 'market_income_plus_pensions', 'net_market_income', 'other_income', 'pensions', 'taxable_income', 'cash_transfers', 'direct_transfers', 'near_cash_transfers', 'noncontributory_pensions', 'social_assistance', 'social_insurance', 'education_net_transfers', 'health_contributory', 'health_copay_fees', 'health_in_patient', 'health_net_transfers', 'health_noncontributory', 'health_out_patient', 'housing_transfers', 'in_kind_transfers', 'post_secondary_education', 'pre_school', 'primary_education', 'school_fees', 'secondary_education', 'tertiary_education', 'revenu_non_salarie', 'revenu_agricole', 'revenu_informel_non_salarie', 'revenu_locatif', 'autres_revenus_du_capital', 'revenu_informel_salarie', 'all_income_excluding_transfers', 'nontaxable_income', 'indirect_taxes', 'revenu_non_salarie_total', 'eleve_enseignement_niveau', 'eleve_enseignement_public', 'pre_school_person', 'primary_education_person', 'secondary_education_person', 'tertiary_education_person', 'poste_1_1_1_1_1_item_1', 'poste_1_1_1_1_1_item_2', 'poste_1_1_1_4_1_item_1', 'poste_1_1_1_4_1_item_2', 'poste_1_1_1_4_1_item_3', 'poste_1_1_1_4_1_item_4', 'poste_1_1_1_4_1_item_5', 'poste_1_1_1_4_1_item_6', 'poste_1_1_1_4_1_item_7', 'poste_1_1_1_4_3_item_1', 'poste_1_1_1_4_3_item_2', 'poste_1_1_1_4_3_item_3', 'poste_1_1_2_item_1', 'poste_1_1_2_item_2', 'poste_1_1_2_item_3', 'poste_1_1_2_item_4', 'poste_1_1_2_item_5', 'poste_1_1_2_item_6', 'poste_1_1_3_item_1', 'poste_1_1_3_item_2', 'poste_1_1_3_item_3', 'poste_1_1_4_item_1', 'poste_1_1_4_item_2', 'poste_1_1_4_item_3', 'poste_1_1_4_item_4', 'poste_1_1_5_item_1', 'poste_1_1_5_item_2', 'poste_1_1_5_item_3', 'poste_1_1_5_item_4', 'poste_1_1_6', 'poste_1_1_7_item_1', 'poste_1_1_7_item_2', 'poste_1_1_7_item_3', 'poste_1_1_7_item_4', 'poste_1_1_7_item_5', 'poste_1_1_7_item_6', 'poste_1_1_7_item_7', 'poste_1_1_8_item_1', 'poste_1_1_8_item_2', 'poste_1_1_8_item_3', 'poste_1_1_9_item_1', 'poste_1_1_9_item_2', 'poste_1_1_9_item_3', 'poste_1_1_9_item_4', 'poste_1_2_item_1', 'poste_1_2_item_2', 'poste_1_2_item_3', 'poste_1_2_item_4', 'poste_1_2_item_5', 'poste_1_2_item_6', 'poste_2_1', 'poste_2_2', 'poste_3_1_2_item_1', 'poste_3_1_2_item_2', 'poste_3_1_2_item_3', 'poste_3_1_2_item_4', 'poste_3_2_1', 'poste_4_1_1_item_1', 'poste_4_1_1_item_2', 'poste_4_3_1_1_2_item_1', 'poste_4_3_1_1_2_item_2', 'poste_4_3_2_2_1_item_1', 'poste_4_3_2_2_1_item_2', 'poste_4_4_1_1_1_item_1', 'poste_4_4_1_1_1_item_2', 'poste_4_4_1_1_1_item_3', 'poste_4_4_1_2_1', 'poste_4_5_1_1_1_item_1', 'poste_4_5_1_1_1_item_2', 'poste_4_5_2_1_1_item_1', 'poste_4_5_2_1_1_item_2', 'poste_4_5_2_1_1_item_3', 'poste_4_5_2_1_1_item_4', 'poste_4_5_3_1_1', 'poste_4_5_4_1_1_item_1', 'poste_4_5_4_1_1_item_2', 'poste_5_1_item_1', 'poste_5_1_item_2', 'poste_5_1_item_3', 'poste_5_1_item_4', 'poste_5_1_item_5', 'poste_5_1_item_6', 'poste_5_1_item_7', 'poste_5_1_item_8', 'poste_5_1_item_9', 'poste_5_1_item_10', 'poste_5_1_item_11', 'poste_5_2_item_1', 'poste_5_2_item_2', 'poste_5_2_item_3', 'poste_5_3_1_item_1', 'poste_5_3_1_item_2', 'poste_5_3_1_item_3', 'poste_5_3_1_item_4', 'poste_5_3_1_item_5', 'poste_5_3_1_item_6', 'poste_5_3_1_item_7', 'poste_5_3_1_item_8', 'poste_5_3_1_item_9', 'poste_5_3_1_item_10', 'poste_5_3_1_item_11', 'poste_5_3_2_item_1', 'poste_5_3_2_item_2', 'poste_5_5_1_item_1', 'poste_5_5_1_item_2', 'poste_5_5_1_item_3', 'poste_5_5_1_item_4', 'poste_5_5_1_item_5', 'poste_5_5_1_item_6', 'poste_5_5_1_item_7', 'poste_5_5_1_item_8', 'poste_5_5_1_item_9', 'poste_5_5_1_item_10', 'poste_5_5_1_item_11', 'poste_5_5_1_item_12', 'poste_5_5_1_item_13', 'poste_5_5_1_1_1', 'poste_5_6_2_1_1', 'poste_6_1_1_item_1', 'poste_6_1_1_item_2', 'poste_6_1_1_item_3', 'poste_6_2_1_item_1', 'poste_6_2_1_item_2', 'poste_6_2_1_item_3', 'poste_6_2_1_item_4', 'poste_6_2_1_item_5', 'poste_6_2_1_item_6', 'poste_7_1_1_item_1', 'poste_7_1_1_item_2', 'poste_7_1_1_item_3', 'poste_7_1_2_item_1', 'poste_7_1_2_item_2', 'poste_7_2_2', 'poste_7_2_3_item_1', 'poste_7_2_3_item_2', 'poste_7_3_2_item_1', 'poste_7_3_2_item_2', 'poste_8_1_2_1_1_item_1', 'poste_8_1_2_1_1_item_2', 'poste_8_1_2_2_1_item_1', 'poste_8_1_2_2_1_item_2', 'poste_8_1_2_2_1_item_3', 'poste_8_1_2_2_1_item_4', 'poste_8_1_2_2_1_item_5', 'poste_9_1_1_1_2', 'poste_9_1_1_1_3', 'poste_9_1_1_1_4', 'poste_9_1_3_1_1', 'poste_9_2_1_1_2', 'poste_9_4', 'poste_9_4_2_3_1_item_1', 'poste_9_4_2_3_1_item_2', 'poste_9_5_1_1_3', 'poste_9_5_3_2_2', 'poste_10_1_1_1', 'poste_11_1_1_1_1', 'poste_12_1_3_item_1', 'poste_12_1_3_item_2', 'poste_12_3_1_1_item_1', 'poste_12_3_1_1_item_2', 'poste_12_7_1_item_1', 'poste_12_7_1_item_2', 'poste_12_7_1_2_1', 'poste_4_3', 'depenses_ht_poste_1_1_1_4_1_item_1', 'depenses_ht_poste_1_1_1_4_1_item_2', 'depenses_ht_poste_1_1_1_4_1_item_3', 'depenses_ht_poste_1_1_1_4_1_item_6', 'depenses_ht_poste_1_1_1_4_1_item_7', 'depenses_ht_poste_1_1_1_4_3_item_1', 'depenses_ht_poste_1_1_1_4_3_item_2', 'depenses_ht_poste_1_1_1_4_3_item_3', 'depenses_ht_poste_1_1_2_item_1', 'depenses_ht_poste_1_1_2_item_3', 'depenses_ht_poste_1_1_2_item_4', 'depenses_ht_poste_1_1_2_item_6', 'depenses_ht_poste_1_1_3_item_3', 'depenses_ht_poste_1_1_6', 'depenses_ht_poste_1_1_7_item_1', 'depenses_ht_poste_1_1_7_item_2', 'depenses_ht_poste_1_1_7_item_3', 'depenses_ht_poste_1_1_7_item_5', 'depenses_ht_poste_1_1_7_item_6', 'depenses_ht_poste_1_1_7_item_7', 'depenses_ht_poste_1_2_item_4', 'depenses_ht_poste_1_2_item_5', 'depenses_ht_poste_10_1_1_1', 'depenses_ht_poste_12_7_1_2_1', 'depenses_ht_poste_3_1_2_item_1', 'depenses_ht_poste_4_1_1_item_1', 'depenses_ht_poste_4_5_2_1_1_item_3', 'depenses_ht_poste_4_5_4_1_1_item_1', 'depenses_ht_poste_4_5_4_1_1_item_2', 'depenses_ht_poste_6_1_1_item_1', 'depenses_ht_poste_6_2_1_item_1', 'depenses_ht_poste_6_2_1_item_2', 'depenses_ht_poste_6_2_1_item_3', 'depenses_ht_poste_6_2_1_item_4', 'depenses_ht_poste_6_2_1_item_5', 'depenses_ht_poste_6_2_1_item_6', 'depenses_ht_poste_7_3_2_item_1', 'depenses_ht_poste_9_5_3_2_2', 'depenses_ht_poste_1_1_1_1_1_item_1', 'depenses_ht_poste_1_1_1_1_1_item_2', 'depenses_ht_poste_1_1_1_4_1_item_4', 'depenses_ht_poste_1_1_1_4_1_item_5', 'depenses_ht_poste_1_1_2_item_2', 'depenses_ht_poste_1_1_2_item_5', 'depenses_ht_poste_1_1_3_item_1', 'depenses_ht_poste_1_1_3_item_2', 'depenses_ht_poste_1_1_4_item_1', 'depenses_ht_poste_1_1_4_item_2', 'depenses_ht_poste_1_1_4_item_3', 'depenses_ht_poste_1_1_4_item_4', 'depenses_ht_poste_1_1_5_item_1', 'depenses_ht_poste_1_1_5_item_2', 'depenses_ht_poste_1_1_5_item_3', 'depenses_ht_poste_1_1_5_item_4', 'depenses_ht_poste_1_1_7_item_4', 'depenses_ht_poste_1_1_8_item_1', 'depenses_ht_poste_1_1_8_item_2', 'depenses_ht_poste_1_1_8_item_3', 'depenses_ht_poste_1_1_9_item_1', 'depenses_ht_poste_1_1_9_item_2', 'depenses_ht_poste_1_1_9_item_3', 'depenses_ht_poste_1_1_9_item_4', 'depenses_ht_poste_1_2_item_1', 'depenses_ht_poste_1_2_item_2', 'depenses_ht_poste_1_2_item_3', 'depenses_ht_poste_1_2_item_6', 'depenses_ht_poste_11_1_1_1_1', 'depenses_ht_poste_12_1_3_item_1', 'depenses_ht_poste_12_1_3_item_2', 'depenses_ht_poste_12_3_1_1_item_1', 'depenses_ht_poste_12_3_1_1_item_2', 'depenses_ht_poste_2_1', 'depenses_ht_poste_2_2', 'depenses_ht_poste_3_1_2_item_2', 'depenses_ht_poste_3_1_2_item_3', 'depenses_ht_poste_3_1_2_item_4', 'depenses_ht_poste_3_2_1', 'depenses_ht_poste_4_1_1_item_2', 'depenses_ht_poste_4_3', 'depenses_ht_poste_4_3_1_1_2_item_1', 'depenses_ht_poste_4_3_1_1_2_item_2', 'depenses_ht_poste_4_3_2_2_1_item_1', 'depenses_ht_poste_4_3_2_2_1_item_2', 'depenses_ht_poste_4_4_1_1_1_item_1', 'depenses_ht_poste_4_4_1_1_1_item_2', 'depenses_ht_poste_4_4_1_1_1_item_3', 'depenses_ht_poste_4_4_1_2_1', 'depenses_ht_poste_4_5_1_1_1_item_1', 'depenses_ht_poste_4_5_1_1_1_item_2', 'depenses_ht_poste_4_5_2_1_1_item_1', 'depenses_ht_poste_4_5_2_1_1_item_2', 'depenses_ht_poste_4_5_2_1_1_item_4', 'depenses_ht_poste_4_5_3_1_1', 'depenses_ht_poste_5_1_item_1', 'depenses_ht_poste_5_1_item_10', 'depenses_ht_poste_5_1_item_11', 'depenses_ht_poste_5_1_item_2', 'depenses_ht_poste_5_1_item_3', 'depenses_ht_poste_5_1_item_4', 'depenses_ht_poste_5_1_item_5', 'depenses_ht_poste_5_1_item_6', 'depenses_ht_poste_5_1_item_7', 'depenses_ht_poste_5_1_item_8', 'depenses_ht_poste_5_1_item_9', 'depenses_ht_poste_5_2_item_1', 'depenses_ht_poste_5_2_item_2', 'depenses_ht_poste_5_2_item_3', 'depenses_ht_poste_5_3_1_item_1', 'depenses_ht_poste_5_3_1_item_10', 'depenses_ht_poste_5_3_1_item_11', 'depenses_ht_poste_5_3_1_item_2', 'depenses_ht_poste_5_3_1_item_3', 'depenses_ht_poste_5_3_1_item_4', 'depenses_ht_poste_5_3_1_item_5', 'depenses_ht_poste_5_3_1_item_6', 'depenses_ht_poste_5_3_1_item_7', 'depenses_ht_poste_5_3_1_item_8', 'depenses_ht_poste_5_3_1_item_9', 'depenses_ht_poste_5_3_2_item_1', 'depenses_ht_poste_5_3_2_item_2', 'depenses_ht_poste_5_5_1_1_1', 'depenses_ht_poste_5_5_1_item_1', 'depenses_ht_poste_5_5_1_item_10', 'depenses_ht_poste_5_5_1_item_11', 'depenses_ht_poste_5_5_1_item_12', 'depenses_ht_poste_5_5_1_item_13', 'depenses_ht_poste_5_5_1_item_2', 'depenses_ht_poste_5_5_1_item_3', 'depenses_ht_poste_5_5_1_item_4', 'depenses_ht_poste_5_5_1_item_5', 'depenses_ht_poste_5_5_1_item_6', 'depenses_ht_poste_5_5_1_item_7', 'depenses_ht_poste_5_5_1_item_8', 'depenses_ht_poste_5_5_1_item_9', 'depenses_ht_poste_5_6_2_1_1', 'depenses_ht_poste_6_1_1_item_2', 'depenses_ht_poste_6_1_1_item_3', 'depenses_ht_poste_7_1_1_item_1', 'depenses_ht_poste_7_1_1_item_2', 'depenses_ht_poste_7_1_1_item_3', 'depenses_ht_poste_7_1_2_item_1', 'depenses_ht_poste_7_1_2_item_2', 'depenses_ht_poste_7_2_2', 'depenses_ht_poste_7_2_3_item_1', 'depenses_ht_poste_7_2_3_item_2', 'depenses_ht_poste_7_3_2_item_2', 'depenses_ht_poste_8_1_2_1_1_item_1', 'depenses_ht_poste_8_1_2_1_1_item_2', 'depenses_ht_poste_8_1_2_2_1_item_1', 'depenses_ht_poste_8_1_2_2_1_item_2', 'depenses_ht_poste_8_1_2_2_1_item_3', 'depenses_ht_poste_8_1_2_2_1_item_4', 'depenses_ht_poste_8_1_2_2_1_item_5', 'depenses_ht_poste_9_1_1_1_2', 'depenses_ht_poste_9_1_1_1_3', 'depenses_ht_poste_9_1_1_1_4', 'depenses_ht_poste_9_1_3_1_1', 'depenses_ht_poste_9_2_1_1_2', 'depenses_ht_poste_9_4', 'depenses_ht_poste_9_4_2_3_1_item_1', 'depenses_ht_poste_9_4_2_3_1_item_2', 'depenses_ht_poste_9_5_1_1_3', 'depenses_ht_tva_exonere', 'depenses_ht_tva_taux_normal', 'tva_taux_normal', 'tva'])"
      ]
     },
     "execution_count": 14,
     "metadata": {},
     "output_type": "execute_result"
    }
   ],
   "source": [
    "survey_scenario.tax_benefit_system.variables.keys()"
   ]
  },
  {
   "cell_type": "code",
   "execution_count": null,
   "metadata": {},
   "outputs": [],
   "source": []
  },
  {
   "cell_type": "code",
   "execution_count": null,
   "metadata": {},
   "outputs": [],
   "source": []
  },
  {
   "cell_type": "code",
   "execution_count": null,
   "metadata": {},
   "outputs": [],
   "source": []
  }
 ],
 "metadata": {
  "kernelspec": {
   "display_name": "Python 3",
   "language": "python",
   "name": "python3"
  },
  "language_info": {
   "codemirror_mode": {
    "name": "ipython",
    "version": 3
   },
   "file_extension": ".py",
   "mimetype": "text/x-python",
   "name": "python",
   "nbconvert_exporter": "python",
   "pygments_lexer": "ipython3",
   "version": "3.7.3"
  }
 },
 "nbformat": 4,
 "nbformat_minor": 4
}
