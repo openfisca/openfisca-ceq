{
 "cells": [
  {
   "cell_type": "code",
   "execution_count": 1,
   "metadata": {},
   "outputs": [],
   "source": [
    "import pandas as pd\n",
    "from openfisca_ceq.tools.survey_scenario import build_ceq_survey_scenario\n",
    "from openfisca_ceq.tools.indirect_taxation.tax_benefit_system_indirect_taxation_completion import indirect_tax_by_country\n",
    "from openfisca_ceq.tools.data import year_by_country\n",
    "from openfisca_ceq.tools.data_ceq_correspondence import (\n",
    "    ceq_input_by_harmonized_variable,\n",
    "    ceq_intermediate_by_harmonized_variable,\n",
    "    non_ceq_input_by_harmonized_variable,\n",
    "    )"
   ]
  },
  {
   "cell_type": "markdown",
   "metadata": {},
   "source": [
    "# Build country scenario"
   ]
  },
  {
   "cell_type": "markdown",
   "metadata": {},
   "source": [
    "## Country selection"
   ]
  },
  {
   "cell_type": "code",
   "execution_count": 2,
   "metadata": {
    "tags": [
     "parameters"
    ]
   },
   "outputs": [],
   "source": [
    "country = \"mali\""
   ]
  },
  {
   "cell_type": "code",
   "execution_count": 3,
   "metadata": {},
   "outputs": [],
   "source": [
    "year = year_by_country[country]\n",
    "survey_scenario = build_ceq_survey_scenario(legislation_country = country, year = year)"
   ]
  },
  {
   "cell_type": "markdown",
   "metadata": {},
   "source": [
    "# Aggegates check"
   ]
  },
  {
   "cell_type": "markdown",
   "metadata": {},
   "source": [
    "## Income variables"
   ]
  },
  {
   "cell_type": "markdown",
   "metadata": {},
   "source": [
    "### Disagregated income variables"
   ]
  },
  {
   "cell_type": "code",
   "execution_count": 4,
   "metadata": {},
   "outputs": [
    {
     "data": {
      "text/plain": [
       "{'rev_i_autoconsommation': 'autoconsumption',\n",
       " 'rev_i_autres': 'other_income',\n",
       " 'rev_i_autres_transferts': 'gifts_sales_durables',\n",
       " 'rev_i_loyers_imputes': 'imputed_rent',\n",
       " 'rev_i_transferts_publics': 'direct_transfers',\n",
       " 'rev_i_agricoles': 'revenu_agricole',\n",
       " 'rev_i_autres_revenus_capital': 'autres_revenus_du_capital',\n",
       " 'rev_i_independants_Ntaxe': 'revenu_informel_non_salarie',\n",
       " 'rev_i_independants_taxe': 'revenu_non_salarie',\n",
       " 'rev_i_independants': 'revenu_non_salarie_total',\n",
       " 'rev_i_locatifs': 'revenu_locatif',\n",
       " 'rev_i_pensions': 'pension_retraite',\n",
       " 'rev_i_salaires_formels': 'salaire',\n",
       " 'rev_i_salaires_informels': 'revenu_informel_salarie',\n",
       " 'salaire_brut': 'salaire_brut',\n",
       " 'salaire_super_brut': 'salaire_super_brut'}"
      ]
     },
     "execution_count": 4,
     "metadata": {},
     "output_type": "execute_result"
    }
   ],
   "source": [
    "ceq_by_harmonized_variable = dict()\n",
    "ceq_by_harmonized_variable.update(ceq_input_by_harmonized_variable)\n",
    "ceq_by_harmonized_variable.update(ceq_intermediate_by_harmonized_variable)\n",
    "ceq_by_harmonized_variable.update(non_ceq_input_by_harmonized_variable)\n",
    "ceq_by_harmonized_variable['salaire_brut'] = 'salaire_brut'\n",
    "ceq_by_harmonized_variable['salaire_super_brut'] = 'salaire_super_brut'\n",
    "ceq_by_harmonized_variable"
   ]
  },
  {
   "cell_type": "code",
   "execution_count": 5,
   "metadata": {},
   "outputs": [],
   "source": [
    "data = [\n",
    "    (harmonized_variable, openfisca_variable, survey_scenario.compute_aggregate(openfisca_variable, period = year) / 1e9) \n",
    "    for harmonized_variable, openfisca_variable in ceq_by_harmonized_variable.items()\n",
    "    ]"
   ]
  },
  {
   "cell_type": "code",
   "execution_count": 6,
   "metadata": {},
   "outputs": [
    {
     "data": {
      "text/html": [
       "<div>\n",
       "<style scoped>\n",
       "    .dataframe tbody tr th:only-of-type {\n",
       "        vertical-align: middle;\n",
       "    }\n",
       "\n",
       "    .dataframe tbody tr th {\n",
       "        vertical-align: top;\n",
       "    }\n",
       "\n",
       "    .dataframe thead th {\n",
       "        text-align: right;\n",
       "    }\n",
       "</style>\n",
       "<table border=\"1\" class=\"dataframe\">\n",
       "  <thead>\n",
       "    <tr style=\"text-align: right;\">\n",
       "      <th></th>\n",
       "      <th>harmonized</th>\n",
       "      <th>openfisca</th>\n",
       "      <th>aggregate</th>\n",
       "    </tr>\n",
       "  </thead>\n",
       "  <tbody>\n",
       "    <tr>\n",
       "      <th>0</th>\n",
       "      <td>rev_i_autoconsommation</td>\n",
       "      <td>autoconsumption</td>\n",
       "      <td>256.513891</td>\n",
       "    </tr>\n",
       "    <tr>\n",
       "      <th>1</th>\n",
       "      <td>rev_i_autres</td>\n",
       "      <td>other_income</td>\n",
       "      <td>282.008977</td>\n",
       "    </tr>\n",
       "    <tr>\n",
       "      <th>2</th>\n",
       "      <td>rev_i_autres_transferts</td>\n",
       "      <td>gifts_sales_durables</td>\n",
       "      <td>70.479250</td>\n",
       "    </tr>\n",
       "    <tr>\n",
       "      <th>3</th>\n",
       "      <td>rev_i_loyers_imputes</td>\n",
       "      <td>imputed_rent</td>\n",
       "      <td>150.021121</td>\n",
       "    </tr>\n",
       "    <tr>\n",
       "      <th>4</th>\n",
       "      <td>rev_i_transferts_publics</td>\n",
       "      <td>direct_transfers</td>\n",
       "      <td>0.000000</td>\n",
       "    </tr>\n",
       "    <tr>\n",
       "      <th>5</th>\n",
       "      <td>rev_i_agricoles</td>\n",
       "      <td>revenu_agricole</td>\n",
       "      <td>612.449204</td>\n",
       "    </tr>\n",
       "    <tr>\n",
       "      <th>6</th>\n",
       "      <td>rev_i_autres_revenus_capital</td>\n",
       "      <td>autres_revenus_du_capital</td>\n",
       "      <td>0.000000</td>\n",
       "    </tr>\n",
       "    <tr>\n",
       "      <th>7</th>\n",
       "      <td>rev_i_independants_Ntaxe</td>\n",
       "      <td>revenu_informel_non_salarie</td>\n",
       "      <td>511.791472</td>\n",
       "    </tr>\n",
       "    <tr>\n",
       "      <th>8</th>\n",
       "      <td>rev_i_independants_taxe</td>\n",
       "      <td>revenu_non_salarie</td>\n",
       "      <td>0.000000</td>\n",
       "    </tr>\n",
       "    <tr>\n",
       "      <th>9</th>\n",
       "      <td>rev_i_independants</td>\n",
       "      <td>revenu_non_salarie_total</td>\n",
       "      <td>511.791472</td>\n",
       "    </tr>\n",
       "    <tr>\n",
       "      <th>10</th>\n",
       "      <td>rev_i_locatifs</td>\n",
       "      <td>revenu_locatif</td>\n",
       "      <td>0.000000</td>\n",
       "    </tr>\n",
       "    <tr>\n",
       "      <th>11</th>\n",
       "      <td>rev_i_pensions</td>\n",
       "      <td>pension_retraite</td>\n",
       "      <td>0.000000</td>\n",
       "    </tr>\n",
       "    <tr>\n",
       "      <th>12</th>\n",
       "      <td>rev_i_salaires_formels</td>\n",
       "      <td>salaire</td>\n",
       "      <td>68.177819</td>\n",
       "    </tr>\n",
       "    <tr>\n",
       "      <th>13</th>\n",
       "      <td>rev_i_salaires_informels</td>\n",
       "      <td>revenu_informel_salarie</td>\n",
       "      <td>196.241122</td>\n",
       "    </tr>\n",
       "    <tr>\n",
       "      <th>14</th>\n",
       "      <td>salaire_brut</td>\n",
       "      <td>salaire_brut</td>\n",
       "      <td>83.290944</td>\n",
       "    </tr>\n",
       "    <tr>\n",
       "      <th>15</th>\n",
       "      <td>salaire_super_brut</td>\n",
       "      <td>salaire_super_brut</td>\n",
       "      <td>98.738449</td>\n",
       "    </tr>\n",
       "  </tbody>\n",
       "</table>\n",
       "</div>"
      ],
      "text/plain": [
       "                      harmonized                    openfisca   aggregate\n",
       "0         rev_i_autoconsommation              autoconsumption  256.513891\n",
       "1                   rev_i_autres                 other_income  282.008977\n",
       "2        rev_i_autres_transferts         gifts_sales_durables   70.479250\n",
       "3           rev_i_loyers_imputes                 imputed_rent  150.021121\n",
       "4       rev_i_transferts_publics             direct_transfers    0.000000\n",
       "5                rev_i_agricoles              revenu_agricole  612.449204\n",
       "6   rev_i_autres_revenus_capital    autres_revenus_du_capital    0.000000\n",
       "7       rev_i_independants_Ntaxe  revenu_informel_non_salarie  511.791472\n",
       "8        rev_i_independants_taxe           revenu_non_salarie    0.000000\n",
       "9             rev_i_independants     revenu_non_salarie_total  511.791472\n",
       "10                rev_i_locatifs               revenu_locatif    0.000000\n",
       "11                rev_i_pensions             pension_retraite    0.000000\n",
       "12        rev_i_salaires_formels                      salaire   68.177819\n",
       "13      rev_i_salaires_informels      revenu_informel_salarie  196.241122\n",
       "14                  salaire_brut                 salaire_brut   83.290944\n",
       "15            salaire_super_brut           salaire_super_brut   98.738449"
      ]
     },
     "execution_count": 6,
     "metadata": {},
     "output_type": "execute_result"
    }
   ],
   "source": [
    "revenus = pd.DataFrame(data, columns = [\"harmonized\", \"openfisca\", \"aggregate\"])\n",
    "revenus"
   ]
  },
  {
   "cell_type": "markdown",
   "metadata": {},
   "source": [
    "### Agregated income variables"
   ]
  },
  {
   "cell_type": "markdown",
   "metadata": {},
   "source": [
    "#### CEQ agregated income variables"
   ]
  },
  {
   "cell_type": "code",
   "execution_count": 7,
   "metadata": {},
   "outputs": [],
   "source": [
    "ceq_variables = [\"market_income\", \"market_income_plus_pensions\", \"pensions\", \"contributions_pensions\", \"net_market_income\", \"direct_taxes\", \"other_contributions\", \"contributions_health\", ]"
   ]
  },
  {
   "cell_type": "code",
   "execution_count": 8,
   "metadata": {},
   "outputs": [
    {
     "data": {
      "text/html": [
       "<div>\n",
       "<style scoped>\n",
       "    .dataframe tbody tr th:only-of-type {\n",
       "        vertical-align: middle;\n",
       "    }\n",
       "\n",
       "    .dataframe tbody tr th {\n",
       "        vertical-align: top;\n",
       "    }\n",
       "\n",
       "    .dataframe thead th {\n",
       "        text-align: right;\n",
       "    }\n",
       "</style>\n",
       "<table border=\"1\" class=\"dataframe\">\n",
       "  <thead>\n",
       "    <tr style=\"text-align: right;\">\n",
       "      <th></th>\n",
       "      <th>aggregate</th>\n",
       "    </tr>\n",
       "  </thead>\n",
       "  <tbody>\n",
       "    <tr>\n",
       "      <th>market_income</th>\n",
       "      <td>2178.243484</td>\n",
       "    </tr>\n",
       "    <tr>\n",
       "      <th>market_income_plus_pensions</th>\n",
       "      <td>2170.747299</td>\n",
       "    </tr>\n",
       "    <tr>\n",
       "      <th>pensions</th>\n",
       "      <td>0.000000</td>\n",
       "    </tr>\n",
       "    <tr>\n",
       "      <th>contributions_pensions</th>\n",
       "      <td>7.496185</td>\n",
       "    </tr>\n",
       "    <tr>\n",
       "      <th>net_market_income</th>\n",
       "      <td>2167.832117</td>\n",
       "    </tr>\n",
       "    <tr>\n",
       "      <th>direct_taxes</th>\n",
       "      <td>0.000000</td>\n",
       "    </tr>\n",
       "    <tr>\n",
       "      <th>other_contributions</th>\n",
       "      <td>7.201701</td>\n",
       "    </tr>\n",
       "    <tr>\n",
       "      <th>contributions_health</th>\n",
       "      <td>2.915183</td>\n",
       "    </tr>\n",
       "  </tbody>\n",
       "</table>\n",
       "</div>"
      ],
      "text/plain": [
       "                               aggregate\n",
       "market_income                2178.243484\n",
       "market_income_plus_pensions  2170.747299\n",
       "pensions                        0.000000\n",
       "contributions_pensions          7.496185\n",
       "net_market_income            2167.832117\n",
       "direct_taxes                    0.000000\n",
       "other_contributions             7.201701\n",
       "contributions_health            2.915183"
      ]
     },
     "execution_count": 8,
     "metadata": {},
     "output_type": "execute_result"
    }
   ],
   "source": [
    "ceq_aggregates = pd.DataFrame(\n",
    "    index = ceq_variables,\n",
    "    columns = ['aggregate'],\n",
    "    data = [\n",
    "        survey_scenario.compute_aggregate(ceq_variable, period = year) / 1e9 \n",
    "        for ceq_variable in ceq_variables\n",
    "        ]\n",
    "    )\n",
    "ceq_aggregates"
   ]
  },
  {
   "cell_type": "markdown",
   "metadata": {},
   "source": [
    "#### Direct check"
   ]
  },
  {
   "cell_type": "code",
   "execution_count": 9,
   "metadata": {},
   "outputs": [],
   "source": [
    "income_components_summed_in_total = list(ceq_by_harmonized_variable.values()) \n",
    "income_components_summed_in_total.remove(\"revenu_non_salarie_total\")\n",
    "income_components_summed_in_total.remove(\"direct_transfers\")\n",
    "income_components_summed_in_total.remove(\"salaire\")\n",
    "income_components_summed_in_total.remove(\"salaire_brut\")\n",
    "total_income = sum(\n",
    "    survey_scenario.compute_aggregate(income_component, period = survey_scenario.year) \n",
    "    for income_component in income_components_summed_in_total\n",
    "    ) \n",
    "total_income = (\n",
    "    total_income \n",
    "    - survey_scenario.compute_aggregate(\"contributions_pensions\", period = survey_scenario.year)\n",
    "    )/ 1e9\n"
   ]
  },
  {
   "cell_type": "code",
   "execution_count": 10,
   "metadata": {},
   "outputs": [],
   "source": [
    "from numpy.testing import assert_almost_equal\n",
    "assert_almost_equal(ceq_aggregates.loc['market_income_plus_pensions'].values, total_income, decimal = 5) \n",
    "# print('market_income_plus_pensions = {} vs {} = total_income'.format(\n",
    "#         ceq_aggregates.loc['market_income_plus_pensions'].values,\n",
    "#         total_income\n",
    "#         )\n",
    "#     )\n"
   ]
  },
  {
   "cell_type": "markdown",
   "metadata": {},
   "source": [
    "## Education variables"
   ]
  },
  {
   "cell_type": "markdown",
   "metadata": {},
   "source": [
    "### Counts (in millions)"
   ]
  },
  {
   "cell_type": "code",
   "execution_count": 11,
   "metadata": {},
   "outputs": [
    {
     "name": "stdout",
     "output_type": "stream",
     "text": [
      "eleve_enseignement_niveau  -1.0   0.0   1.0   2.0   3.0\n",
      "eleve_enseignement_public                              \n",
      "1.0                        12.4  0.11  1.77  1.27  0.12\n"
     ]
    }
   ],
   "source": [
    "print((survey_scenario.compute_pivot_table(columns = ['eleve_enseignement_niveau'], index = ['eleve_enseignement_public'], aggfunc = 'count', period = survey_scenario.year) / 1e6).round(2))"
   ]
  },
  {
   "cell_type": "code",
   "execution_count": 12,
   "metadata": {},
   "outputs": [
    {
     "name": "stdout",
     "output_type": "stream",
     "text": [
      "In kind education tranfers\n",
      "pre_school_person: 0 billions FCFA\n",
      "pre_school: 0 billions FCFA\n",
      "primary_education_person: 119 billions FCFA\n",
      "primary_education: 119 billions FCFA\n",
      "secondary_education_person: 179 billions FCFA\n",
      "secondary_education: 179 billions FCFA\n",
      "tertiary_education_person: 16 billions FCFA\n",
      "tertiary_education: 16 billions FCFA\n",
      "education_net_transfers: 314 billions FCFA\n"
     ]
    }
   ],
   "source": [
    "variables = [\n",
    "    'pre_school_person',\n",
    "    'pre_school',\n",
    "    'primary_education_person',\n",
    "    'primary_education',\n",
    "    'secondary_education_person',\n",
    "    'secondary_education',\n",
    "    'tertiary_education_person',\n",
    "    'tertiary_education',\n",
    "    'education_net_transfers',\n",
    "    ]\n",
    "print(\"In kind education tranfers\")\n",
    "for variable in variables:\n",
    "    print(\n",
    "        \"{variable}: {aggregate} billions FCFA\".format(\n",
    "            variable = variable,\n",
    "            aggregate = int(round(survey_scenario.compute_aggregate(variable, period = survey_scenario.year) / 1e9))\n",
    "            )\n",
    "        )"
   ]
  },
  {
   "cell_type": "markdown",
   "metadata": {},
   "source": [
    "## Tax variables"
   ]
  },
  {
   "cell_type": "markdown",
   "metadata": {},
   "source": [
    "### Indirect tax variables"
   ]
  },
  {
   "cell_type": "code",
   "execution_count": 13,
   "metadata": {},
   "outputs": [
    {
     "data": {
      "text/plain": [
       "['depenses_ht_tva_exonere',\n",
       " 'depenses_ht_tva_taux_normal',\n",
       " 'depenses_ht_tva_taux_reduit',\n",
       " 'tva_taux_normal',\n",
       " 'tva_taux_reduit',\n",
       " 'tva',\n",
       " 'depenses_ht_hd_sd_droits_douane_biens_specifiques',\n",
       " 'depenses_ht_hd_sd_droits_douane_consommation_finale',\n",
       " 'depenses_ht_hd_sd_droits_douane_consommation_intermediaire',\n",
       " 'depenses_ht_hd_sd_droits_douane_equipements',\n",
       " 'depenses_ht_hd_sd_droits_douane_exonere',\n",
       " 'droits_douane_biens_specifiques',\n",
       " 'droits_douane_consommation_finale',\n",
       " 'droits_douane_consommation_intermediaire',\n",
       " 'droits_douane_equipements',\n",
       " 'droits_douane']"
      ]
     },
     "execution_count": 13,
     "metadata": {},
     "output_type": "execute_result"
    }
   ],
   "source": [
    "indirect_tax_variables = [\n",
    "    variable \n",
    "    for tax in indirect_tax_by_country[country]\n",
    "    for variable in survey_scenario.tax_benefit_system.variables.keys() \n",
    "    if tax in variable \n",
    "    ]\n",
    "indirect_tax_variables"
   ]
  },
  {
   "cell_type": "code",
   "execution_count": 14,
   "metadata": {},
   "outputs": [
    {
     "data": {
      "text/html": [
       "<div>\n",
       "<style scoped>\n",
       "    .dataframe tbody tr th:only-of-type {\n",
       "        vertical-align: middle;\n",
       "    }\n",
       "\n",
       "    .dataframe tbody tr th {\n",
       "        vertical-align: top;\n",
       "    }\n",
       "\n",
       "    .dataframe thead th {\n",
       "        text-align: right;\n",
       "    }\n",
       "</style>\n",
       "<table border=\"1\" class=\"dataframe\">\n",
       "  <thead>\n",
       "    <tr style=\"text-align: right;\">\n",
       "      <th></th>\n",
       "      <th>aggregate</th>\n",
       "    </tr>\n",
       "  </thead>\n",
       "  <tbody>\n",
       "    <tr>\n",
       "      <th>depenses_ht_tva_exonere</th>\n",
       "      <td>1198.142702</td>\n",
       "    </tr>\n",
       "    <tr>\n",
       "      <th>depenses_ht_tva_taux_normal</th>\n",
       "      <td>1237.370484</td>\n",
       "    </tr>\n",
       "    <tr>\n",
       "      <th>depenses_ht_tva_taux_reduit</th>\n",
       "      <td>0.400286</td>\n",
       "    </tr>\n",
       "    <tr>\n",
       "      <th>tva_taux_normal</th>\n",
       "      <td>222.726696</td>\n",
       "    </tr>\n",
       "    <tr>\n",
       "      <th>tva_taux_reduit</th>\n",
       "      <td>0.020014</td>\n",
       "    </tr>\n",
       "    <tr>\n",
       "      <th>tva</th>\n",
       "      <td>222.746710</td>\n",
       "    </tr>\n",
       "    <tr>\n",
       "      <th>depenses_ht_hd_sd_droits_douane_biens_specifiques</th>\n",
       "      <td>2.515678</td>\n",
       "    </tr>\n",
       "    <tr>\n",
       "      <th>depenses_ht_hd_sd_droits_douane_consommation_finale</th>\n",
       "      <td>81.878732</td>\n",
       "    </tr>\n",
       "    <tr>\n",
       "      <th>depenses_ht_hd_sd_droits_douane_consommation_intermediaire</th>\n",
       "      <td>71.174672</td>\n",
       "    </tr>\n",
       "    <tr>\n",
       "      <th>depenses_ht_hd_sd_droits_douane_equipements</th>\n",
       "      <td>5.955310</td>\n",
       "    </tr>\n",
       "    <tr>\n",
       "      <th>depenses_ht_hd_sd_droits_douane_exonere</th>\n",
       "      <td>180.565135</td>\n",
       "    </tr>\n",
       "    <tr>\n",
       "      <th>droits_douane_biens_specifiques</th>\n",
       "      <td>0.880487</td>\n",
       "    </tr>\n",
       "    <tr>\n",
       "      <th>droits_douane_consommation_finale</th>\n",
       "      <td>16.375747</td>\n",
       "    </tr>\n",
       "    <tr>\n",
       "      <th>droits_douane_consommation_intermediaire</th>\n",
       "      <td>7.117467</td>\n",
       "    </tr>\n",
       "    <tr>\n",
       "      <th>droits_douane_equipements</th>\n",
       "      <td>0.297765</td>\n",
       "    </tr>\n",
       "    <tr>\n",
       "      <th>droits_douane</th>\n",
       "      <td>24.671467</td>\n",
       "    </tr>\n",
       "  </tbody>\n",
       "</table>\n",
       "</div>"
      ],
      "text/plain": [
       "                                                      aggregate\n",
       "depenses_ht_tva_exonere                             1198.142702\n",
       "depenses_ht_tva_taux_normal                         1237.370484\n",
       "depenses_ht_tva_taux_reduit                            0.400286\n",
       "tva_taux_normal                                      222.726696\n",
       "tva_taux_reduit                                        0.020014\n",
       "tva                                                  222.746710\n",
       "depenses_ht_hd_sd_droits_douane_biens_specifiques      2.515678\n",
       "depenses_ht_hd_sd_droits_douane_consommation_fi...    81.878732\n",
       "depenses_ht_hd_sd_droits_douane_consommation_in...    71.174672\n",
       "depenses_ht_hd_sd_droits_douane_equipements            5.955310\n",
       "depenses_ht_hd_sd_droits_douane_exonere              180.565135\n",
       "droits_douane_biens_specifiques                        0.880487\n",
       "droits_douane_consommation_finale                     16.375747\n",
       "droits_douane_consommation_intermediaire               7.117467\n",
       "droits_douane_equipements                              0.297765\n",
       "droits_douane                                         24.671467"
      ]
     },
     "execution_count": 14,
     "metadata": {},
     "output_type": "execute_result"
    }
   ],
   "source": [
    "taxes_and_tariffs = pd.DataFrame(\n",
    "    index = indirect_tax_variables,\n",
    "    columns = ['aggregate'],\n",
    "    data = [\n",
    "        survey_scenario.compute_aggregate(variable, period = year) / 1e9 \n",
    "        for variable in indirect_tax_variables\n",
    "        ]\n",
    "    )\n",
    "taxes_and_tariffs"
   ]
  },
  {
   "cell_type": "markdown",
   "metadata": {},
   "source": [
    "### Verify consumption"
   ]
  },
  {
   "cell_type": "code",
   "execution_count": 15,
   "metadata": {},
   "outputs": [
    {
     "data": {
      "text/plain": [
       "2660.366454972495"
      ]
     },
     "execution_count": 15,
     "metadata": {},
     "output_type": "execute_result"
    }
   ],
   "source": [
    "consumption = survey_scenario.compute_aggregate('consumption', period = year) / 1e9\n",
    "consumption"
   ]
  },
  {
   "cell_type": "code",
   "execution_count": 16,
   "metadata": {},
   "outputs": [
    {
     "data": {
      "text/plain": [
       "2658.660183077919"
      ]
     },
     "execution_count": 16,
     "metadata": {},
     "output_type": "execute_result"
    }
   ],
   "source": [
    "# assert consumption == \n",
    "sum(taxes_and_tariffs['aggregate'][\n",
    "    taxes_and_tariffs.index.str.contains('tva_')\n",
    "    ])"
   ]
  },
  {
   "cell_type": "code",
   "execution_count": 17,
   "metadata": {},
   "outputs": [
    {
     "data": {
      "text/plain": [
       "2655.8128742245294"
      ]
     },
     "execution_count": 17,
     "metadata": {},
     "output_type": "execute_result"
    }
   ],
   "source": [
    "# assert consumption == \n",
    "(\n",
    "    sum(\n",
    "        survey_scenario.compute_aggregate(variable, period = year)\n",
    "        for variable in survey_scenario.tax_benefit_system.variables\n",
    "        if \"depenses_ht_hd_poste\" in variable \n",
    "        ) \n",
    "    + survey_scenario.compute_aggregate(\"droits_douane\", period = year)\n",
    "    + survey_scenario.compute_aggregate(\"tva\", period = year)\n",
    "    ) / 1e9"
   ]
  },
  {
   "cell_type": "markdown",
   "metadata": {},
   "source": [
    "# Inflate incomes   "
   ]
  },
  {
   "cell_type": "markdown",
   "metadata": {},
   "source": [
    "## Income variables"
   ]
  },
  {
   "cell_type": "code",
   "execution_count": 18,
   "metadata": {},
   "outputs": [],
   "source": [
    "income_variables = [\n",
    "    'autoconsumption',\n",
    "    'other_income',\n",
    "    'gifts_sales_durables',\n",
    "    'imputed_rent',\n",
    "    'revenu_agricole',\n",
    "    'autres_revenus_du_capital',\n",
    "    'revenu_informel_non_salarie',\n",
    "    'revenu_non_salarie',\n",
    "    'revenu_locatif',\n",
    "    'pension_retraite',\n",
    "    'salaire_super_brut',\n",
    "    ]"
   ]
  },
  {
   "cell_type": "code",
   "execution_count": 19,
   "metadata": {},
   "outputs": [
    {
     "data": {
      "text/plain": [
       "1982.0023621762382"
      ]
     },
     "execution_count": 19,
     "metadata": {},
     "output_type": "execute_result"
    }
   ],
   "source": [
    "sum(\n",
    "    survey_scenario.compute_aggregate(income_variable, period = year)\n",
    "    for income_variable in income_variables\n",
    "    ) / 1e9"
   ]
  },
  {
   "cell_type": "code",
   "execution_count": 20,
   "metadata": {},
   "outputs": [
    {
     "name": "stderr",
     "output_type": "stream",
     "text": [
      "/home/benjello/.virtualenvs/openfisca-ceq/local/lib/python3.7/site-packages/pandas/core/frame.py:4153: SettingWithCopyWarning: \n",
      "A value is trying to be set on a copy of a slice from a DataFrame\n",
      "\n",
      "See the caveats in the documentation: https://pandas.pydata.org/pandas-docs/stable/user_guide/indexing.html#returning-a-view-versus-a-copy\n",
      "  downcast=downcast,\n",
      "/home/benjello/.virtualenvs/openfisca-ceq/local/lib/python3.7/site-packages/openfisca_core/holders.py:178: Warning: You cannot set a value for the variable autres_revenus_du_capital, as it has been neutralized. The value you provided ([0. 0. 0. ... 0. 0. 0.]) will be ignored.\n",
      "  Warning\n",
      "/home/benjello/.virtualenvs/openfisca-ceq/local/lib/python3.7/site-packages/openfisca_core/holders.py:178: Warning: You cannot set a value for the variable revenu_locatif, as it has been neutralized. The value you provided ([0. 0. 0. ... 0. 0. 0.]) will be ignored.\n",
      "  Warning\n",
      "/home/benjello/.virtualenvs/openfisca-ceq/local/lib/python3.7/site-packages/openfisca_core/holders.py:178: Warning: You cannot set a value for the variable pension_retraite, as it has been neutralized. The value you provided ([0. 0. 0. ... 0. 0. 0.]) will be ignored.\n",
      "  Warning\n"
     ]
    }
   ],
   "source": [
    "inflated_survey_scenario = build_ceq_survey_scenario(\n",
    "    legislation_country = country, \n",
    "    year = year,\n",
    "    inflate = True,\n",
    "    income_variables = income_variables\n",
    "    )"
   ]
  },
  {
   "cell_type": "code",
   "execution_count": 21,
   "metadata": {},
   "outputs": [
    {
     "data": {
      "text/plain": [
       "4560.611296179418"
      ]
     },
     "execution_count": 21,
     "metadata": {},
     "output_type": "execute_result"
    }
   ],
   "source": [
    "sum(\n",
    "    inflated_survey_scenario.compute_aggregate(income_variable, period = year)\n",
    "    for income_variable in income_variables\n",
    "    ) / 1e9"
   ]
  },
  {
   "cell_type": "markdown",
   "metadata": {},
   "source": [
    "# Indicators"
   ]
  },
  {
   "cell_type": "code",
   "execution_count": 27,
   "metadata": {},
   "outputs": [
    {
     "data": {
      "text/html": [
       "<div>\n",
       "<style scoped>\n",
       "    .dataframe tbody tr th:only-of-type {\n",
       "        vertical-align: middle;\n",
       "    }\n",
       "\n",
       "    .dataframe tbody tr th {\n",
       "        vertical-align: top;\n",
       "    }\n",
       "\n",
       "    .dataframe thead th {\n",
       "        text-align: right;\n",
       "    }\n",
       "</style>\n",
       "<table border=\"1\" class=\"dataframe\">\n",
       "  <thead>\n",
       "    <tr style=\"text-align: right;\">\n",
       "      <th></th>\n",
       "      <th>market_income</th>\n",
       "      <th>market_income_plus_pensions</th>\n",
       "      <th>gross_income</th>\n",
       "      <th>disposable_income</th>\n",
       "      <th>consumable_income</th>\n",
       "      <th>final_income</th>\n",
       "    </tr>\n",
       "  </thead>\n",
       "  <tbody>\n",
       "    <tr>\n",
       "      <th>Gini</th>\n",
       "      <td>0.56</td>\n",
       "      <td>0.56</td>\n",
       "      <td>0.56</td>\n",
       "      <td>0.56</td>\n",
       "      <td>0.61</td>\n",
       "      <td>0.56</td>\n",
       "    </tr>\n",
       "    <tr>\n",
       "      <th>Bottom 40 %</th>\n",
       "      <td>0.09</td>\n",
       "      <td>0.09</td>\n",
       "      <td>0.09</td>\n",
       "      <td>0.09</td>\n",
       "      <td>0.06</td>\n",
       "      <td>0.08</td>\n",
       "    </tr>\n",
       "    <tr>\n",
       "      <th>Top 10 %</th>\n",
       "      <td>0.42</td>\n",
       "      <td>0.42</td>\n",
       "      <td>0.42</td>\n",
       "      <td>0.42</td>\n",
       "      <td>0.45</td>\n",
       "      <td>0.41</td>\n",
       "    </tr>\n",
       "  </tbody>\n",
       "</table>\n",
       "</div>"
      ],
      "text/plain": [
       "             market_income  market_income_plus_pensions  gross_income  \\\n",
       "Gini                  0.56                         0.56          0.56   \n",
       "Bottom 40 %           0.09                         0.09          0.09   \n",
       "Top 10 %              0.42                         0.42          0.42   \n",
       "\n",
       "             disposable_income  consumable_income  final_income  \n",
       "Gini                      0.56               0.61          0.56  \n",
       "Bottom 40 %               0.09               0.06          0.08  \n",
       "Top 10 %                  0.42               0.45          0.41  "
      ]
     },
     "execution_count": 27,
     "metadata": {},
     "output_type": "execute_result"
    }
   ],
   "source": [
    "from openfisca_survey_manager.statshelpers import gini, bottom_share, top_share\n",
    "variables = [\n",
    "    \"market_income\", \n",
    "    \"market_income_plus_pensions\",\n",
    "    \"gross_income\",\n",
    "    \"disposable_income\",\n",
    "    \"consumable_income\", \n",
    "    \"final_income\",\n",
    "    ]\n",
    "variable = \"market_income\"\n",
    "weights = survey_scenario.calculate_variable(\"household_weight\", period = year)\n",
    "BOTTOM_SHARE = .4\n",
    "TOP_SHARE = .1\n",
    "pd.DataFrame.from_dict(\n",
    "    dict([\n",
    "        (\n",
    "            variable, \n",
    "            {\n",
    "                \"Gini\": gini(survey_scenario.calculate_variable(variable, period = year), weights),\n",
    "                \"Bottom 40 %\": bottom_share(survey_scenario.calculate_variable(variable, period = year), BOTTOM_SHARE, weights = weights),\n",
    "                \"Top 10 %\": top_share(survey_scenario.calculate_variable(variable, period = year), TOP_SHARE, weights = weights),\n",
    "                }\n",
    "            ) \n",
    "        for variable in variables\n",
    "        ])\n",
    "    ).round(2)"
   ]
  },
  {
   "cell_type": "code",
   "execution_count": 31,
   "metadata": {},
   "outputs": [
    {
     "data": {
      "text/plain": [
       "247.4181770891283"
      ]
     },
     "execution_count": 31,
     "metadata": {},
     "output_type": "execute_result"
    }
   ],
   "source": [
    "survey_scenario.compute_aggregate(\"impots_indirects\", period = year) / 1e9"
   ]
  },
  {
   "cell_type": "code",
   "execution_count": 33,
   "metadata": {},
   "outputs": [
    {
     "data": {
      "text/plain": [
       "0.0"
      ]
     },
     "execution_count": 33,
     "metadata": {},
     "output_type": "execute_result"
    }
   ],
   "source": [
    "survey_scenario.compute_aggregate(\"direct_taxes\", period = year) / 1e9"
   ]
  },
  {
   "cell_type": "code",
   "execution_count": null,
   "metadata": {},
   "outputs": [],
   "source": []
  }
 ],
 "metadata": {
  "kernelspec": {
   "display_name": "Python 3",
   "language": "python",
   "name": "python3"
  },
  "language_info": {
   "codemirror_mode": {
    "name": "ipython",
    "version": 3
   },
   "file_extension": ".py",
   "mimetype": "text/x-python",
   "name": "python",
   "nbconvert_exporter": "python",
   "pygments_lexer": "ipython3",
   "version": "3.7.3"
  }
 },
 "nbformat": 4,
 "nbformat_minor": 4
}
