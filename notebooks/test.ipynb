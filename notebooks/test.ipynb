{
 "cells": [
  {
   "cell_type": "code",
   "execution_count": 1,
   "metadata": {},
   "outputs": [],
   "source": [
    "import pandas as pd\n",
    "from openfisca_ceq.tools.survey_scenario import build_ceq_survey_scenario\n",
    "from openfisca_ceq.tools.indirect_taxation.tax_benefit_system_indirect_taxation_completion import indirect_tax_by_country\n",
    "from openfisca_ceq.tools.data import year_by_country\n",
    "from openfisca_ceq.tools.data_ceq_correspondence import (\n",
    "    ceq_input_by_harmonized_variable,\n",
    "    ceq_intermediate_by_harmonized_variable,\n",
    "    non_ceq_input_by_harmonized_variable,\n",
    "    )"
   ]
  },
  {
   "cell_type": "markdown",
   "metadata": {},
   "source": [
    "# Build country scenario"
   ]
  },
  {
   "cell_type": "markdown",
   "metadata": {},
   "source": [
    "## Country selection"
   ]
  },
  {
   "cell_type": "code",
   "execution_count": 2,
   "metadata": {
    "tags": [
     "parameters"
    ]
   },
   "outputs": [],
   "source": [
    "country = \"senegal\""
   ]
  },
  {
   "cell_type": "code",
   "execution_count": 3,
   "metadata": {},
   "outputs": [],
   "source": [
    "year = year_by_country[country]\n",
    "survey_scenario = build_ceq_survey_scenario(legislation_country = country, year = year)"
   ]
  },
  {
   "cell_type": "code",
   "execution_count": 4,
   "metadata": {},
   "outputs": [
    {
     "name": "stderr",
     "output_type": "stream",
     "text": [
      "ERROR:root:No traceback has been produced, nothing to debug.\n"
     ]
    }
   ],
   "source": [
    "%debug"
   ]
  },
  {
   "cell_type": "markdown",
   "metadata": {},
   "source": [
    "# Aggegates check"
   ]
  },
  {
   "cell_type": "markdown",
   "metadata": {},
   "source": [
    "## Income variables"
   ]
  },
  {
   "cell_type": "markdown",
   "metadata": {},
   "source": [
    "### Disagregated income variables"
   ]
  },
  {
   "cell_type": "code",
   "execution_count": 5,
   "metadata": {},
   "outputs": [
    {
     "data": {
      "text/plain": [
       "{'rev_i_autoconsommation': 'autoconsumption',\n",
       " 'rev_i_autres': 'other_income',\n",
       " 'rev_i_autres_transferts': 'gifts_sales_durables',\n",
       " 'rev_i_loyers_imputes': 'imputed_rent',\n",
       " 'rev_i_transferts_publics': 'direct_transfers',\n",
       " 'rev_i_agricoles': 'revenu_agricole',\n",
       " 'rev_i_autres_revenus_capital': 'autres_revenus_du_capital',\n",
       " 'rev_i_independants_Ntaxe': 'revenu_informel_non_salarie',\n",
       " 'rev_i_independants_taxe': 'revenu_non_salarie',\n",
       " 'rev_i_independants': 'revenu_non_salarie_total',\n",
       " 'rev_i_locatifs': 'revenu_locatif',\n",
       " 'rev_i_pensions': 'pension_retraite',\n",
       " 'rev_i_salaires_formels': 'salaire',\n",
       " 'rev_i_salaires_informels': 'revenu_informel_salarie',\n",
       " 'salaire_brut': 'salaire_brut',\n",
       " 'salaire_super_brut': 'salaire_super_brut'}"
      ]
     },
     "execution_count": 5,
     "metadata": {},
     "output_type": "execute_result"
    }
   ],
   "source": [
    "ceq_by_harmonized_variable = dict()\n",
    "ceq_by_harmonized_variable.update(ceq_input_by_harmonized_variable)\n",
    "ceq_by_harmonized_variable.update(ceq_intermediate_by_harmonized_variable)\n",
    "ceq_by_harmonized_variable.update(non_ceq_input_by_harmonized_variable)\n",
    "ceq_by_harmonized_variable['salaire_brut'] = 'salaire_brut'\n",
    "ceq_by_harmonized_variable['salaire_super_brut'] = 'salaire_super_brut'\n",
    "ceq_by_harmonized_variable"
   ]
  },
  {
   "cell_type": "code",
   "execution_count": 6,
   "metadata": {},
   "outputs": [],
   "source": [
    "data = [\n",
    "    (harmonized_variable, openfisca_variable, survey_scenario.compute_aggregate(openfisca_variable, period = year) / 1e9) \n",
    "    for harmonized_variable, openfisca_variable in ceq_by_harmonized_variable.items()\n",
    "    ]"
   ]
  },
  {
   "cell_type": "code",
   "execution_count": 7,
   "metadata": {},
   "outputs": [
    {
     "data": {
      "text/html": [
       "<div>\n",
       "<style scoped>\n",
       "    .dataframe tbody tr th:only-of-type {\n",
       "        vertical-align: middle;\n",
       "    }\n",
       "\n",
       "    .dataframe tbody tr th {\n",
       "        vertical-align: top;\n",
       "    }\n",
       "\n",
       "    .dataframe thead th {\n",
       "        text-align: right;\n",
       "    }\n",
       "</style>\n",
       "<table border=\"1\" class=\"dataframe\">\n",
       "  <thead>\n",
       "    <tr style=\"text-align: right;\">\n",
       "      <th></th>\n",
       "      <th>harmonized</th>\n",
       "      <th>openfisca</th>\n",
       "      <th>aggregate</th>\n",
       "    </tr>\n",
       "  </thead>\n",
       "  <tbody>\n",
       "    <tr>\n",
       "      <th>0</th>\n",
       "      <td>rev_i_autoconsommation</td>\n",
       "      <td>autoconsumption</td>\n",
       "      <td>177.612081</td>\n",
       "    </tr>\n",
       "    <tr>\n",
       "      <th>1</th>\n",
       "      <td>rev_i_autres</td>\n",
       "      <td>other_income</td>\n",
       "      <td>148.573412</td>\n",
       "    </tr>\n",
       "    <tr>\n",
       "      <th>2</th>\n",
       "      <td>rev_i_autres_transferts</td>\n",
       "      <td>gifts_sales_durables</td>\n",
       "      <td>714.372789</td>\n",
       "    </tr>\n",
       "    <tr>\n",
       "      <th>3</th>\n",
       "      <td>rev_i_loyers_imputes</td>\n",
       "      <td>imputed_rent</td>\n",
       "      <td>370.875139</td>\n",
       "    </tr>\n",
       "    <tr>\n",
       "      <th>4</th>\n",
       "      <td>rev_i_transferts_publics</td>\n",
       "      <td>direct_transfers</td>\n",
       "      <td>23.617592</td>\n",
       "    </tr>\n",
       "    <tr>\n",
       "      <th>5</th>\n",
       "      <td>rev_i_agricoles</td>\n",
       "      <td>revenu_agricole</td>\n",
       "      <td>1135.833061</td>\n",
       "    </tr>\n",
       "    <tr>\n",
       "      <th>6</th>\n",
       "      <td>rev_i_autres_revenus_capital</td>\n",
       "      <td>autres_revenus_du_capital</td>\n",
       "      <td>13.176570</td>\n",
       "    </tr>\n",
       "    <tr>\n",
       "      <th>7</th>\n",
       "      <td>rev_i_independants_Ntaxe</td>\n",
       "      <td>revenu_informel_non_salarie</td>\n",
       "      <td>879.749895</td>\n",
       "    </tr>\n",
       "    <tr>\n",
       "      <th>8</th>\n",
       "      <td>rev_i_independants_taxe</td>\n",
       "      <td>revenu_non_salarie</td>\n",
       "      <td>263.300259</td>\n",
       "    </tr>\n",
       "    <tr>\n",
       "      <th>9</th>\n",
       "      <td>rev_i_independants</td>\n",
       "      <td>revenu_non_salarie_total</td>\n",
       "      <td>1143.050154</td>\n",
       "    </tr>\n",
       "    <tr>\n",
       "      <th>10</th>\n",
       "      <td>rev_i_locatifs</td>\n",
       "      <td>revenu_locatif</td>\n",
       "      <td>53.507361</td>\n",
       "    </tr>\n",
       "    <tr>\n",
       "      <th>11</th>\n",
       "      <td>rev_i_pensions</td>\n",
       "      <td>pension_retraite</td>\n",
       "      <td>58.115934</td>\n",
       "    </tr>\n",
       "    <tr>\n",
       "      <th>12</th>\n",
       "      <td>rev_i_salaires_formels</td>\n",
       "      <td>salaire</td>\n",
       "      <td>617.990184</td>\n",
       "    </tr>\n",
       "    <tr>\n",
       "      <th>13</th>\n",
       "      <td>rev_i_salaires_informels</td>\n",
       "      <td>revenu_informel_salarie</td>\n",
       "      <td>767.218408</td>\n",
       "    </tr>\n",
       "    <tr>\n",
       "      <th>14</th>\n",
       "      <td>salaire_brut</td>\n",
       "      <td>salaire_brut</td>\n",
       "      <td>910.407348</td>\n",
       "    </tr>\n",
       "    <tr>\n",
       "      <th>15</th>\n",
       "      <td>salaire_super_brut</td>\n",
       "      <td>salaire_super_brut</td>\n",
       "      <td>975.469877</td>\n",
       "    </tr>\n",
       "  </tbody>\n",
       "</table>\n",
       "</div>"
      ],
      "text/plain": [
       "                      harmonized                    openfisca    aggregate\n",
       "0         rev_i_autoconsommation              autoconsumption   177.612081\n",
       "1                   rev_i_autres                 other_income   148.573412\n",
       "2        rev_i_autres_transferts         gifts_sales_durables   714.372789\n",
       "3           rev_i_loyers_imputes                 imputed_rent   370.875139\n",
       "4       rev_i_transferts_publics             direct_transfers    23.617592\n",
       "5                rev_i_agricoles              revenu_agricole  1135.833061\n",
       "6   rev_i_autres_revenus_capital    autres_revenus_du_capital    13.176570\n",
       "7       rev_i_independants_Ntaxe  revenu_informel_non_salarie   879.749895\n",
       "8        rev_i_independants_taxe           revenu_non_salarie   263.300259\n",
       "9             rev_i_independants     revenu_non_salarie_total  1143.050154\n",
       "10                rev_i_locatifs               revenu_locatif    53.507361\n",
       "11                rev_i_pensions             pension_retraite    58.115934\n",
       "12        rev_i_salaires_formels                      salaire   617.990184\n",
       "13      rev_i_salaires_informels      revenu_informel_salarie   767.218408\n",
       "14                  salaire_brut                 salaire_brut   910.407348\n",
       "15            salaire_super_brut           salaire_super_brut   975.469877"
      ]
     },
     "execution_count": 7,
     "metadata": {},
     "output_type": "execute_result"
    }
   ],
   "source": [
    "revenus = pd.DataFrame(data, columns = [\"harmonized\", \"openfisca\", \"aggregate\"])\n",
    "revenus"
   ]
  },
  {
   "cell_type": "markdown",
   "metadata": {},
   "source": [
    "### Agregated income variables"
   ]
  },
  {
   "cell_type": "markdown",
   "metadata": {},
   "source": [
    "#### CEQ agregated income variables"
   ]
  },
  {
   "cell_type": "code",
   "execution_count": 8,
   "metadata": {},
   "outputs": [],
   "source": [
    "ceq_variables = [\"market_income\", \"market_income_plus_pensions\", \"pensions\", \"contributions_pensions\", \"net_market_income\", \"direct_taxes\", \"other_contributions\", \"contributions_health\", ]"
   ]
  },
  {
   "cell_type": "code",
   "execution_count": 9,
   "metadata": {},
   "outputs": [
    {
     "data": {
      "text/html": [
       "<div>\n",
       "<style scoped>\n",
       "    .dataframe tbody tr th:only-of-type {\n",
       "        vertical-align: middle;\n",
       "    }\n",
       "\n",
       "    .dataframe tbody tr th {\n",
       "        vertical-align: top;\n",
       "    }\n",
       "\n",
       "    .dataframe thead th {\n",
       "        text-align: right;\n",
       "    }\n",
       "</style>\n",
       "<table border=\"1\" class=\"dataframe\">\n",
       "  <thead>\n",
       "    <tr style=\"text-align: right;\">\n",
       "      <th></th>\n",
       "      <th>aggregate</th>\n",
       "    </tr>\n",
       "  </thead>\n",
       "  <tbody>\n",
       "    <tr>\n",
       "      <th>market_income</th>\n",
       "      <td>5499.688852</td>\n",
       "    </tr>\n",
       "    <tr>\n",
       "      <th>market_income_plus_pensions</th>\n",
       "      <td>5486.654636</td>\n",
       "    </tr>\n",
       "    <tr>\n",
       "      <th>pensions</th>\n",
       "      <td>58.115934</td>\n",
       "    </tr>\n",
       "    <tr>\n",
       "      <th>contributions_pensions</th>\n",
       "      <td>71.150155</td>\n",
       "    </tr>\n",
       "    <tr>\n",
       "      <th>net_market_income</th>\n",
       "      <td>5476.635829</td>\n",
       "    </tr>\n",
       "    <tr>\n",
       "      <th>direct_taxes</th>\n",
       "      <td>0.000000</td>\n",
       "    </tr>\n",
       "    <tr>\n",
       "      <th>other_contributions</th>\n",
       "      <td>12.353628</td>\n",
       "    </tr>\n",
       "    <tr>\n",
       "      <th>contributions_health</th>\n",
       "      <td>10.018809</td>\n",
       "    </tr>\n",
       "  </tbody>\n",
       "</table>\n",
       "</div>"
      ],
      "text/plain": [
       "                               aggregate\n",
       "market_income                5499.688852\n",
       "market_income_plus_pensions  5486.654636\n",
       "pensions                       58.115934\n",
       "contributions_pensions         71.150155\n",
       "net_market_income            5476.635829\n",
       "direct_taxes                    0.000000\n",
       "other_contributions            12.353628\n",
       "contributions_health           10.018809"
      ]
     },
     "execution_count": 9,
     "metadata": {},
     "output_type": "execute_result"
    }
   ],
   "source": [
    "ceq_aggregates = pd.DataFrame(\n",
    "    index = ceq_variables,\n",
    "    columns = ['aggregate'],\n",
    "    data = [\n",
    "        survey_scenario.compute_aggregate(ceq_variable, period = year) / 1e9 \n",
    "        for ceq_variable in ceq_variables\n",
    "        ]\n",
    "    )\n",
    "ceq_aggregates"
   ]
  },
  {
   "cell_type": "markdown",
   "metadata": {},
   "source": [
    "#### Direct check"
   ]
  },
  {
   "cell_type": "code",
   "execution_count": 10,
   "metadata": {},
   "outputs": [],
   "source": [
    "income_components_summed_in_total = list(ceq_by_harmonized_variable.values()) \n",
    "income_components_summed_in_total.remove(\"revenu_non_salarie_total\")\n",
    "income_components_summed_in_total.remove(\"direct_transfers\")\n",
    "income_components_summed_in_total.remove(\"salaire\")\n",
    "income_components_summed_in_total.remove(\"salaire_brut\")\n",
    "total_income = sum(\n",
    "    survey_scenario.compute_aggregate(income_component, period = survey_scenario.year) \n",
    "    for income_component in income_components_summed_in_total\n",
    "    ) \n",
    "total_income = (\n",
    "    total_income \n",
    "    - survey_scenario.compute_aggregate(\"contributions_pensions\", period = survey_scenario.year)\n",
    "    )/ 1e9\n"
   ]
  },
  {
   "cell_type": "code",
   "execution_count": 11,
   "metadata": {},
   "outputs": [],
   "source": [
    "from numpy.testing import assert_almost_equal\n",
    "assert_almost_equal(ceq_aggregates.loc['market_income_plus_pensions'].values, total_income, decimal = 5) \n",
    "# print('market_income_plus_pensions = {} vs {} = total_income'.format(\n",
    "#         ceq_aggregates.loc['market_income_plus_pensions'].values,\n",
    "#         total_income\n",
    "#         )\n",
    "#     )\n"
   ]
  },
  {
   "cell_type": "markdown",
   "metadata": {},
   "source": [
    "## Education variables"
   ]
  },
  {
   "cell_type": "markdown",
   "metadata": {},
   "source": [
    "### Counts (in millions)"
   ]
  },
  {
   "cell_type": "code",
   "execution_count": 12,
   "metadata": {},
   "outputs": [
    {
     "name": "stdout",
     "output_type": "stream",
     "text": [
      "eleve_enseignement_niveau   -1.0   0.0   1.0   2.0   3.0\n",
      "eleve_enseignement_public                               \n",
      "0.0                        10.61  0.11  0.33  0.18  0.05\n",
      "1.0                         0.01  0.04  1.43  0.84  0.05\n"
     ]
    }
   ],
   "source": [
    "print((survey_scenario.compute_pivot_table(columns = ['eleve_enseignement_niveau'], index = ['eleve_enseignement_public'], aggfunc = 'count', period = survey_scenario.year) / 1e6).round(2))"
   ]
  },
  {
   "cell_type": "code",
   "execution_count": 13,
   "metadata": {},
   "outputs": [
    {
     "name": "stdout",
     "output_type": "stream",
     "text": [
      "In kind education tranfers\n",
      "pre_school_person: 1 billions FCFA\n",
      "pre_school: 1 billions FCFA\n",
      "primary_education_person: 190 billions FCFA\n",
      "primary_education: 190 billions FCFA\n",
      "secondary_education_person: 141 billions FCFA\n",
      "secondary_education: 141 billions FCFA\n",
      "tertiary_education_person: 104 billions FCFA\n",
      "tertiary_education: 104 billions FCFA\n",
      "education_net_transfers: 436 billions FCFA\n"
     ]
    }
   ],
   "source": [
    "variables = [\n",
    "    'pre_school_person',\n",
    "    'pre_school',\n",
    "    'primary_education_person',\n",
    "    'primary_education',\n",
    "    'secondary_education_person',\n",
    "    'secondary_education',\n",
    "    'tertiary_education_person',\n",
    "    'tertiary_education',\n",
    "    'education_net_transfers',\n",
    "    ]\n",
    "print(\"In kind education tranfers\")\n",
    "for variable in variables:\n",
    "    print(\n",
    "        \"{variable}: {aggregate} billions FCFA\".format(\n",
    "            variable = variable,\n",
    "            aggregate = int(round(survey_scenario.compute_aggregate(variable, period = survey_scenario.year) / 1e9))\n",
    "            )\n",
    "        )"
   ]
  },
  {
   "cell_type": "markdown",
   "metadata": {},
   "source": [
    "## Tax variables"
   ]
  },
  {
   "cell_type": "markdown",
   "metadata": {},
   "source": [
    "### Indirect tax variables"
   ]
  },
  {
   "cell_type": "code",
   "execution_count": 14,
   "metadata": {},
   "outputs": [
    {
     "data": {
      "text/plain": [
       "['depenses_ht_tva_exonere',\n",
       " 'depenses_ht_tva_taux_normal',\n",
       " 'tva_taux_normal',\n",
       " 'tva',\n",
       " 'depenses_ht_hd_sd_droits_douane_consommation_finale',\n",
       " 'depenses_ht_hd_sd_droits_douane_consommation_intermediaire',\n",
       " 'depenses_ht_hd_sd_droits_douane_equipements',\n",
       " 'depenses_ht_hd_sd_droits_douane_exonere',\n",
       " 'droits_douane_consommation_finale',\n",
       " 'droits_douane_consommation_intermediaire',\n",
       " 'droits_douane_equipements',\n",
       " 'droits_douane']"
      ]
     },
     "execution_count": 14,
     "metadata": {},
     "output_type": "execute_result"
    }
   ],
   "source": [
    "indirect_tax_variables = [\n",
    "    variable \n",
    "    for tax in indirect_tax_by_country[country]\n",
    "    for variable in survey_scenario.tax_benefit_system.variables.keys() \n",
    "    if tax in variable \n",
    "    ]\n",
    "indirect_tax_variables"
   ]
  },
  {
   "cell_type": "code",
   "execution_count": 15,
   "metadata": {},
   "outputs": [
    {
     "data": {
      "text/html": [
       "<div>\n",
       "<style scoped>\n",
       "    .dataframe tbody tr th:only-of-type {\n",
       "        vertical-align: middle;\n",
       "    }\n",
       "\n",
       "    .dataframe tbody tr th {\n",
       "        vertical-align: top;\n",
       "    }\n",
       "\n",
       "    .dataframe thead th {\n",
       "        text-align: right;\n",
       "    }\n",
       "</style>\n",
       "<table border=\"1\" class=\"dataframe\">\n",
       "  <thead>\n",
       "    <tr style=\"text-align: right;\">\n",
       "      <th></th>\n",
       "      <th>aggregate</th>\n",
       "    </tr>\n",
       "  </thead>\n",
       "  <tbody>\n",
       "    <tr>\n",
       "      <th>depenses_ht_tva_exonere</th>\n",
       "      <td>1494.303603</td>\n",
       "    </tr>\n",
       "    <tr>\n",
       "      <th>depenses_ht_tva_taux_normal</th>\n",
       "      <td>1826.199208</td>\n",
       "    </tr>\n",
       "    <tr>\n",
       "      <th>tva_taux_normal</th>\n",
       "      <td>328.715870</td>\n",
       "    </tr>\n",
       "    <tr>\n",
       "      <th>tva</th>\n",
       "      <td>328.715870</td>\n",
       "    </tr>\n",
       "    <tr>\n",
       "      <th>depenses_ht_hd_sd_droits_douane_consommation_finale</th>\n",
       "      <td>299.394852</td>\n",
       "    </tr>\n",
       "    <tr>\n",
       "      <th>depenses_ht_hd_sd_droits_douane_consommation_intermediaire</th>\n",
       "      <td>47.332280</td>\n",
       "    </tr>\n",
       "    <tr>\n",
       "      <th>depenses_ht_hd_sd_droits_douane_equipements</th>\n",
       "      <td>95.104198</td>\n",
       "    </tr>\n",
       "    <tr>\n",
       "      <th>depenses_ht_hd_sd_droits_douane_exonere</th>\n",
       "      <td>62.670252</td>\n",
       "    </tr>\n",
       "    <tr>\n",
       "      <th>droits_douane_consommation_finale</th>\n",
       "      <td>59.878971</td>\n",
       "    </tr>\n",
       "    <tr>\n",
       "      <th>droits_douane_consommation_intermediaire</th>\n",
       "      <td>4.733228</td>\n",
       "    </tr>\n",
       "    <tr>\n",
       "      <th>droits_douane_equipements</th>\n",
       "      <td>4.755210</td>\n",
       "    </tr>\n",
       "    <tr>\n",
       "      <th>droits_douane</th>\n",
       "      <td>69.367409</td>\n",
       "    </tr>\n",
       "  </tbody>\n",
       "</table>\n",
       "</div>"
      ],
      "text/plain": [
       "                                                      aggregate\n",
       "depenses_ht_tva_exonere                             1494.303603\n",
       "depenses_ht_tva_taux_normal                         1826.199208\n",
       "tva_taux_normal                                      328.715870\n",
       "tva                                                  328.715870\n",
       "depenses_ht_hd_sd_droits_douane_consommation_fi...   299.394852\n",
       "depenses_ht_hd_sd_droits_douane_consommation_in...    47.332280\n",
       "depenses_ht_hd_sd_droits_douane_equipements           95.104198\n",
       "depenses_ht_hd_sd_droits_douane_exonere               62.670252\n",
       "droits_douane_consommation_finale                     59.878971\n",
       "droits_douane_consommation_intermediaire               4.733228\n",
       "droits_douane_equipements                              4.755210\n",
       "droits_douane                                         69.367409"
      ]
     },
     "execution_count": 15,
     "metadata": {},
     "output_type": "execute_result"
    }
   ],
   "source": [
    "taxes_and_tariffs = pd.DataFrame(\n",
    "    index = indirect_tax_variables,\n",
    "    columns = ['aggregate'],\n",
    "    data = [\n",
    "        survey_scenario.compute_aggregate(variable, period = year) / 1e9 \n",
    "        for variable in indirect_tax_variables\n",
    "        ]\n",
    "    )\n",
    "taxes_and_tariffs"
   ]
  },
  {
   "cell_type": "markdown",
   "metadata": {},
   "source": [
    "### Verify consumption"
   ]
  },
  {
   "cell_type": "code",
   "execution_count": 16,
   "metadata": {},
   "outputs": [
    {
     "data": {
      "text/plain": [
       "3918.899325205826"
      ]
     },
     "execution_count": 16,
     "metadata": {},
     "output_type": "execute_result"
    }
   ],
   "source": [
    "consumption = survey_scenario.compute_aggregate('consumption', period = year) / 1e9\n",
    "consumption"
   ]
  },
  {
   "cell_type": "code",
   "execution_count": 17,
   "metadata": {},
   "outputs": [
    {
     "data": {
      "text/plain": [
       "3649.218682152954"
      ]
     },
     "execution_count": 17,
     "metadata": {},
     "output_type": "execute_result"
    }
   ],
   "source": [
    "# assert consumption == \n",
    "sum(taxes_and_tariffs['aggregate'][\n",
    "    taxes_and_tariffs.index.str.contains('tva_')\n",
    "    ])"
   ]
  },
  {
   "cell_type": "code",
   "execution_count": 18,
   "metadata": {},
   "outputs": [
    {
     "data": {
      "text/plain": [
       "3643.0982984962634"
      ]
     },
     "execution_count": 18,
     "metadata": {},
     "output_type": "execute_result"
    }
   ],
   "source": [
    "# assert consumption == \n",
    "(\n",
    "    sum(\n",
    "        survey_scenario.compute_aggregate(variable, period = year)\n",
    "        for variable in survey_scenario.tax_benefit_system.variables\n",
    "        if \"depenses_ht_hd_poste\" in variable \n",
    "        ) \n",
    "    + survey_scenario.compute_aggregate(\"droits_douane\", period = year)\n",
    "    + survey_scenario.compute_aggregate(\"tva\", period = year)\n",
    "    ) / 1e9"
   ]
  },
  {
   "cell_type": "code",
   "execution_count": 19,
   "metadata": {},
   "outputs": [
    {
     "data": {
      "text/plain": [
       "dict_keys(['household_weight', 'person_weight', 'age', 'date_naissance', 'est_cadre', 'est_celibataire', 'est_divorce', 'est_marie', 'est_veuf', 'nombre_enfants', 'statut_marital', 'benefices_non_salarie', 'conjoint_a_des_revenus', 'pension_retraite', 'salaire', 'salaire_brut', 'impots_indirects', 'impot_avant_reduction_famille', 'impot_revenus', 'nombre_de_parts', 'reduction_impots_pour_charge_famille', 'accidents_du_travail', 'cotisations_employeur', 'cotisations_salariales', 'famille', 'retraite_employeur', 'retraite_salarie', 'salaire_imposable', 'salaire_super_brut', 'sante_employeur', 'sante_salarie', 'contributions_health', 'contributions_pensions', 'employee_contributions_health', 'employee_contributions_pensions', 'employee_other_contributions', 'employer_contributions_health', 'employer_contributions_pensions', 'employer_other_contributions', 'other_contributions', 'self_employed_contributions_health', 'self_employed_contributions_pensions', 'self_employed_other_contributions', 'agricultural_inputs_subsidies', 'electricity_subsidies', 'food_subsidies', 'fuel_subsidies', 'indirect_subsidies', 'corporate_income_tax', 'customs_duties', 'direct_taxes', 'excise_taxes', 'indirect_taxes', 'other_taxes', 'payroll_tax', 'personal_income_tax', 'property_tax', 'sales_tax', 'value_added_tax', 'alimony', 'all_income_excluding_transfers', 'autoconsumption', 'consumable_income', 'disposable_income', 'final_income', 'gifts_sales_durables', 'gross_income', 'imputed_rent', 'market_income', 'market_income_plus_pensions', 'net_market_income', 'nontaxable_income', 'other_income', 'pensions', 'taxable_income', 'cash_transfers', 'direct_transfers', 'near_cash_transfers', 'noncontributory_pensions', 'social_assistance', 'social_insurance', 'education_net_transfers', 'health_contributory', 'health_copay_fees', 'health_in_patient', 'health_net_transfers', 'health_noncontributory', 'health_out_patient', 'housing_transfers', 'in_kind_transfers', 'post_secondary_education', 'pre_school', 'primary_education', 'school_fees', 'secondary_education', 'tertiary_education', 'revenu_informel_salarie', 'revenu_informel_non_salarie', 'revenu_agricole', 'revenu_non_salarie', 'autres_revenus_du_capital', 'revenu_locatif', 'revenu_non_salarie_total', 'eleve_enseignement_niveau', 'eleve_enseignement_public', 'pre_school_person', 'primary_education_person', 'secondary_education_person', 'tertiary_education_person', 'poste_1_1_1_1_1_item_1', 'poste_1_1_1_1_1_item_2', 'poste_1_1_1_4_1_item_1', 'poste_1_1_1_4_1_item_2', 'poste_1_1_1_4_1_item_3', 'poste_1_1_1_4_1_item_4', 'poste_1_1_1_4_1_item_5', 'poste_1_1_1_4_1_item_6', 'poste_1_1_1_4_1_item_7', 'poste_1_1_1_4_3_item_1', 'poste_1_1_1_4_3_item_2', 'poste_1_1_1_4_3_item_3', 'poste_1_1_2_item_1', 'poste_1_1_2_item_2', 'poste_1_1_2_item_3', 'poste_1_1_2_item_4', 'poste_1_1_2_item_5', 'poste_1_1_2_item_6', 'poste_1_1_3_item_1', 'poste_1_1_3_item_2', 'poste_1_1_3_item_3', 'poste_1_1_4_item_1', 'poste_1_1_4_item_2', 'poste_1_1_4_item_3', 'poste_1_1_4_item_4', 'poste_1_1_5_item_1', 'poste_1_1_5_item_2', 'poste_1_1_5_item_3', 'poste_1_1_5_item_4', 'poste_1_1_6', 'poste_1_1_7_item_1', 'poste_1_1_7_item_2', 'poste_1_1_7_item_3', 'poste_1_1_7_item_4', 'poste_1_1_7_item_5', 'poste_1_1_7_item_6', 'poste_1_1_7_item_7', 'poste_1_1_8_item_1', 'poste_1_1_8_item_2', 'poste_1_1_8_item_3', 'poste_1_1_9_item_1', 'poste_1_1_9_item_2', 'poste_1_1_9_item_3', 'poste_1_1_9_item_4', 'poste_1_2_item_1', 'poste_1_2_item_2', 'poste_1_2_item_3', 'poste_1_2_item_4', 'poste_1_2_item_5', 'poste_1_2_item_6', 'poste_2_1', 'poste_2_2', 'poste_3_1_2_item_1', 'poste_3_1_2_item_2', 'poste_3_1_2_item_3', 'poste_3_1_2_item_4', 'poste_3_2_1', 'poste_4_1_1_item_1', 'poste_4_1_1_item_2', 'poste_4_3_1_1_2_item_1', 'poste_4_3_1_1_2_item_2', 'poste_4_3_2_2_1_item_1', 'poste_4_3_2_2_1_item_2', 'poste_4_4_1_1_1_item_1', 'poste_4_4_1_1_1_item_2', 'poste_4_4_1_1_1_item_3', 'poste_4_4_1_2_1', 'poste_4_5_1_1_1_item_1', 'poste_4_5_1_1_1_item_2', 'poste_4_5_2_1_1_item_1', 'poste_4_5_2_1_1_item_2', 'poste_4_5_2_1_1_item_3', 'poste_4_5_2_1_1_item_4', 'poste_4_5_3_1_1', 'poste_4_5_4_1_1_item_1', 'poste_4_5_4_1_1_item_2', 'poste_5_1_item_1', 'poste_5_1_item_2', 'poste_5_1_item_3', 'poste_5_1_item_4', 'poste_5_1_item_5', 'poste_5_1_item_6', 'poste_5_1_item_7', 'poste_5_1_item_8', 'poste_5_1_item_9', 'poste_5_1_item_10', 'poste_5_1_item_11', 'poste_5_2_item_1', 'poste_5_2_item_2', 'poste_5_2_item_3', 'poste_5_3_1_item_1', 'poste_5_3_1_item_2', 'poste_5_3_1_item_3', 'poste_5_3_1_item_4', 'poste_5_3_1_item_5', 'poste_5_3_1_item_6', 'poste_5_3_1_item_7', 'poste_5_3_1_item_8', 'poste_5_3_1_item_9', 'poste_5_3_1_item_10', 'poste_5_3_1_item_11', 'poste_5_3_2_item_1', 'poste_5_3_2_item_2', 'poste_5_5_1_item_1', 'poste_5_5_1_item_2', 'poste_5_5_1_item_3', 'poste_5_5_1_item_4', 'poste_5_5_1_item_5', 'poste_5_5_1_item_6', 'poste_5_5_1_item_7', 'poste_5_5_1_item_8', 'poste_5_5_1_item_9', 'poste_5_5_1_item_10', 'poste_5_5_1_item_11', 'poste_5_5_1_item_12', 'poste_5_5_1_item_13', 'poste_5_5_1_1_1', 'poste_5_6_2_1_1', 'poste_6_1_1_item_1', 'poste_6_1_1_item_2', 'poste_6_1_1_item_3', 'poste_6_2_1_item_1', 'poste_6_2_1_item_2', 'poste_6_2_1_item_3', 'poste_6_2_1_item_4', 'poste_6_2_1_item_5', 'poste_6_2_1_item_6', 'poste_7_1_1_item_1', 'poste_7_1_1_item_2', 'poste_7_1_1_item_3', 'poste_7_1_2_item_1', 'poste_7_1_2_item_2', 'poste_7_2_2', 'poste_7_2_3_item_1', 'poste_7_2_3_item_2', 'poste_7_3_2_item_1', 'poste_7_3_2_item_2', 'poste_8_1_2_1_1_item_1', 'poste_8_1_2_1_1_item_2', 'poste_8_1_2_2_1_item_1', 'poste_8_1_2_2_1_item_2', 'poste_8_1_2_2_1_item_3', 'poste_8_1_2_2_1_item_4', 'poste_8_1_2_2_1_item_5', 'poste_9_1_1_1_2', 'poste_9_1_1_1_3', 'poste_9_1_1_1_4', 'poste_9_1_3_1_1', 'poste_9_2_1_1_2', 'poste_9_4', 'poste_9_4_2_3_1_item_1', 'poste_9_4_2_3_1_item_2', 'poste_9_5_1_1_3', 'poste_9_5_3_2_2', 'poste_10_1_1_1', 'poste_11_1_1_1_1', 'poste_12_1_3_item_1', 'poste_12_1_3_item_2', 'poste_12_3_1_1_item_1', 'poste_12_3_1_1_item_2', 'poste_12_7_1_item_1', 'poste_12_7_1_item_2', 'poste_12_7_1_2_1', 'poste_4_3', 'consumption', 'depenses_ht_hd_sd_poste_1_1_1_4_1_item_1', 'depenses_ht_hd_poste_1_1_1_4_1_item_1', 'depenses_ht_poste_1_1_1_4_1_item_1', 'depenses_ht_hd_sd_poste_1_1_1_4_1_item_2', 'depenses_ht_hd_poste_1_1_1_4_1_item_2', 'depenses_ht_poste_1_1_1_4_1_item_2', 'depenses_ht_hd_sd_poste_1_1_1_4_1_item_3', 'depenses_ht_hd_poste_1_1_1_4_1_item_3', 'depenses_ht_poste_1_1_1_4_1_item_3', 'depenses_ht_hd_sd_poste_1_1_1_4_1_item_6', 'depenses_ht_hd_poste_1_1_1_4_1_item_6', 'depenses_ht_poste_1_1_1_4_1_item_6', 'depenses_ht_hd_sd_poste_1_1_1_4_1_item_7', 'depenses_ht_hd_poste_1_1_1_4_1_item_7', 'depenses_ht_poste_1_1_1_4_1_item_7', 'depenses_ht_hd_sd_poste_1_1_1_4_3_item_1', 'depenses_ht_hd_poste_1_1_1_4_3_item_1', 'depenses_ht_poste_1_1_1_4_3_item_1', 'depenses_ht_hd_sd_poste_1_1_1_4_3_item_2', 'depenses_ht_hd_poste_1_1_1_4_3_item_2', 'depenses_ht_poste_1_1_1_4_3_item_2', 'depenses_ht_hd_sd_poste_1_1_1_4_3_item_3', 'depenses_ht_hd_poste_1_1_1_4_3_item_3', 'depenses_ht_poste_1_1_1_4_3_item_3', 'depenses_ht_hd_sd_poste_1_1_2_item_1', 'depenses_ht_hd_poste_1_1_2_item_1', 'depenses_ht_poste_1_1_2_item_1', 'depenses_ht_hd_sd_poste_1_1_2_item_3', 'depenses_ht_hd_poste_1_1_2_item_3', 'depenses_ht_poste_1_1_2_item_3', 'depenses_ht_hd_sd_poste_1_1_2_item_4', 'depenses_ht_hd_poste_1_1_2_item_4', 'depenses_ht_poste_1_1_2_item_4', 'depenses_ht_hd_sd_poste_1_1_2_item_6', 'depenses_ht_hd_poste_1_1_2_item_6', 'depenses_ht_poste_1_1_2_item_6', 'depenses_ht_hd_sd_poste_1_1_3_item_3', 'depenses_ht_hd_poste_1_1_3_item_3', 'depenses_ht_poste_1_1_3_item_3', 'depenses_ht_hd_sd_poste_1_1_6', 'depenses_ht_hd_poste_1_1_6', 'depenses_ht_poste_1_1_6', 'depenses_ht_hd_sd_poste_1_1_7_item_1', 'depenses_ht_hd_poste_1_1_7_item_1', 'depenses_ht_poste_1_1_7_item_1', 'depenses_ht_hd_sd_poste_1_1_7_item_2', 'depenses_ht_hd_poste_1_1_7_item_2', 'depenses_ht_poste_1_1_7_item_2', 'depenses_ht_hd_sd_poste_1_1_7_item_3', 'depenses_ht_hd_poste_1_1_7_item_3', 'depenses_ht_poste_1_1_7_item_3', 'depenses_ht_hd_sd_poste_1_1_7_item_5', 'depenses_ht_hd_poste_1_1_7_item_5', 'depenses_ht_poste_1_1_7_item_5', 'depenses_ht_hd_sd_poste_1_1_7_item_6', 'depenses_ht_hd_poste_1_1_7_item_6', 'depenses_ht_poste_1_1_7_item_6', 'depenses_ht_hd_sd_poste_1_1_7_item_7', 'depenses_ht_hd_poste_1_1_7_item_7', 'depenses_ht_poste_1_1_7_item_7', 'depenses_ht_hd_sd_poste_1_2_item_4', 'depenses_ht_hd_poste_1_2_item_4', 'depenses_ht_poste_1_2_item_4', 'depenses_ht_hd_sd_poste_1_2_item_5', 'depenses_ht_hd_poste_1_2_item_5', 'depenses_ht_poste_1_2_item_5', 'depenses_ht_hd_sd_poste_10_1_1_1', 'depenses_ht_hd_poste_10_1_1_1', 'depenses_ht_poste_10_1_1_1', 'depenses_ht_hd_sd_poste_12_7_1_2_1', 'depenses_ht_hd_poste_12_7_1_2_1', 'depenses_ht_poste_12_7_1_2_1', 'depenses_ht_hd_sd_poste_3_1_2_item_1', 'depenses_ht_hd_poste_3_1_2_item_1', 'depenses_ht_poste_3_1_2_item_1', 'depenses_ht_hd_sd_poste_4_1_1_item_1', 'depenses_ht_hd_poste_4_1_1_item_1', 'depenses_ht_poste_4_1_1_item_1', 'depenses_ht_hd_sd_poste_4_5_2_1_1_item_3', 'depenses_ht_hd_poste_4_5_2_1_1_item_3', 'depenses_ht_poste_4_5_2_1_1_item_3', 'depenses_ht_hd_sd_poste_4_5_4_1_1_item_1', 'depenses_ht_hd_poste_4_5_4_1_1_item_1', 'depenses_ht_poste_4_5_4_1_1_item_1', 'depenses_ht_hd_sd_poste_4_5_4_1_1_item_2', 'depenses_ht_hd_poste_4_5_4_1_1_item_2', 'depenses_ht_poste_4_5_4_1_1_item_2', 'depenses_ht_hd_sd_poste_6_1_1_item_1', 'depenses_ht_hd_poste_6_1_1_item_1', 'depenses_ht_poste_6_1_1_item_1', 'depenses_ht_hd_sd_poste_6_2_1_item_1', 'depenses_ht_hd_poste_6_2_1_item_1', 'depenses_ht_poste_6_2_1_item_1', 'depenses_ht_hd_sd_poste_6_2_1_item_2', 'depenses_ht_hd_poste_6_2_1_item_2', 'depenses_ht_poste_6_2_1_item_2', 'depenses_ht_hd_sd_poste_6_2_1_item_3', 'depenses_ht_hd_poste_6_2_1_item_3', 'depenses_ht_poste_6_2_1_item_3', 'depenses_ht_hd_sd_poste_6_2_1_item_4', 'depenses_ht_hd_poste_6_2_1_item_4', 'depenses_ht_poste_6_2_1_item_4', 'depenses_ht_hd_sd_poste_6_2_1_item_5', 'depenses_ht_hd_poste_6_2_1_item_5', 'depenses_ht_poste_6_2_1_item_5', 'depenses_ht_hd_sd_poste_6_2_1_item_6', 'depenses_ht_hd_poste_6_2_1_item_6', 'depenses_ht_poste_6_2_1_item_6', 'depenses_ht_hd_sd_poste_7_3_2_item_1', 'depenses_ht_hd_poste_7_3_2_item_1', 'depenses_ht_poste_7_3_2_item_1', 'depenses_ht_hd_sd_poste_9_5_3_2_2', 'depenses_ht_hd_poste_9_5_3_2_2', 'depenses_ht_poste_9_5_3_2_2', 'depenses_ht_hd_sd_poste_1_1_1_1_1_item_1', 'depenses_ht_hd_poste_1_1_1_1_1_item_1', 'depenses_ht_poste_1_1_1_1_1_item_1', 'depenses_ht_hd_sd_poste_1_1_1_1_1_item_2', 'depenses_ht_hd_poste_1_1_1_1_1_item_2', 'depenses_ht_poste_1_1_1_1_1_item_2', 'depenses_ht_hd_sd_poste_1_1_1_4_1_item_4', 'depenses_ht_hd_poste_1_1_1_4_1_item_4', 'depenses_ht_poste_1_1_1_4_1_item_4', 'depenses_ht_hd_sd_poste_1_1_1_4_1_item_5', 'depenses_ht_hd_poste_1_1_1_4_1_item_5', 'depenses_ht_poste_1_1_1_4_1_item_5', 'depenses_ht_hd_sd_poste_1_1_2_item_2', 'depenses_ht_hd_poste_1_1_2_item_2', 'depenses_ht_poste_1_1_2_item_2', 'depenses_ht_hd_sd_poste_1_1_2_item_5', 'depenses_ht_hd_poste_1_1_2_item_5', 'depenses_ht_poste_1_1_2_item_5', 'depenses_ht_hd_sd_poste_1_1_3_item_1', 'depenses_ht_hd_poste_1_1_3_item_1', 'depenses_ht_poste_1_1_3_item_1', 'depenses_ht_hd_sd_poste_1_1_3_item_2', 'depenses_ht_hd_poste_1_1_3_item_2', 'depenses_ht_poste_1_1_3_item_2', 'depenses_ht_hd_sd_poste_1_1_4_item_1', 'depenses_ht_hd_poste_1_1_4_item_1', 'depenses_ht_poste_1_1_4_item_1', 'depenses_ht_hd_sd_poste_1_1_4_item_2', 'depenses_ht_hd_poste_1_1_4_item_2', 'depenses_ht_poste_1_1_4_item_2', 'depenses_ht_hd_sd_poste_1_1_4_item_3', 'depenses_ht_hd_poste_1_1_4_item_3', 'depenses_ht_poste_1_1_4_item_3', 'depenses_ht_hd_sd_poste_1_1_4_item_4', 'depenses_ht_hd_poste_1_1_4_item_4', 'depenses_ht_poste_1_1_4_item_4', 'depenses_ht_hd_sd_poste_1_1_5_item_1', 'depenses_ht_hd_poste_1_1_5_item_1', 'depenses_ht_poste_1_1_5_item_1', 'depenses_ht_hd_sd_poste_1_1_5_item_2', 'depenses_ht_hd_poste_1_1_5_item_2', 'depenses_ht_poste_1_1_5_item_2', 'depenses_ht_hd_sd_poste_1_1_5_item_3', 'depenses_ht_hd_poste_1_1_5_item_3', 'depenses_ht_poste_1_1_5_item_3', 'depenses_ht_hd_sd_poste_1_1_5_item_4', 'depenses_ht_hd_poste_1_1_5_item_4', 'depenses_ht_poste_1_1_5_item_4', 'depenses_ht_hd_sd_poste_1_1_7_item_4', 'depenses_ht_hd_poste_1_1_7_item_4', 'depenses_ht_poste_1_1_7_item_4', 'depenses_ht_hd_sd_poste_1_1_8_item_1', 'depenses_ht_hd_poste_1_1_8_item_1', 'depenses_ht_poste_1_1_8_item_1', 'depenses_ht_hd_sd_poste_1_1_8_item_2', 'depenses_ht_hd_poste_1_1_8_item_2', 'depenses_ht_poste_1_1_8_item_2', 'depenses_ht_hd_sd_poste_1_1_8_item_3', 'depenses_ht_hd_poste_1_1_8_item_3', 'depenses_ht_poste_1_1_8_item_3', 'depenses_ht_hd_sd_poste_1_1_9_item_1', 'depenses_ht_hd_poste_1_1_9_item_1', 'depenses_ht_poste_1_1_9_item_1', 'depenses_ht_hd_sd_poste_1_1_9_item_2', 'depenses_ht_hd_poste_1_1_9_item_2', 'depenses_ht_poste_1_1_9_item_2', 'depenses_ht_hd_sd_poste_1_1_9_item_3', 'depenses_ht_hd_poste_1_1_9_item_3', 'depenses_ht_poste_1_1_9_item_3', 'depenses_ht_hd_sd_poste_1_1_9_item_4', 'depenses_ht_hd_poste_1_1_9_item_4', 'depenses_ht_poste_1_1_9_item_4', 'depenses_ht_hd_sd_poste_1_2_item_1', 'depenses_ht_hd_poste_1_2_item_1', 'depenses_ht_poste_1_2_item_1', 'depenses_ht_hd_sd_poste_1_2_item_2', 'depenses_ht_hd_poste_1_2_item_2', 'depenses_ht_poste_1_2_item_2', 'depenses_ht_hd_sd_poste_1_2_item_3', 'depenses_ht_hd_poste_1_2_item_3', 'depenses_ht_poste_1_2_item_3', 'depenses_ht_hd_sd_poste_1_2_item_6', 'depenses_ht_hd_poste_1_2_item_6', 'depenses_ht_poste_1_2_item_6', 'depenses_ht_hd_sd_poste_11_1_1_1_1', 'depenses_ht_hd_poste_11_1_1_1_1', 'depenses_ht_poste_11_1_1_1_1', 'depenses_ht_hd_sd_poste_12_1_3_item_1', 'depenses_ht_hd_poste_12_1_3_item_1', 'depenses_ht_poste_12_1_3_item_1', 'depenses_ht_hd_sd_poste_12_1_3_item_2', 'depenses_ht_hd_poste_12_1_3_item_2', 'depenses_ht_poste_12_1_3_item_2', 'depenses_ht_hd_sd_poste_12_3_1_1_item_1', 'depenses_ht_hd_poste_12_3_1_1_item_1', 'depenses_ht_poste_12_3_1_1_item_1', 'depenses_ht_hd_sd_poste_12_3_1_1_item_2', 'depenses_ht_hd_poste_12_3_1_1_item_2', 'depenses_ht_poste_12_3_1_1_item_2', 'depenses_ht_hd_sd_poste_2_1', 'depenses_ht_hd_poste_2_1', 'depenses_ht_poste_2_1', 'depenses_ht_hd_sd_poste_2_2', 'depenses_ht_hd_poste_2_2', 'depenses_ht_poste_2_2', 'depenses_ht_hd_sd_poste_3_1_2_item_2', 'depenses_ht_hd_poste_3_1_2_item_2', 'depenses_ht_poste_3_1_2_item_2', 'depenses_ht_hd_sd_poste_3_1_2_item_3', 'depenses_ht_hd_poste_3_1_2_item_3', 'depenses_ht_poste_3_1_2_item_3', 'depenses_ht_hd_sd_poste_3_1_2_item_4', 'depenses_ht_hd_poste_3_1_2_item_4', 'depenses_ht_poste_3_1_2_item_4', 'depenses_ht_hd_sd_poste_3_2_1', 'depenses_ht_hd_poste_3_2_1', 'depenses_ht_poste_3_2_1', 'depenses_ht_hd_sd_poste_4_1_1_item_2', 'depenses_ht_hd_poste_4_1_1_item_2', 'depenses_ht_poste_4_1_1_item_2', 'depenses_ht_hd_sd_poste_4_3', 'depenses_ht_hd_poste_4_3', 'depenses_ht_poste_4_3', 'depenses_ht_hd_sd_poste_4_3_1_1_2_item_1', 'depenses_ht_hd_poste_4_3_1_1_2_item_1', 'depenses_ht_poste_4_3_1_1_2_item_1', 'depenses_ht_hd_sd_poste_4_3_1_1_2_item_2', 'depenses_ht_hd_poste_4_3_1_1_2_item_2', 'depenses_ht_poste_4_3_1_1_2_item_2', 'depenses_ht_hd_sd_poste_4_3_2_2_1_item_1', 'depenses_ht_hd_poste_4_3_2_2_1_item_1', 'depenses_ht_poste_4_3_2_2_1_item_1', 'depenses_ht_hd_sd_poste_4_3_2_2_1_item_2', 'depenses_ht_hd_poste_4_3_2_2_1_item_2', 'depenses_ht_poste_4_3_2_2_1_item_2', 'depenses_ht_hd_sd_poste_4_4_1_1_1_item_1', 'depenses_ht_hd_poste_4_4_1_1_1_item_1', 'depenses_ht_poste_4_4_1_1_1_item_1', 'depenses_ht_hd_sd_poste_4_4_1_1_1_item_2', 'depenses_ht_hd_poste_4_4_1_1_1_item_2', 'depenses_ht_poste_4_4_1_1_1_item_2', 'depenses_ht_hd_sd_poste_4_4_1_1_1_item_3', 'depenses_ht_hd_poste_4_4_1_1_1_item_3', 'depenses_ht_poste_4_4_1_1_1_item_3', 'depenses_ht_hd_sd_poste_4_4_1_2_1', 'depenses_ht_hd_poste_4_4_1_2_1', 'depenses_ht_poste_4_4_1_2_1', 'depenses_ht_hd_sd_poste_4_5_1_1_1_item_1', 'depenses_ht_hd_poste_4_5_1_1_1_item_1', 'depenses_ht_poste_4_5_1_1_1_item_1', 'depenses_ht_hd_sd_poste_4_5_1_1_1_item_2', 'depenses_ht_hd_poste_4_5_1_1_1_item_2', 'depenses_ht_poste_4_5_1_1_1_item_2', 'depenses_ht_hd_sd_poste_4_5_2_1_1_item_1', 'depenses_ht_hd_poste_4_5_2_1_1_item_1', 'depenses_ht_poste_4_5_2_1_1_item_1', 'depenses_ht_hd_sd_poste_4_5_2_1_1_item_2', 'depenses_ht_hd_poste_4_5_2_1_1_item_2', 'depenses_ht_poste_4_5_2_1_1_item_2', 'depenses_ht_hd_sd_poste_4_5_2_1_1_item_4', 'depenses_ht_hd_poste_4_5_2_1_1_item_4', 'depenses_ht_poste_4_5_2_1_1_item_4', 'depenses_ht_hd_sd_poste_4_5_3_1_1', 'depenses_ht_hd_poste_4_5_3_1_1', 'depenses_ht_poste_4_5_3_1_1', 'depenses_ht_hd_sd_poste_5_1_item_1', 'depenses_ht_hd_poste_5_1_item_1', 'depenses_ht_poste_5_1_item_1', 'depenses_ht_hd_sd_poste_5_1_item_10', 'depenses_ht_hd_poste_5_1_item_10', 'depenses_ht_poste_5_1_item_10', 'depenses_ht_hd_sd_poste_5_1_item_11', 'depenses_ht_hd_poste_5_1_item_11', 'depenses_ht_poste_5_1_item_11', 'depenses_ht_hd_sd_poste_5_1_item_2', 'depenses_ht_hd_poste_5_1_item_2', 'depenses_ht_poste_5_1_item_2', 'depenses_ht_hd_sd_poste_5_1_item_3', 'depenses_ht_hd_poste_5_1_item_3', 'depenses_ht_poste_5_1_item_3', 'depenses_ht_hd_sd_poste_5_1_item_4', 'depenses_ht_hd_poste_5_1_item_4', 'depenses_ht_poste_5_1_item_4', 'depenses_ht_hd_sd_poste_5_1_item_5', 'depenses_ht_hd_poste_5_1_item_5', 'depenses_ht_poste_5_1_item_5', 'depenses_ht_hd_sd_poste_5_1_item_6', 'depenses_ht_hd_poste_5_1_item_6', 'depenses_ht_poste_5_1_item_6', 'depenses_ht_hd_sd_poste_5_1_item_7', 'depenses_ht_hd_poste_5_1_item_7', 'depenses_ht_poste_5_1_item_7', 'depenses_ht_hd_sd_poste_5_1_item_8', 'depenses_ht_hd_poste_5_1_item_8', 'depenses_ht_poste_5_1_item_8', 'depenses_ht_hd_sd_poste_5_1_item_9', 'depenses_ht_hd_poste_5_1_item_9', 'depenses_ht_poste_5_1_item_9', 'depenses_ht_hd_sd_poste_5_2_item_1', 'depenses_ht_hd_poste_5_2_item_1', 'depenses_ht_poste_5_2_item_1', 'depenses_ht_hd_sd_poste_5_2_item_2', 'depenses_ht_hd_poste_5_2_item_2', 'depenses_ht_poste_5_2_item_2', 'depenses_ht_hd_sd_poste_5_2_item_3', 'depenses_ht_hd_poste_5_2_item_3', 'depenses_ht_poste_5_2_item_3', 'depenses_ht_hd_sd_poste_5_3_1_item_1', 'depenses_ht_hd_poste_5_3_1_item_1', 'depenses_ht_poste_5_3_1_item_1', 'depenses_ht_hd_sd_poste_5_3_1_item_10', 'depenses_ht_hd_poste_5_3_1_item_10', 'depenses_ht_poste_5_3_1_item_10', 'depenses_ht_hd_sd_poste_5_3_1_item_11', 'depenses_ht_hd_poste_5_3_1_item_11', 'depenses_ht_poste_5_3_1_item_11', 'depenses_ht_hd_sd_poste_5_3_1_item_2', 'depenses_ht_hd_poste_5_3_1_item_2', 'depenses_ht_poste_5_3_1_item_2', 'depenses_ht_hd_sd_poste_5_3_1_item_3', 'depenses_ht_hd_poste_5_3_1_item_3', 'depenses_ht_poste_5_3_1_item_3', 'depenses_ht_hd_sd_poste_5_3_1_item_4', 'depenses_ht_hd_poste_5_3_1_item_4', 'depenses_ht_poste_5_3_1_item_4', 'depenses_ht_hd_sd_poste_5_3_1_item_5', 'depenses_ht_hd_poste_5_3_1_item_5', 'depenses_ht_poste_5_3_1_item_5', 'depenses_ht_hd_sd_poste_5_3_1_item_6', 'depenses_ht_hd_poste_5_3_1_item_6', 'depenses_ht_poste_5_3_1_item_6', 'depenses_ht_hd_sd_poste_5_3_1_item_7', 'depenses_ht_hd_poste_5_3_1_item_7', 'depenses_ht_poste_5_3_1_item_7', 'depenses_ht_hd_sd_poste_5_3_1_item_8', 'depenses_ht_hd_poste_5_3_1_item_8', 'depenses_ht_poste_5_3_1_item_8', 'depenses_ht_hd_sd_poste_5_3_1_item_9', 'depenses_ht_hd_poste_5_3_1_item_9', 'depenses_ht_poste_5_3_1_item_9', 'depenses_ht_hd_sd_poste_5_3_2_item_1', 'depenses_ht_hd_poste_5_3_2_item_1', 'depenses_ht_poste_5_3_2_item_1', 'depenses_ht_hd_sd_poste_5_3_2_item_2', 'depenses_ht_hd_poste_5_3_2_item_2', 'depenses_ht_poste_5_3_2_item_2', 'depenses_ht_hd_sd_poste_5_5_1_1_1', 'depenses_ht_hd_poste_5_5_1_1_1', 'depenses_ht_poste_5_5_1_1_1', 'depenses_ht_hd_sd_poste_5_5_1_item_1', 'depenses_ht_hd_poste_5_5_1_item_1', 'depenses_ht_poste_5_5_1_item_1', 'depenses_ht_hd_sd_poste_5_5_1_item_10', 'depenses_ht_hd_poste_5_5_1_item_10', 'depenses_ht_poste_5_5_1_item_10', 'depenses_ht_hd_sd_poste_5_5_1_item_11', 'depenses_ht_hd_poste_5_5_1_item_11', 'depenses_ht_poste_5_5_1_item_11', 'depenses_ht_hd_sd_poste_5_5_1_item_12', 'depenses_ht_hd_poste_5_5_1_item_12', 'depenses_ht_poste_5_5_1_item_12', 'depenses_ht_hd_sd_poste_5_5_1_item_13', 'depenses_ht_hd_poste_5_5_1_item_13', 'depenses_ht_poste_5_5_1_item_13', 'depenses_ht_hd_sd_poste_5_5_1_item_2', 'depenses_ht_hd_poste_5_5_1_item_2', 'depenses_ht_poste_5_5_1_item_2', 'depenses_ht_hd_sd_poste_5_5_1_item_3', 'depenses_ht_hd_poste_5_5_1_item_3', 'depenses_ht_poste_5_5_1_item_3', 'depenses_ht_hd_sd_poste_5_5_1_item_4', 'depenses_ht_hd_poste_5_5_1_item_4', 'depenses_ht_poste_5_5_1_item_4', 'depenses_ht_hd_sd_poste_5_5_1_item_5', 'depenses_ht_hd_poste_5_5_1_item_5', 'depenses_ht_poste_5_5_1_item_5', 'depenses_ht_hd_sd_poste_5_5_1_item_6', 'depenses_ht_hd_poste_5_5_1_item_6', 'depenses_ht_poste_5_5_1_item_6', 'depenses_ht_hd_sd_poste_5_5_1_item_7', 'depenses_ht_hd_poste_5_5_1_item_7', 'depenses_ht_poste_5_5_1_item_7', 'depenses_ht_hd_sd_poste_5_5_1_item_8', 'depenses_ht_hd_poste_5_5_1_item_8', 'depenses_ht_poste_5_5_1_item_8', 'depenses_ht_hd_sd_poste_5_5_1_item_9', 'depenses_ht_hd_poste_5_5_1_item_9', 'depenses_ht_poste_5_5_1_item_9', 'depenses_ht_hd_sd_poste_5_6_2_1_1', 'depenses_ht_hd_poste_5_6_2_1_1', 'depenses_ht_poste_5_6_2_1_1', 'depenses_ht_hd_sd_poste_6_1_1_item_2', 'depenses_ht_hd_poste_6_1_1_item_2', 'depenses_ht_poste_6_1_1_item_2', 'depenses_ht_hd_sd_poste_6_1_1_item_3', 'depenses_ht_hd_poste_6_1_1_item_3', 'depenses_ht_poste_6_1_1_item_3', 'depenses_ht_hd_sd_poste_7_1_1_item_1', 'depenses_ht_hd_poste_7_1_1_item_1', 'depenses_ht_poste_7_1_1_item_1', 'depenses_ht_hd_sd_poste_7_1_1_item_2', 'depenses_ht_hd_poste_7_1_1_item_2', 'depenses_ht_poste_7_1_1_item_2', 'depenses_ht_hd_sd_poste_7_1_1_item_3', 'depenses_ht_hd_poste_7_1_1_item_3', 'depenses_ht_poste_7_1_1_item_3', 'depenses_ht_hd_sd_poste_7_1_2_item_1', 'depenses_ht_hd_poste_7_1_2_item_1', 'depenses_ht_poste_7_1_2_item_1', 'depenses_ht_hd_sd_poste_7_1_2_item_2', 'depenses_ht_hd_poste_7_1_2_item_2', 'depenses_ht_poste_7_1_2_item_2', 'depenses_ht_hd_sd_poste_7_2_2', 'depenses_ht_hd_poste_7_2_2', 'depenses_ht_poste_7_2_2', 'depenses_ht_hd_sd_poste_7_2_3_item_1', 'depenses_ht_hd_poste_7_2_3_item_1', 'depenses_ht_poste_7_2_3_item_1', 'depenses_ht_hd_sd_poste_7_2_3_item_2', 'depenses_ht_hd_poste_7_2_3_item_2', 'depenses_ht_poste_7_2_3_item_2', 'depenses_ht_hd_sd_poste_7_3_2_item_2', 'depenses_ht_hd_poste_7_3_2_item_2', 'depenses_ht_poste_7_3_2_item_2', 'depenses_ht_hd_sd_poste_8_1_2_1_1_item_1', 'depenses_ht_hd_poste_8_1_2_1_1_item_1', 'depenses_ht_poste_8_1_2_1_1_item_1', 'depenses_ht_hd_sd_poste_8_1_2_1_1_item_2', 'depenses_ht_hd_poste_8_1_2_1_1_item_2', 'depenses_ht_poste_8_1_2_1_1_item_2', 'depenses_ht_hd_sd_poste_8_1_2_2_1_item_1', 'depenses_ht_hd_poste_8_1_2_2_1_item_1', 'depenses_ht_poste_8_1_2_2_1_item_1', 'depenses_ht_hd_sd_poste_8_1_2_2_1_item_2', 'depenses_ht_hd_poste_8_1_2_2_1_item_2', 'depenses_ht_poste_8_1_2_2_1_item_2', 'depenses_ht_hd_sd_poste_8_1_2_2_1_item_3', 'depenses_ht_hd_poste_8_1_2_2_1_item_3', 'depenses_ht_poste_8_1_2_2_1_item_3', 'depenses_ht_hd_sd_poste_8_1_2_2_1_item_4', 'depenses_ht_hd_poste_8_1_2_2_1_item_4', 'depenses_ht_poste_8_1_2_2_1_item_4', 'depenses_ht_hd_sd_poste_8_1_2_2_1_item_5', 'depenses_ht_hd_poste_8_1_2_2_1_item_5', 'depenses_ht_poste_8_1_2_2_1_item_5', 'depenses_ht_hd_sd_poste_9_1_1_1_2', 'depenses_ht_hd_poste_9_1_1_1_2', 'depenses_ht_poste_9_1_1_1_2', 'depenses_ht_hd_sd_poste_9_1_1_1_3', 'depenses_ht_hd_poste_9_1_1_1_3', 'depenses_ht_poste_9_1_1_1_3', 'depenses_ht_hd_sd_poste_9_1_1_1_4', 'depenses_ht_hd_poste_9_1_1_1_4', 'depenses_ht_poste_9_1_1_1_4', 'depenses_ht_hd_sd_poste_9_1_3_1_1', 'depenses_ht_hd_poste_9_1_3_1_1', 'depenses_ht_poste_9_1_3_1_1', 'depenses_ht_hd_sd_poste_9_2_1_1_2', 'depenses_ht_hd_poste_9_2_1_1_2', 'depenses_ht_poste_9_2_1_1_2', 'depenses_ht_hd_sd_poste_9_4', 'depenses_ht_hd_poste_9_4', 'depenses_ht_poste_9_4', 'depenses_ht_hd_sd_poste_9_4_2_3_1_item_1', 'depenses_ht_hd_poste_9_4_2_3_1_item_1', 'depenses_ht_poste_9_4_2_3_1_item_1', 'depenses_ht_hd_sd_poste_9_4_2_3_1_item_2', 'depenses_ht_hd_poste_9_4_2_3_1_item_2', 'depenses_ht_poste_9_4_2_3_1_item_2', 'depenses_ht_hd_sd_poste_9_5_1_1_3', 'depenses_ht_hd_poste_9_5_1_1_3', 'depenses_ht_poste_9_5_1_1_3', 'depenses_ht_tva_exonere', 'depenses_ht_tva_taux_normal', 'depenses_ht_hd_sd_droits_douane_consommation_finale', 'depenses_ht_hd_sd_droits_douane_consommation_intermediaire', 'depenses_ht_hd_sd_droits_douane_equipements', 'depenses_ht_hd_sd_droits_douane_exonere', 'tva_taux_normal', 'tva', 'droits_douane_consommation_finale', 'droits_douane_consommation_intermediaire', 'droits_douane_equipements', 'droits_douane'])"
      ]
     },
     "execution_count": 19,
     "metadata": {},
     "output_type": "execute_result"
    }
   ],
   "source": [
    "survey_scenario.tax_benefit_system.variables.keys()"
   ]
  }
 ],
 "metadata": {
  "kernelspec": {
   "display_name": "Python 3",
   "language": "python",
   "name": "python3"
  },
  "language_info": {
   "codemirror_mode": {
    "name": "ipython",
    "version": 3
   },
   "file_extension": ".py",
   "mimetype": "text/x-python",
   "name": "python",
   "nbconvert_exporter": "python",
   "pygments_lexer": "ipython3",
   "version": "3.7.3"
  }
 },
 "nbformat": 4,
 "nbformat_minor": 4
}
